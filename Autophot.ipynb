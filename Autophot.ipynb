{
 "cells": [
  {
   "cell_type": "code",
   "execution_count": null,
   "metadata": {},
   "outputs": [],
   "source": [
    "#This notebook contains the steps & functions needed to use autophot.\n",
    "#It is assumed that the files were sorted as in sort_observations.ipynb,\n",
    "#and that the reduced images end with 'redCCD4.fits' (as CCD4 usually contains the target)\n",
    "\n",
    "#This notebook should work, but hasn't been fully tested yet"
   ]
  },
  {
   "cell_type": "code",
   "execution_count": 1,
   "metadata": {},
   "outputs": [],
   "source": [
    "#Import the needed functions\n",
    "from astropy.io import fits\n",
    "from pathlib import Path\n",
    "import shutil\n",
    "import pandas as pd\n",
    "import numpy as np\n",
    "import autophot\n",
    "from autophot.prep_input import load\n",
    "from autophot.autophot_main import run_automatic_autophot"
   ]
  },
  {
   "cell_type": "code",
   "execution_count": 2,
   "metadata": {},
   "outputs": [],
   "source": [
    "#Autophot works best with a different directory structure, so lets start by changing this\n",
    "#We will make a directory called autophot, which contains a directory for each target\n",
    "#To keep track of the filters, the filter names will be appended to the image names\n",
    "\n",
    "#Work again from the original location of the images\n",
    "#(easier when connecting these parts later on)\n",
    "down_dir = Path('/Users/terwelj/Documents/VirtualMachine/Observing_ING/test_pipeline')\n",
    "\n",
    "#The images in imlist should be the ones that need photometry being performed on\n",
    "imlist = sorted(down_dir.glob('*/*/science/*redCCD4.fits'))"
   ]
  },
  {
   "cell_type": "code",
   "execution_count": 10,
   "metadata": {},
   "outputs": [
    {
     "name": "stdout",
     "output_type": "stream",
     "text": [
      "r1639492_B.fits r1639492r\n"
     ]
    }
   ],
   "source": [
    "#A function that moves the file given to its new location\n",
    "def move_to_autophot_loc(path, autophot_loc):\n",
    "    #Determine the new location & name\n",
    "    newname = path.name[:-12]+'_'+path.parent.parent.name+'.fits'\n",
    "    obj = path.name.split('_')[0]\n",
    "    target_loc = autophot_path/obj\n",
    "    #Make sure the directory exists, but does not contain the file in question\n",
    "    target_loc.mkdir(parents=True, exist_ok=True)\n",
    "    file_list = sorted(target_loc.glob(newname))\n",
    "    if len(file_list) != 0:\n",
    "        print('ERROR: file already exists, skipping this')\n",
    "        print(f'loc: {target_loc} file: {newname}')\n",
    "        return\n",
    "    #Move the file\n",
    "    shutil.move(path, target_loc/newname)\n",
    "    return\n",
    "\n",
    "for im in imlist:\n",
    "    move_to_autophot_loc(im, down_dir/'autophot')"
   ]
  },
  {
   "cell_type": "code",
   "execution_count": 11,
   "metadata": {},
   "outputs": [
    {
     "data": {
      "text/plain": [
       "[PosixPath('/Users/terwelj/Documents/VirtualMachine/Observing_ING/autophot/newtest/at2022acuo'),\n",
       " PosixPath('/Users/terwelj/Documents/VirtualMachine/Observing_ING/autophot/newtest/at2022acsd'),\n",
       " PosixPath('/Users/terwelj/Documents/VirtualMachine/Observing_ING/autophot/newtest/at2022acru'),\n",
       " PosixPath('/Users/terwelj/Documents/VirtualMachine/Observing_ING/autophot/newtest/ZTF22absygcs'),\n",
       " PosixPath('/Users/terwelj/Documents/VirtualMachine/Observing_ING/autophot/newtest/ZTF22aadgsdi'),\n",
       " PosixPath('/Users/terwelj/Documents/VirtualMachine/Observing_ING/autophot/newtest/at2022acsf'),\n",
       " PosixPath('/Users/terwelj/Documents/VirtualMachine/Observing_ING/autophot/newtest/ZTF22ablxcrh'),\n",
       " PosixPath('/Users/terwelj/Documents/VirtualMachine/Observing_ING/autophot/newtest/at2022acsz'),\n",
       " PosixPath('/Users/terwelj/Documents/VirtualMachine/Observing_ING/autophot/newtest/ZTF22abqxkhd'),\n",
       " PosixPath('/Users/terwelj/Documents/VirtualMachine/Observing_ING/autophot/newtest/at2022acsu'),\n",
       " PosixPath('/Users/terwelj/Documents/VirtualMachine/Observing_ING/autophot/newtest/at2022acpz')]"
      ]
     },
     "execution_count": 11,
     "metadata": {},
     "output_type": "execute_result"
    }
   ],
   "source": [
    "#The next step is using AutoPHOT. Since sloan g, r, i are the main used filters,\n",
    "#this part is configured to use SDSS to find catalogue stars, and use pan_starrs as a backup\n",
    "\n",
    "#First make a list of directories on which to use autophot\n",
    "dirlist = [i for i in (down_dir/'autophot').glob('*') if i.is_dir()]\n",
    "#For the test:\n",
    "dirlist = [i for i in (down_dir.parent/'autophot/newtest').glob('*') if i.is_dir()]\n",
    "dirlist"
   ]
  },
  {
   "cell_type": "code",
   "execution_count": 53,
   "metadata": {},
   "outputs": [],
   "source": [
    "#A function that uses AutoPHOT with the given parameters\n",
    "def get_photom(imdir, wdir, ra, dec, catalogs = ['sdss', 'pan_starrs'], do_ap_phot=True,\n",
    "               catalog_mode='backup', solve_field_loc='/usr/local/bin/solve-field',\n",
    "               remove_wcs=True, custom_cat=None):\n",
    "    autophot_input = load()\n",
    "    #Set the folder of fits images & working directory locations (loc of telescope.yml)\n",
    "    autophot_input['fits_dir'] = imdir\n",
    "    autophot_input['wdir'] = wdir\n",
    "    #Set the target location in degrees\n",
    "    autophot_input['target_ra'] = ra\n",
    "    autophot_input['target_dec'] = dec\n",
    "    #Update location of solve-field\n",
    "    autophot_input['wcs']['solve_field_exe_loc'] = solve_field_loc\n",
    "    #Temove any wcs that pre-existing on the images - this is recommended\n",
    "    autophot_input['wcs']['remove_wcs'] = remove_wcs\n",
    "    #Apeture or PSF photometry\n",
    "    autophot_input['photometry']['do_ap_phot'] = do_ap_phot\n",
    "    #Next part assumes imdir is a path variable --> make it so\n",
    "    imdir = Path(imdir)\n",
    "    #catalog_mode: all = use all catalogs\n",
    "    #backup = use the next catalog in the list if photometry failed for some images\n",
    "    for cat in catalogs:\n",
    "        autophot_input['catalog']['use_catalog'] = cat\n",
    "        if cat == 'custom':\n",
    "            autophot_input['catalog']['catalog_custom_fpath'] = custom_cat\n",
    "        #Remove FailedFiles.dat if it exists\n",
    "        if (imdir.parent/(imdir.name+'_REDUCED/FailedFiles.dat')).is_file():\n",
    "            (imdir.parent/(imdir.name+'_REDUCED/FailedFiles.dat')).unlink()\n",
    "        #Run AutoPHOT\n",
    "        try:\n",
    "            run_automatic_autophot(autophot_input)\n",
    "        except:\n",
    "            print(f'An unexpected error occured using catalogue {cat}, going to the next one')\n",
    "            continue\n",
    "        if catalog_mode == 'backup':\n",
    "            #If FailedFits.dat doesn't exists: everything succeeded, and function can exit\n",
    "            if not (imdir.parent/(imdir.name+'_REDUCED/FailedFiles.dat')).is_file():\n",
    "                print('Photometry successfully extracted from all images')\n",
    "                break\n",
    "        elif catalog_mode != 'all':\n",
    "            print(f'Catalog mode {catalog_mode} not understood, ',\n",
    "                  f'stopping after catalog {cat}')\n",
    "            break\n",
    "    return"
   ]
  },
  {
   "cell_type": "code",
   "execution_count": 50,
   "metadata": {
    "scrolled": true
   },
   "outputs": [
    {
     "name": "stderr",
     "output_type": "stream",
     "text": [
      "\n",
      "User instrument database: /Users/terwelj/Documents/VirtualMachine/Observing_ING/autophot/newtest/telescope.yml\n",
      "\n",
      "Number of files: 3\n",
      "\n",
      "1 telescope(s) detected - checking header keywords\n",
      "\n"
     ]
    },
    {
     "name": "stdout",
     "output_type": "stream",
     "text": [
      "\n",
      "\n",
      "Running AutoPHOT on at2022acuo, ra = 350.73048, dec = 21.03755\n",
      "\n",
      "\n",
      "Default input loaded in from: \n",
      "/opt/anaconda3/envs/autophot/lib/python3.7/site-packages/autophot/databases/default_input.yml\n",
      "\n",
      "        _       _       ___ _  _    _____\n",
      "       /_\\ _  _| |_ ___| _ \\ || |__|_   _|\n",
      "      / _ \\ || |  _/ _ \\  _/ __ / _ \\| |\n",
      "     /_/ \\_\\_,_|\\__\\___/_| |_||_\\___/|_|\n",
      "    \n",
      "     ---------------------------------------\n",
      "        Automated Photometry of Transients\n",
      "        S. J. Brennan et al. 2021 \n",
      "        Please provide feedback/bugs to:\n",
      "        Email: sean.brennan2@ucdconnect.ie\n",
      "    ---------------------------------------\n",
      "Directory of fits file: /Users/terwelj/Documents/VirtualMachine/Observing_ING/autophot/newtest/at2022acuo\n",
      "Found Telescopes:\n",
      "\n",
      " - INT\n",
      "\n",
      "-> Telescope check complete\n",
      "\n",
      "Checking Filter keywords and database\n",
      "\n",
      "-> Filter check complete\n"
     ]
    },
    {
     "name": "stderr",
     "output_type": "stream",
     "text": [
      "File: r1645960redCCD4_APT.fits - PID: 8408\n",
      "Start Time: 2023-01-03 14:20:23.812808\n",
      "Filter keyoward used: WFFBAND\n",
      "Telescope: INT\n",
      "Filter: i\n",
      "MJD: 59926.954\n",
      "Date of Observation : 2022-12-13\n",
      "Read Noise: 5.8 [e^- /pixel]\n",
      "GAIN: 2.9 [e^- /count]\n",
      "Exposure time: 20 [s] \n",
      "Detecting/removing cosmic ray sources\n"
     ]
    },
    {
     "name": "stdout",
     "output_type": "stream",
     "text": [
      "\n",
      "Checking Filter information for each image\n",
      "\n",
      "Files removed - Wrong Image Type: 0\n",
      "\n",
      "Files removed - No/Wrong filter(s): 0\n",
      "Filters not included: []\n",
      "\n",
      "\n",
      "Files removed: 0\n",
      "\n",
      "+-----------+\n",
      "|File: 1 / 3|\n",
      "+-----------+\n",
      "\n",
      "Starting Astroscrappy ... "
     ]
    },
    {
     "name": "stderr",
     "output_type": "stream",
     "text": [
      "Contaminated pixels with Cosmic rays removed: 27859\n",
      "Cosmic rays removed - image updated\n",
      "WARNING: FITSFixedWarning: RADECSYS= 'FK5 ' / mean place new (after the 1976 IAU) system \n",
      "the RADECSYS keyword is deprecated, use RADESYSa. [astropy.wcs.wcs]\n",
      "FITSFixedWarning: RADECSYS= 'FK5 ' / mean place new (after the 1976 IAU) system \n",
      "the RADECSYS keyword is deprecated, use RADESYSa.\n",
      "WARNING: FITSFixedWarning: PROJP1 = 1.00000000 / Projection coefficient for primary WCS \n",
      "the PROJPn keyword is deprecated, use PVi_ma. [astropy.wcs.wcs]\n",
      "FITSFixedWarning: PROJP1 = 1.00000000 / Projection coefficient for primary WCS \n",
      "the PROJPn keyword is deprecated, use PVi_ma.\n",
      "WARNING: FITSFixedWarning: PROJP3 = 0.00000000 / Projection coefficient for primary WCS \n",
      "the PROJPn keyword is deprecated, use PVi_ma. [astropy.wcs.wcs]\n",
      "FITSFixedWarning: PROJP3 = 0.00000000 / Projection coefficient for primary WCS \n",
      "the PROJPn keyword is deprecated, use PVi_ma.\n",
      "WARNING: FITSFixedWarning: 'datfix' made the change 'Invalid parameter values: MJD-OBS and DATE-OBS are inconsistent.\n",
      "Changed DATE-OBS from '2022-12-13        ' to '2022-12-13T00:00:00.0''. [astropy.wcs.wcs]\n",
      "FITSFixedWarning: 'datfix' made the change 'Invalid parameter values: MJD-OBS and DATE-OBS are inconsistent.\n",
      "Changed DATE-OBS from '2022-12-13        ' to '2022-12-13T00:00:00.0''.\n",
      "\n",
      "Performing Astrometry.net\n",
      "Removing any pre-existing WCS keys \n",
      "No WCS values found - attempting to solve field\n",
      "ASTROMETRY started...\n",
      "ASTROMETRY finished: 3s\n",
      "Updating WCS keys with new values\n",
      "WCS saved to new file\n",
      "\n",
      "Searching for FWHM\n",
      "Using Gaussian Profile for fitting\n"
     ]
    },
    {
     "name": "stdout",
     "output_type": "stream",
     "text": [
      "\n",
      "+-------------------------------+\n",
      "|Finding Full Width Half Maximum|\n",
      "+-------------------------------+\n",
      "\n"
     ]
    },
    {
     "name": "stderr",
     "output_type": "stream",
     "text": [
      "\n",
      "Number of sources before cleaning [ 25.0 sigma ]: 25 \n",
      "Updating search FWHM value\n"
     ]
    },
    {
     "name": "stdout",
     "output_type": "stream",
     "text": [
      "Updated guess for FWHM: 6.4 pixels \n"
     ]
    },
    {
     "name": "stderr",
     "output_type": "stream",
     "text": [
      "\n",
      "Number of sources before cleaning [ 25.0 sigma ]: 120 \n",
      "Removed 5 sources near boundary\n",
      "Removed 4 crowded sources\n"
     ]
    },
    {
     "name": "stdout",
     "output_type": "stream",
     "text": [
      "Fitting source for FWHM: 111/111  "
     ]
    },
    {
     "name": "stderr",
     "output_type": "stream",
     "text": [
      "Removed 2 saturated sources\n",
      "WARNING: Input data contains invalid values (NaNs or infs), which were automatically clipped. [astropy.stats.sigma_clipping]\n",
      "Input data contains invalid values (NaNs or infs), which were automatically clipped.\n",
      "Removed 5 FWHM outliers\n",
      "WARNING: Input data contains invalid values (NaNs or infs), which were automatically clipped. [astropy.stats.sigma_clipping]\n",
      "Input data contains invalid values (NaNs or infs), which were automatically clipped.\n",
      "Removed 16 median outliers\n",
      "Useable sources found [ 25 sigma ]: 111\n",
      "Removes 2 sources within minimum seperation [ 28 pixel ]\n",
      "\n",
      "FWHM: 5.823 +/- 0.417 [ pixels ]\n",
      "\n",
      "Seeing: 1.931 [ arcsec ]\n",
      "Aperture size: 9.9 pixels\n",
      "Aperture correction: -0.054 +/- 0.021 [ mag ]\n",
      "WARNING: FITSFixedWarning: 'datfix' made the change 'Invalid parameter values: MJD-OBS and DATE-OBS are inconsistent.\n",
      "Changed DATE-OBS from '2022-12-13        ' to '2022-12-13T00:00:00.0''. [astropy.wcs.wcs]\n",
      "FITSFixedWarning: 'datfix' made the change 'Invalid parameter values: MJD-OBS and DATE-OBS are inconsistent.\n",
      "Changed DATE-OBS from '2022-12-13        ' to '2022-12-13T00:00:00.0''.\n",
      "Searching for new catalog [sdss] for target_ra_351_dec_21 \n"
     ]
    },
    {
     "name": "stdout",
     "output_type": "stream",
     "text": [
      "\n",
      "+----------------------------------------------+\n",
      "|Searching for catalog for target_ra_351_dec_21|\n",
      "+----------------------------------------------+\n",
      "\n"
     ]
    },
    {
     "name": "stderr",
     "output_type": "stream",
     "text": [
      "Catalog length: 33\n",
      "Removed 23 sources fainter than cutoff [20 mag]\n",
      "Using Gaussian Profile for fitting\n",
      "Catalog Length: 4\n",
      "\n",
      "Median offset: 2.2 [ pixels ] / 0.7 [ arcsec ]\n",
      "Residual table updated: 1 / 10 \n",
      "\tSNR: 798 :: FWHM fitted 5.737\n",
      "Residual table updated: 2 / 10 \n",
      "\tSNR: 771 :: FWHM fitted 5.854\n"
     ]
    },
    {
     "name": "stdout",
     "output_type": "stream",
     "text": [
      "\n",
      "+---------------------------------+\n",
      "|Matching catalog sources to image|\n",
      "+---------------------------------+\n",
      "\n",
      "Removed 6 sources too close to boundary or off image\n",
      "\r",
      "Matching catalog to image: 1 / 4 :: Useful sources 1 / 4 \r",
      "Matching catalog to image: 2 / 4 :: Useful sources 2 / 4 \r",
      "Matching catalog to image: 3 / 4 :: Useful sources 3 / 4 \r",
      "Matching catalog to image: 4 / 4 :: Useful sources 4 / 4   .. done\n",
      "\n",
      "Broken cutouts: 0\n",
      "Not in correct location: 0\n",
      "Not detected: 1\n",
      "Saturated: 0\n",
      "Error: 0\n",
      "\n",
      "\n",
      "+-------------------------------------------+\n",
      "|Building PSF model using stars in the field|\n",
      "+-------------------------------------------+\n",
      "\n"
     ]
    },
    {
     "name": "stderr",
     "output_type": "stream",
     "text": [
      "Residual table updated: 3 / 10 \n",
      "\tSNR: 758 :: FWHM fitted 5.706\n",
      "Residual table updated: 4 / 10 \n",
      "\tSNR: 707 :: FWHM fitted 6.024\n",
      "Residual table updated: 5 / 10 \n",
      "\tSNR: 697 :: FWHM fitted 5.711\n",
      "Residual table updated: 6 / 10 \n",
      "\tSNR: 695 :: FWHM fitted 5.844\n",
      "Residual table updated: 7 / 10 \n",
      "\tSNR: 696 :: FWHM fitted 6.073\n",
      "Residual table updated: 8 / 10 \n",
      "\tSNR: 695 :: FWHM fitted 5.988\n",
      "Residual table updated: 9 / 10 \n",
      "\tSNR: 692 :: FWHM fitted 5.728\n",
      "Residual table updated: 10 / 10 \n",
      "\tSNR: 627 :: FWHM fitted 5.801\n",
      "\n",
      "PSF built using 10 sources\n",
      "\n",
      "Unity PSF: 42.2 [counts] \n",
      "Unity Residual table: 4.5 [counts] \n",
      "Using Aperture Photometry on sequence Stars \n",
      "No PSF sources fitted\n",
      "NaN values detected in your input data or the output of your objective/model function - fitting algorithms cannot handle this! Please read https://lmfit.github.io/lmfit-py/faq.html#i-get-errors-from-nan-in-my-fit-what-can-i-do for more information.\n",
      "Traceback (most recent call last):\n",
      "  File \"/opt/anaconda3/envs/autophot/lib/python3.7/site-packages/autophot/packages/zeropoint.py\", line 228, in get_zeropoint\n",
      "    x=zp_inst_mag_clip)\n",
      "  File \"/opt/anaconda3/envs/autophot/lib/python3.7/site-packages/lmfit/model.py\", line 1050, in fit\n",
      "    output.fit(data=data, weights=weights)\n",
      "  File \"/opt/anaconda3/envs/autophot/lib/python3.7/site-packages/lmfit/model.py\", line 1405, in fit\n",
      "    _ret = self.minimize(method=self.method)\n",
      "  File \"/opt/anaconda3/envs/autophot/lib/python3.7/site-packages/lmfit/minimizer.py\", line 2352, in minimize\n",
      "    return function(**kwargs)\n",
      "  File \"/opt/anaconda3/envs/autophot/lib/python3.7/site-packages/lmfit/minimizer.py\", line 1689, in leastsq\n",
      "    lsout = scipy_leastsq(self.__residual, variables, **lskws)\n",
      "  File \"/opt/anaconda3/envs/autophot/lib/python3.7/site-packages/scipy/optimize/minpack.py\", line 410, in leastsq\n",
      "    shape, dtype = _check_func('leastsq', 'func', func, x0, args, n)\n",
      "  File \"/opt/anaconda3/envs/autophot/lib/python3.7/site-packages/scipy/optimize/minpack.py\", line 24, in _check_func\n",
      "    res = atleast_1d(thefunc(*((x0[:numinputs],) + args)))\n",
      "  File \"/opt/anaconda3/envs/autophot/lib/python3.7/site-packages/lmfit/minimizer.py\", line 602, in __residual\n",
      "    nan_policy=self.nan_policy)\n",
      "  File \"/opt/anaconda3/envs/autophot/lib/python3.7/site-packages/lmfit/minimizer.py\", line 2436, in _nan_policy\n",
      "    raise ValueError(msg)\n",
      "ValueError: NaN values detected in your input data or the output of your objective/model function - fitting algorithms cannot handle this! Please read https://lmfit.github.io/lmfit-py/faq.html#i-get-errors-from-nan-in-my-fit-what-can-i-do for more information.\n",
      "Zeropoint not Found\n"
     ]
    },
    {
     "name": "stdout",
     "output_type": "stream",
     "text": [
      "PSF model saved as: /Users/terwelj/Documents/VirtualMachine/Observing_ING/autophot/newtest/at2022acuo_REDUCED/r1645960redCCD4/PSF_model_r1645960redCCD4_APT.fits\n",
      "\n",
      "+-------------------+\n",
      "|Measuring PSF model|\n",
      "+-------------------+\n",
      "\n",
      "\n",
      "+-----------------------+\n",
      "|Finding Zeropoint value|\n",
      "+-----------------------+\n",
      "\n",
      "Checking for suitable catalog sources\n",
      "Removed 1 sources lower than SNR of 25.0\n"
     ]
    },
    {
     "name": "stderr",
     "output_type": "stream",
     "text": [
      "/opt/anaconda3/envs/autophot/lib/python3.7/site-packages/matplotlib/backends/backend_pdf.py:1649: DeprecationWarning: NONE is deprecated and will be removed in Pillow 10 (2023-07-01). Use Resampling.NEAREST or Dither.NONE instead.\n",
      "  img = img.convert(mode='P', dither=Image.NONE,\n",
      "/opt/anaconda3/envs/autophot/lib/python3.7/site-packages/matplotlib/backends/backend_pdf.py:1650: DeprecationWarning: ADAPTIVE is deprecated and will be removed in Pillow 10 (2023-07-01). Use Palette.ADAPTIVE instead.\n",
      "  palette=Image.ADAPTIVE, colors=num_colors)\n",
      "'i'\n",
      "Traceback (most recent call last):\n",
      "  File \"/opt/anaconda3/envs/autophot/lib/python3.7/site-packages/pandas/core/indexes/base.py\", line 3361, in get_loc\n",
      "    return self._engine.get_loc(casted_key)\n",
      "  File \"pandas/_libs/index.pyx\", line 76, in pandas._libs.index.IndexEngine.get_loc\n",
      "  File \"pandas/_libs/index.pyx\", line 108, in pandas._libs.index.IndexEngine.get_loc\n",
      "  File \"pandas/_libs/hashtable_class_helper.pxi\", line 5198, in pandas._libs.hashtable.PyObjectHashTable.get_item\n",
      "  File \"pandas/_libs/hashtable_class_helper.pxi\", line 5206, in pandas._libs.hashtable.PyObjectHashTable.get_item\n",
      "KeyError: 'i'\n",
      "\n",
      "The above exception was the direct cause of the following exception:\n",
      "\n",
      "Traceback (most recent call last):\n",
      "  File \"/opt/anaconda3/envs/autophot/lib/python3.7/site-packages/autophot/packages/main.py\", line 1696, in main\n",
      "    y =  c_mag_lim[str(use_filter)].values - c_mag_lim[str('cat_'+use_filter)].values\n",
      "  File \"/opt/anaconda3/envs/autophot/lib/python3.7/site-packages/pandas/core/frame.py\", line 3458, in __getitem__\n",
      "    indexer = self.columns.get_loc(key)\n",
      "  File \"/opt/anaconda3/envs/autophot/lib/python3.7/site-packages/pandas/core/indexes/base.py\", line 3363, in get_loc\n",
      "    raise KeyError(key) from err\n",
      "KeyError: 'i'\n",
      "Failure: r1645960redCCD4_APT.fits - PID: 8408\n",
      "File: r1645961redCCD4_APT.fits - PID: 8408\n",
      "Start Time: 2023-01-03 14:20:47.796185\n",
      "Filter keyoward used: WFFBAND\n",
      "Telescope: INT\n",
      "Filter: r\n",
      "MJD: 59926.955\n",
      "Date of Observation : 2022-12-13\n",
      "Read Noise: 5.8 [e^- /pixel]\n",
      "GAIN: 2.9 [e^- /count]\n",
      "Exposure time: 20 [s] \n",
      "Detecting/removing cosmic ray sources\n"
     ]
    },
    {
     "name": "stdout",
     "output_type": "stream",
     "text": [
      "\n",
      "+-----------+\n",
      "|File: 2 / 3|\n",
      "+-----------+\n",
      "\n",
      "Starting Astroscrappy ... "
     ]
    },
    {
     "name": "stderr",
     "output_type": "stream",
     "text": [
      "Contaminated pixels with Cosmic rays removed: 27852\n",
      "Cosmic rays removed - image updated\n",
      "WARNING: FITSFixedWarning: RADECSYS= 'FK5 ' / mean place new (after the 1976 IAU) system \n",
      "the RADECSYS keyword is deprecated, use RADESYSa. [astropy.wcs.wcs]\n",
      "FITSFixedWarning: RADECSYS= 'FK5 ' / mean place new (after the 1976 IAU) system \n",
      "the RADECSYS keyword is deprecated, use RADESYSa.\n",
      "WARNING: FITSFixedWarning: PROJP1 = 1.00000000 / Projection coefficient for primary WCS \n",
      "the PROJPn keyword is deprecated, use PVi_ma. [astropy.wcs.wcs]\n",
      "FITSFixedWarning: PROJP1 = 1.00000000 / Projection coefficient for primary WCS \n",
      "the PROJPn keyword is deprecated, use PVi_ma.\n",
      "WARNING: FITSFixedWarning: PROJP3 = 0.00000000 / Projection coefficient for primary WCS \n",
      "the PROJPn keyword is deprecated, use PVi_ma. [astropy.wcs.wcs]\n",
      "FITSFixedWarning: PROJP3 = 0.00000000 / Projection coefficient for primary WCS \n",
      "the PROJPn keyword is deprecated, use PVi_ma.\n",
      "WARNING: FITSFixedWarning: 'datfix' made the change 'Invalid parameter values: MJD-OBS and DATE-OBS are inconsistent.\n",
      "Changed DATE-OBS from '2022-12-13        ' to '2022-12-13T00:00:00.0''. [astropy.wcs.wcs]\n",
      "FITSFixedWarning: 'datfix' made the change 'Invalid parameter values: MJD-OBS and DATE-OBS are inconsistent.\n",
      "Changed DATE-OBS from '2022-12-13        ' to '2022-12-13T00:00:00.0''.\n",
      "\n",
      "Performing Astrometry.net\n",
      "Removing any pre-existing WCS keys \n",
      "No WCS values found - attempting to solve field\n",
      "ASTROMETRY started...\n",
      "ASTROMETRY finished: 3s\n",
      "Updating WCS keys with new values\n",
      "WCS saved to new file\n",
      "\n",
      "Searching for FWHM\n",
      "Using Gaussian Profile for fitting\n"
     ]
    },
    {
     "name": "stdout",
     "output_type": "stream",
     "text": [
      "\n",
      "+-------------------------------+\n",
      "|Finding Full Width Half Maximum|\n",
      "+-------------------------------+\n",
      "\n"
     ]
    },
    {
     "name": "stderr",
     "output_type": "stream",
     "text": [
      "\n",
      "Number of sources before cleaning [ 25.0 sigma ]: 25 \n",
      "Updating search FWHM value\n"
     ]
    },
    {
     "name": "stdout",
     "output_type": "stream",
     "text": [
      "Updated guess for FWHM: 7.1 pixels \n"
     ]
    },
    {
     "name": "stderr",
     "output_type": "stream",
     "text": [
      "\n",
      "Number of sources before cleaning [ 25.0 sigma ]: 120 \n",
      "Removed 4 sources near boundary\n",
      "Removed 4 crowded sources\n"
     ]
    },
    {
     "name": "stdout",
     "output_type": "stream",
     "text": [
      "Fitting source for FWHM: 112/112  "
     ]
    },
    {
     "name": "stderr",
     "output_type": "stream",
     "text": [
      "Removed 2 saturated sources\n",
      "WARNING: Input data contains invalid values (NaNs or infs), which were automatically clipped. [astropy.stats.sigma_clipping]\n",
      "Input data contains invalid values (NaNs or infs), which were automatically clipped.\n",
      "Removed 4 FWHM outliers\n",
      "WARNING: Input data contains invalid values (NaNs or infs), which were automatically clipped. [astropy.stats.sigma_clipping]\n",
      "Input data contains invalid values (NaNs or infs), which were automatically clipped.\n",
      "Removed 24 median outliers\n",
      "Useable sources found [ 25 sigma ]: 112\n",
      "Removes 2 sources within minimum seperation [ 32 pixel ]\n",
      "\n",
      "FWHM: 6.560 +/- 0.436 [ pixels ]\n",
      "\n",
      "Seeing: 2.175 [ arcsec ]\n",
      "Aperture size: 11.2 pixels\n",
      "Aperture correction: -0.037 +/- 0.014 [ mag ]\n",
      "WARNING: FITSFixedWarning: 'datfix' made the change 'Invalid parameter values: MJD-OBS and DATE-OBS are inconsistent.\n",
      "Changed DATE-OBS from '2022-12-13        ' to '2022-12-13T00:00:00.0''. [astropy.wcs.wcs]\n",
      "FITSFixedWarning: 'datfix' made the change 'Invalid parameter values: MJD-OBS and DATE-OBS are inconsistent.\n",
      "Changed DATE-OBS from '2022-12-13        ' to '2022-12-13T00:00:00.0''.\n",
      "Catalog found for target_ra_351_dec_21\n",
      "Catalog: SDSS \n",
      "File: target_ra_351_dec_21_r_0.25\n",
      "Catalog length: 33\n",
      "Removed 28 sources fainter than cutoff [20 mag]\n",
      "Using Gaussian Profile for fitting\n",
      "Catalog Length: 2\n",
      "\n",
      "Median offset: 1.7 [ pixels ] / 0.6 [ arcsec ]\n",
      "Residual table updated: 1 / 10 \n",
      "\tSNR: 806 :: FWHM fitted 7.150\n"
     ]
    },
    {
     "name": "stdout",
     "output_type": "stream",
     "text": [
      "\n",
      "+----------------------------------------------+\n",
      "|Searching for catalog for target_ra_351_dec_21|\n",
      "+----------------------------------------------+\n",
      "\n",
      "\n",
      "+---------------------------------+\n",
      "|Matching catalog sources to image|\n",
      "+---------------------------------+\n",
      "\n",
      "Removed 3 sources too close to boundary or off image\n",
      "\r",
      "Matching catalog to image: 1 / 2 :: Useful sources 1 / 2 \r",
      "Matching catalog to image: 2 / 2 :: Useful sources 2 / 2   .. done\n",
      "\n",
      "Broken cutouts: 0\n",
      "Not in correct location: 0\n",
      "Not detected: 0\n",
      "Saturated: 0\n",
      "Error: 0\n",
      "\n",
      "\n",
      "+-------------------------------------------+\n",
      "|Building PSF model using stars in the field|\n",
      "+-------------------------------------------+\n",
      "\n"
     ]
    },
    {
     "name": "stderr",
     "output_type": "stream",
     "text": [
      "Residual table updated: 2 / 10 \n",
      "\tSNR: 735 :: FWHM fitted 6.673\n",
      "Residual table updated: 3 / 10 \n",
      "\tSNR: 651 :: FWHM fitted 6.445\n",
      "Residual table updated: 4 / 10 \n",
      "\tSNR: 623 :: FWHM fitted 6.259\n",
      "Residual table updated: 5 / 10 \n",
      "\tSNR: 593 :: FWHM fitted 7.008\n",
      "Residual table updated: 6 / 10 \n",
      "\tSNR: 546 :: FWHM fitted 6.356\n",
      "Residual table updated: 7 / 10 \n",
      "\tSNR: 517 :: FWHM fitted 6.376\n",
      "Residual table updated: 8 / 10 \n",
      "\tSNR: 471 :: FWHM fitted 6.355\n",
      "Residual table updated: 9 / 10 \n",
      "\tSNR: 467 :: FWHM fitted 6.218\n",
      "Residual table updated: 10 / 10 \n",
      "\tSNR: 458 :: FWHM fitted 6.444\n",
      "\n",
      "PSF built using 10 sources\n",
      "\n",
      "Unity PSF: 51.1 [counts] \n",
      "Unity Residual table: 3.3 [counts] \n",
      "Using Aperture Photometry on sequence Stars \n",
      "No PSF sources fitted\n",
      "\n",
      "Mean r-band zeropoint: 25.910 +/- 0.021 \n",
      "\n"
     ]
    },
    {
     "name": "stdout",
     "output_type": "stream",
     "text": [
      "PSF model saved as: /Users/terwelj/Documents/VirtualMachine/Observing_ING/autophot/newtest/at2022acuo_REDUCED/r1645961redCCD4/PSF_model_r1645961redCCD4_APT.fits\n",
      "\n",
      "+-------------------+\n",
      "|Measuring PSF model|\n",
      "+-------------------+\n",
      "\n",
      "\n",
      "+-----------------------+\n",
      "|Finding Zeropoint value|\n",
      "+-----------------------+\n",
      "\n",
      "Checking for suitable catalog sources\n",
      "Removed 2 sources lower than SNR of 25.0\n"
     ]
    },
    {
     "name": "stderr",
     "output_type": "stream",
     "text": [
      "/opt/anaconda3/envs/autophot/lib/python3.7/site-packages/matplotlib/backends/backend_pdf.py:1649: DeprecationWarning: NONE is deprecated and will be removed in Pillow 10 (2023-07-01). Use Resampling.NEAREST or Dither.NONE instead.\n",
      "  img = img.convert(mode='P', dither=Image.NONE,\n",
      "/opt/anaconda3/envs/autophot/lib/python3.7/site-packages/matplotlib/backends/backend_pdf.py:1650: DeprecationWarning: ADAPTIVE is deprecated and will be removed in Pillow 10 (2023-07-01). Use Palette.ADAPTIVE instead.\n",
      "  palette=Image.ADAPTIVE, colors=num_colors)\n",
      "Target photometry on original image\n"
     ]
    },
    {
     "name": "stdout",
     "output_type": "stream",
     "text": [
      "\n",
      "+-----------------------------------+\n",
      "|Doing Aperture Photometry on Target|\n",
      "+-----------------------------------+\n",
      "\n"
     ]
    },
    {
     "name": "stderr",
     "output_type": "stream",
     "text": [
      "/opt/anaconda3/envs/autophot/lib/python3.7/site-packages/matplotlib/backends/backend_pdf.py:1649: DeprecationWarning: NONE is deprecated and will be removed in Pillow 10 (2023-07-01). Use Resampling.NEAREST or Dither.NONE instead.\n",
      "  img = img.convert(mode='P', dither=Image.NONE,\n",
      "/opt/anaconda3/envs/autophot/lib/python3.7/site-packages/matplotlib/backends/backend_pdf.py:1650: DeprecationWarning: ADAPTIVE is deprecated and will be removed in Pillow 10 (2023-07-01). Use Palette.ADAPTIVE instead.\n",
      "  palette=Image.ADAPTIVE, colors=num_colors)\n",
      "Approximate Target SNR: 15.2\n",
      "SNR = 15 - skipping limiting magnitude\n",
      "Pixel Offset: 0.000\n",
      "Limiting Magnitude: skipped\n",
      "Target Detection probability: 90 %\n",
      "Target flux: 338.427 +/- 0.000 [counts/s]\n",
      "Noise: 699.448 [counts/s]\n",
      "Target SNR: 15.171 +/- 0.069\n",
      "Instrumental Magnitude: -6.324 +/- 0.000\n",
      "Zeropoint: 25.910 +/- 0.021\n",
      "Target Magnitude: 19.549 +/- 0.074 \n",
      "\n",
      "*** Transient well detected ***\n",
      "\n",
      "Time Taken [ 8408 ]: 24s\n",
      "Sucess: r1645961redCCD4_APT.fits :: PID 8408 \n",
      "\n",
      "File: r1645962redCCD4_APT.fits - PID: 8408\n",
      "Start Time: 2023-01-03 14:21:12.101333\n",
      "Filter keyoward used: WFFBAND\n",
      "Telescope: INT\n",
      "Filter: g\n",
      "MJD: 59926.956\n",
      "Date of Observation : 2022-12-13\n",
      "Read Noise: 5.8 [e^- /pixel]\n",
      "GAIN: 2.9 [e^- /count]\n",
      "Exposure time: 20 [s] \n",
      "Detecting/removing cosmic ray sources\n"
     ]
    },
    {
     "name": "stdout",
     "output_type": "stream",
     "text": [
      "\n",
      "+-----------+\n",
      "|File: 3 / 3|\n",
      "+-----------+\n",
      "\n",
      "Starting Astroscrappy ... "
     ]
    },
    {
     "name": "stderr",
     "output_type": "stream",
     "text": [
      "Contaminated pixels with Cosmic rays removed: 29755\n",
      "Cosmic rays removed - image updated\n",
      "WARNING: FITSFixedWarning: RADECSYS= 'FK5 ' / mean place new (after the 1976 IAU) system \n",
      "the RADECSYS keyword is deprecated, use RADESYSa. [astropy.wcs.wcs]\n",
      "FITSFixedWarning: RADECSYS= 'FK5 ' / mean place new (after the 1976 IAU) system \n",
      "the RADECSYS keyword is deprecated, use RADESYSa.\n",
      "WARNING: FITSFixedWarning: PROJP1 = 1.00000000 / Projection coefficient for primary WCS \n",
      "the PROJPn keyword is deprecated, use PVi_ma. [astropy.wcs.wcs]\n",
      "FITSFixedWarning: PROJP1 = 1.00000000 / Projection coefficient for primary WCS \n",
      "the PROJPn keyword is deprecated, use PVi_ma.\n",
      "WARNING: FITSFixedWarning: PROJP3 = 0.00000000 / Projection coefficient for primary WCS \n",
      "the PROJPn keyword is deprecated, use PVi_ma. [astropy.wcs.wcs]\n",
      "FITSFixedWarning: PROJP3 = 0.00000000 / Projection coefficient for primary WCS \n",
      "the PROJPn keyword is deprecated, use PVi_ma.\n",
      "WARNING: FITSFixedWarning: 'datfix' made the change 'Invalid parameter values: MJD-OBS and DATE-OBS are inconsistent.\n",
      "Changed DATE-OBS from '2022-12-13        ' to '2022-12-13T00:00:00.0''. [astropy.wcs.wcs]\n",
      "FITSFixedWarning: 'datfix' made the change 'Invalid parameter values: MJD-OBS and DATE-OBS are inconsistent.\n",
      "Changed DATE-OBS from '2022-12-13        ' to '2022-12-13T00:00:00.0''.\n",
      "\n",
      "Performing Astrometry.net\n",
      "Removing any pre-existing WCS keys \n",
      "No WCS values found - attempting to solve field\n",
      "ASTROMETRY started...\n",
      "ASTROMETRY finished: 4s\n",
      "Updating WCS keys with new values\n",
      "WCS saved to new file\n",
      "\n",
      "Searching for FWHM\n",
      "Using Gaussian Profile for fitting\n"
     ]
    },
    {
     "name": "stdout",
     "output_type": "stream",
     "text": [
      "\n",
      "+-------------------------------+\n",
      "|Finding Full Width Half Maximum|\n",
      "+-------------------------------+\n",
      "\n"
     ]
    },
    {
     "name": "stderr",
     "output_type": "stream",
     "text": [
      "\n",
      "Number of sources before cleaning [ 25.0 sigma ]: 25 \n",
      "Updating search FWHM value\n"
     ]
    },
    {
     "name": "stdout",
     "output_type": "stream",
     "text": [
      "Updated guess for FWHM: 6.4 pixels \n"
     ]
    },
    {
     "name": "stderr",
     "output_type": "stream",
     "text": [
      "\n",
      "Number of sources before cleaning [ 25.0 sigma ]: 118 \n",
      "Removed 4 sources near boundary\n",
      "Removed 4 crowded sources\n"
     ]
    },
    {
     "name": "stdout",
     "output_type": "stream",
     "text": [
      "Fitting source for FWHM: 110/110  "
     ]
    },
    {
     "name": "stderr",
     "output_type": "stream",
     "text": [
      "Removed 1 saturated sources\n",
      "WARNING: Input data contains invalid values (NaNs or infs), which were automatically clipped. [astropy.stats.sigma_clipping]\n",
      "Input data contains invalid values (NaNs or infs), which were automatically clipped.\n",
      "Removed 2 FWHM outliers\n",
      "WARNING: Input data contains invalid values (NaNs or infs), which were automatically clipped. [astropy.stats.sigma_clipping]\n",
      "Input data contains invalid values (NaNs or infs), which were automatically clipped.\n",
      "Removed 20 median outliers\n",
      "Useable sources found [ 25 sigma ]: 110\n",
      "Removes 2 sources within minimum seperation [ 27 pixel ]\n",
      "\n",
      "FWHM: 5.620 +/- 0.437 [ pixels ]\n",
      "\n",
      "Seeing: 1.862 [ arcsec ]\n",
      "Aperture size: 9.6 pixels\n",
      "Aperture correction: -0.032 +/- 0.012 [ mag ]\n",
      "WARNING: FITSFixedWarning: 'datfix' made the change 'Invalid parameter values: MJD-OBS and DATE-OBS are inconsistent.\n",
      "Changed DATE-OBS from '2022-12-13        ' to '2022-12-13T00:00:00.0''. [astropy.wcs.wcs]\n",
      "FITSFixedWarning: 'datfix' made the change 'Invalid parameter values: MJD-OBS and DATE-OBS are inconsistent.\n",
      "Changed DATE-OBS from '2022-12-13        ' to '2022-12-13T00:00:00.0''.\n",
      "Catalog found for target_ra_351_dec_21\n",
      "Catalog: SDSS \n",
      "File: target_ra_351_dec_21_r_0.25\n",
      "Catalog length: 33\n",
      "Removed 28 sources fainter than cutoff [20 mag]\n",
      "Using Gaussian Profile for fitting\n",
      "Catalog Length: 2\n",
      "\n",
      "Median offset: 3.7 [ pixels ] / 1.2 [ arcsec ]\n",
      "Residual table updated: 1 / 10 \n",
      "\tSNR: 748 :: FWHM fitted 6.141\n",
      "Residual table updated: 2 / 10 \n",
      "\tSNR: 615 :: FWHM fitted 6.000\n"
     ]
    },
    {
     "name": "stdout",
     "output_type": "stream",
     "text": [
      "\n",
      "+----------------------------------------------+\n",
      "|Searching for catalog for target_ra_351_dec_21|\n",
      "+----------------------------------------------+\n",
      "\n",
      "\n",
      "+---------------------------------+\n",
      "|Matching catalog sources to image|\n",
      "+---------------------------------+\n",
      "\n",
      "Removed 3 sources too close to boundary or off image\n",
      "\r",
      "Matching catalog to image: 1 / 2 :: Useful sources 1 / 2 \r",
      "Matching catalog to image: 2 / 2 :: Useful sources 2 / 2   .. done\n",
      "\n",
      "Broken cutouts: 0\n",
      "Not in correct location: 0\n",
      "Not detected: 0\n",
      "Saturated: 0\n",
      "Error: 0\n",
      "\n",
      "\n",
      "+-------------------------------------------+\n",
      "|Building PSF model using stars in the field|\n",
      "+-------------------------------------------+\n",
      "\n"
     ]
    },
    {
     "name": "stderr",
     "output_type": "stream",
     "text": [
      "Residual table updated: 3 / 10 \n",
      "\tSNR: 594 :: FWHM fitted 5.623\n",
      "Residual table updated: 4 / 10 \n",
      "\tSNR: 544 :: FWHM fitted 5.598\n",
      "Residual table updated: 5 / 10 \n",
      "\tSNR: 510 :: FWHM fitted 5.754\n",
      "Residual table updated: 6 / 10 \n",
      "\tSNR: 487 :: FWHM fitted 5.451\n",
      "Residual table updated: 7 / 10 \n",
      "\tSNR: 478 :: FWHM fitted 6.103\n",
      "Residual table updated: 8 / 10 \n",
      "\tSNR: 460 :: FWHM fitted 5.804\n",
      "Residual table updated: 9 / 10 \n",
      "\tSNR: 452 :: FWHM fitted 5.626\n",
      "Residual table updated: 10 / 10 \n",
      "\tSNR: 424 :: FWHM fitted 5.491\n",
      "\n",
      "PSF built using 10 sources\n",
      "\n",
      "Unity PSF: 38.0 [counts] \n",
      "Unity Residual table: 2.9 [counts] \n",
      "Using Aperture Photometry on sequence Stars \n",
      "No PSF sources fitted\n",
      "\n",
      "Mean g-band zeropoint: 26.140 +/- 0.018 \n",
      "\n"
     ]
    },
    {
     "name": "stdout",
     "output_type": "stream",
     "text": [
      "PSF model saved as: /Users/terwelj/Documents/VirtualMachine/Observing_ING/autophot/newtest/at2022acuo_REDUCED/r1645962redCCD4/PSF_model_r1645962redCCD4_APT.fits\n",
      "\n",
      "+-------------------+\n",
      "|Measuring PSF model|\n",
      "+-------------------+\n",
      "\n",
      "\n",
      "+-----------------------+\n",
      "|Finding Zeropoint value|\n",
      "+-----------------------+\n",
      "\n",
      "Checking for suitable catalog sources\n",
      "Removed 2 sources lower than SNR of 25.0\n"
     ]
    },
    {
     "name": "stderr",
     "output_type": "stream",
     "text": [
      "/opt/anaconda3/envs/autophot/lib/python3.7/site-packages/matplotlib/backends/backend_pdf.py:1649: DeprecationWarning: NONE is deprecated and will be removed in Pillow 10 (2023-07-01). Use Resampling.NEAREST or Dither.NONE instead.\n",
      "  img = img.convert(mode='P', dither=Image.NONE,\n",
      "/opt/anaconda3/envs/autophot/lib/python3.7/site-packages/matplotlib/backends/backend_pdf.py:1650: DeprecationWarning: ADAPTIVE is deprecated and will be removed in Pillow 10 (2023-07-01). Use Palette.ADAPTIVE instead.\n",
      "  palette=Image.ADAPTIVE, colors=num_colors)\n",
      "Target photometry on original image\n",
      "/opt/anaconda3/envs/autophot/lib/python3.7/site-packages/matplotlib/backends/backend_pdf.py:1649: DeprecationWarning: NONE is deprecated and will be removed in Pillow 10 (2023-07-01). Use Resampling.NEAREST or Dither.NONE instead.\n",
      "  img = img.convert(mode='P', dither=Image.NONE,\n",
      "/opt/anaconda3/envs/autophot/lib/python3.7/site-packages/matplotlib/backends/backend_pdf.py:1650: DeprecationWarning: ADAPTIVE is deprecated and will be removed in Pillow 10 (2023-07-01). Use Palette.ADAPTIVE instead.\n",
      "  palette=Image.ADAPTIVE, colors=num_colors)\n",
      "Approximate Target SNR: 12.3\n",
      "SNR = 12 - skipping limiting magnitude\n",
      "Pixel Offset: 0.000\n"
     ]
    },
    {
     "name": "stdout",
     "output_type": "stream",
     "text": [
      "\n",
      "+-----------------------------------+\n",
      "|Doing Aperture Photometry on Target|\n",
      "+-----------------------------------+\n",
      "\n"
     ]
    },
    {
     "name": "stderr",
     "output_type": "stream",
     "text": [
      "Limiting Magnitude: skipped\n",
      "Target Detection probability: 97 %\n",
      "Target flux: 179.702 +/- 0.000 [counts/s]\n",
      "Noise: 393.149 [counts/s]\n",
      "Target SNR: 12.317 +/- 0.085\n",
      "Instrumental Magnitude: -5.636 +/- 0.000\n",
      "Zeropoint: 26.140 +/- 0.018\n",
      "Target Magnitude: 20.471 +/- 0.088 \n",
      "\n",
      "*** Transient well detected ***\n",
      "\n",
      "Time Taken [ 8408 ]: 24s\n",
      "Sucess: r1645962redCCD4_APT.fits :: PID 8408 \n",
      "\n",
      "\n",
      "User instrument database: /Users/terwelj/Documents/VirtualMachine/Observing_ING/autophot/newtest/telescope.yml\n",
      "\n",
      "Number of files: 3\n",
      "\n",
      "1 telescope(s) detected - checking header keywords\n",
      "\n"
     ]
    },
    {
     "name": "stdout",
     "output_type": "stream",
     "text": [
      "\n",
      "---\n",
      "\n",
      "Files that failed : ['/Users/terwelj/Documents/VirtualMachine/Observing_ING/autophot/newtest/at2022acuo_REDUCED/r1645960redCCD4/r1645960redCCD4_APT.fits']\n",
      "\n",
      "DONE\n",
      "\n",
      "Done - Time Taken: 72.6\n",
      "\n",
      "        _       _       ___ _  _    _____\n",
      "       /_\\ _  _| |_ ___| _ \\ || |__|_   _|\n",
      "      / _ \\ || |  _/ _ \\  _/ __ / _ \\| |\n",
      "     /_/ \\_\\_,_|\\__\\___/_| |_||_\\___/|_|\n",
      "    \n",
      "     ---------------------------------------\n",
      "        Automated Photometry of Transients\n",
      "        S. J. Brennan et al. 2021 \n",
      "        Please provide feedback/bugs to:\n",
      "        Email: sean.brennan2@ucdconnect.ie\n",
      "    ---------------------------------------\n",
      "Directory of fits file: /Users/terwelj/Documents/VirtualMachine/Observing_ING/autophot/newtest/at2022acuo\n",
      "Found Telescopes:\n",
      "\n",
      " - INT\n",
      "\n",
      "-> Telescope check complete\n",
      "\n",
      "Checking Filter keywords and database\n",
      "\n",
      "-> Filter check complete\n",
      "\n",
      "Checking Filter information for each image\n"
     ]
    },
    {
     "name": "stderr",
     "output_type": "stream",
     "text": [
      "File: r1645960redCCD4_APT.fits - PID: 8408\n",
      "Start Time: 2023-01-03 14:21:36.462061\n",
      "Filter keyoward used: WFFBAND\n",
      "Telescope: INT\n",
      "Filter: i\n",
      "MJD: 59926.954\n",
      "Date of Observation : 2022-12-13\n",
      "Read Noise: 5.8 [e^- /pixel]\n",
      "GAIN: 2.9 [e^- /count]\n",
      "Exposure time: 20 [s] \n",
      "Detecting/removing cosmic ray sources\n"
     ]
    },
    {
     "name": "stdout",
     "output_type": "stream",
     "text": [
      "\n",
      "Files removed - Wrong Image Type: 0\n",
      "\n",
      "Files removed - No/Wrong filter(s): 0\n",
      "Filters not included: []\n",
      "\n",
      "\n",
      "Files removed: 0\n",
      "\n",
      "+-----------+\n",
      "|File: 1 / 3|\n",
      "+-----------+\n",
      "\n",
      "Starting Astroscrappy ... "
     ]
    },
    {
     "name": "stderr",
     "output_type": "stream",
     "text": [
      "Contaminated pixels with Cosmic rays removed: 27859\n",
      "Cosmic rays removed - image updated\n",
      "WARNING: FITSFixedWarning: RADECSYS= 'FK5 ' / mean place new (after the 1976 IAU) system \n",
      "the RADECSYS keyword is deprecated, use RADESYSa. [astropy.wcs.wcs]\n",
      "FITSFixedWarning: RADECSYS= 'FK5 ' / mean place new (after the 1976 IAU) system \n",
      "the RADECSYS keyword is deprecated, use RADESYSa.\n",
      "WARNING: FITSFixedWarning: PROJP1 = 1.00000000 / Projection coefficient for primary WCS \n",
      "the PROJPn keyword is deprecated, use PVi_ma. [astropy.wcs.wcs]\n",
      "FITSFixedWarning: PROJP1 = 1.00000000 / Projection coefficient for primary WCS \n",
      "the PROJPn keyword is deprecated, use PVi_ma.\n",
      "WARNING: FITSFixedWarning: PROJP3 = 0.00000000 / Projection coefficient for primary WCS \n",
      "the PROJPn keyword is deprecated, use PVi_ma. [astropy.wcs.wcs]\n",
      "FITSFixedWarning: PROJP3 = 0.00000000 / Projection coefficient for primary WCS \n",
      "the PROJPn keyword is deprecated, use PVi_ma.\n",
      "WARNING: FITSFixedWarning: 'datfix' made the change 'Invalid parameter values: MJD-OBS and DATE-OBS are inconsistent.\n",
      "Changed DATE-OBS from '2022-12-13        ' to '2022-12-13T00:00:00.0''. [astropy.wcs.wcs]\n",
      "FITSFixedWarning: 'datfix' made the change 'Invalid parameter values: MJD-OBS and DATE-OBS are inconsistent.\n",
      "Changed DATE-OBS from '2022-12-13        ' to '2022-12-13T00:00:00.0''.\n",
      "\n",
      "Performing Astrometry.net\n",
      "Removing any pre-existing WCS keys \n",
      "No WCS values found - attempting to solve field\n",
      "ASTROMETRY started...\n",
      "ASTROMETRY finished: 3s\n",
      "Updating WCS keys with new values\n",
      "WCS saved to new file\n",
      "\n",
      "Searching for FWHM\n",
      "Using Gaussian Profile for fitting\n"
     ]
    },
    {
     "name": "stdout",
     "output_type": "stream",
     "text": [
      "\n",
      "+-------------------------------+\n",
      "|Finding Full Width Half Maximum|\n",
      "+-------------------------------+\n",
      "\n"
     ]
    },
    {
     "name": "stderr",
     "output_type": "stream",
     "text": [
      "\n",
      "Number of sources before cleaning [ 25.0 sigma ]: 25 \n",
      "Updating search FWHM value\n"
     ]
    },
    {
     "name": "stdout",
     "output_type": "stream",
     "text": [
      "Updated guess for FWHM: 7.0 pixels \n"
     ]
    },
    {
     "name": "stderr",
     "output_type": "stream",
     "text": [
      "\n",
      "Number of sources before cleaning [ 25.0 sigma ]: 144 \n",
      "Removed 6 sources near boundary\n",
      "Removed 4 crowded sources\n"
     ]
    },
    {
     "name": "stdout",
     "output_type": "stream",
     "text": [
      "Fitting source for FWHM: 134/134 "
     ]
    },
    {
     "name": "stderr",
     "output_type": "stream",
     "text": [
      "Removed 2 saturated sources\n",
      "WARNING: Input data contains invalid values (NaNs or infs), which were automatically clipped. [astropy.stats.sigma_clipping]\n",
      "Input data contains invalid values (NaNs or infs), which were automatically clipped.\n",
      "Removed 6 FWHM outliers\n",
      "WARNING: Input data contains invalid values (NaNs or infs), which were automatically clipped. [astropy.stats.sigma_clipping]\n",
      "Input data contains invalid values (NaNs or infs), which were automatically clipped.\n",
      "Removed 22 median outliers\n",
      "Useable sources found [ 25 sigma ]: 134\n",
      "Removes 2 sources within minimum seperation [ 28 pixel ]\n",
      "\n",
      "FWHM: 5.829 +/- 0.479 [ pixels ]\n",
      "\n",
      "Seeing: 1.933 [ arcsec ]\n",
      "Aperture size: 9.9 pixels\n",
      "Aperture correction: -0.053 +/- 0.030 [ mag ]\n",
      "WARNING: FITSFixedWarning: 'datfix' made the change 'Invalid parameter values: MJD-OBS and DATE-OBS are inconsistent.\n",
      "Changed DATE-OBS from '2022-12-13        ' to '2022-12-13T00:00:00.0''. [astropy.wcs.wcs]\n",
      "FITSFixedWarning: 'datfix' made the change 'Invalid parameter values: MJD-OBS and DATE-OBS are inconsistent.\n",
      "Changed DATE-OBS from '2022-12-13        ' to '2022-12-13T00:00:00.0''.\n",
      "Searching for new catalog [pan_starrs] for target_ra_351_dec_21 \n",
      "Downloading sequence stars from pan_starrs\n"
     ]
    },
    {
     "name": "stdout",
     "output_type": "stream",
     "text": [
      "\n",
      "+----------------------------------------------+\n",
      "|Searching for catalog for target_ra_351_dec_21|\n",
      "+----------------------------------------------+\n",
      "\n"
     ]
    },
    {
     "name": "stderr",
     "output_type": "stream",
     "text": [
      "Catalog length: 7636\n",
      "Removed 3968 sources fainter than cutoff [20 mag]\n",
      "Using Gaussian Profile for fitting\n",
      "Catalog Length: 433\n"
     ]
    },
    {
     "name": "stdout",
     "output_type": "stream",
     "text": [
      "\n",
      "+---------------------------------+\n",
      "|Matching catalog sources to image|\n",
      "+---------------------------------+\n",
      "\n",
      "Removed 2 sources too close to target\n",
      "Removed 792 sources too close to boundary or off image\n",
      "Matching catalog to image: 405 / 433 :: Useful sources 300 / 433 "
     ]
    },
    {
     "name": "stderr",
     "output_type": "stream",
     "text": [
      "\n",
      "Median offset: 2.5 [ pixels ] / 0.8 [ arcsec ]\n",
      "Residual table updated: 1 / 10 \n",
      "\tSNR: 707 :: FWHM fitted 6.024\n",
      "Residual table updated: 2 / 10 \n",
      "\tSNR: 696 :: FWHM fitted 6.073\n",
      "Residual table updated: 3 / 10 \n",
      "\tSNR: 695 :: FWHM fitted 5.988\n"
     ]
    },
    {
     "name": "stdout",
     "output_type": "stream",
     "text": [
      "  .. done\n",
      "\n",
      "Broken cutouts: 0\n",
      "Not in correct location: 0\n",
      "Not detected: 97\n",
      "Saturated: 8\n",
      "Error: 0\n",
      "\n",
      "\n",
      "+-------------------------------------------+\n",
      "|Building PSF model using stars in the field|\n",
      "+-------------------------------------------+\n",
      "\n"
     ]
    },
    {
     "name": "stderr",
     "output_type": "stream",
     "text": [
      "Residual table updated: 4 / 10 \n",
      "\tSNR: 692 :: FWHM fitted 5.728\n",
      "Residual table updated: 5 / 10 \n",
      "\tSNR: 627 :: FWHM fitted 5.801\n",
      "Residual table updated: 6 / 10 \n",
      "\tSNR: 579 :: FWHM fitted 5.803\n",
      "Residual table updated: 7 / 10 \n",
      "\tSNR: 560 :: FWHM fitted 6.034\n",
      "Residual table updated: 8 / 10 \n",
      "\tSNR: 539 :: FWHM fitted 5.892\n",
      "Residual table updated: 9 / 10 \n",
      "\tSNR: 490 :: FWHM fitted 5.653\n",
      "Residual table updated: 10 / 10 \n",
      "\tSNR: 443 :: FWHM fitted 5.682\n",
      "\n",
      "PSF built using 10 sources\n",
      "\n",
      "Unity PSF: 42.2 [counts] \n",
      "Unity Residual table: 4.6 [counts] \n",
      "Using Aperture Photometry on sequence Stars \n",
      "No PSF sources fitted\n",
      "WARNING: Input data contains invalid values (NaNs or infs), which were automatically clipped. [astropy.stats.sigma_clipping]\n",
      "Input data contains invalid values (NaNs or infs), which were automatically clipped.\n",
      "\n",
      "Mean i-band zeropoint: 25.608 +/- 0.042 \n",
      "\n"
     ]
    },
    {
     "name": "stdout",
     "output_type": "stream",
     "text": [
      "PSF model saved as: /Users/terwelj/Documents/VirtualMachine/Observing_ING/autophot/newtest/at2022acuo_REDUCED/r1645960redCCD4/PSF_model_r1645960redCCD4_APT.fits\n",
      "\n",
      "+-------------------+\n",
      "|Measuring PSF model|\n",
      "+-------------------+\n",
      "\n",
      "\n",
      "+-----------------------+\n",
      "|Finding Zeropoint value|\n",
      "+-----------------------+\n",
      "\n",
      "Checking for suitable catalog sources\n",
      "Removed 222 sources lower than SNR of 25.0\n"
     ]
    },
    {
     "name": "stderr",
     "output_type": "stream",
     "text": [
      "/opt/anaconda3/envs/autophot/lib/python3.7/site-packages/matplotlib/backends/backend_pdf.py:1649: DeprecationWarning: NONE is deprecated and will be removed in Pillow 10 (2023-07-01). Use Resampling.NEAREST or Dither.NONE instead.\n",
      "  img = img.convert(mode='P', dither=Image.NONE,\n",
      "/opt/anaconda3/envs/autophot/lib/python3.7/site-packages/matplotlib/backends/backend_pdf.py:1650: DeprecationWarning: ADAPTIVE is deprecated and will be removed in Pillow 10 (2023-07-01). Use Palette.ADAPTIVE instead.\n",
      "  palette=Image.ADAPTIVE, colors=num_colors)\n",
      "Approx. catalog limiting magnitude: 19.081 [ mag ]\n",
      "Target photometry on original image\n",
      "/opt/anaconda3/envs/autophot/lib/python3.7/site-packages/matplotlib/backends/backend_pdf.py:1649: DeprecationWarning: NONE is deprecated and will be removed in Pillow 10 (2023-07-01). Use Resampling.NEAREST or Dither.NONE instead.\n",
      "  img = img.convert(mode='P', dither=Image.NONE,\n",
      "/opt/anaconda3/envs/autophot/lib/python3.7/site-packages/matplotlib/backends/backend_pdf.py:1650: DeprecationWarning: ADAPTIVE is deprecated and will be removed in Pillow 10 (2023-07-01). Use Palette.ADAPTIVE instead.\n",
      "  palette=Image.ADAPTIVE, colors=num_colors)\n",
      "Approximate Target SNR: 6.2\n"
     ]
    },
    {
     "name": "stdout",
     "output_type": "stream",
     "text": [
      "\n",
      "+-----------------------------------+\n",
      "|Doing Aperture Photometry on Target|\n",
      "+-----------------------------------+\n",
      "\n"
     ]
    },
    {
     "name": "stderr",
     "output_type": "stream",
     "text": [
      "SNR = 6 - skipping limiting magnitude\n",
      "Pixel Offset: 0.000\n",
      "Limiting Magnitude: skipped\n",
      "Target Detection probability: 44 %\n",
      "Target flux: 142.911 +/- 0.000 [counts/s]\n",
      "Noise: 613.921 [counts/s]\n",
      "Target SNR: 6.196 +/- 0.162\n",
      "Instrumental Magnitude: -5.388 +/- 0.000\n",
      "Zeropoint: 25.608 +/- 0.042\n",
      "Target Magnitude: 20.167 +/- 0.170 \n",
      "\n",
      "*** Transient well detected ***\n",
      "\n",
      "Time Taken [ 8408 ]: 51s\n",
      "Sucess: r1645960redCCD4_APT.fits :: PID 8408 \n",
      "\n",
      "File: r1645961redCCD4_APT.fits - PID: 8408\n",
      "Start Time: 2023-01-03 14:22:27.243232\n",
      "Filter keyoward used: WFFBAND\n",
      "Telescope: INT\n",
      "Filter: r\n",
      "MJD: 59926.955\n",
      "Date of Observation : 2022-12-13\n",
      "Read Noise: 5.8 [e^- /pixel]\n",
      "GAIN: 2.9 [e^- /count]\n",
      "Exposure time: 20 [s] \n",
      "Detecting/removing cosmic ray sources\n"
     ]
    },
    {
     "name": "stdout",
     "output_type": "stream",
     "text": [
      "\n",
      "+-----------+\n",
      "|File: 2 / 3|\n",
      "+-----------+\n",
      "\n",
      "Starting Astroscrappy ... "
     ]
    },
    {
     "name": "stderr",
     "output_type": "stream",
     "text": [
      "Contaminated pixels with Cosmic rays removed: 27852\n",
      "Cosmic rays removed - image updated\n",
      "WARNING: FITSFixedWarning: RADECSYS= 'FK5 ' / mean place new (after the 1976 IAU) system \n",
      "the RADECSYS keyword is deprecated, use RADESYSa. [astropy.wcs.wcs]\n",
      "FITSFixedWarning: RADECSYS= 'FK5 ' / mean place new (after the 1976 IAU) system \n",
      "the RADECSYS keyword is deprecated, use RADESYSa.\n",
      "WARNING: FITSFixedWarning: PROJP1 = 1.00000000 / Projection coefficient for primary WCS \n",
      "the PROJPn keyword is deprecated, use PVi_ma. [astropy.wcs.wcs]\n",
      "FITSFixedWarning: PROJP1 = 1.00000000 / Projection coefficient for primary WCS \n",
      "the PROJPn keyword is deprecated, use PVi_ma.\n",
      "WARNING: FITSFixedWarning: PROJP3 = 0.00000000 / Projection coefficient for primary WCS \n",
      "the PROJPn keyword is deprecated, use PVi_ma. [astropy.wcs.wcs]\n",
      "FITSFixedWarning: PROJP3 = 0.00000000 / Projection coefficient for primary WCS \n",
      "the PROJPn keyword is deprecated, use PVi_ma.\n",
      "WARNING: FITSFixedWarning: 'datfix' made the change 'Invalid parameter values: MJD-OBS and DATE-OBS are inconsistent.\n",
      "Changed DATE-OBS from '2022-12-13        ' to '2022-12-13T00:00:00.0''. [astropy.wcs.wcs]\n",
      "FITSFixedWarning: 'datfix' made the change 'Invalid parameter values: MJD-OBS and DATE-OBS are inconsistent.\n",
      "Changed DATE-OBS from '2022-12-13        ' to '2022-12-13T00:00:00.0''.\n",
      "\n",
      "Performing Astrometry.net\n",
      "Removing any pre-existing WCS keys \n",
      "No WCS values found - attempting to solve field\n",
      "ASTROMETRY started...\n",
      "ASTROMETRY finished: 3s\n",
      "Updating WCS keys with new values\n",
      "WCS saved to new file\n",
      "\n",
      "Searching for FWHM\n",
      "Using Gaussian Profile for fitting\n"
     ]
    },
    {
     "name": "stdout",
     "output_type": "stream",
     "text": [
      "\n",
      "+-------------------------------+\n",
      "|Finding Full Width Half Maximum|\n",
      "+-------------------------------+\n",
      "\n"
     ]
    },
    {
     "name": "stderr",
     "output_type": "stream",
     "text": [
      "\n",
      "Number of sources before cleaning [ 25.0 sigma ]: 25 \n",
      "Updating search FWHM value\n"
     ]
    },
    {
     "name": "stdout",
     "output_type": "stream",
     "text": [
      "Updated guess for FWHM: 7.1 pixels \n"
     ]
    },
    {
     "name": "stderr",
     "output_type": "stream",
     "text": [
      "\n",
      "Number of sources before cleaning [ 25.0 sigma ]: 120 \n",
      "Removed 4 sources near boundary\n",
      "Removed 4 crowded sources\n"
     ]
    },
    {
     "name": "stdout",
     "output_type": "stream",
     "text": [
      "Fitting source for FWHM: 112/112 "
     ]
    },
    {
     "name": "stderr",
     "output_type": "stream",
     "text": [
      "Removed 2 saturated sources\n",
      "WARNING: Input data contains invalid values (NaNs or infs), which were automatically clipped. [astropy.stats.sigma_clipping]\n",
      "Input data contains invalid values (NaNs or infs), which were automatically clipped.\n",
      "Removed 4 FWHM outliers\n",
      "WARNING: Input data contains invalid values (NaNs or infs), which were automatically clipped. [astropy.stats.sigma_clipping]\n",
      "Input data contains invalid values (NaNs or infs), which were automatically clipped.\n",
      "Removed 24 median outliers\n",
      "Useable sources found [ 25 sigma ]: 112\n",
      "Removes 2 sources within minimum seperation [ 32 pixel ]\n",
      "\n",
      "FWHM: 6.560 +/- 0.436 [ pixels ]\n",
      "\n",
      "Seeing: 2.175 [ arcsec ]\n",
      "Aperture size: 11.2 pixels\n",
      "Aperture correction: -0.037 +/- 0.014 [ mag ]\n",
      "WARNING: FITSFixedWarning: 'datfix' made the change 'Invalid parameter values: MJD-OBS and DATE-OBS are inconsistent.\n",
      "Changed DATE-OBS from '2022-12-13        ' to '2022-12-13T00:00:00.0''. [astropy.wcs.wcs]\n",
      "FITSFixedWarning: 'datfix' made the change 'Invalid parameter values: MJD-OBS and DATE-OBS are inconsistent.\n",
      "Changed DATE-OBS from '2022-12-13        ' to '2022-12-13T00:00:00.0''.\n",
      "Catalog found for target_ra_351_dec_21\n",
      "Catalog: PAN_STARRS \n",
      "File: target_ra_351_dec_21_r_0.25\n",
      "Catalog length: 7636\n",
      "Removed 3081 sources fainter than cutoff [20 mag]\n",
      "Using Gaussian Profile for fitting\n",
      "Catalog Length: 319\n"
     ]
    },
    {
     "name": "stdout",
     "output_type": "stream",
     "text": [
      "\n",
      "+----------------------------------------------+\n",
      "|Searching for catalog for target_ra_351_dec_21|\n",
      "+----------------------------------------------+\n",
      "\n",
      "\n",
      "+---------------------------------+\n",
      "|Matching catalog sources to image|\n",
      "+---------------------------------+\n",
      "\n",
      "Removed 2 sources too close to target\n",
      "Removed 566 sources too close to boundary or off image\n",
      "Matching catalog to image: 319 / 319 :: Useful sources 249 / 319 "
     ]
    },
    {
     "name": "stderr",
     "output_type": "stream",
     "text": [
      "\n",
      "Median offset: 2.7 [ pixels ] / 0.9 [ arcsec ]\n",
      "Residual table updated: 1 / 10 \n",
      "\tSNR: 806 :: FWHM fitted 7.150\n",
      "Residual table updated: 2 / 10 \n",
      "\tSNR: 735 :: FWHM fitted 6.673\n"
     ]
    },
    {
     "name": "stdout",
     "output_type": "stream",
     "text": [
      "  .. done\n",
      "\n",
      "Broken cutouts: 3\n",
      "Not in correct location: 0\n",
      "Not detected: 61\n",
      "Saturated: 6\n",
      "Error: 0\n",
      "\n",
      "\n",
      "+-------------------------------------------+\n",
      "|Building PSF model using stars in the field|\n",
      "+-------------------------------------------+\n",
      "\n"
     ]
    },
    {
     "name": "stderr",
     "output_type": "stream",
     "text": [
      "Residual table updated: 3 / 10 \n",
      "\tSNR: 651 :: FWHM fitted 6.445\n",
      "Residual table updated: 4 / 10 \n",
      "\tSNR: 623 :: FWHM fitted 6.259\n",
      "Residual table updated: 5 / 10 \n",
      "\tSNR: 593 :: FWHM fitted 7.008\n",
      "Residual table updated: 6 / 10 \n",
      "\tSNR: 546 :: FWHM fitted 6.356\n",
      "Residual table updated: 7 / 10 \n",
      "\tSNR: 517 :: FWHM fitted 6.376\n",
      "Residual table updated: 8 / 10 \n",
      "\tSNR: 471 :: FWHM fitted 6.355\n",
      "Residual table updated: 9 / 10 \n",
      "\tSNR: 467 :: FWHM fitted 6.218\n",
      "Residual table updated: 10 / 10 \n",
      "\tSNR: 458 :: FWHM fitted 6.444\n",
      "\n",
      "PSF built using 10 sources\n",
      "\n",
      "Unity PSF: 51.1 [counts] \n",
      "Unity Residual table: 3.3 [counts] \n",
      "Using Aperture Photometry on sequence Stars \n",
      "No PSF sources fitted\n",
      "WARNING: Input data contains invalid values (NaNs or infs), which were automatically clipped. [astropy.stats.sigma_clipping]\n",
      "Input data contains invalid values (NaNs or infs), which were automatically clipped.\n",
      "\n",
      "Mean r-band zeropoint: 25.937 +/- 0.037 \n",
      "\n"
     ]
    },
    {
     "name": "stdout",
     "output_type": "stream",
     "text": [
      "PSF model saved as: /Users/terwelj/Documents/VirtualMachine/Observing_ING/autophot/newtest/at2022acuo_REDUCED/r1645961redCCD4/PSF_model_r1645961redCCD4_APT.fits\n",
      "\n",
      "+-------------------+\n",
      "|Measuring PSF model|\n",
      "+-------------------+\n",
      "\n",
      "\n",
      "+-----------------------+\n",
      "|Finding Zeropoint value|\n",
      "+-----------------------+\n",
      "\n",
      "Checking for suitable catalog sources\n",
      "Removed 191 sources lower than SNR of 25.0\n"
     ]
    },
    {
     "name": "stderr",
     "output_type": "stream",
     "text": [
      "/opt/anaconda3/envs/autophot/lib/python3.7/site-packages/matplotlib/backends/backend_pdf.py:1649: DeprecationWarning: NONE is deprecated and will be removed in Pillow 10 (2023-07-01). Use Resampling.NEAREST or Dither.NONE instead.\n",
      "  img = img.convert(mode='P', dither=Image.NONE,\n",
      "/opt/anaconda3/envs/autophot/lib/python3.7/site-packages/matplotlib/backends/backend_pdf.py:1650: DeprecationWarning: ADAPTIVE is deprecated and will be removed in Pillow 10 (2023-07-01). Use Palette.ADAPTIVE instead.\n",
      "  palette=Image.ADAPTIVE, colors=num_colors)\n",
      "Approx. catalog limiting magnitude: 19.313 [ mag ]\n",
      "Target photometry on original image\n"
     ]
    },
    {
     "name": "stdout",
     "output_type": "stream",
     "text": [
      "\n",
      "+-----------------------------------+\n",
      "|Doing Aperture Photometry on Target|\n",
      "+-----------------------------------+\n",
      "\n"
     ]
    },
    {
     "name": "stderr",
     "output_type": "stream",
     "text": [
      "/opt/anaconda3/envs/autophot/lib/python3.7/site-packages/matplotlib/backends/backend_pdf.py:1649: DeprecationWarning: NONE is deprecated and will be removed in Pillow 10 (2023-07-01). Use Resampling.NEAREST or Dither.NONE instead.\n",
      "  img = img.convert(mode='P', dither=Image.NONE,\n",
      "/opt/anaconda3/envs/autophot/lib/python3.7/site-packages/matplotlib/backends/backend_pdf.py:1650: DeprecationWarning: ADAPTIVE is deprecated and will be removed in Pillow 10 (2023-07-01). Use Palette.ADAPTIVE instead.\n",
      "  palette=Image.ADAPTIVE, colors=num_colors)\n",
      "Approximate Target SNR: 15.2\n",
      "SNR = 15 - skipping limiting magnitude\n",
      "Pixel Offset: 0.000\n",
      "Limiting Magnitude: skipped\n",
      "Target Detection probability: 90 %\n",
      "Target flux: 338.427 +/- 0.000 [counts/s]\n",
      "Noise: 699.448 [counts/s]\n",
      "Target SNR: 15.171 +/- 0.069\n",
      "Instrumental Magnitude: -6.324 +/- 0.000\n",
      "Zeropoint: 25.937 +/- 0.037\n",
      "Target Magnitude: 19.576 +/- 0.080 \n",
      "\n",
      "*** Transient well detected ***\n",
      "\n",
      "Time Taken [ 8408 ]: 33s\n",
      "Sucess: r1645961redCCD4_APT.fits :: PID 8408 \n",
      "\n",
      "File: r1645962redCCD4_APT.fits - PID: 8408\n",
      "Start Time: 2023-01-03 14:23:00.222867\n",
      "Filter keyoward used: WFFBAND\n",
      "Telescope: INT\n",
      "Filter: g\n",
      "MJD: 59926.956\n",
      "Date of Observation : 2022-12-13\n",
      "Read Noise: 5.8 [e^- /pixel]\n",
      "GAIN: 2.9 [e^- /count]\n",
      "Exposure time: 20 [s] \n",
      "Detecting/removing cosmic ray sources\n"
     ]
    },
    {
     "name": "stdout",
     "output_type": "stream",
     "text": [
      "\n",
      "+-----------+\n",
      "|File: 3 / 3|\n",
      "+-----------+\n",
      "\n",
      "Starting Astroscrappy ... "
     ]
    },
    {
     "name": "stderr",
     "output_type": "stream",
     "text": [
      "Contaminated pixels with Cosmic rays removed: 29755\n",
      "Cosmic rays removed - image updated\n",
      "WARNING: FITSFixedWarning: RADECSYS= 'FK5 ' / mean place new (after the 1976 IAU) system \n",
      "the RADECSYS keyword is deprecated, use RADESYSa. [astropy.wcs.wcs]\n",
      "FITSFixedWarning: RADECSYS= 'FK5 ' / mean place new (after the 1976 IAU) system \n",
      "the RADECSYS keyword is deprecated, use RADESYSa.\n",
      "WARNING: FITSFixedWarning: PROJP1 = 1.00000000 / Projection coefficient for primary WCS \n",
      "the PROJPn keyword is deprecated, use PVi_ma. [astropy.wcs.wcs]\n",
      "FITSFixedWarning: PROJP1 = 1.00000000 / Projection coefficient for primary WCS \n",
      "the PROJPn keyword is deprecated, use PVi_ma.\n",
      "WARNING: FITSFixedWarning: PROJP3 = 0.00000000 / Projection coefficient for primary WCS \n",
      "the PROJPn keyword is deprecated, use PVi_ma. [astropy.wcs.wcs]\n",
      "FITSFixedWarning: PROJP3 = 0.00000000 / Projection coefficient for primary WCS \n",
      "the PROJPn keyword is deprecated, use PVi_ma.\n",
      "WARNING: FITSFixedWarning: 'datfix' made the change 'Invalid parameter values: MJD-OBS and DATE-OBS are inconsistent.\n",
      "Changed DATE-OBS from '2022-12-13        ' to '2022-12-13T00:00:00.0''. [astropy.wcs.wcs]\n",
      "FITSFixedWarning: 'datfix' made the change 'Invalid parameter values: MJD-OBS and DATE-OBS are inconsistent.\n",
      "Changed DATE-OBS from '2022-12-13        ' to '2022-12-13T00:00:00.0''.\n",
      "\n",
      "Performing Astrometry.net\n",
      "Removing any pre-existing WCS keys \n",
      "No WCS values found - attempting to solve field\n",
      "ASTROMETRY started...\n",
      "ASTROMETRY finished: 3s\n",
      "Updating WCS keys with new values\n",
      "WCS saved to new file\n",
      "\n",
      "Searching for FWHM\n",
      "Using Gaussian Profile for fitting\n"
     ]
    },
    {
     "name": "stdout",
     "output_type": "stream",
     "text": [
      "\n",
      "+-------------------------------+\n",
      "|Finding Full Width Half Maximum|\n",
      "+-------------------------------+\n",
      "\n"
     ]
    },
    {
     "name": "stderr",
     "output_type": "stream",
     "text": [
      "\n",
      "Number of sources before cleaning [ 25.0 sigma ]: 25 \n",
      "Updating search FWHM value\n"
     ]
    },
    {
     "name": "stdout",
     "output_type": "stream",
     "text": [
      "Updated guess for FWHM: 5.7 pixels \n"
     ]
    },
    {
     "name": "stderr",
     "output_type": "stream",
     "text": [
      "\n",
      "Number of sources before cleaning [ 25.0 sigma ]: 120 \n",
      "Removed 6 sources near boundary\n",
      "Removed 5 crowded sources\n"
     ]
    },
    {
     "name": "stdout",
     "output_type": "stream",
     "text": [
      "Fitting source for FWHM: 109/109 "
     ]
    },
    {
     "name": "stderr",
     "output_type": "stream",
     "text": [
      "Removed 1 saturated sources\n",
      "WARNING: Input data contains invalid values (NaNs or infs), which were automatically clipped. [astropy.stats.sigma_clipping]\n",
      "Input data contains invalid values (NaNs or infs), which were automatically clipped.\n",
      "Removed 2 FWHM outliers\n",
      "WARNING: Input data contains invalid values (NaNs or infs), which were automatically clipped. [astropy.stats.sigma_clipping]\n",
      "Input data contains invalid values (NaNs or infs), which were automatically clipped.\n",
      "Removed 21 median outliers\n",
      "Useable sources found [ 25 sigma ]: 109\n",
      "Removes 2 sources within minimum seperation [ 27 pixel ]\n",
      "\n",
      "FWHM: 5.615 +/- 0.436 [ pixels ]\n",
      "\n",
      "Seeing: 1.860 [ arcsec ]\n",
      "Aperture size: 9.5 pixels\n",
      "Aperture correction: -0.032 +/- 0.010 [ mag ]\n",
      "WARNING: FITSFixedWarning: 'datfix' made the change 'Invalid parameter values: MJD-OBS and DATE-OBS are inconsistent.\n",
      "Changed DATE-OBS from '2022-12-13        ' to '2022-12-13T00:00:00.0''. [astropy.wcs.wcs]\n",
      "FITSFixedWarning: 'datfix' made the change 'Invalid parameter values: MJD-OBS and DATE-OBS are inconsistent.\n",
      "Changed DATE-OBS from '2022-12-13        ' to '2022-12-13T00:00:00.0''.\n",
      "Catalog found for target_ra_351_dec_21\n",
      "Catalog: PAN_STARRS \n",
      "File: target_ra_351_dec_21_r_0.25\n",
      "Catalog length: 7636\n",
      "Removed 2270 sources fainter than cutoff [20 mag]\n",
      "Using Gaussian Profile for fitting\n",
      "Catalog Length: 208\n"
     ]
    },
    {
     "name": "stdout",
     "output_type": "stream",
     "text": [
      "\n",
      "+----------------------------------------------+\n",
      "|Searching for catalog for target_ra_351_dec_21|\n",
      "+----------------------------------------------+\n",
      "\n",
      "\n",
      "+---------------------------------+\n",
      "|Matching catalog sources to image|\n",
      "+---------------------------------+\n",
      "\n",
      "Removed 2 sources too close to target\n",
      "Removed 413 sources too close to boundary or off image\n",
      "Matching catalog to image: 197 / 208 :: Useful sources 173 / 208 "
     ]
    },
    {
     "name": "stderr",
     "output_type": "stream",
     "text": [
      "\n",
      "Median offset: 3.1 [ pixels ] / 1.0 [ arcsec ]\n",
      "Residual table updated: 1 / 10 \n",
      "\tSNR: 748 :: FWHM fitted 6.141\n"
     ]
    },
    {
     "name": "stdout",
     "output_type": "stream",
     "text": [
      "\r",
      "Matching catalog to image: 198 / 208 :: Useful sources 174 / 208 \r",
      "Matching catalog to image: 199 / 208 :: Useful sources 174 / 208 \r",
      "Matching catalog to image: 200 / 208 :: Useful sources 174 / 208 \r",
      "Matching catalog to image: 201 / 208 :: Useful sources 175 / 208 \r",
      "Matching catalog to image: 202 / 208 :: Useful sources 175 / 208 \r",
      "Matching catalog to image: 203 / 208 :: Useful sources 175 / 208 \r",
      "Matching catalog to image: 204 / 208 :: Useful sources 176 / 208 \r",
      "Matching catalog to image: 205 / 208 :: Useful sources 177 / 208 \r",
      "Matching catalog to image: 206 / 208 :: Useful sources 178 / 208 \r",
      "Matching catalog to image: 207 / 208 :: Useful sources 179 / 208 \r",
      "Matching catalog to image: 208 / 208 :: Useful sources 179 / 208   .. done\n",
      "\n",
      "Broken cutouts: 0\n",
      "Not in correct location: 0\n",
      "Not detected: 27\n",
      "Saturated: 2\n",
      "Error: 0\n",
      "\n",
      "\n",
      "+-------------------------------------------+\n",
      "|Building PSF model using stars in the field|\n",
      "+-------------------------------------------+\n",
      "\n"
     ]
    },
    {
     "name": "stderr",
     "output_type": "stream",
     "text": [
      "Residual table updated: 2 / 10 \n",
      "\tSNR: 615 :: FWHM fitted 6.000\n",
      "Residual table updated: 3 / 10 \n",
      "\tSNR: 594 :: FWHM fitted 5.623\n",
      "Residual table updated: 4 / 10 \n",
      "\tSNR: 544 :: FWHM fitted 5.598\n",
      "Residual table updated: 5 / 10 \n",
      "\tSNR: 487 :: FWHM fitted 5.451\n",
      "Residual table updated: 6 / 10 \n",
      "\tSNR: 478 :: FWHM fitted 6.103\n",
      "Residual table updated: 7 / 10 \n",
      "\tSNR: 461 :: FWHM fitted 5.804\n",
      "Residual table updated: 8 / 10 \n",
      "\tSNR: 452 :: FWHM fitted 5.626\n",
      "Residual table updated: 9 / 10 \n",
      "\tSNR: 424 :: FWHM fitted 5.491\n",
      "Residual table updated: 10 / 10 \n",
      "\tSNR: 423 :: FWHM fitted 5.525\n",
      "\n",
      "PSF built using 10 sources\n",
      "\n",
      "Unity PSF: 37.9 [counts] \n",
      "Unity Residual table: 2.8 [counts] \n",
      "Using Aperture Photometry on sequence Stars \n",
      "No PSF sources fitted\n",
      "WARNING: Input data contains invalid values (NaNs or infs), which were automatically clipped. [astropy.stats.sigma_clipping]\n",
      "Input data contains invalid values (NaNs or infs), which were automatically clipped.\n",
      "\n",
      "Mean g-band zeropoint: 26.058 +/- 0.029 \n",
      "\n"
     ]
    },
    {
     "name": "stdout",
     "output_type": "stream",
     "text": [
      "PSF model saved as: /Users/terwelj/Documents/VirtualMachine/Observing_ING/autophot/newtest/at2022acuo_REDUCED/r1645962redCCD4/PSF_model_r1645962redCCD4_APT.fits\n",
      "\n",
      "+-------------------+\n",
      "|Measuring PSF model|\n",
      "+-------------------+\n",
      "\n",
      "\n",
      "+-----------------------+\n",
      "|Finding Zeropoint value|\n",
      "+-----------------------+\n",
      "\n",
      "Checking for suitable catalog sources\n",
      "Removed 167 sources lower than SNR of 25.0\n"
     ]
    },
    {
     "name": "stderr",
     "output_type": "stream",
     "text": [
      "/opt/anaconda3/envs/autophot/lib/python3.7/site-packages/matplotlib/backends/backend_pdf.py:1649: DeprecationWarning: NONE is deprecated and will be removed in Pillow 10 (2023-07-01). Use Resampling.NEAREST or Dither.NONE instead.\n",
      "  img = img.convert(mode='P', dither=Image.NONE,\n",
      "/opt/anaconda3/envs/autophot/lib/python3.7/site-packages/matplotlib/backends/backend_pdf.py:1650: DeprecationWarning: ADAPTIVE is deprecated and will be removed in Pillow 10 (2023-07-01). Use Palette.ADAPTIVE instead.\n",
      "  palette=Image.ADAPTIVE, colors=num_colors)\n",
      "Approx. catalog limiting magnitude: 19.812 [ mag ]\n",
      "Target photometry on original image\n",
      "/opt/anaconda3/envs/autophot/lib/python3.7/site-packages/matplotlib/backends/backend_pdf.py:1649: DeprecationWarning: NONE is deprecated and will be removed in Pillow 10 (2023-07-01). Use Resampling.NEAREST or Dither.NONE instead.\n",
      "  img = img.convert(mode='P', dither=Image.NONE,\n",
      "/opt/anaconda3/envs/autophot/lib/python3.7/site-packages/matplotlib/backends/backend_pdf.py:1650: DeprecationWarning: ADAPTIVE is deprecated and will be removed in Pillow 10 (2023-07-01). Use Palette.ADAPTIVE instead.\n",
      "  palette=Image.ADAPTIVE, colors=num_colors)\n",
      "Approximate Target SNR: 12.4\n",
      "SNR = 12 - skipping limiting magnitude\n",
      "Pixel Offset: 0.000\n",
      "Limiting Magnitude: skipped\n",
      "Target Detection probability: 97 %\n",
      "Target flux: 181.446 +/- 0.000 [counts/s]\n"
     ]
    },
    {
     "name": "stdout",
     "output_type": "stream",
     "text": [
      "\n",
      "+-----------------------------------+\n",
      "|Doing Aperture Photometry on Target|\n",
      "+-----------------------------------+\n",
      "\n"
     ]
    },
    {
     "name": "stderr",
     "output_type": "stream",
     "text": [
      "Noise: 390.791 [counts/s]\n",
      "Target SNR: 12.447 +/- 0.084\n",
      "Instrumental Magnitude: -5.647 +/- 0.000\n",
      "Zeropoint: 26.058 +/- 0.029\n",
      "Target Magnitude: 20.379 +/- 0.089 \n",
      "\n",
      "*** Transient well detected ***\n",
      "\n",
      "Time Taken [ 8408 ]: 31s\n",
      "Sucess: r1645962redCCD4_APT.fits :: PID 8408 \n",
      "\n",
      "\n",
      "User instrument database: /Users/terwelj/Documents/VirtualMachine/Observing_ING/autophot/newtest/telescope.yml\n",
      "\n",
      "Number of files: 3\n",
      "\n",
      "1 telescope(s) detected - checking header keywords\n",
      "\n"
     ]
    },
    {
     "name": "stdout",
     "output_type": "stream",
     "text": [
      "\n",
      "---\n",
      "\n",
      "Files that failed : []\n",
      "\n",
      "DONE\n",
      "\n",
      "Done - Time Taken: 115.4\n",
      "Photometry successfully extracted from all images\n",
      "\n",
      "\n",
      "Running AutoPHOT on at2022acsd, ra = 357.63549, dec = 14.93206\n",
      "\n",
      "\n",
      "Default input loaded in from: \n",
      "/opt/anaconda3/envs/autophot/lib/python3.7/site-packages/autophot/databases/default_input.yml\n",
      "\n",
      "        _       _       ___ _  _    _____\n",
      "       /_\\ _  _| |_ ___| _ \\ || |__|_   _|\n",
      "      / _ \\ || |  _/ _ \\  _/ __ / _ \\| |\n",
      "     /_/ \\_\\_,_|\\__\\___/_| |_||_\\___/|_|\n",
      "    \n",
      "     ---------------------------------------\n",
      "        Automated Photometry of Transients\n",
      "        S. J. Brennan et al. 2021 \n",
      "        Please provide feedback/bugs to:\n",
      "        Email: sean.brennan2@ucdconnect.ie\n",
      "    ---------------------------------------\n",
      "Directory of fits file: /Users/terwelj/Documents/VirtualMachine/Observing_ING/autophot/newtest/at2022acsd\n",
      "Found Telescopes:\n",
      "\n",
      " - INT\n",
      "\n",
      "-> Telescope check complete\n",
      "\n",
      "Checking Filter keywords and database\n",
      "\n",
      "-> Filter check complete\n"
     ]
    },
    {
     "name": "stderr",
     "output_type": "stream",
     "text": [
      "File: r1645965redCCD4_APT.fits - PID: 8408\n",
      "Start Time: 2023-01-03 14:23:31.885589\n",
      "Filter keyoward used: WFFBAND\n",
      "Telescope: INT\n",
      "Filter: i\n",
      "MJD: 59926.960\n",
      "Date of Observation : 2022-12-13\n",
      "Read Noise: 5.8 [e^- /pixel]\n",
      "GAIN: 2.9 [e^- /count]\n",
      "Exposure time: 20 [s] \n",
      "Detecting/removing cosmic ray sources\n"
     ]
    },
    {
     "name": "stdout",
     "output_type": "stream",
     "text": [
      "\n",
      "Checking Filter information for each image\n",
      "\n",
      "Files removed - Wrong Image Type: 0\n",
      "\n",
      "Files removed - No/Wrong filter(s): 0\n",
      "Filters not included: []\n",
      "\n",
      "\n",
      "Files removed: 0\n",
      "\n",
      "+-----------+\n",
      "|File: 1 / 3|\n",
      "+-----------+\n",
      "\n",
      "Starting Astroscrappy ... "
     ]
    },
    {
     "name": "stderr",
     "output_type": "stream",
     "text": [
      "Contaminated pixels with Cosmic rays removed: 27368\n",
      "Cosmic rays removed - image updated\n",
      "WARNING: FITSFixedWarning: RADECSYS= 'FK5 ' / mean place new (after the 1976 IAU) system \n",
      "the RADECSYS keyword is deprecated, use RADESYSa. [astropy.wcs.wcs]\n",
      "FITSFixedWarning: RADECSYS= 'FK5 ' / mean place new (after the 1976 IAU) system \n",
      "the RADECSYS keyword is deprecated, use RADESYSa.\n",
      "WARNING: FITSFixedWarning: PROJP1 = 1.00000000 / Projection coefficient for primary WCS \n",
      "the PROJPn keyword is deprecated, use PVi_ma. [astropy.wcs.wcs]\n",
      "FITSFixedWarning: PROJP1 = 1.00000000 / Projection coefficient for primary WCS \n",
      "the PROJPn keyword is deprecated, use PVi_ma.\n",
      "WARNING: FITSFixedWarning: PROJP3 = 0.00000000 / Projection coefficient for primary WCS \n",
      "the PROJPn keyword is deprecated, use PVi_ma. [astropy.wcs.wcs]\n",
      "FITSFixedWarning: PROJP3 = 0.00000000 / Projection coefficient for primary WCS \n",
      "the PROJPn keyword is deprecated, use PVi_ma.\n",
      "WARNING: FITSFixedWarning: 'datfix' made the change 'Invalid parameter values: MJD-OBS and DATE-OBS are inconsistent.\n",
      "Changed DATE-OBS from '2022-12-13        ' to '2022-12-13T00:00:00.0''. [astropy.wcs.wcs]\n",
      "FITSFixedWarning: 'datfix' made the change 'Invalid parameter values: MJD-OBS and DATE-OBS are inconsistent.\n",
      "Changed DATE-OBS from '2022-12-13        ' to '2022-12-13T00:00:00.0''.\n",
      "\n",
      "Performing Astrometry.net\n",
      "Removing any pre-existing WCS keys \n",
      "No WCS values found - attempting to solve field\n",
      "ASTROMETRY started...\n",
      "ASTROMETRY finished: 3s\n",
      "Updating WCS keys with new values\n",
      "WCS saved to new file\n",
      "\n",
      "Searching for FWHM\n",
      "Using Gaussian Profile for fitting\n"
     ]
    },
    {
     "name": "stdout",
     "output_type": "stream",
     "text": [
      "\n",
      "+-------------------------------+\n",
      "|Finding Full Width Half Maximum|\n",
      "+-------------------------------+\n",
      "\n"
     ]
    },
    {
     "name": "stderr",
     "output_type": "stream",
     "text": [
      "\n",
      "Number of sources before cleaning [ 25.0 sigma ]: 25 \n",
      "Updating search FWHM value\n"
     ]
    },
    {
     "name": "stdout",
     "output_type": "stream",
     "text": [
      "zero-size array to reduction operation fmax which has no identity\n",
      "zero-size array to reduction operation fmax which has no identity\n",
      "Updated guess for FWHM: 7.1 pixels \n"
     ]
    },
    {
     "name": "stderr",
     "output_type": "stream",
     "text": [
      "\n",
      "Number of sources before cleaning [ 25.0 sigma ]: 124 \n",
      "Removed 5 sources near boundary\n",
      "Removed 2 crowded sources\n"
     ]
    },
    {
     "name": "stdout",
     "output_type": "stream",
     "text": [
      "Fitting source for FWHM: 117/117  "
     ]
    },
    {
     "name": "stderr",
     "output_type": "stream",
     "text": [
      "Removed 8 saturated sources\n",
      "WARNING: Input data contains invalid values (NaNs or infs), which were automatically clipped. [astropy.stats.sigma_clipping]\n",
      "Input data contains invalid values (NaNs or infs), which were automatically clipped.\n",
      "Removed 11 FWHM outliers\n",
      "WARNING: Input data contains invalid values (NaNs or infs), which were automatically clipped. [astropy.stats.sigma_clipping]\n",
      "Input data contains invalid values (NaNs or infs), which were automatically clipped.\n",
      "Removed 22 median outliers\n",
      "Useable sources found [ 25 sigma ]: 117\n",
      "Removes 2 sources within minimum seperation [ 24 pixel ]\n",
      "\n",
      "FWHM: 4.874 +/- 0.323 [ pixels ]\n",
      "\n",
      "Seeing: 1.618 [ arcsec ]\n",
      "Aperture size: 8.3 pixels\n",
      "Aperture correction: -0.046 +/- 0.027 [ mag ]\n",
      "WARNING: FITSFixedWarning: 'datfix' made the change 'Invalid parameter values: MJD-OBS and DATE-OBS are inconsistent.\n",
      "Changed DATE-OBS from '2022-12-13        ' to '2022-12-13T00:00:00.0''. [astropy.wcs.wcs]\n",
      "FITSFixedWarning: 'datfix' made the change 'Invalid parameter values: MJD-OBS and DATE-OBS are inconsistent.\n",
      "Changed DATE-OBS from '2022-12-13        ' to '2022-12-13T00:00:00.0''.\n",
      "Searching for new catalog [sdss] for target_ra_358_dec_15 \n"
     ]
    },
    {
     "name": "stdout",
     "output_type": "stream",
     "text": [
      "\n",
      "+----------------------------------------------+\n",
      "|Searching for catalog for target_ra_358_dec_15|\n",
      "+----------------------------------------------+\n",
      "\n"
     ]
    },
    {
     "name": "stderr",
     "output_type": "stream",
     "text": [
      "Catalog length: 283\n",
      "Removed 149 sources fainter than cutoff [20 mag]\n",
      "Using Gaussian Profile for fitting\n",
      "Catalog Length: 34\n"
     ]
    },
    {
     "name": "stdout",
     "output_type": "stream",
     "text": [
      "\n",
      "+---------------------------------+\n",
      "|Matching catalog sources to image|\n",
      "+---------------------------------+\n",
      "\n",
      "Removed 23 sources too close to boundary or off image\n",
      "\r",
      "Matching catalog to image: 1 / 34 :: Useful sources 1 / 34 \r",
      "Matching catalog to image: 2 / 34 :: Useful sources 2 / 34 \r",
      "Matching catalog to image: 3 / 34 :: Useful sources 2 / 34 \r",
      "Matching catalog to image: 4 / 34 :: Useful sources 3 / 34 \r",
      "Matching catalog to image: 5 / 34 :: Useful sources 3 / 34 \r",
      "Matching catalog to image: 6 / 34 :: Useful sources 3 / 34 \r",
      "Matching catalog to image: 7 / 34 :: Useful sources 4 / 34 \r",
      "Matching catalog to image: 8 / 34 :: Useful sources 5 / 34 \r",
      "Matching catalog to image: 9 / 34 :: Useful sources 6 / 34 \r",
      "Matching catalog to image: 10 / 34 :: Useful sources 7 / 34 \r",
      "Matching catalog to image: 11 / 34 :: Useful sources 8 / 34 \r",
      "Matching catalog to image: 12 / 34 :: Useful sources 8 / 34 \r",
      "Matching catalog to image: 13 / 34 :: Useful sources 9 / 34 \r",
      "Matching catalog to image: 14 / 34 :: Useful sources 10 / 34 \r",
      "Matching catalog to image: 15 / 34 :: Useful sources 10 / 34 "
     ]
    },
    {
     "name": "stderr",
     "output_type": "stream",
     "text": [
      "\n",
      "Median offset: 2.1 [ pixels ] / 0.7 [ arcsec ]\n"
     ]
    },
    {
     "name": "stdout",
     "output_type": "stream",
     "text": [
      "\r",
      "Matching catalog to image: 16 / 34 :: Useful sources 11 / 34 \r",
      "Matching catalog to image: 17 / 34 :: Useful sources 11 / 34 \r",
      "Matching catalog to image: 18 / 34 :: Useful sources 12 / 34 \r",
      "Matching catalog to image: 19 / 34 :: Useful sources 13 / 34 \r",
      "Matching catalog to image: 20 / 34 :: Useful sources 14 / 34 \r",
      "Matching catalog to image: 21 / 34 :: Useful sources 14 / 34 \r",
      "Matching catalog to image: 22 / 34 :: Useful sources 15 / 34 \r",
      "Matching catalog to image: 23 / 34 :: Useful sources 15 / 34 \r",
      "Matching catalog to image: 24 / 34 :: Useful sources 16 / 34 \r",
      "Matching catalog to image: 25 / 34 :: Useful sources 16 / 34 \r",
      "Matching catalog to image: 26 / 34 :: Useful sources 16 / 34 \r",
      "Matching catalog to image: 27 / 34 :: Useful sources 16 / 34 \r",
      "Matching catalog to image: 28 / 34 :: Useful sources 16 / 34 \r",
      "Matching catalog to image: 29 / 34 :: Useful sources 16 / 34 \r",
      "Matching catalog to image: 30 / 34 :: Useful sources 16 / 34 \r",
      "Matching catalog to image: 31 / 34 :: Useful sources 17 / 34 \r",
      "Matching catalog to image: 32 / 34 :: Useful sources 17 / 34 \r",
      "Matching catalog to image: 33 / 34 :: Useful sources 17 / 34 \r",
      "Matching catalog to image: 34 / 34 :: Useful sources 18 / 34   .. done\n",
      "\n",
      "Broken cutouts: 0\n",
      "Not in correct location: 0\n",
      "Not detected: 14\n",
      "Saturated: 3\n",
      "Error: 0\n",
      "\n",
      "\n",
      "+-------------------------------------------+\n",
      "|Building PSF model using stars in the field|\n",
      "+-------------------------------------------+\n",
      "\n"
     ]
    },
    {
     "name": "stderr",
     "output_type": "stream",
     "text": [
      "Residual table updated: 1 / 10 \n",
      "\tSNR: 643 :: FWHM fitted 5.051\n",
      "Residual table updated: 2 / 10 \n",
      "\tSNR: 579 :: FWHM fitted 5.089\n",
      "Residual table updated: 3 / 10 \n",
      "\tSNR: 511 :: FWHM fitted 4.602\n",
      "Residual table updated: 4 / 10 \n",
      "\tSNR: 496 :: FWHM fitted 5.107\n",
      "Residual table updated: 5 / 10 \n",
      "\tSNR: 482 :: FWHM fitted 5.213\n",
      "Residual table updated: 6 / 10 \n",
      "\tSNR: 468 :: FWHM fitted 5.123\n",
      "Residual table updated: 7 / 10 \n",
      "\tSNR: 436 :: FWHM fitted 4.686\n",
      "Residual table updated: 8 / 10 \n",
      "\tSNR: 415 :: FWHM fitted 4.648\n",
      "Residual table updated: 9 / 10 \n",
      "\tSNR: 401 :: FWHM fitted 4.732\n",
      "Residual table updated: 10 / 10 \n",
      "\tSNR: 396 :: FWHM fitted 4.603\n",
      "\n",
      "PSF built using 10 sources\n",
      "\n",
      "Unity PSF: 28.9 [counts] \n",
      "Unity Residual table: 2.4 [counts] \n",
      "Using Aperture Photometry on sequence Stars \n",
      "No PSF sources fitted\n",
      "WARNING: Input data contains invalid values (NaNs or infs), which were automatically clipped. [astropy.stats.sigma_clipping]\n",
      "Input data contains invalid values (NaNs or infs), which were automatically clipped.\n",
      "\n",
      "Mean i-band zeropoint: 25.636 +/- 0.077 \n",
      "\n"
     ]
    },
    {
     "name": "stdout",
     "output_type": "stream",
     "text": [
      "PSF model saved as: /Users/terwelj/Documents/VirtualMachine/Observing_ING/autophot/newtest/at2022acsd_REDUCED/r1645965redCCD4/PSF_model_r1645965redCCD4_APT.fits\n",
      "\n",
      "+-------------------+\n",
      "|Measuring PSF model|\n",
      "+-------------------+\n",
      "\n",
      "\n",
      "+-----------------------+\n",
      "|Finding Zeropoint value|\n",
      "+-----------------------+\n",
      "\n",
      "Checking for suitable catalog sources\n",
      "Removed 14 sources lower than SNR of 25.0\n"
     ]
    },
    {
     "name": "stderr",
     "output_type": "stream",
     "text": [
      "/opt/anaconda3/envs/autophot/lib/python3.7/site-packages/matplotlib/backends/backend_pdf.py:1649: DeprecationWarning: NONE is deprecated and will be removed in Pillow 10 (2023-07-01). Use Resampling.NEAREST or Dither.NONE instead.\n",
      "  img = img.convert(mode='P', dither=Image.NONE,\n",
      "/opt/anaconda3/envs/autophot/lib/python3.7/site-packages/matplotlib/backends/backend_pdf.py:1650: DeprecationWarning: ADAPTIVE is deprecated and will be removed in Pillow 10 (2023-07-01). Use Palette.ADAPTIVE instead.\n",
      "  palette=Image.ADAPTIVE, colors=num_colors)\n",
      "Target photometry on original image\n"
     ]
    },
    {
     "name": "stdout",
     "output_type": "stream",
     "text": [
      "\n",
      "+-----------------------------------+\n",
      "|Doing Aperture Photometry on Target|\n",
      "+-----------------------------------+\n",
      "\n"
     ]
    },
    {
     "name": "stderr",
     "output_type": "stream",
     "text": [
      "/opt/anaconda3/envs/autophot/lib/python3.7/site-packages/matplotlib/backends/backend_pdf.py:1649: DeprecationWarning: NONE is deprecated and will be removed in Pillow 10 (2023-07-01). Use Resampling.NEAREST or Dither.NONE instead.\n",
      "  img = img.convert(mode='P', dither=Image.NONE,\n",
      "/opt/anaconda3/envs/autophot/lib/python3.7/site-packages/matplotlib/backends/backend_pdf.py:1650: DeprecationWarning: ADAPTIVE is deprecated and will be removed in Pillow 10 (2023-07-01). Use Palette.ADAPTIVE instead.\n",
      "  palette=Image.ADAPTIVE, colors=num_colors)\n",
      "Approximate Target SNR: 16.4\n",
      "SNR = 16 - skipping limiting magnitude\n",
      "Pixel Offset: 0.000\n",
      "Limiting Magnitude: skipped\n",
      "Target Detection probability: 99 %\n",
      "Target flux: 328.750 +/- 0.000 [counts/s]\n",
      "Noise: 453.437 [counts/s]\n",
      "Target SNR: 16.366 +/- 0.064\n",
      "Instrumental Magnitude: -6.292 +/- 0.000\n",
      "Zeropoint: 25.636 +/- 0.077\n",
      "Target Magnitude: 19.298 +/- 0.104 \n",
      "\n",
      "*** Transient well detected ***\n",
      "\n",
      "Time Taken [ 8408 ]: 25s\n",
      "Sucess: r1645965redCCD4_APT.fits :: PID 8408 \n",
      "\n",
      "File: r1645963redCCD4_APT.fits - PID: 8408\n",
      "Start Time: 2023-01-03 14:23:57.098044\n",
      "Filter keyoward used: WFFBAND\n",
      "Telescope: INT\n",
      "Filter: g\n",
      "MJD: 59926.958\n",
      "Date of Observation : 2022-12-13\n",
      "Read Noise: 5.8 [e^- /pixel]\n",
      "GAIN: 2.9 [e^- /count]\n",
      "Exposure time: 20 [s] \n",
      "Detecting/removing cosmic ray sources\n"
     ]
    },
    {
     "name": "stdout",
     "output_type": "stream",
     "text": [
      "\n",
      "+-----------+\n",
      "|File: 2 / 3|\n",
      "+-----------+\n",
      "\n",
      "Starting Astroscrappy ... "
     ]
    },
    {
     "name": "stderr",
     "output_type": "stream",
     "text": [
      "Contaminated pixels with Cosmic rays removed: 30201\n",
      "Cosmic rays removed - image updated\n",
      "WARNING: FITSFixedWarning: RADECSYS= 'FK5 ' / mean place new (after the 1976 IAU) system \n",
      "the RADECSYS keyword is deprecated, use RADESYSa. [astropy.wcs.wcs]\n",
      "FITSFixedWarning: RADECSYS= 'FK5 ' / mean place new (after the 1976 IAU) system \n",
      "the RADECSYS keyword is deprecated, use RADESYSa.\n",
      "WARNING: FITSFixedWarning: PROJP1 = 1.00000000 / Projection coefficient for primary WCS \n",
      "the PROJPn keyword is deprecated, use PVi_ma. [astropy.wcs.wcs]\n",
      "FITSFixedWarning: PROJP1 = 1.00000000 / Projection coefficient for primary WCS \n",
      "the PROJPn keyword is deprecated, use PVi_ma.\n",
      "WARNING: FITSFixedWarning: PROJP3 = 0.00000000 / Projection coefficient for primary WCS \n",
      "the PROJPn keyword is deprecated, use PVi_ma. [astropy.wcs.wcs]\n",
      "FITSFixedWarning: PROJP3 = 0.00000000 / Projection coefficient for primary WCS \n",
      "the PROJPn keyword is deprecated, use PVi_ma.\n",
      "WARNING: FITSFixedWarning: 'datfix' made the change 'Invalid parameter values: MJD-OBS and DATE-OBS are inconsistent.\n",
      "Changed DATE-OBS from '2022-12-13        ' to '2022-12-13T00:00:00.0''. [astropy.wcs.wcs]\n",
      "FITSFixedWarning: 'datfix' made the change 'Invalid parameter values: MJD-OBS and DATE-OBS are inconsistent.\n",
      "Changed DATE-OBS from '2022-12-13        ' to '2022-12-13T00:00:00.0''.\n",
      "\n",
      "Performing Astrometry.net\n",
      "Removing any pre-existing WCS keys \n",
      "No WCS values found - attempting to solve field\n",
      "ASTROMETRY started...\n",
      "ASTROMETRY finished: 3s\n",
      "Updating WCS keys with new values\n",
      "WCS saved to new file\n",
      "\n",
      "Searching for FWHM\n",
      "Using Gaussian Profile for fitting\n"
     ]
    },
    {
     "name": "stdout",
     "output_type": "stream",
     "text": [
      "\n",
      "+-------------------------------+\n",
      "|Finding Full Width Half Maximum|\n",
      "+-------------------------------+\n",
      "\n"
     ]
    },
    {
     "name": "stderr",
     "output_type": "stream",
     "text": [
      "\n",
      "Number of sources before cleaning [ 25.0 sigma ]: 25 \n",
      "Updating search FWHM value\n"
     ]
    },
    {
     "name": "stdout",
     "output_type": "stream",
     "text": [
      "Updated guess for FWHM: 7.9 pixels \n"
     ]
    },
    {
     "name": "stderr",
     "output_type": "stream",
     "text": [
      "\n",
      "Number of sources before cleaning [ 25.0 sigma ]: 99 \n",
      "Removed 5 sources near boundary\n",
      "Removed 2 crowded sources\n"
     ]
    },
    {
     "name": "stdout",
     "output_type": "stream",
     "text": [
      "Fitting source for FWHM: 92/92    "
     ]
    },
    {
     "name": "stderr",
     "output_type": "stream",
     "text": [
      "Removed 3 saturated sources\n",
      "WARNING: Input data contains invalid values (NaNs or infs), which were automatically clipped. [astropy.stats.sigma_clipping]\n",
      "Input data contains invalid values (NaNs or infs), which were automatically clipped.\n",
      "Removed 7 FWHM outliers\n",
      "WARNING: Input data contains invalid values (NaNs or infs), which were automatically clipped. [astropy.stats.sigma_clipping]\n",
      "Input data contains invalid values (NaNs or infs), which were automatically clipped.\n",
      "Removed 24 median outliers\n",
      "Useable sources found [ 25 sigma ]: 92\n",
      "Removes 2 sources within minimum seperation [ 30 pixel ]\n",
      "\n",
      "FWHM: 6.010 +/- 0.386 [ pixels ]\n",
      "\n",
      "Seeing: 1.995 [ arcsec ]\n",
      "Aperture size: 10.2 pixels\n",
      "Aperture correction: -0.043 +/- 0.023 [ mag ]\n",
      "WARNING: FITSFixedWarning: 'datfix' made the change 'Invalid parameter values: MJD-OBS and DATE-OBS are inconsistent.\n",
      "Changed DATE-OBS from '2022-12-13        ' to '2022-12-13T00:00:00.0''. [astropy.wcs.wcs]\n",
      "FITSFixedWarning: 'datfix' made the change 'Invalid parameter values: MJD-OBS and DATE-OBS are inconsistent.\n",
      "Changed DATE-OBS from '2022-12-13        ' to '2022-12-13T00:00:00.0''.\n",
      "Catalog found for target_ra_358_dec_15\n",
      "Catalog: SDSS \n",
      "File: target_ra_358_dec_15_r_0.25\n",
      "Catalog length: 283\n",
      "Removed 171 sources fainter than cutoff [20 mag]\n",
      "Using Gaussian Profile for fitting\n",
      "Catalog Length: 15\n"
     ]
    },
    {
     "name": "stdout",
     "output_type": "stream",
     "text": [
      "\n",
      "+----------------------------------------------+\n",
      "|Searching for catalog for target_ra_358_dec_15|\n",
      "+----------------------------------------------+\n",
      "\n",
      "\n",
      "+---------------------------------+\n",
      "|Matching catalog sources to image|\n",
      "+---------------------------------+\n",
      "\n",
      "Removed 13 sources too close to boundary or off image\n",
      "\r",
      "Matching catalog to image: 1 / 15 :: Useful sources 1 / 15 \r",
      "Matching catalog to image: 2 / 15 :: Useful sources 2 / 15 \r",
      "Matching catalog to image: 3 / 15 :: Useful sources 2 / 15 \r",
      "Matching catalog to image: 4 / 15 :: Useful sources 3 / 15 \r",
      "Matching catalog to image: 5 / 15 :: Useful sources 4 / 15 \r",
      "Matching catalog to image: 6 / 15 :: Useful sources 5 / 15 \r",
      "Matching catalog to image: 7 / 15 :: Useful sources 6 / 15 \r",
      "Matching catalog to image: 8 / 15 :: Useful sources 7 / 15 \r",
      "Matching catalog to image: 9 / 15 :: Useful sources 8 / 15 \r",
      "Matching catalog to image: 10 / 15 :: Useful sources 8 / 15 \r",
      "Matching catalog to image: 11 / 15 :: Useful sources 9 / 15 \r",
      "Matching catalog to image: 12 / 15 :: Useful sources 10 / 15 \r",
      "Matching catalog to image: 13 / 15 :: Useful sources 11 / 15 "
     ]
    },
    {
     "name": "stderr",
     "output_type": "stream",
     "text": [
      "\n",
      "Median offset: 3.5 [ pixels ] / 1.2 [ arcsec ]\n",
      "Residual table updated: 1 / 10 \n",
      "\tSNR: 506 :: FWHM fitted 6.298\n",
      "Residual table updated: 2 / 10 \n",
      "\tSNR: 492 :: FWHM fitted 6.285\n",
      "Residual table updated: 3 / 10 \n",
      "\tSNR: 430 :: FWHM fitted 5.737\n",
      "Found faint soures near PSF star at 5 sigma - skipping \n"
     ]
    },
    {
     "name": "stdout",
     "output_type": "stream",
     "text": [
      "\r",
      "Matching catalog to image: 14 / 15 :: Useful sources 11 / 15 \r",
      "Matching catalog to image: 15 / 15 :: Useful sources 12 / 15   .. done\n",
      "\n",
      "Broken cutouts: 0\n",
      "Not in correct location: 0\n",
      "Not detected: 2\n",
      "Saturated: 2\n",
      "Error: 0\n",
      "\n",
      "\n",
      "+-------------------------------------------+\n",
      "|Building PSF model using stars in the field|\n",
      "+-------------------------------------------+\n",
      "\n"
     ]
    },
    {
     "name": "stderr",
     "output_type": "stream",
     "text": [
      "Residual table updated: 4 / 10 \n",
      "\tSNR: 412 :: FWHM fitted 5.701\n",
      "Residual table updated: 5 / 10 \n",
      "\tSNR: 407 :: FWHM fitted 6.343\n",
      "Residual table updated: 6 / 10 \n",
      "\tSNR: 391 :: FWHM fitted 5.694\n",
      "Residual table updated: 7 / 10 \n",
      "\tSNR: 366 :: FWHM fitted 6.426\n",
      "Residual table updated: 8 / 10 \n",
      "\tSNR: 365 :: FWHM fitted 6.187\n",
      "Residual table updated: 9 / 10 \n",
      "\tSNR: 363 :: FWHM fitted 6.180\n",
      "Residual table updated: 10 / 10 \n",
      "\tSNR: 342 :: FWHM fitted 6.060\n",
      "\n",
      "PSF built using 10 sources\n",
      "\n",
      "Unity PSF: 44.7 [counts] \n",
      "Unity Residual table: 3.8 [counts] \n",
      "Using Aperture Photometry on sequence Stars \n",
      "No PSF sources fitted\n",
      "\n",
      "Mean g-band zeropoint: 26.215 +/- 0.048 \n",
      "\n"
     ]
    },
    {
     "name": "stdout",
     "output_type": "stream",
     "text": [
      "PSF model saved as: /Users/terwelj/Documents/VirtualMachine/Observing_ING/autophot/newtest/at2022acsd_REDUCED/r1645963redCCD4/PSF_model_r1645963redCCD4_APT.fits\n",
      "\n",
      "+-------------------+\n",
      "|Measuring PSF model|\n",
      "+-------------------+\n",
      "\n",
      "\n",
      "+-----------------------+\n",
      "|Finding Zeropoint value|\n",
      "+-----------------------+\n",
      "\n",
      "Checking for suitable catalog sources\n",
      "Removed 10 sources lower than SNR of 25.0\n"
     ]
    },
    {
     "name": "stderr",
     "output_type": "stream",
     "text": [
      "/opt/anaconda3/envs/autophot/lib/python3.7/site-packages/matplotlib/backends/backend_pdf.py:1649: DeprecationWarning: NONE is deprecated and will be removed in Pillow 10 (2023-07-01). Use Resampling.NEAREST or Dither.NONE instead.\n",
      "  img = img.convert(mode='P', dither=Image.NONE,\n",
      "/opt/anaconda3/envs/autophot/lib/python3.7/site-packages/matplotlib/backends/backend_pdf.py:1650: DeprecationWarning: ADAPTIVE is deprecated and will be removed in Pillow 10 (2023-07-01). Use Palette.ADAPTIVE instead.\n",
      "  palette=Image.ADAPTIVE, colors=num_colors)\n",
      "Target photometry on original image\n"
     ]
    },
    {
     "name": "stdout",
     "output_type": "stream",
     "text": [
      "\n",
      "+-----------------------------------+\n",
      "|Doing Aperture Photometry on Target|\n",
      "+-----------------------------------+\n",
      "\n"
     ]
    },
    {
     "name": "stderr",
     "output_type": "stream",
     "text": [
      "/opt/anaconda3/envs/autophot/lib/python3.7/site-packages/matplotlib/backends/backend_pdf.py:1649: DeprecationWarning: NONE is deprecated and will be removed in Pillow 10 (2023-07-01). Use Resampling.NEAREST or Dither.NONE instead.\n",
      "  img = img.convert(mode='P', dither=Image.NONE,\n",
      "/opt/anaconda3/envs/autophot/lib/python3.7/site-packages/matplotlib/backends/backend_pdf.py:1650: DeprecationWarning: ADAPTIVE is deprecated and will be removed in Pillow 10 (2023-07-01). Use Palette.ADAPTIVE instead.\n",
      "  palette=Image.ADAPTIVE, colors=num_colors)\n",
      "Approximate Target SNR: 42.3\n",
      "SNR = 42 - skipping limiting magnitude\n",
      "Pixel Offset: 0.000\n",
      "Limiting Magnitude: skipped\n",
      "Target Detection probability: 100 %\n",
      "Target flux: 702.737 +/- 0.000 [counts/s]\n",
      "Noise: 422.809 [counts/s]\n",
      "Target SNR: 42.292 +/- 0.025\n",
      "Instrumental Magnitude: -7.117 +/- 0.000\n",
      "Zeropoint: 26.215 +/- 0.048\n",
      "Target Magnitude: 19.054 +/- 0.059 \n",
      "\n",
      "*** Transient well detected ***\n",
      "\n",
      "Time Taken [ 8408 ]: 22s\n",
      "Sucess: r1645963redCCD4_APT.fits :: PID 8408 \n",
      "\n",
      "File: r1645964redCCD4_APT.fits - PID: 8408\n",
      "Start Time: 2023-01-03 14:24:18.952801\n",
      "Filter keyoward used: WFFBAND\n",
      "Telescope: INT\n",
      "Filter: r\n",
      "MJD: 59926.959\n",
      "Date of Observation : 2022-12-13\n",
      "Read Noise: 5.8 [e^- /pixel]\n",
      "GAIN: 2.9 [e^- /count]\n",
      "Exposure time: 20 [s] \n",
      "Detecting/removing cosmic ray sources\n"
     ]
    },
    {
     "name": "stdout",
     "output_type": "stream",
     "text": [
      "\n",
      "+-----------+\n",
      "|File: 3 / 3|\n",
      "+-----------+\n",
      "\n",
      "Starting Astroscrappy ... "
     ]
    },
    {
     "name": "stderr",
     "output_type": "stream",
     "text": [
      "Contaminated pixels with Cosmic rays removed: 28152\n",
      "Cosmic rays removed - image updated\n",
      "WARNING: FITSFixedWarning: RADECSYS= 'FK5 ' / mean place new (after the 1976 IAU) system \n",
      "the RADECSYS keyword is deprecated, use RADESYSa. [astropy.wcs.wcs]\n",
      "FITSFixedWarning: RADECSYS= 'FK5 ' / mean place new (after the 1976 IAU) system \n",
      "the RADECSYS keyword is deprecated, use RADESYSa.\n",
      "WARNING: FITSFixedWarning: PROJP1 = 1.00000000 / Projection coefficient for primary WCS \n",
      "the PROJPn keyword is deprecated, use PVi_ma. [astropy.wcs.wcs]\n",
      "FITSFixedWarning: PROJP1 = 1.00000000 / Projection coefficient for primary WCS \n",
      "the PROJPn keyword is deprecated, use PVi_ma.\n",
      "WARNING: FITSFixedWarning: PROJP3 = 0.00000000 / Projection coefficient for primary WCS \n",
      "the PROJPn keyword is deprecated, use PVi_ma. [astropy.wcs.wcs]\n",
      "FITSFixedWarning: PROJP3 = 0.00000000 / Projection coefficient for primary WCS \n",
      "the PROJPn keyword is deprecated, use PVi_ma.\n",
      "WARNING: FITSFixedWarning: 'datfix' made the change 'Invalid parameter values: MJD-OBS and DATE-OBS are inconsistent.\n",
      "Changed DATE-OBS from '2022-12-13        ' to '2022-12-13T00:00:00.0''. [astropy.wcs.wcs]\n",
      "FITSFixedWarning: 'datfix' made the change 'Invalid parameter values: MJD-OBS and DATE-OBS are inconsistent.\n",
      "Changed DATE-OBS from '2022-12-13        ' to '2022-12-13T00:00:00.0''.\n",
      "\n",
      "Performing Astrometry.net\n",
      "Removing any pre-existing WCS keys \n",
      "No WCS values found - attempting to solve field\n",
      "ASTROMETRY started...\n",
      "ASTROMETRY finished: 3s\n",
      "Updating WCS keys with new values\n",
      "WCS saved to new file\n",
      "\n",
      "Searching for FWHM\n",
      "Using Gaussian Profile for fitting\n"
     ]
    },
    {
     "name": "stdout",
     "output_type": "stream",
     "text": [
      "\n",
      "+-------------------------------+\n",
      "|Finding Full Width Half Maximum|\n",
      "+-------------------------------+\n",
      "\n"
     ]
    },
    {
     "name": "stderr",
     "output_type": "stream",
     "text": [
      "\n",
      "Number of sources before cleaning [ 25.0 sigma ]: 25 \n",
      "Updating search FWHM value\n"
     ]
    },
    {
     "name": "stdout",
     "output_type": "stream",
     "text": [
      "zero-size array to reduction operation fmax which has no identity\n",
      "zero-size array to reduction operation fmax which has no identity\n",
      "zero-size array to reduction operation fmax which has no identity\n",
      "operands could not be broadcast together with shapes (2500,) (2400,) \n",
      "Updated guess for FWHM: 6.3 pixels \n"
     ]
    },
    {
     "name": "stderr",
     "output_type": "stream",
     "text": [
      "\n",
      "Number of sources before cleaning [ 25.0 sigma ]: 99 \n",
      "Removed 9 sources near boundary\n",
      "Removed 0 crowded sources\n"
     ]
    },
    {
     "name": "stdout",
     "output_type": "stream",
     "text": [
      "Fitting source for FWHM: 90/90   "
     ]
    },
    {
     "name": "stderr",
     "output_type": "stream",
     "text": [
      "Removed 5 saturated sources\n",
      "WARNING: Input data contains invalid values (NaNs or infs), which were automatically clipped. [astropy.stats.sigma_clipping]\n",
      "Input data contains invalid values (NaNs or infs), which were automatically clipped.\n",
      "Removed 9 FWHM outliers\n",
      "WARNING: Input data contains invalid values (NaNs or infs), which were automatically clipped. [astropy.stats.sigma_clipping]\n",
      "Input data contains invalid values (NaNs or infs), which were automatically clipped.\n",
      "Removed 24 median outliers\n",
      "Useable sources found [ 25 sigma ]: 90\n",
      "Removes 2 sources within minimum seperation [ 29 pixel ]\n",
      "\n",
      "FWHM: 5.992 +/- 0.352 [ pixels ]\n",
      "\n",
      "Seeing: 1.989 [ arcsec ]\n",
      "Aperture size: 10.2 pixels\n",
      "Aperture correction: -0.035 +/- 0.014 [ mag ]\n",
      "WARNING: FITSFixedWarning: 'datfix' made the change 'Invalid parameter values: MJD-OBS and DATE-OBS are inconsistent.\n",
      "Changed DATE-OBS from '2022-12-13        ' to '2022-12-13T00:00:00.0''. [astropy.wcs.wcs]\n",
      "FITSFixedWarning: 'datfix' made the change 'Invalid parameter values: MJD-OBS and DATE-OBS are inconsistent.\n",
      "Changed DATE-OBS from '2022-12-13        ' to '2022-12-13T00:00:00.0''.\n",
      "Catalog found for target_ra_358_dec_15\n",
      "Catalog: SDSS \n",
      "File: target_ra_358_dec_15_r_0.25\n",
      "Catalog length: 283\n",
      "Removed 174 sources fainter than cutoff [20 mag]\n",
      "Using Gaussian Profile for fitting\n",
      "Catalog Length: 21\n"
     ]
    },
    {
     "name": "stdout",
     "output_type": "stream",
     "text": [
      "\n",
      "+----------------------------------------------+\n",
      "|Searching for catalog for target_ra_358_dec_15|\n",
      "+----------------------------------------------+\n",
      "\n",
      "\n",
      "+---------------------------------+\n",
      "|Matching catalog sources to image|\n",
      "+---------------------------------+\n",
      "\n",
      "Removed 14 sources too close to boundary or off image\n",
      "\r",
      "Matching catalog to image: 1 / 21 :: Useful sources 1 / 21 \r",
      "Matching catalog to image: 2 / 21 :: Useful sources 2 / 21 \r",
      "Matching catalog to image: 3 / 21 :: Useful sources 3 / 21 \r",
      "Matching catalog to image: 4 / 21 :: Useful sources 3 / 21 \r",
      "Matching catalog to image: 5 / 21 :: Useful sources 3 / 21 \r",
      "Matching catalog to image: 6 / 21 :: Useful sources 4 / 21 \r",
      "Matching catalog to image: 7 / 21 :: Useful sources 5 / 21 \r",
      "Matching catalog to image: 8 / 21 :: Useful sources 6 / 21 \r",
      "Matching catalog to image: 9 / 21 :: Useful sources 7 / 21 \r",
      "Matching catalog to image: 10 / 21 :: Useful sources 8 / 21 \r",
      "Matching catalog to image: 11 / 21 :: Useful sources 8 / 21 \r",
      "Matching catalog to image: 12 / 21 :: Useful sources 9 / 21 \r",
      "Matching catalog to image: 13 / 21 :: Useful sources 10 / 21 \r",
      "Matching catalog to image: 14 / 21 :: Useful sources 10 / 21 \r",
      "Matching catalog to image: 15 / 21 :: Useful sources 11 / 21 \r",
      "Matching catalog to image: 16 / 21 :: Useful sources 11 / 21 \r",
      "Matching catalog to image: 17 / 21 :: Useful sources 11 / 21 "
     ]
    },
    {
     "name": "stderr",
     "output_type": "stream",
     "text": [
      "\n",
      "Median offset: 2.6 [ pixels ] / 0.9 [ arcsec ]\n",
      "Residual table updated: 1 / 10 \n",
      "\tSNR: 568 :: FWHM fitted 5.703\n",
      "Residual table updated: 2 / 10 \n",
      "\tSNR: 565 :: FWHM fitted 6.217\n",
      "Residual table updated: 3 / 10 \n",
      "\tSNR: 556 :: FWHM fitted 6.130\n"
     ]
    },
    {
     "name": "stdout",
     "output_type": "stream",
     "text": [
      "\r",
      "Matching catalog to image: 18 / 21 :: Useful sources 12 / 21 \r",
      "Matching catalog to image: 19 / 21 :: Useful sources 13 / 21 \r",
      "Matching catalog to image: 20 / 21 :: Useful sources 13 / 21 \r",
      "Matching catalog to image: 21 / 21 :: Useful sources 13 / 21   .. done\n",
      "\n",
      "Broken cutouts: 0\n",
      "Not in correct location: 0\n",
      "Not detected: 7\n",
      "Saturated: 2\n",
      "Error: 0\n",
      "\n",
      "\n",
      "+-------------------------------------------+\n",
      "|Building PSF model using stars in the field|\n",
      "+-------------------------------------------+\n",
      "\n"
     ]
    },
    {
     "name": "stderr",
     "output_type": "stream",
     "text": [
      "Residual table updated: 4 / 10 \n",
      "\tSNR: 556 :: FWHM fitted 6.043\n",
      "Residual table updated: 5 / 10 \n",
      "\tSNR: 534 :: FWHM fitted 6.204\n",
      "Residual table updated: 6 / 10 \n",
      "\tSNR: 504 :: FWHM fitted 6.292\n",
      "Residual table updated: 7 / 10 \n",
      "\tSNR: 471 :: FWHM fitted 5.709\n",
      "Residual table updated: 8 / 10 \n",
      "\tSNR: 454 :: FWHM fitted 5.693\n",
      "Residual table updated: 9 / 10 \n",
      "\tSNR: 437 :: FWHM fitted 5.763\n",
      "Residual table updated: 10 / 10 \n",
      "\tSNR: 437 :: FWHM fitted 6.274\n",
      "\n",
      "PSF built using 10 sources\n",
      "\n",
      "Unity PSF: 43.2 [counts] \n",
      "Unity Residual table: 2.6 [counts] \n",
      "Using Aperture Photometry on sequence Stars \n",
      "No PSF sources fitted\n",
      "WARNING: Input data contains invalid values (NaNs or infs), which were automatically clipped. [astropy.stats.sigma_clipping]\n",
      "Input data contains invalid values (NaNs or infs), which were automatically clipped.\n",
      "\n",
      "Mean r-band zeropoint: 25.949 +/- 0.024 \n",
      "\n"
     ]
    },
    {
     "name": "stdout",
     "output_type": "stream",
     "text": [
      "PSF model saved as: /Users/terwelj/Documents/VirtualMachine/Observing_ING/autophot/newtest/at2022acsd_REDUCED/r1645964redCCD4/PSF_model_r1645964redCCD4_APT.fits\n",
      "\n",
      "+-------------------+\n",
      "|Measuring PSF model|\n",
      "+-------------------+\n",
      "\n",
      "\n",
      "+-----------------------+\n",
      "|Finding Zeropoint value|\n",
      "+-----------------------+\n",
      "\n",
      "Checking for suitable catalog sources\n",
      "Removed 10 sources lower than SNR of 25.0\n"
     ]
    },
    {
     "name": "stderr",
     "output_type": "stream",
     "text": [
      "/opt/anaconda3/envs/autophot/lib/python3.7/site-packages/matplotlib/backends/backend_pdf.py:1649: DeprecationWarning: NONE is deprecated and will be removed in Pillow 10 (2023-07-01). Use Resampling.NEAREST or Dither.NONE instead.\n",
      "  img = img.convert(mode='P', dither=Image.NONE,\n",
      "/opt/anaconda3/envs/autophot/lib/python3.7/site-packages/matplotlib/backends/backend_pdf.py:1650: DeprecationWarning: ADAPTIVE is deprecated and will be removed in Pillow 10 (2023-07-01). Use Palette.ADAPTIVE instead.\n",
      "  palette=Image.ADAPTIVE, colors=num_colors)\n",
      "Target photometry on original image\n"
     ]
    },
    {
     "name": "stdout",
     "output_type": "stream",
     "text": [
      "\n",
      "+-----------------------------------+\n",
      "|Doing Aperture Photometry on Target|\n",
      "+-----------------------------------+\n",
      "\n"
     ]
    },
    {
     "name": "stderr",
     "output_type": "stream",
     "text": [
      "/opt/anaconda3/envs/autophot/lib/python3.7/site-packages/matplotlib/backends/backend_pdf.py:1649: DeprecationWarning: NONE is deprecated and will be removed in Pillow 10 (2023-07-01). Use Resampling.NEAREST or Dither.NONE instead.\n",
      "  img = img.convert(mode='P', dither=Image.NONE,\n",
      "/opt/anaconda3/envs/autophot/lib/python3.7/site-packages/matplotlib/backends/backend_pdf.py:1650: DeprecationWarning: ADAPTIVE is deprecated and will be removed in Pillow 10 (2023-07-01). Use Palette.ADAPTIVE instead.\n",
      "  palette=Image.ADAPTIVE, colors=num_colors)\n",
      "Approximate Target SNR: 31.9\n",
      "SNR = 32 - skipping limiting magnitude\n",
      "Pixel Offset: 0.000\n",
      "Limiting Magnitude: skipped\n",
      "Target Detection probability: 99 %\n",
      "Target flux: 677.723 +/- 0.000 [counts/s]\n",
      "Noise: 566.496 [counts/s]\n",
      "Target SNR: 31.865 +/- 0.034\n",
      "Instrumental Magnitude: -7.078 +/- 0.000\n",
      "Zeropoint: 25.949 +/- 0.024\n",
      "Target Magnitude: 18.836 +/- 0.044 \n",
      "\n",
      "*** Transient well detected ***\n",
      "\n",
      "Time Taken [ 8408 ]: 20s\n",
      "Sucess: r1645964redCCD4_APT.fits :: PID 8408 \n",
      "\n",
      "\n",
      "User instrument database: /Users/terwelj/Documents/VirtualMachine/Observing_ING/autophot/newtest/telescope.yml\n",
      "\n",
      "Number of files: 3\n",
      "\n",
      "1 telescope(s) detected - checking header keywords\n",
      "\n"
     ]
    },
    {
     "name": "stdout",
     "output_type": "stream",
     "text": [
      "\n",
      "---\n",
      "\n",
      "Files that failed : []\n",
      "\n",
      "DONE\n",
      "\n",
      "Done - Time Taken: 67.7\n",
      "Photometry successfully extracted from all images\n",
      "\n",
      "\n",
      "Running AutoPHOT on at2022acru, ra = 58.36676, dec = -10.79583\n",
      "\n",
      "\n",
      "Default input loaded in from: \n",
      "/opt/anaconda3/envs/autophot/lib/python3.7/site-packages/autophot/databases/default_input.yml\n",
      "\n",
      "        _       _       ___ _  _    _____\n",
      "       /_\\ _  _| |_ ___| _ \\ || |__|_   _|\n",
      "      / _ \\ || |  _/ _ \\  _/ __ / _ \\| |\n",
      "     /_/ \\_\\_,_|\\__\\___/_| |_||_\\___/|_|\n",
      "    \n",
      "     ---------------------------------------\n",
      "        Automated Photometry of Transients\n",
      "        S. J. Brennan et al. 2021 \n",
      "        Please provide feedback/bugs to:\n",
      "        Email: sean.brennan2@ucdconnect.ie\n",
      "    ---------------------------------------\n",
      "Directory of fits file: /Users/terwelj/Documents/VirtualMachine/Observing_ING/autophot/newtest/at2022acru\n",
      "Found Telescopes:\n",
      "\n",
      " - INT\n",
      "\n",
      "-> Telescope check complete\n",
      "\n",
      "Checking Filter keywords and database\n",
      "\n",
      "-> Filter check complete\n"
     ]
    },
    {
     "name": "stderr",
     "output_type": "stream",
     "text": [
      "File: r1645969redCCD4_APT.fits - PID: 8408\n",
      "Start Time: 2023-01-03 14:24:39.616244\n",
      "Filter keyoward used: WFFBAND\n",
      "Telescope: INT\n",
      "Filter: g\n",
      "MJD: 59926.966\n",
      "Date of Observation : 2022-12-13\n",
      "Read Noise: 5.8 [e^- /pixel]\n",
      "GAIN: 2.9 [e^- /count]\n",
      "Exposure time: 20 [s] \n",
      "Detecting/removing cosmic ray sources\n"
     ]
    },
    {
     "name": "stdout",
     "output_type": "stream",
     "text": [
      "\n",
      "Checking Filter information for each image\n",
      "\n",
      "Files removed - Wrong Image Type: 0\n",
      "\n",
      "Files removed - No/Wrong filter(s): 0\n",
      "Filters not included: []\n",
      "\n",
      "\n",
      "Files removed: 0\n",
      "\n",
      "+-----------+\n",
      "|File: 1 / 3|\n",
      "+-----------+\n",
      "\n",
      "Starting Astroscrappy ... "
     ]
    },
    {
     "name": "stderr",
     "output_type": "stream",
     "text": [
      "Contaminated pixels with Cosmic rays removed: 30432\n",
      "Cosmic rays removed - image updated\n",
      "WARNING: FITSFixedWarning: RADECSYS= 'FK5 ' / mean place new (after the 1976 IAU) system \n",
      "the RADECSYS keyword is deprecated, use RADESYSa. [astropy.wcs.wcs]\n",
      "FITSFixedWarning: RADECSYS= 'FK5 ' / mean place new (after the 1976 IAU) system \n",
      "the RADECSYS keyword is deprecated, use RADESYSa.\n",
      "WARNING: FITSFixedWarning: PROJP1 = 1.00000000 / Projection coefficient for primary WCS \n",
      "the PROJPn keyword is deprecated, use PVi_ma. [astropy.wcs.wcs]\n",
      "FITSFixedWarning: PROJP1 = 1.00000000 / Projection coefficient for primary WCS \n",
      "the PROJPn keyword is deprecated, use PVi_ma.\n",
      "WARNING: FITSFixedWarning: PROJP3 = 0.00000000 / Projection coefficient for primary WCS \n",
      "the PROJPn keyword is deprecated, use PVi_ma. [astropy.wcs.wcs]\n",
      "FITSFixedWarning: PROJP3 = 0.00000000 / Projection coefficient for primary WCS \n",
      "the PROJPn keyword is deprecated, use PVi_ma.\n",
      "WARNING: FITSFixedWarning: 'datfix' made the change 'Invalid parameter values: MJD-OBS and DATE-OBS are inconsistent.\n",
      "Changed DATE-OBS from '2022-12-13        ' to '2022-12-13T00:00:00.0''. [astropy.wcs.wcs]\n",
      "FITSFixedWarning: 'datfix' made the change 'Invalid parameter values: MJD-OBS and DATE-OBS are inconsistent.\n",
      "Changed DATE-OBS from '2022-12-13        ' to '2022-12-13T00:00:00.0''.\n",
      "\n",
      "Performing Astrometry.net\n",
      "Removing any pre-existing WCS keys \n",
      "No WCS values found - attempting to solve field\n",
      "ASTROMETRY started...\n",
      "ASTROMETRY finished: 3s\n",
      "Updating WCS keys with new values\n",
      "WCS saved to new file\n",
      "\n",
      "Searching for FWHM\n",
      "Using Gaussian Profile for fitting\n"
     ]
    },
    {
     "name": "stdout",
     "output_type": "stream",
     "text": [
      "\n",
      "+-------------------------------+\n",
      "|Finding Full Width Half Maximum|\n",
      "+-------------------------------+\n",
      "\n"
     ]
    },
    {
     "name": "stderr",
     "output_type": "stream",
     "text": [
      "\n",
      "Number of sources before cleaning [ 25.0 sigma ]: 25 \n",
      "Updating search FWHM value\n"
     ]
    },
    {
     "name": "stdout",
     "output_type": "stream",
     "text": [
      "Updated guess for FWHM: 5.7 pixels \n"
     ]
    },
    {
     "name": "stderr",
     "output_type": "stream",
     "text": [
      "\n",
      "Number of sources before cleaning [ 25.0 sigma ]: 70 \n",
      "Removed 3 sources near boundary\n",
      "Removed 4 crowded sources\n"
     ]
    },
    {
     "name": "stdout",
     "output_type": "stream",
     "text": [
      "Fitting source for FWHM: 63/63 "
     ]
    },
    {
     "name": "stderr",
     "output_type": "stream",
     "text": [
      "Removed 9 saturated sources\n",
      "WARNING: Input data contains invalid values (NaNs or infs), which were automatically clipped. [astropy.stats.sigma_clipping]\n",
      "Input data contains invalid values (NaNs or infs), which were automatically clipped.\n",
      "Removed 14 FWHM outliers\n",
      "WARNING: Input data contains invalid values (NaNs or infs), which were automatically clipped. [astropy.stats.sigma_clipping]\n",
      "Input data contains invalid values (NaNs or infs), which were automatically clipped.\n",
      "Removed 31 median outliers\n",
      "Useable sources found [ 25 sigma ]: 63\n",
      "Removes 0 sources within minimum seperation [ 28 pixel ]\n",
      "\n",
      "FWHM: 5.723 +/- 0.243 [ pixels ]\n",
      "\n",
      "Seeing: 1.895 [ arcsec ]\n",
      "Aperture size: 9.7 pixels\n",
      "Aperture correction: -0.067 +/- 0.008 [ mag ]\n",
      "WARNING: FITSFixedWarning: 'datfix' made the change 'Invalid parameter values: MJD-OBS and DATE-OBS are inconsistent.\n",
      "Changed DATE-OBS from '2022-12-13        ' to '2022-12-13T00:00:00.0''. [astropy.wcs.wcs]\n",
      "FITSFixedWarning: 'datfix' made the change 'Invalid parameter values: MJD-OBS and DATE-OBS are inconsistent.\n",
      "Changed DATE-OBS from '2022-12-13        ' to '2022-12-13T00:00:00.0''.\n",
      "Searching for new catalog [sdss] for target_ra_58_dec_-11 \n",
      "Catalog retireval failed!\n",
      "ERROR: list index out of range\n",
      " Returning None\n",
      "'NoneType' object is not subscriptable\n",
      "Traceback (most recent call last):\n",
      "  File \"/opt/anaconda3/envs/autophot/lib/python3.7/site-packages/autophot/packages/main.py\", line 1136, in main\n",
      "    plot_catalog_nondetections =  autophot_input['catalog']['plot_catalog_nondetections'])\n",
      "  File \"/opt/anaconda3/envs/autophot/lib/python3.7/site-packages/autophot/packages/call_catalog.py\", line 479, in match\n",
      "    chosen_catalog = chosen_catalog[~np.isnan(chosen_catalog[catalog_keywords[image_filter]])]\n",
      "TypeError: 'NoneType' object is not subscriptable\n",
      "Failure: r1645969redCCD4_APT.fits - PID: 8408\n"
     ]
    },
    {
     "name": "stdout",
     "output_type": "stream",
     "text": [
      "\n",
      "+----------------------------------------------+\n",
      "|Searching for catalog for target_ra_58_dec_-11|\n",
      "+----------------------------------------------+\n",
      "\n",
      "\n",
      "+---------------------------------+\n",
      "|Matching catalog sources to image|\n",
      "+---------------------------------+\n",
      "\n",
      "\n",
      "+-----------+\n",
      "|File: 2 / 3|\n",
      "+-----------+\n",
      "\n"
     ]
    },
    {
     "name": "stderr",
     "output_type": "stream",
     "text": [
      "File: r1645970redCCD4_APT.fits - PID: 8408\n",
      "Start Time: 2023-01-03 14:24:57.686188\n",
      "Filter keyoward used: WFFBAND\n",
      "Telescope: INT\n",
      "Filter: i\n",
      "MJD: 59926.967\n",
      "Date of Observation : 2022-12-13\n",
      "Read Noise: 5.8 [e^- /pixel]\n",
      "GAIN: 2.9 [e^- /count]\n",
      "Exposure time: 20 [s] \n",
      "Detecting/removing cosmic ray sources\n"
     ]
    },
    {
     "name": "stdout",
     "output_type": "stream",
     "text": [
      "Starting Astroscrappy ... "
     ]
    },
    {
     "name": "stderr",
     "output_type": "stream",
     "text": [
      "Contaminated pixels with Cosmic rays removed: 28020\n",
      "Cosmic rays removed - image updated\n",
      "WARNING: FITSFixedWarning: RADECSYS= 'FK5 ' / mean place new (after the 1976 IAU) system \n",
      "the RADECSYS keyword is deprecated, use RADESYSa. [astropy.wcs.wcs]\n",
      "FITSFixedWarning: RADECSYS= 'FK5 ' / mean place new (after the 1976 IAU) system \n",
      "the RADECSYS keyword is deprecated, use RADESYSa.\n",
      "WARNING: FITSFixedWarning: PROJP1 = 1.00000000 / Projection coefficient for primary WCS \n",
      "the PROJPn keyword is deprecated, use PVi_ma. [astropy.wcs.wcs]\n",
      "FITSFixedWarning: PROJP1 = 1.00000000 / Projection coefficient for primary WCS \n",
      "the PROJPn keyword is deprecated, use PVi_ma.\n",
      "WARNING: FITSFixedWarning: PROJP3 = 0.00000000 / Projection coefficient for primary WCS \n",
      "the PROJPn keyword is deprecated, use PVi_ma. [astropy.wcs.wcs]\n",
      "FITSFixedWarning: PROJP3 = 0.00000000 / Projection coefficient for primary WCS \n",
      "the PROJPn keyword is deprecated, use PVi_ma.\n",
      "WARNING: FITSFixedWarning: 'datfix' made the change 'Invalid parameter values: MJD-OBS and DATE-OBS are inconsistent.\n",
      "Changed DATE-OBS from '2022-12-13        ' to '2022-12-13T00:00:00.0''. [astropy.wcs.wcs]\n",
      "FITSFixedWarning: 'datfix' made the change 'Invalid parameter values: MJD-OBS and DATE-OBS are inconsistent.\n",
      "Changed DATE-OBS from '2022-12-13        ' to '2022-12-13T00:00:00.0''.\n",
      "\n",
      "Performing Astrometry.net\n",
      "Removing any pre-existing WCS keys \n",
      "No WCS values found - attempting to solve field\n",
      "ASTROMETRY started...\n",
      "ASTROMETRY finished: 2s\n",
      "Updating WCS keys with new values\n",
      "WCS saved to new file\n",
      "\n",
      "Searching for FWHM\n",
      "Using Gaussian Profile for fitting\n"
     ]
    },
    {
     "name": "stdout",
     "output_type": "stream",
     "text": [
      "\n",
      "+-------------------------------+\n",
      "|Finding Full Width Half Maximum|\n",
      "+-------------------------------+\n",
      "\n"
     ]
    },
    {
     "name": "stderr",
     "output_type": "stream",
     "text": [
      "\n",
      "Number of sources before cleaning [ 25.0 sigma ]: 25 \n",
      "Updating search FWHM value\n"
     ]
    },
    {
     "name": "stdout",
     "output_type": "stream",
     "text": [
      "Updated guess for FWHM: 5.9 pixels \n"
     ]
    },
    {
     "name": "stderr",
     "output_type": "stream",
     "text": [
      "\n",
      "Number of sources before cleaning [ 25.0 sigma ]: 78 \n",
      "Removed 4 crowded sources\n"
     ]
    },
    {
     "name": "stdout",
     "output_type": "stream",
     "text": [
      "Fitting source for FWHM: 74/74 "
     ]
    },
    {
     "name": "stderr",
     "output_type": "stream",
     "text": [
      "Removed 10 saturated sources\n",
      "WARNING: Input data contains invalid values (NaNs or infs), which were automatically clipped. [astropy.stats.sigma_clipping]\n",
      "Input data contains invalid values (NaNs or infs), which were automatically clipped.\n",
      "Removed 15 FWHM outliers\n",
      "WARNING: Input data contains invalid values (NaNs or infs), which were automatically clipped. [astropy.stats.sigma_clipping]\n",
      "Input data contains invalid values (NaNs or infs), which were automatically clipped.\n",
      "Removed 14 median outliers\n",
      "Useable sources found [ 25 sigma ]: 74\n",
      "Removes 2 sources within minimum seperation [ 29 pixel ]\n",
      "\n",
      "FWHM: 5.885 +/- 0.151 [ pixels ]\n",
      "\n",
      "Seeing: 1.954 [ arcsec ]\n",
      "Aperture size: 10.0 pixels\n",
      "Aperture correction: -0.035 +/- 0.020 [ mag ]\n",
      "WARNING: FITSFixedWarning: 'datfix' made the change 'Invalid parameter values: MJD-OBS and DATE-OBS are inconsistent.\n",
      "Changed DATE-OBS from '2022-12-13        ' to '2022-12-13T00:00:00.0''. [astropy.wcs.wcs]\n",
      "FITSFixedWarning: 'datfix' made the change 'Invalid parameter values: MJD-OBS and DATE-OBS are inconsistent.\n",
      "Changed DATE-OBS from '2022-12-13        ' to '2022-12-13T00:00:00.0''.\n",
      "Searching for new catalog [sdss] for target_ra_58_dec_-11 \n",
      "Catalog retireval failed!\n",
      "ERROR: list index out of range\n",
      " Returning None\n",
      "'NoneType' object is not subscriptable\n",
      "Traceback (most recent call last):\n",
      "  File \"/opt/anaconda3/envs/autophot/lib/python3.7/site-packages/autophot/packages/main.py\", line 1136, in main\n",
      "    plot_catalog_nondetections =  autophot_input['catalog']['plot_catalog_nondetections'])\n",
      "  File \"/opt/anaconda3/envs/autophot/lib/python3.7/site-packages/autophot/packages/call_catalog.py\", line 479, in match\n",
      "    chosen_catalog = chosen_catalog[~np.isnan(chosen_catalog[catalog_keywords[image_filter]])]\n",
      "TypeError: 'NoneType' object is not subscriptable\n",
      "Failure: r1645970redCCD4_APT.fits - PID: 8408\n"
     ]
    },
    {
     "name": "stdout",
     "output_type": "stream",
     "text": [
      "\n",
      "+----------------------------------------------+\n",
      "|Searching for catalog for target_ra_58_dec_-11|\n",
      "+----------------------------------------------+\n",
      "\n",
      "\n",
      "+---------------------------------+\n",
      "|Matching catalog sources to image|\n",
      "+---------------------------------+\n",
      "\n",
      "\n",
      "+-----------+\n",
      "|File: 3 / 3|\n",
      "+-----------+\n",
      "\n"
     ]
    },
    {
     "name": "stderr",
     "output_type": "stream",
     "text": [
      "File: r1645971redCCD4_APT.fits - PID: 8408\n",
      "Start Time: 2023-01-03 14:25:15.434767\n",
      "Filter keyoward used: WFFBAND\n",
      "Telescope: INT\n",
      "Filter: r\n",
      "MJD: 59926.969\n",
      "Date of Observation : 2022-12-13\n",
      "Read Noise: 5.8 [e^- /pixel]\n",
      "GAIN: 2.9 [e^- /count]\n",
      "Exposure time: 20 [s] \n",
      "Detecting/removing cosmic ray sources\n"
     ]
    },
    {
     "name": "stdout",
     "output_type": "stream",
     "text": [
      "Starting Astroscrappy ... "
     ]
    },
    {
     "name": "stderr",
     "output_type": "stream",
     "text": [
      "Contaminated pixels with Cosmic rays removed: 27644\n",
      "Cosmic rays removed - image updated\n",
      "WARNING: FITSFixedWarning: RADECSYS= 'FK5 ' / mean place new (after the 1976 IAU) system \n",
      "the RADECSYS keyword is deprecated, use RADESYSa. [astropy.wcs.wcs]\n",
      "FITSFixedWarning: RADECSYS= 'FK5 ' / mean place new (after the 1976 IAU) system \n",
      "the RADECSYS keyword is deprecated, use RADESYSa.\n",
      "WARNING: FITSFixedWarning: PROJP1 = 1.00000000 / Projection coefficient for primary WCS \n",
      "the PROJPn keyword is deprecated, use PVi_ma. [astropy.wcs.wcs]\n",
      "FITSFixedWarning: PROJP1 = 1.00000000 / Projection coefficient for primary WCS \n",
      "the PROJPn keyword is deprecated, use PVi_ma.\n",
      "WARNING: FITSFixedWarning: PROJP3 = 0.00000000 / Projection coefficient for primary WCS \n",
      "the PROJPn keyword is deprecated, use PVi_ma. [astropy.wcs.wcs]\n",
      "FITSFixedWarning: PROJP3 = 0.00000000 / Projection coefficient for primary WCS \n",
      "the PROJPn keyword is deprecated, use PVi_ma.\n",
      "WARNING: FITSFixedWarning: 'datfix' made the change 'Invalid parameter values: MJD-OBS and DATE-OBS are inconsistent.\n",
      "Changed DATE-OBS from '2022-12-13        ' to '2022-12-13T00:00:00.0''. [astropy.wcs.wcs]\n",
      "FITSFixedWarning: 'datfix' made the change 'Invalid parameter values: MJD-OBS and DATE-OBS are inconsistent.\n",
      "Changed DATE-OBS from '2022-12-13        ' to '2022-12-13T00:00:00.0''.\n",
      "\n",
      "Performing Astrometry.net\n",
      "Removing any pre-existing WCS keys \n",
      "No WCS values found - attempting to solve field\n",
      "ASTROMETRY started...\n",
      "ASTROMETRY finished: 3s\n",
      "Updating WCS keys with new values\n",
      "WCS saved to new file\n",
      "\n",
      "Searching for FWHM\n",
      "Using Gaussian Profile for fitting\n"
     ]
    },
    {
     "name": "stdout",
     "output_type": "stream",
     "text": [
      "\n",
      "+-------------------------------+\n",
      "|Finding Full Width Half Maximum|\n",
      "+-------------------------------+\n",
      "\n"
     ]
    },
    {
     "name": "stderr",
     "output_type": "stream",
     "text": [
      "\n",
      "Number of sources before cleaning [ 25.0 sigma ]: 25 \n",
      "Updating search FWHM value\n"
     ]
    },
    {
     "name": "stdout",
     "output_type": "stream",
     "text": [
      "Updated guess for FWHM: 5.1 pixels \n"
     ]
    },
    {
     "name": "stderr",
     "output_type": "stream",
     "text": [
      "\n",
      "Number of sources before cleaning [ 25.0 sigma ]: 90 \n",
      "Removed 4 crowded sources\n"
     ]
    },
    {
     "name": "stdout",
     "output_type": "stream",
     "text": [
      "Fitting source for FWHM: 86/86   "
     ]
    },
    {
     "name": "stderr",
     "output_type": "stream",
     "text": [
      "Removed 13 saturated sources\n",
      "WARNING: Input data contains invalid values (NaNs or infs), which were automatically clipped. [astropy.stats.sigma_clipping]\n",
      "Input data contains invalid values (NaNs or infs), which were automatically clipped.\n",
      "Removed 17 FWHM outliers\n",
      "WARNING: Input data contains invalid values (NaNs or infs), which were automatically clipped. [astropy.stats.sigma_clipping]\n",
      "Input data contains invalid values (NaNs or infs), which were automatically clipped.\n",
      "Removed 34 median outliers\n",
      "Useable sources found [ 25 sigma ]: 86\n",
      "Removes 4 sources within minimum seperation [ 24 pixel ]\n",
      "\n",
      "FWHM: 5.009 +/- 0.215 [ pixels ]\n",
      "\n",
      "Seeing: 1.660 [ arcsec ]\n",
      "Aperture size: 8.5 pixels\n",
      "Aperture correction: -0.029 +/- 0.012 [ mag ]\n",
      "WARNING: FITSFixedWarning: 'datfix' made the change 'Invalid parameter values: MJD-OBS and DATE-OBS are inconsistent.\n",
      "Changed DATE-OBS from '2022-12-13        ' to '2022-12-13T00:00:00.0''. [astropy.wcs.wcs]\n",
      "FITSFixedWarning: 'datfix' made the change 'Invalid parameter values: MJD-OBS and DATE-OBS are inconsistent.\n",
      "Changed DATE-OBS from '2022-12-13        ' to '2022-12-13T00:00:00.0''.\n",
      "Searching for new catalog [sdss] for target_ra_58_dec_-11 \n",
      "Catalog retireval failed!\n",
      "ERROR: list index out of range\n",
      " Returning None\n",
      "'NoneType' object is not subscriptable\n",
      "Traceback (most recent call last):\n",
      "  File \"/opt/anaconda3/envs/autophot/lib/python3.7/site-packages/autophot/packages/main.py\", line 1136, in main\n",
      "    plot_catalog_nondetections =  autophot_input['catalog']['plot_catalog_nondetections'])\n",
      "  File \"/opt/anaconda3/envs/autophot/lib/python3.7/site-packages/autophot/packages/call_catalog.py\", line 479, in match\n",
      "    chosen_catalog = chosen_catalog[~np.isnan(chosen_catalog[catalog_keywords[image_filter]])]\n",
      "TypeError: 'NoneType' object is not subscriptable\n",
      "Failure: r1645971redCCD4_APT.fits - PID: 8408\n",
      "\n",
      "User instrument database: /Users/terwelj/Documents/VirtualMachine/Observing_ING/autophot/newtest/telescope.yml\n",
      "\n",
      "Number of files: 3\n"
     ]
    },
    {
     "name": "stdout",
     "output_type": "stream",
     "text": [
      "\n",
      "+----------------------------------------------+\n",
      "|Searching for catalog for target_ra_58_dec_-11|\n",
      "+----------------------------------------------+\n",
      "\n",
      "\n",
      "+---------------------------------+\n",
      "|Matching catalog sources to image|\n",
      "+---------------------------------+\n",
      "\n",
      "\n",
      "---\n",
      "\n",
      "Files that failed : ['/Users/terwelj/Documents/VirtualMachine/Observing_ING/autophot/newtest/at2022acru_REDUCED/r1645969redCCD4/r1645969redCCD4_APT.fits', '/Users/terwelj/Documents/VirtualMachine/Observing_ING/autophot/newtest/at2022acru_REDUCED/r1645970redCCD4/r1645970redCCD4_APT.fits', '/Users/terwelj/Documents/VirtualMachine/Observing_ING/autophot/newtest/at2022acru_REDUCED/r1645971redCCD4/r1645971redCCD4_APT.fits']\n",
      "\n",
      "DONE\n",
      "\n",
      "Done - Time Taken: 53.9\n",
      "\n",
      "        _       _       ___ _  _    _____\n",
      "       /_\\ _  _| |_ ___| _ \\ || |__|_   _|\n",
      "      / _ \\ || |  _/ _ \\  _/ __ / _ \\| |\n",
      "     /_/ \\_\\_,_|\\__\\___/_| |_||_\\___/|_|\n",
      "    \n",
      "     ---------------------------------------\n",
      "        Automated Photometry of Transients\n",
      "        S. J. Brennan et al. 2021 \n",
      "        Please provide feedback/bugs to:\n",
      "        Email: sean.brennan2@ucdconnect.ie\n",
      "    ---------------------------------------\n",
      "Directory of fits file: /Users/terwelj/Documents/VirtualMachine/Observing_ING/autophot/newtest/at2022acru\n"
     ]
    },
    {
     "name": "stderr",
     "output_type": "stream",
     "text": [
      "\n",
      "1 telescope(s) detected - checking header keywords\n",
      "\n",
      "File: r1645969redCCD4_APT.fits - PID: 8408\n",
      "Start Time: 2023-01-03 14:25:33.508290\n"
     ]
    },
    {
     "name": "stdout",
     "output_type": "stream",
     "text": [
      "Found Telescopes:\n",
      "\n",
      " - INT\n",
      "\n",
      "-> Telescope check complete\n",
      "\n",
      "Checking Filter keywords and database\n",
      "\n",
      "-> Filter check complete\n",
      "\n",
      "Checking Filter information for each image\n",
      "\n",
      "Files removed - Wrong Image Type: 0\n",
      "\n",
      "Files removed - No/Wrong filter(s): 0\n",
      "Filters not included: []\n",
      "\n",
      "\n",
      "Files removed: 0\n",
      "\n",
      "+-----------+\n",
      "|File: 1 / 3|\n",
      "+-----------+\n",
      "\n"
     ]
    },
    {
     "name": "stderr",
     "output_type": "stream",
     "text": [
      "Filter keyoward used: WFFBAND\n",
      "Telescope: INT\n",
      "Filter: g\n",
      "MJD: 59926.966\n",
      "Date of Observation : 2022-12-13\n",
      "Read Noise: 5.8 [e^- /pixel]\n",
      "GAIN: 2.9 [e^- /count]\n",
      "Exposure time: 20 [s] \n",
      "Detecting/removing cosmic ray sources\n"
     ]
    },
    {
     "name": "stdout",
     "output_type": "stream",
     "text": [
      "Starting Astroscrappy ... "
     ]
    },
    {
     "name": "stderr",
     "output_type": "stream",
     "text": [
      "Contaminated pixels with Cosmic rays removed: 30432\n",
      "Cosmic rays removed - image updated\n",
      "WARNING: FITSFixedWarning: RADECSYS= 'FK5 ' / mean place new (after the 1976 IAU) system \n",
      "the RADECSYS keyword is deprecated, use RADESYSa. [astropy.wcs.wcs]\n",
      "FITSFixedWarning: RADECSYS= 'FK5 ' / mean place new (after the 1976 IAU) system \n",
      "the RADECSYS keyword is deprecated, use RADESYSa.\n",
      "WARNING: FITSFixedWarning: PROJP1 = 1.00000000 / Projection coefficient for primary WCS \n",
      "the PROJPn keyword is deprecated, use PVi_ma. [astropy.wcs.wcs]\n",
      "FITSFixedWarning: PROJP1 = 1.00000000 / Projection coefficient for primary WCS \n",
      "the PROJPn keyword is deprecated, use PVi_ma.\n",
      "WARNING: FITSFixedWarning: PROJP3 = 0.00000000 / Projection coefficient for primary WCS \n",
      "the PROJPn keyword is deprecated, use PVi_ma. [astropy.wcs.wcs]\n",
      "FITSFixedWarning: PROJP3 = 0.00000000 / Projection coefficient for primary WCS \n",
      "the PROJPn keyword is deprecated, use PVi_ma.\n",
      "WARNING: FITSFixedWarning: 'datfix' made the change 'Invalid parameter values: MJD-OBS and DATE-OBS are inconsistent.\n",
      "Changed DATE-OBS from '2022-12-13        ' to '2022-12-13T00:00:00.0''. [astropy.wcs.wcs]\n",
      "FITSFixedWarning: 'datfix' made the change 'Invalid parameter values: MJD-OBS and DATE-OBS are inconsistent.\n",
      "Changed DATE-OBS from '2022-12-13        ' to '2022-12-13T00:00:00.0''.\n",
      "\n",
      "Performing Astrometry.net\n",
      "Removing any pre-existing WCS keys \n",
      "No WCS values found - attempting to solve field\n",
      "ASTROMETRY started...\n",
      "ASTROMETRY finished: 2s\n",
      "Updating WCS keys with new values\n",
      "WCS saved to new file\n",
      "\n",
      "Searching for FWHM\n",
      "Using Gaussian Profile for fitting\n"
     ]
    },
    {
     "name": "stdout",
     "output_type": "stream",
     "text": [
      "\n",
      "+-------------------------------+\n",
      "|Finding Full Width Half Maximum|\n",
      "+-------------------------------+\n",
      "\n"
     ]
    },
    {
     "name": "stderr",
     "output_type": "stream",
     "text": [
      "\n",
      "Number of sources before cleaning [ 25.0 sigma ]: 25 \n",
      "Updating search FWHM value\n"
     ]
    },
    {
     "name": "stdout",
     "output_type": "stream",
     "text": [
      "Updated guess for FWHM: 5.7 pixels \n"
     ]
    },
    {
     "name": "stderr",
     "output_type": "stream",
     "text": [
      "\n",
      "Number of sources before cleaning [ 25.0 sigma ]: 68 \n",
      "Removed 1 sources near boundary\n",
      "Removed 4 crowded sources\n"
     ]
    },
    {
     "name": "stdout",
     "output_type": "stream",
     "text": [
      "Fitting source for FWHM: 63/63 "
     ]
    },
    {
     "name": "stderr",
     "output_type": "stream",
     "text": [
      "Removed 9 saturated sources\n",
      "WARNING: Input data contains invalid values (NaNs or infs), which were automatically clipped. [astropy.stats.sigma_clipping]\n",
      "Input data contains invalid values (NaNs or infs), which were automatically clipped.\n",
      "Removed 14 FWHM outliers\n",
      "WARNING: Input data contains invalid values (NaNs or infs), which were automatically clipped. [astropy.stats.sigma_clipping]\n",
      "Input data contains invalid values (NaNs or infs), which were automatically clipped.\n",
      "Removed 31 median outliers\n",
      "Useable sources found [ 25 sigma ]: 63\n",
      "Removes 0 sources within minimum seperation [ 28 pixel ]\n",
      "\n",
      "FWHM: 5.723 +/- 0.243 [ pixels ]\n",
      "\n",
      "Seeing: 1.895 [ arcsec ]\n",
      "Aperture size: 9.7 pixels\n",
      "Aperture correction: -0.067 +/- 0.008 [ mag ]\n"
     ]
    },
    {
     "name": "stdout",
     "output_type": "stream",
     "text": [
      "\n",
      "+----------------------------------------------+\n",
      "|Searching for catalog for target_ra_58_dec_-11|\n",
      "+----------------------------------------------+\n",
      "\n"
     ]
    },
    {
     "name": "stderr",
     "output_type": "stream",
     "text": [
      "WARNING: FITSFixedWarning: 'datfix' made the change 'Invalid parameter values: MJD-OBS and DATE-OBS are inconsistent.\n",
      "Changed DATE-OBS from '2022-12-13        ' to '2022-12-13T00:00:00.0''. [astropy.wcs.wcs]\n",
      "FITSFixedWarning: 'datfix' made the change 'Invalid parameter values: MJD-OBS and DATE-OBS are inconsistent.\n",
      "Changed DATE-OBS from '2022-12-13        ' to '2022-12-13T00:00:00.0''.\n",
      "Searching for new catalog [pan_starrs] for target_ra_58_dec_-11 \n",
      "Downloading sequence stars from pan_starrs\n",
      "Catalog length: 6863\n",
      "Removed 1876 sources fainter than cutoff [20 mag]\n",
      "Using Gaussian Profile for fitting\n",
      "Catalog Length: 145\n"
     ]
    },
    {
     "name": "stdout",
     "output_type": "stream",
     "text": [
      "\n",
      "+---------------------------------+\n",
      "|Matching catalog sources to image|\n",
      "+---------------------------------+\n",
      "\n",
      "Removed 1 sources too close to target\n",
      "Removed 283 sources too close to boundary or off image\n",
      "Matching catalog to image: 145 / 145 :: Useful sources 97 / 145   .. done\n",
      "\n",
      "Broken cutouts: 0\n",
      "Not in correct location: 0\n",
      "Not detected: 27\n",
      "Saturated: 21\n",
      "Error: 0\n",
      "\n"
     ]
    },
    {
     "name": "stderr",
     "output_type": "stream",
     "text": [
      "\n",
      "Median offset: 4.2 [ pixels ] / 1.4 [ arcsec ]\n",
      "Residual table updated: 1 / 10 \n",
      "\tSNR: 326 :: FWHM fitted 5.644\n",
      "Residual table updated: 2 / 10 \n",
      "\tSNR: 317 :: FWHM fitted 5.805\n",
      "Residual table updated: 3 / 10 \n",
      "\tSNR: 298 :: FWHM fitted 5.732\n",
      "Residual table updated: 4 / 10 \n",
      "\tSNR: 289 :: FWHM fitted 5.585\n"
     ]
    },
    {
     "name": "stdout",
     "output_type": "stream",
     "text": [
      "\n",
      "+-------------------------------------------+\n",
      "|Building PSF model using stars in the field|\n",
      "+-------------------------------------------+\n",
      "\n"
     ]
    },
    {
     "name": "stderr",
     "output_type": "stream",
     "text": [
      "Residual table updated: 5 / 10 \n",
      "\tSNR: 285 :: FWHM fitted 5.909\n",
      "Residual table updated: 6 / 10 \n",
      "\tSNR: 287 :: FWHM fitted 5.904\n",
      "Residual table updated: 7 / 10 \n",
      "\tSNR: 283 :: FWHM fitted 5.845\n",
      "Residual table updated: 8 / 10 \n",
      "\tSNR: 258 :: FWHM fitted 5.898\n",
      "Residual table updated: 9 / 10 \n",
      "\tSNR: 246 :: FWHM fitted 5.811\n",
      "Residual table updated: 10 / 10 \n",
      "\tSNR: 198 :: FWHM fitted 5.925\n",
      "\n",
      "PSF built using 10 sources\n",
      "\n",
      "Unity PSF: 42.1 [counts] \n",
      "Unity Residual table: 5.0 [counts] \n",
      "Using Aperture Photometry on sequence Stars \n",
      "No PSF sources fitted\n",
      "WARNING: Input data contains invalid values (NaNs or infs), which were automatically clipped. [astropy.stats.sigma_clipping]\n",
      "Input data contains invalid values (NaNs or infs), which were automatically clipped.\n",
      "\n",
      "Mean g-band zeropoint: 26.117 +/- 0.026 \n",
      "\n"
     ]
    },
    {
     "name": "stdout",
     "output_type": "stream",
     "text": [
      "PSF model saved as: /Users/terwelj/Documents/VirtualMachine/Observing_ING/autophot/newtest/at2022acru_REDUCED/r1645969redCCD4/PSF_model_r1645969redCCD4_APT.fits\n",
      "\n",
      "+-------------------+\n",
      "|Measuring PSF model|\n",
      "+-------------------+\n",
      "\n",
      "\n",
      "+-----------------------+\n",
      "|Finding Zeropoint value|\n",
      "+-----------------------+\n",
      "\n",
      "Checking for suitable catalog sources\n",
      "Removed 82 sources lower than SNR of 25.0\n"
     ]
    },
    {
     "name": "stderr",
     "output_type": "stream",
     "text": [
      "/opt/anaconda3/envs/autophot/lib/python3.7/site-packages/matplotlib/backends/backend_pdf.py:1649: DeprecationWarning: NONE is deprecated and will be removed in Pillow 10 (2023-07-01). Use Resampling.NEAREST or Dither.NONE instead.\n",
      "  img = img.convert(mode='P', dither=Image.NONE,\n",
      "/opt/anaconda3/envs/autophot/lib/python3.7/site-packages/matplotlib/backends/backend_pdf.py:1650: DeprecationWarning: ADAPTIVE is deprecated and will be removed in Pillow 10 (2023-07-01). Use Palette.ADAPTIVE instead.\n",
      "  palette=Image.ADAPTIVE, colors=num_colors)\n",
      "Approx. catalog limiting magnitude: 19.681 [ mag ]\n",
      "Target photometry on original image\n"
     ]
    },
    {
     "name": "stdout",
     "output_type": "stream",
     "text": [
      "\n",
      "+-----------------------------------+\n",
      "|Doing Aperture Photometry on Target|\n",
      "+-----------------------------------+\n",
      "\n"
     ]
    },
    {
     "name": "stderr",
     "output_type": "stream",
     "text": [
      "/opt/anaconda3/envs/autophot/lib/python3.7/site-packages/matplotlib/backends/backend_pdf.py:1649: DeprecationWarning: NONE is deprecated and will be removed in Pillow 10 (2023-07-01). Use Resampling.NEAREST or Dither.NONE instead.\n",
      "  img = img.convert(mode='P', dither=Image.NONE,\n",
      "/opt/anaconda3/envs/autophot/lib/python3.7/site-packages/matplotlib/backends/backend_pdf.py:1650: DeprecationWarning: ADAPTIVE is deprecated and will be removed in Pillow 10 (2023-07-01). Use Palette.ADAPTIVE instead.\n",
      "  palette=Image.ADAPTIVE, colors=num_colors)\n",
      "Approximate Target SNR: 98.9\n",
      "SNR = 99 - skipping limiting magnitude\n",
      "Pixel Offset: 0.000\n",
      "Limiting Magnitude: skipped\n",
      "Target Detection probability: 100 %\n",
      "Target flux: 1811.747 +/- 0.000 [counts/s]\n",
      "Noise: 377.946 [counts/s]\n",
      "Target SNR: 98.892 +/- 0.011\n",
      "Instrumental Magnitude: -8.145 +/- 0.000\n",
      "Zeropoint: 26.117 +/- 0.026\n",
      "Target Magnitude: 17.905 +/- 0.029 \n",
      "\n",
      "*** Transient well detected ***\n",
      "\n",
      "Time Taken [ 8408 ]: 45s\n",
      "Sucess: r1645969redCCD4_APT.fits :: PID 8408 \n",
      "\n",
      "File: r1645970redCCD4_APT.fits - PID: 8408\n",
      "Start Time: 2023-01-03 14:26:18.921792\n",
      "Filter keyoward used: WFFBAND\n",
      "Telescope: INT\n",
      "Filter: i\n",
      "MJD: 59926.967\n",
      "Date of Observation : 2022-12-13\n",
      "Read Noise: 5.8 [e^- /pixel]\n",
      "GAIN: 2.9 [e^- /count]\n",
      "Exposure time: 20 [s] \n",
      "Detecting/removing cosmic ray sources\n"
     ]
    },
    {
     "name": "stdout",
     "output_type": "stream",
     "text": [
      "\n",
      "+-----------+\n",
      "|File: 2 / 3|\n",
      "+-----------+\n",
      "\n",
      "Starting Astroscrappy ... "
     ]
    },
    {
     "name": "stderr",
     "output_type": "stream",
     "text": [
      "Contaminated pixels with Cosmic rays removed: 28020\n",
      "Cosmic rays removed - image updated\n",
      "WARNING: FITSFixedWarning: RADECSYS= 'FK5 ' / mean place new (after the 1976 IAU) system \n",
      "the RADECSYS keyword is deprecated, use RADESYSa. [astropy.wcs.wcs]\n",
      "FITSFixedWarning: RADECSYS= 'FK5 ' / mean place new (after the 1976 IAU) system \n",
      "the RADECSYS keyword is deprecated, use RADESYSa.\n",
      "WARNING: FITSFixedWarning: PROJP1 = 1.00000000 / Projection coefficient for primary WCS \n",
      "the PROJPn keyword is deprecated, use PVi_ma. [astropy.wcs.wcs]\n",
      "FITSFixedWarning: PROJP1 = 1.00000000 / Projection coefficient for primary WCS \n",
      "the PROJPn keyword is deprecated, use PVi_ma.\n",
      "WARNING: FITSFixedWarning: PROJP3 = 0.00000000 / Projection coefficient for primary WCS \n",
      "the PROJPn keyword is deprecated, use PVi_ma. [astropy.wcs.wcs]\n",
      "FITSFixedWarning: PROJP3 = 0.00000000 / Projection coefficient for primary WCS \n",
      "the PROJPn keyword is deprecated, use PVi_ma.\n",
      "WARNING: FITSFixedWarning: 'datfix' made the change 'Invalid parameter values: MJD-OBS and DATE-OBS are inconsistent.\n",
      "Changed DATE-OBS from '2022-12-13        ' to '2022-12-13T00:00:00.0''. [astropy.wcs.wcs]\n",
      "FITSFixedWarning: 'datfix' made the change 'Invalid parameter values: MJD-OBS and DATE-OBS are inconsistent.\n",
      "Changed DATE-OBS from '2022-12-13        ' to '2022-12-13T00:00:00.0''.\n",
      "\n",
      "Performing Astrometry.net\n",
      "Removing any pre-existing WCS keys \n",
      "No WCS values found - attempting to solve field\n",
      "ASTROMETRY started...\n",
      "ASTROMETRY finished: 2s\n",
      "Updating WCS keys with new values\n",
      "WCS saved to new file\n",
      "\n",
      "Searching for FWHM\n",
      "Using Gaussian Profile for fitting\n"
     ]
    },
    {
     "name": "stdout",
     "output_type": "stream",
     "text": [
      "\n",
      "+-------------------------------+\n",
      "|Finding Full Width Half Maximum|\n",
      "+-------------------------------+\n",
      "\n"
     ]
    },
    {
     "name": "stderr",
     "output_type": "stream",
     "text": [
      "\n",
      "Number of sources before cleaning [ 25.0 sigma ]: 25 \n",
      "Updating search FWHM value\n"
     ]
    },
    {
     "name": "stdout",
     "output_type": "stream",
     "text": [
      "Updated guess for FWHM: 5.9 pixels \n"
     ]
    },
    {
     "name": "stderr",
     "output_type": "stream",
     "text": [
      "\n",
      "Number of sources before cleaning [ 25.0 sigma ]: 78 \n",
      "Removed 4 crowded sources\n"
     ]
    },
    {
     "name": "stdout",
     "output_type": "stream",
     "text": [
      "Fitting source for FWHM: 74/74 "
     ]
    },
    {
     "name": "stderr",
     "output_type": "stream",
     "text": [
      "Removed 10 saturated sources\n",
      "WARNING: Input data contains invalid values (NaNs or infs), which were automatically clipped. [astropy.stats.sigma_clipping]\n",
      "Input data contains invalid values (NaNs or infs), which were automatically clipped.\n",
      "Removed 15 FWHM outliers\n",
      "WARNING: Input data contains invalid values (NaNs or infs), which were automatically clipped. [astropy.stats.sigma_clipping]\n",
      "Input data contains invalid values (NaNs or infs), which were automatically clipped.\n",
      "Removed 14 median outliers\n",
      "Useable sources found [ 25 sigma ]: 74\n",
      "Removes 2 sources within minimum seperation [ 29 pixel ]\n",
      "\n",
      "FWHM: 5.885 +/- 0.151 [ pixels ]\n",
      "\n",
      "Seeing: 1.954 [ arcsec ]\n",
      "Aperture size: 10.0 pixels\n",
      "Aperture correction: -0.035 +/- 0.020 [ mag ]\n",
      "WARNING: FITSFixedWarning: 'datfix' made the change 'Invalid parameter values: MJD-OBS and DATE-OBS are inconsistent.\n",
      "Changed DATE-OBS from '2022-12-13        ' to '2022-12-13T00:00:00.0''. [astropy.wcs.wcs]\n",
      "FITSFixedWarning: 'datfix' made the change 'Invalid parameter values: MJD-OBS and DATE-OBS are inconsistent.\n",
      "Changed DATE-OBS from '2022-12-13        ' to '2022-12-13T00:00:00.0''.\n",
      "Catalog found for target_ra_58_dec_-11\n",
      "Catalog: PAN_STARRS \n",
      "File: target_ra_58_dec_-11_r_0.25\n",
      "Catalog length: 6863\n",
      "Removed 3963 sources fainter than cutoff [20 mag]\n",
      "Using Gaussian Profile for fitting\n",
      "Catalog Length: 319\n"
     ]
    },
    {
     "name": "stdout",
     "output_type": "stream",
     "text": [
      "\n",
      "+----------------------------------------------+\n",
      "|Searching for catalog for target_ra_58_dec_-11|\n",
      "+----------------------------------------------+\n",
      "\n",
      "\n",
      "+---------------------------------+\n",
      "|Matching catalog sources to image|\n",
      "+---------------------------------+\n",
      "\n",
      "Removed 2 sources too close to target\n",
      "Removed 637 sources too close to boundary or off image\n",
      "Matching catalog to image: 276 / 319 :: Useful sources 174 / 319 "
     ]
    },
    {
     "name": "stderr",
     "output_type": "stream",
     "text": [
      "\n",
      "Median offset: 3.4 [ pixels ] / 1.1 [ arcsec ]\n"
     ]
    },
    {
     "name": "stdout",
     "output_type": "stream",
     "text": [
      "\r",
      "Matching catalog to image: 277 / 319 :: Useful sources 175 / 319 \r",
      "Matching catalog to image: 278 / 319 :: Useful sources 175 / 319 \r",
      "Matching catalog to image: 279 / 319 :: Useful sources 175 / 319 \r",
      "Matching catalog to image: 280 / 319 :: Useful sources 175 / 319 \r",
      "Matching catalog to image: 281 / 319 :: Useful sources 176 / 319 \r",
      "Matching catalog to image: 282 / 319 :: Useful sources 176 / 319 \r",
      "Matching catalog to image: 283 / 319 :: Useful sources 176 / 319 \r",
      "Matching catalog to image: 284 / 319 :: Useful sources 176 / 319 \r",
      "Matching catalog to image: 285 / 319 :: Useful sources 176 / 319 \r",
      "Matching catalog to image: 286 / 319 :: Useful sources 176 / 319 \r",
      "Matching catalog to image: 287 / 319 :: Useful sources 176 / 319 \r",
      "Matching catalog to image: 288 / 319 :: Useful sources 176 / 319 \r",
      "Matching catalog to image: 289 / 319 :: Useful sources 176 / 319 \r",
      "Matching catalog to image: 290 / 319 :: Useful sources 177 / 319 \r",
      "Matching catalog to image: 291 / 319 :: Useful sources 177 / 319 \r",
      "Matching catalog to image: 292 / 319 :: Useful sources 177 / 319 \r",
      "Matching catalog to image: 293 / 319 :: Useful sources 177 / 319 \r",
      "Matching catalog to image: 294 / 319 :: Useful sources 177 / 319 \r",
      "Matching catalog to image: 295 / 319 :: Useful sources 177 / 319 \r",
      "Matching catalog to image: 296 / 319 :: Useful sources 178 / 319 \r",
      "Matching catalog to image: 297 / 319 :: Useful sources 178 / 319 \r",
      "Matching catalog to image: 298 / 319 :: Useful sources 178 / 319 \r",
      "Matching catalog to image: 299 / 319 :: Useful sources 178 / 319 \r",
      "Matching catalog to image: 300 / 319 :: Useful sources 178 / 319 \r",
      "Matching catalog to image: 301 / 319 :: Useful sources 178 / 319 \r",
      "Matching catalog to image: 302 / 319 :: Useful sources 178 / 319 \r",
      "Matching catalog to image: 303 / 319 :: Useful sources 178 / 319 \r",
      "Matching catalog to image: 304 / 319 :: Useful sources 178 / 319 \r",
      "Matching catalog to image: 305 / 319 :: Useful sources 178 / 319 \r",
      "Matching catalog to image: 306 / 319 :: Useful sources 178 / 319 \r",
      "Matching catalog to image: 307 / 319 :: Useful sources 178 / 319 \r",
      "Matching catalog to image: 308 / 319 :: Useful sources 178 / 319 \r",
      "Matching catalog to image: 309 / 319 :: Useful sources 179 / 319 \r",
      "Matching catalog to image: 310 / 319 :: Useful sources 179 / 319 \r",
      "Matching catalog to image: 311 / 319 :: Useful sources 179 / 319 \r",
      "Matching catalog to image: 312 / 319 :: Useful sources 179 / 319 \r",
      "Matching catalog to image: 313 / 319 :: Useful sources 179 / 319 \r",
      "Matching catalog to image: 314 / 319 :: Useful sources 179 / 319 \r",
      "Matching catalog to image: 315 / 319 :: Useful sources 180 / 319 \r",
      "Matching catalog to image: 316 / 319 :: Useful sources 180 / 319 \r",
      "Matching catalog to image: 317 / 319 :: Useful sources 180 / 319 \r",
      "Matching catalog to image: 318 / 319 :: Useful sources 180 / 319 \r",
      "Matching catalog to image: 319 / 319 :: Useful sources 180 / 319   .. done\n",
      "\n",
      "Broken cutouts: 0\n",
      "Not in correct location: 0\n",
      "Not detected: 114\n",
      "Saturated: 26\n",
      "Error: 0\n",
      "\n",
      "\n",
      "+-------------------------------------------+\n",
      "|Building PSF model using stars in the field|\n",
      "+-------------------------------------------+\n",
      "\n"
     ]
    },
    {
     "name": "stderr",
     "output_type": "stream",
     "text": [
      "Residual table updated: 1 / 10 \n",
      "\tSNR: 1059 :: FWHM fitted 5.838\n",
      "Residual table updated: 2 / 10 \n",
      "\tSNR: 935 :: FWHM fitted 5.711\n",
      "Residual table updated: 3 / 10 \n",
      "\tSNR: 901 :: FWHM fitted 5.865\n",
      "Residual table updated: 4 / 10 \n",
      "\tSNR: 890 :: FWHM fitted 5.865\n",
      "Residual table updated: 5 / 10 \n",
      "\tSNR: 841 :: FWHM fitted 5.824\n",
      "Residual table updated: 6 / 10 \n",
      "\tSNR: 785 :: FWHM fitted 5.862\n",
      "Residual table updated: 7 / 10 \n",
      "\tSNR: 773 :: FWHM fitted 5.819\n",
      "Residual table updated: 8 / 10 \n",
      "\tSNR: 642 :: FWHM fitted 5.848\n",
      "Residual table updated: 9 / 10 \n",
      "\tSNR: 630 :: FWHM fitted 5.870\n",
      "Residual table updated: 10 / 10 \n",
      "\tSNR: 536 :: FWHM fitted 5.941\n",
      "\n",
      "PSF built using 10 sources\n",
      "\n",
      "Unity PSF: 41.5 [counts] \n",
      "Unity Residual table: 2.5 [counts] \n",
      "Using Aperture Photometry on sequence Stars \n",
      "No PSF sources fitted\n",
      "WARNING: Input data contains invalid values (NaNs or infs), which were automatically clipped. [astropy.stats.sigma_clipping]\n",
      "Input data contains invalid values (NaNs or infs), which were automatically clipped.\n",
      "\n",
      "Mean i-band zeropoint: 25.674 +/- 0.051 \n",
      "\n"
     ]
    },
    {
     "name": "stdout",
     "output_type": "stream",
     "text": [
      "PSF model saved as: /Users/terwelj/Documents/VirtualMachine/Observing_ING/autophot/newtest/at2022acru_REDUCED/r1645970redCCD4/PSF_model_r1645970redCCD4_APT.fits\n",
      "\n",
      "+-------------------+\n",
      "|Measuring PSF model|\n",
      "+-------------------+\n",
      "\n",
      "\n",
      "+-----------------------+\n",
      "|Finding Zeropoint value|\n",
      "+-----------------------+\n",
      "\n",
      "Checking for suitable catalog sources\n",
      "Removed 121 sources lower than SNR of 25.0\n"
     ]
    },
    {
     "name": "stderr",
     "output_type": "stream",
     "text": [
      "/opt/anaconda3/envs/autophot/lib/python3.7/site-packages/matplotlib/backends/backend_pdf.py:1649: DeprecationWarning: NONE is deprecated and will be removed in Pillow 10 (2023-07-01). Use Resampling.NEAREST or Dither.NONE instead.\n",
      "  img = img.convert(mode='P', dither=Image.NONE,\n",
      "/opt/anaconda3/envs/autophot/lib/python3.7/site-packages/matplotlib/backends/backend_pdf.py:1650: DeprecationWarning: ADAPTIVE is deprecated and will be removed in Pillow 10 (2023-07-01). Use Palette.ADAPTIVE instead.\n",
      "  palette=Image.ADAPTIVE, colors=num_colors)\n",
      "Approx. catalog limiting magnitude: 18.693 [ mag ]\n",
      "Target photometry on original image\n"
     ]
    },
    {
     "name": "stdout",
     "output_type": "stream",
     "text": [
      "\n",
      "+-----------------------------------+\n",
      "|Doing Aperture Photometry on Target|\n",
      "+-----------------------------------+\n",
      "\n"
     ]
    },
    {
     "name": "stderr",
     "output_type": "stream",
     "text": [
      "/opt/anaconda3/envs/autophot/lib/python3.7/site-packages/matplotlib/backends/backend_pdf.py:1649: DeprecationWarning: NONE is deprecated and will be removed in Pillow 10 (2023-07-01). Use Resampling.NEAREST or Dither.NONE instead.\n",
      "  img = img.convert(mode='P', dither=Image.NONE,\n",
      "/opt/anaconda3/envs/autophot/lib/python3.7/site-packages/matplotlib/backends/backend_pdf.py:1650: DeprecationWarning: ADAPTIVE is deprecated and will be removed in Pillow 10 (2023-07-01). Use Palette.ADAPTIVE instead.\n",
      "  palette=Image.ADAPTIVE, colors=num_colors)\n",
      "Approximate Target SNR: 32.6\n",
      "SNR = 33 - skipping limiting magnitude\n",
      "Pixel Offset: 0.000\n",
      "Limiting Magnitude: skipped\n",
      "Target Detection probability: 100 %\n",
      "Target flux: 749.910 +/- 0.000 [counts/s]\n",
      "Noise: 542.539 [counts/s]\n",
      "Target SNR: 32.564 +/- 0.033\n",
      "Instrumental Magnitude: -7.188 +/- 0.000\n",
      "Zeropoint: 25.674 +/- 0.051\n",
      "Target Magnitude: 18.451 +/- 0.064 \n",
      "\n",
      "*** Transient well detected ***\n",
      "\n",
      "Time Taken [ 8408 ]: 31s\n",
      "Sucess: r1645970redCCD4_APT.fits :: PID 8408 \n",
      "\n",
      "File: r1645971redCCD4_APT.fits - PID: 8408\n",
      "Start Time: 2023-01-03 14:26:50.058028\n",
      "Filter keyoward used: WFFBAND\n",
      "Telescope: INT\n",
      "Filter: r\n",
      "MJD: 59926.969\n",
      "Date of Observation : 2022-12-13\n",
      "Read Noise: 5.8 [e^- /pixel]\n",
      "GAIN: 2.9 [e^- /count]\n",
      "Exposure time: 20 [s] \n",
      "Detecting/removing cosmic ray sources\n"
     ]
    },
    {
     "name": "stdout",
     "output_type": "stream",
     "text": [
      "\n",
      "+-----------+\n",
      "|File: 3 / 3|\n",
      "+-----------+\n",
      "\n",
      "Starting Astroscrappy ... "
     ]
    },
    {
     "name": "stderr",
     "output_type": "stream",
     "text": [
      "Contaminated pixels with Cosmic rays removed: 27644\n",
      "Cosmic rays removed - image updated\n",
      "WARNING: FITSFixedWarning: RADECSYS= 'FK5 ' / mean place new (after the 1976 IAU) system \n",
      "the RADECSYS keyword is deprecated, use RADESYSa. [astropy.wcs.wcs]\n",
      "FITSFixedWarning: RADECSYS= 'FK5 ' / mean place new (after the 1976 IAU) system \n",
      "the RADECSYS keyword is deprecated, use RADESYSa.\n",
      "WARNING: FITSFixedWarning: PROJP1 = 1.00000000 / Projection coefficient for primary WCS \n",
      "the PROJPn keyword is deprecated, use PVi_ma. [astropy.wcs.wcs]\n",
      "FITSFixedWarning: PROJP1 = 1.00000000 / Projection coefficient for primary WCS \n",
      "the PROJPn keyword is deprecated, use PVi_ma.\n",
      "WARNING: FITSFixedWarning: PROJP3 = 0.00000000 / Projection coefficient for primary WCS \n",
      "the PROJPn keyword is deprecated, use PVi_ma. [astropy.wcs.wcs]\n",
      "FITSFixedWarning: PROJP3 = 0.00000000 / Projection coefficient for primary WCS \n",
      "the PROJPn keyword is deprecated, use PVi_ma.\n",
      "WARNING: FITSFixedWarning: 'datfix' made the change 'Invalid parameter values: MJD-OBS and DATE-OBS are inconsistent.\n",
      "Changed DATE-OBS from '2022-12-13        ' to '2022-12-13T00:00:00.0''. [astropy.wcs.wcs]\n",
      "FITSFixedWarning: 'datfix' made the change 'Invalid parameter values: MJD-OBS and DATE-OBS are inconsistent.\n",
      "Changed DATE-OBS from '2022-12-13        ' to '2022-12-13T00:00:00.0''.\n",
      "\n",
      "Performing Astrometry.net\n",
      "Removing any pre-existing WCS keys \n",
      "No WCS values found - attempting to solve field\n",
      "ASTROMETRY started...\n",
      "ASTROMETRY finished: 3s\n",
      "Updating WCS keys with new values\n",
      "WCS saved to new file\n",
      "\n",
      "Searching for FWHM\n",
      "Using Gaussian Profile for fitting\n"
     ]
    },
    {
     "name": "stdout",
     "output_type": "stream",
     "text": [
      "\n",
      "+-------------------------------+\n",
      "|Finding Full Width Half Maximum|\n",
      "+-------------------------------+\n",
      "\n"
     ]
    },
    {
     "name": "stderr",
     "output_type": "stream",
     "text": [
      "\n",
      "Number of sources before cleaning [ 25.0 sigma ]: 25 \n",
      "Updating search FWHM value\n"
     ]
    },
    {
     "name": "stdout",
     "output_type": "stream",
     "text": [
      "Updated guess for FWHM: 5.0 pixels \n"
     ]
    },
    {
     "name": "stderr",
     "output_type": "stream",
     "text": [
      "\n",
      "Number of sources before cleaning [ 25.0 sigma ]: 90 \n",
      "Removed 4 crowded sources\n"
     ]
    },
    {
     "name": "stdout",
     "output_type": "stream",
     "text": [
      "Fitting source for FWHM: 86/86 "
     ]
    },
    {
     "name": "stderr",
     "output_type": "stream",
     "text": [
      "Removed 13 saturated sources\n",
      "WARNING: Input data contains invalid values (NaNs or infs), which were automatically clipped. [astropy.stats.sigma_clipping]\n",
      "Input data contains invalid values (NaNs or infs), which were automatically clipped.\n",
      "Removed 17 FWHM outliers\n",
      "WARNING: Input data contains invalid values (NaNs or infs), which were automatically clipped. [astropy.stats.sigma_clipping]\n",
      "Input data contains invalid values (NaNs or infs), which were automatically clipped.\n",
      "Removed 34 median outliers\n",
      "Useable sources found [ 25 sigma ]: 86\n",
      "Removes 4 sources within minimum seperation [ 24 pixel ]\n",
      "\n",
      "FWHM: 5.009 +/- 0.215 [ pixels ]\n",
      "\n",
      "Seeing: 1.660 [ arcsec ]\n",
      "Aperture size: 8.5 pixels\n",
      "Aperture correction: -0.029 +/- 0.012 [ mag ]\n",
      "WARNING: FITSFixedWarning: 'datfix' made the change 'Invalid parameter values: MJD-OBS and DATE-OBS are inconsistent.\n",
      "Changed DATE-OBS from '2022-12-13        ' to '2022-12-13T00:00:00.0''. [astropy.wcs.wcs]\n",
      "FITSFixedWarning: 'datfix' made the change 'Invalid parameter values: MJD-OBS and DATE-OBS are inconsistent.\n",
      "Changed DATE-OBS from '2022-12-13        ' to '2022-12-13T00:00:00.0''.\n",
      "Catalog found for target_ra_58_dec_-11\n",
      "Catalog: PAN_STARRS \n",
      "File: target_ra_58_dec_-11_r_0.25\n",
      "Catalog length: 6863\n",
      "Removed 2922 sources fainter than cutoff [20 mag]\n",
      "Using Gaussian Profile for fitting\n",
      "Catalog Length: 222\n"
     ]
    },
    {
     "name": "stdout",
     "output_type": "stream",
     "text": [
      "\n",
      "+----------------------------------------------+\n",
      "|Searching for catalog for target_ra_58_dec_-11|\n",
      "+----------------------------------------------+\n",
      "\n",
      "\n",
      "+---------------------------------+\n",
      "|Matching catalog sources to image|\n",
      "+---------------------------------+\n",
      "\n",
      "Removed 1 sources too close to target\n",
      "Removed 450 sources too close to boundary or off image\n",
      "Matching catalog to image: 204 / 222 :: Useful sources 138 / 222 "
     ]
    },
    {
     "name": "stderr",
     "output_type": "stream",
     "text": [
      "\n",
      "Median offset: 3.6 [ pixels ] / 1.2 [ arcsec ]\n",
      "Residual table updated: 1 / 10 \n",
      "\tSNR: 418 :: FWHM fitted 4.971\n"
     ]
    },
    {
     "name": "stdout",
     "output_type": "stream",
     "text": [
      "\r",
      "Matching catalog to image: 205 / 222 :: Useful sources 139 / 222 \r",
      "Matching catalog to image: 206 / 222 :: Useful sources 140 / 222 \r",
      "Matching catalog to image: 207 / 222 :: Useful sources 140 / 222 \r",
      "Matching catalog to image: 208 / 222 :: Useful sources 140 / 222 \r",
      "Matching catalog to image: 209 / 222 :: Useful sources 140 / 222 \r",
      "Matching catalog to image: 210 / 222 :: Useful sources 140 / 222 \r",
      "Matching catalog to image: 211 / 222 :: Useful sources 140 / 222 \r",
      "Matching catalog to image: 212 / 222 :: Useful sources 140 / 222 \r",
      "Matching catalog to image: 213 / 222 :: Useful sources 141 / 222 \r",
      "Matching catalog to image: 214 / 222 :: Useful sources 142 / 222 \r",
      "Matching catalog to image: 215 / 222 :: Useful sources 143 / 222 \r",
      "Matching catalog to image: 216 / 222 :: Useful sources 143 / 222 \r",
      "Matching catalog to image: 217 / 222 :: Useful sources 144 / 222 \r",
      "Matching catalog to image: 218 / 222 :: Useful sources 144 / 222 \r",
      "Matching catalog to image: 219 / 222 :: Useful sources 144 / 222 \r",
      "Matching catalog to image: 220 / 222 :: Useful sources 144 / 222 \r",
      "Matching catalog to image: 221 / 222 :: Useful sources 144 / 222 \r",
      "Matching catalog to image: 222 / 222 :: Useful sources 144 / 222   .. done\n",
      "\n",
      "Broken cutouts: 0\n",
      "Not in correct location: 0\n",
      "Not detected: 53\n",
      "Saturated: 26\n",
      "Error: 0\n",
      "\n",
      "\n",
      "+-------------------------------------------+\n",
      "|Building PSF model using stars in the field|\n",
      "+-------------------------------------------+\n",
      "\n"
     ]
    },
    {
     "name": "stderr",
     "output_type": "stream",
     "text": [
      "Residual table updated: 2 / 10 \n",
      "\tSNR: 372 :: FWHM fitted 4.982\n",
      "Residual table updated: 3 / 10 \n",
      "\tSNR: 366 :: FWHM fitted 4.969\n",
      "Residual table updated: 4 / 10 \n",
      "\tSNR: 348 :: FWHM fitted 5.124\n",
      "Residual table updated: 5 / 10 \n",
      "\tSNR: 338 :: FWHM fitted 5.188\n",
      "Residual table updated: 6 / 10 \n",
      "\tSNR: 334 :: FWHM fitted 5.144\n",
      "Residual table updated: 7 / 10 \n",
      "\tSNR: 326 :: FWHM fitted 5.126\n",
      "Residual table updated: 8 / 10 \n",
      "\tSNR: 316 :: FWHM fitted 4.842\n",
      "Residual table updated: 9 / 10 \n",
      "\tSNR: 264 :: FWHM fitted 5.066\n",
      "Residual table updated: 10 / 10 \n",
      "\tSNR: 251 :: FWHM fitted 5.078\n",
      "\n",
      "PSF built using 10 sources\n",
      "\n",
      "Unity PSF: 30.2 [counts] \n",
      "Unity Residual table: 2.2 [counts] \n",
      "Using Aperture Photometry on sequence Stars \n",
      "No PSF sources fitted\n",
      "WARNING: Input data contains invalid values (NaNs or infs), which were automatically clipped. [astropy.stats.sigma_clipping]\n",
      "Input data contains invalid values (NaNs or infs), which were automatically clipped.\n",
      "\n",
      "Mean r-band zeropoint: 25.996 +/- 0.032 \n",
      "\n"
     ]
    },
    {
     "name": "stdout",
     "output_type": "stream",
     "text": [
      "PSF model saved as: /Users/terwelj/Documents/VirtualMachine/Observing_ING/autophot/newtest/at2022acru_REDUCED/r1645971redCCD4/PSF_model_r1645971redCCD4_APT.fits\n",
      "\n",
      "+-------------------+\n",
      "|Measuring PSF model|\n",
      "+-------------------+\n",
      "\n",
      "\n",
      "+-----------------------+\n",
      "|Finding Zeropoint value|\n",
      "+-----------------------+\n",
      "\n",
      "Checking for suitable catalog sources\n",
      "Removed 118 sources lower than SNR of 25.0\n"
     ]
    },
    {
     "name": "stderr",
     "output_type": "stream",
     "text": [
      "/opt/anaconda3/envs/autophot/lib/python3.7/site-packages/matplotlib/backends/backend_pdf.py:1649: DeprecationWarning: NONE is deprecated and will be removed in Pillow 10 (2023-07-01). Use Resampling.NEAREST or Dither.NONE instead.\n",
      "  img = img.convert(mode='P', dither=Image.NONE,\n",
      "/opt/anaconda3/envs/autophot/lib/python3.7/site-packages/matplotlib/backends/backend_pdf.py:1650: DeprecationWarning: ADAPTIVE is deprecated and will be removed in Pillow 10 (2023-07-01). Use Palette.ADAPTIVE instead.\n",
      "  palette=Image.ADAPTIVE, colors=num_colors)\n",
      "Approx. catalog limiting magnitude: 19.474 [ mag ]\n",
      "Target photometry on original image\n"
     ]
    },
    {
     "name": "stdout",
     "output_type": "stream",
     "text": [
      "\n",
      "+-----------------------------------+\n",
      "|Doing Aperture Photometry on Target|\n",
      "+-----------------------------------+\n",
      "\n"
     ]
    },
    {
     "name": "stderr",
     "output_type": "stream",
     "text": [
      "/opt/anaconda3/envs/autophot/lib/python3.7/site-packages/matplotlib/backends/backend_pdf.py:1649: DeprecationWarning: NONE is deprecated and will be removed in Pillow 10 (2023-07-01). Use Resampling.NEAREST or Dither.NONE instead.\n",
      "  img = img.convert(mode='P', dither=Image.NONE,\n",
      "/opt/anaconda3/envs/autophot/lib/python3.7/site-packages/matplotlib/backends/backend_pdf.py:1650: DeprecationWarning: ADAPTIVE is deprecated and will be removed in Pillow 10 (2023-07-01). Use Palette.ADAPTIVE instead.\n",
      "  palette=Image.ADAPTIVE, colors=num_colors)\n",
      "Approximate Target SNR: 76.3\n",
      "SNR = 76 - skipping limiting magnitude\n",
      "Pixel Offset: 0.000\n",
      "Limiting Magnitude: skipped\n",
      "Target Detection probability: 100 %\n",
      "Target flux: 1494.085 +/- 0.000 [counts/s]\n",
      "Noise: 361.419 [counts/s]\n",
      "Target SNR: 76.331 +/- 0.014\n",
      "Instrumental Magnitude: -7.936 +/- 0.000\n",
      "Zeropoint: 25.996 +/- 0.032\n",
      "Target Magnitude: 18.031 +/- 0.037 \n",
      "\n",
      "*** Transient well detected ***\n",
      "\n",
      "Time Taken [ 8408 ]: 38s\n",
      "Sucess: r1645971redCCD4_APT.fits :: PID 8408 \n",
      "\n",
      "\n",
      "User instrument database: /Users/terwelj/Documents/VirtualMachine/Observing_ING/autophot/newtest/telescope.yml\n",
      "\n",
      "Number of files: 6\n",
      "\n",
      "1 telescope(s) detected - checking header keywords\n",
      "\n"
     ]
    },
    {
     "name": "stdout",
     "output_type": "stream",
     "text": [
      "\n",
      "---\n",
      "\n",
      "Files that failed : []\n",
      "\n",
      "DONE\n",
      "\n",
      "Done - Time Taken: 115.2\n",
      "Photometry successfully extracted from all images\n",
      "\n",
      "\n",
      "Running AutoPHOT on ZTF22absygcs, ra = 349.6374268, dec = -11.4279059\n",
      "\n",
      "\n",
      "Default input loaded in from: \n",
      "/opt/anaconda3/envs/autophot/lib/python3.7/site-packages/autophot/databases/default_input.yml\n",
      "\n",
      "        _       _       ___ _  _    _____\n",
      "       /_\\ _  _| |_ ___| _ \\ || |__|_   _|\n",
      "      / _ \\ || |  _/ _ \\  _/ __ / _ \\| |\n",
      "     /_/ \\_\\_,_|\\__\\___/_| |_||_\\___/|_|\n",
      "    \n",
      "     ---------------------------------------\n",
      "        Automated Photometry of Transients\n",
      "        S. J. Brennan et al. 2021 \n",
      "        Please provide feedback/bugs to:\n",
      "        Email: sean.brennan2@ucdconnect.ie\n",
      "    ---------------------------------------\n",
      "Directory of fits file: /Users/terwelj/Documents/VirtualMachine/Observing_ING/autophot/newtest/ZTF22absygcs\n",
      "Found Telescopes:\n",
      "\n",
      " - INT\n",
      "\n",
      "-> Telescope check complete\n",
      "\n",
      "Checking Filter keywords and database\n",
      "\n",
      "-> Filter check complete\n",
      "\n",
      "Checking Filter information for each image\n",
      "\n",
      "Files removed - Wrong Image Type: 0\n",
      "\n",
      "Files removed - No/Wrong filter(s): 3\n",
      "Filters not included: [B, V, U]\n",
      "\n",
      "\n",
      "Files removed: 3\n",
      "\n",
      "+-----------+\n",
      "|File: 1 / 3|\n",
      "+-----------+\n",
      "\n"
     ]
    },
    {
     "name": "stderr",
     "output_type": "stream",
     "text": [
      "File: r1639508redCCD4_APT.fits - PID: 8408\n",
      "Start Time: 2023-01-03 14:27:28.963702\n",
      "Filter keyoward used: WFFBAND\n",
      "Telescope: INT\n",
      "Filter: r\n",
      "MJD: 59896.941\n",
      "Date of Observation : 2022-11-13\n",
      "Read Noise: 5.8 [e^- /pixel]\n",
      "GAIN: 2.9 [e^- /count]\n",
      "Exposure time: 90 [s] \n",
      "Detecting/removing cosmic ray sources\n"
     ]
    },
    {
     "name": "stdout",
     "output_type": "stream",
     "text": [
      "Starting Astroscrappy ... "
     ]
    },
    {
     "name": "stderr",
     "output_type": "stream",
     "text": [
      "Contaminated pixels with Cosmic rays removed: 28834\n",
      "Cosmic rays removed - image updated\n",
      "WARNING: FITSFixedWarning: RADECSYS= 'FK5 ' / mean place new (after the 1976 IAU) system \n",
      "the RADECSYS keyword is deprecated, use RADESYSa. [astropy.wcs.wcs]\n",
      "FITSFixedWarning: RADECSYS= 'FK5 ' / mean place new (after the 1976 IAU) system \n",
      "the RADECSYS keyword is deprecated, use RADESYSa.\n",
      "WARNING: FITSFixedWarning: PROJP1 = 1.00000000 / Projection coefficient for primary WCS \n",
      "the PROJPn keyword is deprecated, use PVi_ma. [astropy.wcs.wcs]\n",
      "FITSFixedWarning: PROJP1 = 1.00000000 / Projection coefficient for primary WCS \n",
      "the PROJPn keyword is deprecated, use PVi_ma.\n",
      "WARNING: FITSFixedWarning: PROJP3 = 0.00000000 / Projection coefficient for primary WCS \n",
      "the PROJPn keyword is deprecated, use PVi_ma. [astropy.wcs.wcs]\n",
      "FITSFixedWarning: PROJP3 = 0.00000000 / Projection coefficient for primary WCS \n",
      "the PROJPn keyword is deprecated, use PVi_ma.\n",
      "WARNING: FITSFixedWarning: 'datfix' made the change 'Invalid parameter values: MJD-OBS and DATE-OBS are inconsistent.\n",
      "Changed DATE-OBS from '2022-11-13        ' to '2022-11-13T00:00:00.0''. [astropy.wcs.wcs]\n",
      "FITSFixedWarning: 'datfix' made the change 'Invalid parameter values: MJD-OBS and DATE-OBS are inconsistent.\n",
      "Changed DATE-OBS from '2022-11-13        ' to '2022-11-13T00:00:00.0''.\n",
      "\n",
      "Performing Astrometry.net\n",
      "Removing any pre-existing WCS keys \n",
      "No WCS values found - attempting to solve field\n",
      "ASTROMETRY started...\n",
      "ASTROMETRY finished: 3s\n",
      "Updating WCS keys with new values\n",
      "WCS saved to new file\n",
      "\n",
      "Searching for FWHM\n",
      "Using Gaussian Profile for fitting\n"
     ]
    },
    {
     "name": "stdout",
     "output_type": "stream",
     "text": [
      "\n",
      "+-------------------------------+\n",
      "|Finding Full Width Half Maximum|\n",
      "+-------------------------------+\n",
      "\n"
     ]
    },
    {
     "name": "stderr",
     "output_type": "stream",
     "text": [
      "\n",
      "Number of sources before cleaning [ 25.0 sigma ]: 25 \n",
      "Updating search FWHM value\n"
     ]
    },
    {
     "name": "stdout",
     "output_type": "stream",
     "text": [
      "Updated guess for FWHM: 7.4 pixels \n"
     ]
    },
    {
     "name": "stderr",
     "output_type": "stream",
     "text": [
      "\n",
      "Number of sources before cleaning [ 25.0 sigma ]: 54 \n",
      "Removed 2 sources near boundary\n",
      "Removed 2 crowded sources\n"
     ]
    },
    {
     "name": "stdout",
     "output_type": "stream",
     "text": [
      "Fitting source for FWHM: 50/50   "
     ]
    },
    {
     "name": "stderr",
     "output_type": "stream",
     "text": [
      "Removed 5 saturated sources\n",
      "WARNING: Input data contains invalid values (NaNs or infs), which were automatically clipped. [astropy.stats.sigma_clipping]\n",
      "Input data contains invalid values (NaNs or infs), which were automatically clipped.\n",
      "Removed 6 FWHM outliers\n",
      "WARNING: Input data contains invalid values (NaNs or infs), which were automatically clipped. [astropy.stats.sigma_clipping]\n",
      "Input data contains invalid values (NaNs or infs), which were automatically clipped.\n",
      "Removed 6 median outliers\n",
      "Useable sources found [ 25 sigma ]: 50\n",
      "Removes 0 sources within minimum seperation [ 35 pixel ]\n",
      "\n",
      "FWHM: 7.124 +/- 0.093 [ pixels ]\n",
      "\n",
      "Seeing: 2.367 [ arcsec ]\n",
      "Aperture size: 12.1 pixels\n",
      "Aperture correction: -0.029 +/- 0.007 [ mag ]\n"
     ]
    },
    {
     "name": "stdout",
     "output_type": "stream",
     "text": [
      "\n",
      "+-----------------------------------------------+\n",
      "|Searching for catalog for target_ra_350_dec_-11|\n",
      "+-----------------------------------------------+\n",
      "\n"
     ]
    },
    {
     "name": "stderr",
     "output_type": "stream",
     "text": [
      "WARNING: FITSFixedWarning: 'datfix' made the change 'Invalid parameter values: MJD-OBS and DATE-OBS are inconsistent.\n",
      "Changed DATE-OBS from '2022-11-13        ' to '2022-11-13T00:00:00.0''. [astropy.wcs.wcs]\n",
      "FITSFixedWarning: 'datfix' made the change 'Invalid parameter values: MJD-OBS and DATE-OBS are inconsistent.\n",
      "Changed DATE-OBS from '2022-11-13        ' to '2022-11-13T00:00:00.0''.\n",
      "Searching for new catalog [sdss] for target_ra_350_dec_-11 \n",
      "Catalog retireval failed!\n",
      "ERROR: list index out of range\n",
      " Returning None\n",
      "'NoneType' object is not subscriptable\n",
      "Traceback (most recent call last):\n",
      "  File \"/opt/anaconda3/envs/autophot/lib/python3.7/site-packages/autophot/packages/main.py\", line 1136, in main\n",
      "    plot_catalog_nondetections =  autophot_input['catalog']['plot_catalog_nondetections'])\n",
      "  File \"/opt/anaconda3/envs/autophot/lib/python3.7/site-packages/autophot/packages/call_catalog.py\", line 479, in match\n",
      "    chosen_catalog = chosen_catalog[~np.isnan(chosen_catalog[catalog_keywords[image_filter]])]\n",
      "TypeError: 'NoneType' object is not subscriptable\n",
      "Failure: r1639508redCCD4_APT.fits - PID: 8408\n"
     ]
    },
    {
     "name": "stdout",
     "output_type": "stream",
     "text": [
      "\n",
      "+---------------------------------+\n",
      "|Matching catalog sources to image|\n",
      "+---------------------------------+\n",
      "\n",
      "\n",
      "+-----------+\n",
      "|File: 2 / 3|\n",
      "+-----------+\n",
      "\n"
     ]
    },
    {
     "name": "stderr",
     "output_type": "stream",
     "text": [
      "File: r1639504redCCD4_APT.fits - PID: 8408\n",
      "Start Time: 2023-01-03 14:27:46.897929\n",
      "Filter keyoward used: WFFBAND\n",
      "Telescope: INT\n",
      "Filter: g\n",
      "MJD: 59896.930\n",
      "Date of Observation : 2022-11-13\n",
      "Read Noise: 5.8 [e^- /pixel]\n",
      "GAIN: 2.9 [e^- /count]\n",
      "Exposure time: 20 [s] \n",
      "Detecting/removing cosmic ray sources\n"
     ]
    },
    {
     "name": "stdout",
     "output_type": "stream",
     "text": [
      "Starting Astroscrappy ... "
     ]
    },
    {
     "name": "stderr",
     "output_type": "stream",
     "text": [
      "Contaminated pixels with Cosmic rays removed: 33555\n",
      "Cosmic rays removed - image updated\n",
      "WARNING: FITSFixedWarning: RADECSYS= 'FK5 ' / mean place new (after the 1976 IAU) system \n",
      "the RADECSYS keyword is deprecated, use RADESYSa. [astropy.wcs.wcs]\n",
      "FITSFixedWarning: RADECSYS= 'FK5 ' / mean place new (after the 1976 IAU) system \n",
      "the RADECSYS keyword is deprecated, use RADESYSa.\n",
      "WARNING: FITSFixedWarning: PROJP1 = 1.00000000 / Projection coefficient for primary WCS \n",
      "the PROJPn keyword is deprecated, use PVi_ma. [astropy.wcs.wcs]\n",
      "FITSFixedWarning: PROJP1 = 1.00000000 / Projection coefficient for primary WCS \n",
      "the PROJPn keyword is deprecated, use PVi_ma.\n",
      "WARNING: FITSFixedWarning: PROJP3 = 0.00000000 / Projection coefficient for primary WCS \n",
      "the PROJPn keyword is deprecated, use PVi_ma. [astropy.wcs.wcs]\n",
      "FITSFixedWarning: PROJP3 = 0.00000000 / Projection coefficient for primary WCS \n",
      "the PROJPn keyword is deprecated, use PVi_ma.\n",
      "WARNING: FITSFixedWarning: 'datfix' made the change 'Invalid parameter values: MJD-OBS and DATE-OBS are inconsistent.\n",
      "Changed DATE-OBS from '2022-11-13        ' to '2022-11-13T00:00:00.0''. [astropy.wcs.wcs]\n",
      "FITSFixedWarning: 'datfix' made the change 'Invalid parameter values: MJD-OBS and DATE-OBS are inconsistent.\n",
      "Changed DATE-OBS from '2022-11-13        ' to '2022-11-13T00:00:00.0''.\n",
      "\n",
      "Performing Astrometry.net\n",
      "Removing any pre-existing WCS keys \n",
      "No WCS values found - attempting to solve field\n",
      "ASTROMETRY started...\n",
      "ASTROMETRY finished: 3s\n",
      "Updating WCS keys with new values\n",
      "WCS saved to new file\n",
      "\n",
      "Searching for FWHM\n",
      "Using Gaussian Profile for fitting\n"
     ]
    },
    {
     "name": "stdout",
     "output_type": "stream",
     "text": [
      "\n",
      "+-------------------------------+\n",
      "|Finding Full Width Half Maximum|\n",
      "+-------------------------------+\n",
      "\n"
     ]
    },
    {
     "name": "stderr",
     "output_type": "stream",
     "text": [
      "\n",
      "Number of sources before cleaning [ 25.0 sigma ]: 25 \n",
      "Updating search FWHM value\n"
     ]
    },
    {
     "name": "stdout",
     "output_type": "stream",
     "text": [
      "zero-size array to reduction operation fmax which has no identity\n",
      "Updated guess for FWHM: 7.4 pixels \n"
     ]
    },
    {
     "name": "stderr",
     "output_type": "stream",
     "text": [
      "\n",
      "Number of sources before cleaning [ 25.0 sigma ]: 57 \n",
      "Removed 2 sources near boundary\n",
      "Removed 0 crowded sources\n"
     ]
    },
    {
     "name": "stdout",
     "output_type": "stream",
     "text": [
      "Fitting source for FWHM: 55/55    "
     ]
    },
    {
     "name": "stderr",
     "output_type": "stream",
     "text": [
      "Removed 1 saturated sources\n",
      "WARNING: Input data contains invalid values (NaNs or infs), which were automatically clipped. [astropy.stats.sigma_clipping]\n",
      "Input data contains invalid values (NaNs or infs), which were automatically clipped.\n",
      "Removed 3 FWHM outliers\n",
      "WARNING: Input data contains invalid values (NaNs or infs), which were automatically clipped. [astropy.stats.sigma_clipping]\n",
      "Input data contains invalid values (NaNs or infs), which were automatically clipped.\n",
      "Removed 4 median outliers\n",
      "Useable sources found [ 25 sigma ]: 55\n",
      "Removes 0 sources within minimum seperation [ 36 pixel ]\n",
      "\n",
      "FWHM: 7.387 +/- 0.239 [ pixels ]\n",
      "\n",
      "Seeing: 2.454 [ arcsec ]\n",
      "Aperture size: 12.6 pixels\n",
      "Aperture correction: -0.030 +/- 0.014 [ mag ]\n",
      "WARNING: FITSFixedWarning: 'datfix' made the change 'Invalid parameter values: MJD-OBS and DATE-OBS are inconsistent.\n",
      "Changed DATE-OBS from '2022-11-13        ' to '2022-11-13T00:00:00.0''. [astropy.wcs.wcs]\n",
      "FITSFixedWarning: 'datfix' made the change 'Invalid parameter values: MJD-OBS and DATE-OBS are inconsistent.\n",
      "Changed DATE-OBS from '2022-11-13        ' to '2022-11-13T00:00:00.0''.\n",
      "Searching for new catalog [sdss] for target_ra_350_dec_-11 \n",
      "Catalog retireval failed!\n",
      "ERROR: list index out of range\n",
      " Returning None\n",
      "'NoneType' object is not subscriptable\n",
      "Traceback (most recent call last):\n",
      "  File \"/opt/anaconda3/envs/autophot/lib/python3.7/site-packages/autophot/packages/main.py\", line 1136, in main\n",
      "    plot_catalog_nondetections =  autophot_input['catalog']['plot_catalog_nondetections'])\n",
      "  File \"/opt/anaconda3/envs/autophot/lib/python3.7/site-packages/autophot/packages/call_catalog.py\", line 479, in match\n",
      "    chosen_catalog = chosen_catalog[~np.isnan(chosen_catalog[catalog_keywords[image_filter]])]\n",
      "TypeError: 'NoneType' object is not subscriptable\n",
      "Failure: r1639504redCCD4_APT.fits - PID: 8408\n",
      "File: r1639506redCCD4_APT.fits - PID: 8408\n",
      "Start Time: 2023-01-03 14:28:04.802647\n"
     ]
    },
    {
     "name": "stdout",
     "output_type": "stream",
     "text": [
      "\n",
      "+-----------------------------------------------+\n",
      "|Searching for catalog for target_ra_350_dec_-11|\n",
      "+-----------------------------------------------+\n",
      "\n",
      "\n",
      "+---------------------------------+\n",
      "|Matching catalog sources to image|\n",
      "+---------------------------------+\n",
      "\n",
      "\n",
      "+-----------+\n",
      "|File: 3 / 3|\n",
      "+-----------+\n",
      "\n"
     ]
    },
    {
     "name": "stderr",
     "output_type": "stream",
     "text": [
      "Filter keyoward used: WFFBAND\n",
      "Telescope: INT\n",
      "Filter: i\n",
      "MJD: 59896.934\n",
      "Date of Observation : 2022-11-13\n",
      "Read Noise: 5.8 [e^- /pixel]\n",
      "GAIN: 2.9 [e^- /count]\n",
      "Exposure time: 399 [s] \n",
      "Detecting/removing cosmic ray sources\n"
     ]
    },
    {
     "name": "stdout",
     "output_type": "stream",
     "text": [
      "Starting Astroscrappy ... "
     ]
    },
    {
     "name": "stderr",
     "output_type": "stream",
     "text": [
      "Contaminated pixels with Cosmic rays removed: 36325\n",
      "Cosmic rays removed - image updated\n",
      "WARNING: FITSFixedWarning: RADECSYS= 'FK5 ' / mean place new (after the 1976 IAU) system \n",
      "the RADECSYS keyword is deprecated, use RADESYSa. [astropy.wcs.wcs]\n",
      "FITSFixedWarning: RADECSYS= 'FK5 ' / mean place new (after the 1976 IAU) system \n",
      "the RADECSYS keyword is deprecated, use RADESYSa.\n",
      "WARNING: FITSFixedWarning: PROJP1 = 1.00000000 / Projection coefficient for primary WCS \n",
      "the PROJPn keyword is deprecated, use PVi_ma. [astropy.wcs.wcs]\n",
      "FITSFixedWarning: PROJP1 = 1.00000000 / Projection coefficient for primary WCS \n",
      "the PROJPn keyword is deprecated, use PVi_ma.\n",
      "WARNING: FITSFixedWarning: PROJP3 = 0.00000000 / Projection coefficient for primary WCS \n",
      "the PROJPn keyword is deprecated, use PVi_ma. [astropy.wcs.wcs]\n",
      "FITSFixedWarning: PROJP3 = 0.00000000 / Projection coefficient for primary WCS \n",
      "the PROJPn keyword is deprecated, use PVi_ma.\n",
      "WARNING: FITSFixedWarning: 'datfix' made the change 'Invalid parameter values: MJD-OBS and DATE-OBS are inconsistent.\n",
      "Changed DATE-OBS from '2022-11-13        ' to '2022-11-13T00:00:00.0''. [astropy.wcs.wcs]\n",
      "FITSFixedWarning: 'datfix' made the change 'Invalid parameter values: MJD-OBS and DATE-OBS are inconsistent.\n",
      "Changed DATE-OBS from '2022-11-13        ' to '2022-11-13T00:00:00.0''.\n",
      "\n",
      "Performing Astrometry.net\n",
      "Removing any pre-existing WCS keys \n",
      "No WCS values found - attempting to solve field\n",
      "ASTROMETRY started...\n",
      "ASTROMETRY finished: 3s\n",
      "Updating WCS keys with new values\n",
      "WCS saved to new file\n",
      "\n",
      "Searching for FWHM\n",
      "Using Gaussian Profile for fitting\n"
     ]
    },
    {
     "name": "stdout",
     "output_type": "stream",
     "text": [
      "\n",
      "+-------------------------------+\n",
      "|Finding Full Width Half Maximum|\n",
      "+-------------------------------+\n",
      "\n"
     ]
    },
    {
     "name": "stderr",
     "output_type": "stream",
     "text": [
      "\n",
      "Number of sources before cleaning [ 25.0 sigma ]: 25 \n",
      "Updating search FWHM value\n"
     ]
    },
    {
     "name": "stdout",
     "output_type": "stream",
     "text": [
      "Updated guess for FWHM: 8.8 pixels \n"
     ]
    },
    {
     "name": "stderr",
     "output_type": "stream",
     "text": [
      "\n",
      "Number of sources before cleaning [ 25.0 sigma ]: 78 \n",
      "Removed 2 sources near boundary\n",
      "Removed 4 crowded sources\n"
     ]
    },
    {
     "name": "stdout",
     "output_type": "stream",
     "text": [
      "Fitting source for FWHM: 72/72  "
     ]
    },
    {
     "name": "stderr",
     "output_type": "stream",
     "text": [
      "Removed 30 saturated sources\n",
      "WARNING: Input data contains invalid values (NaNs or infs), which were automatically clipped. [astropy.stats.sigma_clipping]\n",
      "Input data contains invalid values (NaNs or infs), which were automatically clipped.\n",
      "Removed 34 FWHM outliers\n",
      "WARNING: Input data contains invalid values (NaNs or infs), which were automatically clipped. [astropy.stats.sigma_clipping]\n",
      "Input data contains invalid values (NaNs or infs), which were automatically clipped.\n",
      "Removed 30 median outliers\n",
      "Useable sources found [ 25 sigma ]: 72\n",
      "Removes 0 sources within minimum seperation [ 33 pixel ]\n",
      "\n",
      "FWHM: 6.884 +/- 1.334 [ pixels ]\n",
      "\n",
      "Seeing: 2.291 [ arcsec ]\n",
      "Aperture size: 11.7 pixels\n",
      "Aperture correction: -0.031 +/- 0.025 [ mag ]\n",
      "WARNING: FITSFixedWarning: 'datfix' made the change 'Invalid parameter values: MJD-OBS and DATE-OBS are inconsistent.\n",
      "Changed DATE-OBS from '2022-11-13        ' to '2022-11-13T00:00:00.0''. [astropy.wcs.wcs]\n",
      "FITSFixedWarning: 'datfix' made the change 'Invalid parameter values: MJD-OBS and DATE-OBS are inconsistent.\n",
      "Changed DATE-OBS from '2022-11-13        ' to '2022-11-13T00:00:00.0''.\n",
      "Searching for new catalog [sdss] for target_ra_350_dec_-11 \n",
      "Catalog retireval failed!\n",
      "ERROR: list index out of range\n",
      " Returning None\n",
      "'NoneType' object is not subscriptable\n",
      "Traceback (most recent call last):\n",
      "  File \"/opt/anaconda3/envs/autophot/lib/python3.7/site-packages/autophot/packages/main.py\", line 1136, in main\n",
      "    plot_catalog_nondetections =  autophot_input['catalog']['plot_catalog_nondetections'])\n",
      "  File \"/opt/anaconda3/envs/autophot/lib/python3.7/site-packages/autophot/packages/call_catalog.py\", line 479, in match\n",
      "    chosen_catalog = chosen_catalog[~np.isnan(chosen_catalog[catalog_keywords[image_filter]])]\n",
      "TypeError: 'NoneType' object is not subscriptable\n",
      "Failure: r1639506redCCD4_APT.fits - PID: 8408\n",
      "\n",
      "User instrument database: /Users/terwelj/Documents/VirtualMachine/Observing_ING/autophot/newtest/telescope.yml\n",
      "\n",
      "Number of files: 6\n",
      "\n",
      "1 telescope(s) detected - checking header keywords\n",
      "\n"
     ]
    },
    {
     "name": "stdout",
     "output_type": "stream",
     "text": [
      "\n",
      "+-----------------------------------------------+\n",
      "|Searching for catalog for target_ra_350_dec_-11|\n",
      "+-----------------------------------------------+\n",
      "\n",
      "\n",
      "+---------------------------------+\n",
      "|Matching catalog sources to image|\n",
      "+---------------------------------+\n",
      "\n",
      "\n",
      "---\n",
      "\n",
      "Files that failed : ['/Users/terwelj/Documents/VirtualMachine/Observing_ING/autophot/newtest/ZTF22absygcs_REDUCED/r1639508redCCD4/r1639508redCCD4_APT.fits', '/Users/terwelj/Documents/VirtualMachine/Observing_ING/autophot/newtest/ZTF22absygcs_REDUCED/r1639504redCCD4/r1639504redCCD4_APT.fits', '/Users/terwelj/Documents/VirtualMachine/Observing_ING/autophot/newtest/ZTF22absygcs_REDUCED/r1639506redCCD4/r1639506redCCD4_APT.fits']\n",
      "\n",
      "DONE\n",
      "\n",
      "Done - Time Taken: 55.0\n",
      "\n",
      "        _       _       ___ _  _    _____\n",
      "       /_\\ _  _| |_ ___| _ \\ || |__|_   _|\n",
      "      / _ \\ || |  _/ _ \\  _/ __ / _ \\| |\n",
      "     /_/ \\_\\_,_|\\__\\___/_| |_||_\\___/|_|\n",
      "    \n",
      "     ---------------------------------------\n",
      "        Automated Photometry of Transients\n",
      "        S. J. Brennan et al. 2021 \n",
      "        Please provide feedback/bugs to:\n",
      "        Email: sean.brennan2@ucdconnect.ie\n",
      "    ---------------------------------------\n",
      "Directory of fits file: /Users/terwelj/Documents/VirtualMachine/Observing_ING/autophot/newtest/ZTF22absygcs\n",
      "Found Telescopes:\n",
      "\n",
      " - INT\n",
      "\n",
      "-> Telescope check complete\n",
      "\n",
      "Checking Filter keywords and database\n",
      "\n",
      "-> Filter check complete\n",
      "\n",
      "Checking Filter information for each image\n",
      "\n",
      "Files removed - Wrong Image Type: 0\n",
      "\n",
      "Files removed - No/Wrong filter(s): 3\n",
      "Filters not included: [B, V, U]\n",
      "\n",
      "\n",
      "Files removed: 3\n",
      "\n",
      "+-----------+\n",
      "|File: 1 / 3|\n",
      "+-----------+\n",
      "\n"
     ]
    },
    {
     "name": "stderr",
     "output_type": "stream",
     "text": [
      "File: r1639508redCCD4_APT.fits - PID: 8408\n",
      "Start Time: 2023-01-03 14:28:23.866999\n",
      "Filter keyoward used: WFFBAND\n",
      "Telescope: INT\n",
      "Filter: r\n",
      "MJD: 59896.941\n",
      "Date of Observation : 2022-11-13\n",
      "Read Noise: 5.8 [e^- /pixel]\n",
      "GAIN: 2.9 [e^- /count]\n",
      "Exposure time: 90 [s] \n",
      "Detecting/removing cosmic ray sources\n"
     ]
    },
    {
     "name": "stdout",
     "output_type": "stream",
     "text": [
      "Starting Astroscrappy ... "
     ]
    },
    {
     "name": "stderr",
     "output_type": "stream",
     "text": [
      "Contaminated pixels with Cosmic rays removed: 28834\n",
      "Cosmic rays removed - image updated\n",
      "WARNING: FITSFixedWarning: RADECSYS= 'FK5 ' / mean place new (after the 1976 IAU) system \n",
      "the RADECSYS keyword is deprecated, use RADESYSa. [astropy.wcs.wcs]\n",
      "FITSFixedWarning: RADECSYS= 'FK5 ' / mean place new (after the 1976 IAU) system \n",
      "the RADECSYS keyword is deprecated, use RADESYSa.\n",
      "WARNING: FITSFixedWarning: PROJP1 = 1.00000000 / Projection coefficient for primary WCS \n",
      "the PROJPn keyword is deprecated, use PVi_ma. [astropy.wcs.wcs]\n",
      "FITSFixedWarning: PROJP1 = 1.00000000 / Projection coefficient for primary WCS \n",
      "the PROJPn keyword is deprecated, use PVi_ma.\n",
      "WARNING: FITSFixedWarning: PROJP3 = 0.00000000 / Projection coefficient for primary WCS \n",
      "the PROJPn keyword is deprecated, use PVi_ma. [astropy.wcs.wcs]\n",
      "FITSFixedWarning: PROJP3 = 0.00000000 / Projection coefficient for primary WCS \n",
      "the PROJPn keyword is deprecated, use PVi_ma.\n",
      "WARNING: FITSFixedWarning: 'datfix' made the change 'Invalid parameter values: MJD-OBS and DATE-OBS are inconsistent.\n",
      "Changed DATE-OBS from '2022-11-13        ' to '2022-11-13T00:00:00.0''. [astropy.wcs.wcs]\n",
      "FITSFixedWarning: 'datfix' made the change 'Invalid parameter values: MJD-OBS and DATE-OBS are inconsistent.\n",
      "Changed DATE-OBS from '2022-11-13        ' to '2022-11-13T00:00:00.0''.\n",
      "\n",
      "Performing Astrometry.net\n",
      "Removing any pre-existing WCS keys \n",
      "No WCS values found - attempting to solve field\n",
      "ASTROMETRY started...\n",
      "ASTROMETRY finished: 2s\n",
      "Updating WCS keys with new values\n",
      "WCS saved to new file\n",
      "\n",
      "Searching for FWHM\n",
      "Using Gaussian Profile for fitting\n"
     ]
    },
    {
     "name": "stdout",
     "output_type": "stream",
     "text": [
      "\n",
      "+-------------------------------+\n",
      "|Finding Full Width Half Maximum|\n",
      "+-------------------------------+\n",
      "\n"
     ]
    },
    {
     "name": "stderr",
     "output_type": "stream",
     "text": [
      "\n",
      "Number of sources before cleaning [ 25.0 sigma ]: 25 \n",
      "Updating search FWHM value\n"
     ]
    },
    {
     "name": "stdout",
     "output_type": "stream",
     "text": [
      "Updated guess for FWHM: 7.4 pixels \n"
     ]
    },
    {
     "name": "stderr",
     "output_type": "stream",
     "text": [
      "\n",
      "Number of sources before cleaning [ 25.0 sigma ]: 54 \n",
      "Removed 2 sources near boundary\n",
      "Removed 2 crowded sources\n"
     ]
    },
    {
     "name": "stdout",
     "output_type": "stream",
     "text": [
      "Fitting source for FWHM: 50/50  "
     ]
    },
    {
     "name": "stderr",
     "output_type": "stream",
     "text": [
      "Removed 5 saturated sources\n",
      "WARNING: Input data contains invalid values (NaNs or infs), which were automatically clipped. [astropy.stats.sigma_clipping]\n",
      "Input data contains invalid values (NaNs or infs), which were automatically clipped.\n",
      "Removed 6 FWHM outliers\n",
      "WARNING: Input data contains invalid values (NaNs or infs), which were automatically clipped. [astropy.stats.sigma_clipping]\n",
      "Input data contains invalid values (NaNs or infs), which were automatically clipped.\n",
      "Removed 6 median outliers\n",
      "Useable sources found [ 25 sigma ]: 50\n",
      "Removes 0 sources within minimum seperation [ 35 pixel ]\n",
      "\n",
      "FWHM: 7.124 +/- 0.093 [ pixels ]\n",
      "\n",
      "Seeing: 2.367 [ arcsec ]\n",
      "Aperture size: 12.1 pixels\n",
      "Aperture correction: -0.029 +/- 0.007 [ mag ]\n",
      "WARNING: FITSFixedWarning: 'datfix' made the change 'Invalid parameter values: MJD-OBS and DATE-OBS are inconsistent.\n",
      "Changed DATE-OBS from '2022-11-13        ' to '2022-11-13T00:00:00.0''. [astropy.wcs.wcs]\n",
      "FITSFixedWarning: 'datfix' made the change 'Invalid parameter values: MJD-OBS and DATE-OBS are inconsistent.\n",
      "Changed DATE-OBS from '2022-11-13        ' to '2022-11-13T00:00:00.0''.\n",
      "Searching for new catalog [pan_starrs] for target_ra_350_dec_-11 \n",
      "Downloading sequence stars from pan_starrs\n"
     ]
    },
    {
     "name": "stdout",
     "output_type": "stream",
     "text": [
      "\n",
      "+-----------------------------------------------+\n",
      "|Searching for catalog for target_ra_350_dec_-11|\n",
      "+-----------------------------------------------+\n",
      "\n"
     ]
    },
    {
     "name": "stderr",
     "output_type": "stream",
     "text": [
      "Catalog length: 5879\n",
      "Removed 2930 sources fainter than cutoff [20 mag]\n",
      "Using Gaussian Profile for fitting\n",
      "Catalog Length: 200\n"
     ]
    },
    {
     "name": "stdout",
     "output_type": "stream",
     "text": [
      "\n",
      "+---------------------------------+\n",
      "|Matching catalog sources to image|\n",
      "+---------------------------------+\n",
      "\n",
      "Removed 2 sources too close to target\n",
      "Removed 408 sources too close to boundary or off image\n",
      "Matching catalog to image: 192 / 200 :: Useful sources 142 / 200 "
     ]
    },
    {
     "name": "stderr",
     "output_type": "stream",
     "text": [
      "\n",
      "Median offset: 2.9 [ pixels ] / 1.0 [ arcsec ]\n"
     ]
    },
    {
     "name": "stdout",
     "output_type": "stream",
     "text": [
      "\r",
      "Matching catalog to image: 193 / 200 :: Useful sources 143 / 200 \r",
      "Matching catalog to image: 194 / 200 :: Useful sources 144 / 200 \r",
      "Matching catalog to image: 195 / 200 :: Useful sources 145 / 200 \r",
      "Matching catalog to image: 196 / 200 :: Useful sources 146 / 200 \r",
      "Matching catalog to image: 197 / 200 :: Useful sources 147 / 200 \r",
      "Matching catalog to image: 198 / 200 :: Useful sources 148 / 200 \r",
      "Matching catalog to image: 199 / 200 :: Useful sources 149 / 200 \r",
      "Matching catalog to image: 200 / 200 :: Useful sources 150 / 200   .. done\n",
      "\n",
      "Broken cutouts: 1\n",
      "Not in correct location: 0\n",
      "Not detected: 40\n",
      "Saturated: 9\n",
      "Error: 0\n",
      "\n",
      "\n",
      "+-------------------------------------------+\n",
      "|Building PSF model using stars in the field|\n",
      "+-------------------------------------------+\n",
      "\n"
     ]
    },
    {
     "name": "stderr",
     "output_type": "stream",
     "text": [
      "Residual table updated: 1 / 10 \n",
      "\tSNR: 1568 :: FWHM fitted 7.168\n",
      "Residual table updated: 2 / 10 \n",
      "\tSNR: 1306 :: FWHM fitted 7.206\n",
      "Residual table updated: 3 / 10 \n",
      "\tSNR: 1190 :: FWHM fitted 7.057\n",
      "Residual table updated: 4 / 10 \n",
      "\tSNR: 1099 :: FWHM fitted 7.115\n",
      "Residual table updated: 5 / 10 \n",
      "\tSNR: 1085 :: FWHM fitted 7.056\n",
      "Residual table updated: 6 / 10 \n",
      "\tSNR: 1013 :: FWHM fitted 7.133\n",
      "Residual table updated: 7 / 10 \n",
      "\tSNR: 895 :: FWHM fitted 7.013\n",
      "Residual table updated: 8 / 10 \n",
      "\tSNR: 783 :: FWHM fitted 7.028\n",
      "Residual table updated: 9 / 10 \n",
      "\tSNR: 762 :: FWHM fitted 7.077\n",
      "Residual table updated: 10 / 10 \n",
      "\tSNR: 679 :: FWHM fitted 7.028\n",
      "\n",
      "PSF built using 10 sources\n",
      "\n",
      "Unity PSF: 60.7 [counts] \n",
      "Unity Residual table: 3.3 [counts] \n",
      "Using Aperture Photometry on sequence Stars \n",
      "No PSF sources fitted\n",
      "WARNING: Input data contains invalid values (NaNs or infs), which were automatically clipped. [astropy.stats.sigma_clipping]\n",
      "Input data contains invalid values (NaNs or infs), which were automatically clipped.\n",
      "\n",
      "Mean r-band zeropoint: 26.114 +/- 0.044 \n",
      "\n"
     ]
    },
    {
     "name": "stdout",
     "output_type": "stream",
     "text": [
      "PSF model saved as: /Users/terwelj/Documents/VirtualMachine/Observing_ING/autophot/newtest/ZTF22absygcs_REDUCED/r1639508redCCD4/PSF_model_r1639508redCCD4_APT.fits\n",
      "\n",
      "+-------------------+\n",
      "|Measuring PSF model|\n",
      "+-------------------+\n",
      "\n",
      "\n",
      "+-----------------------+\n",
      "|Finding Zeropoint value|\n",
      "+-----------------------+\n",
      "\n",
      "Checking for suitable catalog sources\n",
      "Removed 137 sources lower than SNR of 25.0\n"
     ]
    },
    {
     "name": "stderr",
     "output_type": "stream",
     "text": [
      "/opt/anaconda3/envs/autophot/lib/python3.7/site-packages/matplotlib/backends/backend_pdf.py:1649: DeprecationWarning: NONE is deprecated and will be removed in Pillow 10 (2023-07-01). Use Resampling.NEAREST or Dither.NONE instead.\n",
      "  img = img.convert(mode='P', dither=Image.NONE,\n",
      "/opt/anaconda3/envs/autophot/lib/python3.7/site-packages/matplotlib/backends/backend_pdf.py:1650: DeprecationWarning: ADAPTIVE is deprecated and will be removed in Pillow 10 (2023-07-01). Use Palette.ADAPTIVE instead.\n",
      "  palette=Image.ADAPTIVE, colors=num_colors)\n",
      "Approx. catalog limiting magnitude: 19.849 [ mag ]\n",
      "Target photometry on original image\n",
      "/opt/anaconda3/envs/autophot/lib/python3.7/site-packages/matplotlib/backends/backend_pdf.py:1649: DeprecationWarning: NONE is deprecated and will be removed in Pillow 10 (2023-07-01). Use Resampling.NEAREST or Dither.NONE instead.\n",
      "  img = img.convert(mode='P', dither=Image.NONE,\n",
      "/opt/anaconda3/envs/autophot/lib/python3.7/site-packages/matplotlib/backends/backend_pdf.py:1650: DeprecationWarning: ADAPTIVE is deprecated and will be removed in Pillow 10 (2023-07-01). Use Palette.ADAPTIVE instead.\n",
      "  palette=Image.ADAPTIVE, colors=num_colors)\n",
      "Approximate Target SNR: 272.2\n"
     ]
    },
    {
     "name": "stdout",
     "output_type": "stream",
     "text": [
      "\n",
      "+-----------------------------------+\n",
      "|Doing Aperture Photometry on Target|\n",
      "+-----------------------------------+\n",
      "\n"
     ]
    },
    {
     "name": "stderr",
     "output_type": "stream",
     "text": [
      "SNR = 272 - skipping limiting magnitude\n",
      "Pixel Offset: 0.000\n",
      "Limiting Magnitude: skipped\n",
      "Target Detection probability: 100 %\n",
      "Target flux: 4340.214 +/- 0.000 [counts/s]\n",
      "Noise: 1250.031 [counts/s]\n",
      "Target SNR: 272.210 +/- 0.004\n",
      "Instrumental Magnitude: -9.094 +/- 0.000\n",
      "Zeropoint: 26.114 +/- 0.044\n",
      "Target Magnitude: 16.990 +/- 0.045 \n",
      "\n",
      "*** Transient well detected ***\n",
      "\n",
      "Time Taken [ 8408 ]: 68s\n",
      "Sucess: r1639508redCCD4_APT.fits :: PID 8408 \n",
      "\n",
      "File: r1639504redCCD4_APT.fits - PID: 8408\n",
      "Start Time: 2023-01-03 14:29:32.156120\n",
      "Filter keyoward used: WFFBAND\n",
      "Telescope: INT\n",
      "Filter: g\n",
      "MJD: 59896.930\n",
      "Date of Observation : 2022-11-13\n",
      "Read Noise: 5.8 [e^- /pixel]\n",
      "GAIN: 2.9 [e^- /count]\n",
      "Exposure time: 20 [s] \n",
      "Detecting/removing cosmic ray sources\n"
     ]
    },
    {
     "name": "stdout",
     "output_type": "stream",
     "text": [
      "\n",
      "+-----------+\n",
      "|File: 2 / 3|\n",
      "+-----------+\n",
      "\n",
      "Starting Astroscrappy ... "
     ]
    },
    {
     "name": "stderr",
     "output_type": "stream",
     "text": [
      "Contaminated pixels with Cosmic rays removed: 33555\n",
      "Cosmic rays removed - image updated\n",
      "WARNING: FITSFixedWarning: RADECSYS= 'FK5 ' / mean place new (after the 1976 IAU) system \n",
      "the RADECSYS keyword is deprecated, use RADESYSa. [astropy.wcs.wcs]\n",
      "FITSFixedWarning: RADECSYS= 'FK5 ' / mean place new (after the 1976 IAU) system \n",
      "the RADECSYS keyword is deprecated, use RADESYSa.\n",
      "WARNING: FITSFixedWarning: PROJP1 = 1.00000000 / Projection coefficient for primary WCS \n",
      "the PROJPn keyword is deprecated, use PVi_ma. [astropy.wcs.wcs]\n",
      "FITSFixedWarning: PROJP1 = 1.00000000 / Projection coefficient for primary WCS \n",
      "the PROJPn keyword is deprecated, use PVi_ma.\n",
      "WARNING: FITSFixedWarning: PROJP3 = 0.00000000 / Projection coefficient for primary WCS \n",
      "the PROJPn keyword is deprecated, use PVi_ma. [astropy.wcs.wcs]\n",
      "FITSFixedWarning: PROJP3 = 0.00000000 / Projection coefficient for primary WCS \n",
      "the PROJPn keyword is deprecated, use PVi_ma.\n",
      "WARNING: FITSFixedWarning: 'datfix' made the change 'Invalid parameter values: MJD-OBS and DATE-OBS are inconsistent.\n",
      "Changed DATE-OBS from '2022-11-13        ' to '2022-11-13T00:00:00.0''. [astropy.wcs.wcs]\n",
      "FITSFixedWarning: 'datfix' made the change 'Invalid parameter values: MJD-OBS and DATE-OBS are inconsistent.\n",
      "Changed DATE-OBS from '2022-11-13        ' to '2022-11-13T00:00:00.0''.\n",
      "\n",
      "Performing Astrometry.net\n",
      "Removing any pre-existing WCS keys \n",
      "No WCS values found - attempting to solve field\n",
      "ASTROMETRY started...\n",
      "ASTROMETRY finished: 2s\n",
      "Updating WCS keys with new values\n",
      "WCS saved to new file\n",
      "\n",
      "Searching for FWHM\n",
      "Using Gaussian Profile for fitting\n"
     ]
    },
    {
     "name": "stdout",
     "output_type": "stream",
     "text": [
      "\n",
      "+-------------------------------+\n",
      "|Finding Full Width Half Maximum|\n",
      "+-------------------------------+\n",
      "\n"
     ]
    },
    {
     "name": "stderr",
     "output_type": "stream",
     "text": [
      "\n",
      "Number of sources before cleaning [ 25.0 sigma ]: 25 \n",
      "Updating search FWHM value\n"
     ]
    },
    {
     "name": "stdout",
     "output_type": "stream",
     "text": [
      "zero-size array to reduction operation fmax which has no identity\n",
      "Updated guess for FWHM: 7.4 pixels \n"
     ]
    },
    {
     "name": "stderr",
     "output_type": "stream",
     "text": [
      "\n",
      "Number of sources before cleaning [ 25.0 sigma ]: 57 \n",
      "Removed 2 sources near boundary\n",
      "Removed 0 crowded sources\n"
     ]
    },
    {
     "name": "stdout",
     "output_type": "stream",
     "text": [
      "Fitting source for FWHM: 55/55  "
     ]
    },
    {
     "name": "stderr",
     "output_type": "stream",
     "text": [
      "Removed 1 saturated sources\n",
      "WARNING: Input data contains invalid values (NaNs or infs), which were automatically clipped. [astropy.stats.sigma_clipping]\n",
      "Input data contains invalid values (NaNs or infs), which were automatically clipped.\n",
      "Removed 3 FWHM outliers\n",
      "WARNING: Input data contains invalid values (NaNs or infs), which were automatically clipped. [astropy.stats.sigma_clipping]\n",
      "Input data contains invalid values (NaNs or infs), which were automatically clipped.\n",
      "Removed 4 median outliers\n",
      "Useable sources found [ 25 sigma ]: 55\n",
      "Removes 0 sources within minimum seperation [ 36 pixel ]\n",
      "\n",
      "FWHM: 7.387 +/- 0.239 [ pixels ]\n",
      "\n",
      "Seeing: 2.454 [ arcsec ]\n",
      "Aperture size: 12.6 pixels\n",
      "Aperture correction: -0.030 +/- 0.014 [ mag ]\n",
      "WARNING: FITSFixedWarning: 'datfix' made the change 'Invalid parameter values: MJD-OBS and DATE-OBS are inconsistent.\n",
      "Changed DATE-OBS from '2022-11-13        ' to '2022-11-13T00:00:00.0''. [astropy.wcs.wcs]\n",
      "FITSFixedWarning: 'datfix' made the change 'Invalid parameter values: MJD-OBS and DATE-OBS are inconsistent.\n",
      "Changed DATE-OBS from '2022-11-13        ' to '2022-11-13T00:00:00.0''.\n",
      "Catalog found for target_ra_350_dec_-11\n",
      "Catalog: PAN_STARRS \n",
      "File: target_ra_350_dec_-11_r_0.25\n",
      "Catalog length: 5879\n",
      "Removed 1930 sources fainter than cutoff [20 mag]\n",
      "Using Gaussian Profile for fitting\n",
      "Catalog Length: 142\n"
     ]
    },
    {
     "name": "stdout",
     "output_type": "stream",
     "text": [
      "\n",
      "+-----------------------------------------------+\n",
      "|Searching for catalog for target_ra_350_dec_-11|\n",
      "+-----------------------------------------------+\n",
      "\n",
      "\n",
      "+---------------------------------+\n",
      "|Matching catalog sources to image|\n",
      "+---------------------------------+\n",
      "\n",
      "Removed 1 sources too close to target\n",
      "Removed 268 sources too close to boundary or off image\n",
      "Matching catalog to image: 142 / 142 :: Useful sources 105 / 142   .. done\n",
      "\n",
      "Broken cutouts: 1\n",
      "Not in correct location: 0\n",
      "Not detected: 34\n",
      "Saturated: 2\n",
      "Error: 0\n",
      "\n"
     ]
    },
    {
     "name": "stderr",
     "output_type": "stream",
     "text": [
      "\n",
      "Median offset: 3.2 [ pixels ] / 1.1 [ arcsec ]\n",
      "Residual table updated: 1 / 10 \n",
      "\tSNR: 706 :: FWHM fitted 7.202\n",
      "Residual table updated: 2 / 10 \n",
      "\tSNR: 666 :: FWHM fitted 7.477\n",
      "Residual table updated: 3 / 10 \n",
      "\tSNR: 615 :: FWHM fitted 7.489\n"
     ]
    },
    {
     "name": "stdout",
     "output_type": "stream",
     "text": [
      "\n",
      "+-------------------------------------------+\n",
      "|Building PSF model using stars in the field|\n",
      "+-------------------------------------------+\n",
      "\n"
     ]
    },
    {
     "name": "stderr",
     "output_type": "stream",
     "text": [
      "Residual table updated: 4 / 10 \n",
      "\tSNR: 616 :: FWHM fitted 7.401\n",
      "Residual table updated: 5 / 10 \n",
      "\tSNR: 601 :: FWHM fitted 7.468\n",
      "Residual table updated: 6 / 10 \n",
      "\tSNR: 587 :: FWHM fitted 7.246\n",
      "Residual table updated: 7 / 10 \n",
      "\tSNR: 578 :: FWHM fitted 7.554\n",
      "Residual table updated: 8 / 10 \n",
      "\tSNR: 509 :: FWHM fitted 7.110\n",
      "Residual table updated: 9 / 10 \n",
      "\tSNR: 461 :: FWHM fitted 7.227\n",
      "Residual table updated: 10 / 10 \n",
      "\tSNR: 426 :: FWHM fitted 7.435\n",
      "\n",
      "PSF built using 10 sources\n",
      "\n",
      "Unity PSF: 65.3 [counts] \n",
      "Unity Residual table: 3.6 [counts] \n",
      "Using Aperture Photometry on sequence Stars \n",
      "No PSF sources fitted\n",
      "WARNING: Input data contains invalid values (NaNs or infs), which were automatically clipped. [astropy.stats.sigma_clipping]\n",
      "Input data contains invalid values (NaNs or infs), which were automatically clipped.\n",
      "\n",
      "Mean g-band zeropoint: 26.303 +/- 0.039 \n",
      "\n"
     ]
    },
    {
     "name": "stdout",
     "output_type": "stream",
     "text": [
      "PSF model saved as: /Users/terwelj/Documents/VirtualMachine/Observing_ING/autophot/newtest/ZTF22absygcs_REDUCED/r1639504redCCD4/PSF_model_r1639504redCCD4_APT.fits\n",
      "\n",
      "+-------------------+\n",
      "|Measuring PSF model|\n",
      "+-------------------+\n",
      "\n",
      "\n",
      "+-----------------------+\n",
      "|Finding Zeropoint value|\n",
      "+-----------------------+\n",
      "\n",
      "Checking for suitable catalog sources\n",
      "Removed 88 sources lower than SNR of 25.0\n"
     ]
    },
    {
     "name": "stderr",
     "output_type": "stream",
     "text": [
      "/opt/anaconda3/envs/autophot/lib/python3.7/site-packages/matplotlib/backends/backend_pdf.py:1649: DeprecationWarning: NONE is deprecated and will be removed in Pillow 10 (2023-07-01). Use Resampling.NEAREST or Dither.NONE instead.\n",
      "  img = img.convert(mode='P', dither=Image.NONE,\n",
      "/opt/anaconda3/envs/autophot/lib/python3.7/site-packages/matplotlib/backends/backend_pdf.py:1650: DeprecationWarning: ADAPTIVE is deprecated and will be removed in Pillow 10 (2023-07-01). Use Palette.ADAPTIVE instead.\n",
      "  palette=Image.ADAPTIVE, colors=num_colors)\n",
      "Approx. catalog limiting magnitude: 19.573 [ mag ]\n",
      "Target photometry on original image\n"
     ]
    },
    {
     "name": "stdout",
     "output_type": "stream",
     "text": [
      "\n",
      "+-----------------------------------+\n",
      "|Doing Aperture Photometry on Target|\n",
      "+-----------------------------------+\n",
      "\n"
     ]
    },
    {
     "name": "stderr",
     "output_type": "stream",
     "text": [
      "/opt/anaconda3/envs/autophot/lib/python3.7/site-packages/matplotlib/backends/backend_pdf.py:1649: DeprecationWarning: NONE is deprecated and will be removed in Pillow 10 (2023-07-01). Use Resampling.NEAREST or Dither.NONE instead.\n",
      "  img = img.convert(mode='P', dither=Image.NONE,\n",
      "/opt/anaconda3/envs/autophot/lib/python3.7/site-packages/matplotlib/backends/backend_pdf.py:1650: DeprecationWarning: ADAPTIVE is deprecated and will be removed in Pillow 10 (2023-07-01). Use Palette.ADAPTIVE instead.\n",
      "  palette=Image.ADAPTIVE, colors=num_colors)\n",
      "Approximate Target SNR: 159.0\n",
      "SNR = 159 - skipping limiting magnitude\n",
      "Pixel Offset: 0.000\n",
      "Limiting Magnitude: skipped\n",
      "Target Detection probability: 100 %\n",
      "Target flux: 3911.483 +/- 0.000 [counts/s]\n",
      "Noise: 1173.119 [counts/s]\n",
      "Target SNR: 158.951 +/- 0.007\n",
      "Instrumental Magnitude: -8.981 +/- 0.000\n",
      "Zeropoint: 26.303 +/- 0.039\n",
      "Target Magnitude: 17.293 +/- 0.042 \n",
      "\n",
      "*** Transient well detected ***\n",
      "\n",
      "Time Taken [ 8408 ]: 26s\n",
      "Sucess: r1639504redCCD4_APT.fits :: PID 8408 \n",
      "\n",
      "File: r1639506redCCD4_APT.fits - PID: 8408\n",
      "Start Time: 2023-01-03 14:29:58.522424\n",
      "Filter keyoward used: WFFBAND\n",
      "Telescope: INT\n",
      "Filter: i\n",
      "MJD: 59896.934\n",
      "Date of Observation : 2022-11-13\n",
      "Read Noise: 5.8 [e^- /pixel]\n",
      "GAIN: 2.9 [e^- /count]\n",
      "Exposure time: 399 [s] \n",
      "Detecting/removing cosmic ray sources\n"
     ]
    },
    {
     "name": "stdout",
     "output_type": "stream",
     "text": [
      "\n",
      "+-----------+\n",
      "|File: 3 / 3|\n",
      "+-----------+\n",
      "\n",
      "Starting Astroscrappy ... "
     ]
    },
    {
     "name": "stderr",
     "output_type": "stream",
     "text": [
      "Contaminated pixels with Cosmic rays removed: 36325\n",
      "Cosmic rays removed - image updated\n",
      "WARNING: FITSFixedWarning: RADECSYS= 'FK5 ' / mean place new (after the 1976 IAU) system \n",
      "the RADECSYS keyword is deprecated, use RADESYSa. [astropy.wcs.wcs]\n",
      "FITSFixedWarning: RADECSYS= 'FK5 ' / mean place new (after the 1976 IAU) system \n",
      "the RADECSYS keyword is deprecated, use RADESYSa.\n",
      "WARNING: FITSFixedWarning: PROJP1 = 1.00000000 / Projection coefficient for primary WCS \n",
      "the PROJPn keyword is deprecated, use PVi_ma. [astropy.wcs.wcs]\n",
      "FITSFixedWarning: PROJP1 = 1.00000000 / Projection coefficient for primary WCS \n",
      "the PROJPn keyword is deprecated, use PVi_ma.\n",
      "WARNING: FITSFixedWarning: PROJP3 = 0.00000000 / Projection coefficient for primary WCS \n",
      "the PROJPn keyword is deprecated, use PVi_ma. [astropy.wcs.wcs]\n",
      "FITSFixedWarning: PROJP3 = 0.00000000 / Projection coefficient for primary WCS \n",
      "the PROJPn keyword is deprecated, use PVi_ma.\n",
      "WARNING: FITSFixedWarning: 'datfix' made the change 'Invalid parameter values: MJD-OBS and DATE-OBS are inconsistent.\n",
      "Changed DATE-OBS from '2022-11-13        ' to '2022-11-13T00:00:00.0''. [astropy.wcs.wcs]\n",
      "FITSFixedWarning: 'datfix' made the change 'Invalid parameter values: MJD-OBS and DATE-OBS are inconsistent.\n",
      "Changed DATE-OBS from '2022-11-13        ' to '2022-11-13T00:00:00.0''.\n",
      "\n",
      "Performing Astrometry.net\n",
      "Removing any pre-existing WCS keys \n",
      "No WCS values found - attempting to solve field\n",
      "ASTROMETRY started...\n",
      "ASTROMETRY finished: 3s\n",
      "Updating WCS keys with new values\n",
      "WCS saved to new file\n",
      "\n",
      "Searching for FWHM\n",
      "Using Gaussian Profile for fitting\n"
     ]
    },
    {
     "name": "stdout",
     "output_type": "stream",
     "text": [
      "\n",
      "+-------------------------------+\n",
      "|Finding Full Width Half Maximum|\n",
      "+-------------------------------+\n",
      "\n"
     ]
    },
    {
     "name": "stderr",
     "output_type": "stream",
     "text": [
      "\n",
      "Number of sources before cleaning [ 25.0 sigma ]: 25 \n",
      "Updating search FWHM value\n"
     ]
    },
    {
     "name": "stdout",
     "output_type": "stream",
     "text": [
      "Updated guess for FWHM: 7.8 pixels \n"
     ]
    },
    {
     "name": "stderr",
     "output_type": "stream",
     "text": [
      "\n",
      "Number of sources before cleaning [ 25.0 sigma ]: 68 \n",
      "Removed 2 sources near boundary\n",
      "Removed 10 crowded sources\n"
     ]
    },
    {
     "name": "stdout",
     "output_type": "stream",
     "text": [
      "Fitting source for FWHM: 56/56 "
     ]
    },
    {
     "name": "stderr",
     "output_type": "stream",
     "text": [
      "Removed 27 saturated sources\n",
      "WARNING: Input data contains invalid values (NaNs or infs), which were automatically clipped. [astropy.stats.sigma_clipping]\n",
      "Input data contains invalid values (NaNs or infs), which were automatically clipped.\n",
      "Removed 29 FWHM outliers\n",
      "WARNING: Input data contains invalid values (NaNs or infs), which were automatically clipped. [astropy.stats.sigma_clipping]\n",
      "Input data contains invalid values (NaNs or infs), which were automatically clipped.\n",
      "Removed 27 median outliers\n",
      "Useable sources found [ 25 sigma ]: 56\n",
      "Removes 0 sources within minimum seperation [ 33 pixel ]\n",
      "\n",
      "FWHM: 6.630 +/- 0.084 [ pixels ]\n",
      "\n",
      "Seeing: 2.206 [ arcsec ]\n",
      "Aperture size: 11.3 pixels\n",
      "Aperture correction: -0.034 +/- 0.015 [ mag ]\n"
     ]
    },
    {
     "name": "stdout",
     "output_type": "stream",
     "text": [
      "\n",
      "+-----------------------------------------------+\n",
      "|Searching for catalog for target_ra_350_dec_-11|\n",
      "+-----------------------------------------------+\n",
      "\n"
     ]
    },
    {
     "name": "stderr",
     "output_type": "stream",
     "text": [
      "WARNING: FITSFixedWarning: 'datfix' made the change 'Invalid parameter values: MJD-OBS and DATE-OBS are inconsistent.\n",
      "Changed DATE-OBS from '2022-11-13        ' to '2022-11-13T00:00:00.0''. [astropy.wcs.wcs]\n",
      "FITSFixedWarning: 'datfix' made the change 'Invalid parameter values: MJD-OBS and DATE-OBS are inconsistent.\n",
      "Changed DATE-OBS from '2022-11-13        ' to '2022-11-13T00:00:00.0''.\n",
      "Catalog found for target_ra_350_dec_-11\n",
      "Catalog: PAN_STARRS \n",
      "File: target_ra_350_dec_-11_r_0.25\n",
      "Catalog length: 5879\n",
      "Removed 3402 sources fainter than cutoff [20 mag]\n",
      "Using Gaussian Profile for fitting\n",
      "Catalog Length: 302\n"
     ]
    },
    {
     "name": "stdout",
     "output_type": "stream",
     "text": [
      "\n",
      "+---------------------------------+\n",
      "|Matching catalog sources to image|\n",
      "+---------------------------------+\n",
      "\n",
      "Removed 3 sources too close to target\n",
      "Removed 626 sources too close to boundary or off image\n",
      "Matching catalog to image: 297 / 302 :: Useful sources 203 / 302 "
     ]
    },
    {
     "name": "stderr",
     "output_type": "stream",
     "text": [
      "\n",
      "Median offset: 4.3 [ pixels ] / 1.4 [ arcsec ]\n"
     ]
    },
    {
     "name": "stdout",
     "output_type": "stream",
     "text": [
      "\r",
      "Matching catalog to image: 298 / 302 :: Useful sources 204 / 302 \r",
      "Matching catalog to image: 299 / 302 :: Useful sources 204 / 302 \r",
      "Matching catalog to image: 300 / 302 :: Useful sources 205 / 302 \r",
      "Matching catalog to image: 301 / 302 :: Useful sources 206 / 302 \r",
      "Matching catalog to image: 302 / 302 :: Useful sources 207 / 302   .. done\n",
      "\n",
      "Broken cutouts: 1\n",
      "Not in correct location: 0\n",
      "Not detected: 56\n",
      "Saturated: 38\n",
      "Error: 0\n",
      "\n",
      "\n",
      "+-------------------------------------------+\n",
      "|Building PSF model using stars in the field|\n",
      "+-------------------------------------------+\n",
      "\n"
     ]
    },
    {
     "name": "stderr",
     "output_type": "stream",
     "text": [
      "Residual table updated: 1 / 10 \n",
      "\tSNR: 861 :: FWHM fitted 6.661\n",
      "Residual table updated: 2 / 10 \n",
      "\tSNR: 818 :: FWHM fitted 6.592\n",
      "Residual table updated: 3 / 10 \n",
      "\tSNR: 741 :: FWHM fitted 6.557\n",
      "Residual table updated: 4 / 10 \n",
      "\tSNR: 738 :: FWHM fitted 6.602\n",
      "Residual table updated: 5 / 10 \n",
      "\tSNR: 713 :: FWHM fitted 6.602\n",
      "Residual table updated: 6 / 10 \n",
      "\tSNR: 705 :: FWHM fitted 6.596\n",
      "Residual table updated: 7 / 10 \n",
      "\tSNR: 622 :: FWHM fitted 6.670\n",
      "Residual table updated: 8 / 10 \n",
      "\tSNR: 596 :: FWHM fitted 6.625\n",
      "Residual table updated: 9 / 10 \n",
      "\tSNR: 579 :: FWHM fitted 6.562\n",
      "Residual table updated: 10 / 10 \n",
      "\tSNR: 594 :: FWHM fitted 6.585\n",
      "\n",
      "PSF built using 10 sources\n",
      "\n",
      "Unity PSF: 53.2 [counts] \n",
      "Unity Residual table: 3.7 [counts] \n",
      "Using Aperture Photometry on sequence Stars \n",
      "No PSF sources fitted\n",
      "WARNING: Input data contains invalid values (NaNs or infs), which were automatically clipped. [astropy.stats.sigma_clipping]\n",
      "Input data contains invalid values (NaNs or infs), which were automatically clipped.\n",
      "\n",
      "Mean i-band zeropoint: 25.808 +/- 0.049 \n",
      "\n"
     ]
    },
    {
     "name": "stdout",
     "output_type": "stream",
     "text": [
      "PSF model saved as: /Users/terwelj/Documents/VirtualMachine/Observing_ING/autophot/newtest/ZTF22absygcs_REDUCED/r1639506redCCD4/PSF_model_r1639506redCCD4_APT.fits\n",
      "\n",
      "+-------------------+\n",
      "|Measuring PSF model|\n",
      "+-------------------+\n",
      "\n",
      "\n",
      "+-----------------------+\n",
      "|Finding Zeropoint value|\n",
      "+-----------------------+\n",
      "\n",
      "Checking for suitable catalog sources\n",
      "Removed 189 sources lower than SNR of 25.0\n"
     ]
    },
    {
     "name": "stderr",
     "output_type": "stream",
     "text": [
      "/opt/anaconda3/envs/autophot/lib/python3.7/site-packages/matplotlib/backends/backend_pdf.py:1649: DeprecationWarning: NONE is deprecated and will be removed in Pillow 10 (2023-07-01). Use Resampling.NEAREST or Dither.NONE instead.\n",
      "  img = img.convert(mode='P', dither=Image.NONE,\n",
      "/opt/anaconda3/envs/autophot/lib/python3.7/site-packages/matplotlib/backends/backend_pdf.py:1650: DeprecationWarning: ADAPTIVE is deprecated and will be removed in Pillow 10 (2023-07-01). Use Palette.ADAPTIVE instead.\n",
      "  palette=Image.ADAPTIVE, colors=num_colors)\n",
      "Target photometry on original image\n",
      "/opt/anaconda3/envs/autophot/lib/python3.7/site-packages/matplotlib/backends/backend_pdf.py:1649: DeprecationWarning: NONE is deprecated and will be removed in Pillow 10 (2023-07-01). Use Resampling.NEAREST or Dither.NONE instead.\n",
      "  img = img.convert(mode='P', dither=Image.NONE,\n",
      "/opt/anaconda3/envs/autophot/lib/python3.7/site-packages/matplotlib/backends/backend_pdf.py:1650: DeprecationWarning: ADAPTIVE is deprecated and will be removed in Pillow 10 (2023-07-01). Use Palette.ADAPTIVE instead.\n",
      "  palette=Image.ADAPTIVE, colors=num_colors)\n",
      "Approximate Target SNR: 626.1\n",
      "SNR = 626 - skipping limiting magnitude\n"
     ]
    },
    {
     "name": "stdout",
     "output_type": "stream",
     "text": [
      "\n",
      "+-----------------------------------+\n",
      "|Doing Aperture Photometry on Target|\n",
      "+-----------------------------------+\n",
      "\n"
     ]
    },
    {
     "name": "stderr",
     "output_type": "stream",
     "text": [
      "Pixel Offset: 0.000\n",
      "Limiting Magnitude: skipped\n",
      "Target Detection probability: 100 %\n",
      "Target flux: 4525.146 +/- 0.000 [counts/s]\n",
      "Noise: 454.582 [counts/s]\n",
      "Target SNR: 626.063 +/- 0.002\n",
      "Instrumental Magnitude: -9.139 +/- 0.000\n",
      "Zeropoint: 25.808 +/- 0.049\n",
      "Target Magnitude: 16.635 +/- 0.051 \n",
      "\n",
      "*** Transient well detected ***\n",
      "\n",
      "Time Taken [ 8408 ]: 48s\n",
      "Sucess: r1639506redCCD4_APT.fits :: PID 8408 \n",
      "\n",
      "\n",
      "User instrument database: /Users/terwelj/Documents/VirtualMachine/Observing_ING/autophot/newtest/telescope.yml\n",
      "\n",
      "Number of files: 7\n",
      "\n",
      "1 telescope(s) detected - checking header keywords\n",
      "\n"
     ]
    },
    {
     "name": "stdout",
     "output_type": "stream",
     "text": [
      "\n",
      "---\n",
      "\n",
      "Files that failed : []\n",
      "\n",
      "DONE\n",
      "\n",
      "Done - Time Taken: 143.1\n",
      "Photometry successfully extracted from all images\n",
      "\n",
      "\n",
      "Running AutoPHOT on ZTF22aadgsdi, ra = 278.3556298, dec = 44.086587\n",
      "\n",
      "\n",
      "Default input loaded in from: \n",
      "/opt/anaconda3/envs/autophot/lib/python3.7/site-packages/autophot/databases/default_input.yml\n",
      "\n",
      "        _       _       ___ _  _    _____\n",
      "       /_\\ _  _| |_ ___| _ \\ || |__|_   _|\n",
      "      / _ \\ || |  _/ _ \\  _/ __ / _ \\| |\n",
      "     /_/ \\_\\_,_|\\__\\___/_| |_||_\\___/|_|\n",
      "    \n",
      "     ---------------------------------------\n",
      "        Automated Photometry of Transients\n",
      "        S. J. Brennan et al. 2021 \n",
      "        Please provide feedback/bugs to:\n",
      "        Email: sean.brennan2@ucdconnect.ie\n",
      "    ---------------------------------------\n",
      "Directory of fits file: /Users/terwelj/Documents/VirtualMachine/Observing_ING/autophot/newtest/ZTF22aadgsdi\n",
      "Found Telescopes:\n",
      "\n",
      " - INT\n",
      "\n",
      "-> Telescope check complete\n",
      "\n",
      "Checking Filter keywords and database\n",
      "\n",
      "-> Filter check complete\n",
      "\n",
      "Checking Filter information for each image\n"
     ]
    },
    {
     "name": "stderr",
     "output_type": "stream",
     "text": [
      "File: r1639491redCCD4_APT.fits - PID: 8408\n",
      "Start Time: 2023-01-03 14:30:47.144351\n",
      "Filter keyoward used: WFFBAND\n",
      "Telescope: INT\n",
      "Filter: g\n",
      "MJD: 59896.847\n",
      "Date of Observation : 2022-11-13\n",
      "Read Noise: 5.8 [e^- /pixel]\n",
      "GAIN: 2.9 [e^- /count]\n",
      "Exposure time: 200 [s] \n",
      "Detecting/removing cosmic ray sources\n"
     ]
    },
    {
     "name": "stdout",
     "output_type": "stream",
     "text": [
      "\n",
      "Files removed - Wrong Image Type: 0\n",
      "\n",
      "Files removed - No/Wrong filter(s): 4\n",
      "Filters not included: [U, B]\n",
      "\n",
      "\n",
      "Files removed: 4\n",
      "\n",
      "+-----------+\n",
      "|File: 1 / 3|\n",
      "+-----------+\n",
      "\n",
      "Starting Astroscrappy ... "
     ]
    },
    {
     "name": "stderr",
     "output_type": "stream",
     "text": [
      "Contaminated pixels with Cosmic rays removed: 25368\n",
      "Cosmic rays removed - image updated\n",
      "WARNING: FITSFixedWarning: RADECSYS= 'FK5 ' / mean place new (after the 1976 IAU) system \n",
      "the RADECSYS keyword is deprecated, use RADESYSa. [astropy.wcs.wcs]\n",
      "FITSFixedWarning: RADECSYS= 'FK5 ' / mean place new (after the 1976 IAU) system \n",
      "the RADECSYS keyword is deprecated, use RADESYSa.\n",
      "WARNING: FITSFixedWarning: PROJP1 = 1.00000000 / Projection coefficient for primary WCS \n",
      "the PROJPn keyword is deprecated, use PVi_ma. [astropy.wcs.wcs]\n",
      "FITSFixedWarning: PROJP1 = 1.00000000 / Projection coefficient for primary WCS \n",
      "the PROJPn keyword is deprecated, use PVi_ma.\n",
      "WARNING: FITSFixedWarning: PROJP3 = 0.00000000 / Projection coefficient for primary WCS \n",
      "the PROJPn keyword is deprecated, use PVi_ma. [astropy.wcs.wcs]\n",
      "FITSFixedWarning: PROJP3 = 0.00000000 / Projection coefficient for primary WCS \n",
      "the PROJPn keyword is deprecated, use PVi_ma.\n",
      "WARNING: FITSFixedWarning: 'datfix' made the change 'Invalid parameter values: MJD-OBS and DATE-OBS are inconsistent.\n",
      "Changed DATE-OBS from '2022-11-13        ' to '2022-11-13T00:00:00.0''. [astropy.wcs.wcs]\n",
      "FITSFixedWarning: 'datfix' made the change 'Invalid parameter values: MJD-OBS and DATE-OBS are inconsistent.\n",
      "Changed DATE-OBS from '2022-11-13        ' to '2022-11-13T00:00:00.0''.\n",
      "\n",
      "Performing Astrometry.net\n",
      "Removing any pre-existing WCS keys \n",
      "No WCS values found - attempting to solve field\n",
      "ASTROMETRY started...\n",
      "ASTROMETRY finished: 3s\n",
      "Updating WCS keys with new values\n",
      "WCS saved to new file\n",
      "\n",
      "Searching for FWHM\n",
      "Using Gaussian Profile for fitting\n"
     ]
    },
    {
     "name": "stdout",
     "output_type": "stream",
     "text": [
      "\n",
      "+-------------------------------+\n",
      "|Finding Full Width Half Maximum|\n",
      "+-------------------------------+\n",
      "\n"
     ]
    },
    {
     "name": "stderr",
     "output_type": "stream",
     "text": [
      "\n",
      "Number of sources before cleaning [ 25.0 sigma ]: 25 \n",
      "Updating search FWHM value\n"
     ]
    },
    {
     "name": "stdout",
     "output_type": "stream",
     "text": [
      "Updated guess for FWHM: 10.6 pixels \n"
     ]
    },
    {
     "name": "stderr",
     "output_type": "stream",
     "text": [
      "\n",
      "Number of sources before cleaning [ 25.0 sigma ]: 484 \n",
      "Too many sources - increasing threshold\n",
      "\n",
      "Number of sources before cleaning [ 50.0 sigma ]: 362 \n",
      "Too many sources - increasing threshold\n",
      "\n",
      "Number of sources before cleaning [ 100.0 sigma ]: 261 \n",
      "Removed 9 sources near boundary\n",
      "Removed 12 crowded sources\n"
     ]
    },
    {
     "name": "stdout",
     "output_type": "stream",
     "text": [
      "Fitting source for FWHM: 240/240  "
     ]
    },
    {
     "name": "stderr",
     "output_type": "stream",
     "text": [
      "Removed 52 saturated sources\n",
      "WARNING: Input data contains invalid values (NaNs or infs), which were automatically clipped. [astropy.stats.sigma_clipping]\n",
      "Input data contains invalid values (NaNs or infs), which were automatically clipped.\n",
      "Removed 62 FWHM outliers\n",
      "WARNING: Input data contains invalid values (NaNs or infs), which were automatically clipped. [astropy.stats.sigma_clipping]\n",
      "Input data contains invalid values (NaNs or infs), which were automatically clipped.\n",
      "Removed 66 median outliers\n",
      "Useable sources found [ 100 sigma ]: 240\n",
      "Removes 34 sources within minimum seperation [ 41 pixel ]\n",
      "\n",
      "FWHM: 8.336 +/- 0.147 [ pixels ]\n",
      "\n",
      "Seeing: 2.764 [ arcsec ]\n",
      "Aperture size: 14.2 pixels\n",
      "Aperture correction: -0.023 +/- 0.007 [ mag ]\n",
      "WARNING: FITSFixedWarning: 'datfix' made the change 'Invalid parameter values: MJD-OBS and DATE-OBS are inconsistent.\n",
      "Changed DATE-OBS from '2022-11-13        ' to '2022-11-13T00:00:00.0''. [astropy.wcs.wcs]\n",
      "FITSFixedWarning: 'datfix' made the change 'Invalid parameter values: MJD-OBS and DATE-OBS are inconsistent.\n",
      "Changed DATE-OBS from '2022-11-13        ' to '2022-11-13T00:00:00.0''.\n",
      "Searching for new catalog [sdss] for target_ra_278_dec_44 \n",
      "Catalog retireval failed!\n",
      "ERROR: list index out of range\n",
      " Returning None\n",
      "'NoneType' object is not subscriptable\n",
      "Traceback (most recent call last):\n",
      "  File \"/opt/anaconda3/envs/autophot/lib/python3.7/site-packages/autophot/packages/main.py\", line 1136, in main\n",
      "    plot_catalog_nondetections =  autophot_input['catalog']['plot_catalog_nondetections'])\n",
      "  File \"/opt/anaconda3/envs/autophot/lib/python3.7/site-packages/autophot/packages/call_catalog.py\", line 479, in match\n",
      "    chosen_catalog = chosen_catalog[~np.isnan(chosen_catalog[catalog_keywords[image_filter]])]\n",
      "TypeError: 'NoneType' object is not subscriptable\n",
      "Failure: r1639491redCCD4_APT.fits - PID: 8408\n"
     ]
    },
    {
     "name": "stdout",
     "output_type": "stream",
     "text": [
      "\n",
      "+----------------------------------------------+\n",
      "|Searching for catalog for target_ra_278_dec_44|\n",
      "+----------------------------------------------+\n",
      "\n",
      "\n",
      "+---------------------------------+\n",
      "|Matching catalog sources to image|\n",
      "+---------------------------------+\n",
      "\n",
      "\n",
      "+-----------+\n",
      "|File: 2 / 3|\n",
      "+-----------+\n",
      "\n"
     ]
    },
    {
     "name": "stderr",
     "output_type": "stream",
     "text": [
      "File: r1639494redCCD4_APT.fits - PID: 8408\n",
      "Start Time: 2023-01-03 14:31:15.611306\n",
      "Filter keyoward used: WFFBAND\n",
      "Telescope: INT\n",
      "Filter: r\n",
      "MJD: 59896.857\n",
      "Date of Observation : 2022-11-13\n",
      "Read Noise: 5.8 [e^- /pixel]\n",
      "GAIN: 2.9 [e^- /count]\n",
      "Exposure time: 200 [s] \n",
      "Detecting/removing cosmic ray sources\n"
     ]
    },
    {
     "name": "stdout",
     "output_type": "stream",
     "text": [
      "Starting Astroscrappy ... "
     ]
    },
    {
     "name": "stderr",
     "output_type": "stream",
     "text": [
      "Contaminated pixels with Cosmic rays removed: 30559\n",
      "Cosmic rays removed - image updated\n",
      "WARNING: FITSFixedWarning: RADECSYS= 'FK5 ' / mean place new (after the 1976 IAU) system \n",
      "the RADECSYS keyword is deprecated, use RADESYSa. [astropy.wcs.wcs]\n",
      "FITSFixedWarning: RADECSYS= 'FK5 ' / mean place new (after the 1976 IAU) system \n",
      "the RADECSYS keyword is deprecated, use RADESYSa.\n",
      "WARNING: FITSFixedWarning: PROJP1 = 1.00000000 / Projection coefficient for primary WCS \n",
      "the PROJPn keyword is deprecated, use PVi_ma. [astropy.wcs.wcs]\n",
      "FITSFixedWarning: PROJP1 = 1.00000000 / Projection coefficient for primary WCS \n",
      "the PROJPn keyword is deprecated, use PVi_ma.\n",
      "WARNING: FITSFixedWarning: PROJP3 = 0.00000000 / Projection coefficient for primary WCS \n",
      "the PROJPn keyword is deprecated, use PVi_ma. [astropy.wcs.wcs]\n",
      "FITSFixedWarning: PROJP3 = 0.00000000 / Projection coefficient for primary WCS \n",
      "the PROJPn keyword is deprecated, use PVi_ma.\n",
      "WARNING: FITSFixedWarning: 'datfix' made the change 'Invalid parameter values: MJD-OBS and DATE-OBS are inconsistent.\n",
      "Changed DATE-OBS from '2022-11-13        ' to '2022-11-13T00:00:00.0''. [astropy.wcs.wcs]\n",
      "FITSFixedWarning: 'datfix' made the change 'Invalid parameter values: MJD-OBS and DATE-OBS are inconsistent.\n",
      "Changed DATE-OBS from '2022-11-13        ' to '2022-11-13T00:00:00.0''.\n",
      "\n",
      "Performing Astrometry.net\n",
      "Removing any pre-existing WCS keys \n",
      "No WCS values found - attempting to solve field\n",
      "ASTROMETRY started...\n",
      "ASTROMETRY finished: 3s\n",
      "Updating WCS keys with new values\n",
      "WCS saved to new file\n",
      "\n",
      "Searching for FWHM\n",
      "Using Gaussian Profile for fitting\n"
     ]
    },
    {
     "name": "stdout",
     "output_type": "stream",
     "text": [
      "\n",
      "+-------------------------------+\n",
      "|Finding Full Width Half Maximum|\n",
      "+-------------------------------+\n",
      "\n"
     ]
    },
    {
     "name": "stderr",
     "output_type": "stream",
     "text": [
      "\n",
      "Number of sources before cleaning [ 25.0 sigma ]: 25 \n",
      "Updating search FWHM value\n"
     ]
    },
    {
     "name": "stdout",
     "output_type": "stream",
     "text": [
      "Updated guess for FWHM: 7.6 pixels \n"
     ]
    },
    {
     "name": "stderr",
     "output_type": "stream",
     "text": [
      "\n",
      "Number of sources before cleaning [ 25.0 sigma ]: 441 \n",
      "Too many sources - increasing threshold\n",
      "\n",
      "Number of sources before cleaning [ 50.0 sigma ]: 316 \n",
      "Too many sources - increasing threshold\n",
      "\n",
      "Number of sources before cleaning [ 100.0 sigma ]: 213 \n",
      "Removed 6 sources near boundary\n",
      "Removed 40 crowded sources\n"
     ]
    },
    {
     "name": "stdout",
     "output_type": "stream",
     "text": [
      "Fitting source for FWHM: 167/167       "
     ]
    },
    {
     "name": "stderr",
     "output_type": "stream",
     "text": [
      "Removed 71 saturated sources\n",
      "WARNING: Input data contains invalid values (NaNs or infs), which were automatically clipped. [astropy.stats.sigma_clipping]\n",
      "Input data contains invalid values (NaNs or infs), which were automatically clipped.\n",
      "Removed 73 FWHM outliers\n",
      "WARNING: Input data contains invalid values (NaNs or infs), which were automatically clipped. [astropy.stats.sigma_clipping]\n",
      "Input data contains invalid values (NaNs or infs), which were automatically clipped.\n",
      "Removed 79 median outliers\n",
      "Useable sources found [ 100 sigma ]: 167\n",
      "Removes 12 sources within minimum seperation [ 33 pixel ]\n",
      "\n",
      "FWHM: 6.699 +/- 0.145 [ pixels ]\n",
      "\n",
      "Seeing: 2.222 [ arcsec ]\n",
      "Aperture size: 11.4 pixels\n",
      "Aperture correction: -0.029 +/- 0.004 [ mag ]\n",
      "WARNING: FITSFixedWarning: 'datfix' made the change 'Invalid parameter values: MJD-OBS and DATE-OBS are inconsistent.\n",
      "Changed DATE-OBS from '2022-11-13        ' to '2022-11-13T00:00:00.0''. [astropy.wcs.wcs]\n",
      "FITSFixedWarning: 'datfix' made the change 'Invalid parameter values: MJD-OBS and DATE-OBS are inconsistent.\n",
      "Changed DATE-OBS from '2022-11-13        ' to '2022-11-13T00:00:00.0''.\n",
      "Searching for new catalog [sdss] for target_ra_278_dec_44 \n",
      "Catalog retireval failed!\n",
      "ERROR: list index out of range\n",
      " Returning None\n",
      "'NoneType' object is not subscriptable\n",
      "Traceback (most recent call last):\n",
      "  File \"/opt/anaconda3/envs/autophot/lib/python3.7/site-packages/autophot/packages/main.py\", line 1136, in main\n",
      "    plot_catalog_nondetections =  autophot_input['catalog']['plot_catalog_nondetections'])\n",
      "  File \"/opt/anaconda3/envs/autophot/lib/python3.7/site-packages/autophot/packages/call_catalog.py\", line 479, in match\n",
      "    chosen_catalog = chosen_catalog[~np.isnan(chosen_catalog[catalog_keywords[image_filter]])]\n",
      "TypeError: 'NoneType' object is not subscriptable\n",
      "Failure: r1639494redCCD4_APT.fits - PID: 8408\n"
     ]
    },
    {
     "name": "stdout",
     "output_type": "stream",
     "text": [
      "\n",
      "+----------------------------------------------+\n",
      "|Searching for catalog for target_ra_278_dec_44|\n",
      "+----------------------------------------------+\n",
      "\n",
      "\n",
      "+---------------------------------+\n",
      "|Matching catalog sources to image|\n",
      "+---------------------------------+\n",
      "\n",
      "\n",
      "+-----------+\n",
      "|File: 3 / 3|\n",
      "+-----------+\n",
      "\n"
     ]
    },
    {
     "name": "stderr",
     "output_type": "stream",
     "text": [
      "File: r1639495redCCD4_APT.fits - PID: 8408\n",
      "Start Time: 2023-01-03 14:31:38.100088\n",
      "Filter keyoward used: WFFBAND\n",
      "Telescope: INT\n",
      "Filter: i\n",
      "MJD: 59896.861\n",
      "Date of Observation : 2022-11-13\n",
      "Read Noise: 5.8 [e^- /pixel]\n",
      "GAIN: 2.9 [e^- /count]\n",
      "Exposure time: 200 [s] \n",
      "Detecting/removing cosmic ray sources\n"
     ]
    },
    {
     "name": "stdout",
     "output_type": "stream",
     "text": [
      "Starting Astroscrappy ... "
     ]
    },
    {
     "name": "stderr",
     "output_type": "stream",
     "text": [
      "Contaminated pixels with Cosmic rays removed: 31736\n",
      "Cosmic rays removed - image updated\n",
      "WARNING: FITSFixedWarning: RADECSYS= 'FK5 ' / mean place new (after the 1976 IAU) system \n",
      "the RADECSYS keyword is deprecated, use RADESYSa. [astropy.wcs.wcs]\n",
      "FITSFixedWarning: RADECSYS= 'FK5 ' / mean place new (after the 1976 IAU) system \n",
      "the RADECSYS keyword is deprecated, use RADESYSa.\n",
      "WARNING: FITSFixedWarning: PROJP1 = 1.00000000 / Projection coefficient for primary WCS \n",
      "the PROJPn keyword is deprecated, use PVi_ma. [astropy.wcs.wcs]\n",
      "FITSFixedWarning: PROJP1 = 1.00000000 / Projection coefficient for primary WCS \n",
      "the PROJPn keyword is deprecated, use PVi_ma.\n",
      "WARNING: FITSFixedWarning: PROJP3 = 0.00000000 / Projection coefficient for primary WCS \n",
      "the PROJPn keyword is deprecated, use PVi_ma. [astropy.wcs.wcs]\n",
      "FITSFixedWarning: PROJP3 = 0.00000000 / Projection coefficient for primary WCS \n",
      "the PROJPn keyword is deprecated, use PVi_ma.\n",
      "WARNING: FITSFixedWarning: 'datfix' made the change 'Invalid parameter values: MJD-OBS and DATE-OBS are inconsistent.\n",
      "Changed DATE-OBS from '2022-11-13        ' to '2022-11-13T00:00:00.0''. [astropy.wcs.wcs]\n",
      "FITSFixedWarning: 'datfix' made the change 'Invalid parameter values: MJD-OBS and DATE-OBS are inconsistent.\n",
      "Changed DATE-OBS from '2022-11-13        ' to '2022-11-13T00:00:00.0''.\n",
      "\n",
      "Performing Astrometry.net\n",
      "Removing any pre-existing WCS keys \n",
      "No WCS values found - attempting to solve field\n",
      "ASTROMETRY started...\n",
      "ASTROMETRY finished: 3s\n",
      "Updating WCS keys with new values\n",
      "WCS saved to new file\n",
      "\n",
      "Searching for FWHM\n",
      "Using Gaussian Profile for fitting\n"
     ]
    },
    {
     "name": "stdout",
     "output_type": "stream",
     "text": [
      "\n",
      "+-------------------------------+\n",
      "|Finding Full Width Half Maximum|\n",
      "+-------------------------------+\n",
      "\n"
     ]
    },
    {
     "name": "stderr",
     "output_type": "stream",
     "text": [
      "\n",
      "Number of sources before cleaning [ 25.0 sigma ]: 25 \n",
      "Updating search FWHM value\n"
     ]
    },
    {
     "name": "stdout",
     "output_type": "stream",
     "text": [
      "Updated guess for FWHM: 6.7 pixels \n"
     ]
    },
    {
     "name": "stderr",
     "output_type": "stream",
     "text": [
      "\n",
      "Number of sources before cleaning [ 25.0 sigma ]: 412 \n",
      "Too many sources - increasing threshold\n",
      "\n",
      "Number of sources before cleaning [ 50.0 sigma ]: 283 \n",
      "Removed 9 sources near boundary\n",
      "Removed 50 crowded sources\n"
     ]
    },
    {
     "name": "stdout",
     "output_type": "stream",
     "text": [
      "Fitting source for FWHM: 224/224   "
     ]
    },
    {
     "name": "stderr",
     "output_type": "stream",
     "text": [
      "Removed 74 saturated sources\n",
      "WARNING: Input data contains invalid values (NaNs or infs), which were automatically clipped. [astropy.stats.sigma_clipping]\n",
      "Input data contains invalid values (NaNs or infs), which were automatically clipped.\n",
      "Removed 79 FWHM outliers\n",
      "WARNING: Input data contains invalid values (NaNs or infs), which were automatically clipped. [astropy.stats.sigma_clipping]\n",
      "Input data contains invalid values (NaNs or infs), which were automatically clipped.\n",
      "Removed 76 median outliers\n",
      "Useable sources found [ 50 sigma ]: 224\n",
      "Removes 28 sources within minimum seperation [ 32 pixel ]\n",
      "\n",
      "FWHM: 6.475 +/- 0.154 [ pixels ]\n",
      "\n",
      "Seeing: 2.147 [ arcsec ]\n",
      "Aperture size: 11.0 pixels\n",
      "Aperture correction: -0.046 +/- 0.016 [ mag ]\n",
      "WARNING: FITSFixedWarning: 'datfix' made the change 'Invalid parameter values: MJD-OBS and DATE-OBS are inconsistent.\n",
      "Changed DATE-OBS from '2022-11-13        ' to '2022-11-13T00:00:00.0''. [astropy.wcs.wcs]\n",
      "FITSFixedWarning: 'datfix' made the change 'Invalid parameter values: MJD-OBS and DATE-OBS are inconsistent.\n",
      "Changed DATE-OBS from '2022-11-13        ' to '2022-11-13T00:00:00.0''.\n",
      "Searching for new catalog [sdss] for target_ra_278_dec_44 \n",
      "Catalog retireval failed!\n",
      "ERROR: list index out of range\n",
      " Returning None\n",
      "'NoneType' object is not subscriptable\n",
      "Traceback (most recent call last):\n",
      "  File \"/opt/anaconda3/envs/autophot/lib/python3.7/site-packages/autophot/packages/main.py\", line 1136, in main\n",
      "    plot_catalog_nondetections =  autophot_input['catalog']['plot_catalog_nondetections'])\n",
      "  File \"/opt/anaconda3/envs/autophot/lib/python3.7/site-packages/autophot/packages/call_catalog.py\", line 479, in match\n",
      "    chosen_catalog = chosen_catalog[~np.isnan(chosen_catalog[catalog_keywords[image_filter]])]\n",
      "TypeError: 'NoneType' object is not subscriptable\n",
      "Failure: r1639495redCCD4_APT.fits - PID: 8408\n"
     ]
    },
    {
     "name": "stdout",
     "output_type": "stream",
     "text": [
      "\n",
      "+----------------------------------------------+\n",
      "|Searching for catalog for target_ra_278_dec_44|\n",
      "+----------------------------------------------+\n",
      "\n",
      "\n",
      "+---------------------------------+\n",
      "|Matching catalog sources to image|\n",
      "+---------------------------------+\n",
      "\n"
     ]
    },
    {
     "name": "stderr",
     "output_type": "stream",
     "text": [
      "\n",
      "User instrument database: /Users/terwelj/Documents/VirtualMachine/Observing_ING/autophot/newtest/telescope.yml\n",
      "\n",
      "Number of files: 7\n",
      "\n",
      "1 telescope(s) detected - checking header keywords\n",
      "\n"
     ]
    },
    {
     "name": "stdout",
     "output_type": "stream",
     "text": [
      "\n",
      "---\n",
      "\n",
      "Files that failed : ['/Users/terwelj/Documents/VirtualMachine/Observing_ING/autophot/newtest/ZTF22aadgsdi_REDUCED/r1639491redCCD4/r1639491redCCD4_APT.fits', '/Users/terwelj/Documents/VirtualMachine/Observing_ING/autophot/newtest/ZTF22aadgsdi_REDUCED/r1639494redCCD4/r1639494redCCD4_APT.fits', '/Users/terwelj/Documents/VirtualMachine/Observing_ING/autophot/newtest/ZTF22aadgsdi_REDUCED/r1639495redCCD4/r1639495redCCD4_APT.fits']\n",
      "\n",
      "DONE\n",
      "\n",
      "Done - Time Taken: 72.8\n",
      "\n",
      "        _       _       ___ _  _    _____\n",
      "       /_\\ _  _| |_ ___| _ \\ || |__|_   _|\n",
      "      / _ \\ || |  _/ _ \\  _/ __ / _ \\| |\n",
      "     /_/ \\_\\_,_|\\__\\___/_| |_||_\\___/|_|\n",
      "    \n",
      "     ---------------------------------------\n",
      "        Automated Photometry of Transients\n",
      "        S. J. Brennan et al. 2021 \n",
      "        Please provide feedback/bugs to:\n",
      "        Email: sean.brennan2@ucdconnect.ie\n",
      "    ---------------------------------------\n",
      "Directory of fits file: /Users/terwelj/Documents/VirtualMachine/Observing_ING/autophot/newtest/ZTF22aadgsdi\n",
      "Found Telescopes:\n",
      "\n",
      " - INT\n",
      "\n",
      "-> Telescope check complete\n",
      "\n",
      "Checking Filter keywords and database\n"
     ]
    },
    {
     "name": "stderr",
     "output_type": "stream",
     "text": [
      "File: r1639491redCCD4_APT.fits - PID: 8408\n",
      "Start Time: 2023-01-03 14:31:59.826940\n",
      "Filter keyoward used: WFFBAND\n",
      "Telescope: INT\n",
      "Filter: g\n",
      "MJD: 59896.847\n",
      "Date of Observation : 2022-11-13\n",
      "Read Noise: 5.8 [e^- /pixel]\n",
      "GAIN: 2.9 [e^- /count]\n",
      "Exposure time: 200 [s] \n"
     ]
    },
    {
     "name": "stdout",
     "output_type": "stream",
     "text": [
      "\n",
      "-> Filter check complete\n",
      "\n",
      "Checking Filter information for each image\n",
      "\n",
      "Files removed - Wrong Image Type: 0\n",
      "\n",
      "Files removed - No/Wrong filter(s): 4\n",
      "Filters not included: [U, B]\n",
      "\n",
      "\n",
      "Files removed: 4\n",
      "\n",
      "+-----------+\n",
      "|File: 1 / 3|\n",
      "+-----------+\n",
      "\n"
     ]
    },
    {
     "name": "stderr",
     "output_type": "stream",
     "text": [
      "Detecting/removing cosmic ray sources\n"
     ]
    },
    {
     "name": "stdout",
     "output_type": "stream",
     "text": [
      "Starting Astroscrappy ... "
     ]
    },
    {
     "name": "stderr",
     "output_type": "stream",
     "text": [
      "Contaminated pixels with Cosmic rays removed: 25368\n",
      "Cosmic rays removed - image updated\n",
      "WARNING: FITSFixedWarning: RADECSYS= 'FK5 ' / mean place new (after the 1976 IAU) system \n",
      "the RADECSYS keyword is deprecated, use RADESYSa. [astropy.wcs.wcs]\n",
      "FITSFixedWarning: RADECSYS= 'FK5 ' / mean place new (after the 1976 IAU) system \n",
      "the RADECSYS keyword is deprecated, use RADESYSa.\n",
      "WARNING: FITSFixedWarning: PROJP1 = 1.00000000 / Projection coefficient for primary WCS \n",
      "the PROJPn keyword is deprecated, use PVi_ma. [astropy.wcs.wcs]\n",
      "FITSFixedWarning: PROJP1 = 1.00000000 / Projection coefficient for primary WCS \n",
      "the PROJPn keyword is deprecated, use PVi_ma.\n",
      "WARNING: FITSFixedWarning: PROJP3 = 0.00000000 / Projection coefficient for primary WCS \n",
      "the PROJPn keyword is deprecated, use PVi_ma. [astropy.wcs.wcs]\n",
      "FITSFixedWarning: PROJP3 = 0.00000000 / Projection coefficient for primary WCS \n",
      "the PROJPn keyword is deprecated, use PVi_ma.\n",
      "WARNING: FITSFixedWarning: 'datfix' made the change 'Invalid parameter values: MJD-OBS and DATE-OBS are inconsistent.\n",
      "Changed DATE-OBS from '2022-11-13        ' to '2022-11-13T00:00:00.0''. [astropy.wcs.wcs]\n",
      "FITSFixedWarning: 'datfix' made the change 'Invalid parameter values: MJD-OBS and DATE-OBS are inconsistent.\n",
      "Changed DATE-OBS from '2022-11-13        ' to '2022-11-13T00:00:00.0''.\n",
      "\n",
      "Performing Astrometry.net\n",
      "Removing any pre-existing WCS keys \n",
      "No WCS values found - attempting to solve field\n",
      "ASTROMETRY started...\n",
      "ASTROMETRY finished: 3s\n",
      "Updating WCS keys with new values\n",
      "WCS saved to new file\n",
      "\n",
      "Searching for FWHM\n",
      "Using Gaussian Profile for fitting\n"
     ]
    },
    {
     "name": "stdout",
     "output_type": "stream",
     "text": [
      "\n",
      "+-------------------------------+\n",
      "|Finding Full Width Half Maximum|\n",
      "+-------------------------------+\n",
      "\n"
     ]
    },
    {
     "name": "stderr",
     "output_type": "stream",
     "text": [
      "\n",
      "Number of sources before cleaning [ 25.0 sigma ]: 25 \n",
      "Updating search FWHM value\n"
     ]
    },
    {
     "name": "stdout",
     "output_type": "stream",
     "text": [
      "Updated guess for FWHM: 8.5 pixels \n"
     ]
    },
    {
     "name": "stderr",
     "output_type": "stream",
     "text": [
      "\n",
      "Number of sources before cleaning [ 25.0 sigma ]: 440 \n",
      "Too many sources - increasing threshold\n",
      "\n",
      "Number of sources before cleaning [ 50.0 sigma ]: 309 \n",
      "Too many sources - increasing threshold\n",
      "\n",
      "Number of sources before cleaning [ 100.0 sigma ]: 221 \n",
      "Removed 6 sources near boundary\n",
      "Removed 26 crowded sources\n"
     ]
    },
    {
     "name": "stdout",
     "output_type": "stream",
     "text": [
      "Fitting source for FWHM: 189/189   "
     ]
    },
    {
     "name": "stderr",
     "output_type": "stream",
     "text": [
      "Removed 45 saturated sources\n",
      "WARNING: Input data contains invalid values (NaNs or infs), which were automatically clipped. [astropy.stats.sigma_clipping]\n",
      "Input data contains invalid values (NaNs or infs), which were automatically clipped.\n",
      "Removed 49 FWHM outliers\n",
      "WARNING: Input data contains invalid values (NaNs or infs), which were automatically clipped. [astropy.stats.sigma_clipping]\n",
      "Input data contains invalid values (NaNs or infs), which were automatically clipped.\n",
      "Removed 57 median outliers\n",
      "Useable sources found [ 100 sigma ]: 189\n",
      "Removes 20 sources within minimum seperation [ 41 pixel ]\n",
      "\n",
      "FWHM: 8.333 +/- 0.154 [ pixels ]\n",
      "\n",
      "Seeing: 2.763 [ arcsec ]\n",
      "Aperture size: 14.2 pixels\n",
      "Aperture correction: -0.023 +/- 0.006 [ mag ]\n",
      "WARNING: FITSFixedWarning: 'datfix' made the change 'Invalid parameter values: MJD-OBS and DATE-OBS are inconsistent.\n",
      "Changed DATE-OBS from '2022-11-13        ' to '2022-11-13T00:00:00.0''. [astropy.wcs.wcs]\n",
      "FITSFixedWarning: 'datfix' made the change 'Invalid parameter values: MJD-OBS and DATE-OBS are inconsistent.\n",
      "Changed DATE-OBS from '2022-11-13        ' to '2022-11-13T00:00:00.0''.\n",
      "Searching for new catalog [pan_starrs] for target_ra_278_dec_44 \n",
      "Downloading sequence stars from pan_starrs\n"
     ]
    },
    {
     "name": "stdout",
     "output_type": "stream",
     "text": [
      "\n",
      "+----------------------------------------------+\n",
      "|Searching for catalog for target_ra_278_dec_44|\n",
      "+----------------------------------------------+\n",
      "\n"
     ]
    },
    {
     "name": "stderr",
     "output_type": "stream",
     "text": [
      "Catalog length: 10000\n",
      "Removed 3061 sources fainter than cutoff [20 mag]\n",
      "Using Gaussian Profile for fitting\n",
      "Catalog Length: 704\n"
     ]
    },
    {
     "name": "stdout",
     "output_type": "stream",
     "text": [
      "\n",
      "+---------------------------------+\n",
      "|Matching catalog sources to image|\n",
      "+---------------------------------+\n",
      "\n",
      "Removed 1 sources too close to target\n",
      "Removed 537 sources too close to boundary or off image\n",
      "Matching catalog to image: 412 / 704 :: Useful sources 297 / 704 "
     ]
    },
    {
     "name": "stderr",
     "output_type": "stream",
     "text": [
      "\n",
      "Median offset: 3.6 [ pixels ] / 1.2 [ arcsec ]\n",
      "Residual table updated: 1 / 10 \n",
      "\tSNR: 1994 :: FWHM fitted 8.591\n",
      "Found faint soures near PSF star at 5 sigma - skipping \n"
     ]
    },
    {
     "name": "stdout",
     "output_type": "stream",
     "text": [
      "\r",
      "Matching catalog to image: 413 / 704 :: Useful sources 298 / 704 \r",
      "Matching catalog to image: 414 / 704 :: Useful sources 299 / 704 \r",
      "Matching catalog to image: 415 / 704 :: Useful sources 300 / 704   .. done\n",
      "\n",
      "Broken cutouts: 7\n",
      "Not in correct location: 0\n",
      "Not detected: 10\n",
      "Saturated: 98\n",
      "Error: 0\n",
      "\n",
      "\n",
      "+-------------------------------------------+\n",
      "|Building PSF model using stars in the field|\n",
      "+-------------------------------------------+\n",
      "\n"
     ]
    },
    {
     "name": "stderr",
     "output_type": "stream",
     "text": [
      "Residual table updated: 2 / 10 \n",
      "\tSNR: 1954 :: FWHM fitted 8.219\n",
      "Residual table updated: 3 / 10 \n",
      "\tSNR: 1946 :: FWHM fitted 8.216\n",
      "Residual table updated: 4 / 10 \n",
      "\tSNR: 1921 :: FWHM fitted 8.351\n",
      "Found faint soures near PSF star at 5 sigma - skipping \n",
      "Found faint soures near PSF star at 5 sigma - skipping \n",
      "Found faint soures near PSF star at 5 sigma - skipping \n",
      "Found faint soures near PSF star at 5 sigma - skipping \n",
      "Residual table updated: 5 / 10 \n",
      "\tSNR: 1788 :: FWHM fitted 8.196\n",
      "Found faint soures near PSF star at 5 sigma - skipping \n",
      "Residual table updated: 6 / 10 \n",
      "\tSNR: 1776 :: FWHM fitted 8.239\n",
      "Residual table updated: 7 / 10 \n",
      "\tSNR: 1748 :: FWHM fitted 8.269\n",
      "Residual table updated: 8 / 10 \n",
      "\tSNR: 1748 :: FWHM fitted 8.397\n",
      "Found faint soures near PSF star at 5 sigma - skipping \n",
      "Residual table updated: 9 / 10 \n",
      "\tSNR: 1643 :: FWHM fitted 8.125\n",
      "Found faint soures near PSF star at 5 sigma - skipping \n",
      "Residual table updated: 10 / 10 \n",
      "\tSNR: 1609 :: FWHM fitted 8.238\n",
      "\n",
      "PSF built using 10 sources\n",
      "\n",
      "Unity PSF: 82.5 [counts] \n",
      "Unity Residual table: 3.8 [counts] \n",
      "Using Aperture Photometry on sequence Stars \n"
     ]
    },
    {
     "name": "stdout",
     "output_type": "stream",
     "text": [
      "PSF model saved as: /Users/terwelj/Documents/VirtualMachine/Observing_ING/autophot/newtest/ZTF22aadgsdi_REDUCED/r1639491redCCD4/PSF_model_r1639491redCCD4_APT.fits\n",
      "\n",
      "+-------------------+\n",
      "|Measuring PSF model|\n",
      "+-------------------+\n",
      "\n"
     ]
    },
    {
     "name": "stderr",
     "output_type": "stream",
     "text": [
      "No PSF sources fitted\n",
      "WARNING: Input data contains invalid values (NaNs or infs), which were automatically clipped. [astropy.stats.sigma_clipping]\n",
      "Input data contains invalid values (NaNs or infs), which were automatically clipped.\n",
      "\n",
      "Mean g-band zeropoint: 26.310 +/- 0.021 \n",
      "\n"
     ]
    },
    {
     "name": "stdout",
     "output_type": "stream",
     "text": [
      "\n",
      "+-----------------------+\n",
      "|Finding Zeropoint value|\n",
      "+-----------------------+\n",
      "\n",
      "Checking for suitable catalog sources\n",
      "Removed 278 sources lower than SNR of 25.0\n"
     ]
    },
    {
     "name": "stderr",
     "output_type": "stream",
     "text": [
      "/opt/anaconda3/envs/autophot/lib/python3.7/site-packages/matplotlib/backends/backend_pdf.py:1649: DeprecationWarning: NONE is deprecated and will be removed in Pillow 10 (2023-07-01). Use Resampling.NEAREST or Dither.NONE instead.\n",
      "  img = img.convert(mode='P', dither=Image.NONE,\n",
      "/opt/anaconda3/envs/autophot/lib/python3.7/site-packages/matplotlib/backends/backend_pdf.py:1650: DeprecationWarning: ADAPTIVE is deprecated and will be removed in Pillow 10 (2023-07-01). Use Palette.ADAPTIVE instead.\n",
      "  palette=Image.ADAPTIVE, colors=num_colors)\n",
      "Target photometry on original image\n"
     ]
    },
    {
     "name": "stdout",
     "output_type": "stream",
     "text": [
      "\n",
      "+-----------------------------------+\n",
      "|Doing Aperture Photometry on Target|\n",
      "+-----------------------------------+\n",
      "\n"
     ]
    },
    {
     "name": "stderr",
     "output_type": "stream",
     "text": [
      "/opt/anaconda3/envs/autophot/lib/python3.7/site-packages/matplotlib/backends/backend_pdf.py:1649: DeprecationWarning: NONE is deprecated and will be removed in Pillow 10 (2023-07-01). Use Resampling.NEAREST or Dither.NONE instead.\n",
      "  img = img.convert(mode='P', dither=Image.NONE,\n",
      "/opt/anaconda3/envs/autophot/lib/python3.7/site-packages/matplotlib/backends/backend_pdf.py:1650: DeprecationWarning: ADAPTIVE is deprecated and will be removed in Pillow 10 (2023-07-01). Use Palette.ADAPTIVE instead.\n",
      "  palette=Image.ADAPTIVE, colors=num_colors)\n",
      "Approximate Target SNR: 261.0\n",
      "SNR = 261 - skipping limiting magnitude\n",
      "Pixel Offset: 0.000\n",
      "Limiting Magnitude: skipped\n",
      "Target Detection probability: 100 %\n",
      "Target flux: 1535.626 +/- 0.000 [counts/s]\n",
      "Noise: 264.313 [counts/s]\n",
      "Target SNR: 261.009 +/- 0.004\n",
      "Instrumental Magnitude: -7.966 +/- 0.000\n",
      "Zeropoint: 26.310 +/- 0.021\n",
      "Target Magnitude: 18.321 +/- 0.022 \n",
      "\n",
      "*** Transient well detected ***\n",
      "\n",
      "Time Taken [ 8408 ]: 121s\n",
      "Sucess: r1639491redCCD4_APT.fits :: PID 8408 \n",
      "\n",
      "File: r1639494redCCD4_APT.fits - PID: 8408\n",
      "Start Time: 2023-01-03 14:34:01.391435\n",
      "Filter keyoward used: WFFBAND\n",
      "Telescope: INT\n",
      "Filter: r\n",
      "MJD: 59896.857\n",
      "Date of Observation : 2022-11-13\n",
      "Read Noise: 5.8 [e^- /pixel]\n",
      "GAIN: 2.9 [e^- /count]\n",
      "Exposure time: 200 [s] \n",
      "Detecting/removing cosmic ray sources\n"
     ]
    },
    {
     "name": "stdout",
     "output_type": "stream",
     "text": [
      "\n",
      "+-----------+\n",
      "|File: 2 / 3|\n",
      "+-----------+\n",
      "\n",
      "Starting Astroscrappy ... "
     ]
    },
    {
     "name": "stderr",
     "output_type": "stream",
     "text": [
      "Contaminated pixels with Cosmic rays removed: 30559\n",
      "Cosmic rays removed - image updated\n",
      "WARNING: FITSFixedWarning: RADECSYS= 'FK5 ' / mean place new (after the 1976 IAU) system \n",
      "the RADECSYS keyword is deprecated, use RADESYSa. [astropy.wcs.wcs]\n",
      "FITSFixedWarning: RADECSYS= 'FK5 ' / mean place new (after the 1976 IAU) system \n",
      "the RADECSYS keyword is deprecated, use RADESYSa.\n",
      "WARNING: FITSFixedWarning: PROJP1 = 1.00000000 / Projection coefficient for primary WCS \n",
      "the PROJPn keyword is deprecated, use PVi_ma. [astropy.wcs.wcs]\n",
      "FITSFixedWarning: PROJP1 = 1.00000000 / Projection coefficient for primary WCS \n",
      "the PROJPn keyword is deprecated, use PVi_ma.\n",
      "WARNING: FITSFixedWarning: PROJP3 = 0.00000000 / Projection coefficient for primary WCS \n",
      "the PROJPn keyword is deprecated, use PVi_ma. [astropy.wcs.wcs]\n",
      "FITSFixedWarning: PROJP3 = 0.00000000 / Projection coefficient for primary WCS \n",
      "the PROJPn keyword is deprecated, use PVi_ma.\n",
      "WARNING: FITSFixedWarning: 'datfix' made the change 'Invalid parameter values: MJD-OBS and DATE-OBS are inconsistent.\n",
      "Changed DATE-OBS from '2022-11-13        ' to '2022-11-13T00:00:00.0''. [astropy.wcs.wcs]\n",
      "FITSFixedWarning: 'datfix' made the change 'Invalid parameter values: MJD-OBS and DATE-OBS are inconsistent.\n",
      "Changed DATE-OBS from '2022-11-13        ' to '2022-11-13T00:00:00.0''.\n",
      "\n",
      "Performing Astrometry.net\n",
      "Removing any pre-existing WCS keys \n",
      "No WCS values found - attempting to solve field\n",
      "ASTROMETRY started...\n",
      "ASTROMETRY finished: 3s\n",
      "Updating WCS keys with new values\n",
      "WCS saved to new file\n",
      "\n",
      "Searching for FWHM\n",
      "Using Gaussian Profile for fitting\n"
     ]
    },
    {
     "name": "stdout",
     "output_type": "stream",
     "text": [
      "\n",
      "+-------------------------------+\n",
      "|Finding Full Width Half Maximum|\n",
      "+-------------------------------+\n",
      "\n"
     ]
    },
    {
     "name": "stderr",
     "output_type": "stream",
     "text": [
      "\n",
      "Number of sources before cleaning [ 25.0 sigma ]: 25 \n",
      "Updating search FWHM value\n"
     ]
    },
    {
     "name": "stdout",
     "output_type": "stream",
     "text": [
      "Updated guess for FWHM: 7.7 pixels \n"
     ]
    },
    {
     "name": "stderr",
     "output_type": "stream",
     "text": [
      "\n",
      "Number of sources before cleaning [ 25.0 sigma ]: 441 \n",
      "Too many sources - increasing threshold\n",
      "\n",
      "Number of sources before cleaning [ 50.0 sigma ]: 316 \n",
      "Too many sources - increasing threshold\n",
      "\n",
      "Number of sources before cleaning [ 100.0 sigma ]: 213 \n",
      "Removed 6 sources near boundary\n",
      "Removed 40 crowded sources\n"
     ]
    },
    {
     "name": "stdout",
     "output_type": "stream",
     "text": [
      "Fitting source for FWHM: 167/167   "
     ]
    },
    {
     "name": "stderr",
     "output_type": "stream",
     "text": [
      "Removed 71 saturated sources\n",
      "WARNING: Input data contains invalid values (NaNs or infs), which were automatically clipped. [astropy.stats.sigma_clipping]\n",
      "Input data contains invalid values (NaNs or infs), which were automatically clipped.\n",
      "Removed 73 FWHM outliers\n",
      "WARNING: Input data contains invalid values (NaNs or infs), which were automatically clipped. [astropy.stats.sigma_clipping]\n",
      "Input data contains invalid values (NaNs or infs), which were automatically clipped.\n",
      "Removed 79 median outliers\n",
      "Useable sources found [ 100 sigma ]: 167\n",
      "Removes 12 sources within minimum seperation [ 33 pixel ]\n",
      "\n",
      "FWHM: 6.699 +/- 0.145 [ pixels ]\n",
      "\n",
      "Seeing: 2.222 [ arcsec ]\n",
      "Aperture size: 11.4 pixels\n",
      "Aperture correction: -0.029 +/- 0.004 [ mag ]\n",
      "WARNING: FITSFixedWarning: 'datfix' made the change 'Invalid parameter values: MJD-OBS and DATE-OBS are inconsistent.\n",
      "Changed DATE-OBS from '2022-11-13        ' to '2022-11-13T00:00:00.0''. [astropy.wcs.wcs]\n",
      "FITSFixedWarning: 'datfix' made the change 'Invalid parameter values: MJD-OBS and DATE-OBS are inconsistent.\n",
      "Changed DATE-OBS from '2022-11-13        ' to '2022-11-13T00:00:00.0''.\n",
      "Catalog found for target_ra_278_dec_44\n",
      "Catalog: PAN_STARRS \n",
      "File: target_ra_278_dec_44_r_0.25\n",
      "Catalog length: 10000\n",
      "Removed 4232 sources fainter than cutoff [20 mag]\n",
      "Using Gaussian Profile for fitting\n",
      "Catalog Length: 894\n"
     ]
    },
    {
     "name": "stdout",
     "output_type": "stream",
     "text": [
      "\n",
      "+----------------------------------------------+\n",
      "|Searching for catalog for target_ra_278_dec_44|\n",
      "+----------------------------------------------+\n",
      "\n",
      "\n",
      "+---------------------------------+\n",
      "|Matching catalog sources to image|\n",
      "+---------------------------------+\n",
      "\n",
      "Removed 1 sources too close to target\n",
      "Removed 724 sources too close to boundary or off image\n",
      "Matching catalog to image: 439 / 894 :: Useful sources 299 / 894 "
     ]
    },
    {
     "name": "stderr",
     "output_type": "stream",
     "text": [
      "\n",
      "Median offset: 3.2 [ pixels ] / 1.1 [ arcsec ]\n",
      "Residual table updated: 1 / 10 \n",
      "\tSNR: 1451 :: FWHM fitted 6.890\n"
     ]
    },
    {
     "name": "stdout",
     "output_type": "stream",
     "text": [
      "\r",
      "Matching catalog to image: 440 / 894 :: Useful sources 300 / 894   .. done\n",
      "\n",
      "Broken cutouts: 0\n",
      "Not in correct location: 0\n",
      "Not detected: 14\n",
      "Saturated: 126\n",
      "Error: 0\n",
      "\n",
      "\n",
      "+-------------------------------------------+\n",
      "|Building PSF model using stars in the field|\n",
      "+-------------------------------------------+\n",
      "\n"
     ]
    },
    {
     "name": "stderr",
     "output_type": "stream",
     "text": [
      "Residual table updated: 2 / 10 \n",
      "\tSNR: 1403 :: FWHM fitted 6.776\n",
      "Residual table updated: 3 / 10 \n",
      "\tSNR: 1383 :: FWHM fitted 6.600\n",
      "Residual table updated: 4 / 10 \n",
      "\tSNR: 1393 :: FWHM fitted 6.616\n",
      "Residual table updated: 5 / 10 \n",
      "\tSNR: 1380 :: FWHM fitted 6.770\n",
      "Found faint soures near PSF star at 5 sigma - skipping \n",
      "Residual table updated: 6 / 10 \n",
      "\tSNR: 1328 :: FWHM fitted 6.651\n",
      "Residual table updated: 7 / 10 \n",
      "\tSNR: 1284 :: FWHM fitted 6.650\n",
      "Found faint soures near PSF star at 5 sigma - skipping \n",
      "Residual table updated: 8 / 10 \n",
      "\tSNR: 1287 :: FWHM fitted 6.568\n",
      "Residual table updated: 9 / 10 \n",
      "\tSNR: 1294 :: FWHM fitted 6.859\n",
      "Residual table updated: 10 / 10 \n",
      "\tSNR: 1271 :: FWHM fitted 6.623\n",
      "\n",
      "PSF built using 10 sources\n",
      "\n",
      "Unity PSF: 54.7 [counts] \n",
      "Unity Residual table: 3.9 [counts] \n",
      "Using Aperture Photometry on sequence Stars \n",
      "No PSF sources fitted\n"
     ]
    },
    {
     "name": "stdout",
     "output_type": "stream",
     "text": [
      "PSF model saved as: /Users/terwelj/Documents/VirtualMachine/Observing_ING/autophot/newtest/ZTF22aadgsdi_REDUCED/r1639494redCCD4/PSF_model_r1639494redCCD4_APT.fits\n",
      "\n",
      "+-------------------+\n",
      "|Measuring PSF model|\n",
      "+-------------------+\n",
      "\n",
      "\n",
      "+-----------------------+\n",
      "|Finding Zeropoint value|\n",
      "+-----------------------+\n",
      "\n"
     ]
    },
    {
     "name": "stderr",
     "output_type": "stream",
     "text": [
      "WARNING: Input data contains invalid values (NaNs or infs), which were automatically clipped. [astropy.stats.sigma_clipping]\n",
      "Input data contains invalid values (NaNs or infs), which were automatically clipped.\n",
      "\n",
      "Mean r-band zeropoint: 26.132 +/- 0.025 \n",
      "\n"
     ]
    },
    {
     "name": "stdout",
     "output_type": "stream",
     "text": [
      "Checking for suitable catalog sources\n",
      "Removed 293 sources lower than SNR of 25.0\n"
     ]
    },
    {
     "name": "stderr",
     "output_type": "stream",
     "text": [
      "/opt/anaconda3/envs/autophot/lib/python3.7/site-packages/matplotlib/backends/backend_pdf.py:1649: DeprecationWarning: NONE is deprecated and will be removed in Pillow 10 (2023-07-01). Use Resampling.NEAREST or Dither.NONE instead.\n",
      "  img = img.convert(mode='P', dither=Image.NONE,\n",
      "/opt/anaconda3/envs/autophot/lib/python3.7/site-packages/matplotlib/backends/backend_pdf.py:1650: DeprecationWarning: ADAPTIVE is deprecated and will be removed in Pillow 10 (2023-07-01). Use Palette.ADAPTIVE instead.\n",
      "  palette=Image.ADAPTIVE, colors=num_colors)\n",
      "Target photometry on original image\n"
     ]
    },
    {
     "name": "stdout",
     "output_type": "stream",
     "text": [
      "\n",
      "+-----------------------------------+\n",
      "|Doing Aperture Photometry on Target|\n",
      "+-----------------------------------+\n",
      "\n"
     ]
    },
    {
     "name": "stderr",
     "output_type": "stream",
     "text": [
      "/opt/anaconda3/envs/autophot/lib/python3.7/site-packages/matplotlib/backends/backend_pdf.py:1649: DeprecationWarning: NONE is deprecated and will be removed in Pillow 10 (2023-07-01). Use Resampling.NEAREST or Dither.NONE instead.\n",
      "  img = img.convert(mode='P', dither=Image.NONE,\n",
      "/opt/anaconda3/envs/autophot/lib/python3.7/site-packages/matplotlib/backends/backend_pdf.py:1650: DeprecationWarning: ADAPTIVE is deprecated and will be removed in Pillow 10 (2023-07-01). Use Palette.ADAPTIVE instead.\n",
      "  palette=Image.ADAPTIVE, colors=num_colors)\n",
      "Approximate Target SNR: 221.0\n",
      "SNR = 221 - skipping limiting magnitude\n",
      "Pixel Offset: 0.000\n",
      "Limiting Magnitude: skipped\n",
      "Target Detection probability: 100 %\n",
      "Target flux: 1618.641 +/- 0.000 [counts/s]\n",
      "Noise: 219.393 [counts/s]\n",
      "Target SNR: 221.030 +/- 0.005\n",
      "Instrumental Magnitude: -8.023 +/- 0.000\n",
      "Zeropoint: 26.132 +/- 0.025\n",
      "Target Magnitude: 18.080 +/- 0.025 \n",
      "\n",
      "*** Transient well detected ***\n",
      "\n",
      "Time Taken [ 8408 ]: 33s\n",
      "Sucess: r1639494redCCD4_APT.fits :: PID 8408 \n",
      "\n",
      "File: r1639495redCCD4_APT.fits - PID: 8408\n",
      "Start Time: 2023-01-03 14:34:34.812247\n",
      "Filter keyoward used: WFFBAND\n",
      "Telescope: INT\n",
      "Filter: i\n",
      "MJD: 59896.861\n",
      "Date of Observation : 2022-11-13\n",
      "Read Noise: 5.8 [e^- /pixel]\n",
      "GAIN: 2.9 [e^- /count]\n",
      "Exposure time: 200 [s] \n",
      "Detecting/removing cosmic ray sources\n"
     ]
    },
    {
     "name": "stdout",
     "output_type": "stream",
     "text": [
      "\n",
      "+-----------+\n",
      "|File: 3 / 3|\n",
      "+-----------+\n",
      "\n",
      "Starting Astroscrappy ... "
     ]
    },
    {
     "name": "stderr",
     "output_type": "stream",
     "text": [
      "Contaminated pixels with Cosmic rays removed: 31736\n",
      "Cosmic rays removed - image updated\n",
      "WARNING: FITSFixedWarning: RADECSYS= 'FK5 ' / mean place new (after the 1976 IAU) system \n",
      "the RADECSYS keyword is deprecated, use RADESYSa. [astropy.wcs.wcs]\n",
      "FITSFixedWarning: RADECSYS= 'FK5 ' / mean place new (after the 1976 IAU) system \n",
      "the RADECSYS keyword is deprecated, use RADESYSa.\n",
      "WARNING: FITSFixedWarning: PROJP1 = 1.00000000 / Projection coefficient for primary WCS \n",
      "the PROJPn keyword is deprecated, use PVi_ma. [astropy.wcs.wcs]\n",
      "FITSFixedWarning: PROJP1 = 1.00000000 / Projection coefficient for primary WCS \n",
      "the PROJPn keyword is deprecated, use PVi_ma.\n",
      "WARNING: FITSFixedWarning: PROJP3 = 0.00000000 / Projection coefficient for primary WCS \n",
      "the PROJPn keyword is deprecated, use PVi_ma. [astropy.wcs.wcs]\n",
      "FITSFixedWarning: PROJP3 = 0.00000000 / Projection coefficient for primary WCS \n",
      "the PROJPn keyword is deprecated, use PVi_ma.\n",
      "WARNING: FITSFixedWarning: 'datfix' made the change 'Invalid parameter values: MJD-OBS and DATE-OBS are inconsistent.\n",
      "Changed DATE-OBS from '2022-11-13        ' to '2022-11-13T00:00:00.0''. [astropy.wcs.wcs]\n",
      "FITSFixedWarning: 'datfix' made the change 'Invalid parameter values: MJD-OBS and DATE-OBS are inconsistent.\n",
      "Changed DATE-OBS from '2022-11-13        ' to '2022-11-13T00:00:00.0''.\n",
      "\n",
      "Performing Astrometry.net\n",
      "Removing any pre-existing WCS keys \n",
      "No WCS values found - attempting to solve field\n",
      "ASTROMETRY started...\n",
      "ASTROMETRY finished: 3s\n",
      "Updating WCS keys with new values\n",
      "WCS saved to new file\n",
      "\n",
      "Searching for FWHM\n",
      "Using Gaussian Profile for fitting\n"
     ]
    },
    {
     "name": "stdout",
     "output_type": "stream",
     "text": [
      "\n",
      "+-------------------------------+\n",
      "|Finding Full Width Half Maximum|\n",
      "+-------------------------------+\n",
      "\n"
     ]
    },
    {
     "name": "stderr",
     "output_type": "stream",
     "text": [
      "\n",
      "Number of sources before cleaning [ 25.0 sigma ]: 25 \n",
      "Updating search FWHM value\n"
     ]
    },
    {
     "name": "stdout",
     "output_type": "stream",
     "text": [
      "Updated guess for FWHM: 6.7 pixels \n"
     ]
    },
    {
     "name": "stderr",
     "output_type": "stream",
     "text": [
      "\n",
      "Number of sources before cleaning [ 25.0 sigma ]: 412 \n",
      "Too many sources - increasing threshold\n",
      "\n",
      "Number of sources before cleaning [ 50.0 sigma ]: 283 \n",
      "Removed 9 sources near boundary\n",
      "Removed 50 crowded sources\n"
     ]
    },
    {
     "name": "stdout",
     "output_type": "stream",
     "text": [
      "Fitting source for FWHM: 224/224     "
     ]
    },
    {
     "name": "stderr",
     "output_type": "stream",
     "text": [
      "Removed 74 saturated sources\n",
      "WARNING: Input data contains invalid values (NaNs or infs), which were automatically clipped. [astropy.stats.sigma_clipping]\n",
      "Input data contains invalid values (NaNs or infs), which were automatically clipped.\n",
      "Removed 79 FWHM outliers\n",
      "WARNING: Input data contains invalid values (NaNs or infs), which were automatically clipped. [astropy.stats.sigma_clipping]\n",
      "Input data contains invalid values (NaNs or infs), which were automatically clipped.\n",
      "Removed 76 median outliers\n",
      "Useable sources found [ 50 sigma ]: 224\n",
      "Removes 28 sources within minimum seperation [ 32 pixel ]\n",
      "\n",
      "FWHM: 6.475 +/- 0.154 [ pixels ]\n",
      "\n",
      "Seeing: 2.147 [ arcsec ]\n",
      "Aperture size: 11.0 pixels\n",
      "Aperture correction: -0.046 +/- 0.016 [ mag ]\n",
      "WARNING: FITSFixedWarning: 'datfix' made the change 'Invalid parameter values: MJD-OBS and DATE-OBS are inconsistent.\n",
      "Changed DATE-OBS from '2022-11-13        ' to '2022-11-13T00:00:00.0''. [astropy.wcs.wcs]\n",
      "FITSFixedWarning: 'datfix' made the change 'Invalid parameter values: MJD-OBS and DATE-OBS are inconsistent.\n",
      "Changed DATE-OBS from '2022-11-13        ' to '2022-11-13T00:00:00.0''.\n",
      "Catalog found for target_ra_278_dec_44\n",
      "Catalog: PAN_STARRS \n",
      "File: target_ra_278_dec_44_r_0.25\n",
      "Catalog length: 10000\n",
      "Removed 5566 sources fainter than cutoff [20 mag]\n",
      "Using Gaussian Profile for fitting\n",
      "Catalog Length: 1435\n"
     ]
    },
    {
     "name": "stdout",
     "output_type": "stream",
     "text": [
      "\n",
      "+----------------------------------------------+\n",
      "|Searching for catalog for target_ra_278_dec_44|\n",
      "+----------------------------------------------+\n",
      "\n",
      "\n",
      "+---------------------------------+\n",
      "|Matching catalog sources to image|\n",
      "+---------------------------------+\n",
      "\n",
      "Removed 1 sources too close to target\n",
      "Removed 1075 sources too close to boundary or off image\n",
      "Matching catalog to image: 492 / 1435 :: Useful sources 295 / 1435 "
     ]
    },
    {
     "name": "stderr",
     "output_type": "stream",
     "text": [
      "\n",
      "Median offset: 3.2 [ pixels ] / 1.1 [ arcsec ]\n",
      "Found faint soures near PSF star at 5 sigma - skipping \n"
     ]
    },
    {
     "name": "stdout",
     "output_type": "stream",
     "text": [
      "\r",
      "Matching catalog to image: 493 / 1435 :: Useful sources 296 / 1435 \r",
      "Matching catalog to image: 494 / 1435 :: Useful sources 297 / 1435 \r",
      "Matching catalog to image: 495 / 1435 :: Useful sources 298 / 1435 \r",
      "Matching catalog to image: 496 / 1435 :: Useful sources 298 / 1435 \r",
      "Matching catalog to image: 497 / 1435 :: Useful sources 299 / 1435 \r",
      "Matching catalog to image: 498 / 1435 :: Useful sources 300 / 1435   .. done\n",
      "\n",
      "Broken cutouts: 0\n",
      "Not in correct location: 0\n",
      "Not detected: 16\n",
      "Saturated: 182\n",
      "Error: 0\n",
      "\n",
      "\n",
      "+-------------------------------------------+\n",
      "|Building PSF model using stars in the field|\n",
      "+-------------------------------------------+\n",
      "\n"
     ]
    },
    {
     "name": "stderr",
     "output_type": "stream",
     "text": [
      "Residual table updated: 1 / 10 \n",
      "\tSNR: 1210 :: FWHM fitted 6.505\n",
      "Residual table updated: 2 / 10 \n",
      "\tSNR: 1164 :: FWHM fitted 6.398\n",
      "Residual table updated: 3 / 10 \n",
      "\tSNR: 1163 :: FWHM fitted 6.657\n",
      "Residual table updated: 4 / 10 \n",
      "\tSNR: 1152 :: FWHM fitted 6.507\n",
      "Residual table updated: 5 / 10 \n",
      "\tSNR: 1114 :: FWHM fitted 6.366\n",
      "Residual table updated: 6 / 10 \n",
      "\tSNR: 1109 :: FWHM fitted 6.313\n",
      "Residual table updated: 7 / 10 \n",
      "\tSNR: 1113 :: FWHM fitted 6.429\n",
      "Residual table updated: 8 / 10 \n",
      "\tSNR: 1072 :: FWHM fitted 6.413\n",
      "Residual table updated: 9 / 10 \n",
      "\tSNR: 1066 :: FWHM fitted 6.508\n",
      "Residual table updated: 10 / 10 \n",
      "\tSNR: 1066 :: FWHM fitted 6.654\n",
      "\n",
      "PSF built using 10 sources\n",
      "\n",
      "Unity PSF: 51.6 [counts] \n",
      "Unity Residual table: 4.4 [counts] \n",
      "Using Aperture Photometry on sequence Stars \n",
      "No PSF sources fitted\n"
     ]
    },
    {
     "name": "stdout",
     "output_type": "stream",
     "text": [
      "PSF model saved as: /Users/terwelj/Documents/VirtualMachine/Observing_ING/autophot/newtest/ZTF22aadgsdi_REDUCED/r1639495redCCD4/PSF_model_r1639495redCCD4_APT.fits\n",
      "\n",
      "+-------------------+\n",
      "|Measuring PSF model|\n",
      "+-------------------+\n",
      "\n",
      "\n",
      "+-----------------------+\n",
      "|Finding Zeropoint value|\n",
      "+-----------------------+\n",
      "\n"
     ]
    },
    {
     "name": "stderr",
     "output_type": "stream",
     "text": [
      "WARNING: Input data contains invalid values (NaNs or infs), which were automatically clipped. [astropy.stats.sigma_clipping]\n",
      "Input data contains invalid values (NaNs or infs), which were automatically clipped.\n",
      "\n",
      "Mean i-band zeropoint: 25.779 +/- 0.027 \n",
      "\n"
     ]
    },
    {
     "name": "stdout",
     "output_type": "stream",
     "text": [
      "Checking for suitable catalog sources\n",
      "Removed 283 sources lower than SNR of 25.0\n"
     ]
    },
    {
     "name": "stderr",
     "output_type": "stream",
     "text": [
      "/opt/anaconda3/envs/autophot/lib/python3.7/site-packages/matplotlib/backends/backend_pdf.py:1649: DeprecationWarning: NONE is deprecated and will be removed in Pillow 10 (2023-07-01). Use Resampling.NEAREST or Dither.NONE instead.\n",
      "  img = img.convert(mode='P', dither=Image.NONE,\n",
      "/opt/anaconda3/envs/autophot/lib/python3.7/site-packages/matplotlib/backends/backend_pdf.py:1650: DeprecationWarning: ADAPTIVE is deprecated and will be removed in Pillow 10 (2023-07-01). Use Palette.ADAPTIVE instead.\n",
      "  palette=Image.ADAPTIVE, colors=num_colors)\n",
      "Target photometry on original image\n"
     ]
    },
    {
     "name": "stdout",
     "output_type": "stream",
     "text": [
      "\n",
      "+-----------------------------------+\n",
      "|Doing Aperture Photometry on Target|\n",
      "+-----------------------------------+\n",
      "\n"
     ]
    },
    {
     "name": "stderr",
     "output_type": "stream",
     "text": [
      "/opt/anaconda3/envs/autophot/lib/python3.7/site-packages/matplotlib/backends/backend_pdf.py:1649: DeprecationWarning: NONE is deprecated and will be removed in Pillow 10 (2023-07-01). Use Resampling.NEAREST or Dither.NONE instead.\n",
      "  img = img.convert(mode='P', dither=Image.NONE,\n",
      "/opt/anaconda3/envs/autophot/lib/python3.7/site-packages/matplotlib/backends/backend_pdf.py:1650: DeprecationWarning: ADAPTIVE is deprecated and will be removed in Pillow 10 (2023-07-01). Use Palette.ADAPTIVE instead.\n",
      "  palette=Image.ADAPTIVE, colors=num_colors)\n",
      "Approximate Target SNR: 152.7\n",
      "SNR = 153 - skipping limiting magnitude\n",
      "Pixel Offset: 0.000\n",
      "Limiting Magnitude: skipped\n",
      "Target Detection probability: 100 %\n",
      "Target flux: 1306.477 +/- 0.000 [counts/s]\n",
      "Noise: 256.383 [counts/s]\n",
      "Target SNR: 152.674 +/- 0.007\n",
      "Instrumental Magnitude: -7.790 +/- 0.000\n",
      "Zeropoint: 25.779 +/- 0.027\n",
      "Target Magnitude: 17.943 +/- 0.032 \n",
      "\n",
      "*** Transient well detected ***\n",
      "\n",
      "Time Taken [ 8408 ]: 33s\n",
      "Sucess: r1639495redCCD4_APT.fits :: PID 8408 \n",
      "\n",
      "\n",
      "User instrument database: /Users/terwelj/Documents/VirtualMachine/Observing_ING/autophot/newtest/telescope.yml\n",
      "\n",
      "Number of files: 3\n",
      "\n",
      "1 telescope(s) detected - checking header keywords\n",
      "\n"
     ]
    },
    {
     "name": "stdout",
     "output_type": "stream",
     "text": [
      "\n",
      "---\n",
      "\n",
      "Files that failed : []\n",
      "\n",
      "DONE\n",
      "\n",
      "Done - Time Taken: 188.5\n",
      "Photometry successfully extracted from all images\n",
      "\n",
      "\n",
      "Running AutoPHOT on at2022acsf, ra = 48.68756, dec = -16.63505\n",
      "\n",
      "\n",
      "Default input loaded in from: \n",
      "/opt/anaconda3/envs/autophot/lib/python3.7/site-packages/autophot/databases/default_input.yml\n",
      "\n",
      "        _       _       ___ _  _    _____\n",
      "       /_\\ _  _| |_ ___| _ \\ || |__|_   _|\n",
      "      / _ \\ || |  _/ _ \\  _/ __ / _ \\| |\n",
      "     /_/ \\_\\_,_|\\__\\___/_| |_||_\\___/|_|\n",
      "    \n",
      "     ---------------------------------------\n",
      "        Automated Photometry of Transients\n",
      "        S. J. Brennan et al. 2021 \n",
      "        Please provide feedback/bugs to:\n",
      "        Email: sean.brennan2@ucdconnect.ie\n",
      "    ---------------------------------------\n",
      "Directory of fits file: /Users/terwelj/Documents/VirtualMachine/Observing_ING/autophot/newtest/at2022acsf\n",
      "Found Telescopes:\n",
      "\n",
      " - INT\n",
      "\n",
      "-> Telescope check complete\n",
      "\n",
      "Checking Filter keywords and database\n"
     ]
    },
    {
     "name": "stderr",
     "output_type": "stream",
     "text": [
      "File: r1645966redCCD4_APT.fits - PID: 8408\n",
      "Start Time: 2023-01-03 14:35:08.228770\n",
      "Filter keyoward used: WFFBAND\n",
      "Telescope: INT\n",
      "Filter: i\n",
      "MJD: 59926.962\n",
      "Date of Observation : 2022-12-13\n",
      "Read Noise: 5.8 [e^- /pixel]\n",
      "GAIN: 2.9 [e^- /count]\n",
      "Exposure time: 20 [s] \n"
     ]
    },
    {
     "name": "stdout",
     "output_type": "stream",
     "text": [
      "\n",
      "-> Filter check complete\n",
      "\n",
      "Checking Filter information for each image\n",
      "\n",
      "Files removed - Wrong Image Type: 0\n",
      "\n",
      "Files removed - No/Wrong filter(s): 0\n",
      "Filters not included: []\n",
      "\n",
      "\n",
      "Files removed: 0\n",
      "\n",
      "+-----------+\n",
      "|File: 1 / 3|\n",
      "+-----------+\n",
      "\n"
     ]
    },
    {
     "name": "stderr",
     "output_type": "stream",
     "text": [
      "Detecting/removing cosmic ray sources\n"
     ]
    },
    {
     "name": "stdout",
     "output_type": "stream",
     "text": [
      "Starting Astroscrappy ... "
     ]
    },
    {
     "name": "stderr",
     "output_type": "stream",
     "text": [
      "Contaminated pixels with Cosmic rays removed: 27703\n",
      "Cosmic rays removed - image updated\n",
      "WARNING: FITSFixedWarning: RADECSYS= 'FK5 ' / mean place new (after the 1976 IAU) system \n",
      "the RADECSYS keyword is deprecated, use RADESYSa. [astropy.wcs.wcs]\n",
      "FITSFixedWarning: RADECSYS= 'FK5 ' / mean place new (after the 1976 IAU) system \n",
      "the RADECSYS keyword is deprecated, use RADESYSa.\n",
      "WARNING: FITSFixedWarning: PROJP1 = 1.00000000 / Projection coefficient for primary WCS \n",
      "the PROJPn keyword is deprecated, use PVi_ma. [astropy.wcs.wcs]\n",
      "FITSFixedWarning: PROJP1 = 1.00000000 / Projection coefficient for primary WCS \n",
      "the PROJPn keyword is deprecated, use PVi_ma.\n",
      "WARNING: FITSFixedWarning: PROJP3 = 0.00000000 / Projection coefficient for primary WCS \n",
      "the PROJPn keyword is deprecated, use PVi_ma. [astropy.wcs.wcs]\n",
      "FITSFixedWarning: PROJP3 = 0.00000000 / Projection coefficient for primary WCS \n",
      "the PROJPn keyword is deprecated, use PVi_ma.\n",
      "WARNING: FITSFixedWarning: 'datfix' made the change 'Invalid parameter values: MJD-OBS and DATE-OBS are inconsistent.\n",
      "Changed DATE-OBS from '2022-12-13        ' to '2022-12-13T00:00:00.0''. [astropy.wcs.wcs]\n",
      "FITSFixedWarning: 'datfix' made the change 'Invalid parameter values: MJD-OBS and DATE-OBS are inconsistent.\n",
      "Changed DATE-OBS from '2022-12-13        ' to '2022-12-13T00:00:00.0''.\n",
      "\n",
      "Performing Astrometry.net\n",
      "Removing any pre-existing WCS keys \n",
      "No WCS values found - attempting to solve field\n",
      "ASTROMETRY started...\n",
      "ASTROMETRY finished: 3s\n",
      "Updating WCS keys with new values\n",
      "WCS saved to new file\n",
      "\n",
      "Searching for FWHM\n",
      "Using Gaussian Profile for fitting\n"
     ]
    },
    {
     "name": "stdout",
     "output_type": "stream",
     "text": [
      "\n",
      "+-------------------------------+\n",
      "|Finding Full Width Half Maximum|\n",
      "+-------------------------------+\n",
      "\n"
     ]
    },
    {
     "name": "stderr",
     "output_type": "stream",
     "text": [
      "\n",
      "Number of sources before cleaning [ 25.0 sigma ]: 25 \n",
      "Updating search FWHM value\n"
     ]
    },
    {
     "name": "stdout",
     "output_type": "stream",
     "text": [
      "Updated guess for FWHM: 5.9 pixels \n"
     ]
    },
    {
     "name": "stderr",
     "output_type": "stream",
     "text": [
      "\n",
      "Number of sources before cleaning [ 25.0 sigma ]: 83 \n",
      "Removed 3 sources near boundary\n",
      "Removed 2 crowded sources\n"
     ]
    },
    {
     "name": "stdout",
     "output_type": "stream",
     "text": [
      "Fitting source for FWHM: 78/78   "
     ]
    },
    {
     "name": "stderr",
     "output_type": "stream",
     "text": [
      "Removed 7 saturated sources\n",
      "WARNING: Input data contains invalid values (NaNs or infs), which were automatically clipped. [astropy.stats.sigma_clipping]\n",
      "Input data contains invalid values (NaNs or infs), which were automatically clipped.\n",
      "Removed 8 FWHM outliers\n",
      "WARNING: Input data contains invalid values (NaNs or infs), which were automatically clipped. [astropy.stats.sigma_clipping]\n",
      "Input data contains invalid values (NaNs or infs), which were automatically clipped.\n",
      "Removed 10 median outliers\n",
      "Useable sources found [ 25 sigma ]: 78\n",
      "Removes 2 sources within minimum seperation [ 22 pixel ]\n",
      "\n",
      "FWHM: 4.528 +/- 0.431 [ pixels ]\n",
      "\n",
      "Seeing: 1.500 [ arcsec ]\n",
      "Aperture size: 7.7 pixels\n",
      "Aperture correction: -0.032 +/- 0.026 [ mag ]\n",
      "WARNING: FITSFixedWarning: 'datfix' made the change 'Invalid parameter values: MJD-OBS and DATE-OBS are inconsistent.\n",
      "Changed DATE-OBS from '2022-12-13        ' to '2022-12-13T00:00:00.0''. [astropy.wcs.wcs]\n",
      "FITSFixedWarning: 'datfix' made the change 'Invalid parameter values: MJD-OBS and DATE-OBS are inconsistent.\n",
      "Changed DATE-OBS from '2022-12-13        ' to '2022-12-13T00:00:00.0''.\n",
      "Searching for new catalog [sdss] for target_ra_49_dec_-17 \n",
      "Catalog retireval failed!\n",
      "ERROR: list index out of range\n",
      " Returning None\n",
      "'NoneType' object is not subscriptable\n",
      "Traceback (most recent call last):\n",
      "  File \"/opt/anaconda3/envs/autophot/lib/python3.7/site-packages/autophot/packages/main.py\", line 1136, in main\n",
      "    plot_catalog_nondetections =  autophot_input['catalog']['plot_catalog_nondetections'])\n",
      "  File \"/opt/anaconda3/envs/autophot/lib/python3.7/site-packages/autophot/packages/call_catalog.py\", line 479, in match\n",
      "    chosen_catalog = chosen_catalog[~np.isnan(chosen_catalog[catalog_keywords[image_filter]])]\n",
      "TypeError: 'NoneType' object is not subscriptable\n",
      "Failure: r1645966redCCD4_APT.fits - PID: 8408\n",
      "File: r1645968redCCD4_APT.fits - PID: 8408\n",
      "Start Time: 2023-01-03 14:35:28.096966\n"
     ]
    },
    {
     "name": "stdout",
     "output_type": "stream",
     "text": [
      "\n",
      "+----------------------------------------------+\n",
      "|Searching for catalog for target_ra_49_dec_-17|\n",
      "+----------------------------------------------+\n",
      "\n",
      "\n",
      "+---------------------------------+\n",
      "|Matching catalog sources to image|\n",
      "+---------------------------------+\n",
      "\n",
      "\n",
      "+-----------+\n",
      "|File: 2 / 3|\n",
      "+-----------+\n",
      "\n"
     ]
    },
    {
     "name": "stderr",
     "output_type": "stream",
     "text": [
      "Filter keyoward used: WFFBAND\n",
      "Telescope: INT\n",
      "Filter: g\n",
      "MJD: 59926.964\n",
      "Date of Observation : 2022-12-13\n",
      "Read Noise: 5.8 [e^- /pixel]\n",
      "GAIN: 2.9 [e^- /count]\n",
      "Exposure time: 20 [s] \n",
      "Detecting/removing cosmic ray sources\n"
     ]
    },
    {
     "name": "stdout",
     "output_type": "stream",
     "text": [
      "Starting Astroscrappy ... "
     ]
    },
    {
     "name": "stderr",
     "output_type": "stream",
     "text": [
      "Contaminated pixels with Cosmic rays removed: 30081\n",
      "Cosmic rays removed - image updated\n",
      "WARNING: FITSFixedWarning: RADECSYS= 'FK5 ' / mean place new (after the 1976 IAU) system \n",
      "the RADECSYS keyword is deprecated, use RADESYSa. [astropy.wcs.wcs]\n",
      "FITSFixedWarning: RADECSYS= 'FK5 ' / mean place new (after the 1976 IAU) system \n",
      "the RADECSYS keyword is deprecated, use RADESYSa.\n",
      "WARNING: FITSFixedWarning: PROJP1 = 1.00000000 / Projection coefficient for primary WCS \n",
      "the PROJPn keyword is deprecated, use PVi_ma. [astropy.wcs.wcs]\n",
      "FITSFixedWarning: PROJP1 = 1.00000000 / Projection coefficient for primary WCS \n",
      "the PROJPn keyword is deprecated, use PVi_ma.\n",
      "WARNING: FITSFixedWarning: PROJP3 = 0.00000000 / Projection coefficient for primary WCS \n",
      "the PROJPn keyword is deprecated, use PVi_ma. [astropy.wcs.wcs]\n",
      "FITSFixedWarning: PROJP3 = 0.00000000 / Projection coefficient for primary WCS \n",
      "the PROJPn keyword is deprecated, use PVi_ma.\n",
      "WARNING: FITSFixedWarning: 'datfix' made the change 'Invalid parameter values: MJD-OBS and DATE-OBS are inconsistent.\n",
      "Changed DATE-OBS from '2022-12-13        ' to '2022-12-13T00:00:00.0''. [astropy.wcs.wcs]\n",
      "FITSFixedWarning: 'datfix' made the change 'Invalid parameter values: MJD-OBS and DATE-OBS are inconsistent.\n",
      "Changed DATE-OBS from '2022-12-13        ' to '2022-12-13T00:00:00.0''.\n",
      "\n",
      "Performing Astrometry.net\n",
      "Removing any pre-existing WCS keys \n",
      "No WCS values found - attempting to solve field\n",
      "ASTROMETRY started...\n",
      "ASTROMETRY finished: 3s\n",
      "Updating WCS keys with new values\n",
      "WCS saved to new file\n",
      "\n",
      "Searching for FWHM\n",
      "Using Gaussian Profile for fitting\n"
     ]
    },
    {
     "name": "stdout",
     "output_type": "stream",
     "text": [
      "\n",
      "+-------------------------------+\n",
      "|Finding Full Width Half Maximum|\n",
      "+-------------------------------+\n",
      "\n"
     ]
    },
    {
     "name": "stderr",
     "output_type": "stream",
     "text": [
      "\n",
      "Number of sources before cleaning [ 25.0 sigma ]: 25 \n",
      "Updating search FWHM value\n"
     ]
    },
    {
     "name": "stdout",
     "output_type": "stream",
     "text": [
      "Updated guess for FWHM: 7.5 pixels \n"
     ]
    },
    {
     "name": "stderr",
     "output_type": "stream",
     "text": [
      "\n",
      "Number of sources before cleaning [ 25.0 sigma ]: 56 \n",
      "Removed 6 crowded sources\n"
     ]
    },
    {
     "name": "stdout",
     "output_type": "stream",
     "text": [
      "Fitting source for FWHM: 50/50 "
     ]
    },
    {
     "name": "stderr",
     "output_type": "stream",
     "text": [
      "Removed 3 saturated sources\n",
      "WARNING: Input data contains invalid values (NaNs or infs), which were automatically clipped. [astropy.stats.sigma_clipping]\n",
      "Input data contains invalid values (NaNs or infs), which were automatically clipped.\n",
      "Removed 4 FWHM outliers\n",
      "WARNING: Input data contains invalid values (NaNs or infs), which were automatically clipped. [astropy.stats.sigma_clipping]\n",
      "Input data contains invalid values (NaNs or infs), which were automatically clipped.\n",
      "Removed 12 median outliers\n",
      "Useable sources found [ 25 sigma ]: 50\n",
      "Removes 2 sources within minimum seperation [ 31 pixel ]\n",
      "\n",
      "FWHM: 6.377 +/- 0.280 [ pixels ]\n",
      "\n",
      "Seeing: 2.113 [ arcsec ]\n",
      "Aperture size: 10.8 pixels\n",
      "Aperture correction: -0.044 +/- 0.011 [ mag ]\n",
      "WARNING: FITSFixedWarning: 'datfix' made the change 'Invalid parameter values: MJD-OBS and DATE-OBS are inconsistent.\n",
      "Changed DATE-OBS from '2022-12-13        ' to '2022-12-13T00:00:00.0''. [astropy.wcs.wcs]\n",
      "FITSFixedWarning: 'datfix' made the change 'Invalid parameter values: MJD-OBS and DATE-OBS are inconsistent.\n",
      "Changed DATE-OBS from '2022-12-13        ' to '2022-12-13T00:00:00.0''.\n",
      "Searching for new catalog [sdss] for target_ra_49_dec_-17 \n",
      "Catalog retireval failed!\n",
      "ERROR: list index out of range\n",
      " Returning None\n",
      "'NoneType' object is not subscriptable\n",
      "Traceback (most recent call last):\n",
      "  File \"/opt/anaconda3/envs/autophot/lib/python3.7/site-packages/autophot/packages/main.py\", line 1136, in main\n",
      "    plot_catalog_nondetections =  autophot_input['catalog']['plot_catalog_nondetections'])\n",
      "  File \"/opt/anaconda3/envs/autophot/lib/python3.7/site-packages/autophot/packages/call_catalog.py\", line 479, in match\n",
      "    chosen_catalog = chosen_catalog[~np.isnan(chosen_catalog[catalog_keywords[image_filter]])]\n",
      "TypeError: 'NoneType' object is not subscriptable\n",
      "Failure: r1645968redCCD4_APT.fits - PID: 8408\n"
     ]
    },
    {
     "name": "stdout",
     "output_type": "stream",
     "text": [
      "\n",
      "+----------------------------------------------+\n",
      "|Searching for catalog for target_ra_49_dec_-17|\n",
      "+----------------------------------------------+\n",
      "\n",
      "\n",
      "+---------------------------------+\n",
      "|Matching catalog sources to image|\n",
      "+---------------------------------+\n",
      "\n",
      "\n",
      "+-----------+\n",
      "|File: 3 / 3|\n",
      "+-----------+\n",
      "\n"
     ]
    },
    {
     "name": "stderr",
     "output_type": "stream",
     "text": [
      "File: r1645967redCCD4_APT.fits - PID: 8408\n",
      "Start Time: 2023-01-03 14:35:47.984680\n",
      "Filter keyoward used: WFFBAND\n",
      "Telescope: INT\n",
      "Filter: r\n",
      "MJD: 59926.963\n",
      "Date of Observation : 2022-12-13\n",
      "Read Noise: 5.8 [e^- /pixel]\n",
      "GAIN: 2.9 [e^- /count]\n",
      "Exposure time: 20 [s] \n",
      "Detecting/removing cosmic ray sources\n"
     ]
    },
    {
     "name": "stdout",
     "output_type": "stream",
     "text": [
      "Starting Astroscrappy ... "
     ]
    },
    {
     "name": "stderr",
     "output_type": "stream",
     "text": [
      "Contaminated pixels with Cosmic rays removed: 27433\n",
      "Cosmic rays removed - image updated\n",
      "WARNING: FITSFixedWarning: RADECSYS= 'FK5 ' / mean place new (after the 1976 IAU) system \n",
      "the RADECSYS keyword is deprecated, use RADESYSa. [astropy.wcs.wcs]\n",
      "FITSFixedWarning: RADECSYS= 'FK5 ' / mean place new (after the 1976 IAU) system \n",
      "the RADECSYS keyword is deprecated, use RADESYSa.\n",
      "WARNING: FITSFixedWarning: PROJP1 = 1.00000000 / Projection coefficient for primary WCS \n",
      "the PROJPn keyword is deprecated, use PVi_ma. [astropy.wcs.wcs]\n",
      "FITSFixedWarning: PROJP1 = 1.00000000 / Projection coefficient for primary WCS \n",
      "the PROJPn keyword is deprecated, use PVi_ma.\n",
      "WARNING: FITSFixedWarning: PROJP3 = 0.00000000 / Projection coefficient for primary WCS \n",
      "the PROJPn keyword is deprecated, use PVi_ma. [astropy.wcs.wcs]\n",
      "FITSFixedWarning: PROJP3 = 0.00000000 / Projection coefficient for primary WCS \n",
      "the PROJPn keyword is deprecated, use PVi_ma.\n",
      "WARNING: FITSFixedWarning: 'datfix' made the change 'Invalid parameter values: MJD-OBS and DATE-OBS are inconsistent.\n",
      "Changed DATE-OBS from '2022-12-13        ' to '2022-12-13T00:00:00.0''. [astropy.wcs.wcs]\n",
      "FITSFixedWarning: 'datfix' made the change 'Invalid parameter values: MJD-OBS and DATE-OBS are inconsistent.\n",
      "Changed DATE-OBS from '2022-12-13        ' to '2022-12-13T00:00:00.0''.\n",
      "\n",
      "Performing Astrometry.net\n",
      "Removing any pre-existing WCS keys \n",
      "No WCS values found - attempting to solve field\n",
      "ASTROMETRY started...\n",
      "ASTROMETRY finished: 3s\n",
      "Updating WCS keys with new values\n",
      "WCS saved to new file\n",
      "\n",
      "Searching for FWHM\n",
      "Using Gaussian Profile for fitting\n"
     ]
    },
    {
     "name": "stdout",
     "output_type": "stream",
     "text": [
      "\n",
      "+-------------------------------+\n",
      "|Finding Full Width Half Maximum|\n",
      "+-------------------------------+\n",
      "\n"
     ]
    },
    {
     "name": "stderr",
     "output_type": "stream",
     "text": [
      "\n",
      "Number of sources before cleaning [ 25.0 sigma ]: 25 \n",
      "Updating search FWHM value\n"
     ]
    },
    {
     "name": "stdout",
     "output_type": "stream",
     "text": [
      "Updated guess for FWHM: 5.6 pixels \n"
     ]
    },
    {
     "name": "stderr",
     "output_type": "stream",
     "text": [
      "\n",
      "Number of sources before cleaning [ 25.0 sigma ]: 67 \n",
      "Removed 1 sources near boundary\n",
      "Removed 4 crowded sources\n"
     ]
    },
    {
     "name": "stdout",
     "output_type": "stream",
     "text": [
      "Fitting source for FWHM: 62/62    "
     ]
    },
    {
     "name": "stderr",
     "output_type": "stream",
     "text": [
      "Removed 7 saturated sources\n",
      "WARNING: Input data contains invalid values (NaNs or infs), which were automatically clipped. [astropy.stats.sigma_clipping]\n",
      "Input data contains invalid values (NaNs or infs), which were automatically clipped.\n",
      "Removed 9 FWHM outliers\n",
      "WARNING: Input data contains invalid values (NaNs or infs), which were automatically clipped. [astropy.stats.sigma_clipping]\n",
      "Input data contains invalid values (NaNs or infs), which were automatically clipped.\n",
      "Removed 16 median outliers\n",
      "Useable sources found [ 25 sigma ]: 62\n",
      "Removes 2 sources within minimum seperation [ 23 pixel ]\n",
      "\n",
      "FWHM: 4.724 +/- 0.530 [ pixels ]\n",
      "\n",
      "Seeing: 1.565 [ arcsec ]\n",
      "Aperture size: 8.0 pixels\n",
      "Aperture correction: -0.029 +/- 0.015 [ mag ]\n"
     ]
    },
    {
     "name": "stdout",
     "output_type": "stream",
     "text": [
      "\n",
      "+----------------------------------------------+\n",
      "|Searching for catalog for target_ra_49_dec_-17|\n",
      "+----------------------------------------------+\n",
      "\n"
     ]
    },
    {
     "name": "stderr",
     "output_type": "stream",
     "text": [
      "WARNING: FITSFixedWarning: 'datfix' made the change 'Invalid parameter values: MJD-OBS and DATE-OBS are inconsistent.\n",
      "Changed DATE-OBS from '2022-12-13        ' to '2022-12-13T00:00:00.0''. [astropy.wcs.wcs]\n",
      "FITSFixedWarning: 'datfix' made the change 'Invalid parameter values: MJD-OBS and DATE-OBS are inconsistent.\n",
      "Changed DATE-OBS from '2022-12-13        ' to '2022-12-13T00:00:00.0''.\n",
      "Searching for new catalog [sdss] for target_ra_49_dec_-17 \n",
      "Catalog retireval failed!\n",
      "ERROR: list index out of range\n",
      " Returning None\n",
      "'NoneType' object is not subscriptable\n",
      "Traceback (most recent call last):\n",
      "  File \"/opt/anaconda3/envs/autophot/lib/python3.7/site-packages/autophot/packages/main.py\", line 1136, in main\n",
      "    plot_catalog_nondetections =  autophot_input['catalog']['plot_catalog_nondetections'])\n",
      "  File \"/opt/anaconda3/envs/autophot/lib/python3.7/site-packages/autophot/packages/call_catalog.py\", line 479, in match\n",
      "    chosen_catalog = chosen_catalog[~np.isnan(chosen_catalog[catalog_keywords[image_filter]])]\n",
      "TypeError: 'NoneType' object is not subscriptable\n",
      "Failure: r1645967redCCD4_APT.fits - PID: 8408\n",
      "\n",
      "User instrument database: /Users/terwelj/Documents/VirtualMachine/Observing_ING/autophot/newtest/telescope.yml\n",
      "\n",
      "Number of files: 3\n",
      "\n",
      "1 telescope(s) detected - checking header keywords\n",
      "\n"
     ]
    },
    {
     "name": "stdout",
     "output_type": "stream",
     "text": [
      "\n",
      "+---------------------------------+\n",
      "|Matching catalog sources to image|\n",
      "+---------------------------------+\n",
      "\n",
      "\n",
      "---\n",
      "\n",
      "Files that failed : ['/Users/terwelj/Documents/VirtualMachine/Observing_ING/autophot/newtest/at2022acsf_REDUCED/r1645966redCCD4/r1645966redCCD4_APT.fits', '/Users/terwelj/Documents/VirtualMachine/Observing_ING/autophot/newtest/at2022acsf_REDUCED/r1645968redCCD4/r1645968redCCD4_APT.fits', '/Users/terwelj/Documents/VirtualMachine/Observing_ING/autophot/newtest/at2022acsf_REDUCED/r1645967redCCD4/r1645967redCCD4_APT.fits']\n",
      "\n",
      "DONE\n",
      "\n",
      "Done - Time Taken: 59.4\n",
      "\n",
      "        _       _       ___ _  _    _____\n",
      "       /_\\ _  _| |_ ___| _ \\ || |__|_   _|\n",
      "      / _ \\ || |  _/ _ \\  _/ __ / _ \\| |\n",
      "     /_/ \\_\\_,_|\\__\\___/_| |_||_\\___/|_|\n",
      "    \n",
      "     ---------------------------------------\n",
      "        Automated Photometry of Transients\n",
      "        S. J. Brennan et al. 2021 \n",
      "        Please provide feedback/bugs to:\n",
      "        Email: sean.brennan2@ucdconnect.ie\n",
      "    ---------------------------------------\n",
      "Directory of fits file: /Users/terwelj/Documents/VirtualMachine/Observing_ING/autophot/newtest/at2022acsf\n",
      "Found Telescopes:\n",
      "\n",
      " - INT\n",
      "\n",
      "-> Telescope check complete\n",
      "\n",
      "Checking Filter keywords and database\n"
     ]
    },
    {
     "name": "stderr",
     "output_type": "stream",
     "text": [
      "File: r1645966redCCD4_APT.fits - PID: 8408\n",
      "Start Time: 2023-01-03 14:36:07.603839\n",
      "Filter keyoward used: WFFBAND\n",
      "Telescope: INT\n",
      "Filter: i\n",
      "MJD: 59926.962\n",
      "Date of Observation : 2022-12-13\n",
      "Read Noise: 5.8 [e^- /pixel]\n",
      "GAIN: 2.9 [e^- /count]\n",
      "Exposure time: 20 [s] \n",
      "Detecting/removing cosmic ray sources\n"
     ]
    },
    {
     "name": "stdout",
     "output_type": "stream",
     "text": [
      "\n",
      "-> Filter check complete\n",
      "\n",
      "Checking Filter information for each image\n",
      "\n",
      "Files removed - Wrong Image Type: 0\n",
      "\n",
      "Files removed - No/Wrong filter(s): 0\n",
      "Filters not included: []\n",
      "\n",
      "\n",
      "Files removed: 0\n",
      "\n",
      "+-----------+\n",
      "|File: 1 / 3|\n",
      "+-----------+\n",
      "\n",
      "Starting Astroscrappy ... "
     ]
    },
    {
     "name": "stderr",
     "output_type": "stream",
     "text": [
      "Contaminated pixels with Cosmic rays removed: 27703\n",
      "Cosmic rays removed - image updated\n",
      "WARNING: FITSFixedWarning: RADECSYS= 'FK5 ' / mean place new (after the 1976 IAU) system \n",
      "the RADECSYS keyword is deprecated, use RADESYSa. [astropy.wcs.wcs]\n",
      "FITSFixedWarning: RADECSYS= 'FK5 ' / mean place new (after the 1976 IAU) system \n",
      "the RADECSYS keyword is deprecated, use RADESYSa.\n",
      "WARNING: FITSFixedWarning: PROJP1 = 1.00000000 / Projection coefficient for primary WCS \n",
      "the PROJPn keyword is deprecated, use PVi_ma. [astropy.wcs.wcs]\n",
      "FITSFixedWarning: PROJP1 = 1.00000000 / Projection coefficient for primary WCS \n",
      "the PROJPn keyword is deprecated, use PVi_ma.\n",
      "WARNING: FITSFixedWarning: PROJP3 = 0.00000000 / Projection coefficient for primary WCS \n",
      "the PROJPn keyword is deprecated, use PVi_ma. [astropy.wcs.wcs]\n",
      "FITSFixedWarning: PROJP3 = 0.00000000 / Projection coefficient for primary WCS \n",
      "the PROJPn keyword is deprecated, use PVi_ma.\n",
      "WARNING: FITSFixedWarning: 'datfix' made the change 'Invalid parameter values: MJD-OBS and DATE-OBS are inconsistent.\n",
      "Changed DATE-OBS from '2022-12-13        ' to '2022-12-13T00:00:00.0''. [astropy.wcs.wcs]\n",
      "FITSFixedWarning: 'datfix' made the change 'Invalid parameter values: MJD-OBS and DATE-OBS are inconsistent.\n",
      "Changed DATE-OBS from '2022-12-13        ' to '2022-12-13T00:00:00.0''.\n",
      "\n",
      "Performing Astrometry.net\n",
      "Removing any pre-existing WCS keys \n",
      "No WCS values found - attempting to solve field\n",
      "ASTROMETRY started...\n",
      "ASTROMETRY finished: 3s\n",
      "Updating WCS keys with new values\n",
      "WCS saved to new file\n",
      "\n",
      "Searching for FWHM\n",
      "Using Gaussian Profile for fitting\n"
     ]
    },
    {
     "name": "stdout",
     "output_type": "stream",
     "text": [
      "\n",
      "+-------------------------------+\n",
      "|Finding Full Width Half Maximum|\n",
      "+-------------------------------+\n",
      "\n"
     ]
    },
    {
     "name": "stderr",
     "output_type": "stream",
     "text": [
      "\n",
      "Number of sources before cleaning [ 25.0 sigma ]: 25 \n",
      "Updating search FWHM value\n"
     ]
    },
    {
     "name": "stdout",
     "output_type": "stream",
     "text": [
      "Updated guess for FWHM: 6.0 pixels \n"
     ]
    },
    {
     "name": "stderr",
     "output_type": "stream",
     "text": [
      "\n",
      "Number of sources before cleaning [ 25.0 sigma ]: 83 \n",
      "Removed 3 sources near boundary\n",
      "Removed 2 crowded sources\n"
     ]
    },
    {
     "name": "stdout",
     "output_type": "stream",
     "text": [
      "Fitting source for FWHM: 78/78 "
     ]
    },
    {
     "name": "stderr",
     "output_type": "stream",
     "text": [
      "Removed 7 saturated sources\n",
      "WARNING: Input data contains invalid values (NaNs or infs), which were automatically clipped. [astropy.stats.sigma_clipping]\n",
      "Input data contains invalid values (NaNs or infs), which were automatically clipped.\n",
      "Removed 8 FWHM outliers\n",
      "WARNING: Input data contains invalid values (NaNs or infs), which were automatically clipped. [astropy.stats.sigma_clipping]\n",
      "Input data contains invalid values (NaNs or infs), which were automatically clipped.\n",
      "Removed 10 median outliers\n",
      "Useable sources found [ 25 sigma ]: 78\n",
      "Removes 2 sources within minimum seperation [ 22 pixel ]\n",
      "\n",
      "FWHM: 4.528 +/- 0.431 [ pixels ]\n",
      "\n",
      "Seeing: 1.500 [ arcsec ]\n",
      "Aperture size: 7.7 pixels\n",
      "Aperture correction: -0.032 +/- 0.026 [ mag ]\n",
      "WARNING: FITSFixedWarning: 'datfix' made the change 'Invalid parameter values: MJD-OBS and DATE-OBS are inconsistent.\n",
      "Changed DATE-OBS from '2022-12-13        ' to '2022-12-13T00:00:00.0''. [astropy.wcs.wcs]\n",
      "FITSFixedWarning: 'datfix' made the change 'Invalid parameter values: MJD-OBS and DATE-OBS are inconsistent.\n",
      "Changed DATE-OBS from '2022-12-13        ' to '2022-12-13T00:00:00.0''.\n",
      "Searching for new catalog [pan_starrs] for target_ra_49_dec_-17 \n",
      "Downloading sequence stars from pan_starrs\n"
     ]
    },
    {
     "name": "stdout",
     "output_type": "stream",
     "text": [
      "\n",
      "+----------------------------------------------+\n",
      "|Searching for catalog for target_ra_49_dec_-17|\n",
      "+----------------------------------------------+\n",
      "\n"
     ]
    },
    {
     "name": "stderr",
     "output_type": "stream",
     "text": [
      "Catalog length: 6056\n",
      "Removed 3454 sources fainter than cutoff [20 mag]\n",
      "Using Gaussian Profile for fitting\n",
      "Catalog Length: 284\n"
     ]
    },
    {
     "name": "stdout",
     "output_type": "stream",
     "text": [
      "\n",
      "+---------------------------------+\n",
      "|Matching catalog sources to image|\n",
      "+---------------------------------+\n",
      "\n",
      "Removed 1 sources too close to target\n",
      "Removed 453 sources too close to boundary or off image\n",
      "Matching catalog to image: 273 / 284 :: Useful sources 146 / 284 "
     ]
    },
    {
     "name": "stderr",
     "output_type": "stream",
     "text": [
      "\n",
      "Median offset: 3.8 [ pixels ] / 1.3 [ arcsec ]\n"
     ]
    },
    {
     "name": "stdout",
     "output_type": "stream",
     "text": [
      "\r",
      "Matching catalog to image: 274 / 284 :: Useful sources 147 / 284 \r",
      "Matching catalog to image: 275 / 284 :: Useful sources 147 / 284 \r",
      "Matching catalog to image: 276 / 284 :: Useful sources 147 / 284 \r",
      "Matching catalog to image: 277 / 284 :: Useful sources 147 / 284 \r",
      "Matching catalog to image: 278 / 284 :: Useful sources 148 / 284 \r",
      "Matching catalog to image: 279 / 284 :: Useful sources 148 / 284 \r",
      "Matching catalog to image: 280 / 284 :: Useful sources 149 / 284 \r",
      "Matching catalog to image: 281 / 284 :: Useful sources 149 / 284 \r",
      "Matching catalog to image: 282 / 284 :: Useful sources 149 / 284 \r",
      "Matching catalog to image: 283 / 284 :: Useful sources 149 / 284 \r",
      "Matching catalog to image: 284 / 284 :: Useful sources 149 / 284   .. done\n",
      "\n",
      "Broken cutouts: 0\n",
      "Not in correct location: 0\n",
      "Not detected: 104\n",
      "Saturated: 32\n",
      "Error: 0\n",
      "\n",
      "\n",
      "+-------------------------------------------+\n",
      "|Building PSF model using stars in the field|\n",
      "+-------------------------------------------+\n",
      "\n"
     ]
    },
    {
     "name": "stderr",
     "output_type": "stream",
     "text": [
      "Residual table updated: 1 / 10 \n",
      "\tSNR: 988 :: FWHM fitted 4.450\n",
      "Residual table updated: 2 / 10 \n",
      "\tSNR: 964 :: FWHM fitted 4.470\n",
      "Residual table updated: 3 / 10 \n",
      "\tSNR: 838 :: FWHM fitted 4.345\n",
      "Residual table updated: 4 / 10 \n",
      "\tSNR: 817 :: FWHM fitted 4.697\n",
      "Residual table updated: 5 / 10 \n",
      "\tSNR: 798 :: FWHM fitted 4.292\n",
      "Residual table updated: 6 / 10 \n",
      "\tSNR: 538 :: FWHM fitted 4.318\n",
      "Residual table updated: 7 / 10 \n",
      "\tSNR: 532 :: FWHM fitted 4.508\n",
      "Residual table updated: 8 / 10 \n",
      "\tSNR: 466 :: FWHM fitted 4.433\n",
      "Residual table updated: 9 / 10 \n",
      "\tSNR: 456 :: FWHM fitted 4.451\n",
      "Residual table updated: 10 / 10 \n",
      "\tSNR: 441 :: FWHM fitted 4.623\n",
      "\n",
      "PSF built using 10 sources\n",
      "\n",
      "Unity PSF: 24.0 [counts] \n",
      "Unity Residual table: 1.4 [counts] \n",
      "Using Aperture Photometry on sequence Stars \n",
      "No PSF sources fitted\n",
      "WARNING: Input data contains invalid values (NaNs or infs), which were automatically clipped. [astropy.stats.sigma_clipping]\n",
      "Input data contains invalid values (NaNs or infs), which were automatically clipped.\n",
      "\n",
      "Mean i-band zeropoint: 25.673 +/- 0.051 \n",
      "\n"
     ]
    },
    {
     "name": "stdout",
     "output_type": "stream",
     "text": [
      "PSF model saved as: /Users/terwelj/Documents/VirtualMachine/Observing_ING/autophot/newtest/at2022acsf_REDUCED/r1645966redCCD4/PSF_model_r1645966redCCD4_APT.fits\n",
      "\n",
      "+-------------------+\n",
      "|Measuring PSF model|\n",
      "+-------------------+\n",
      "\n",
      "\n",
      "+-----------------------+\n",
      "|Finding Zeropoint value|\n",
      "+-----------------------+\n",
      "\n",
      "Checking for suitable catalog sources\n",
      "Removed 114 sources lower than SNR of 25.0\n"
     ]
    },
    {
     "name": "stderr",
     "output_type": "stream",
     "text": [
      "/opt/anaconda3/envs/autophot/lib/python3.7/site-packages/matplotlib/backends/backend_pdf.py:1649: DeprecationWarning: NONE is deprecated and will be removed in Pillow 10 (2023-07-01). Use Resampling.NEAREST or Dither.NONE instead.\n",
      "  img = img.convert(mode='P', dither=Image.NONE,\n",
      "/opt/anaconda3/envs/autophot/lib/python3.7/site-packages/matplotlib/backends/backend_pdf.py:1650: DeprecationWarning: ADAPTIVE is deprecated and will be removed in Pillow 10 (2023-07-01). Use Palette.ADAPTIVE instead.\n",
      "  palette=Image.ADAPTIVE, colors=num_colors)\n",
      "Approx. catalog limiting magnitude: 19.826 [ mag ]\n",
      "Target photometry on original image\n"
     ]
    },
    {
     "name": "stdout",
     "output_type": "stream",
     "text": [
      "\n",
      "+-----------------------------------+\n",
      "|Doing Aperture Photometry on Target|\n",
      "+-----------------------------------+\n",
      "\n"
     ]
    },
    {
     "name": "stderr",
     "output_type": "stream",
     "text": [
      "/opt/anaconda3/envs/autophot/lib/python3.7/site-packages/matplotlib/backends/backend_pdf.py:1649: DeprecationWarning: NONE is deprecated and will be removed in Pillow 10 (2023-07-01). Use Resampling.NEAREST or Dither.NONE instead.\n",
      "  img = img.convert(mode='P', dither=Image.NONE,\n",
      "/opt/anaconda3/envs/autophot/lib/python3.7/site-packages/matplotlib/backends/backend_pdf.py:1650: DeprecationWarning: ADAPTIVE is deprecated and will be removed in Pillow 10 (2023-07-01). Use Palette.ADAPTIVE instead.\n",
      "  palette=Image.ADAPTIVE, colors=num_colors)\n",
      "Approximate Target SNR: 40.3\n",
      "SNR = 40 - skipping limiting magnitude\n",
      "Pixel Offset: 0.000\n",
      "Limiting Magnitude: skipped\n",
      "Target Detection probability: 100 %\n",
      "Target flux: 745.946 +/- 0.000 [counts/s]\n",
      "Noise: 432.080 [counts/s]\n",
      "Target SNR: 40.252 +/- 0.027\n",
      "Instrumental Magnitude: -7.182 +/- 0.000\n",
      "Zeropoint: 25.673 +/- 0.051\n",
      "Target Magnitude: 18.460 +/- 0.063 \n",
      "\n",
      "*** Transient well detected ***\n",
      "\n",
      "Time Taken [ 8408 ]: 50s\n",
      "Sucess: r1645966redCCD4_APT.fits :: PID 8408 \n",
      "\n",
      "File: r1645968redCCD4_APT.fits - PID: 8408\n",
      "Start Time: 2023-01-03 14:36:57.451875\n",
      "Filter keyoward used: WFFBAND\n",
      "Telescope: INT\n",
      "Filter: g\n",
      "MJD: 59926.964\n",
      "Date of Observation : 2022-12-13\n",
      "Read Noise: 5.8 [e^- /pixel]\n",
      "GAIN: 2.9 [e^- /count]\n",
      "Exposure time: 20 [s] \n",
      "Detecting/removing cosmic ray sources\n"
     ]
    },
    {
     "name": "stdout",
     "output_type": "stream",
     "text": [
      "\n",
      "+-----------+\n",
      "|File: 2 / 3|\n",
      "+-----------+\n",
      "\n",
      "Starting Astroscrappy ... "
     ]
    },
    {
     "name": "stderr",
     "output_type": "stream",
     "text": [
      "Contaminated pixels with Cosmic rays removed: 30081\n",
      "Cosmic rays removed - image updated\n",
      "WARNING: FITSFixedWarning: RADECSYS= 'FK5 ' / mean place new (after the 1976 IAU) system \n",
      "the RADECSYS keyword is deprecated, use RADESYSa. [astropy.wcs.wcs]\n",
      "FITSFixedWarning: RADECSYS= 'FK5 ' / mean place new (after the 1976 IAU) system \n",
      "the RADECSYS keyword is deprecated, use RADESYSa.\n",
      "WARNING: FITSFixedWarning: PROJP1 = 1.00000000 / Projection coefficient for primary WCS \n",
      "the PROJPn keyword is deprecated, use PVi_ma. [astropy.wcs.wcs]\n",
      "FITSFixedWarning: PROJP1 = 1.00000000 / Projection coefficient for primary WCS \n",
      "the PROJPn keyword is deprecated, use PVi_ma.\n",
      "WARNING: FITSFixedWarning: PROJP3 = 0.00000000 / Projection coefficient for primary WCS \n",
      "the PROJPn keyword is deprecated, use PVi_ma. [astropy.wcs.wcs]\n",
      "FITSFixedWarning: PROJP3 = 0.00000000 / Projection coefficient for primary WCS \n",
      "the PROJPn keyword is deprecated, use PVi_ma.\n",
      "WARNING: FITSFixedWarning: 'datfix' made the change 'Invalid parameter values: MJD-OBS and DATE-OBS are inconsistent.\n",
      "Changed DATE-OBS from '2022-12-13        ' to '2022-12-13T00:00:00.0''. [astropy.wcs.wcs]\n",
      "FITSFixedWarning: 'datfix' made the change 'Invalid parameter values: MJD-OBS and DATE-OBS are inconsistent.\n",
      "Changed DATE-OBS from '2022-12-13        ' to '2022-12-13T00:00:00.0''.\n",
      "\n",
      "Performing Astrometry.net\n",
      "Removing any pre-existing WCS keys \n",
      "No WCS values found - attempting to solve field\n",
      "ASTROMETRY started...\n",
      "ASTROMETRY finished: 3s\n",
      "Updating WCS keys with new values\n",
      "WCS saved to new file\n",
      "\n",
      "Searching for FWHM\n",
      "Using Gaussian Profile for fitting\n"
     ]
    },
    {
     "name": "stdout",
     "output_type": "stream",
     "text": [
      "\n",
      "+-------------------------------+\n",
      "|Finding Full Width Half Maximum|\n",
      "+-------------------------------+\n",
      "\n"
     ]
    },
    {
     "name": "stderr",
     "output_type": "stream",
     "text": [
      "\n",
      "Number of sources before cleaning [ 25.0 sigma ]: 25 \n",
      "Updating search FWHM value\n"
     ]
    },
    {
     "name": "stdout",
     "output_type": "stream",
     "text": [
      "Updated guess for FWHM: 7.1 pixels \n"
     ]
    },
    {
     "name": "stderr",
     "output_type": "stream",
     "text": [
      "\n",
      "Number of sources before cleaning [ 25.0 sigma ]: 56 \n",
      "Removed 6 crowded sources\n"
     ]
    },
    {
     "name": "stdout",
     "output_type": "stream",
     "text": [
      "Fitting source for FWHM: 50/50  "
     ]
    },
    {
     "name": "stderr",
     "output_type": "stream",
     "text": [
      "Removed 3 saturated sources\n",
      "WARNING: Input data contains invalid values (NaNs or infs), which were automatically clipped. [astropy.stats.sigma_clipping]\n",
      "Input data contains invalid values (NaNs or infs), which were automatically clipped.\n",
      "Removed 4 FWHM outliers\n",
      "WARNING: Input data contains invalid values (NaNs or infs), which were automatically clipped. [astropy.stats.sigma_clipping]\n",
      "Input data contains invalid values (NaNs or infs), which were automatically clipped.\n",
      "Removed 12 median outliers\n",
      "Useable sources found [ 25 sigma ]: 50\n",
      "Removes 2 sources within minimum seperation [ 31 pixel ]\n",
      "\n",
      "FWHM: 6.377 +/- 0.280 [ pixels ]\n",
      "\n",
      "Seeing: 2.113 [ arcsec ]\n",
      "Aperture size: 10.8 pixels\n",
      "Aperture correction: -0.043 +/- 0.011 [ mag ]\n",
      "WARNING: FITSFixedWarning: 'datfix' made the change 'Invalid parameter values: MJD-OBS and DATE-OBS are inconsistent.\n",
      "Changed DATE-OBS from '2022-12-13        ' to '2022-12-13T00:00:00.0''. [astropy.wcs.wcs]\n",
      "FITSFixedWarning: 'datfix' made the change 'Invalid parameter values: MJD-OBS and DATE-OBS are inconsistent.\n",
      "Changed DATE-OBS from '2022-12-13        ' to '2022-12-13T00:00:00.0''.\n",
      "Catalog found for target_ra_49_dec_-17\n",
      "Catalog: PAN_STARRS \n",
      "File: target_ra_49_dec_-17_r_0.25\n",
      "Catalog length: 6056\n",
      "Removed 1808 sources fainter than cutoff [20 mag]\n",
      "Using Gaussian Profile for fitting\n",
      "Catalog Length: 118\n"
     ]
    },
    {
     "name": "stdout",
     "output_type": "stream",
     "text": [
      "\n",
      "+----------------------------------------------+\n",
      "|Searching for catalog for target_ra_49_dec_-17|\n",
      "+----------------------------------------------+\n",
      "\n",
      "\n",
      "+---------------------------------+\n",
      "|Matching catalog sources to image|\n",
      "+---------------------------------+\n",
      "\n",
      "Removed 1 sources too close to target\n",
      "Removed 189 sources too close to boundary or off image\n",
      "Matching catalog to image: 113 / 118 :: Useful sources 77 / 118 "
     ]
    },
    {
     "name": "stderr",
     "output_type": "stream",
     "text": [
      "\n",
      "Median offset: 4.4 [ pixels ] / 1.5 [ arcsec ]\n",
      "Residual table updated: 1 / 10 \n",
      "\tSNR: 506 :: FWHM fitted 6.366\n",
      "Residual table updated: 2 / 10 \n",
      "\tSNR: 450 :: FWHM fitted 6.242\n",
      "Residual table updated: 3 / 10 \n",
      "\tSNR: 425 :: FWHM fitted 6.196\n"
     ]
    },
    {
     "name": "stdout",
     "output_type": "stream",
     "text": [
      "\r",
      "Matching catalog to image: 114 / 118 :: Useful sources 78 / 118 \r",
      "Matching catalog to image: 115 / 118 :: Useful sources 78 / 118 \r",
      "Matching catalog to image: 116 / 118 :: Useful sources 78 / 118 \r",
      "Matching catalog to image: 117 / 118 :: Useful sources 78 / 118 \r",
      "Matching catalog to image: 118 / 118 :: Useful sources 79 / 118   .. done\n",
      "\n",
      "Broken cutouts: 0\n",
      "Not in correct location: 0\n",
      "Not detected: 20\n",
      "Saturated: 20\n",
      "Error: 0\n",
      "\n",
      "\n",
      "+-------------------------------------------+\n",
      "|Building PSF model using stars in the field|\n",
      "+-------------------------------------------+\n",
      "\n"
     ]
    },
    {
     "name": "stderr",
     "output_type": "stream",
     "text": [
      "Residual table updated: 4 / 10 \n",
      "\tSNR: 397 :: FWHM fitted 6.355\n",
      "Residual table updated: 5 / 10 \n",
      "\tSNR: 390 :: FWHM fitted 6.320\n",
      "Residual table updated: 6 / 10 \n",
      "\tSNR: 326 :: FWHM fitted 6.104\n",
      "Residual table updated: 7 / 10 \n",
      "\tSNR: 305 :: FWHM fitted 6.364\n",
      "Residual table updated: 8 / 10 \n",
      "\tSNR: 295 :: FWHM fitted 6.226\n",
      "Residual table updated: 9 / 10 \n",
      "\tSNR: 285 :: FWHM fitted 6.311\n",
      "Residual table updated: 10 / 10 \n",
      "\tSNR: 280 :: FWHM fitted 6.521\n",
      "\n",
      "PSF built using 10 sources\n",
      "\n",
      "Unity PSF: 50.0 [counts] \n",
      "Unity Residual table: 4.4 [counts] \n",
      "Using Aperture Photometry on sequence Stars \n",
      "No PSF sources fitted\n",
      "WARNING: Input data contains invalid values (NaNs or infs), which were automatically clipped. [astropy.stats.sigma_clipping]\n",
      "Input data contains invalid values (NaNs or infs), which were automatically clipped.\n",
      "\n",
      "Mean g-band zeropoint: 26.115 +/- 0.034 \n",
      "\n"
     ]
    },
    {
     "name": "stdout",
     "output_type": "stream",
     "text": [
      "PSF model saved as: /Users/terwelj/Documents/VirtualMachine/Observing_ING/autophot/newtest/at2022acsf_REDUCED/r1645968redCCD4/PSF_model_r1645968redCCD4_APT.fits\n",
      "\n",
      "+-------------------+\n",
      "|Measuring PSF model|\n",
      "+-------------------+\n",
      "\n",
      "\n",
      "+-----------------------+\n",
      "|Finding Zeropoint value|\n",
      "+-----------------------+\n",
      "\n",
      "Checking for suitable catalog sources\n",
      "Removed 64 sources lower than SNR of 25.0\n"
     ]
    },
    {
     "name": "stderr",
     "output_type": "stream",
     "text": [
      "/opt/anaconda3/envs/autophot/lib/python3.7/site-packages/matplotlib/backends/backend_pdf.py:1649: DeprecationWarning: NONE is deprecated and will be removed in Pillow 10 (2023-07-01). Use Resampling.NEAREST or Dither.NONE instead.\n",
      "  img = img.convert(mode='P', dither=Image.NONE,\n",
      "/opt/anaconda3/envs/autophot/lib/python3.7/site-packages/matplotlib/backends/backend_pdf.py:1650: DeprecationWarning: ADAPTIVE is deprecated and will be removed in Pillow 10 (2023-07-01). Use Palette.ADAPTIVE instead.\n",
      "  palette=Image.ADAPTIVE, colors=num_colors)\n",
      "Approx. catalog limiting magnitude: 19.726 [ mag ]\n",
      "Target photometry on original image\n"
     ]
    },
    {
     "name": "stdout",
     "output_type": "stream",
     "text": [
      "\n",
      "+-----------------------------------+\n",
      "|Doing Aperture Photometry on Target|\n",
      "+-----------------------------------+\n",
      "\n"
     ]
    },
    {
     "name": "stderr",
     "output_type": "stream",
     "text": [
      "/opt/anaconda3/envs/autophot/lib/python3.7/site-packages/matplotlib/backends/backend_pdf.py:1649: DeprecationWarning: NONE is deprecated and will be removed in Pillow 10 (2023-07-01). Use Resampling.NEAREST or Dither.NONE instead.\n",
      "  img = img.convert(mode='P', dither=Image.NONE,\n",
      "/opt/anaconda3/envs/autophot/lib/python3.7/site-packages/matplotlib/backends/backend_pdf.py:1650: DeprecationWarning: ADAPTIVE is deprecated and will be removed in Pillow 10 (2023-07-01). Use Palette.ADAPTIVE instead.\n",
      "  palette=Image.ADAPTIVE, colors=num_colors)\n",
      "Approximate Target SNR: 76.3\n",
      "SNR = 76 - skipping limiting magnitude\n",
      "Pixel Offset: 0.000\n",
      "Limiting Magnitude: skipped\n",
      "Target Detection probability: 100 %\n",
      "Target flux: 1481.011 +/- 0.000 [counts/s]\n",
      "Noise: 611.411 [counts/s]\n",
      "Target SNR: 76.304 +/- 0.014\n",
      "Instrumental Magnitude: -7.926 +/- 0.000\n",
      "Zeropoint: 26.115 +/- 0.034\n",
      "Target Magnitude: 18.145 +/- 0.038 \n",
      "\n",
      "*** Transient well detected ***\n",
      "\n",
      "Time Taken [ 8408 ]: 30s\n",
      "Sucess: r1645968redCCD4_APT.fits :: PID 8408 \n",
      "\n",
      "File: r1645967redCCD4_APT.fits - PID: 8408\n",
      "Start Time: 2023-01-03 14:37:27.683750\n",
      "Filter keyoward used: WFFBAND\n",
      "Telescope: INT\n",
      "Filter: r\n",
      "MJD: 59926.963\n",
      "Date of Observation : 2022-12-13\n",
      "Read Noise: 5.8 [e^- /pixel]\n",
      "GAIN: 2.9 [e^- /count]\n",
      "Exposure time: 20 [s] \n",
      "Detecting/removing cosmic ray sources\n"
     ]
    },
    {
     "name": "stdout",
     "output_type": "stream",
     "text": [
      "\n",
      "+-----------+\n",
      "|File: 3 / 3|\n",
      "+-----------+\n",
      "\n",
      "Starting Astroscrappy ... "
     ]
    },
    {
     "name": "stderr",
     "output_type": "stream",
     "text": [
      "Contaminated pixels with Cosmic rays removed: 27433\n",
      "Cosmic rays removed - image updated\n",
      "WARNING: FITSFixedWarning: RADECSYS= 'FK5 ' / mean place new (after the 1976 IAU) system \n",
      "the RADECSYS keyword is deprecated, use RADESYSa. [astropy.wcs.wcs]\n",
      "FITSFixedWarning: RADECSYS= 'FK5 ' / mean place new (after the 1976 IAU) system \n",
      "the RADECSYS keyword is deprecated, use RADESYSa.\n",
      "WARNING: FITSFixedWarning: PROJP1 = 1.00000000 / Projection coefficient for primary WCS \n",
      "the PROJPn keyword is deprecated, use PVi_ma. [astropy.wcs.wcs]\n",
      "FITSFixedWarning: PROJP1 = 1.00000000 / Projection coefficient for primary WCS \n",
      "the PROJPn keyword is deprecated, use PVi_ma.\n",
      "WARNING: FITSFixedWarning: PROJP3 = 0.00000000 / Projection coefficient for primary WCS \n",
      "the PROJPn keyword is deprecated, use PVi_ma. [astropy.wcs.wcs]\n",
      "FITSFixedWarning: PROJP3 = 0.00000000 / Projection coefficient for primary WCS \n",
      "the PROJPn keyword is deprecated, use PVi_ma.\n",
      "WARNING: FITSFixedWarning: 'datfix' made the change 'Invalid parameter values: MJD-OBS and DATE-OBS are inconsistent.\n",
      "Changed DATE-OBS from '2022-12-13        ' to '2022-12-13T00:00:00.0''. [astropy.wcs.wcs]\n",
      "FITSFixedWarning: 'datfix' made the change 'Invalid parameter values: MJD-OBS and DATE-OBS are inconsistent.\n",
      "Changed DATE-OBS from '2022-12-13        ' to '2022-12-13T00:00:00.0''.\n",
      "\n",
      "Performing Astrometry.net\n",
      "Removing any pre-existing WCS keys \n",
      "No WCS values found - attempting to solve field\n",
      "ASTROMETRY started...\n",
      "ASTROMETRY finished: 3s\n",
      "Updating WCS keys with new values\n",
      "WCS saved to new file\n",
      "\n",
      "Searching for FWHM\n",
      "Using Gaussian Profile for fitting\n"
     ]
    },
    {
     "name": "stdout",
     "output_type": "stream",
     "text": [
      "\n",
      "+-------------------------------+\n",
      "|Finding Full Width Half Maximum|\n",
      "+-------------------------------+\n",
      "\n"
     ]
    },
    {
     "name": "stderr",
     "output_type": "stream",
     "text": [
      "\n",
      "Number of sources before cleaning [ 25.0 sigma ]: 25 \n",
      "Updating search FWHM value\n"
     ]
    },
    {
     "name": "stdout",
     "output_type": "stream",
     "text": [
      "Updated guess for FWHM: 5.5 pixels \n"
     ]
    },
    {
     "name": "stderr",
     "output_type": "stream",
     "text": [
      "\n",
      "Number of sources before cleaning [ 25.0 sigma ]: 67 \n",
      "Removed 1 sources near boundary\n",
      "Removed 4 crowded sources\n"
     ]
    },
    {
     "name": "stdout",
     "output_type": "stream",
     "text": [
      "Fitting source for FWHM: 62/62  "
     ]
    },
    {
     "name": "stderr",
     "output_type": "stream",
     "text": [
      "Removed 7 saturated sources\n",
      "WARNING: Input data contains invalid values (NaNs or infs), which were automatically clipped. [astropy.stats.sigma_clipping]\n",
      "Input data contains invalid values (NaNs or infs), which were automatically clipped.\n",
      "Removed 9 FWHM outliers\n",
      "WARNING: Input data contains invalid values (NaNs or infs), which were automatically clipped. [astropy.stats.sigma_clipping]\n",
      "Input data contains invalid values (NaNs or infs), which were automatically clipped.\n",
      "Removed 16 median outliers\n",
      "Useable sources found [ 25 sigma ]: 62\n",
      "Removes 2 sources within minimum seperation [ 23 pixel ]\n",
      "\n",
      "FWHM: 4.724 +/- 0.530 [ pixels ]\n",
      "\n",
      "Seeing: 1.565 [ arcsec ]\n",
      "Aperture size: 8.0 pixels\n",
      "Aperture correction: -0.029 +/- 0.015 [ mag ]\n",
      "WARNING: FITSFixedWarning: 'datfix' made the change 'Invalid parameter values: MJD-OBS and DATE-OBS are inconsistent.\n",
      "Changed DATE-OBS from '2022-12-13        ' to '2022-12-13T00:00:00.0''. [astropy.wcs.wcs]\n",
      "FITSFixedWarning: 'datfix' made the change 'Invalid parameter values: MJD-OBS and DATE-OBS are inconsistent.\n",
      "Changed DATE-OBS from '2022-12-13        ' to '2022-12-13T00:00:00.0''.\n",
      "Catalog found for target_ra_49_dec_-17\n",
      "Catalog: PAN_STARRS \n",
      "File: target_ra_49_dec_-17_r_0.25\n",
      "Catalog length: 6056\n",
      "Removed 2545 sources fainter than cutoff [20 mag]\n",
      "Using Gaussian Profile for fitting\n",
      "Catalog Length: 190\n"
     ]
    },
    {
     "name": "stdout",
     "output_type": "stream",
     "text": [
      "\n",
      "+----------------------------------------------+\n",
      "|Searching for catalog for target_ra_49_dec_-17|\n",
      "+----------------------------------------------+\n",
      "\n",
      "\n",
      "+---------------------------------+\n",
      "|Matching catalog sources to image|\n",
      "+---------------------------------+\n",
      "\n",
      "Removed 1 sources too close to target\n",
      "Removed 302 sources too close to boundary or off image\n",
      "Matching catalog to image: 187 / 190 :: Useful sources 124 / 190 "
     ]
    },
    {
     "name": "stderr",
     "output_type": "stream",
     "text": [
      "\n",
      "Median offset: 4.3 [ pixels ] / 1.4 [ arcsec ]\n",
      "Residual table updated: 1 / 10 \n",
      "\tSNR: 624 :: FWHM fitted 4.389\n",
      "Residual table updated: 2 / 10 \n",
      "\tSNR: 595 :: FWHM fitted 4.699\n"
     ]
    },
    {
     "name": "stdout",
     "output_type": "stream",
     "text": [
      "\r",
      "Matching catalog to image: 188 / 190 :: Useful sources 125 / 190 \r",
      "Matching catalog to image: 189 / 190 :: Useful sources 126 / 190 \r",
      "Matching catalog to image: 190 / 190 :: Useful sources 127 / 190   .. done\n",
      "\n",
      "Broken cutouts: 0\n",
      "Not in correct location: 0\n",
      "Not detected: 44\n",
      "Saturated: 20\n",
      "Error: 0\n",
      "\n",
      "\n",
      "+-------------------------------------------+\n",
      "|Building PSF model using stars in the field|\n",
      "+-------------------------------------------+\n",
      "\n"
     ]
    },
    {
     "name": "stderr",
     "output_type": "stream",
     "text": [
      "Residual table updated: 3 / 10 \n",
      "\tSNR: 574 :: FWHM fitted 4.447\n",
      "Residual table updated: 4 / 10 \n",
      "\tSNR: 506 :: FWHM fitted 4.627\n",
      "Residual table updated: 5 / 10 \n",
      "\tSNR: 456 :: FWHM fitted 4.559\n",
      "Residual table updated: 6 / 10 \n",
      "\tSNR: 423 :: FWHM fitted 4.545\n",
      "Residual table updated: 7 / 10 \n",
      "\tSNR: 390 :: FWHM fitted 4.657\n",
      "Residual table updated: 8 / 10 \n",
      "\tSNR: 381 :: FWHM fitted 4.518\n",
      "Residual table updated: 9 / 10 \n",
      "\tSNR: 366 :: FWHM fitted 4.776\n",
      "Residual table updated: 10 / 10 \n",
      "\tSNR: 347 :: FWHM fitted 4.605\n",
      "\n",
      "PSF built using 10 sources\n",
      "\n",
      "Unity PSF: 25.9 [counts] \n",
      "Unity Residual table: 1.4 [counts] \n",
      "Using Aperture Photometry on sequence Stars \n",
      "No PSF sources fitted\n",
      "WARNING: Input data contains invalid values (NaNs or infs), which were automatically clipped. [astropy.stats.sigma_clipping]\n",
      "Input data contains invalid values (NaNs or infs), which were automatically clipped.\n",
      "\n",
      "Mean r-band zeropoint: 25.982 +/- 0.037 \n",
      "\n"
     ]
    },
    {
     "name": "stdout",
     "output_type": "stream",
     "text": [
      "PSF model saved as: /Users/terwelj/Documents/VirtualMachine/Observing_ING/autophot/newtest/at2022acsf_REDUCED/r1645967redCCD4/PSF_model_r1645967redCCD4_APT.fits\n",
      "\n",
      "+-------------------+\n",
      "|Measuring PSF model|\n",
      "+-------------------+\n",
      "\n",
      "\n",
      "+-----------------------+\n",
      "|Finding Zeropoint value|\n",
      "+-----------------------+\n",
      "\n",
      "Checking for suitable catalog sources\n",
      "Removed 96 sources lower than SNR of 25.0\n"
     ]
    },
    {
     "name": "stderr",
     "output_type": "stream",
     "text": [
      "/opt/anaconda3/envs/autophot/lib/python3.7/site-packages/matplotlib/backends/backend_pdf.py:1649: DeprecationWarning: NONE is deprecated and will be removed in Pillow 10 (2023-07-01). Use Resampling.NEAREST or Dither.NONE instead.\n",
      "  img = img.convert(mode='P', dither=Image.NONE,\n",
      "/opt/anaconda3/envs/autophot/lib/python3.7/site-packages/matplotlib/backends/backend_pdf.py:1650: DeprecationWarning: ADAPTIVE is deprecated and will be removed in Pillow 10 (2023-07-01). Use Palette.ADAPTIVE instead.\n",
      "  palette=Image.ADAPTIVE, colors=num_colors)\n",
      "Approx. catalog limiting magnitude: 19.49 [ mag ]\n",
      "Target photometry on original image\n"
     ]
    },
    {
     "name": "stdout",
     "output_type": "stream",
     "text": [
      "\n",
      "+-----------------------------------+\n",
      "|Doing Aperture Photometry on Target|\n",
      "+-----------------------------------+\n",
      "\n"
     ]
    },
    {
     "name": "stderr",
     "output_type": "stream",
     "text": [
      "/opt/anaconda3/envs/autophot/lib/python3.7/site-packages/matplotlib/backends/backend_pdf.py:1649: DeprecationWarning: NONE is deprecated and will be removed in Pillow 10 (2023-07-01). Use Resampling.NEAREST or Dither.NONE instead.\n",
      "  img = img.convert(mode='P', dither=Image.NONE,\n",
      "/opt/anaconda3/envs/autophot/lib/python3.7/site-packages/matplotlib/backends/backend_pdf.py:1650: DeprecationWarning: ADAPTIVE is deprecated and will be removed in Pillow 10 (2023-07-01). Use Palette.ADAPTIVE instead.\n",
      "  palette=Image.ADAPTIVE, colors=num_colors)\n",
      "Approximate Target SNR: 63.2\n",
      "SNR = 63 - skipping limiting magnitude\n",
      "Pixel Offset: 0.000\n",
      "Limiting Magnitude: skipped\n",
      "Target Detection probability: 100 %\n",
      "Target flux: 1167.287 +/- 0.000 [counts/s]\n",
      "Noise: 466.978 [counts/s]\n",
      "Target SNR: 63.211 +/- 0.017\n",
      "Instrumental Magnitude: -7.668 +/- 0.000\n",
      "Zeropoint: 25.982 +/- 0.037\n",
      "Target Magnitude: 18.285 +/- 0.044 \n",
      "\n",
      "*** Transient well detected ***\n",
      "\n",
      "Time Taken [ 8408 ]: 34s\n",
      "Sucess: r1645967redCCD4_APT.fits :: PID 8408 \n",
      "\n",
      "\n",
      "User instrument database: /Users/terwelj/Documents/VirtualMachine/Observing_ING/autophot/newtest/telescope.yml\n",
      "\n",
      "Number of files: 6\n",
      "\n",
      "1 telescope(s) detected - checking header keywords\n",
      "\n"
     ]
    },
    {
     "name": "stdout",
     "output_type": "stream",
     "text": [
      "\n",
      "---\n",
      "\n",
      "Files that failed : []\n",
      "\n",
      "DONE\n",
      "\n",
      "Done - Time Taken: 114.4\n",
      "Photometry successfully extracted from all images\n",
      "\n",
      "\n",
      "Running AutoPHOT on ZTF22ablxcrh, ra = 318.2908053, dec = 12.8433689\n",
      "\n",
      "\n",
      "Default input loaded in from: \n",
      "/opt/anaconda3/envs/autophot/lib/python3.7/site-packages/autophot/databases/default_input.yml\n",
      "\n",
      "        _       _       ___ _  _    _____\n",
      "       /_\\ _  _| |_ ___| _ \\ || |__|_   _|\n",
      "      / _ \\ || |  _/ _ \\  _/ __ / _ \\| |\n",
      "     /_/ \\_\\_,_|\\__\\___/_| |_||_\\___/|_|\n",
      "    \n",
      "     ---------------------------------------\n",
      "        Automated Photometry of Transients\n",
      "        S. J. Brennan et al. 2021 \n",
      "        Please provide feedback/bugs to:\n",
      "        Email: sean.brennan2@ucdconnect.ie\n",
      "    ---------------------------------------\n",
      "Directory of fits file: /Users/terwelj/Documents/VirtualMachine/Observing_ING/autophot/newtest/ZTF22ablxcrh\n",
      "Found Telescopes:\n",
      "\n",
      " - INT\n",
      "\n",
      "-> Telescope check complete\n",
      "\n",
      "Checking Filter keywords and database\n",
      "\n",
      "-> Filter check complete\n",
      "\n",
      "Checking Filter information for each image\n",
      "\n",
      "Files removed - Wrong Image Type: 0\n",
      "\n",
      "Files removed - No/Wrong filter(s): 3\n",
      "Filters not included: [U, V, B]\n",
      "\n",
      "\n",
      "Files removed: 3\n",
      "\n",
      "+-----------+\n",
      "|File: 1 / 3|\n",
      "+-----------+\n",
      "\n"
     ]
    },
    {
     "name": "stderr",
     "output_type": "stream",
     "text": [
      "File: r1639498redCCD4_APT.fits - PID: 8408\n",
      "Start Time: 2023-01-03 14:38:02.288159\n",
      "Filter keyoward used: WFFBAND\n",
      "Telescope: INT\n",
      "Filter: g\n",
      "MJD: 59896.876\n",
      "Date of Observation : 2022-11-13\n",
      "Read Noise: 5.8 [e^- /pixel]\n",
      "GAIN: 2.9 [e^- /count]\n",
      "Exposure time: 200 [s] \n",
      "Detecting/removing cosmic ray sources\n"
     ]
    },
    {
     "name": "stdout",
     "output_type": "stream",
     "text": [
      "Starting Astroscrappy ... "
     ]
    },
    {
     "name": "stderr",
     "output_type": "stream",
     "text": [
      "Contaminated pixels with Cosmic rays removed: 24957\n",
      "Cosmic rays removed - image updated\n",
      "WARNING: FITSFixedWarning: RADECSYS= 'FK5 ' / mean place new (after the 1976 IAU) system \n",
      "the RADECSYS keyword is deprecated, use RADESYSa. [astropy.wcs.wcs]\n",
      "FITSFixedWarning: RADECSYS= 'FK5 ' / mean place new (after the 1976 IAU) system \n",
      "the RADECSYS keyword is deprecated, use RADESYSa.\n",
      "WARNING: FITSFixedWarning: PROJP1 = 1.00000000 / Projection coefficient for primary WCS \n",
      "the PROJPn keyword is deprecated, use PVi_ma. [astropy.wcs.wcs]\n",
      "FITSFixedWarning: PROJP1 = 1.00000000 / Projection coefficient for primary WCS \n",
      "the PROJPn keyword is deprecated, use PVi_ma.\n",
      "WARNING: FITSFixedWarning: PROJP3 = 0.00000000 / Projection coefficient for primary WCS \n",
      "the PROJPn keyword is deprecated, use PVi_ma. [astropy.wcs.wcs]\n",
      "FITSFixedWarning: PROJP3 = 0.00000000 / Projection coefficient for primary WCS \n",
      "the PROJPn keyword is deprecated, use PVi_ma.\n",
      "WARNING: FITSFixedWarning: 'datfix' made the change 'Invalid parameter values: MJD-OBS and DATE-OBS are inconsistent.\n",
      "Changed DATE-OBS from '2022-11-13        ' to '2022-11-13T00:00:00.0''. [astropy.wcs.wcs]\n",
      "FITSFixedWarning: 'datfix' made the change 'Invalid parameter values: MJD-OBS and DATE-OBS are inconsistent.\n",
      "Changed DATE-OBS from '2022-11-13        ' to '2022-11-13T00:00:00.0''.\n",
      "\n",
      "Performing Astrometry.net\n",
      "Removing any pre-existing WCS keys \n",
      "No WCS values found - attempting to solve field\n",
      "ASTROMETRY started...\n",
      "ASTROMETRY finished: 4s\n",
      "Updating WCS keys with new values\n",
      "WCS saved to new file\n",
      "\n",
      "Searching for FWHM\n",
      "Using Gaussian Profile for fitting\n"
     ]
    },
    {
     "name": "stdout",
     "output_type": "stream",
     "text": [
      "\n",
      "+-------------------------------+\n",
      "|Finding Full Width Half Maximum|\n",
      "+-------------------------------+\n",
      "\n"
     ]
    },
    {
     "name": "stderr",
     "output_type": "stream",
     "text": [
      "\n",
      "Number of sources before cleaning [ 25.0 sigma ]: 25 \n",
      "Updating search FWHM value\n"
     ]
    },
    {
     "name": "stdout",
     "output_type": "stream",
     "text": [
      "Updated guess for FWHM: 6.6 pixels \n"
     ]
    },
    {
     "name": "stderr",
     "output_type": "stream",
     "text": [
      "\n",
      "Number of sources before cleaning [ 25.0 sigma ]: 545 \n",
      "Too many sources - increasing threshold\n",
      "\n",
      "Number of sources before cleaning [ 50.0 sigma ]: 409 \n",
      "Too many sources - increasing threshold\n",
      "\n",
      "Number of sources before cleaning [ 100.0 sigma ]: 302 \n",
      "Too many sources - increasing threshold\n",
      "\n",
      "Number of sources before cleaning [ 200.0 sigma ]: 222 \n",
      "Removed 10 sources near boundary\n",
      "Removed 57 crowded sources\n"
     ]
    },
    {
     "name": "stdout",
     "output_type": "stream",
     "text": [
      "Fitting source for FWHM: 155/155   "
     ]
    },
    {
     "name": "stderr",
     "output_type": "stream",
     "text": [
      "Removed 55 saturated sources\n",
      "WARNING: Input data contains invalid values (NaNs or infs), which were automatically clipped. [astropy.stats.sigma_clipping]\n",
      "Input data contains invalid values (NaNs or infs), which were automatically clipped.\n",
      "Removed 61 FWHM outliers\n",
      "WARNING: Input data contains invalid values (NaNs or infs), which were automatically clipped. [astropy.stats.sigma_clipping]\n",
      "Input data contains invalid values (NaNs or infs), which were automatically clipped.\n",
      "Removed 67 median outliers\n",
      "Useable sources found [ 200 sigma ]: 155\n",
      "Removes 6 sources within minimum seperation [ 31 pixel ]\n",
      "\n",
      "FWHM: 6.254 +/- 0.115 [ pixels ]\n",
      "\n",
      "Seeing: 2.076 [ arcsec ]\n",
      "Aperture size: 10.6 pixels\n",
      "Aperture correction: -0.027 +/- 0.003 [ mag ]\n",
      "WARNING: FITSFixedWarning: 'datfix' made the change 'Invalid parameter values: MJD-OBS and DATE-OBS are inconsistent.\n",
      "Changed DATE-OBS from '2022-11-13        ' to '2022-11-13T00:00:00.0''. [astropy.wcs.wcs]\n",
      "FITSFixedWarning: 'datfix' made the change 'Invalid parameter values: MJD-OBS and DATE-OBS are inconsistent.\n",
      "Changed DATE-OBS from '2022-11-13        ' to '2022-11-13T00:00:00.0''.\n",
      "Searching for new catalog [sdss] for target_ra_318_dec_13 \n",
      "Catalog retireval failed!\n",
      "ERROR: list index out of range\n",
      " Returning None\n",
      "'NoneType' object is not subscriptable\n",
      "Traceback (most recent call last):\n",
      "  File \"/opt/anaconda3/envs/autophot/lib/python3.7/site-packages/autophot/packages/main.py\", line 1136, in main\n",
      "    plot_catalog_nondetections =  autophot_input['catalog']['plot_catalog_nondetections'])\n",
      "  File \"/opt/anaconda3/envs/autophot/lib/python3.7/site-packages/autophot/packages/call_catalog.py\", line 479, in match\n",
      "    chosen_catalog = chosen_catalog[~np.isnan(chosen_catalog[catalog_keywords[image_filter]])]\n",
      "TypeError: 'NoneType' object is not subscriptable\n",
      "Failure: r1639498redCCD4_APT.fits - PID: 8408\n",
      "File: r1639501redCCD4_APT.fits - PID: 8408\n",
      "Start Time: 2023-01-03 14:38:28.721870\n"
     ]
    },
    {
     "name": "stdout",
     "output_type": "stream",
     "text": [
      "\n",
      "+----------------------------------------------+\n",
      "|Searching for catalog for target_ra_318_dec_13|\n",
      "+----------------------------------------------+\n",
      "\n",
      "\n",
      "+---------------------------------+\n",
      "|Matching catalog sources to image|\n",
      "+---------------------------------+\n",
      "\n",
      "\n",
      "+-----------+\n",
      "|File: 2 / 3|\n",
      "+-----------+\n",
      "\n"
     ]
    },
    {
     "name": "stderr",
     "output_type": "stream",
     "text": [
      "Filter keyoward used: WFFBAND\n",
      "Telescope: INT\n",
      "Filter: i\n",
      "MJD: 59896.887\n",
      "Date of Observation : 2022-11-13\n",
      "Read Noise: 5.8 [e^- /pixel]\n",
      "GAIN: 2.9 [e^- /count]\n",
      "Exposure time: 600 [s] \n",
      "Detecting/removing cosmic ray sources\n"
     ]
    },
    {
     "name": "stdout",
     "output_type": "stream",
     "text": [
      "Starting Astroscrappy ... "
     ]
    },
    {
     "name": "stderr",
     "output_type": "stream",
     "text": [
      "Contaminated pixels with Cosmic rays removed: 36973\n",
      "Cosmic rays removed - image updated\n",
      "WARNING: FITSFixedWarning: RADECSYS= 'FK5 ' / mean place new (after the 1976 IAU) system \n",
      "the RADECSYS keyword is deprecated, use RADESYSa. [astropy.wcs.wcs]\n",
      "FITSFixedWarning: RADECSYS= 'FK5 ' / mean place new (after the 1976 IAU) system \n",
      "the RADECSYS keyword is deprecated, use RADESYSa.\n",
      "WARNING: FITSFixedWarning: PROJP1 = 1.00000000 / Projection coefficient for primary WCS \n",
      "the PROJPn keyword is deprecated, use PVi_ma. [astropy.wcs.wcs]\n",
      "FITSFixedWarning: PROJP1 = 1.00000000 / Projection coefficient for primary WCS \n",
      "the PROJPn keyword is deprecated, use PVi_ma.\n",
      "WARNING: FITSFixedWarning: PROJP3 = 0.00000000 / Projection coefficient for primary WCS \n",
      "the PROJPn keyword is deprecated, use PVi_ma. [astropy.wcs.wcs]\n",
      "FITSFixedWarning: PROJP3 = 0.00000000 / Projection coefficient for primary WCS \n",
      "the PROJPn keyword is deprecated, use PVi_ma.\n",
      "WARNING: FITSFixedWarning: 'datfix' made the change 'Invalid parameter values: MJD-OBS and DATE-OBS are inconsistent.\n",
      "Changed DATE-OBS from '2022-11-13        ' to '2022-11-13T00:00:00.0''. [astropy.wcs.wcs]\n",
      "FITSFixedWarning: 'datfix' made the change 'Invalid parameter values: MJD-OBS and DATE-OBS are inconsistent.\n",
      "Changed DATE-OBS from '2022-11-13        ' to '2022-11-13T00:00:00.0''.\n",
      "\n",
      "Performing Astrometry.net\n",
      "Removing any pre-existing WCS keys \n",
      "No WCS values found - attempting to solve field\n",
      "ASTROMETRY started...\n",
      "ASTROMETRY finished: 4s\n",
      "Updating WCS keys with new values\n",
      "WCS saved to new file\n",
      "\n",
      "Searching for FWHM\n",
      "Using Gaussian Profile for fitting\n"
     ]
    },
    {
     "name": "stdout",
     "output_type": "stream",
     "text": [
      "\n",
      "+-------------------------------+\n",
      "|Finding Full Width Half Maximum|\n",
      "+-------------------------------+\n",
      "\n"
     ]
    },
    {
     "name": "stderr",
     "output_type": "stream",
     "text": [
      "\n",
      "Number of sources before cleaning [ 25.0 sigma ]: 25 \n",
      "Updating search FWHM value\n"
     ]
    },
    {
     "name": "stdout",
     "output_type": "stream",
     "text": [
      "zero-size array to reduction operation fmax which has no identity\n",
      "Updated guess for FWHM: 5.9 pixels \n"
     ]
    },
    {
     "name": "stderr",
     "output_type": "stream",
     "text": [
      "\n",
      "Number of sources before cleaning [ 25.0 sigma ]: 550 \n",
      "Too many sources - increasing threshold\n",
      "\n",
      "Number of sources before cleaning [ 50.0 sigma ]: 402 \n",
      "Too many sources - increasing threshold\n",
      "\n",
      "Number of sources before cleaning [ 100.0 sigma ]: 277 \n",
      "Removed 11 sources near boundary\n",
      "Removed 117 crowded sources\n"
     ]
    },
    {
     "name": "stdout",
     "output_type": "stream",
     "text": [
      "Fitting source for FWHM: 149/149                 "
     ]
    },
    {
     "name": "stderr",
     "output_type": "stream",
     "text": [
      "Removed 149 saturated sources\n",
      "WARNING: Input data contains invalid values (NaNs or infs), which were automatically clipped. [astropy.stats.sigma_clipping]\n",
      "Input data contains invalid values (NaNs or infs), which were automatically clipped.\n",
      "Removed 149 FWHM outliers\n",
      "WARNING: Input data contains invalid values (NaNs or infs), which were automatically clipped. [astropy.stats.sigma_clipping]\n",
      "Input data contains invalid values (NaNs or infs), which were automatically clipped.\n",
      "Useable sources found [ 100 sigma ]: 149\n",
      "/opt/anaconda3/envs/autophot/lib/python3.7/site-packages/autophot/packages/find.py:971: RuntimeWarning: Mean of empty slice\n",
      "  image_fwhm =  np.nanmean(fwhm_array)\n",
      "cannot convert float NaN to integer\n",
      "Traceback (most recent call last):\n",
      "  File \"/opt/anaconda3/envs/autophot/lib/python3.7/site-packages/autophot/packages/find.py\", line 979, in get_fwhm\n",
      "    logger.info('Removes %d sources within minimum seperation [ %d pixel ]' % (np.sum(too_close),(isolate_sources_fwhm_sep * image_fwhm)))\n",
      "ValueError: cannot convert float NaN to integer\n",
      "/opt/anaconda3/envs/autophot/lib/python3.7/site-packages/autophot/packages/find.py:1013: RuntimeWarning: Mean of empty slice\n",
      "  image_fwhm = np.nanmean(isolated_sources['FWHM'].values)\n",
      "/opt/anaconda3/envs/autophot/lib/python3.7/site-packages/numpy/lib/nanfunctions.py:1671: RuntimeWarning: Degrees of freedom <= 0 for slice.\n",
      "  keepdims=keepdims)\n",
      "cannot convert float NaN to integer\n",
      "Traceback (most recent call last):\n",
      "  File \"/opt/anaconda3/envs/autophot/lib/python3.7/site-packages/autophot/packages/find.py\", line 1026, in get_fwhm\n",
      "    scale = int(np.ceil(scale_multipler * image_fwhm)) + 0.5\n",
      "ValueError: cannot convert float NaN to integer\n",
      "'float' object is not subscriptable\n",
      "Traceback (most recent call last):\n",
      "  File \"/opt/anaconda3/envs/autophot/lib/python3.7/site-packages/autophot/packages/main.py\", line 996, in main\n",
      "    image_fwhm_err = np.nanstd(df['FWHM'])\n",
      "TypeError: 'float' object is not subscriptable\n",
      "Failure: r1639501redCCD4_APT.fits - PID: 8408\n"
     ]
    },
    {
     "name": "stdout",
     "output_type": "stream",
     "text": [
      "\n",
      "+-----------+\n",
      "|File: 3 / 3|\n",
      "+-----------+\n",
      "\n"
     ]
    },
    {
     "name": "stderr",
     "output_type": "stream",
     "text": [
      "File: r1639500redCCD4_APT.fits - PID: 8408\n",
      "Start Time: 2023-01-03 14:38:51.260981\n",
      "Filter keyoward used: WFFBAND\n",
      "Telescope: INT\n",
      "Filter: r\n",
      "MJD: 59896.883\n",
      "Date of Observation : 2022-11-13\n",
      "Read Noise: 5.8 [e^- /pixel]\n",
      "GAIN: 2.9 [e^- /count]\n",
      "Exposure time: 200 [s] \n",
      "Detecting/removing cosmic ray sources\n"
     ]
    },
    {
     "name": "stdout",
     "output_type": "stream",
     "text": [
      "Starting Astroscrappy ... "
     ]
    },
    {
     "name": "stderr",
     "output_type": "stream",
     "text": [
      "Contaminated pixels with Cosmic rays removed: 30492\n",
      "Cosmic rays removed - image updated\n",
      "WARNING: FITSFixedWarning: RADECSYS= 'FK5 ' / mean place new (after the 1976 IAU) system \n",
      "the RADECSYS keyword is deprecated, use RADESYSa. [astropy.wcs.wcs]\n",
      "FITSFixedWarning: RADECSYS= 'FK5 ' / mean place new (after the 1976 IAU) system \n",
      "the RADECSYS keyword is deprecated, use RADESYSa.\n",
      "WARNING: FITSFixedWarning: PROJP1 = 1.00000000 / Projection coefficient for primary WCS \n",
      "the PROJPn keyword is deprecated, use PVi_ma. [astropy.wcs.wcs]\n",
      "FITSFixedWarning: PROJP1 = 1.00000000 / Projection coefficient for primary WCS \n",
      "the PROJPn keyword is deprecated, use PVi_ma.\n",
      "WARNING: FITSFixedWarning: PROJP3 = 0.00000000 / Projection coefficient for primary WCS \n",
      "the PROJPn keyword is deprecated, use PVi_ma. [astropy.wcs.wcs]\n",
      "FITSFixedWarning: PROJP3 = 0.00000000 / Projection coefficient for primary WCS \n",
      "the PROJPn keyword is deprecated, use PVi_ma.\n",
      "WARNING: FITSFixedWarning: 'datfix' made the change 'Invalid parameter values: MJD-OBS and DATE-OBS are inconsistent.\n",
      "Changed DATE-OBS from '2022-11-13        ' to '2022-11-13T00:00:00.0''. [astropy.wcs.wcs]\n",
      "FITSFixedWarning: 'datfix' made the change 'Invalid parameter values: MJD-OBS and DATE-OBS are inconsistent.\n",
      "Changed DATE-OBS from '2022-11-13        ' to '2022-11-13T00:00:00.0''.\n",
      "\n",
      "Performing Astrometry.net\n",
      "Removing any pre-existing WCS keys \n",
      "No WCS values found - attempting to solve field\n",
      "ASTROMETRY started...\n",
      "ASTROMETRY finished: 3s\n",
      "Updating WCS keys with new values\n",
      "WCS saved to new file\n",
      "\n",
      "Searching for FWHM\n",
      "Using Gaussian Profile for fitting\n"
     ]
    },
    {
     "name": "stdout",
     "output_type": "stream",
     "text": [
      "\n",
      "+-------------------------------+\n",
      "|Finding Full Width Half Maximum|\n",
      "+-------------------------------+\n",
      "\n"
     ]
    },
    {
     "name": "stderr",
     "output_type": "stream",
     "text": [
      "\n",
      "Number of sources before cleaning [ 25.0 sigma ]: 25 \n",
      "Updating search FWHM value\n"
     ]
    },
    {
     "name": "stdout",
     "output_type": "stream",
     "text": [
      "Updated guess for FWHM: 6.1 pixels \n"
     ]
    },
    {
     "name": "stderr",
     "output_type": "stream",
     "text": [
      "\n",
      "Number of sources before cleaning [ 25.0 sigma ]: 712 \n",
      "Too many sources - increasing threshold\n",
      "\n",
      "Number of sources before cleaning [ 50.0 sigma ]: 518 \n",
      "Too many sources - increasing threshold\n",
      "\n",
      "Number of sources before cleaning [ 100.0 sigma ]: 380 \n",
      "Too many sources - increasing threshold\n",
      "\n",
      "Number of sources before cleaning [ 200.0 sigma ]: 272 \n",
      "Removed 9 sources near boundary\n",
      "Removed 73 crowded sources\n"
     ]
    },
    {
     "name": "stdout",
     "output_type": "stream",
     "text": [
      "Fitting source for FWHM: 190/190       "
     ]
    },
    {
     "name": "stderr",
     "output_type": "stream",
     "text": [
      "Removed 86 saturated sources\n",
      "WARNING: Input data contains invalid values (NaNs or infs), which were automatically clipped. [astropy.stats.sigma_clipping]\n",
      "Input data contains invalid values (NaNs or infs), which were automatically clipped.\n",
      "Removed 93 FWHM outliers\n",
      "WARNING: Input data contains invalid values (NaNs or infs), which were automatically clipped. [astropy.stats.sigma_clipping]\n",
      "Input data contains invalid values (NaNs or infs), which were automatically clipped.\n",
      "Removed 96 median outliers\n",
      "Useable sources found [ 200 sigma ]: 190\n",
      "Removes 8 sources within minimum seperation [ 28 pixel ]\n",
      "\n",
      "FWHM: 5.662 +/- 0.274 [ pixels ]\n",
      "\n",
      "Seeing: 1.880 [ arcsec ]\n",
      "Aperture size: 9.6 pixels\n",
      "Aperture correction: -0.027 +/- 0.004 [ mag ]\n",
      "WARNING: FITSFixedWarning: 'datfix' made the change 'Invalid parameter values: MJD-OBS and DATE-OBS are inconsistent.\n",
      "Changed DATE-OBS from '2022-11-13        ' to '2022-11-13T00:00:00.0''. [astropy.wcs.wcs]\n",
      "FITSFixedWarning: 'datfix' made the change 'Invalid parameter values: MJD-OBS and DATE-OBS are inconsistent.\n",
      "Changed DATE-OBS from '2022-11-13        ' to '2022-11-13T00:00:00.0''.\n",
      "Searching for new catalog [sdss] for target_ra_318_dec_13 \n",
      "Catalog retireval failed!\n",
      "ERROR: list index out of range\n",
      " Returning None\n",
      "'NoneType' object is not subscriptable\n",
      "Traceback (most recent call last):\n",
      "  File \"/opt/anaconda3/envs/autophot/lib/python3.7/site-packages/autophot/packages/main.py\", line 1136, in main\n",
      "    plot_catalog_nondetections =  autophot_input['catalog']['plot_catalog_nondetections'])\n",
      "  File \"/opt/anaconda3/envs/autophot/lib/python3.7/site-packages/autophot/packages/call_catalog.py\", line 479, in match\n",
      "    chosen_catalog = chosen_catalog[~np.isnan(chosen_catalog[catalog_keywords[image_filter]])]\n",
      "TypeError: 'NoneType' object is not subscriptable\n",
      "Failure: r1639500redCCD4_APT.fits - PID: 8408\n",
      "\n",
      "User instrument database: /Users/terwelj/Documents/VirtualMachine/Observing_ING/autophot/newtest/telescope.yml\n",
      "\n",
      "Number of files: 6\n",
      "\n",
      "1 telescope(s) detected - checking header keywords\n",
      "\n"
     ]
    },
    {
     "name": "stdout",
     "output_type": "stream",
     "text": [
      "\n",
      "+----------------------------------------------+\n",
      "|Searching for catalog for target_ra_318_dec_13|\n",
      "+----------------------------------------------+\n",
      "\n",
      "\n",
      "+---------------------------------+\n",
      "|Matching catalog sources to image|\n",
      "+---------------------------------+\n",
      "\n",
      "\n",
      "---\n",
      "\n",
      "Files that failed : ['/Users/terwelj/Documents/VirtualMachine/Observing_ING/autophot/newtest/ZTF22ablxcrh_REDUCED/r1639498redCCD4/r1639498redCCD4_APT.fits', '/Users/terwelj/Documents/VirtualMachine/Observing_ING/autophot/newtest/ZTF22ablxcrh_REDUCED/r1639501redCCD4/r1639501redCCD4_APT.fits', '/Users/terwelj/Documents/VirtualMachine/Observing_ING/autophot/newtest/ZTF22ablxcrh_REDUCED/r1639500redCCD4/r1639500redCCD4_APT.fits']\n",
      "\n",
      "DONE\n",
      "\n",
      "Done - Time Taken: 74.3\n",
      "\n",
      "        _       _       ___ _  _    _____\n",
      "       /_\\ _  _| |_ ___| _ \\ || |__|_   _|\n",
      "      / _ \\ || |  _/ _ \\  _/ __ / _ \\| |\n",
      "     /_/ \\_\\_,_|\\__\\___/_| |_||_\\___/|_|\n",
      "    \n",
      "     ---------------------------------------\n",
      "        Automated Photometry of Transients\n",
      "        S. J. Brennan et al. 2021 \n",
      "        Please provide feedback/bugs to:\n",
      "        Email: sean.brennan2@ucdconnect.ie\n",
      "    ---------------------------------------\n",
      "Directory of fits file: /Users/terwelj/Documents/VirtualMachine/Observing_ING/autophot/newtest/ZTF22ablxcrh\n",
      "Found Telescopes:\n",
      "\n",
      " - INT\n",
      "\n",
      "-> Telescope check complete\n",
      "\n",
      "Checking Filter keywords and database\n",
      "\n",
      "-> Filter check complete\n",
      "\n",
      "Checking Filter information for each image\n",
      "\n",
      "Files removed - Wrong Image Type: 0\n",
      "\n",
      "Files removed - No/Wrong filter(s): 3\n",
      "Filters not included: [U, V, B]\n",
      "\n",
      "\n",
      "Files removed: 3\n",
      "\n",
      "+-----------+\n",
      "|File: 1 / 3|\n",
      "+-----------+\n",
      "\n"
     ]
    },
    {
     "name": "stderr",
     "output_type": "stream",
     "text": [
      "File: r1639498redCCD4_APT.fits - PID: 8408\n",
      "Start Time: 2023-01-03 14:39:16.557509\n",
      "Filter keyoward used: WFFBAND\n",
      "Telescope: INT\n",
      "Filter: g\n",
      "MJD: 59896.876\n",
      "Date of Observation : 2022-11-13\n",
      "Read Noise: 5.8 [e^- /pixel]\n",
      "GAIN: 2.9 [e^- /count]\n",
      "Exposure time: 200 [s] \n",
      "Detecting/removing cosmic ray sources\n"
     ]
    },
    {
     "name": "stdout",
     "output_type": "stream",
     "text": [
      "Starting Astroscrappy ... "
     ]
    },
    {
     "name": "stderr",
     "output_type": "stream",
     "text": [
      "Contaminated pixels with Cosmic rays removed: 24957\n",
      "Cosmic rays removed - image updated\n",
      "WARNING: FITSFixedWarning: RADECSYS= 'FK5 ' / mean place new (after the 1976 IAU) system \n",
      "the RADECSYS keyword is deprecated, use RADESYSa. [astropy.wcs.wcs]\n",
      "FITSFixedWarning: RADECSYS= 'FK5 ' / mean place new (after the 1976 IAU) system \n",
      "the RADECSYS keyword is deprecated, use RADESYSa.\n",
      "WARNING: FITSFixedWarning: PROJP1 = 1.00000000 / Projection coefficient for primary WCS \n",
      "the PROJPn keyword is deprecated, use PVi_ma. [astropy.wcs.wcs]\n",
      "FITSFixedWarning: PROJP1 = 1.00000000 / Projection coefficient for primary WCS \n",
      "the PROJPn keyword is deprecated, use PVi_ma.\n",
      "WARNING: FITSFixedWarning: PROJP3 = 0.00000000 / Projection coefficient for primary WCS \n",
      "the PROJPn keyword is deprecated, use PVi_ma. [astropy.wcs.wcs]\n",
      "FITSFixedWarning: PROJP3 = 0.00000000 / Projection coefficient for primary WCS \n",
      "the PROJPn keyword is deprecated, use PVi_ma.\n",
      "WARNING: FITSFixedWarning: 'datfix' made the change 'Invalid parameter values: MJD-OBS and DATE-OBS are inconsistent.\n",
      "Changed DATE-OBS from '2022-11-13        ' to '2022-11-13T00:00:00.0''. [astropy.wcs.wcs]\n",
      "FITSFixedWarning: 'datfix' made the change 'Invalid parameter values: MJD-OBS and DATE-OBS are inconsistent.\n",
      "Changed DATE-OBS from '2022-11-13        ' to '2022-11-13T00:00:00.0''.\n",
      "\n",
      "Performing Astrometry.net\n",
      "Removing any pre-existing WCS keys \n",
      "No WCS values found - attempting to solve field\n",
      "ASTROMETRY started...\n",
      "ASTROMETRY finished: 3s\n",
      "Updating WCS keys with new values\n",
      "WCS saved to new file\n",
      "\n",
      "Searching for FWHM\n",
      "Using Gaussian Profile for fitting\n"
     ]
    },
    {
     "name": "stdout",
     "output_type": "stream",
     "text": [
      "\n",
      "+-------------------------------+\n",
      "|Finding Full Width Half Maximum|\n",
      "+-------------------------------+\n",
      "\n"
     ]
    },
    {
     "name": "stderr",
     "output_type": "stream",
     "text": [
      "\n",
      "Number of sources before cleaning [ 25.0 sigma ]: 25 \n",
      "Updating search FWHM value\n"
     ]
    },
    {
     "name": "stdout",
     "output_type": "stream",
     "text": [
      "zero-size array to reduction operation fmax which has no identity\n",
      "Updated guess for FWHM: 7.3 pixels \n"
     ]
    },
    {
     "name": "stderr",
     "output_type": "stream",
     "text": [
      "\n",
      "Number of sources before cleaning [ 25.0 sigma ]: 563 \n",
      "Too many sources - increasing threshold\n",
      "\n",
      "Number of sources before cleaning [ 50.0 sigma ]: 422 \n",
      "Too many sources - increasing threshold\n",
      "\n",
      "Number of sources before cleaning [ 100.0 sigma ]: 313 \n",
      "Too many sources - increasing threshold\n",
      "\n",
      "Number of sources before cleaning [ 200.0 sigma ]: 230 \n",
      "Removed 10 sources near boundary\n",
      "Removed 40 crowded sources\n"
     ]
    },
    {
     "name": "stdout",
     "output_type": "stream",
     "text": [
      "Fitting source for FWHM: 180/180     "
     ]
    },
    {
     "name": "stderr",
     "output_type": "stream",
     "text": [
      "Removed 60 saturated sources\n",
      "WARNING: Input data contains invalid values (NaNs or infs), which were automatically clipped. [astropy.stats.sigma_clipping]\n",
      "Input data contains invalid values (NaNs or infs), which were automatically clipped.\n",
      "Removed 69 FWHM outliers\n",
      "WARNING: Input data contains invalid values (NaNs or infs), which were automatically clipped. [astropy.stats.sigma_clipping]\n",
      "Input data contains invalid values (NaNs or infs), which were automatically clipped.\n",
      "Removed 74 median outliers\n",
      "Useable sources found [ 200 sigma ]: 180\n",
      "Removes 8 sources within minimum seperation [ 31 pixel ]\n",
      "\n",
      "FWHM: 6.256 +/- 0.222 [ pixels ]\n",
      "\n",
      "Seeing: 2.077 [ arcsec ]\n",
      "Aperture size: 10.6 pixels\n",
      "Aperture correction: -0.027 +/- 0.004 [ mag ]\n",
      "WARNING: FITSFixedWarning: 'datfix' made the change 'Invalid parameter values: MJD-OBS and DATE-OBS are inconsistent.\n",
      "Changed DATE-OBS from '2022-11-13        ' to '2022-11-13T00:00:00.0''. [astropy.wcs.wcs]\n",
      "FITSFixedWarning: 'datfix' made the change 'Invalid parameter values: MJD-OBS and DATE-OBS are inconsistent.\n",
      "Changed DATE-OBS from '2022-11-13        ' to '2022-11-13T00:00:00.0''.\n",
      "Searching for new catalog [pan_starrs] for target_ra_318_dec_13 \n",
      "Downloading sequence stars from pan_starrs\n"
     ]
    },
    {
     "name": "stdout",
     "output_type": "stream",
     "text": [
      "\n",
      "+----------------------------------------------+\n",
      "|Searching for catalog for target_ra_318_dec_13|\n",
      "+----------------------------------------------+\n",
      "\n"
     ]
    },
    {
     "name": "stderr",
     "output_type": "stream",
     "text": [
      "Catalog length: 10000\n",
      "Removed 3006 sources fainter than cutoff [20 mag]\n",
      "Using Gaussian Profile for fitting\n",
      "Catalog Length: 647\n"
     ]
    },
    {
     "name": "stdout",
     "output_type": "stream",
     "text": [
      "\n",
      "+---------------------------------+\n",
      "|Matching catalog sources to image|\n",
      "+---------------------------------+\n",
      "\n",
      "Removed 1 sources too close to target\n",
      "Removed 557 sources too close to boundary or off image\n",
      "Matching catalog to image: 414 / 647 :: Useful sources 294 / 647 "
     ]
    },
    {
     "name": "stderr",
     "output_type": "stream",
     "text": [
      "\n",
      "Median offset: 1.8 [ pixels ] / 0.6 [ arcsec ]\n"
     ]
    },
    {
     "name": "stdout",
     "output_type": "stream",
     "text": [
      "\r",
      "Matching catalog to image: 415 / 647 :: Useful sources 295 / 647 \r",
      "Matching catalog to image: 416 / 647 :: Useful sources 296 / 647 \r",
      "Matching catalog to image: 417 / 647 :: Useful sources 296 / 647 \r",
      "Matching catalog to image: 418 / 647 :: Useful sources 297 / 647 \r",
      "Matching catalog to image: 419 / 647 :: Useful sources 297 / 647 \r",
      "Matching catalog to image: 420 / 647 :: Useful sources 298 / 647 \r",
      "Matching catalog to image: 421 / 647 :: Useful sources 299 / 647 \r",
      "Matching catalog to image: 422 / 647 :: Useful sources 300 / 647   .. done\n",
      "\n",
      "Broken cutouts: 2\n",
      "Not in correct location: 0\n",
      "Not detected: 13\n",
      "Saturated: 107\n",
      "Error: 0\n",
      "\n",
      "\n",
      "+-------------------------------------------+\n",
      "|Building PSF model using stars in the field|\n",
      "+-------------------------------------------+\n",
      "\n"
     ]
    },
    {
     "name": "stderr",
     "output_type": "stream",
     "text": [
      "Residual table updated: 1 / 10 \n",
      "\tSNR: 1540 :: FWHM fitted 6.168\n",
      "Residual table updated: 2 / 10 \n",
      "\tSNR: 1528 :: FWHM fitted 6.145\n",
      "Residual table updated: 3 / 10 \n",
      "\tSNR: 1525 :: FWHM fitted 6.207\n",
      "Residual table updated: 4 / 10 \n",
      "\tSNR: 1464 :: FWHM fitted 6.209\n",
      "Residual table updated: 5 / 10 \n",
      "\tSNR: 1466 :: FWHM fitted 6.265\n",
      "Residual table updated: 6 / 10 \n",
      "\tSNR: 1462 :: FWHM fitted 6.227\n",
      "Residual table updated: 7 / 10 \n",
      "\tSNR: 1458 :: FWHM fitted 6.205\n",
      "Found faint soures near PSF star at 5 sigma - skipping \n",
      "Residual table updated: 8 / 10 \n",
      "\tSNR: 1393 :: FWHM fitted 6.332\n",
      "Found faint soures near PSF star at 5 sigma - skipping \n",
      "Residual table updated: 9 / 10 \n",
      "\tSNR: 1314 :: FWHM fitted 6.129\n",
      "Residual table updated: 10 / 10 \n",
      "\tSNR: 1284 :: FWHM fitted 6.208\n",
      "\n",
      "PSF built using 10 sources\n",
      "\n",
      "Unity PSF: 46.5 [counts] \n",
      "Unity Residual table: 2.6 [counts] \n",
      "Using Aperture Photometry on sequence Stars \n",
      "No PSF sources fitted\n"
     ]
    },
    {
     "name": "stdout",
     "output_type": "stream",
     "text": [
      "PSF model saved as: /Users/terwelj/Documents/VirtualMachine/Observing_ING/autophot/newtest/ZTF22ablxcrh_REDUCED/r1639498redCCD4/PSF_model_r1639498redCCD4_APT.fits\n",
      "\n",
      "+-------------------+\n",
      "|Measuring PSF model|\n",
      "+-------------------+\n",
      "\n",
      "\n",
      "+-----------------------+\n",
      "|Finding Zeropoint value|\n",
      "+-----------------------+\n",
      "\n",
      "Checking for suitable catalog sources\n",
      "Removed 294 sources lower than SNR of 25.0\n"
     ]
    },
    {
     "name": "stderr",
     "output_type": "stream",
     "text": [
      "WARNING: Input data contains invalid values (NaNs or infs), which were automatically clipped. [astropy.stats.sigma_clipping]\n",
      "Input data contains invalid values (NaNs or infs), which were automatically clipped.\n",
      "\n",
      "Mean g-band zeropoint: 26.348 +/- 0.023 \n",
      "\n",
      "/opt/anaconda3/envs/autophot/lib/python3.7/site-packages/matplotlib/backends/backend_pdf.py:1649: DeprecationWarning: NONE is deprecated and will be removed in Pillow 10 (2023-07-01). Use Resampling.NEAREST or Dither.NONE instead.\n",
      "  img = img.convert(mode='P', dither=Image.NONE,\n",
      "/opt/anaconda3/envs/autophot/lib/python3.7/site-packages/matplotlib/backends/backend_pdf.py:1650: DeprecationWarning: ADAPTIVE is deprecated and will be removed in Pillow 10 (2023-07-01). Use Palette.ADAPTIVE instead.\n",
      "  palette=Image.ADAPTIVE, colors=num_colors)\n",
      "Target photometry on original image\n"
     ]
    },
    {
     "name": "stdout",
     "output_type": "stream",
     "text": [
      "\n",
      "+-----------------------------------+\n",
      "|Doing Aperture Photometry on Target|\n",
      "+-----------------------------------+\n",
      "\n"
     ]
    },
    {
     "name": "stderr",
     "output_type": "stream",
     "text": [
      "/opt/anaconda3/envs/autophot/lib/python3.7/site-packages/matplotlib/backends/backend_pdf.py:1649: DeprecationWarning: NONE is deprecated and will be removed in Pillow 10 (2023-07-01). Use Resampling.NEAREST or Dither.NONE instead.\n",
      "  img = img.convert(mode='P', dither=Image.NONE,\n",
      "/opt/anaconda3/envs/autophot/lib/python3.7/site-packages/matplotlib/backends/backend_pdf.py:1650: DeprecationWarning: ADAPTIVE is deprecated and will be removed in Pillow 10 (2023-07-01). Use Palette.ADAPTIVE instead.\n",
      "  palette=Image.ADAPTIVE, colors=num_colors)\n",
      "Approximate Target SNR: 287.8\n",
      "SNR = 288 - skipping limiting magnitude\n",
      "Pixel Offset: 0.000\n",
      "Limiting Magnitude: skipped\n",
      "Target Detection probability: 100 %\n",
      "Target flux: 1327.621 +/- 0.000 [counts/s]\n",
      "Noise: 95.473 [counts/s]\n",
      "Target SNR: 287.800 +/- 0.004\n",
      "Instrumental Magnitude: -7.808 +/- 0.000\n",
      "Zeropoint: 26.348 +/- 0.023\n",
      "Target Magnitude: 18.513 +/- 0.023 \n",
      "\n",
      "*** Transient well detected ***\n",
      "\n",
      "Time Taken [ 8408 ]: 73s\n",
      "Sucess: r1639498redCCD4_APT.fits :: PID 8408 \n",
      "\n",
      "File: r1639501redCCD4_APT.fits - PID: 8408\n",
      "Start Time: 2023-01-03 14:40:29.974966\n",
      "Filter keyoward used: WFFBAND\n",
      "Telescope: INT\n",
      "Filter: i\n",
      "MJD: 59896.887\n",
      "Date of Observation : 2022-11-13\n",
      "Read Noise: 5.8 [e^- /pixel]\n",
      "GAIN: 2.9 [e^- /count]\n",
      "Exposure time: 600 [s] \n",
      "Detecting/removing cosmic ray sources\n"
     ]
    },
    {
     "name": "stdout",
     "output_type": "stream",
     "text": [
      "\n",
      "+-----------+\n",
      "|File: 2 / 3|\n",
      "+-----------+\n",
      "\n",
      "Starting Astroscrappy ... "
     ]
    },
    {
     "name": "stderr",
     "output_type": "stream",
     "text": [
      "Contaminated pixels with Cosmic rays removed: 36973\n",
      "Cosmic rays removed - image updated\n",
      "WARNING: FITSFixedWarning: RADECSYS= 'FK5 ' / mean place new (after the 1976 IAU) system \n",
      "the RADECSYS keyword is deprecated, use RADESYSa. [astropy.wcs.wcs]\n",
      "FITSFixedWarning: RADECSYS= 'FK5 ' / mean place new (after the 1976 IAU) system \n",
      "the RADECSYS keyword is deprecated, use RADESYSa.\n",
      "WARNING: FITSFixedWarning: PROJP1 = 1.00000000 / Projection coefficient for primary WCS \n",
      "the PROJPn keyword is deprecated, use PVi_ma. [astropy.wcs.wcs]\n",
      "FITSFixedWarning: PROJP1 = 1.00000000 / Projection coefficient for primary WCS \n",
      "the PROJPn keyword is deprecated, use PVi_ma.\n",
      "WARNING: FITSFixedWarning: PROJP3 = 0.00000000 / Projection coefficient for primary WCS \n",
      "the PROJPn keyword is deprecated, use PVi_ma. [astropy.wcs.wcs]\n",
      "FITSFixedWarning: PROJP3 = 0.00000000 / Projection coefficient for primary WCS \n",
      "the PROJPn keyword is deprecated, use PVi_ma.\n",
      "WARNING: FITSFixedWarning: 'datfix' made the change 'Invalid parameter values: MJD-OBS and DATE-OBS are inconsistent.\n",
      "Changed DATE-OBS from '2022-11-13        ' to '2022-11-13T00:00:00.0''. [astropy.wcs.wcs]\n",
      "FITSFixedWarning: 'datfix' made the change 'Invalid parameter values: MJD-OBS and DATE-OBS are inconsistent.\n",
      "Changed DATE-OBS from '2022-11-13        ' to '2022-11-13T00:00:00.0''.\n",
      "\n",
      "Performing Astrometry.net\n",
      "Removing any pre-existing WCS keys \n",
      "No WCS values found - attempting to solve field\n",
      "ASTROMETRY started...\n",
      "ASTROMETRY finished: 3s\n",
      "Updating WCS keys with new values\n",
      "WCS saved to new file\n",
      "\n",
      "Searching for FWHM\n",
      "Using Gaussian Profile for fitting\n"
     ]
    },
    {
     "name": "stdout",
     "output_type": "stream",
     "text": [
      "\n",
      "+-------------------------------+\n",
      "|Finding Full Width Half Maximum|\n",
      "+-------------------------------+\n",
      "\n"
     ]
    },
    {
     "name": "stderr",
     "output_type": "stream",
     "text": [
      "\n",
      "Number of sources before cleaning [ 25.0 sigma ]: 25 \n",
      "Updating search FWHM value\n"
     ]
    },
    {
     "name": "stdout",
     "output_type": "stream",
     "text": [
      "zero-size array to reduction operation fmax which has no identity\n",
      "Updated guess for FWHM: 6.0 pixels \n"
     ]
    },
    {
     "name": "stderr",
     "output_type": "stream",
     "text": [
      "\n",
      "Number of sources before cleaning [ 25.0 sigma ]: 546 \n",
      "Too many sources - increasing threshold\n",
      "\n",
      "Number of sources before cleaning [ 50.0 sigma ]: 398 \n",
      "Too many sources - increasing threshold\n",
      "\n",
      "Number of sources before cleaning [ 100.0 sigma ]: 274 \n",
      "Removed 11 sources near boundary\n",
      "Removed 114 crowded sources\n"
     ]
    },
    {
     "name": "stdout",
     "output_type": "stream",
     "text": [
      "Fitting source for FWHM: 149/149            "
     ]
    },
    {
     "name": "stderr",
     "output_type": "stream",
     "text": [
      "Removed 149 saturated sources\n",
      "WARNING: Input data contains invalid values (NaNs or infs), which were automatically clipped. [astropy.stats.sigma_clipping]\n",
      "Input data contains invalid values (NaNs or infs), which were automatically clipped.\n",
      "Removed 149 FWHM outliers\n",
      "WARNING: Input data contains invalid values (NaNs or infs), which were automatically clipped. [astropy.stats.sigma_clipping]\n",
      "Input data contains invalid values (NaNs or infs), which were automatically clipped.\n",
      "Useable sources found [ 100 sigma ]: 149\n",
      "/opt/anaconda3/envs/autophot/lib/python3.7/site-packages/autophot/packages/find.py:971: RuntimeWarning: Mean of empty slice\n",
      "  image_fwhm =  np.nanmean(fwhm_array)\n",
      "cannot convert float NaN to integer\n",
      "Traceback (most recent call last):\n",
      "  File \"/opt/anaconda3/envs/autophot/lib/python3.7/site-packages/autophot/packages/find.py\", line 979, in get_fwhm\n",
      "    logger.info('Removes %d sources within minimum seperation [ %d pixel ]' % (np.sum(too_close),(isolate_sources_fwhm_sep * image_fwhm)))\n",
      "ValueError: cannot convert float NaN to integer\n",
      "/opt/anaconda3/envs/autophot/lib/python3.7/site-packages/autophot/packages/find.py:1013: RuntimeWarning: Mean of empty slice\n",
      "  image_fwhm = np.nanmean(isolated_sources['FWHM'].values)\n",
      "/opt/anaconda3/envs/autophot/lib/python3.7/site-packages/numpy/lib/nanfunctions.py:1671: RuntimeWarning: Degrees of freedom <= 0 for slice.\n",
      "  keepdims=keepdims)\n",
      "cannot convert float NaN to integer\n",
      "Traceback (most recent call last):\n",
      "  File \"/opt/anaconda3/envs/autophot/lib/python3.7/site-packages/autophot/packages/find.py\", line 1026, in get_fwhm\n",
      "    scale = int(np.ceil(scale_multipler * image_fwhm)) + 0.5\n",
      "ValueError: cannot convert float NaN to integer\n",
      "'float' object is not subscriptable\n",
      "Traceback (most recent call last):\n",
      "  File \"/opt/anaconda3/envs/autophot/lib/python3.7/site-packages/autophot/packages/main.py\", line 996, in main\n",
      "    image_fwhm_err = np.nanstd(df['FWHM'])\n",
      "TypeError: 'float' object is not subscriptable\n",
      "Failure: r1639501redCCD4_APT.fits - PID: 8408\n"
     ]
    },
    {
     "name": "stdout",
     "output_type": "stream",
     "text": [
      "\n",
      "+-----------+\n",
      "|File: 3 / 3|\n",
      "+-----------+\n",
      "\n"
     ]
    },
    {
     "name": "stderr",
     "output_type": "stream",
     "text": [
      "File: r1639500redCCD4_APT.fits - PID: 8408\n",
      "Start Time: 2023-01-03 14:40:50.962571\n",
      "Filter keyoward used: WFFBAND\n",
      "Telescope: INT\n",
      "Filter: r\n",
      "MJD: 59896.883\n",
      "Date of Observation : 2022-11-13\n",
      "Read Noise: 5.8 [e^- /pixel]\n",
      "GAIN: 2.9 [e^- /count]\n",
      "Exposure time: 200 [s] \n",
      "Detecting/removing cosmic ray sources\n"
     ]
    },
    {
     "name": "stdout",
     "output_type": "stream",
     "text": [
      "Starting Astroscrappy ... "
     ]
    },
    {
     "name": "stderr",
     "output_type": "stream",
     "text": [
      "Contaminated pixels with Cosmic rays removed: 30492\n",
      "Cosmic rays removed - image updated\n",
      "WARNING: FITSFixedWarning: RADECSYS= 'FK5 ' / mean place new (after the 1976 IAU) system \n",
      "the RADECSYS keyword is deprecated, use RADESYSa. [astropy.wcs.wcs]\n",
      "FITSFixedWarning: RADECSYS= 'FK5 ' / mean place new (after the 1976 IAU) system \n",
      "the RADECSYS keyword is deprecated, use RADESYSa.\n",
      "WARNING: FITSFixedWarning: PROJP1 = 1.00000000 / Projection coefficient for primary WCS \n",
      "the PROJPn keyword is deprecated, use PVi_ma. [astropy.wcs.wcs]\n",
      "FITSFixedWarning: PROJP1 = 1.00000000 / Projection coefficient for primary WCS \n",
      "the PROJPn keyword is deprecated, use PVi_ma.\n",
      "WARNING: FITSFixedWarning: PROJP3 = 0.00000000 / Projection coefficient for primary WCS \n",
      "the PROJPn keyword is deprecated, use PVi_ma. [astropy.wcs.wcs]\n",
      "FITSFixedWarning: PROJP3 = 0.00000000 / Projection coefficient for primary WCS \n",
      "the PROJPn keyword is deprecated, use PVi_ma.\n",
      "WARNING: FITSFixedWarning: 'datfix' made the change 'Invalid parameter values: MJD-OBS and DATE-OBS are inconsistent.\n",
      "Changed DATE-OBS from '2022-11-13        ' to '2022-11-13T00:00:00.0''. [astropy.wcs.wcs]\n",
      "FITSFixedWarning: 'datfix' made the change 'Invalid parameter values: MJD-OBS and DATE-OBS are inconsistent.\n",
      "Changed DATE-OBS from '2022-11-13        ' to '2022-11-13T00:00:00.0''.\n",
      "\n",
      "Performing Astrometry.net\n",
      "Removing any pre-existing WCS keys \n",
      "No WCS values found - attempting to solve field\n",
      "ASTROMETRY started...\n",
      "ASTROMETRY finished: 3s\n",
      "Updating WCS keys with new values\n",
      "WCS saved to new file\n",
      "\n",
      "Searching for FWHM\n",
      "Using Gaussian Profile for fitting\n"
     ]
    },
    {
     "name": "stdout",
     "output_type": "stream",
     "text": [
      "\n",
      "+-------------------------------+\n",
      "|Finding Full Width Half Maximum|\n",
      "+-------------------------------+\n",
      "\n"
     ]
    },
    {
     "name": "stderr",
     "output_type": "stream",
     "text": [
      "\n",
      "Number of sources before cleaning [ 25.0 sigma ]: 25 \n",
      "Updating search FWHM value\n"
     ]
    },
    {
     "name": "stdout",
     "output_type": "stream",
     "text": [
      "Updated guess for FWHM: 7.8 pixels \n"
     ]
    },
    {
     "name": "stderr",
     "output_type": "stream",
     "text": [
      "\n",
      "Number of sources before cleaning [ 25.0 sigma ]: 789 \n",
      "Too many sources - increasing threshold\n",
      "\n",
      "Number of sources before cleaning [ 50.0 sigma ]: 578 \n",
      "Too many sources - increasing threshold\n",
      "\n",
      "Number of sources before cleaning [ 100.0 sigma ]: 424 \n",
      "Too many sources - increasing threshold\n",
      "\n",
      "Number of sources before cleaning [ 200.0 sigma ]: 306 \n",
      "Too many sources - increasing threshold\n",
      "\n",
      "Number of sources before cleaning [ 400.0 sigma ]: 212 \n",
      "Removed 7 sources near boundary\n",
      "Removed 49 crowded sources\n"
     ]
    },
    {
     "name": "stdout",
     "output_type": "stream",
     "text": [
      "Fitting source for FWHM: 156/156       "
     ]
    },
    {
     "name": "stderr",
     "output_type": "stream",
     "text": [
      "Removed 87 saturated sources\n",
      "WARNING: Input data contains invalid values (NaNs or infs), which were automatically clipped. [astropy.stats.sigma_clipping]\n",
      "Input data contains invalid values (NaNs or infs), which were automatically clipped.\n",
      "Removed 93 FWHM outliers\n",
      "WARNING: Input data contains invalid values (NaNs or infs), which were automatically clipped. [astropy.stats.sigma_clipping]\n",
      "Input data contains invalid values (NaNs or infs), which were automatically clipped.\n",
      "Removed 95 median outliers\n",
      "Useable sources found [ 400 sigma ]: 156\n",
      "Removes 8 sources within minimum seperation [ 28 pixel ]\n",
      "\n",
      "FWHM: 5.676 +/- 0.305 [ pixels ]\n",
      "\n",
      "Seeing: 1.885 [ arcsec ]\n",
      "Aperture size: 9.6 pixels\n",
      "Aperture correction: -0.027 +/- 0.004 [ mag ]\n",
      "WARNING: FITSFixedWarning: 'datfix' made the change 'Invalid parameter values: MJD-OBS and DATE-OBS are inconsistent.\n",
      "Changed DATE-OBS from '2022-11-13        ' to '2022-11-13T00:00:00.0''. [astropy.wcs.wcs]\n",
      "FITSFixedWarning: 'datfix' made the change 'Invalid parameter values: MJD-OBS and DATE-OBS are inconsistent.\n",
      "Changed DATE-OBS from '2022-11-13        ' to '2022-11-13T00:00:00.0''.\n",
      "Catalog found for target_ra_318_dec_13\n",
      "Catalog: PAN_STARRS \n",
      "File: target_ra_318_dec_13_r_0.25\n",
      "Catalog length: 10000\n",
      "Removed 4160 sources fainter than cutoff [20 mag]\n",
      "Using Gaussian Profile for fitting\n",
      "Catalog Length: 910\n"
     ]
    },
    {
     "name": "stdout",
     "output_type": "stream",
     "text": [
      "\n",
      "+----------------------------------------------+\n",
      "|Searching for catalog for target_ra_318_dec_13|\n",
      "+----------------------------------------------+\n",
      "\n",
      "\n",
      "+---------------------------------+\n",
      "|Matching catalog sources to image|\n",
      "+---------------------------------+\n",
      "\n",
      "Removed 2 sources too close to target\n",
      "Removed 808 sources too close to boundary or off image\n",
      "Matching catalog to image: 142 / 910 :: Useful sources 16 / 910 Matching catalog to image: 444 / 910 :: Useful sources 292 / 910 "
     ]
    },
    {
     "name": "stderr",
     "output_type": "stream",
     "text": [
      "\n",
      "Median offset: 2.0 [ pixels ] / 0.7 [ arcsec ]\n"
     ]
    },
    {
     "name": "stdout",
     "output_type": "stream",
     "text": [
      "\r",
      "Matching catalog to image: 445 / 910 :: Useful sources 293 / 910 \r",
      "Matching catalog to image: 446 / 910 :: Useful sources 294 / 910 \r",
      "Matching catalog to image: 447 / 910 :: Useful sources 295 / 910 \r",
      "Matching catalog to image: 448 / 910 :: Useful sources 296 / 910 \r",
      "Matching catalog to image: 449 / 910 :: Useful sources 297 / 910 \r",
      "Matching catalog to image: 450 / 910 :: Useful sources 298 / 910 \r",
      "Matching catalog to image: 451 / 910 :: Useful sources 298 / 910 \r",
      "Matching catalog to image: 452 / 910 :: Useful sources 299 / 910 \r",
      "Matching catalog to image: 453 / 910 :: Useful sources 300 / 910   .. done\n",
      "\n",
      "Broken cutouts: 0\n",
      "Not in correct location: 0\n",
      "Not detected: 8\n",
      "Saturated: 145\n",
      "Error: 0\n",
      "\n",
      "\n",
      "+-------------------------------------------+\n",
      "|Building PSF model using stars in the field|\n",
      "+-------------------------------------------+\n",
      "\n"
     ]
    },
    {
     "name": "stderr",
     "output_type": "stream",
     "text": [
      "Residual table updated: 1 / 10 \n",
      "\tSNR: 1233 :: FWHM fitted 5.682\n",
      "Residual table updated: 2 / 10 \n",
      "\tSNR: 1224 :: FWHM fitted 5.672\n",
      "Residual table updated: 3 / 10 \n",
      "\tSNR: 1178 :: FWHM fitted 5.579\n",
      "Residual table updated: 4 / 10 \n",
      "\tSNR: 1181 :: FWHM fitted 5.560\n",
      "Residual table updated: 5 / 10 \n",
      "\tSNR: 1176 :: FWHM fitted 5.594\n",
      "Found faint soures near PSF star at 5 sigma - skipping \n",
      "Found faint soures near PSF star at 5 sigma - skipping \n",
      "Residual table updated: 6 / 10 \n",
      "\tSNR: 1160 :: FWHM fitted 5.749\n",
      "Found faint soures near PSF star at 5 sigma - skipping \n",
      "Residual table updated: 7 / 10 \n",
      "\tSNR: 1152 :: FWHM fitted 5.741\n",
      "Found faint soures near PSF star at 5 sigma - skipping \n",
      "Residual table updated: 8 / 10 \n",
      "\tSNR: 1129 :: FWHM fitted 5.697\n",
      "Residual table updated: 9 / 10 \n",
      "\tSNR: 1134 :: FWHM fitted 5.639\n",
      "Residual table updated: 10 / 10 \n",
      "\tSNR: 1127 :: FWHM fitted 5.722\n",
      "\n",
      "PSF built using 10 sources\n",
      "\n",
      "Unity PSF: 38.0 [counts] \n",
      "Unity Residual table: 2.0 [counts] \n",
      "Using Aperture Photometry on sequence Stars \n",
      "No PSF sources fitted\n",
      "\n",
      "Mean r-band zeropoint: 26.164 +/- 0.025 \n",
      "\n"
     ]
    },
    {
     "name": "stdout",
     "output_type": "stream",
     "text": [
      "PSF model saved as: /Users/terwelj/Documents/VirtualMachine/Observing_ING/autophot/newtest/ZTF22ablxcrh_REDUCED/r1639500redCCD4/PSF_model_r1639500redCCD4_APT.fits\n",
      "\n",
      "+-------------------+\n",
      "|Measuring PSF model|\n",
      "+-------------------+\n",
      "\n",
      "\n",
      "+-----------------------+\n",
      "|Finding Zeropoint value|\n",
      "+-----------------------+\n",
      "\n",
      "Checking for suitable catalog sources\n",
      "Removed 299 sources lower than SNR of 25.0\n"
     ]
    },
    {
     "name": "stderr",
     "output_type": "stream",
     "text": [
      "/opt/anaconda3/envs/autophot/lib/python3.7/site-packages/matplotlib/backends/backend_pdf.py:1649: DeprecationWarning: NONE is deprecated and will be removed in Pillow 10 (2023-07-01). Use Resampling.NEAREST or Dither.NONE instead.\n",
      "  img = img.convert(mode='P', dither=Image.NONE,\n",
      "/opt/anaconda3/envs/autophot/lib/python3.7/site-packages/matplotlib/backends/backend_pdf.py:1650: DeprecationWarning: ADAPTIVE is deprecated and will be removed in Pillow 10 (2023-07-01). Use Palette.ADAPTIVE instead.\n",
      "  palette=Image.ADAPTIVE, colors=num_colors)\n",
      "Target photometry on original image\n"
     ]
    },
    {
     "name": "stdout",
     "output_type": "stream",
     "text": [
      "\n",
      "+-----------------------------------+\n",
      "|Doing Aperture Photometry on Target|\n",
      "+-----------------------------------+\n",
      "\n"
     ]
    },
    {
     "name": "stderr",
     "output_type": "stream",
     "text": [
      "/opt/anaconda3/envs/autophot/lib/python3.7/site-packages/matplotlib/backends/backend_pdf.py:1649: DeprecationWarning: NONE is deprecated and will be removed in Pillow 10 (2023-07-01). Use Resampling.NEAREST or Dither.NONE instead.\n",
      "  img = img.convert(mode='P', dither=Image.NONE,\n",
      "/opt/anaconda3/envs/autophot/lib/python3.7/site-packages/matplotlib/backends/backend_pdf.py:1650: DeprecationWarning: ADAPTIVE is deprecated and will be removed in Pillow 10 (2023-07-01). Use Palette.ADAPTIVE instead.\n",
      "  palette=Image.ADAPTIVE, colors=num_colors)\n",
      "Approximate Target SNR: 245.5\n",
      "SNR = 245 - skipping limiting magnitude\n",
      "Pixel Offset: 0.000\n",
      "Limiting Magnitude: skipped\n",
      "Target Detection probability: 100 %\n",
      "Target flux: 1508.984 +/- 0.000 [counts/s]\n",
      "Noise: 124.643 [counts/s]\n",
      "Target SNR: 245.498 +/- 0.004\n",
      "Instrumental Magnitude: -7.947 +/- 0.000\n",
      "Zeropoint: 26.164 +/- 0.025\n",
      "Target Magnitude: 18.191 +/- 0.026 \n",
      "\n",
      "*** Transient well detected ***\n",
      "\n",
      "Time Taken [ 8408 ]: 49s\n",
      "Sucess: r1639500redCCD4_APT.fits :: PID 8408 \n",
      "\n",
      "\n",
      "User instrument database: /Users/terwelj/Documents/VirtualMachine/Observing_ING/autophot/newtest/telescope.yml\n",
      "\n",
      "Number of files: 3\n",
      "\n",
      "1 telescope(s) detected - checking header keywords\n",
      "\n"
     ]
    },
    {
     "name": "stdout",
     "output_type": "stream",
     "text": [
      "\n",
      "---\n",
      "\n",
      "Files that failed : ['/Users/terwelj/Documents/VirtualMachine/Observing_ING/autophot/newtest/ZTF22ablxcrh_REDUCED/r1639501redCCD4/r1639501redCCD4_APT.fits']\n",
      "\n",
      "DONE\n",
      "\n",
      "Done - Time Taken: 144.3\n",
      "\n",
      "\n",
      "Running AutoPHOT on at2022acsz, ra = 356.94909, dec = 8.26584\n",
      "\n",
      "\n",
      "Default input loaded in from: \n",
      "/opt/anaconda3/envs/autophot/lib/python3.7/site-packages/autophot/databases/default_input.yml\n",
      "\n",
      "        _       _       ___ _  _    _____\n",
      "       /_\\ _  _| |_ ___| _ \\ || |__|_   _|\n",
      "      / _ \\ || |  _/ _ \\  _/ __ / _ \\| |\n",
      "     /_/ \\_\\_,_|\\__\\___/_| |_||_\\___/|_|\n",
      "    \n",
      "     ---------------------------------------\n",
      "        Automated Photometry of Transients\n",
      "        S. J. Brennan et al. 2021 \n",
      "        Please provide feedback/bugs to:\n",
      "        Email: sean.brennan2@ucdconnect.ie\n",
      "    ---------------------------------------\n",
      "Directory of fits file: /Users/terwelj/Documents/VirtualMachine/Observing_ING/autophot/newtest/at2022acsz\n",
      "Found Telescopes:\n",
      "\n",
      " - INT\n",
      "\n",
      "-> Telescope check complete\n",
      "\n",
      "Checking Filter keywords and database\n"
     ]
    },
    {
     "name": "stderr",
     "output_type": "stream",
     "text": [
      "File: r1645957redCCD4_APT.fits - PID: 8408\n",
      "Start Time: 2023-01-03 14:41:40.849285\n",
      "Filter keyoward used: WFFBAND\n",
      "Telescope: INT\n",
      "Filter: r\n",
      "MJD: 59926.949\n"
     ]
    },
    {
     "name": "stdout",
     "output_type": "stream",
     "text": [
      "\n",
      "-> Filter check complete\n",
      "\n",
      "Checking Filter information for each image\n",
      "\n",
      "Files removed - Wrong Image Type: 0\n",
      "\n",
      "Files removed - No/Wrong filter(s): 0\n",
      "Filters not included: []\n",
      "\n",
      "\n",
      "Files removed: 0\n",
      "\n",
      "+-----------+\n",
      "|File: 1 / 3|\n",
      "+-----------+\n",
      "\n"
     ]
    },
    {
     "name": "stderr",
     "output_type": "stream",
     "text": [
      "Date of Observation : 2022-12-13\n",
      "Read Noise: 5.8 [e^- /pixel]\n",
      "GAIN: 2.9 [e^- /count]\n",
      "Exposure time: 20 [s] \n",
      "Detecting/removing cosmic ray sources\n"
     ]
    },
    {
     "name": "stdout",
     "output_type": "stream",
     "text": [
      "Starting Astroscrappy ... "
     ]
    },
    {
     "name": "stderr",
     "output_type": "stream",
     "text": [
      "Contaminated pixels with Cosmic rays removed: 28051\n",
      "Cosmic rays removed - image updated\n",
      "WARNING: FITSFixedWarning: RADECSYS= 'FK5 ' / mean place new (after the 1976 IAU) system \n",
      "the RADECSYS keyword is deprecated, use RADESYSa. [astropy.wcs.wcs]\n",
      "FITSFixedWarning: RADECSYS= 'FK5 ' / mean place new (after the 1976 IAU) system \n",
      "the RADECSYS keyword is deprecated, use RADESYSa.\n",
      "WARNING: FITSFixedWarning: PROJP1 = 1.00000000 / Projection coefficient for primary WCS \n",
      "the PROJPn keyword is deprecated, use PVi_ma. [astropy.wcs.wcs]\n",
      "FITSFixedWarning: PROJP1 = 1.00000000 / Projection coefficient for primary WCS \n",
      "the PROJPn keyword is deprecated, use PVi_ma.\n",
      "WARNING: FITSFixedWarning: PROJP3 = 0.00000000 / Projection coefficient for primary WCS \n",
      "the PROJPn keyword is deprecated, use PVi_ma. [astropy.wcs.wcs]\n",
      "FITSFixedWarning: PROJP3 = 0.00000000 / Projection coefficient for primary WCS \n",
      "the PROJPn keyword is deprecated, use PVi_ma.\n",
      "WARNING: FITSFixedWarning: 'datfix' made the change 'Invalid parameter values: MJD-OBS and DATE-OBS are inconsistent.\n",
      "Changed DATE-OBS from '2022-12-13        ' to '2022-12-13T00:00:00.0''. [astropy.wcs.wcs]\n",
      "FITSFixedWarning: 'datfix' made the change 'Invalid parameter values: MJD-OBS and DATE-OBS are inconsistent.\n",
      "Changed DATE-OBS from '2022-12-13        ' to '2022-12-13T00:00:00.0''.\n",
      "\n",
      "Performing Astrometry.net\n",
      "Removing any pre-existing WCS keys \n",
      "No WCS values found - attempting to solve field\n",
      "ASTROMETRY started...\n",
      "ASTROMETRY finished: 3s\n",
      "Updating WCS keys with new values\n",
      "WCS saved to new file\n",
      "\n",
      "Searching for FWHM\n",
      "Using Gaussian Profile for fitting\n"
     ]
    },
    {
     "name": "stdout",
     "output_type": "stream",
     "text": [
      "\n",
      "+-------------------------------+\n",
      "|Finding Full Width Half Maximum|\n",
      "+-------------------------------+\n",
      "\n"
     ]
    },
    {
     "name": "stderr",
     "output_type": "stream",
     "text": [
      "\n",
      "Number of sources before cleaning [ 25.0 sigma ]: 25 \n",
      "Updating search FWHM value\n"
     ]
    },
    {
     "name": "stdout",
     "output_type": "stream",
     "text": [
      "Updated guess for FWHM: 9.4 pixels \n"
     ]
    },
    {
     "name": "stderr",
     "output_type": "stream",
     "text": [
      "\n",
      "Number of sources before cleaning [ 25.0 sigma ]: 77 \n",
      "Removed 5 sources near boundary\n",
      "Removed 4 crowded sources\n"
     ]
    },
    {
     "name": "stdout",
     "output_type": "stream",
     "text": [
      "Fitting source for FWHM: 68/68 "
     ]
    },
    {
     "name": "stderr",
     "output_type": "stream",
     "text": [
      "Removed 5 saturated sources\n",
      "WARNING: Input data contains invalid values (NaNs or infs), which were automatically clipped. [astropy.stats.sigma_clipping]\n",
      "Input data contains invalid values (NaNs or infs), which were automatically clipped.\n",
      "Removed 7 FWHM outliers\n",
      "WARNING: Input data contains invalid values (NaNs or infs), which were automatically clipped. [astropy.stats.sigma_clipping]\n",
      "Input data contains invalid values (NaNs or infs), which were automatically clipped.\n",
      "Removed 14 median outliers\n",
      "Useable sources found [ 25 sigma ]: 68\n",
      "Removes 0 sources within minimum seperation [ 27 pixel ]\n",
      "\n",
      "FWHM: 5.602 +/- 0.558 [ pixels ]\n",
      "\n",
      "Seeing: 1.856 [ arcsec ]\n",
      "Aperture size: 9.5 pixels\n",
      "Aperture correction: -0.036 +/- 0.019 [ mag ]\n",
      "WARNING: FITSFixedWarning: 'datfix' made the change 'Invalid parameter values: MJD-OBS and DATE-OBS are inconsistent.\n",
      "Changed DATE-OBS from '2022-12-13        ' to '2022-12-13T00:00:00.0''. [astropy.wcs.wcs]\n",
      "FITSFixedWarning: 'datfix' made the change 'Invalid parameter values: MJD-OBS and DATE-OBS are inconsistent.\n",
      "Changed DATE-OBS from '2022-12-13        ' to '2022-12-13T00:00:00.0''.\n",
      "Searching for new catalog [sdss] for target_ra_357_dec_8 \n"
     ]
    },
    {
     "name": "stdout",
     "output_type": "stream",
     "text": [
      "\n",
      "+---------------------------------------------+\n",
      "|Searching for catalog for target_ra_357_dec_8|\n",
      "+---------------------------------------------+\n",
      "\n"
     ]
    },
    {
     "name": "stderr",
     "output_type": "stream",
     "text": [
      "Catalog length: 330\n",
      "Removed 209 sources fainter than cutoff [20 mag]\n",
      "Using Gaussian Profile for fitting\n",
      "Catalog Length: 8\n"
     ]
    },
    {
     "name": "stdout",
     "output_type": "stream",
     "text": [
      "\n",
      "+---------------------------------+\n",
      "|Matching catalog sources to image|\n",
      "+---------------------------------+\n",
      "\n",
      "Removed 1 sources too close to target\n",
      "Removed 26 sources too close to boundary or off image\n",
      "\r",
      "Matching catalog to image: 1 / 8 :: Useful sources 1 / 8 "
     ]
    },
    {
     "name": "stderr",
     "output_type": "stream",
     "text": [
      "\n",
      "Median offset: 8.7 [ pixels ] / 2.9 [ arcsec ]\n",
      "Residual table updated: 1 / 10 \n",
      "\tSNR: 961 :: FWHM fitted 5.855\n"
     ]
    },
    {
     "name": "stdout",
     "output_type": "stream",
     "text": [
      "\r",
      "Matching catalog to image: 2 / 8 :: Useful sources 2 / 8 \r",
      "Matching catalog to image: 3 / 8 :: Useful sources 3 / 8 \r",
      "Matching catalog to image: 4 / 8 :: Useful sources 3 / 8 \r",
      "Matching catalog to image: 5 / 8 :: Useful sources 4 / 8 \r",
      "Matching catalog to image: 6 / 8 :: Useful sources 4 / 8 \r",
      "Matching catalog to image: 7 / 8 :: Useful sources 5 / 8 \r",
      "Matching catalog to image: 8 / 8 :: Useful sources 6 / 8   .. done\n",
      "\n",
      "Broken cutouts: 0\n",
      "Not in correct location: 0\n",
      "Not detected: 3\n",
      "Saturated: 0\n",
      "Error: 0\n",
      "\n",
      "\n",
      "+-------------------------------------------+\n",
      "|Building PSF model using stars in the field|\n",
      "+-------------------------------------------+\n",
      "\n"
     ]
    },
    {
     "name": "stderr",
     "output_type": "stream",
     "text": [
      "Residual table updated: 2 / 10 \n",
      "\tSNR: 805 :: FWHM fitted 5.672\n",
      "Residual table updated: 3 / 10 \n",
      "\tSNR: 663 :: FWHM fitted 5.570\n",
      "Residual table updated: 4 / 10 \n",
      "\tSNR: 565 :: FWHM fitted 5.680\n",
      "Residual table updated: 5 / 10 \n",
      "\tSNR: 522 :: FWHM fitted 5.166\n",
      "Residual table updated: 6 / 10 \n",
      "\tSNR: 472 :: FWHM fitted 5.517\n",
      "Residual table updated: 7 / 10 \n",
      "\tSNR: 414 :: FWHM fitted 5.101\n",
      "Residual table updated: 8 / 10 \n",
      "\tSNR: 399 :: FWHM fitted 5.639\n",
      "Residual table updated: 9 / 10 \n",
      "\tSNR: 393 :: FWHM fitted 5.711\n",
      "Residual table updated: 10 / 10 \n",
      "\tSNR: 394 :: FWHM fitted 5.364\n",
      "\n",
      "PSF built using 10 sources\n",
      "\n",
      "Unity PSF: 36.9 [counts] \n",
      "Unity Residual table: 2.4 [counts] \n",
      "Using Aperture Photometry on sequence Stars \n",
      "No PSF sources fitted\n",
      "WARNING: Input data contains invalid values (NaNs or infs), which were automatically clipped. [astropy.stats.sigma_clipping]\n",
      "Input data contains invalid values (NaNs or infs), which were automatically clipped.\n",
      "\n",
      "Mean r-band zeropoint: 25.891 +/- 0.009 \n",
      "\n"
     ]
    },
    {
     "name": "stdout",
     "output_type": "stream",
     "text": [
      "PSF model saved as: /Users/terwelj/Documents/VirtualMachine/Observing_ING/autophot/newtest/at2022acsz_REDUCED/r1645957redCCD4/PSF_model_r1645957redCCD4_APT.fits\n",
      "\n",
      "+-------------------+\n",
      "|Measuring PSF model|\n",
      "+-------------------+\n",
      "\n",
      "\n",
      "+-----------------------+\n",
      "|Finding Zeropoint value|\n",
      "+-----------------------+\n",
      "\n",
      "Checking for suitable catalog sources\n",
      "Removed 3 sources lower than SNR of 25.0\n"
     ]
    },
    {
     "name": "stderr",
     "output_type": "stream",
     "text": [
      "/opt/anaconda3/envs/autophot/lib/python3.7/site-packages/matplotlib/backends/backend_pdf.py:1649: DeprecationWarning: NONE is deprecated and will be removed in Pillow 10 (2023-07-01). Use Resampling.NEAREST or Dither.NONE instead.\n",
      "  img = img.convert(mode='P', dither=Image.NONE,\n",
      "/opt/anaconda3/envs/autophot/lib/python3.7/site-packages/matplotlib/backends/backend_pdf.py:1650: DeprecationWarning: ADAPTIVE is deprecated and will be removed in Pillow 10 (2023-07-01). Use Palette.ADAPTIVE instead.\n",
      "  palette=Image.ADAPTIVE, colors=num_colors)\n",
      "Target photometry on original image\n"
     ]
    },
    {
     "name": "stdout",
     "output_type": "stream",
     "text": [
      "\n",
      "+-----------------------------------+\n",
      "|Doing Aperture Photometry on Target|\n",
      "+-----------------------------------+\n",
      "\n"
     ]
    },
    {
     "name": "stderr",
     "output_type": "stream",
     "text": [
      "/opt/anaconda3/envs/autophot/lib/python3.7/site-packages/matplotlib/backends/backend_pdf.py:1649: DeprecationWarning: NONE is deprecated and will be removed in Pillow 10 (2023-07-01). Use Resampling.NEAREST or Dither.NONE instead.\n",
      "  img = img.convert(mode='P', dither=Image.NONE,\n",
      "/opt/anaconda3/envs/autophot/lib/python3.7/site-packages/matplotlib/backends/backend_pdf.py:1650: DeprecationWarning: ADAPTIVE is deprecated and will be removed in Pillow 10 (2023-07-01). Use Palette.ADAPTIVE instead.\n",
      "  palette=Image.ADAPTIVE, colors=num_colors)\n",
      "Approximate Target SNR: 38.9\n",
      "SNR = 39 - skipping limiting magnitude\n",
      "Pixel Offset: 0.000\n",
      "Limiting Magnitude: skipped\n",
      "Target Detection probability: 99 %\n",
      "Target flux: 770.577 +/- 0.000 [counts/s]\n",
      "Noise: 472.668 [counts/s]\n",
      "Target SNR: 38.913 +/- 0.028\n",
      "Instrumental Magnitude: -7.217 +/- 0.000\n",
      "Zeropoint: 25.891 +/- 0.009\n",
      "Target Magnitude: 18.638 +/- 0.035 \n",
      "\n",
      "*** Transient well detected ***\n",
      "\n",
      "Time Taken [ 8408 ]: 26s\n",
      "Sucess: r1645957redCCD4_APT.fits :: PID 8408 \n",
      "\n",
      "File: r1645958redCCD4_APT.fits - PID: 8408\n",
      "Start Time: 2023-01-03 14:42:07.279823\n",
      "Filter keyoward used: WFFBAND\n",
      "Telescope: INT\n",
      "Filter: g\n",
      "MJD: 59926.951\n",
      "Date of Observation : 2022-12-13\n",
      "Read Noise: 5.8 [e^- /pixel]\n",
      "GAIN: 2.9 [e^- /count]\n",
      "Exposure time: 20 [s] \n",
      "Detecting/removing cosmic ray sources\n"
     ]
    },
    {
     "name": "stdout",
     "output_type": "stream",
     "text": [
      "\n",
      "+-----------+\n",
      "|File: 2 / 3|\n",
      "+-----------+\n",
      "\n",
      "Starting Astroscrappy ... "
     ]
    },
    {
     "name": "stderr",
     "output_type": "stream",
     "text": [
      "Contaminated pixels with Cosmic rays removed: 31841\n",
      "Cosmic rays removed - image updated\n",
      "WARNING: FITSFixedWarning: RADECSYS= 'FK5 ' / mean place new (after the 1976 IAU) system \n",
      "the RADECSYS keyword is deprecated, use RADESYSa. [astropy.wcs.wcs]\n",
      "FITSFixedWarning: RADECSYS= 'FK5 ' / mean place new (after the 1976 IAU) system \n",
      "the RADECSYS keyword is deprecated, use RADESYSa.\n",
      "WARNING: FITSFixedWarning: PROJP1 = 1.00000000 / Projection coefficient for primary WCS \n",
      "the PROJPn keyword is deprecated, use PVi_ma. [astropy.wcs.wcs]\n",
      "FITSFixedWarning: PROJP1 = 1.00000000 / Projection coefficient for primary WCS \n",
      "the PROJPn keyword is deprecated, use PVi_ma.\n",
      "WARNING: FITSFixedWarning: PROJP3 = 0.00000000 / Projection coefficient for primary WCS \n",
      "the PROJPn keyword is deprecated, use PVi_ma. [astropy.wcs.wcs]\n",
      "FITSFixedWarning: PROJP3 = 0.00000000 / Projection coefficient for primary WCS \n",
      "the PROJPn keyword is deprecated, use PVi_ma.\n",
      "WARNING: FITSFixedWarning: 'datfix' made the change 'Invalid parameter values: MJD-OBS and DATE-OBS are inconsistent.\n",
      "Changed DATE-OBS from '2022-12-13        ' to '2022-12-13T00:00:00.0''. [astropy.wcs.wcs]\n",
      "FITSFixedWarning: 'datfix' made the change 'Invalid parameter values: MJD-OBS and DATE-OBS are inconsistent.\n",
      "Changed DATE-OBS from '2022-12-13        ' to '2022-12-13T00:00:00.0''.\n",
      "\n",
      "Performing Astrometry.net\n",
      "Removing any pre-existing WCS keys \n",
      "No WCS values found - attempting to solve field\n",
      "ASTROMETRY started...\n",
      "ASTROMETRY finished: 3s\n",
      "Updating WCS keys with new values\n",
      "WCS saved to new file\n",
      "\n",
      "Searching for FWHM\n",
      "Using Gaussian Profile for fitting\n"
     ]
    },
    {
     "name": "stdout",
     "output_type": "stream",
     "text": [
      "\n",
      "+-------------------------------+\n",
      "|Finding Full Width Half Maximum|\n",
      "+-------------------------------+\n",
      "\n"
     ]
    },
    {
     "name": "stderr",
     "output_type": "stream",
     "text": [
      "\n",
      "Number of sources before cleaning [ 25.0 sigma ]: 25 \n",
      "Updating search FWHM value\n"
     ]
    },
    {
     "name": "stdout",
     "output_type": "stream",
     "text": [
      "Updated guess for FWHM: 9.7 pixels \n"
     ]
    },
    {
     "name": "stderr",
     "output_type": "stream",
     "text": [
      "\n",
      "Number of sources before cleaning [ 25.0 sigma ]: 77 \n",
      "Removed 4 sources near boundary\n",
      "Removed 8 crowded sources\n"
     ]
    },
    {
     "name": "stdout",
     "output_type": "stream",
     "text": [
      "Fitting source for FWHM: 65/65 "
     ]
    },
    {
     "name": "stderr",
     "output_type": "stream",
     "text": [
      "Removed 2 saturated sources\n",
      "WARNING: Input data contains invalid values (NaNs or infs), which were automatically clipped. [astropy.stats.sigma_clipping]\n",
      "Input data contains invalid values (NaNs or infs), which were automatically clipped.\n",
      "Removed 4 FWHM outliers\n",
      "WARNING: Input data contains invalid values (NaNs or infs), which were automatically clipped. [astropy.stats.sigma_clipping]\n",
      "Input data contains invalid values (NaNs or infs), which were automatically clipped.\n",
      "Removed 21 median outliers\n",
      "Useable sources found [ 25 sigma ]: 65\n",
      "Removes 0 sources within minimum seperation [ 29 pixel ]\n",
      "\n",
      "FWHM: 5.890 +/- 0.478 [ pixels ]\n",
      "\n",
      "Seeing: 1.951 [ arcsec ]\n",
      "Aperture size: 10.0 pixels\n",
      "Aperture correction: -0.026 +/- 0.030 [ mag ]\n",
      "WARNING: FITSFixedWarning: 'datfix' made the change 'Invalid parameter values: MJD-OBS and DATE-OBS are inconsistent.\n",
      "Changed DATE-OBS from '2022-12-13        ' to '2022-12-13T00:00:00.0''. [astropy.wcs.wcs]\n",
      "FITSFixedWarning: 'datfix' made the change 'Invalid parameter values: MJD-OBS and DATE-OBS are inconsistent.\n",
      "Changed DATE-OBS from '2022-12-13        ' to '2022-12-13T00:00:00.0''.\n",
      "Catalog found for target_ra_357_dec_8\n",
      "Catalog: SDSS \n",
      "File: target_ra_357_dec_8_r_0.25\n",
      "Catalog length: 330\n",
      "Removed 219 sources fainter than cutoff [20 mag]\n",
      "Using Gaussian Profile for fitting\n",
      "Catalog Length: 3\n"
     ]
    },
    {
     "name": "stdout",
     "output_type": "stream",
     "text": [
      "\n",
      "+---------------------------------------------+\n",
      "|Searching for catalog for target_ra_357_dec_8|\n",
      "+---------------------------------------------+\n",
      "\n",
      "\n",
      "+---------------------------------+\n",
      "|Matching catalog sources to image|\n",
      "+---------------------------------+\n",
      "\n",
      "Removed 1 sources too close to target\n",
      "Removed 14 sources too close to boundary or off image\n",
      "\r",
      "Matching catalog to image: 1 / 3 :: Useful sources 1 / 3 "
     ]
    },
    {
     "name": "stderr",
     "output_type": "stream",
     "text": [
      "\n",
      "Median offset: 11.8 [ pixels ] / 3.9 [ arcsec ]\n",
      "Residual table updated: 1 / 10 \n",
      "\tSNR: 533 :: FWHM fitted 5.945\n",
      "Residual table updated: 2 / 10 \n",
      "\tSNR: 441 :: FWHM fitted 5.809\n",
      "Residual table updated: 3 / 10 \n",
      "\tSNR: 407 :: FWHM fitted 5.382\n"
     ]
    },
    {
     "name": "stdout",
     "output_type": "stream",
     "text": [
      "\r",
      "Matching catalog to image: 2 / 3 :: Useful sources 2 / 3 \r",
      "Matching catalog to image: 3 / 3 :: Useful sources 3 / 3   .. done\n",
      "\n",
      "Broken cutouts: 0\n",
      "Not in correct location: 0\n",
      "Not detected: 1\n",
      "Saturated: 0\n",
      "Error: 0\n",
      "\n",
      "\n",
      "+-------------------------------------------+\n",
      "|Building PSF model using stars in the field|\n",
      "+-------------------------------------------+\n",
      "\n"
     ]
    },
    {
     "name": "stderr",
     "output_type": "stream",
     "text": [
      "Residual table updated: 4 / 10 \n",
      "\tSNR: 361 :: FWHM fitted 6.157\n",
      "Residual table updated: 5 / 10 \n",
      "\tSNR: 353 :: FWHM fitted 5.728\n",
      "Residual table updated: 6 / 10 \n",
      "\tSNR: 314 :: FWHM fitted 5.514\n",
      "Residual table updated: 7 / 10 \n",
      "\tSNR: 291 :: FWHM fitted 5.380\n",
      "Residual table updated: 8 / 10 \n",
      "\tSNR: 276 :: FWHM fitted 6.046\n",
      "Residual table updated: 9 / 10 \n",
      "\tSNR: 269 :: FWHM fitted 6.023\n",
      "Residual table updated: 10 / 10 \n",
      "\tSNR: 255 :: FWHM fitted 6.104\n",
      "\n",
      "PSF built using 10 sources\n",
      "\n",
      "Unity PSF: 40.4 [counts] \n",
      "Unity Residual table: 1.3 [counts] \n",
      "Using Aperture Photometry on sequence Stars \n",
      "No PSF sources fitted\n",
      "\n",
      "Mean g-band zeropoint: 26.439 +/- 0.350 \n",
      "\n"
     ]
    },
    {
     "name": "stdout",
     "output_type": "stream",
     "text": [
      "PSF model saved as: /Users/terwelj/Documents/VirtualMachine/Observing_ING/autophot/newtest/at2022acsz_REDUCED/r1645958redCCD4/PSF_model_r1645958redCCD4_APT.fits\n",
      "\n",
      "+-------------------+\n",
      "|Measuring PSF model|\n",
      "+-------------------+\n",
      "\n",
      "\n",
      "+-----------------------+\n",
      "|Finding Zeropoint value|\n",
      "+-----------------------+\n",
      "\n",
      "Checking for suitable catalog sources\n",
      "Removed 2 sources lower than SNR of 25.0\n"
     ]
    },
    {
     "name": "stderr",
     "output_type": "stream",
     "text": [
      "/opt/anaconda3/envs/autophot/lib/python3.7/site-packages/matplotlib/backends/backend_pdf.py:1649: DeprecationWarning: NONE is deprecated and will be removed in Pillow 10 (2023-07-01). Use Resampling.NEAREST or Dither.NONE instead.\n",
      "  img = img.convert(mode='P', dither=Image.NONE,\n",
      "/opt/anaconda3/envs/autophot/lib/python3.7/site-packages/matplotlib/backends/backend_pdf.py:1650: DeprecationWarning: ADAPTIVE is deprecated and will be removed in Pillow 10 (2023-07-01). Use Palette.ADAPTIVE instead.\n",
      "  palette=Image.ADAPTIVE, colors=num_colors)\n",
      "Approx. catalog limiting magnitude: 15.564 [ mag ]\n",
      "Target photometry on original image\n"
     ]
    },
    {
     "name": "stdout",
     "output_type": "stream",
     "text": [
      "\n",
      "+-----------------------------------+\n",
      "|Doing Aperture Photometry on Target|\n",
      "+-----------------------------------+\n",
      "\n"
     ]
    },
    {
     "name": "stderr",
     "output_type": "stream",
     "text": [
      "/opt/anaconda3/envs/autophot/lib/python3.7/site-packages/matplotlib/backends/backend_pdf.py:1649: DeprecationWarning: NONE is deprecated and will be removed in Pillow 10 (2023-07-01). Use Resampling.NEAREST or Dither.NONE instead.\n",
      "  img = img.convert(mode='P', dither=Image.NONE,\n",
      "/opt/anaconda3/envs/autophot/lib/python3.7/site-packages/matplotlib/backends/backend_pdf.py:1650: DeprecationWarning: ADAPTIVE is deprecated and will be removed in Pillow 10 (2023-07-01). Use Palette.ADAPTIVE instead.\n",
      "  palette=Image.ADAPTIVE, colors=num_colors)\n",
      "Approximate Target SNR: 43.3\n",
      "SNR = 43 - skipping limiting magnitude\n",
      "Pixel Offset: 0.000\n",
      "Limiting Magnitude: skipped\n",
      "Target Detection probability: 100 %\n",
      "Target flux: 645.750 +/- 0.000 [counts/s]\n",
      "Noise: 349.959 [counts/s]\n",
      "Target SNR: 43.327 +/- 0.025\n",
      "Instrumental Magnitude: -7.025 +/- 0.000\n",
      "Zeropoint: 26.439 +/- 0.350\n",
      "Target Magnitude: 19.388 +/- 0.352 \n",
      "\n",
      "*** Transient well detected ***\n",
      "\n",
      "Time Taken [ 8408 ]: 25s\n",
      "Sucess: r1645958redCCD4_APT.fits :: PID 8408 \n",
      "\n",
      "File: r1645959redCCD4_APT.fits - PID: 8408\n",
      "Start Time: 2023-01-03 14:42:32.275560\n",
      "Filter keyoward used: WFFBAND\n",
      "Telescope: INT\n",
      "Filter: i\n",
      "MJD: 59926.953\n",
      "Date of Observation : 2022-12-13\n",
      "Read Noise: 5.8 [e^- /pixel]\n",
      "GAIN: 2.9 [e^- /count]\n",
      "Exposure time: 20 [s] \n",
      "Detecting/removing cosmic ray sources\n"
     ]
    },
    {
     "name": "stdout",
     "output_type": "stream",
     "text": [
      "\n",
      "+-----------+\n",
      "|File: 3 / 3|\n",
      "+-----------+\n",
      "\n",
      "Starting Astroscrappy ... "
     ]
    },
    {
     "name": "stderr",
     "output_type": "stream",
     "text": [
      "Contaminated pixels with Cosmic rays removed: 27050\n",
      "Cosmic rays removed - image updated\n",
      "WARNING: FITSFixedWarning: RADECSYS= 'FK5 ' / mean place new (after the 1976 IAU) system \n",
      "the RADECSYS keyword is deprecated, use RADESYSa. [astropy.wcs.wcs]\n",
      "FITSFixedWarning: RADECSYS= 'FK5 ' / mean place new (after the 1976 IAU) system \n",
      "the RADECSYS keyword is deprecated, use RADESYSa.\n",
      "WARNING: FITSFixedWarning: PROJP1 = 1.00000000 / Projection coefficient for primary WCS \n",
      "the PROJPn keyword is deprecated, use PVi_ma. [astropy.wcs.wcs]\n",
      "FITSFixedWarning: PROJP1 = 1.00000000 / Projection coefficient for primary WCS \n",
      "the PROJPn keyword is deprecated, use PVi_ma.\n",
      "WARNING: FITSFixedWarning: PROJP3 = 0.00000000 / Projection coefficient for primary WCS \n",
      "the PROJPn keyword is deprecated, use PVi_ma. [astropy.wcs.wcs]\n",
      "FITSFixedWarning: PROJP3 = 0.00000000 / Projection coefficient for primary WCS \n",
      "the PROJPn keyword is deprecated, use PVi_ma.\n",
      "WARNING: FITSFixedWarning: 'datfix' made the change 'Invalid parameter values: MJD-OBS and DATE-OBS are inconsistent.\n",
      "Changed DATE-OBS from '2022-12-13        ' to '2022-12-13T00:00:00.0''. [astropy.wcs.wcs]\n",
      "FITSFixedWarning: 'datfix' made the change 'Invalid parameter values: MJD-OBS and DATE-OBS are inconsistent.\n",
      "Changed DATE-OBS from '2022-12-13        ' to '2022-12-13T00:00:00.0''.\n",
      "\n",
      "Performing Astrometry.net\n",
      "Removing any pre-existing WCS keys \n",
      "No WCS values found - attempting to solve field\n",
      "ASTROMETRY started...\n",
      "ASTROMETRY finished: 3s\n",
      "Updating WCS keys with new values\n",
      "WCS saved to new file\n",
      "\n",
      "Searching for FWHM\n",
      "Using Gaussian Profile for fitting\n"
     ]
    },
    {
     "name": "stdout",
     "output_type": "stream",
     "text": [
      "\n",
      "+-------------------------------+\n",
      "|Finding Full Width Half Maximum|\n",
      "+-------------------------------+\n",
      "\n"
     ]
    },
    {
     "name": "stderr",
     "output_type": "stream",
     "text": [
      "\n",
      "Number of sources before cleaning [ 25.0 sigma ]: 25 \n",
      "Updating search FWHM value\n"
     ]
    },
    {
     "name": "stdout",
     "output_type": "stream",
     "text": [
      "zero-size array to reduction operation fmax which has no identity\n",
      "Updated guess for FWHM: 6.2 pixels \n"
     ]
    },
    {
     "name": "stderr",
     "output_type": "stream",
     "text": [
      "\n",
      "Number of sources before cleaning [ 25.0 sigma ]: 78 \n",
      "Removed 6 sources near boundary\n",
      "Removed 2 crowded sources\n"
     ]
    },
    {
     "name": "stdout",
     "output_type": "stream",
     "text": [
      "Fitting source for FWHM: 70/70  "
     ]
    },
    {
     "name": "stderr",
     "output_type": "stream",
     "text": [
      "Removed 2 saturated sources\n",
      "WARNING: Input data contains invalid values (NaNs or infs), which were automatically clipped. [astropy.stats.sigma_clipping]\n",
      "Input data contains invalid values (NaNs or infs), which were automatically clipped.\n",
      "Removed 2 FWHM outliers\n",
      "WARNING: Input data contains invalid values (NaNs or infs), which were automatically clipped. [astropy.stats.sigma_clipping]\n",
      "Input data contains invalid values (NaNs or infs), which were automatically clipped.\n",
      "Removed 15 median outliers\n",
      "Useable sources found [ 25 sigma ]: 70\n",
      "Removes 0 sources within minimum seperation [ 24 pixel ]\n",
      "\n",
      "FWHM: 4.831 +/- 0.260 [ pixels ]\n",
      "\n",
      "Seeing: 1.600 [ arcsec ]\n",
      "Aperture size: 8.2 pixels\n",
      "Aperture correction: -0.029 +/- 0.017 [ mag ]\n",
      "WARNING: FITSFixedWarning: 'datfix' made the change 'Invalid parameter values: MJD-OBS and DATE-OBS are inconsistent.\n",
      "Changed DATE-OBS from '2022-12-13        ' to '2022-12-13T00:00:00.0''. [astropy.wcs.wcs]\n",
      "FITSFixedWarning: 'datfix' made the change 'Invalid parameter values: MJD-OBS and DATE-OBS are inconsistent.\n",
      "Changed DATE-OBS from '2022-12-13        ' to '2022-12-13T00:00:00.0''.\n",
      "Catalog found for target_ra_357_dec_8\n",
      "Catalog: SDSS \n",
      "File: target_ra_357_dec_8_r_0.25\n",
      "Catalog length: 330\n",
      "Removed 186 sources fainter than cutoff [20 mag]\n",
      "Using Gaussian Profile for fitting\n",
      "Catalog Length: 15\n"
     ]
    },
    {
     "name": "stdout",
     "output_type": "stream",
     "text": [
      "\n",
      "+---------------------------------------------+\n",
      "|Searching for catalog for target_ra_357_dec_8|\n",
      "+---------------------------------------------+\n",
      "\n",
      "\n",
      "+---------------------------------+\n",
      "|Matching catalog sources to image|\n",
      "+---------------------------------+\n",
      "\n",
      "Removed 1 sources too close to target\n",
      "Removed 38 sources too close to boundary or off image\n",
      "Matching catalog to image: 10 / 15 :: Useful sources 6 / 15 "
     ]
    },
    {
     "name": "stderr",
     "output_type": "stream",
     "text": [
      "\n",
      "Median offset: 9.4 [ pixels ] / 3.1 [ arcsec ]\n",
      "Residual table updated: 1 / 10 \n",
      "\tSNR: 664 :: FWHM fitted 4.949\n",
      "Residual table updated: 2 / 10 \n",
      "\tSNR: 536 :: FWHM fitted 4.896\n"
     ]
    },
    {
     "name": "stdout",
     "output_type": "stream",
     "text": [
      "\r",
      "Matching catalog to image: 11 / 15 :: Useful sources 7 / 15 \r",
      "Matching catalog to image: 12 / 15 :: Useful sources 8 / 15 \r",
      "Matching catalog to image: 13 / 15 :: Useful sources 8 / 15 \r",
      "Matching catalog to image: 14 / 15 :: Useful sources 8 / 15 \r",
      "Matching catalog to image: 15 / 15 :: Useful sources 9 / 15   .. done\n",
      "\n",
      "Broken cutouts: 0\n",
      "Not in correct location: 0\n",
      "Not detected: 7\n",
      "Saturated: 0\n",
      "Error: 0\n",
      "\n",
      "\n",
      "+-------------------------------------------+\n",
      "|Building PSF model using stars in the field|\n",
      "+-------------------------------------------+\n",
      "\n"
     ]
    },
    {
     "name": "stderr",
     "output_type": "stream",
     "text": [
      "Residual table updated: 3 / 10 \n",
      "\tSNR: 519 :: FWHM fitted 4.487\n",
      "Residual table updated: 4 / 10 \n",
      "\tSNR: 432 :: FWHM fitted 4.419\n",
      "Residual table updated: 5 / 10 \n",
      "\tSNR: 434 :: FWHM fitted 4.839\n",
      "Residual table updated: 6 / 10 \n",
      "\tSNR: 416 :: FWHM fitted 4.957\n",
      "Residual table updated: 7 / 10 \n",
      "\tSNR: 384 :: FWHM fitted 4.995\n",
      "Residual table updated: 8 / 10 \n",
      "\tSNR: 376 :: FWHM fitted 5.059\n",
      "Residual table updated: 9 / 10 \n",
      "\tSNR: 373 :: FWHM fitted 4.848\n",
      "Residual table updated: 10 / 10 \n",
      "\tSNR: 371 :: FWHM fitted 4.690\n",
      "\n",
      "PSF built using 10 sources\n",
      "\n",
      "Unity PSF: 27.3 [counts] \n",
      "Unity Residual table: 1.2 [counts] \n",
      "Using Aperture Photometry on sequence Stars \n",
      "No PSF sources fitted\n",
      "WARNING: Input data contains invalid values (NaNs or infs), which were automatically clipped. [astropy.stats.sigma_clipping]\n",
      "Input data contains invalid values (NaNs or infs), which were automatically clipped.\n",
      "\n",
      "Mean i-band zeropoint: 25.572 +/- 0.020 \n",
      "\n"
     ]
    },
    {
     "name": "stdout",
     "output_type": "stream",
     "text": [
      "PSF model saved as: /Users/terwelj/Documents/VirtualMachine/Observing_ING/autophot/newtest/at2022acsz_REDUCED/r1645959redCCD4/PSF_model_r1645959redCCD4_APT.fits\n",
      "\n",
      "+-------------------+\n",
      "|Measuring PSF model|\n",
      "+-------------------+\n",
      "\n",
      "\n",
      "+-----------------------+\n",
      "|Finding Zeropoint value|\n",
      "+-----------------------+\n",
      "\n",
      "Checking for suitable catalog sources\n",
      "Removed 3 sources lower than SNR of 25.0\n"
     ]
    },
    {
     "name": "stderr",
     "output_type": "stream",
     "text": [
      "/opt/anaconda3/envs/autophot/lib/python3.7/site-packages/matplotlib/backends/backend_pdf.py:1649: DeprecationWarning: NONE is deprecated and will be removed in Pillow 10 (2023-07-01). Use Resampling.NEAREST or Dither.NONE instead.\n",
      "  img = img.convert(mode='P', dither=Image.NONE,\n",
      "/opt/anaconda3/envs/autophot/lib/python3.7/site-packages/matplotlib/backends/backend_pdf.py:1650: DeprecationWarning: ADAPTIVE is deprecated and will be removed in Pillow 10 (2023-07-01). Use Palette.ADAPTIVE instead.\n",
      "  palette=Image.ADAPTIVE, colors=num_colors)\n",
      "Target photometry on original image\n"
     ]
    },
    {
     "name": "stdout",
     "output_type": "stream",
     "text": [
      "\n",
      "+-----------------------------------+\n",
      "|Doing Aperture Photometry on Target|\n",
      "+-----------------------------------+\n",
      "\n"
     ]
    },
    {
     "name": "stderr",
     "output_type": "stream",
     "text": [
      "/opt/anaconda3/envs/autophot/lib/python3.7/site-packages/matplotlib/backends/backend_pdf.py:1649: DeprecationWarning: NONE is deprecated and will be removed in Pillow 10 (2023-07-01). Use Resampling.NEAREST or Dither.NONE instead.\n",
      "  img = img.convert(mode='P', dither=Image.NONE,\n",
      "/opt/anaconda3/envs/autophot/lib/python3.7/site-packages/matplotlib/backends/backend_pdf.py:1650: DeprecationWarning: ADAPTIVE is deprecated and will be removed in Pillow 10 (2023-07-01). Use Palette.ADAPTIVE instead.\n",
      "  palette=Image.ADAPTIVE, colors=num_colors)\n",
      "Approximate Target SNR: 34.7\n",
      "SNR = 35 - skipping limiting magnitude\n",
      "Pixel Offset: 0.000\n",
      "Limiting Magnitude: skipped\n",
      "Target Detection probability: 99 %\n",
      "Target flux: 695.219 +/- 0.000 [counts/s]\n",
      "Noise: 372.847 [counts/s]\n",
      "Target SNR: 34.684 +/- 0.031\n",
      "Instrumental Magnitude: -7.105 +/- 0.000\n",
      "Zeropoint: 25.572 +/- 0.020\n",
      "Target Magnitude: 18.438 +/- 0.041 \n",
      "\n",
      "*** Transient well detected ***\n",
      "\n",
      "Time Taken [ 8408 ]: 22s\n",
      "Sucess: r1645959redCCD4_APT.fits :: PID 8408 \n",
      "\n",
      "\n",
      "User instrument database: /Users/terwelj/Documents/VirtualMachine/Observing_ING/autophot/newtest/telescope.yml\n",
      "\n",
      "Number of files: 12\n"
     ]
    },
    {
     "name": "stdout",
     "output_type": "stream",
     "text": [
      "\n",
      "---\n",
      "\n",
      "Files that failed : []\n",
      "\n",
      "DONE\n",
      "\n",
      "Done - Time Taken: 74.2\n",
      "Photometry successfully extracted from all images\n",
      "\n",
      "\n",
      "Running AutoPHOT on ZTF22abqxkhd, ra = 20.5508461, dec = 0.956554\n",
      "\n",
      "\n",
      "Default input loaded in from: \n",
      "/opt/anaconda3/envs/autophot/lib/python3.7/site-packages/autophot/databases/default_input.yml\n",
      "\n",
      "        _       _       ___ _  _    _____\n",
      "       /_\\ _  _| |_ ___| _ \\ || |__|_   _|\n",
      "      / _ \\ || |  _/ _ \\  _/ __ / _ \\| |\n",
      "     /_/ \\_\\_,_|\\__\\___/_| |_||_\\___/|_|\n",
      "    \n",
      "     ---------------------------------------\n",
      "        Automated Photometry of Transients\n",
      "        S. J. Brennan et al. 2021 \n",
      "        Please provide feedback/bugs to:\n",
      "        Email: sean.brennan2@ucdconnect.ie\n",
      "    ---------------------------------------\n",
      "Directory of fits file: /Users/terwelj/Documents/VirtualMachine/Observing_ING/autophot/newtest/ZTF22abqxkhd\n"
     ]
    },
    {
     "name": "stderr",
     "output_type": "stream",
     "text": [
      "\n",
      "1 telescope(s) detected - checking header keywords\n",
      "\n"
     ]
    },
    {
     "name": "stdout",
     "output_type": "stream",
     "text": [
      "Found Telescopes:\n",
      "\n",
      " - INT\n",
      "\n",
      "-> Telescope check complete\n",
      "\n",
      "Checking Filter keywords and database\n",
      "\n",
      "-> Filter check complete\n",
      "\n",
      "Checking Filter information for each image\n",
      "\n",
      "Files removed - Wrong Image Type: 0\n",
      "\n",
      "Files removed - No/Wrong filter(s): 6\n",
      "Filters not included: [B, U, V, no_filter, R]\n",
      "\n",
      "\n",
      "Files removed: 6\n",
      "\n",
      "+-----------+\n",
      "|File: 1 / 6|\n",
      "+-----------+\n",
      "\n"
     ]
    },
    {
     "name": "stderr",
     "output_type": "stream",
     "text": [
      "File: r1640322redCCD4_APT.fits - PID: 8408\n",
      "Start Time: 2023-01-03 14:42:55.575320\n",
      "Filter keyoward used: WFFBAND\n",
      "Telescope: INT\n",
      "Filter: i\n",
      "MJD: 59898.048\n",
      "Date of Observation : 2022-11-15\n",
      "Read Noise: 5.8 [e^- /pixel]\n",
      "GAIN: 2.9 [e^- /count]\n",
      "Exposure time: 599 [s] \n",
      "Detecting/removing cosmic ray sources\n"
     ]
    },
    {
     "name": "stdout",
     "output_type": "stream",
     "text": [
      "Starting Astroscrappy ... "
     ]
    },
    {
     "name": "stderr",
     "output_type": "stream",
     "text": [
      "Contaminated pixels with Cosmic rays removed: 32941\n",
      "Cosmic rays removed - image updated\n",
      "WARNING: FITSFixedWarning: RADECSYS= 'FK5 ' / mean place new (after the 1976 IAU) system \n",
      "the RADECSYS keyword is deprecated, use RADESYSa. [astropy.wcs.wcs]\n",
      "FITSFixedWarning: RADECSYS= 'FK5 ' / mean place new (after the 1976 IAU) system \n",
      "the RADECSYS keyword is deprecated, use RADESYSa.\n",
      "WARNING: FITSFixedWarning: PROJP1 = 1.00000000 / Projection coefficient for primary WCS \n",
      "the PROJPn keyword is deprecated, use PVi_ma. [astropy.wcs.wcs]\n",
      "FITSFixedWarning: PROJP1 = 1.00000000 / Projection coefficient for primary WCS \n",
      "the PROJPn keyword is deprecated, use PVi_ma.\n",
      "WARNING: FITSFixedWarning: PROJP3 = 0.00000000 / Projection coefficient for primary WCS \n",
      "the PROJPn keyword is deprecated, use PVi_ma. [astropy.wcs.wcs]\n",
      "FITSFixedWarning: PROJP3 = 0.00000000 / Projection coefficient for primary WCS \n",
      "the PROJPn keyword is deprecated, use PVi_ma.\n",
      "WARNING: FITSFixedWarning: 'datfix' made the change 'Invalid parameter values: MJD-OBS and DATE-OBS are inconsistent.\n",
      "Changed DATE-OBS from '2022-11-15        ' to '2022-11-15T00:00:00.0''. [astropy.wcs.wcs]\n",
      "FITSFixedWarning: 'datfix' made the change 'Invalid parameter values: MJD-OBS and DATE-OBS are inconsistent.\n",
      "Changed DATE-OBS from '2022-11-15        ' to '2022-11-15T00:00:00.0''.\n",
      "\n",
      "Performing Astrometry.net\n",
      "Removing any pre-existing WCS keys \n",
      "No WCS values found - attempting to solve field\n",
      "ASTROMETRY started...\n",
      "ASTROMETRY finished: 3s\n",
      "Updating WCS keys with new values\n",
      "WCS saved to new file\n",
      "\n",
      "Searching for FWHM\n",
      "Using Gaussian Profile for fitting\n"
     ]
    },
    {
     "name": "stdout",
     "output_type": "stream",
     "text": [
      "\n",
      "+-------------------------------+\n",
      "|Finding Full Width Half Maximum|\n",
      "+-------------------------------+\n",
      "\n"
     ]
    },
    {
     "name": "stderr",
     "output_type": "stream",
     "text": [
      "\n",
      "Number of sources before cleaning [ 25.0 sigma ]: 25 \n",
      "Updating search FWHM value\n"
     ]
    },
    {
     "name": "stdout",
     "output_type": "stream",
     "text": [
      "Updated guess for FWHM: 6.1 pixels \n"
     ]
    },
    {
     "name": "stderr",
     "output_type": "stream",
     "text": [
      "\n",
      "Number of sources before cleaning [ 25.0 sigma ]: 84 \n",
      "Removed 1 sources near boundary\n",
      "Removed 20 crowded sources\n"
     ]
    },
    {
     "name": "stdout",
     "output_type": "stream",
     "text": [
      "Fitting source for FWHM: 63/63  "
     ]
    },
    {
     "name": "stderr",
     "output_type": "stream",
     "text": [
      "Removed 40 saturated sources\n",
      "WARNING: Input data contains invalid values (NaNs or infs), which were automatically clipped. [astropy.stats.sigma_clipping]\n",
      "Input data contains invalid values (NaNs or infs), which were automatically clipped.\n",
      "Removed 43 FWHM outliers\n",
      "WARNING: Input data contains invalid values (NaNs or infs), which were automatically clipped. [astropy.stats.sigma_clipping]\n",
      "Input data contains invalid values (NaNs or infs), which were automatically clipped.\n",
      "Removed 43 median outliers\n",
      "Useable sources found [ 25 sigma ]: 63\n",
      "Removes 0 sources within minimum seperation [ 24 pixel ]\n",
      "\n",
      "FWHM: 5.446 +/- 1.477 [ pixels ]\n",
      "\n",
      "Seeing: 1.806 [ arcsec ]\n",
      "Aperture size: 9.3 pixels\n",
      "Aperture correction: -0.022 +/- 0.022 [ mag ]\n",
      "WARNING: FITSFixedWarning: 'datfix' made the change 'Invalid parameter values: MJD-OBS and DATE-OBS are inconsistent.\n",
      "Changed DATE-OBS from '2022-11-15        ' to '2022-11-15T00:00:00.0''. [astropy.wcs.wcs]\n",
      "FITSFixedWarning: 'datfix' made the change 'Invalid parameter values: MJD-OBS and DATE-OBS are inconsistent.\n",
      "Changed DATE-OBS from '2022-11-15        ' to '2022-11-15T00:00:00.0''.\n",
      "Searching for new catalog [sdss] for target_ra_21_dec_1 \n"
     ]
    },
    {
     "name": "stdout",
     "output_type": "stream",
     "text": [
      "\n",
      "+--------------------------------------------+\n",
      "|Searching for catalog for target_ra_21_dec_1|\n",
      "+--------------------------------------------+\n",
      "\n"
     ]
    },
    {
     "name": "stderr",
     "output_type": "stream",
     "text": [
      "Catalog length: 239\n",
      "Removed 137 sources fainter than cutoff [20 mag]\n",
      "Using Gaussian Profile for fitting\n",
      "Catalog Length: 10\n",
      "\n",
      "Median offset: 3.4 [ pixels ] / 1.1 [ arcsec ]\n"
     ]
    },
    {
     "name": "stdout",
     "output_type": "stream",
     "text": [
      "\n",
      "+---------------------------------+\n",
      "|Matching catalog sources to image|\n",
      "+---------------------------------+\n",
      "\n",
      "Removed 21 sources too close to boundary or off image\n",
      "\r",
      "Matching catalog to image: 1 / 10 :: Useful sources 1 / 10 \r",
      "Matching catalog to image: 2 / 10 :: Useful sources 1 / 10 \r",
      "Matching catalog to image: 3 / 10 :: Useful sources 1 / 10 \r",
      "Matching catalog to image: 4 / 10 :: Useful sources 2 / 10 \r",
      "Matching catalog to image: 5 / 10 :: Useful sources 3 / 10 \r",
      "Matching catalog to image: 6 / 10 :: Useful sources 4 / 10 \r",
      "Matching catalog to image: 7 / 10 :: Useful sources 5 / 10 \r",
      "Matching catalog to image: 8 / 10 :: Useful sources 6 / 10 \r",
      "Matching catalog to image: 9 / 10 :: Useful sources 7 / 10 \r",
      "Matching catalog to image: 10 / 10 :: Useful sources 8 / 10   .. done\n",
      "\n",
      "Broken cutouts: 0\n",
      "Not in correct location: 0\n",
      "Not detected: 0\n",
      "Saturated: 2\n",
      "Error: 0\n",
      "\n",
      "\n",
      "+-------------------------------------------+\n",
      "|Building PSF model using stars in the field|\n",
      "+-------------------------------------------+\n",
      "\n"
     ]
    },
    {
     "name": "stderr",
     "output_type": "stream",
     "text": [
      "Residual table updated: 1 / 10 \n",
      "\tSNR: 528 :: FWHM fitted 5.021\n",
      "Residual table updated: 2 / 10 \n",
      "\tSNR: 521 :: FWHM fitted 4.938\n",
      "Residual table updated: 3 / 10 \n",
      "\tSNR: 499 :: FWHM fitted 4.855\n",
      "Residual table updated: 4 / 10 \n",
      "\tSNR: 477 :: FWHM fitted 4.967\n",
      "Residual table updated: 5 / 10 \n",
      "\tSNR: 472 :: FWHM fitted 5.010\n",
      "Residual table updated: 6 / 10 \n",
      "\tSNR: 437 :: FWHM fitted 5.000\n",
      "Residual table updated: 7 / 10 \n",
      "\tSNR: 410 :: FWHM fitted 4.861\n",
      "Residual table updated: 8 / 10 \n",
      "\tSNR: 408 :: FWHM fitted 4.875\n",
      "Residual table updated: 9 / 10 \n",
      "\tSNR: 322 :: FWHM fitted 4.960\n",
      "Found faint soures near PSF star at 5 sigma - skipping \n",
      "Residual table updated: 10 / 10 \n",
      "\tSNR: 320 :: FWHM fitted 4.936\n",
      "\n",
      "PSF built using 10 sources\n",
      "\n",
      "Unity PSF: 29.1 [counts] \n",
      "Unity Residual table: 1.1 [counts] \n",
      "Using Aperture Photometry on sequence Stars \n",
      "No PSF sources fitted\n",
      "\n",
      "Mean i-band zeropoint: 25.713 +/- 0.145 \n",
      "\n"
     ]
    },
    {
     "name": "stdout",
     "output_type": "stream",
     "text": [
      "PSF model saved as: /Users/terwelj/Documents/VirtualMachine/Observing_ING/autophot/newtest/ZTF22abqxkhd_REDUCED/r1640322redCCD4/PSF_model_r1640322redCCD4_APT.fits\n",
      "\n",
      "+-------------------+\n",
      "|Measuring PSF model|\n",
      "+-------------------+\n",
      "\n",
      "\n",
      "+-----------------------+\n",
      "|Finding Zeropoint value|\n",
      "+-----------------------+\n",
      "\n",
      "Checking for suitable catalog sources\n",
      "Removed 8 sources lower than SNR of 25.0\n"
     ]
    },
    {
     "name": "stderr",
     "output_type": "stream",
     "text": [
      "/opt/anaconda3/envs/autophot/lib/python3.7/site-packages/matplotlib/backends/backend_pdf.py:1649: DeprecationWarning: NONE is deprecated and will be removed in Pillow 10 (2023-07-01). Use Resampling.NEAREST or Dither.NONE instead.\n",
      "  img = img.convert(mode='P', dither=Image.NONE,\n",
      "/opt/anaconda3/envs/autophot/lib/python3.7/site-packages/matplotlib/backends/backend_pdf.py:1650: DeprecationWarning: ADAPTIVE is deprecated and will be removed in Pillow 10 (2023-07-01). Use Palette.ADAPTIVE instead.\n",
      "  palette=Image.ADAPTIVE, colors=num_colors)\n",
      "Target photometry on original image\n"
     ]
    },
    {
     "name": "stdout",
     "output_type": "stream",
     "text": [
      "\n",
      "+-----------------------------------+\n",
      "|Doing Aperture Photometry on Target|\n",
      "+-----------------------------------+\n",
      "\n"
     ]
    },
    {
     "name": "stderr",
     "output_type": "stream",
     "text": [
      "/opt/anaconda3/envs/autophot/lib/python3.7/site-packages/matplotlib/backends/backend_pdf.py:1649: DeprecationWarning: NONE is deprecated and will be removed in Pillow 10 (2023-07-01). Use Resampling.NEAREST or Dither.NONE instead.\n",
      "  img = img.convert(mode='P', dither=Image.NONE,\n",
      "/opt/anaconda3/envs/autophot/lib/python3.7/site-packages/matplotlib/backends/backend_pdf.py:1650: DeprecationWarning: ADAPTIVE is deprecated and will be removed in Pillow 10 (2023-07-01). Use Palette.ADAPTIVE instead.\n",
      "  palette=Image.ADAPTIVE, colors=num_colors)\n",
      "Approximate Target SNR: 276.2\n",
      "SNR = 276 - skipping limiting magnitude\n",
      "Pixel Offset: 0.000\n",
      "Limiting Magnitude: skipped\n",
      "Target Detection probability: 100 %\n",
      "Target flux: 1170.900 +/- 0.000 [counts/s]\n",
      "Noise: 576.116 [counts/s]\n",
      "Target SNR: 276.217 +/- 0.004\n",
      "Instrumental Magnitude: -7.671 +/- 0.000\n",
      "Zeropoint: 25.713 +/- 0.145\n",
      "Target Magnitude: 18.020 +/- 0.147 \n",
      "\n",
      "*** Transient well detected ***\n",
      "\n",
      "Time Taken [ 8408 ]: 38s\n",
      "Sucess: r1640322redCCD4_APT.fits :: PID 8408 \n",
      "\n",
      "File: r1640321redCCD4_APT.fits - PID: 8408\n",
      "Start Time: 2023-01-03 14:43:33.603750\n",
      "Filter keyoward used: WFFBAND\n",
      "Telescope: INT\n",
      "Filter: g\n",
      "MJD: 59898.040\n",
      "Date of Observation : 2022-11-15\n",
      "Read Noise: 5.8 [e^- /pixel]\n",
      "GAIN: 2.9 [e^- /count]\n"
     ]
    },
    {
     "name": "stdout",
     "output_type": "stream",
     "text": [
      "\n",
      "+-----------+\n",
      "|File: 2 / 6|\n",
      "+-----------+\n",
      "\n"
     ]
    },
    {
     "name": "stderr",
     "output_type": "stream",
     "text": [
      "Exposure time: 500 [s] \n",
      "Detecting/removing cosmic ray sources\n"
     ]
    },
    {
     "name": "stdout",
     "output_type": "stream",
     "text": [
      "Starting Astroscrappy ... "
     ]
    },
    {
     "name": "stderr",
     "output_type": "stream",
     "text": [
      "Contaminated pixels with Cosmic rays removed: 30474\n",
      "Cosmic rays removed - image updated\n",
      "WARNING: FITSFixedWarning: RADECSYS= 'FK5 ' / mean place new (after the 1976 IAU) system \n",
      "the RADECSYS keyword is deprecated, use RADESYSa. [astropy.wcs.wcs]\n",
      "FITSFixedWarning: RADECSYS= 'FK5 ' / mean place new (after the 1976 IAU) system \n",
      "the RADECSYS keyword is deprecated, use RADESYSa.\n",
      "WARNING: FITSFixedWarning: PROJP1 = 1.00000000 / Projection coefficient for primary WCS \n",
      "the PROJPn keyword is deprecated, use PVi_ma. [astropy.wcs.wcs]\n",
      "FITSFixedWarning: PROJP1 = 1.00000000 / Projection coefficient for primary WCS \n",
      "the PROJPn keyword is deprecated, use PVi_ma.\n",
      "WARNING: FITSFixedWarning: PROJP3 = 0.00000000 / Projection coefficient for primary WCS \n",
      "the PROJPn keyword is deprecated, use PVi_ma. [astropy.wcs.wcs]\n",
      "FITSFixedWarning: PROJP3 = 0.00000000 / Projection coefficient for primary WCS \n",
      "the PROJPn keyword is deprecated, use PVi_ma.\n",
      "WARNING: FITSFixedWarning: 'datfix' made the change 'Invalid parameter values: MJD-OBS and DATE-OBS are inconsistent.\n",
      "Changed DATE-OBS from '2022-11-15        ' to '2022-11-15T00:00:00.0''. [astropy.wcs.wcs]\n",
      "FITSFixedWarning: 'datfix' made the change 'Invalid parameter values: MJD-OBS and DATE-OBS are inconsistent.\n",
      "Changed DATE-OBS from '2022-11-15        ' to '2022-11-15T00:00:00.0''.\n",
      "\n",
      "Performing Astrometry.net\n",
      "Removing any pre-existing WCS keys \n",
      "No WCS values found - attempting to solve field\n",
      "ASTROMETRY started...\n",
      "ASTROMETRY finished: 3s\n",
      "Updating WCS keys with new values\n",
      "WCS saved to new file\n",
      "\n",
      "Searching for FWHM\n",
      "Using Gaussian Profile for fitting\n"
     ]
    },
    {
     "name": "stdout",
     "output_type": "stream",
     "text": [
      "\n",
      "+-------------------------------+\n",
      "|Finding Full Width Half Maximum|\n",
      "+-------------------------------+\n",
      "\n"
     ]
    },
    {
     "name": "stderr",
     "output_type": "stream",
     "text": [
      "\n",
      "Number of sources before cleaning [ 25.0 sigma ]: 25 \n",
      "Updating search FWHM value\n"
     ]
    },
    {
     "name": "stdout",
     "output_type": "stream",
     "text": [
      "zero-size array to reduction operation fmax which has no identity\n",
      "zero-size array to reduction operation fmax which has no identity\n",
      "Updated guess for FWHM: 7.5 pixels \n"
     ]
    },
    {
     "name": "stderr",
     "output_type": "stream",
     "text": [
      "\n",
      "Number of sources before cleaning [ 25.0 sigma ]: 107 \n",
      "Removed 2 sources near boundary\n",
      "Removed 9 crowded sources\n"
     ]
    },
    {
     "name": "stdout",
     "output_type": "stream",
     "text": [
      "Fitting source for FWHM: 96/96  "
     ]
    },
    {
     "name": "stderr",
     "output_type": "stream",
     "text": [
      "Removed 24 saturated sources\n",
      "Removed 2 with high fwhm [limit: 30 [pixels]\n",
      "WARNING: Input data contains invalid values (NaNs or infs), which were automatically clipped. [astropy.stats.sigma_clipping]\n",
      "Input data contains invalid values (NaNs or infs), which were automatically clipped.\n",
      "Removed 42 FWHM outliers\n",
      "WARNING: Input data contains invalid values (NaNs or infs), which were automatically clipped. [astropy.stats.sigma_clipping]\n",
      "Input data contains invalid values (NaNs or infs), which were automatically clipped.\n",
      "Removed 33 median outliers\n",
      "Useable sources found [ 25 sigma ]: 96\n",
      "Removes 0 sources within minimum seperation [ 28 pixel ]\n",
      "\n",
      "Large error on FWHM - returning plots for user diagnostic\n",
      "/opt/anaconda3/envs/autophot/lib/python3.7/site-packages/matplotlib/axes/_base.py:2283: UserWarning: Warning: converting a masked element to nan.\n",
      "  xys = np.asarray(xys)\n",
      "/opt/anaconda3/envs/autophot/lib/python3.7/site-packages/matplotlib/axes/_base.py:2283: UserWarning: Warning: converting a masked element to nan.\n",
      "  xys = np.asarray(xys)\n",
      "/opt/anaconda3/envs/autophot/lib/python3.7/site-packages/matplotlib/backends/backend_pdf.py:1649: DeprecationWarning: NONE is deprecated and will be removed in Pillow 10 (2023-07-01). Use Resampling.NEAREST or Dither.NONE instead.\n",
      "  img = img.convert(mode='P', dither=Image.NONE,\n",
      "/opt/anaconda3/envs/autophot/lib/python3.7/site-packages/matplotlib/backends/backend_pdf.py:1650: DeprecationWarning: ADAPTIVE is deprecated and will be removed in Pillow 10 (2023-07-01). Use Palette.ADAPTIVE instead.\n",
      "  palette=Image.ADAPTIVE, colors=num_colors)\n",
      "\n",
      "FWHM: 6.664 +/- 2.096 [ pixels ]\n",
      "\n",
      "Seeing: 2.218 [ arcsec ]\n",
      "Aperture size: 11.3 pixels\n",
      "Aperture correction: -0.016 +/- 0.023 [ mag ]\n",
      "WARNING: FITSFixedWarning: 'datfix' made the change 'Invalid parameter values: MJD-OBS and DATE-OBS are inconsistent.\n",
      "Changed DATE-OBS from '2022-11-15        ' to '2022-11-15T00:00:00.0''. [astropy.wcs.wcs]\n",
      "FITSFixedWarning: 'datfix' made the change 'Invalid parameter values: MJD-OBS and DATE-OBS are inconsistent.\n",
      "Changed DATE-OBS from '2022-11-15        ' to '2022-11-15T00:00:00.0''.\n",
      "Catalog found for target_ra_21_dec_1\n",
      "Catalog: SDSS \n",
      "File: target_ra_21_dec_1_r_0.25\n",
      "Catalog length: 239\n",
      "Removed 156 sources fainter than cutoff [20 mag]\n",
      "Using Gaussian Profile for fitting\n",
      "Catalog Length: 4\n",
      "\n",
      "Median offset: 4.5 [ pixels ] / 1.5 [ arcsec ]\n",
      "Residual table updated: 1 / 10 \n",
      "\tSNR: 627 :: FWHM fitted 5.678\n"
     ]
    },
    {
     "name": "stdout",
     "output_type": "stream",
     "text": [
      "\n",
      "+--------------------------------------------+\n",
      "|Searching for catalog for target_ra_21_dec_1|\n",
      "+--------------------------------------------+\n",
      "\n",
      "\n",
      "+---------------------------------+\n",
      "|Matching catalog sources to image|\n",
      "+---------------------------------+\n",
      "\n",
      "Removed 8 sources too close to boundary or off image\n",
      "\r",
      "Matching catalog to image: 1 / 4 :: Useful sources 1 / 4 \r",
      "Matching catalog to image: 2 / 4 :: Useful sources 1 / 4 \r",
      "Matching catalog to image: 3 / 4 :: Useful sources 1 / 4 \r",
      "Matching catalog to image: 4 / 4 :: Useful sources 2 / 4   .. done\n",
      "\n",
      "Broken cutouts: 0\n",
      "Not in correct location: 0\n",
      "Not detected: 1\n",
      "Saturated: 1\n",
      "Error: 0\n",
      "\n",
      "\n",
      "+-------------------------------------------+\n",
      "|Building PSF model using stars in the field|\n",
      "+-------------------------------------------+\n",
      "\n"
     ]
    },
    {
     "name": "stderr",
     "output_type": "stream",
     "text": [
      "Residual table updated: 2 / 10 \n",
      "\tSNR: 620 :: FWHM fitted 5.543\n",
      "Residual table updated: 3 / 10 \n",
      "\tSNR: 553 :: FWHM fitted 5.628\n",
      "Residual table updated: 4 / 10 \n",
      "\tSNR: 524 :: FWHM fitted 5.812\n",
      "Residual table updated: 5 / 10 \n",
      "\tSNR: 505 :: FWHM fitted 5.615\n",
      "Residual table updated: 6 / 10 \n",
      "\tSNR: 502 :: FWHM fitted 5.864\n",
      "Residual table updated: 7 / 10 \n",
      "\tSNR: 492 :: FWHM fitted 5.792\n",
      "Residual table updated: 8 / 10 \n",
      "\tSNR: 475 :: FWHM fitted 5.491\n",
      "Residual table updated: 9 / 10 \n",
      "\tSNR: 454 :: FWHM fitted 5.591\n",
      "Found faint soures near PSF star at 5 sigma - skipping \n",
      "Residual table updated: 10 / 10 \n",
      "\tSNR: 389 :: FWHM fitted 5.866\n",
      "\n",
      "PSF built using 10 sources\n",
      "\n",
      "Unity PSF: 39.4 [counts] \n",
      "Unity Residual table: 1.4 [counts] \n",
      "Using Aperture Photometry on sequence Stars \n",
      "No PSF sources fitted\n",
      "\n",
      "Mean g-band zeropoint: 26.425 +/- 0.096 \n",
      "\n"
     ]
    },
    {
     "name": "stdout",
     "output_type": "stream",
     "text": [
      "PSF model saved as: /Users/terwelj/Documents/VirtualMachine/Observing_ING/autophot/newtest/ZTF22abqxkhd_REDUCED/r1640321redCCD4/PSF_model_r1640321redCCD4_APT.fits\n",
      "\n",
      "+-------------------+\n",
      "|Measuring PSF model|\n",
      "+-------------------+\n",
      "\n",
      "\n",
      "+-----------------------+\n",
      "|Finding Zeropoint value|\n",
      "+-----------------------+\n",
      "\n",
      "Checking for suitable catalog sources\n",
      "Removed 2 sources lower than SNR of 25.0\n"
     ]
    },
    {
     "name": "stderr",
     "output_type": "stream",
     "text": [
      "/opt/anaconda3/envs/autophot/lib/python3.7/site-packages/matplotlib/backends/backend_pdf.py:1649: DeprecationWarning: NONE is deprecated and will be removed in Pillow 10 (2023-07-01). Use Resampling.NEAREST or Dither.NONE instead.\n",
      "  img = img.convert(mode='P', dither=Image.NONE,\n",
      "/opt/anaconda3/envs/autophot/lib/python3.7/site-packages/matplotlib/backends/backend_pdf.py:1650: DeprecationWarning: ADAPTIVE is deprecated and will be removed in Pillow 10 (2023-07-01). Use Palette.ADAPTIVE instead.\n",
      "  palette=Image.ADAPTIVE, colors=num_colors)\n",
      "Target photometry on original image\n"
     ]
    },
    {
     "name": "stdout",
     "output_type": "stream",
     "text": [
      "\n",
      "+-----------------------------------+\n",
      "|Doing Aperture Photometry on Target|\n",
      "+-----------------------------------+\n",
      "\n"
     ]
    },
    {
     "name": "stderr",
     "output_type": "stream",
     "text": [
      "/opt/anaconda3/envs/autophot/lib/python3.7/site-packages/matplotlib/backends/backend_pdf.py:1649: DeprecationWarning: NONE is deprecated and will be removed in Pillow 10 (2023-07-01). Use Resampling.NEAREST or Dither.NONE instead.\n",
      "  img = img.convert(mode='P', dither=Image.NONE,\n",
      "/opt/anaconda3/envs/autophot/lib/python3.7/site-packages/matplotlib/backends/backend_pdf.py:1650: DeprecationWarning: ADAPTIVE is deprecated and will be removed in Pillow 10 (2023-07-01). Use Palette.ADAPTIVE instead.\n",
      "  palette=Image.ADAPTIVE, colors=num_colors)\n",
      "Approximate Target SNR: 234.3\n",
      "SNR = 234 - skipping limiting magnitude\n",
      "Pixel Offset: 0.000\n",
      "Limiting Magnitude: skipped\n",
      "Target Detection probability: 99 %\n",
      "Target flux: 1335.292 +/- 0.000 [counts/s]\n",
      "Noise: 875.094 [counts/s]\n",
      "Target SNR: 234.276 +/- 0.005\n",
      "Instrumental Magnitude: -7.814 +/- 0.000\n",
      "Zeropoint: 26.425 +/- 0.096\n",
      "Target Magnitude: 18.595 +/- 0.099 \n",
      "\n",
      "*** Detected with FWHM discrepancy: 0.876 pixels ***\n",
      "\n",
      "Time Taken [ 8408 ]: 24s\n",
      "Sucess: r1640321redCCD4_APT.fits :: PID 8408 \n",
      "\n",
      "File: r1639511redCCD4_APT.fits - PID: 8408\n",
      "Start Time: 2023-01-03 14:43:57.840950\n",
      "Filter keyoward used: WFFBAND\n",
      "Telescope: INT\n",
      "Filter: g\n",
      "MJD: 59896.969\n",
      "Date of Observation : 2022-11-13\n",
      "Read Noise: 5.8 [e^- /pixel]\n",
      "GAIN: 2.9 [e^- /count]\n",
      "Exposure time: 200 [s] \n",
      "Detecting/removing cosmic ray sources\n"
     ]
    },
    {
     "name": "stdout",
     "output_type": "stream",
     "text": [
      "\n",
      "+-----------+\n",
      "|File: 3 / 6|\n",
      "+-----------+\n",
      "\n",
      "Starting Astroscrappy ... "
     ]
    },
    {
     "name": "stderr",
     "output_type": "stream",
     "text": [
      "Contaminated pixels with Cosmic rays removed: 30577\n",
      "Cosmic rays removed - image updated\n",
      "WARNING: FITSFixedWarning: RADECSYS= 'FK5 ' / mean place new (after the 1976 IAU) system \n",
      "the RADECSYS keyword is deprecated, use RADESYSa. [astropy.wcs.wcs]\n",
      "FITSFixedWarning: RADECSYS= 'FK5 ' / mean place new (after the 1976 IAU) system \n",
      "the RADECSYS keyword is deprecated, use RADESYSa.\n",
      "WARNING: FITSFixedWarning: PROJP1 = 1.00000000 / Projection coefficient for primary WCS \n",
      "the PROJPn keyword is deprecated, use PVi_ma. [astropy.wcs.wcs]\n",
      "FITSFixedWarning: PROJP1 = 1.00000000 / Projection coefficient for primary WCS \n",
      "the PROJPn keyword is deprecated, use PVi_ma.\n",
      "WARNING: FITSFixedWarning: PROJP3 = 0.00000000 / Projection coefficient for primary WCS \n",
      "the PROJPn keyword is deprecated, use PVi_ma. [astropy.wcs.wcs]\n",
      "FITSFixedWarning: PROJP3 = 0.00000000 / Projection coefficient for primary WCS \n",
      "the PROJPn keyword is deprecated, use PVi_ma.\n",
      "WARNING: FITSFixedWarning: 'datfix' made the change 'Invalid parameter values: MJD-OBS and DATE-OBS are inconsistent.\n",
      "Changed DATE-OBS from '2022-11-13        ' to '2022-11-13T00:00:00.0''. [astropy.wcs.wcs]\n",
      "FITSFixedWarning: 'datfix' made the change 'Invalid parameter values: MJD-OBS and DATE-OBS are inconsistent.\n",
      "Changed DATE-OBS from '2022-11-13        ' to '2022-11-13T00:00:00.0''.\n",
      "\n",
      "Performing Astrometry.net\n",
      "Removing any pre-existing WCS keys \n",
      "No WCS values found - attempting to solve field\n",
      "ASTROMETRY started...\n",
      "ASTROMETRY finished: 3s\n",
      "Updating WCS keys with new values\n",
      "WCS saved to new file\n",
      "\n",
      "Searching for FWHM\n",
      "Using Gaussian Profile for fitting\n"
     ]
    },
    {
     "name": "stdout",
     "output_type": "stream",
     "text": [
      "\n",
      "+-------------------------------+\n",
      "|Finding Full Width Half Maximum|\n",
      "+-------------------------------+\n",
      "\n"
     ]
    },
    {
     "name": "stderr",
     "output_type": "stream",
     "text": [
      "\n",
      "Number of sources before cleaning [ 25.0 sigma ]: 25 \n",
      "Updating search FWHM value\n"
     ]
    },
    {
     "name": "stdout",
     "output_type": "stream",
     "text": [
      "Updated guess for FWHM: 8.4 pixels \n"
     ]
    },
    {
     "name": "stderr",
     "output_type": "stream",
     "text": [
      "\n",
      "Number of sources before cleaning [ 25.0 sigma ]: 52 \n",
      "Removed 3 sources near boundary\n",
      "Removed 2 crowded sources\n"
     ]
    },
    {
     "name": "stdout",
     "output_type": "stream",
     "text": [
      "Fitting source for FWHM: 47/47 "
     ]
    },
    {
     "name": "stderr",
     "output_type": "stream",
     "text": [
      "Removed 13 saturated sources\n",
      "WARNING: Input data contains invalid values (NaNs or infs), which were automatically clipped. [astropy.stats.sigma_clipping]\n",
      "Input data contains invalid values (NaNs or infs), which were automatically clipped.\n",
      "Removed 16 FWHM outliers\n",
      "WARNING: Input data contains invalid values (NaNs or infs), which were automatically clipped. [astropy.stats.sigma_clipping]\n",
      "Input data contains invalid values (NaNs or infs), which were automatically clipped.\n",
      "Removed 14 median outliers\n",
      "Useable sources found [ 25 sigma ]: 47\n",
      "Removes 0 sources within minimum seperation [ 33 pixel ]\n",
      "\n",
      "FWHM: 6.851 +/- 0.865 [ pixels ]\n",
      "\n",
      "Seeing: 2.276 [ arcsec ]\n",
      "Aperture size: 11.6 pixels\n",
      "Aperture correction: -0.021 +/- 0.008 [ mag ]\n",
      "WARNING: FITSFixedWarning: 'datfix' made the change 'Invalid parameter values: MJD-OBS and DATE-OBS are inconsistent.\n",
      "Changed DATE-OBS from '2022-11-13        ' to '2022-11-13T00:00:00.0''. [astropy.wcs.wcs]\n",
      "FITSFixedWarning: 'datfix' made the change 'Invalid parameter values: MJD-OBS and DATE-OBS are inconsistent.\n",
      "Changed DATE-OBS from '2022-11-13        ' to '2022-11-13T00:00:00.0''.\n",
      "Catalog found for target_ra_21_dec_1\n",
      "Catalog: SDSS \n",
      "File: target_ra_21_dec_1_r_0.25\n",
      "Catalog length: 239\n",
      "Removed 156 sources fainter than cutoff [20 mag]\n",
      "Using Gaussian Profile for fitting\n",
      "Catalog Length: 1\n",
      "Could NOT find any catalog sources in field\n",
      "Traceback (most recent call last):\n",
      "  File \"/opt/anaconda3/envs/autophot/lib/python3.7/site-packages/autophot/packages/main.py\", line 1139, in main\n",
      "    raise Exception('Could NOT find any catalog sources in field')\n",
      "Exception: Could NOT find any catalog sources in field\n",
      "Failure: r1639511redCCD4_APT.fits - PID: 8408\n"
     ]
    },
    {
     "name": "stdout",
     "output_type": "stream",
     "text": [
      "\n",
      "+--------------------------------------------+\n",
      "|Searching for catalog for target_ra_21_dec_1|\n",
      "+--------------------------------------------+\n",
      "\n",
      "\n",
      "+---------------------------------+\n",
      "|Matching catalog sources to image|\n",
      "+---------------------------------+\n",
      "\n",
      "Removed 11 sources too close to boundary or off image\n",
      "\r",
      "Matching catalog to image: 1 / 1 :: Useful sources 1 / 1   .. done\n",
      "\n",
      "Broken cutouts: 0\n",
      "Not in correct location: 0\n",
      "Not detected: 1\n",
      "Saturated: 0\n",
      "Error: 0\n",
      "\n",
      "\n",
      "+-----------+\n",
      "|File: 4 / 6|\n",
      "+-----------+\n",
      "\n"
     ]
    },
    {
     "name": "stderr",
     "output_type": "stream",
     "text": [
      "File: r1640323redCCD4_APT.fits - PID: 8408\n",
      "Start Time: 2023-01-03 14:44:17.015691\n",
      "Filter keyoward used: WFFBAND\n",
      "Telescope: INT\n",
      "Filter: r\n",
      "MJD: 59898.058\n",
      "Date of Observation : 2022-11-15\n",
      "Read Noise: 5.8 [e^- /pixel]\n",
      "GAIN: 2.9 [e^- /count]\n",
      "Exposure time: 200 [s] \n",
      "Detecting/removing cosmic ray sources\n"
     ]
    },
    {
     "name": "stdout",
     "output_type": "stream",
     "text": [
      "Starting Astroscrappy ... "
     ]
    },
    {
     "name": "stderr",
     "output_type": "stream",
     "text": [
      "Contaminated pixels with Cosmic rays removed: 54690\n",
      "Cosmic rays removed - image updated\n",
      "WARNING: FITSFixedWarning: RADECSYS= 'FK5 ' / mean place new (after the 1976 IAU) system \n",
      "the RADECSYS keyword is deprecated, use RADESYSa. [astropy.wcs.wcs]\n",
      "FITSFixedWarning: RADECSYS= 'FK5 ' / mean place new (after the 1976 IAU) system \n",
      "the RADECSYS keyword is deprecated, use RADESYSa.\n",
      "WARNING: FITSFixedWarning: PROJP1 = 1.00000000 / Projection coefficient for primary WCS \n",
      "the PROJPn keyword is deprecated, use PVi_ma. [astropy.wcs.wcs]\n",
      "FITSFixedWarning: PROJP1 = 1.00000000 / Projection coefficient for primary WCS \n",
      "the PROJPn keyword is deprecated, use PVi_ma.\n",
      "WARNING: FITSFixedWarning: PROJP3 = 0.00000000 / Projection coefficient for primary WCS \n",
      "the PROJPn keyword is deprecated, use PVi_ma. [astropy.wcs.wcs]\n",
      "FITSFixedWarning: PROJP3 = 0.00000000 / Projection coefficient for primary WCS \n",
      "the PROJPn keyword is deprecated, use PVi_ma.\n",
      "WARNING: FITSFixedWarning: 'datfix' made the change 'Invalid parameter values: MJD-OBS and DATE-OBS are inconsistent.\n",
      "Changed DATE-OBS from '2022-11-15        ' to '2022-11-15T00:00:00.0''. [astropy.wcs.wcs]\n",
      "FITSFixedWarning: 'datfix' made the change 'Invalid parameter values: MJD-OBS and DATE-OBS are inconsistent.\n",
      "Changed DATE-OBS from '2022-11-15        ' to '2022-11-15T00:00:00.0''.\n",
      "\n",
      "Performing Astrometry.net\n",
      "Removing any pre-existing WCS keys \n",
      "No WCS values found - attempting to solve field\n",
      "ASTROMETRY started...\n",
      "ASTROMETRY finished: 3s\n",
      "Updating WCS keys with new values\n",
      "WCS saved to new file\n",
      "\n",
      "Searching for FWHM\n",
      "Using Gaussian Profile for fitting\n"
     ]
    },
    {
     "name": "stdout",
     "output_type": "stream",
     "text": [
      "\n",
      "+-------------------------------+\n",
      "|Finding Full Width Half Maximum|\n",
      "+-------------------------------+\n",
      "\n"
     ]
    },
    {
     "name": "stderr",
     "output_type": "stream",
     "text": [
      "\n",
      "Number of sources before cleaning [ 25.0 sigma ]: 25 \n",
      "Updating search FWHM value\n"
     ]
    },
    {
     "name": "stdout",
     "output_type": "stream",
     "text": [
      "Updated guess for FWHM: 7.7 pixels \n"
     ]
    },
    {
     "name": "stderr",
     "output_type": "stream",
     "text": [
      "\n",
      "Number of sources before cleaning [ 25.0 sigma ]: 65 \n",
      "Removed 3 sources near boundary\n",
      "Removed 2 crowded sources\n"
     ]
    },
    {
     "name": "stdout",
     "output_type": "stream",
     "text": [
      "Fitting source for FWHM: 60/60   "
     ]
    },
    {
     "name": "stderr",
     "output_type": "stream",
     "text": [
      "Removed 20 saturated sources\n",
      "WARNING: Input data contains invalid values (NaNs or infs), which were automatically clipped. [astropy.stats.sigma_clipping]\n",
      "Input data contains invalid values (NaNs or infs), which were automatically clipped.\n",
      "Removed 24 FWHM outliers\n",
      "WARNING: Input data contains invalid values (NaNs or infs), which were automatically clipped. [astropy.stats.sigma_clipping]\n",
      "Input data contains invalid values (NaNs or infs), which were automatically clipped.\n",
      "Removed 24 median outliers\n",
      "Useable sources found [ 25 sigma ]: 60\n",
      "Removes 0 sources within minimum seperation [ 26 pixel ]\n",
      "\n",
      "FWHM: 5.651 +/- 1.152 [ pixels ]\n",
      "\n",
      "Seeing: 1.874 [ arcsec ]\n",
      "Aperture size: 9.6 pixels\n",
      "Aperture correction: -0.022 +/- 0.004 [ mag ]\n"
     ]
    },
    {
     "name": "stdout",
     "output_type": "stream",
     "text": [
      "\n",
      "+--------------------------------------------+\n",
      "|Searching for catalog for target_ra_21_dec_1|\n",
      "+--------------------------------------------+\n",
      "\n"
     ]
    },
    {
     "name": "stderr",
     "output_type": "stream",
     "text": [
      "WARNING: FITSFixedWarning: 'datfix' made the change 'Invalid parameter values: MJD-OBS and DATE-OBS are inconsistent.\n",
      "Changed DATE-OBS from '2022-11-15        ' to '2022-11-15T00:00:00.0''. [astropy.wcs.wcs]\n",
      "FITSFixedWarning: 'datfix' made the change 'Invalid parameter values: MJD-OBS and DATE-OBS are inconsistent.\n",
      "Changed DATE-OBS from '2022-11-15        ' to '2022-11-15T00:00:00.0''.\n",
      "Catalog found for target_ra_21_dec_1\n",
      "Catalog: SDSS \n",
      "File: target_ra_21_dec_1_r_0.25\n",
      "Catalog length: 239\n",
      "Removed 149 sources fainter than cutoff [20 mag]\n",
      "Using Gaussian Profile for fitting\n",
      "Catalog Length: 7\n",
      "\n",
      "Median offset: 3.3 [ pixels ] / 1.1 [ arcsec ]\n",
      "Residual table updated: 1 / 10 \n",
      "\tSNR: 792 :: FWHM fitted 5.407\n"
     ]
    },
    {
     "name": "stdout",
     "output_type": "stream",
     "text": [
      "\n",
      "+---------------------------------+\n",
      "|Matching catalog sources to image|\n",
      "+---------------------------------+\n",
      "\n",
      "Removed 12 sources too close to boundary or off image\n",
      "\r",
      "Matching catalog to image: 1 / 7 :: Useful sources 1 / 7 \r",
      "Matching catalog to image: 2 / 7 :: Useful sources 2 / 7 \r",
      "Matching catalog to image: 3 / 7 :: Useful sources 3 / 7 \r",
      "Matching catalog to image: 4 / 7 :: Useful sources 3 / 7 \r",
      "Matching catalog to image: 5 / 7 :: Useful sources 4 / 7 \r",
      "Matching catalog to image: 6 / 7 :: Useful sources 4 / 7 \r",
      "Matching catalog to image: 7 / 7 :: Useful sources 4 / 7   .. done\n",
      "\n",
      "Broken cutouts: 0\n",
      "Not in correct location: 0\n",
      "Not detected: 4\n",
      "Saturated: 0\n",
      "Error: 0\n",
      "\n",
      "\n",
      "+-------------------------------------------+\n",
      "|Building PSF model using stars in the field|\n",
      "+-------------------------------------------+\n",
      "\n"
     ]
    },
    {
     "name": "stderr",
     "output_type": "stream",
     "text": [
      "Residual table updated: 2 / 10 \n",
      "\tSNR: 779 :: FWHM fitted 5.214\n",
      "Residual table updated: 3 / 10 \n",
      "\tSNR: 772 :: FWHM fitted 5.350\n",
      "Residual table updated: 4 / 10 \n",
      "\tSNR: 751 :: FWHM fitted 5.327\n",
      "Residual table updated: 5 / 10 \n",
      "\tSNR: 706 :: FWHM fitted 5.488\n",
      "Residual table updated: 6 / 10 \n",
      "\tSNR: 696 :: FWHM fitted 5.121\n",
      "Residual table updated: 7 / 10 \n",
      "\tSNR: 642 :: FWHM fitted 5.178\n",
      "Residual table updated: 8 / 10 \n",
      "\tSNR: 599 :: FWHM fitted 5.200\n",
      "Residual table updated: 9 / 10 \n",
      "\tSNR: 593 :: FWHM fitted 5.489\n",
      "Residual table updated: 10 / 10 \n",
      "\tSNR: 589 :: FWHM fitted 5.204\n",
      "\n",
      "PSF built using 10 sources\n",
      "\n",
      "Unity PSF: 33.5 [counts] \n",
      "Unity Residual table: 1.3 [counts] \n",
      "Using Aperture Photometry on sequence Stars \n",
      "No PSF sources fitted\n",
      "\n",
      "Mean r-band zeropoint: 26.072 +/- 0.011 \n",
      "\n"
     ]
    },
    {
     "name": "stdout",
     "output_type": "stream",
     "text": [
      "PSF model saved as: /Users/terwelj/Documents/VirtualMachine/Observing_ING/autophot/newtest/ZTF22abqxkhd_REDUCED/r1640323redCCD4/PSF_model_r1640323redCCD4_APT.fits\n",
      "\n",
      "+-------------------+\n",
      "|Measuring PSF model|\n",
      "+-------------------+\n",
      "\n",
      "\n",
      "+-----------------------+\n",
      "|Finding Zeropoint value|\n",
      "+-----------------------+\n",
      "\n",
      "Checking for suitable catalog sources\n",
      "Removed 3 sources lower than SNR of 25.0\n"
     ]
    },
    {
     "name": "stderr",
     "output_type": "stream",
     "text": [
      "/opt/anaconda3/envs/autophot/lib/python3.7/site-packages/matplotlib/backends/backend_pdf.py:1649: DeprecationWarning: NONE is deprecated and will be removed in Pillow 10 (2023-07-01). Use Resampling.NEAREST or Dither.NONE instead.\n",
      "  img = img.convert(mode='P', dither=Image.NONE,\n",
      "/opt/anaconda3/envs/autophot/lib/python3.7/site-packages/matplotlib/backends/backend_pdf.py:1650: DeprecationWarning: ADAPTIVE is deprecated and will be removed in Pillow 10 (2023-07-01). Use Palette.ADAPTIVE instead.\n",
      "  palette=Image.ADAPTIVE, colors=num_colors)\n",
      "Target photometry on original image\n"
     ]
    },
    {
     "name": "stdout",
     "output_type": "stream",
     "text": [
      "\n",
      "+-----------------------------------+\n",
      "|Doing Aperture Photometry on Target|\n",
      "+-----------------------------------+\n",
      "\n"
     ]
    },
    {
     "name": "stderr",
     "output_type": "stream",
     "text": [
      "/opt/anaconda3/envs/autophot/lib/python3.7/site-packages/matplotlib/backends/backend_pdf.py:1649: DeprecationWarning: NONE is deprecated and will be removed in Pillow 10 (2023-07-01). Use Resampling.NEAREST or Dither.NONE instead.\n",
      "  img = img.convert(mode='P', dither=Image.NONE,\n",
      "/opt/anaconda3/envs/autophot/lib/python3.7/site-packages/matplotlib/backends/backend_pdf.py:1650: DeprecationWarning: ADAPTIVE is deprecated and will be removed in Pillow 10 (2023-07-01). Use Palette.ADAPTIVE instead.\n",
      "  palette=Image.ADAPTIVE, colors=num_colors)\n",
      "Approximate Target SNR: 184.6\n",
      "SNR = 185 - skipping limiting magnitude\n",
      "Pixel Offset: 0.000\n",
      "Limiting Magnitude: skipped\n",
      "Target Detection probability: 100 %\n",
      "Target flux: 1536.857 +/- 0.000 [counts/s]\n",
      "Noise: 756.810 [counts/s]\n",
      "Target SNR: 184.554 +/- 0.006\n",
      "Instrumental Magnitude: -7.967 +/- 0.000\n",
      "Zeropoint: 26.072 +/- 0.011\n",
      "Target Magnitude: 18.084 +/- 0.013 \n",
      "\n",
      "*** Transient well detected ***\n",
      "\n",
      "Time Taken [ 8408 ]: 21s\n",
      "Sucess: r1640323redCCD4_APT.fits :: PID 8408 \n",
      "\n",
      "File: r1639513redCCD4_APT.fits - PID: 8408\n",
      "Start Time: 2023-01-03 14:44:38.361339\n",
      "Filter keyoward used: WFFBAND\n",
      "Telescope: INT\n",
      "Filter: i\n",
      "MJD: 59896.977\n",
      "Date of Observation : 2022-11-13\n",
      "Read Noise: 5.8 [e^- /pixel]\n",
      "GAIN: 2.9 [e^- /count]\n",
      "Exposure time: 800 [s] \n",
      "Detecting/removing cosmic ray sources\n"
     ]
    },
    {
     "name": "stdout",
     "output_type": "stream",
     "text": [
      "\n",
      "+-----------+\n",
      "|File: 5 / 6|\n",
      "+-----------+\n",
      "\n",
      "Starting Astroscrappy ... "
     ]
    },
    {
     "name": "stderr",
     "output_type": "stream",
     "text": [
      "Contaminated pixels with Cosmic rays removed: 44901\n",
      "Cosmic rays removed - image updated\n",
      "WARNING: FITSFixedWarning: RADECSYS= 'FK5 ' / mean place new (after the 1976 IAU) system \n",
      "the RADECSYS keyword is deprecated, use RADESYSa. [astropy.wcs.wcs]\n",
      "FITSFixedWarning: RADECSYS= 'FK5 ' / mean place new (after the 1976 IAU) system \n",
      "the RADECSYS keyword is deprecated, use RADESYSa.\n",
      "WARNING: FITSFixedWarning: PROJP1 = 1.00000000 / Projection coefficient for primary WCS \n",
      "the PROJPn keyword is deprecated, use PVi_ma. [astropy.wcs.wcs]\n",
      "FITSFixedWarning: PROJP1 = 1.00000000 / Projection coefficient for primary WCS \n",
      "the PROJPn keyword is deprecated, use PVi_ma.\n",
      "WARNING: FITSFixedWarning: PROJP3 = 0.00000000 / Projection coefficient for primary WCS \n",
      "the PROJPn keyword is deprecated, use PVi_ma. [astropy.wcs.wcs]\n",
      "FITSFixedWarning: PROJP3 = 0.00000000 / Projection coefficient for primary WCS \n",
      "the PROJPn keyword is deprecated, use PVi_ma.\n",
      "WARNING: FITSFixedWarning: 'datfix' made the change 'Invalid parameter values: MJD-OBS and DATE-OBS are inconsistent.\n",
      "Changed DATE-OBS from '2022-11-13        ' to '2022-11-13T00:00:00.0''. [astropy.wcs.wcs]\n",
      "FITSFixedWarning: 'datfix' made the change 'Invalid parameter values: MJD-OBS and DATE-OBS are inconsistent.\n",
      "Changed DATE-OBS from '2022-11-13        ' to '2022-11-13T00:00:00.0''.\n",
      "\n",
      "Performing Astrometry.net\n",
      "Removing any pre-existing WCS keys \n",
      "No WCS values found - attempting to solve field\n",
      "ASTROMETRY started...\n",
      "ASTROMETRY finished: 4s\n",
      "Updating WCS keys with new values\n",
      "WCS saved to new file\n",
      "\n",
      "Searching for FWHM\n",
      "Using Gaussian Profile for fitting\n"
     ]
    },
    {
     "name": "stdout",
     "output_type": "stream",
     "text": [
      "\n",
      "+-------------------------------+\n",
      "|Finding Full Width Half Maximum|\n",
      "+-------------------------------+\n",
      "\n"
     ]
    },
    {
     "name": "stderr",
     "output_type": "stream",
     "text": [
      "\n",
      "Number of sources before cleaning [ 25.0 sigma ]: 25 \n",
      "Updating search FWHM value\n"
     ]
    },
    {
     "name": "stdout",
     "output_type": "stream",
     "text": [
      "Updated guess for FWHM: 7.0 pixels \n"
     ]
    },
    {
     "name": "stderr",
     "output_type": "stream",
     "text": [
      "\n",
      "Number of sources before cleaning [ 25.0 sigma ]: 76 \n",
      "Removed 2 sources near boundary\n",
      "Removed 28 crowded sources\n"
     ]
    },
    {
     "name": "stdout",
     "output_type": "stream",
     "text": [
      "Fitting source for FWHM: 46/46 "
     ]
    },
    {
     "name": "stderr",
     "output_type": "stream",
     "text": [
      "Removed 43 saturated sources\n",
      "WARNING: Input data contains invalid values (NaNs or infs), which were automatically clipped. [astropy.stats.sigma_clipping]\n",
      "Input data contains invalid values (NaNs or infs), which were automatically clipped.\n",
      "Removed 44 FWHM outliers\n",
      "WARNING: Input data contains invalid values (NaNs or infs), which were automatically clipped. [astropy.stats.sigma_clipping]\n",
      "Input data contains invalid values (NaNs or infs), which were automatically clipped.\n",
      "Useable sources found [ 25 sigma ]: 46\n",
      "Removes 0 sources within minimum seperation [ 32 pixel ]\n",
      "\n",
      "FWHM: 6.384 +/- 0.026 [ pixels ]\n",
      "\n",
      "Seeing: 2.116 [ arcsec ]\n",
      "Aperture size: 10.9 pixels\n",
      "Aperture correction: -0.027 +/- 0.013 [ mag ]\n",
      "WARNING: FITSFixedWarning: 'datfix' made the change 'Invalid parameter values: MJD-OBS and DATE-OBS are inconsistent.\n",
      "Changed DATE-OBS from '2022-11-13        ' to '2022-11-13T00:00:00.0''. [astropy.wcs.wcs]\n",
      "FITSFixedWarning: 'datfix' made the change 'Invalid parameter values: MJD-OBS and DATE-OBS are inconsistent.\n",
      "Changed DATE-OBS from '2022-11-13        ' to '2022-11-13T00:00:00.0''.\n",
      "Catalog found for target_ra_21_dec_1\n",
      "Catalog: SDSS \n",
      "File: target_ra_21_dec_1_r_0.25\n",
      "Catalog length: 239\n",
      "Removed 137 sources fainter than cutoff [20 mag]\n",
      "Using Gaussian Profile for fitting\n",
      "Catalog Length: 6\n"
     ]
    },
    {
     "name": "stdout",
     "output_type": "stream",
     "text": [
      "\n",
      "+--------------------------------------------+\n",
      "|Searching for catalog for target_ra_21_dec_1|\n",
      "+--------------------------------------------+\n",
      "\n",
      "\n",
      "+---------------------------------+\n",
      "|Matching catalog sources to image|\n",
      "+---------------------------------+\n",
      "\n",
      "Removed 25 sources too close to boundary or off image\n",
      "\r",
      "Matching catalog to image: 1 / 6 :: Useful sources 1 / 6 \r",
      "Matching catalog to image: 2 / 6 :: Useful sources 1 / 6 \r",
      "Matching catalog to image: 3 / 6 :: Useful sources 2 / 6 \r",
      "Matching catalog to image: 4 / 6 :: Useful sources 3 / 6 \r",
      "Matching catalog to image: 5 / 6 :: Useful sources 4 / 6 "
     ]
    },
    {
     "name": "stderr",
     "output_type": "stream",
     "text": [
      "\n",
      "Median offset: 11.8 [ pixels ] / 3.9 [ arcsec ]\n"
     ]
    },
    {
     "name": "stdout",
     "output_type": "stream",
     "text": [
      "\r",
      "Matching catalog to image: 6 / 6 :: Useful sources 5 / 6   .. done\n",
      "\n",
      "Broken cutouts: 1\n",
      "Not in correct location: 0\n",
      "Not detected: 1\n",
      "Saturated: 0\n",
      "Error: 0\n",
      "\n",
      "\n",
      "+-------------------------------------------+\n",
      "|Building PSF model using stars in the field|\n",
      "+-------------------------------------------+\n",
      "\n"
     ]
    },
    {
     "name": "stderr",
     "output_type": "stream",
     "text": [
      "Residual table updated: 1 / 10 \n",
      "\tSNR: 482 :: FWHM fitted 6.397\n",
      "Residual table updated: 2 / 10 \n",
      "\tSNR: 456 :: FWHM fitted 6.407\n",
      "Residual table updated: 3 / 10 \n",
      "\tSNR: 454 :: FWHM fitted 6.348\n",
      "Using worst case scenario number of sources\n",
      "\n",
      "PSF built using 3 sources\n",
      "\n",
      "Unity PSF: 48.3 [counts] \n",
      "Unity Residual table: 1.9 [counts] \n",
      "Using Aperture Photometry on sequence Stars \n",
      "No PSF sources fitted\n",
      "WARNING: Input data contains invalid values (NaNs or infs), which were automatically clipped. [astropy.stats.sigma_clipping]\n",
      "Input data contains invalid values (NaNs or infs), which were automatically clipped.\n",
      "\n",
      "Mean i-band zeropoint: 25.815 +/- 0.125 \n",
      "\n"
     ]
    },
    {
     "name": "stdout",
     "output_type": "stream",
     "text": [
      "PSF model saved as: /Users/terwelj/Documents/VirtualMachine/Observing_ING/autophot/newtest/ZTF22abqxkhd_REDUCED/r1639513redCCD4/PSF_model_r1639513redCCD4_APT.fits\n",
      "\n",
      "+-------------------+\n",
      "|Measuring PSF model|\n",
      "+-------------------+\n",
      "\n",
      "\n",
      "+-----------------------+\n",
      "|Finding Zeropoint value|\n",
      "+-----------------------+\n",
      "\n",
      "Checking for suitable catalog sources\n",
      "Removed 3 sources lower than SNR of 25.0\n"
     ]
    },
    {
     "name": "stderr",
     "output_type": "stream",
     "text": [
      "/opt/anaconda3/envs/autophot/lib/python3.7/site-packages/matplotlib/backends/backend_pdf.py:1649: DeprecationWarning: NONE is deprecated and will be removed in Pillow 10 (2023-07-01). Use Resampling.NEAREST or Dither.NONE instead.\n",
      "  img = img.convert(mode='P', dither=Image.NONE,\n",
      "/opt/anaconda3/envs/autophot/lib/python3.7/site-packages/matplotlib/backends/backend_pdf.py:1650: DeprecationWarning: ADAPTIVE is deprecated and will be removed in Pillow 10 (2023-07-01). Use Palette.ADAPTIVE instead.\n",
      "  palette=Image.ADAPTIVE, colors=num_colors)\n",
      "Target photometry on original image\n"
     ]
    },
    {
     "name": "stdout",
     "output_type": "stream",
     "text": [
      "\n",
      "+-----------------------------------+\n",
      "|Doing Aperture Photometry on Target|\n",
      "+-----------------------------------+\n",
      "\n"
     ]
    },
    {
     "name": "stderr",
     "output_type": "stream",
     "text": [
      "/opt/anaconda3/envs/autophot/lib/python3.7/site-packages/matplotlib/backends/backend_pdf.py:1649: DeprecationWarning: NONE is deprecated and will be removed in Pillow 10 (2023-07-01). Use Resampling.NEAREST or Dither.NONE instead.\n",
      "  img = img.convert(mode='P', dither=Image.NONE,\n",
      "/opt/anaconda3/envs/autophot/lib/python3.7/site-packages/matplotlib/backends/backend_pdf.py:1650: DeprecationWarning: ADAPTIVE is deprecated and will be removed in Pillow 10 (2023-07-01). Use Palette.ADAPTIVE instead.\n",
      "  palette=Image.ADAPTIVE, colors=num_colors)\n",
      "Approximate Target SNR: 319.1\n",
      "SNR = 319 - skipping limiting magnitude\n",
      "Pixel Offset: 0.000\n",
      "Limiting Magnitude: skipped\n",
      "Target Detection probability: 99 %\n",
      "Target flux: 1449.414 +/- 0.000 [counts/s]\n",
      "Noise: 774.864 [counts/s]\n",
      "Target SNR: 319.124 +/- 0.003\n",
      "Instrumental Magnitude: -7.903 +/- 0.000\n",
      "Zeropoint: 25.815 +/- 0.125\n",
      "Target Magnitude: 17.885 +/- 0.126 \n",
      "\n",
      "*** Transient well detected ***\n",
      "\n",
      "Time Taken [ 8408 ]: 21s\n",
      "Sucess: r1639513redCCD4_APT.fits :: PID 8408 \n",
      "\n",
      "File: r1639515redCCD4_APT.fits - PID: 8408\n",
      "Start Time: 2023-01-03 14:44:59.317875\n",
      "Filter keyoward used: WFFBAND\n",
      "Telescope: INT\n",
      "Filter: r\n",
      "MJD: 59896.995\n",
      "Date of Observation : 2022-11-13\n",
      "Read Noise: 5.8 [e^- /pixel]\n",
      "GAIN: 2.9 [e^- /count]\n",
      "Exposure time: 200 [s] \n",
      "Detecting/removing cosmic ray sources\n"
     ]
    },
    {
     "name": "stdout",
     "output_type": "stream",
     "text": [
      "\n",
      "+-----------+\n",
      "|File: 6 / 6|\n",
      "+-----------+\n",
      "\n",
      "Starting Astroscrappy ... "
     ]
    },
    {
     "name": "stderr",
     "output_type": "stream",
     "text": [
      "Contaminated pixels with Cosmic rays removed: 33721\n",
      "Cosmic rays removed - image updated\n",
      "WARNING: FITSFixedWarning: RADECSYS= 'FK5 ' / mean place new (after the 1976 IAU) system \n",
      "the RADECSYS keyword is deprecated, use RADESYSa. [astropy.wcs.wcs]\n",
      "FITSFixedWarning: RADECSYS= 'FK5 ' / mean place new (after the 1976 IAU) system \n",
      "the RADECSYS keyword is deprecated, use RADESYSa.\n",
      "WARNING: FITSFixedWarning: PROJP1 = 1.00000000 / Projection coefficient for primary WCS \n",
      "the PROJPn keyword is deprecated, use PVi_ma. [astropy.wcs.wcs]\n",
      "FITSFixedWarning: PROJP1 = 1.00000000 / Projection coefficient for primary WCS \n",
      "the PROJPn keyword is deprecated, use PVi_ma.\n",
      "WARNING: FITSFixedWarning: PROJP3 = 0.00000000 / Projection coefficient for primary WCS \n",
      "the PROJPn keyword is deprecated, use PVi_ma. [astropy.wcs.wcs]\n",
      "FITSFixedWarning: PROJP3 = 0.00000000 / Projection coefficient for primary WCS \n",
      "the PROJPn keyword is deprecated, use PVi_ma.\n",
      "WARNING: FITSFixedWarning: 'datfix' made the change 'Invalid parameter values: MJD-OBS and DATE-OBS are inconsistent.\n",
      "Changed DATE-OBS from '2022-11-13        ' to '2022-11-13T00:00:00.0''. [astropy.wcs.wcs]\n",
      "FITSFixedWarning: 'datfix' made the change 'Invalid parameter values: MJD-OBS and DATE-OBS are inconsistent.\n",
      "Changed DATE-OBS from '2022-11-13        ' to '2022-11-13T00:00:00.0''.\n",
      "\n",
      "Performing Astrometry.net\n",
      "Removing any pre-existing WCS keys \n",
      "No WCS values found - attempting to solve field\n",
      "ASTROMETRY started...\n",
      "ASTROMETRY finished: 3s\n",
      "Updating WCS keys with new values\n",
      "WCS saved to new file\n",
      "\n",
      "Searching for FWHM\n",
      "Using Gaussian Profile for fitting\n"
     ]
    },
    {
     "name": "stdout",
     "output_type": "stream",
     "text": [
      "\n",
      "+-------------------------------+\n",
      "|Finding Full Width Half Maximum|\n",
      "+-------------------------------+\n",
      "\n"
     ]
    },
    {
     "name": "stderr",
     "output_type": "stream",
     "text": [
      "\n",
      "Number of sources before cleaning [ 25.0 sigma ]: 25 \n",
      "Updating search FWHM value\n"
     ]
    },
    {
     "name": "stdout",
     "output_type": "stream",
     "text": [
      "Updated guess for FWHM: 8.5 pixels \n"
     ]
    },
    {
     "name": "stderr",
     "output_type": "stream",
     "text": [
      "\n",
      "Number of sources before cleaning [ 25.0 sigma ]: 96 \n",
      "Removed 1 sources near boundary\n",
      "Removed 2 crowded sources\n"
     ]
    },
    {
     "name": "stdout",
     "output_type": "stream",
     "text": [
      "Fitting source for FWHM: 93/93   "
     ]
    },
    {
     "name": "stderr",
     "output_type": "stream",
     "text": [
      "Removed 14 saturated sources\n",
      "WARNING: Input data contains invalid values (NaNs or infs), which were automatically clipped. [astropy.stats.sigma_clipping]\n",
      "Input data contains invalid values (NaNs or infs), which were automatically clipped.\n",
      "Removed 29 FWHM outliers\n",
      "WARNING: Input data contains invalid values (NaNs or infs), which were automatically clipped. [astropy.stats.sigma_clipping]\n",
      "Input data contains invalid values (NaNs or infs), which were automatically clipped.\n",
      "Removed 22 median outliers\n",
      "Useable sources found [ 25 sigma ]: 93\n",
      "Removes 0 sources within minimum seperation [ 32 pixel ]\n",
      "\n",
      "FWHM: 6.931 +/- 1.475 [ pixels ]\n",
      "\n",
      "Seeing: 2.304 [ arcsec ]\n",
      "Aperture size: 11.8 pixels\n",
      "Aperture correction: -0.021 +/- 0.027 [ mag ]\n",
      "WARNING: FITSFixedWarning: 'datfix' made the change 'Invalid parameter values: MJD-OBS and DATE-OBS are inconsistent.\n",
      "Changed DATE-OBS from '2022-11-13        ' to '2022-11-13T00:00:00.0''. [astropy.wcs.wcs]\n",
      "FITSFixedWarning: 'datfix' made the change 'Invalid parameter values: MJD-OBS and DATE-OBS are inconsistent.\n",
      "Changed DATE-OBS from '2022-11-13        ' to '2022-11-13T00:00:00.0''.\n",
      "Catalog found for target_ra_21_dec_1\n",
      "Catalog: SDSS \n",
      "File: target_ra_21_dec_1_r_0.25\n",
      "Catalog length: 239\n",
      "Removed 149 sources fainter than cutoff [20 mag]\n",
      "Using Gaussian Profile for fitting\n",
      "Catalog Length: 5\n",
      "\n",
      "Median offset: 5.3 [ pixels ] / 1.8 [ arcsec ]\n",
      "Found faint soures near PSF star at 5 sigma - skipping \n"
     ]
    },
    {
     "name": "stdout",
     "output_type": "stream",
     "text": [
      "\n",
      "+--------------------------------------------+\n",
      "|Searching for catalog for target_ra_21_dec_1|\n",
      "+--------------------------------------------+\n",
      "\n",
      "\n",
      "+---------------------------------+\n",
      "|Matching catalog sources to image|\n",
      "+---------------------------------+\n",
      "\n",
      "Removed 14 sources too close to boundary or off image\n",
      "\r",
      "Matching catalog to image: 1 / 5 :: Useful sources 1 / 5 \r",
      "Matching catalog to image: 2 / 5 :: Useful sources 2 / 5 \r",
      "Matching catalog to image: 3 / 5 :: Useful sources 2 / 5 \r",
      "Matching catalog to image: 4 / 5 :: Useful sources 3 / 5 \r",
      "Matching catalog to image: 5 / 5 :: Useful sources 3 / 5   .. done\n",
      "\n",
      "Broken cutouts: 0\n",
      "Not in correct location: 0\n",
      "Not detected: 2\n",
      "Saturated: 0\n",
      "Error: 0\n",
      "\n",
      "\n",
      "+-------------------------------------------+\n",
      "|Building PSF model using stars in the field|\n",
      "+-------------------------------------------+\n",
      "\n"
     ]
    },
    {
     "name": "stderr",
     "output_type": "stream",
     "text": [
      "Residual table updated: 1 / 10 \n",
      "\tSNR: 1031 :: FWHM fitted 6.353\n",
      "Residual table updated: 2 / 10 \n",
      "\tSNR: 968 :: FWHM fitted 6.439\n",
      "Residual table updated: 3 / 10 \n",
      "\tSNR: 940 :: FWHM fitted 6.474\n",
      "Residual table updated: 4 / 10 \n",
      "\tSNR: 913 :: FWHM fitted 6.356\n",
      "Residual table updated: 5 / 10 \n",
      "\tSNR: 912 :: FWHM fitted 6.393\n",
      "Residual table updated: 6 / 10 \n",
      "\tSNR: 852 :: FWHM fitted 6.407\n",
      "Residual table updated: 7 / 10 \n",
      "\tSNR: 800 :: FWHM fitted 6.463\n",
      "Residual table updated: 8 / 10 \n",
      "\tSNR: 722 :: FWHM fitted 6.449\n",
      "Residual table updated: 9 / 10 \n",
      "\tSNR: 710 :: FWHM fitted 6.374\n",
      "Residual table updated: 10 / 10 \n",
      "\tSNR: 702 :: FWHM fitted 6.474\n",
      "\n",
      "PSF built using 10 sources\n",
      "\n",
      "Unity PSF: 48.8 [counts] \n",
      "Unity Residual table: 2.3 [counts] \n",
      "Using Aperture Photometry on sequence Stars \n",
      "No PSF sources fitted\n",
      "NaN values detected in your input data or the output of your objective/model function - fitting algorithms cannot handle this! Please read https://lmfit.github.io/lmfit-py/faq.html#i-get-errors-from-nan-in-my-fit-what-can-i-do for more information.\n",
      "Traceback (most recent call last):\n",
      "  File \"/opt/anaconda3/envs/autophot/lib/python3.7/site-packages/autophot/packages/zeropoint.py\", line 228, in get_zeropoint\n",
      "    x=zp_inst_mag_clip)\n",
      "  File \"/opt/anaconda3/envs/autophot/lib/python3.7/site-packages/lmfit/model.py\", line 1050, in fit\n",
      "    output.fit(data=data, weights=weights)\n",
      "  File \"/opt/anaconda3/envs/autophot/lib/python3.7/site-packages/lmfit/model.py\", line 1405, in fit\n",
      "    _ret = self.minimize(method=self.method)\n",
      "  File \"/opt/anaconda3/envs/autophot/lib/python3.7/site-packages/lmfit/minimizer.py\", line 2352, in minimize\n",
      "    return function(**kwargs)\n",
      "  File \"/opt/anaconda3/envs/autophot/lib/python3.7/site-packages/lmfit/minimizer.py\", line 1689, in leastsq\n",
      "    lsout = scipy_leastsq(self.__residual, variables, **lskws)\n",
      "  File \"/opt/anaconda3/envs/autophot/lib/python3.7/site-packages/scipy/optimize/minpack.py\", line 410, in leastsq\n",
      "    shape, dtype = _check_func('leastsq', 'func', func, x0, args, n)\n",
      "  File \"/opt/anaconda3/envs/autophot/lib/python3.7/site-packages/scipy/optimize/minpack.py\", line 24, in _check_func\n",
      "    res = atleast_1d(thefunc(*((x0[:numinputs],) + args)))\n",
      "  File \"/opt/anaconda3/envs/autophot/lib/python3.7/site-packages/lmfit/minimizer.py\", line 602, in __residual\n",
      "    nan_policy=self.nan_policy)\n",
      "  File \"/opt/anaconda3/envs/autophot/lib/python3.7/site-packages/lmfit/minimizer.py\", line 2436, in _nan_policy\n",
      "    raise ValueError(msg)\n",
      "ValueError: NaN values detected in your input data or the output of your objective/model function - fitting algorithms cannot handle this! Please read https://lmfit.github.io/lmfit-py/faq.html#i-get-errors-from-nan-in-my-fit-what-can-i-do for more information.\n",
      "Zeropoint not Found\n"
     ]
    },
    {
     "name": "stdout",
     "output_type": "stream",
     "text": [
      "PSF model saved as: /Users/terwelj/Documents/VirtualMachine/Observing_ING/autophot/newtest/ZTF22abqxkhd_REDUCED/r1639515redCCD4/PSF_model_r1639515redCCD4_APT.fits\n",
      "\n",
      "+-------------------+\n",
      "|Measuring PSF model|\n",
      "+-------------------+\n",
      "\n",
      "\n",
      "+-----------------------+\n",
      "|Finding Zeropoint value|\n",
      "+-----------------------+\n",
      "\n",
      "Checking for suitable catalog sources\n",
      "Removed 2 sources lower than SNR of 25.0\n"
     ]
    },
    {
     "name": "stderr",
     "output_type": "stream",
     "text": [
      "/opt/anaconda3/envs/autophot/lib/python3.7/site-packages/matplotlib/backends/backend_pdf.py:1649: DeprecationWarning: NONE is deprecated and will be removed in Pillow 10 (2023-07-01). Use Resampling.NEAREST or Dither.NONE instead.\n",
      "  img = img.convert(mode='P', dither=Image.NONE,\n",
      "/opt/anaconda3/envs/autophot/lib/python3.7/site-packages/matplotlib/backends/backend_pdf.py:1650: DeprecationWarning: ADAPTIVE is deprecated and will be removed in Pillow 10 (2023-07-01). Use Palette.ADAPTIVE instead.\n",
      "  palette=Image.ADAPTIVE, colors=num_colors)\n",
      "'r'\n",
      "Traceback (most recent call last):\n",
      "  File \"/opt/anaconda3/envs/autophot/lib/python3.7/site-packages/pandas/core/indexes/base.py\", line 3361, in get_loc\n",
      "    return self._engine.get_loc(casted_key)\n",
      "  File \"pandas/_libs/index.pyx\", line 76, in pandas._libs.index.IndexEngine.get_loc\n",
      "  File \"pandas/_libs/index.pyx\", line 108, in pandas._libs.index.IndexEngine.get_loc\n",
      "  File \"pandas/_libs/hashtable_class_helper.pxi\", line 5198, in pandas._libs.hashtable.PyObjectHashTable.get_item\n",
      "  File \"pandas/_libs/hashtable_class_helper.pxi\", line 5206, in pandas._libs.hashtable.PyObjectHashTable.get_item\n",
      "KeyError: 'r'\n",
      "\n",
      "The above exception was the direct cause of the following exception:\n",
      "\n",
      "Traceback (most recent call last):\n",
      "  File \"/opt/anaconda3/envs/autophot/lib/python3.7/site-packages/autophot/packages/main.py\", line 1696, in main\n",
      "    y =  c_mag_lim[str(use_filter)].values - c_mag_lim[str('cat_'+use_filter)].values\n",
      "  File \"/opt/anaconda3/envs/autophot/lib/python3.7/site-packages/pandas/core/frame.py\", line 3458, in __getitem__\n",
      "    indexer = self.columns.get_loc(key)\n",
      "  File \"/opt/anaconda3/envs/autophot/lib/python3.7/site-packages/pandas/core/indexes/base.py\", line 3363, in get_loc\n",
      "    raise KeyError(key) from err\n",
      "KeyError: 'r'\n",
      "Failure: r1639515redCCD4_APT.fits - PID: 8408\n",
      "\n",
      "User instrument database: /Users/terwelj/Documents/VirtualMachine/Observing_ING/autophot/newtest/telescope.yml\n",
      "\n",
      "Number of files: 12\n",
      "\n",
      "1 telescope(s) detected - checking header keywords\n",
      "\n"
     ]
    },
    {
     "name": "stdout",
     "output_type": "stream",
     "text": [
      "\n",
      "---\n",
      "\n",
      "Files that failed : ['/Users/terwelj/Documents/VirtualMachine/Observing_ING/autophot/newtest/ZTF22abqxkhd_REDUCED/r1639511redCCD4/r1639511redCCD4_APT.fits', '/Users/terwelj/Documents/VirtualMachine/Observing_ING/autophot/newtest/ZTF22abqxkhd_REDUCED/r1639515redCCD4/r1639515redCCD4_APT.fits']\n",
      "\n",
      "DONE\n",
      "\n",
      "Done - Time Taken: 147.6\n",
      "\n",
      "        _       _       ___ _  _    _____\n",
      "       /_\\ _  _| |_ ___| _ \\ || |__|_   _|\n",
      "      / _ \\ || |  _/ _ \\  _/ __ / _ \\| |\n",
      "     /_/ \\_\\_,_|\\__\\___/_| |_||_\\___/|_|\n",
      "    \n",
      "     ---------------------------------------\n",
      "        Automated Photometry of Transients\n",
      "        S. J. Brennan et al. 2021 \n",
      "        Please provide feedback/bugs to:\n",
      "        Email: sean.brennan2@ucdconnect.ie\n",
      "    ---------------------------------------\n",
      "Directory of fits file: /Users/terwelj/Documents/VirtualMachine/Observing_ING/autophot/newtest/ZTF22abqxkhd\n",
      "Found Telescopes:\n",
      "\n",
      " - INT\n",
      "\n",
      "-> Telescope check complete\n",
      "\n",
      "Checking Filter keywords and database\n",
      "\n",
      "-> Filter check complete\n",
      "\n",
      "Checking Filter information for each image\n"
     ]
    },
    {
     "name": "stderr",
     "output_type": "stream",
     "text": [
      "File: r1640322redCCD4_APT.fits - PID: 8408\n",
      "Start Time: 2023-01-03 14:45:23.106323\n",
      "Filter keyoward used: WFFBAND\n",
      "Telescope: INT\n",
      "Filter: i\n",
      "MJD: 59898.048\n",
      "Date of Observation : 2022-11-15\n",
      "Read Noise: 5.8 [e^- /pixel]\n",
      "GAIN: 2.9 [e^- /count]\n",
      "Exposure time: 599 [s] \n",
      "Detecting/removing cosmic ray sources\n"
     ]
    },
    {
     "name": "stdout",
     "output_type": "stream",
     "text": [
      "\n",
      "Files removed - Wrong Image Type: 0\n",
      "\n",
      "Files removed - No/Wrong filter(s): 6\n",
      "Filters not included: [B, U, V, no_filter, R]\n",
      "\n",
      "\n",
      "Files removed: 6\n",
      "\n",
      "+-----------+\n",
      "|File: 1 / 6|\n",
      "+-----------+\n",
      "\n",
      "Starting Astroscrappy ... "
     ]
    },
    {
     "name": "stderr",
     "output_type": "stream",
     "text": [
      "Contaminated pixels with Cosmic rays removed: 32941\n",
      "Cosmic rays removed - image updated\n",
      "WARNING: FITSFixedWarning: RADECSYS= 'FK5 ' / mean place new (after the 1976 IAU) system \n",
      "the RADECSYS keyword is deprecated, use RADESYSa. [astropy.wcs.wcs]\n",
      "FITSFixedWarning: RADECSYS= 'FK5 ' / mean place new (after the 1976 IAU) system \n",
      "the RADECSYS keyword is deprecated, use RADESYSa.\n",
      "WARNING: FITSFixedWarning: PROJP1 = 1.00000000 / Projection coefficient for primary WCS \n",
      "the PROJPn keyword is deprecated, use PVi_ma. [astropy.wcs.wcs]\n",
      "FITSFixedWarning: PROJP1 = 1.00000000 / Projection coefficient for primary WCS \n",
      "the PROJPn keyword is deprecated, use PVi_ma.\n",
      "WARNING: FITSFixedWarning: PROJP3 = 0.00000000 / Projection coefficient for primary WCS \n",
      "the PROJPn keyword is deprecated, use PVi_ma. [astropy.wcs.wcs]\n",
      "FITSFixedWarning: PROJP3 = 0.00000000 / Projection coefficient for primary WCS \n",
      "the PROJPn keyword is deprecated, use PVi_ma.\n",
      "WARNING: FITSFixedWarning: 'datfix' made the change 'Invalid parameter values: MJD-OBS and DATE-OBS are inconsistent.\n",
      "Changed DATE-OBS from '2022-11-15        ' to '2022-11-15T00:00:00.0''. [astropy.wcs.wcs]\n",
      "FITSFixedWarning: 'datfix' made the change 'Invalid parameter values: MJD-OBS and DATE-OBS are inconsistent.\n",
      "Changed DATE-OBS from '2022-11-15        ' to '2022-11-15T00:00:00.0''.\n",
      "\n",
      "Performing Astrometry.net\n",
      "Removing any pre-existing WCS keys \n",
      "No WCS values found - attempting to solve field\n",
      "ASTROMETRY started...\n",
      "ASTROMETRY finished: 3s\n",
      "Updating WCS keys with new values\n",
      "WCS saved to new file\n",
      "\n",
      "Searching for FWHM\n",
      "Using Gaussian Profile for fitting\n"
     ]
    },
    {
     "name": "stdout",
     "output_type": "stream",
     "text": [
      "\n",
      "+-------------------------------+\n",
      "|Finding Full Width Half Maximum|\n",
      "+-------------------------------+\n",
      "\n"
     ]
    },
    {
     "name": "stderr",
     "output_type": "stream",
     "text": [
      "\n",
      "Number of sources before cleaning [ 25.0 sigma ]: 25 \n",
      "Updating search FWHM value\n"
     ]
    },
    {
     "name": "stdout",
     "output_type": "stream",
     "text": [
      "operands could not be broadcast together with shapes (2500,) (1700,) \n",
      "Updated guess for FWHM: 6.0 pixels \n"
     ]
    },
    {
     "name": "stderr",
     "output_type": "stream",
     "text": [
      "\n",
      "Number of sources before cleaning [ 25.0 sigma ]: 84 \n",
      "Removed 1 sources near boundary\n",
      "Removed 20 crowded sources\n"
     ]
    },
    {
     "name": "stdout",
     "output_type": "stream",
     "text": [
      "Fitting source for FWHM: 63/63  "
     ]
    },
    {
     "name": "stderr",
     "output_type": "stream",
     "text": [
      "Removed 40 saturated sources\n",
      "WARNING: Input data contains invalid values (NaNs or infs), which were automatically clipped. [astropy.stats.sigma_clipping]\n",
      "Input data contains invalid values (NaNs or infs), which were automatically clipped.\n",
      "Removed 43 FWHM outliers\n",
      "WARNING: Input data contains invalid values (NaNs or infs), which were automatically clipped. [astropy.stats.sigma_clipping]\n",
      "Input data contains invalid values (NaNs or infs), which were automatically clipped.\n",
      "Removed 43 median outliers\n",
      "Useable sources found [ 25 sigma ]: 63\n",
      "Removes 0 sources within minimum seperation [ 24 pixel ]\n",
      "\n",
      "FWHM: 5.446 +/- 1.477 [ pixels ]\n",
      "\n",
      "Seeing: 1.806 [ arcsec ]\n",
      "Aperture size: 9.3 pixels\n",
      "Aperture correction: -0.022 +/- 0.022 [ mag ]\n",
      "WARNING: FITSFixedWarning: 'datfix' made the change 'Invalid parameter values: MJD-OBS and DATE-OBS are inconsistent.\n",
      "Changed DATE-OBS from '2022-11-15        ' to '2022-11-15T00:00:00.0''. [astropy.wcs.wcs]\n",
      "FITSFixedWarning: 'datfix' made the change 'Invalid parameter values: MJD-OBS and DATE-OBS are inconsistent.\n",
      "Changed DATE-OBS from '2022-11-15        ' to '2022-11-15T00:00:00.0''.\n",
      "Searching for new catalog [pan_starrs] for target_ra_21_dec_1 \n",
      "Downloading sequence stars from pan_starrs\n"
     ]
    },
    {
     "name": "stdout",
     "output_type": "stream",
     "text": [
      "\n",
      "+--------------------------------------------+\n",
      "|Searching for catalog for target_ra_21_dec_1|\n",
      "+--------------------------------------------+\n",
      "\n"
     ]
    },
    {
     "name": "stderr",
     "output_type": "stream",
     "text": [
      "Catalog length: 10000\n",
      "Removed 3443 sources fainter than cutoff [20 mag]\n",
      "Using Gaussian Profile for fitting\n",
      "Catalog Length: 312\n"
     ]
    },
    {
     "name": "stdout",
     "output_type": "stream",
     "text": [
      "\n",
      "+---------------------------------+\n",
      "|Matching catalog sources to image|\n",
      "+---------------------------------+\n",
      "\n",
      "Removed 3 sources too close to target\n",
      "Removed 404 sources too close to boundary or off image\n",
      "Matching catalog to image: 310 / 312 :: Useful sources 149 / 312 "
     ]
    },
    {
     "name": "stderr",
     "output_type": "stream",
     "text": [
      "\n",
      "Median offset: 3.9 [ pixels ] / 1.3 [ arcsec ]\n",
      "Residual table updated: 1 / 10 \n",
      "\tSNR: 528 :: FWHM fitted 5.021\n"
     ]
    },
    {
     "name": "stdout",
     "output_type": "stream",
     "text": [
      "\r",
      "Matching catalog to image: 311 / 312 :: Useful sources 150 / 312 \r",
      "Matching catalog to image: 312 / 312 :: Useful sources 150 / 312   .. done\n",
      "\n",
      "Broken cutouts: 0\n",
      "Not in correct location: 0\n",
      "Not detected: 106\n",
      "Saturated: 57\n",
      "Error: 0\n",
      "\n",
      "\n",
      "+-------------------------------------------+\n",
      "|Building PSF model using stars in the field|\n",
      "+-------------------------------------------+\n",
      "\n"
     ]
    },
    {
     "name": "stderr",
     "output_type": "stream",
     "text": [
      "Residual table updated: 2 / 10 \n",
      "\tSNR: 521 :: FWHM fitted 4.938\n",
      "Residual table updated: 3 / 10 \n",
      "\tSNR: 499 :: FWHM fitted 4.855\n",
      "Residual table updated: 4 / 10 \n",
      "\tSNR: 477 :: FWHM fitted 4.967\n",
      "Residual table updated: 5 / 10 \n",
      "\tSNR: 472 :: FWHM fitted 5.010\n",
      "Residual table updated: 6 / 10 \n",
      "\tSNR: 437 :: FWHM fitted 5.000\n",
      "Residual table updated: 7 / 10 \n",
      "\tSNR: 410 :: FWHM fitted 4.861\n",
      "Residual table updated: 8 / 10 \n",
      "\tSNR: 408 :: FWHM fitted 4.875\n",
      "Residual table updated: 9 / 10 \n",
      "\tSNR: 322 :: FWHM fitted 4.960\n",
      "Found faint soures near PSF star at 5 sigma - skipping \n",
      "Residual table updated: 10 / 10 \n",
      "\tSNR: 320 :: FWHM fitted 4.936\n",
      "\n",
      "PSF built using 10 sources\n",
      "\n",
      "Unity PSF: 29.1 [counts] \n",
      "Unity Residual table: 1.1 [counts] \n",
      "Using Aperture Photometry on sequence Stars \n",
      "No PSF sources fitted\n",
      "WARNING: Input data contains invalid values (NaNs or infs), which were automatically clipped. [astropy.stats.sigma_clipping]\n",
      "Input data contains invalid values (NaNs or infs), which were automatically clipped.\n",
      "\n",
      "Mean i-band zeropoint: 25.818 +/- 0.054 \n",
      "\n"
     ]
    },
    {
     "name": "stdout",
     "output_type": "stream",
     "text": [
      "PSF model saved as: /Users/terwelj/Documents/VirtualMachine/Observing_ING/autophot/newtest/ZTF22abqxkhd_REDUCED/r1640322redCCD4/PSF_model_r1640322redCCD4_APT.fits\n",
      "\n",
      "+-------------------+\n",
      "|Measuring PSF model|\n",
      "+-------------------+\n",
      "\n",
      "\n",
      "+-----------------------+\n",
      "|Finding Zeropoint value|\n",
      "+-----------------------+\n",
      "\n",
      "Checking for suitable catalog sources\n",
      "Removed 138 sources lower than SNR of 25.0\n"
     ]
    },
    {
     "name": "stderr",
     "output_type": "stream",
     "text": [
      "/opt/anaconda3/envs/autophot/lib/python3.7/site-packages/matplotlib/backends/backend_pdf.py:1649: DeprecationWarning: NONE is deprecated and will be removed in Pillow 10 (2023-07-01). Use Resampling.NEAREST or Dither.NONE instead.\n",
      "  img = img.convert(mode='P', dither=Image.NONE,\n",
      "/opt/anaconda3/envs/autophot/lib/python3.7/site-packages/matplotlib/backends/backend_pdf.py:1650: DeprecationWarning: ADAPTIVE is deprecated and will be removed in Pillow 10 (2023-07-01). Use Palette.ADAPTIVE instead.\n",
      "  palette=Image.ADAPTIVE, colors=num_colors)\n",
      "Approx. catalog limiting magnitude: 19.86 [ mag ]\n",
      "Target photometry on original image\n"
     ]
    },
    {
     "name": "stdout",
     "output_type": "stream",
     "text": [
      "\n",
      "+-----------------------------------+\n",
      "|Doing Aperture Photometry on Target|\n",
      "+-----------------------------------+\n",
      "\n"
     ]
    },
    {
     "name": "stderr",
     "output_type": "stream",
     "text": [
      "/opt/anaconda3/envs/autophot/lib/python3.7/site-packages/matplotlib/backends/backend_pdf.py:1649: DeprecationWarning: NONE is deprecated and will be removed in Pillow 10 (2023-07-01). Use Resampling.NEAREST or Dither.NONE instead.\n",
      "  img = img.convert(mode='P', dither=Image.NONE,\n",
      "/opt/anaconda3/envs/autophot/lib/python3.7/site-packages/matplotlib/backends/backend_pdf.py:1650: DeprecationWarning: ADAPTIVE is deprecated and will be removed in Pillow 10 (2023-07-01). Use Palette.ADAPTIVE instead.\n",
      "  palette=Image.ADAPTIVE, colors=num_colors)\n",
      "Approximate Target SNR: 276.2\n",
      "SNR = 276 - skipping limiting magnitude\n",
      "Pixel Offset: 0.000\n",
      "Limiting Magnitude: skipped\n",
      "Target Detection probability: 100 %\n",
      "Target flux: 1170.900 +/- 0.000 [counts/s]\n",
      "Noise: 576.116 [counts/s]\n",
      "Target SNR: 276.217 +/- 0.004\n",
      "Instrumental Magnitude: -7.671 +/- 0.000\n",
      "Zeropoint: 25.818 +/- 0.054\n",
      "Target Magnitude: 18.125 +/- 0.059 \n",
      "\n",
      "*** Transient well detected ***\n",
      "\n",
      "Time Taken [ 8408 ]: 67s\n",
      "Sucess: r1640322redCCD4_APT.fits :: PID 8408 \n",
      "\n",
      "File: r1640321redCCD4_APT.fits - PID: 8408\n",
      "Start Time: 2023-01-03 14:46:30.578956\n",
      "Filter keyoward used: WFFBAND\n",
      "Telescope: INT\n",
      "Filter: g\n",
      "MJD: 59898.040\n",
      "Date of Observation : 2022-11-15\n",
      "Read Noise: 5.8 [e^- /pixel]\n",
      "GAIN: 2.9 [e^- /count]\n",
      "Exposure time: 500 [s] \n",
      "Detecting/removing cosmic ray sources\n"
     ]
    },
    {
     "name": "stdout",
     "output_type": "stream",
     "text": [
      "\n",
      "+-----------+\n",
      "|File: 2 / 6|\n",
      "+-----------+\n",
      "\n",
      "Starting Astroscrappy ... "
     ]
    },
    {
     "name": "stderr",
     "output_type": "stream",
     "text": [
      "Contaminated pixels with Cosmic rays removed: 30474\n",
      "Cosmic rays removed - image updated\n",
      "WARNING: FITSFixedWarning: RADECSYS= 'FK5 ' / mean place new (after the 1976 IAU) system \n",
      "the RADECSYS keyword is deprecated, use RADESYSa. [astropy.wcs.wcs]\n",
      "FITSFixedWarning: RADECSYS= 'FK5 ' / mean place new (after the 1976 IAU) system \n",
      "the RADECSYS keyword is deprecated, use RADESYSa.\n",
      "WARNING: FITSFixedWarning: PROJP1 = 1.00000000 / Projection coefficient for primary WCS \n",
      "the PROJPn keyword is deprecated, use PVi_ma. [astropy.wcs.wcs]\n",
      "FITSFixedWarning: PROJP1 = 1.00000000 / Projection coefficient for primary WCS \n",
      "the PROJPn keyword is deprecated, use PVi_ma.\n",
      "WARNING: FITSFixedWarning: PROJP3 = 0.00000000 / Projection coefficient for primary WCS \n",
      "the PROJPn keyword is deprecated, use PVi_ma. [astropy.wcs.wcs]\n",
      "FITSFixedWarning: PROJP3 = 0.00000000 / Projection coefficient for primary WCS \n",
      "the PROJPn keyword is deprecated, use PVi_ma.\n",
      "WARNING: FITSFixedWarning: 'datfix' made the change 'Invalid parameter values: MJD-OBS and DATE-OBS are inconsistent.\n",
      "Changed DATE-OBS from '2022-11-15        ' to '2022-11-15T00:00:00.0''. [astropy.wcs.wcs]\n",
      "FITSFixedWarning: 'datfix' made the change 'Invalid parameter values: MJD-OBS and DATE-OBS are inconsistent.\n",
      "Changed DATE-OBS from '2022-11-15        ' to '2022-11-15T00:00:00.0''.\n",
      "\n",
      "Performing Astrometry.net\n",
      "Removing any pre-existing WCS keys \n",
      "No WCS values found - attempting to solve field\n",
      "ASTROMETRY started...\n",
      "ASTROMETRY finished: 3s\n",
      "Updating WCS keys with new values\n",
      "WCS saved to new file\n",
      "\n",
      "Searching for FWHM\n",
      "Using Gaussian Profile for fitting\n"
     ]
    },
    {
     "name": "stdout",
     "output_type": "stream",
     "text": [
      "\n",
      "+-------------------------------+\n",
      "|Finding Full Width Half Maximum|\n",
      "+-------------------------------+\n",
      "\n"
     ]
    },
    {
     "name": "stderr",
     "output_type": "stream",
     "text": [
      "\n",
      "Number of sources before cleaning [ 25.0 sigma ]: 25 \n",
      "Updating search FWHM value\n"
     ]
    },
    {
     "name": "stdout",
     "output_type": "stream",
     "text": [
      "Updated guess for FWHM: 6.9 pixels \n"
     ]
    },
    {
     "name": "stderr",
     "output_type": "stream",
     "text": [
      "\n",
      "Number of sources before cleaning [ 25.0 sigma ]: 103 \n",
      "Removed 4 sources near boundary\n",
      "Removed 10 crowded sources\n"
     ]
    },
    {
     "name": "stdout",
     "output_type": "stream",
     "text": [
      "Fitting source for FWHM: 89/89   "
     ]
    },
    {
     "name": "stderr",
     "output_type": "stream",
     "text": [
      "Removed 24 saturated sources\n",
      "Removed 2 with high fwhm [limit: 30 [pixels]\n",
      "WARNING: Input data contains invalid values (NaNs or infs), which were automatically clipped. [astropy.stats.sigma_clipping]\n",
      "Input data contains invalid values (NaNs or infs), which were automatically clipped.\n",
      "Removed 39 FWHM outliers\n",
      "WARNING: Input data contains invalid values (NaNs or infs), which were automatically clipped. [astropy.stats.sigma_clipping]\n",
      "Input data contains invalid values (NaNs or infs), which were automatically clipped.\n",
      "Removed 33 median outliers\n",
      "Useable sources found [ 25 sigma ]: 89\n",
      "Removes 0 sources within minimum seperation [ 28 pixel ]\n",
      "\n",
      "FWHM: 6.563 +/- 1.924 [ pixels ]\n",
      "\n",
      "Seeing: 2.184 [ arcsec ]\n",
      "Aperture size: 11.2 pixels\n",
      "Aperture correction: -0.016 +/- 0.019 [ mag ]\n",
      "WARNING: FITSFixedWarning: 'datfix' made the change 'Invalid parameter values: MJD-OBS and DATE-OBS are inconsistent.\n",
      "Changed DATE-OBS from '2022-11-15        ' to '2022-11-15T00:00:00.0''. [astropy.wcs.wcs]\n",
      "FITSFixedWarning: 'datfix' made the change 'Invalid parameter values: MJD-OBS and DATE-OBS are inconsistent.\n",
      "Changed DATE-OBS from '2022-11-15        ' to '2022-11-15T00:00:00.0''.\n",
      "Catalog found for target_ra_21_dec_1\n",
      "Catalog: PAN_STARRS \n",
      "File: target_ra_21_dec_1_r_0.25\n",
      "Catalog length: 10000\n",
      "Removed 4014 sources fainter than cutoff [20 mag]\n",
      "Using Gaussian Profile for fitting\n",
      "Catalog Length: 153\n"
     ]
    },
    {
     "name": "stdout",
     "output_type": "stream",
     "text": [
      "\n",
      "+--------------------------------------------+\n",
      "|Searching for catalog for target_ra_21_dec_1|\n",
      "+--------------------------------------------+\n",
      "\n",
      "\n",
      "+---------------------------------+\n",
      "|Matching catalog sources to image|\n",
      "+---------------------------------+\n",
      "\n",
      "Removed 4 sources too close to target\n",
      "Removed 193 sources too close to boundary or off image\n",
      "Matching catalog to image: 147 / 153 :: Useful sources 72 / 153 "
     ]
    },
    {
     "name": "stderr",
     "output_type": "stream",
     "text": [
      "\n",
      "Median offset: 4.3 [ pixels ] / 1.4 [ arcsec ]\n",
      "Residual table updated: 1 / 10 \n",
      "\tSNR: 634 :: FWHM fitted 5.678\n"
     ]
    },
    {
     "name": "stdout",
     "output_type": "stream",
     "text": [
      "\r",
      "Matching catalog to image: 148 / 153 :: Useful sources 73 / 153 \r",
      "Matching catalog to image: 149 / 153 :: Useful sources 73 / 153 \r",
      "Matching catalog to image: 150 / 153 :: Useful sources 73 / 153 \r",
      "Matching catalog to image: 151 / 153 :: Useful sources 73 / 153 \r",
      "Matching catalog to image: 152 / 153 :: Useful sources 73 / 153 \r",
      "Matching catalog to image: 153 / 153 :: Useful sources 73 / 153   .. done\n",
      "\n",
      "Broken cutouts: 0\n",
      "Not in correct location: 0\n",
      "Not detected: 52\n",
      "Saturated: 28\n",
      "Error: 0\n",
      "\n",
      "\n",
      "+-------------------------------------------+\n",
      "|Building PSF model using stars in the field|\n",
      "+-------------------------------------------+\n",
      "\n"
     ]
    },
    {
     "name": "stderr",
     "output_type": "stream",
     "text": [
      "Residual table updated: 2 / 10 \n",
      "\tSNR: 627 :: FWHM fitted 5.543\n",
      "Residual table updated: 3 / 10 \n",
      "\tSNR: 559 :: FWHM fitted 5.628\n",
      "Residual table updated: 4 / 10 \n",
      "\tSNR: 530 :: FWHM fitted 5.812\n",
      "Residual table updated: 5 / 10 \n",
      "\tSNR: 510 :: FWHM fitted 5.615\n",
      "Residual table updated: 6 / 10 \n",
      "\tSNR: 508 :: FWHM fitted 5.864\n",
      "Residual table updated: 7 / 10 \n",
      "\tSNR: 498 :: FWHM fitted 5.792\n",
      "Residual table updated: 8 / 10 \n",
      "\tSNR: 480 :: FWHM fitted 5.491\n",
      "Residual table updated: 9 / 10 \n",
      "\tSNR: 460 :: FWHM fitted 5.591\n",
      "Found faint soures near PSF star at 5 sigma - skipping \n",
      "Residual table updated: 10 / 10 \n",
      "\tSNR: 393 :: FWHM fitted 5.866\n",
      "\n",
      "PSF built using 10 sources\n",
      "\n",
      "Unity PSF: 39.3 [counts] \n",
      "Unity Residual table: 1.4 [counts] \n",
      "Using Aperture Photometry on sequence Stars \n",
      "No PSF sources fitted\n",
      "WARNING: Input data contains invalid values (NaNs or infs), which were automatically clipped. [astropy.stats.sigma_clipping]\n",
      "Input data contains invalid values (NaNs or infs), which were automatically clipped.\n",
      "\n",
      "Mean g-band zeropoint: 26.316 +/- 0.029 \n",
      "\n"
     ]
    },
    {
     "name": "stdout",
     "output_type": "stream",
     "text": [
      "PSF model saved as: /Users/terwelj/Documents/VirtualMachine/Observing_ING/autophot/newtest/ZTF22abqxkhd_REDUCED/r1640321redCCD4/PSF_model_r1640321redCCD4_APT.fits\n",
      "\n",
      "+-------------------+\n",
      "|Measuring PSF model|\n",
      "+-------------------+\n",
      "\n",
      "\n",
      "+-----------------------+\n",
      "|Finding Zeropoint value|\n",
      "+-----------------------+\n",
      "\n",
      "Checking for suitable catalog sources\n",
      "Removed 66 sources lower than SNR of 25.0\n"
     ]
    },
    {
     "name": "stderr",
     "output_type": "stream",
     "text": [
      "/opt/anaconda3/envs/autophot/lib/python3.7/site-packages/matplotlib/backends/backend_pdf.py:1649: DeprecationWarning: NONE is deprecated and will be removed in Pillow 10 (2023-07-01). Use Resampling.NEAREST or Dither.NONE instead.\n",
      "  img = img.convert(mode='P', dither=Image.NONE,\n",
      "/opt/anaconda3/envs/autophot/lib/python3.7/site-packages/matplotlib/backends/backend_pdf.py:1650: DeprecationWarning: ADAPTIVE is deprecated and will be removed in Pillow 10 (2023-07-01). Use Palette.ADAPTIVE instead.\n",
      "  palette=Image.ADAPTIVE, colors=num_colors)\n",
      "Target photometry on original image\n"
     ]
    },
    {
     "name": "stdout",
     "output_type": "stream",
     "text": [
      "\n",
      "+-----------------------------------+\n",
      "|Doing Aperture Photometry on Target|\n",
      "+-----------------------------------+\n",
      "\n"
     ]
    },
    {
     "name": "stderr",
     "output_type": "stream",
     "text": [
      "/opt/anaconda3/envs/autophot/lib/python3.7/site-packages/matplotlib/backends/backend_pdf.py:1649: DeprecationWarning: NONE is deprecated and will be removed in Pillow 10 (2023-07-01). Use Resampling.NEAREST or Dither.NONE instead.\n",
      "  img = img.convert(mode='P', dither=Image.NONE,\n",
      "/opt/anaconda3/envs/autophot/lib/python3.7/site-packages/matplotlib/backends/backend_pdf.py:1650: DeprecationWarning: ADAPTIVE is deprecated and will be removed in Pillow 10 (2023-07-01). Use Palette.ADAPTIVE instead.\n",
      "  palette=Image.ADAPTIVE, colors=num_colors)\n",
      "Approximate Target SNR: 234.1\n",
      "SNR = 234 - skipping limiting magnitude\n",
      "Pixel Offset: 0.000\n",
      "Limiting Magnitude: skipped\n",
      "Target Detection probability: 99 %\n",
      "Target flux: 1314.636 +/- 0.000 [counts/s]\n",
      "Noise: 852.832 [counts/s]\n",
      "Target SNR: 234.074 +/- 0.005\n",
      "Instrumental Magnitude: -7.797 +/- 0.000\n",
      "Zeropoint: 26.316 +/- 0.029\n",
      "Target Magnitude: 18.503 +/- 0.035 \n",
      "\n",
      "*** Detected with FWHM discrepancy: 0.778 pixels ***\n",
      "\n",
      "Time Taken [ 8408 ]: 27s\n",
      "Sucess: r1640321redCCD4_APT.fits :: PID 8408 \n",
      "\n",
      "File: r1639511redCCD4_APT.fits - PID: 8408\n",
      "Start Time: 2023-01-03 14:46:57.819917\n",
      "Filter keyoward used: WFFBAND\n",
      "Telescope: INT\n",
      "Filter: g\n",
      "MJD: 59896.969\n",
      "Date of Observation : 2022-11-13\n",
      "Read Noise: 5.8 [e^- /pixel]\n",
      "GAIN: 2.9 [e^- /count]\n",
      "Exposure time: 200 [s] \n",
      "Detecting/removing cosmic ray sources\n"
     ]
    },
    {
     "name": "stdout",
     "output_type": "stream",
     "text": [
      "\n",
      "+-----------+\n",
      "|File: 3 / 6|\n",
      "+-----------+\n",
      "\n",
      "Starting Astroscrappy ... "
     ]
    },
    {
     "name": "stderr",
     "output_type": "stream",
     "text": [
      "Contaminated pixels with Cosmic rays removed: 30577\n",
      "Cosmic rays removed - image updated\n",
      "WARNING: FITSFixedWarning: RADECSYS= 'FK5 ' / mean place new (after the 1976 IAU) system \n",
      "the RADECSYS keyword is deprecated, use RADESYSa. [astropy.wcs.wcs]\n",
      "FITSFixedWarning: RADECSYS= 'FK5 ' / mean place new (after the 1976 IAU) system \n",
      "the RADECSYS keyword is deprecated, use RADESYSa.\n",
      "WARNING: FITSFixedWarning: PROJP1 = 1.00000000 / Projection coefficient for primary WCS \n",
      "the PROJPn keyword is deprecated, use PVi_ma. [astropy.wcs.wcs]\n",
      "FITSFixedWarning: PROJP1 = 1.00000000 / Projection coefficient for primary WCS \n",
      "the PROJPn keyword is deprecated, use PVi_ma.\n",
      "WARNING: FITSFixedWarning: PROJP3 = 0.00000000 / Projection coefficient for primary WCS \n",
      "the PROJPn keyword is deprecated, use PVi_ma. [astropy.wcs.wcs]\n",
      "FITSFixedWarning: PROJP3 = 0.00000000 / Projection coefficient for primary WCS \n",
      "the PROJPn keyword is deprecated, use PVi_ma.\n",
      "WARNING: FITSFixedWarning: 'datfix' made the change 'Invalid parameter values: MJD-OBS and DATE-OBS are inconsistent.\n",
      "Changed DATE-OBS from '2022-11-13        ' to '2022-11-13T00:00:00.0''. [astropy.wcs.wcs]\n",
      "FITSFixedWarning: 'datfix' made the change 'Invalid parameter values: MJD-OBS and DATE-OBS are inconsistent.\n",
      "Changed DATE-OBS from '2022-11-13        ' to '2022-11-13T00:00:00.0''.\n",
      "\n",
      "Performing Astrometry.net\n",
      "Removing any pre-existing WCS keys \n",
      "No WCS values found - attempting to solve field\n",
      "ASTROMETRY started...\n",
      "ASTROMETRY finished: 3s\n",
      "Updating WCS keys with new values\n",
      "WCS saved to new file\n",
      "\n",
      "Searching for FWHM\n",
      "Using Gaussian Profile for fitting\n"
     ]
    },
    {
     "name": "stdout",
     "output_type": "stream",
     "text": [
      "\n",
      "+-------------------------------+\n",
      "|Finding Full Width Half Maximum|\n",
      "+-------------------------------+\n",
      "\n"
     ]
    },
    {
     "name": "stderr",
     "output_type": "stream",
     "text": [
      "\n",
      "Number of sources before cleaning [ 25.0 sigma ]: 25 \n",
      "Updating search FWHM value\n"
     ]
    },
    {
     "name": "stdout",
     "output_type": "stream",
     "text": [
      "Updated guess for FWHM: 9.2 pixels \n"
     ]
    },
    {
     "name": "stderr",
     "output_type": "stream",
     "text": [
      "\n",
      "Number of sources before cleaning [ 25.0 sigma ]: 55 \n",
      "Removed 4 sources near boundary\n",
      "Removed 2 crowded sources\n"
     ]
    },
    {
     "name": "stdout",
     "output_type": "stream",
     "text": [
      "Fitting source for FWHM: 49/49   "
     ]
    },
    {
     "name": "stderr",
     "output_type": "stream",
     "text": [
      "Removed 12 saturated sources\n",
      "WARNING: Input data contains invalid values (NaNs or infs), which were automatically clipped. [astropy.stats.sigma_clipping]\n",
      "Input data contains invalid values (NaNs or infs), which were automatically clipped.\n",
      "Removed 16 FWHM outliers\n",
      "WARNING: Input data contains invalid values (NaNs or infs), which were automatically clipped. [astropy.stats.sigma_clipping]\n",
      "Input data contains invalid values (NaNs or infs), which were automatically clipped.\n",
      "Removed 14 median outliers\n",
      "Useable sources found [ 25 sigma ]: 49\n",
      "Removes 2 sources within minimum seperation [ 33 pixel ]\n",
      "\n",
      "FWHM: 6.701 +/- 0.047 [ pixels ]\n",
      "\n",
      "Seeing: 2.227 [ arcsec ]\n",
      "Aperture size: 11.4 pixels\n",
      "Aperture correction: -0.022 +/- 0.005 [ mag ]\n",
      "WARNING: FITSFixedWarning: 'datfix' made the change 'Invalid parameter values: MJD-OBS and DATE-OBS are inconsistent.\n",
      "Changed DATE-OBS from '2022-11-13        ' to '2022-11-13T00:00:00.0''. [astropy.wcs.wcs]\n",
      "FITSFixedWarning: 'datfix' made the change 'Invalid parameter values: MJD-OBS and DATE-OBS are inconsistent.\n",
      "Changed DATE-OBS from '2022-11-13        ' to '2022-11-13T00:00:00.0''.\n",
      "Catalog found for target_ra_21_dec_1\n",
      "Catalog: PAN_STARRS \n",
      "File: target_ra_21_dec_1_r_0.25\n",
      "Catalog length: 10000\n",
      "Removed 4014 sources fainter than cutoff [20 mag]\n",
      "Using Gaussian Profile for fitting\n",
      "Catalog Length: 156\n"
     ]
    },
    {
     "name": "stdout",
     "output_type": "stream",
     "text": [
      "\n",
      "+--------------------------------------------+\n",
      "|Searching for catalog for target_ra_21_dec_1|\n",
      "+--------------------------------------------+\n",
      "\n",
      "\n",
      "+---------------------------------+\n",
      "|Matching catalog sources to image|\n",
      "+---------------------------------+\n",
      "\n",
      "Removed 4 sources too close to target\n",
      "Removed 190 sources too close to boundary or off image\n",
      "Matching catalog to image: 156 / 156 :: Useful sources 87 / 156 "
     ]
    },
    {
     "name": "stderr",
     "output_type": "stream",
     "text": [
      "\n",
      "Median offset: 3.7 [ pixels ] / 1.2 [ arcsec ]\n",
      "Residual table updated: 1 / 10 \n",
      "\tSNR: 1147 :: FWHM fitted 6.737\n",
      "Residual table updated: 2 / 10 \n",
      "\tSNR: 912 :: FWHM fitted 6.718\n",
      "Residual table updated: 3 / 10 \n",
      "\tSNR: 901 :: FWHM fitted 6.756\n"
     ]
    },
    {
     "name": "stdout",
     "output_type": "stream",
     "text": [
      "  .. done\n",
      "\n",
      "Broken cutouts: 0\n",
      "Not in correct location: 0\n",
      "Not detected: 55\n",
      "Saturated: 14\n",
      "Error: 0\n",
      "\n",
      "\n",
      "+-------------------------------------------+\n",
      "|Building PSF model using stars in the field|\n",
      "+-------------------------------------------+\n",
      "\n"
     ]
    },
    {
     "name": "stderr",
     "output_type": "stream",
     "text": [
      "Residual table updated: 4 / 10 \n",
      "\tSNR: 781 :: FWHM fitted 6.707\n",
      "Residual table updated: 5 / 10 \n",
      "\tSNR: 779 :: FWHM fitted 6.658\n",
      "Residual table updated: 6 / 10 \n",
      "\tSNR: 771 :: FWHM fitted 6.714\n",
      "Residual table updated: 7 / 10 \n",
      "\tSNR: 725 :: FWHM fitted 6.681\n",
      "Residual table updated: 8 / 10 \n",
      "\tSNR: 722 :: FWHM fitted 6.723\n",
      "Residual table updated: 9 / 10 \n",
      "\tSNR: 652 :: FWHM fitted 6.659\n",
      "Residual table updated: 10 / 10 \n",
      "\tSNR: 618 :: FWHM fitted 6.714\n",
      "\n",
      "PSF built using 10 sources\n",
      "\n",
      "Unity PSF: 53.0 [counts] \n",
      "Unity Residual table: 2.3 [counts] \n",
      "Using Aperture Photometry on sequence Stars \n",
      "No PSF sources fitted\n",
      "\n",
      "Mean g-band zeropoint: 26.362 +/- 0.028 \n",
      "\n"
     ]
    },
    {
     "name": "stdout",
     "output_type": "stream",
     "text": [
      "PSF model saved as: /Users/terwelj/Documents/VirtualMachine/Observing_ING/autophot/newtest/ZTF22abqxkhd_REDUCED/r1639511redCCD4/PSF_model_r1639511redCCD4_APT.fits\n",
      "\n",
      "+-------------------+\n",
      "|Measuring PSF model|\n",
      "+-------------------+\n",
      "\n",
      "\n",
      "+-----------------------+\n",
      "|Finding Zeropoint value|\n",
      "+-----------------------+\n",
      "\n",
      "Checking for suitable catalog sources\n",
      "Removed 83 sources lower than SNR of 25.0\n"
     ]
    },
    {
     "name": "stderr",
     "output_type": "stream",
     "text": [
      "/opt/anaconda3/envs/autophot/lib/python3.7/site-packages/matplotlib/backends/backend_pdf.py:1649: DeprecationWarning: NONE is deprecated and will be removed in Pillow 10 (2023-07-01). Use Resampling.NEAREST or Dither.NONE instead.\n",
      "  img = img.convert(mode='P', dither=Image.NONE,\n",
      "/opt/anaconda3/envs/autophot/lib/python3.7/site-packages/matplotlib/backends/backend_pdf.py:1650: DeprecationWarning: ADAPTIVE is deprecated and will be removed in Pillow 10 (2023-07-01). Use Palette.ADAPTIVE instead.\n",
      "  palette=Image.ADAPTIVE, colors=num_colors)\n",
      "Target photometry on original image\n"
     ]
    },
    {
     "name": "stdout",
     "output_type": "stream",
     "text": [
      "\n",
      "+-----------------------------------+\n",
      "|Doing Aperture Photometry on Target|\n",
      "+-----------------------------------+\n",
      "\n"
     ]
    },
    {
     "name": "stderr",
     "output_type": "stream",
     "text": [
      "/opt/anaconda3/envs/autophot/lib/python3.7/site-packages/matplotlib/backends/backend_pdf.py:1649: DeprecationWarning: NONE is deprecated and will be removed in Pillow 10 (2023-07-01). Use Resampling.NEAREST or Dither.NONE instead.\n",
      "  img = img.convert(mode='P', dither=Image.NONE,\n",
      "/opt/anaconda3/envs/autophot/lib/python3.7/site-packages/matplotlib/backends/backend_pdf.py:1650: DeprecationWarning: ADAPTIVE is deprecated and will be removed in Pillow 10 (2023-07-01). Use Palette.ADAPTIVE instead.\n",
      "  palette=Image.ADAPTIVE, colors=num_colors)\n",
      "Approximate Target SNR: 150.7\n",
      "SNR = 151 - skipping limiting magnitude\n",
      "Pixel Offset: 0.000\n",
      "Limiting Magnitude: skipped\n",
      "Target Detection probability: 99 %\n",
      "Target flux: 1331.976 +/- 0.000 [counts/s]\n",
      "Noise: 904.499 [counts/s]\n",
      "Target SNR: 150.697 +/- 0.007\n",
      "Instrumental Magnitude: -7.811 +/- 0.000\n",
      "Zeropoint: 26.362 +/- 0.028\n",
      "Target Magnitude: 18.529 +/- 0.029 \n",
      "\n",
      "*** Transient well detected ***\n",
      "\n",
      "Time Taken [ 8408 ]: 27s\n",
      "Sucess: r1639511redCCD4_APT.fits :: PID 8408 \n",
      "\n",
      "File: r1640323redCCD4_APT.fits - PID: 8408\n",
      "Start Time: 2023-01-03 14:47:25.097790\n",
      "Filter keyoward used: WFFBAND\n",
      "Telescope: INT\n",
      "Filter: r\n",
      "MJD: 59898.058\n",
      "Date of Observation : 2022-11-15\n",
      "Read Noise: 5.8 [e^- /pixel]\n",
      "GAIN: 2.9 [e^- /count]\n",
      "Exposure time: 200 [s] \n",
      "Detecting/removing cosmic ray sources\n"
     ]
    },
    {
     "name": "stdout",
     "output_type": "stream",
     "text": [
      "\n",
      "+-----------+\n",
      "|File: 4 / 6|\n",
      "+-----------+\n",
      "\n",
      "Starting Astroscrappy ... "
     ]
    },
    {
     "name": "stderr",
     "output_type": "stream",
     "text": [
      "Contaminated pixels with Cosmic rays removed: 54690\n",
      "Cosmic rays removed - image updated\n",
      "WARNING: FITSFixedWarning: RADECSYS= 'FK5 ' / mean place new (after the 1976 IAU) system \n",
      "the RADECSYS keyword is deprecated, use RADESYSa. [astropy.wcs.wcs]\n",
      "FITSFixedWarning: RADECSYS= 'FK5 ' / mean place new (after the 1976 IAU) system \n",
      "the RADECSYS keyword is deprecated, use RADESYSa.\n",
      "WARNING: FITSFixedWarning: PROJP1 = 1.00000000 / Projection coefficient for primary WCS \n",
      "the PROJPn keyword is deprecated, use PVi_ma. [astropy.wcs.wcs]\n",
      "FITSFixedWarning: PROJP1 = 1.00000000 / Projection coefficient for primary WCS \n",
      "the PROJPn keyword is deprecated, use PVi_ma.\n",
      "WARNING: FITSFixedWarning: PROJP3 = 0.00000000 / Projection coefficient for primary WCS \n",
      "the PROJPn keyword is deprecated, use PVi_ma. [astropy.wcs.wcs]\n",
      "FITSFixedWarning: PROJP3 = 0.00000000 / Projection coefficient for primary WCS \n",
      "the PROJPn keyword is deprecated, use PVi_ma.\n",
      "WARNING: FITSFixedWarning: 'datfix' made the change 'Invalid parameter values: MJD-OBS and DATE-OBS are inconsistent.\n",
      "Changed DATE-OBS from '2022-11-15        ' to '2022-11-15T00:00:00.0''. [astropy.wcs.wcs]\n",
      "FITSFixedWarning: 'datfix' made the change 'Invalid parameter values: MJD-OBS and DATE-OBS are inconsistent.\n",
      "Changed DATE-OBS from '2022-11-15        ' to '2022-11-15T00:00:00.0''.\n",
      "\n",
      "Performing Astrometry.net\n",
      "Removing any pre-existing WCS keys \n",
      "No WCS values found - attempting to solve field\n",
      "ASTROMETRY started...\n",
      "ASTROMETRY finished: 3s\n",
      "Updating WCS keys with new values\n",
      "WCS saved to new file\n",
      "\n",
      "Searching for FWHM\n",
      "Using Gaussian Profile for fitting\n"
     ]
    },
    {
     "name": "stdout",
     "output_type": "stream",
     "text": [
      "\n",
      "+-------------------------------+\n",
      "|Finding Full Width Half Maximum|\n",
      "+-------------------------------+\n",
      "\n"
     ]
    },
    {
     "name": "stderr",
     "output_type": "stream",
     "text": [
      "\n",
      "Number of sources before cleaning [ 25.0 sigma ]: 25 \n",
      "Updating search FWHM value\n"
     ]
    },
    {
     "name": "stdout",
     "output_type": "stream",
     "text": [
      "zero-size array to reduction operation fmax which has no identity\n",
      "zero-size array to reduction operation fmax which has no identity\n",
      "Updated guess for FWHM: 6.2 pixels \n"
     ]
    },
    {
     "name": "stderr",
     "output_type": "stream",
     "text": [
      "\n",
      "Number of sources before cleaning [ 25.0 sigma ]: 56 \n",
      "Removed 3 sources near boundary\n",
      "Removed 7 crowded sources\n"
     ]
    },
    {
     "name": "stdout",
     "output_type": "stream",
     "text": [
      "Fitting source for FWHM: 46/46 "
     ]
    },
    {
     "name": "stderr",
     "output_type": "stream",
     "text": [
      "Removed 19 saturated sources\n",
      "WARNING: Input data contains invalid values (NaNs or infs), which were automatically clipped. [astropy.stats.sigma_clipping]\n",
      "Input data contains invalid values (NaNs or infs), which were automatically clipped.\n",
      "Removed 19 FWHM outliers\n",
      "WARNING: Input data contains invalid values (NaNs or infs), which were automatically clipped. [astropy.stats.sigma_clipping]\n",
      "Input data contains invalid values (NaNs or infs), which were automatically clipped.\n",
      "Removed 19 median outliers\n",
      "Useable sources found [ 25 sigma ]: 46\n",
      "Removes 0 sources within minimum seperation [ 26 pixel ]\n",
      "\n",
      "FWHM: 5.309 +/- 0.126 [ pixels ]\n",
      "\n",
      "Seeing: 1.761 [ arcsec ]\n",
      "Aperture size: 9.0 pixels\n",
      "Aperture correction: -0.024 +/- 0.003 [ mag ]\n"
     ]
    },
    {
     "name": "stdout",
     "output_type": "stream",
     "text": [
      "\n",
      "+--------------------------------------------+\n",
      "|Searching for catalog for target_ra_21_dec_1|\n",
      "+--------------------------------------------+\n",
      "\n"
     ]
    },
    {
     "name": "stderr",
     "output_type": "stream",
     "text": [
      "WARNING: FITSFixedWarning: 'datfix' made the change 'Invalid parameter values: MJD-OBS and DATE-OBS are inconsistent.\n",
      "Changed DATE-OBS from '2022-11-15        ' to '2022-11-15T00:00:00.0''. [astropy.wcs.wcs]\n",
      "FITSFixedWarning: 'datfix' made the change 'Invalid parameter values: MJD-OBS and DATE-OBS are inconsistent.\n",
      "Changed DATE-OBS from '2022-11-15        ' to '2022-11-15T00:00:00.0''.\n",
      "Catalog found for target_ra_21_dec_1\n",
      "Catalog: PAN_STARRS \n",
      "File: target_ra_21_dec_1_r_0.25\n",
      "Catalog length: 10000\n",
      "Removed 4404 sources fainter than cutoff [20 mag]\n",
      "Using Gaussian Profile for fitting\n",
      "Catalog Length: 297\n"
     ]
    },
    {
     "name": "stdout",
     "output_type": "stream",
     "text": [
      "\n",
      "+---------------------------------+\n",
      "|Matching catalog sources to image|\n",
      "+---------------------------------+\n",
      "\n",
      "Removed 2 sources too close to target\n",
      "Removed 376 sources too close to boundary or off image\n",
      "Matching catalog to image: 278 / 297 :: Useful sources 110 / 297 "
     ]
    },
    {
     "name": "stderr",
     "output_type": "stream",
     "text": [
      "\n",
      "Median offset: 3.5 [ pixels ] / 1.2 [ arcsec ]\n"
     ]
    },
    {
     "name": "stdout",
     "output_type": "stream",
     "text": [
      "\r",
      "Matching catalog to image: 279 / 297 :: Useful sources 111 / 297 \r",
      "Matching catalog to image: 280 / 297 :: Useful sources 111 / 297 \r",
      "Matching catalog to image: 281 / 297 :: Useful sources 111 / 297 \r",
      "Matching catalog to image: 282 / 297 :: Useful sources 112 / 297 \r",
      "Matching catalog to image: 283 / 297 :: Useful sources 113 / 297 \r",
      "Matching catalog to image: 284 / 297 :: Useful sources 114 / 297 \r",
      "Matching catalog to image: 285 / 297 :: Useful sources 114 / 297 \r",
      "Matching catalog to image: 286 / 297 :: Useful sources 115 / 297 \r",
      "Matching catalog to image: 287 / 297 :: Useful sources 115 / 297 \r",
      "Matching catalog to image: 288 / 297 :: Useful sources 115 / 297 \r",
      "Matching catalog to image: 289 / 297 :: Useful sources 115 / 297 \r",
      "Matching catalog to image: 290 / 297 :: Useful sources 115 / 297 \r",
      "Matching catalog to image: 291 / 297 :: Useful sources 116 / 297 \r",
      "Matching catalog to image: 292 / 297 :: Useful sources 116 / 297 \r",
      "Matching catalog to image: 293 / 297 :: Useful sources 116 / 297 \r",
      "Matching catalog to image: 294 / 297 :: Useful sources 116 / 297 \r",
      "Matching catalog to image: 295 / 297 :: Useful sources 116 / 297 \r",
      "Matching catalog to image: 296 / 297 :: Useful sources 116 / 297 \r",
      "Matching catalog to image: 297 / 297 :: Useful sources 116 / 297   .. done\n",
      "\n",
      "Broken cutouts: 0\n",
      "Not in correct location: 0\n",
      "Not detected: 156\n",
      "Saturated: 26\n",
      "Error: 0\n",
      "\n",
      "\n",
      "+-------------------------------------------+\n",
      "|Building PSF model using stars in the field|\n",
      "+-------------------------------------------+\n",
      "\n"
     ]
    },
    {
     "name": "stderr",
     "output_type": "stream",
     "text": [
      "Residual table updated: 1 / 10 \n",
      "\tSNR: 818 :: FWHM fitted 5.407\n",
      "Residual table updated: 2 / 10 \n",
      "\tSNR: 804 :: FWHM fitted 5.214\n",
      "Residual table updated: 3 / 10 \n",
      "\tSNR: 796 :: FWHM fitted 5.350\n",
      "Residual table updated: 4 / 10 \n",
      "\tSNR: 773 :: FWHM fitted 5.327\n",
      "Residual table updated: 5 / 10 \n",
      "\tSNR: 729 :: FWHM fitted 5.488\n",
      "Residual table updated: 6 / 10 \n",
      "\tSNR: 720 :: FWHM fitted 5.121\n",
      "Residual table updated: 7 / 10 \n",
      "\tSNR: 665 :: FWHM fitted 5.178\n",
      "Residual table updated: 8 / 10 \n",
      "\tSNR: 621 :: FWHM fitted 5.200\n",
      "Residual table updated: 9 / 10 \n",
      "\tSNR: 613 :: FWHM fitted 5.489\n",
      "Residual table updated: 10 / 10 \n",
      "\tSNR: 611 :: FWHM fitted 5.204\n",
      "\n",
      "PSF built using 10 sources\n",
      "\n",
      "Unity PSF: 33.2 [counts] \n",
      "Unity Residual table: 1.3 [counts] \n",
      "Using Aperture Photometry on sequence Stars \n",
      "No PSF sources fitted\n",
      "WARNING: Input data contains invalid values (NaNs or infs), which were automatically clipped. [astropy.stats.sigma_clipping]\n",
      "Input data contains invalid values (NaNs or infs), which were automatically clipped.\n",
      "\n",
      "Mean r-band zeropoint: 26.084 +/- 0.030 \n",
      "\n"
     ]
    },
    {
     "name": "stdout",
     "output_type": "stream",
     "text": [
      "PSF model saved as: /Users/terwelj/Documents/VirtualMachine/Observing_ING/autophot/newtest/ZTF22abqxkhd_REDUCED/r1640323redCCD4/PSF_model_r1640323redCCD4_APT.fits\n",
      "\n",
      "+-------------------+\n",
      "|Measuring PSF model|\n",
      "+-------------------+\n",
      "\n",
      "\n",
      "+-----------------------+\n",
      "|Finding Zeropoint value|\n",
      "+-----------------------+\n",
      "\n",
      "Checking for suitable catalog sources\n",
      "Removed 102 sources lower than SNR of 25.0\n"
     ]
    },
    {
     "name": "stderr",
     "output_type": "stream",
     "text": [
      "/opt/anaconda3/envs/autophot/lib/python3.7/site-packages/matplotlib/backends/backend_pdf.py:1649: DeprecationWarning: NONE is deprecated and will be removed in Pillow 10 (2023-07-01). Use Resampling.NEAREST or Dither.NONE instead.\n",
      "  img = img.convert(mode='P', dither=Image.NONE,\n",
      "/opt/anaconda3/envs/autophot/lib/python3.7/site-packages/matplotlib/backends/backend_pdf.py:1650: DeprecationWarning: ADAPTIVE is deprecated and will be removed in Pillow 10 (2023-07-01). Use Palette.ADAPTIVE instead.\n",
      "  palette=Image.ADAPTIVE, colors=num_colors)\n",
      "Target photometry on original image\n"
     ]
    },
    {
     "name": "stdout",
     "output_type": "stream",
     "text": [
      "\n",
      "+-----------------------------------+\n",
      "|Doing Aperture Photometry on Target|\n",
      "+-----------------------------------+\n",
      "\n"
     ]
    },
    {
     "name": "stderr",
     "output_type": "stream",
     "text": [
      "/opt/anaconda3/envs/autophot/lib/python3.7/site-packages/matplotlib/backends/backend_pdf.py:1649: DeprecationWarning: NONE is deprecated and will be removed in Pillow 10 (2023-07-01). Use Resampling.NEAREST or Dither.NONE instead.\n",
      "  img = img.convert(mode='P', dither=Image.NONE,\n",
      "/opt/anaconda3/envs/autophot/lib/python3.7/site-packages/matplotlib/backends/backend_pdf.py:1650: DeprecationWarning: ADAPTIVE is deprecated and will be removed in Pillow 10 (2023-07-01). Use Palette.ADAPTIVE instead.\n",
      "  palette=Image.ADAPTIVE, colors=num_colors)\n",
      "Approximate Target SNR: 184.5\n",
      "SNR = 185 - skipping limiting magnitude\n",
      "Pixel Offset: 0.000\n",
      "Limiting Magnitude: skipped\n",
      "Target Detection probability: 100 %\n",
      "Target flux: 1450.904 +/- 0.000 [counts/s]\n",
      "Noise: 654.178 [counts/s]\n",
      "Target SNR: 184.526 +/- 0.006\n",
      "Instrumental Magnitude: -7.904 +/- 0.000\n",
      "Zeropoint: 26.084 +/- 0.030\n",
      "Target Magnitude: 18.156 +/- 0.031 \n",
      "\n",
      "*** Transient well detected ***\n",
      "\n",
      "Time Taken [ 8408 ]: 34s\n",
      "Sucess: r1640323redCCD4_APT.fits :: PID 8408 \n",
      "\n",
      "File: r1639513redCCD4_APT.fits - PID: 8408\n",
      "Start Time: 2023-01-03 14:47:59.232624\n",
      "Filter keyoward used: WFFBAND\n",
      "Telescope: INT\n",
      "Filter: i\n",
      "MJD: 59896.977\n",
      "Date of Observation : 2022-11-13\n",
      "Read Noise: 5.8 [e^- /pixel]\n",
      "GAIN: 2.9 [e^- /count]\n",
      "Exposure time: 800 [s] \n",
      "Detecting/removing cosmic ray sources\n"
     ]
    },
    {
     "name": "stdout",
     "output_type": "stream",
     "text": [
      "\n",
      "+-----------+\n",
      "|File: 5 / 6|\n",
      "+-----------+\n",
      "\n",
      "Starting Astroscrappy ... "
     ]
    },
    {
     "name": "stderr",
     "output_type": "stream",
     "text": [
      "Contaminated pixels with Cosmic rays removed: 44901\n",
      "Cosmic rays removed - image updated\n",
      "WARNING: FITSFixedWarning: RADECSYS= 'FK5 ' / mean place new (after the 1976 IAU) system \n",
      "the RADECSYS keyword is deprecated, use RADESYSa. [astropy.wcs.wcs]\n",
      "FITSFixedWarning: RADECSYS= 'FK5 ' / mean place new (after the 1976 IAU) system \n",
      "the RADECSYS keyword is deprecated, use RADESYSa.\n",
      "WARNING: FITSFixedWarning: PROJP1 = 1.00000000 / Projection coefficient for primary WCS \n",
      "the PROJPn keyword is deprecated, use PVi_ma. [astropy.wcs.wcs]\n",
      "FITSFixedWarning: PROJP1 = 1.00000000 / Projection coefficient for primary WCS \n",
      "the PROJPn keyword is deprecated, use PVi_ma.\n",
      "WARNING: FITSFixedWarning: PROJP3 = 0.00000000 / Projection coefficient for primary WCS \n",
      "the PROJPn keyword is deprecated, use PVi_ma. [astropy.wcs.wcs]\n",
      "FITSFixedWarning: PROJP3 = 0.00000000 / Projection coefficient for primary WCS \n",
      "the PROJPn keyword is deprecated, use PVi_ma.\n",
      "WARNING: FITSFixedWarning: 'datfix' made the change 'Invalid parameter values: MJD-OBS and DATE-OBS are inconsistent.\n",
      "Changed DATE-OBS from '2022-11-13        ' to '2022-11-13T00:00:00.0''. [astropy.wcs.wcs]\n",
      "FITSFixedWarning: 'datfix' made the change 'Invalid parameter values: MJD-OBS and DATE-OBS are inconsistent.\n",
      "Changed DATE-OBS from '2022-11-13        ' to '2022-11-13T00:00:00.0''.\n",
      "\n",
      "Performing Astrometry.net\n",
      "Removing any pre-existing WCS keys \n",
      "No WCS values found - attempting to solve field\n",
      "ASTROMETRY started...\n",
      "ASTROMETRY finished: 4s\n",
      "Updating WCS keys with new values\n",
      "WCS saved to new file\n",
      "\n",
      "Searching for FWHM\n",
      "Using Gaussian Profile for fitting\n"
     ]
    },
    {
     "name": "stdout",
     "output_type": "stream",
     "text": [
      "\n",
      "+-------------------------------+\n",
      "|Finding Full Width Half Maximum|\n",
      "+-------------------------------+\n",
      "\n"
     ]
    },
    {
     "name": "stderr",
     "output_type": "stream",
     "text": [
      "\n",
      "Number of sources before cleaning [ 25.0 sigma ]: 25 \n",
      "Updating search FWHM value\n"
     ]
    },
    {
     "name": "stdout",
     "output_type": "stream",
     "text": [
      "Updated guess for FWHM: 7.3 pixels \n"
     ]
    },
    {
     "name": "stderr",
     "output_type": "stream",
     "text": [
      "\n",
      "Number of sources before cleaning [ 25.0 sigma ]: 74 \n",
      "Removed 2 sources near boundary\n",
      "Removed 23 crowded sources\n"
     ]
    },
    {
     "name": "stdout",
     "output_type": "stream",
     "text": [
      "Fitting source for FWHM: 49/49 "
     ]
    },
    {
     "name": "stderr",
     "output_type": "stream",
     "text": [
      "Removed 44 saturated sources\n",
      "WARNING: Input data contains invalid values (NaNs or infs), which were automatically clipped. [astropy.stats.sigma_clipping]\n",
      "Input data contains invalid values (NaNs or infs), which were automatically clipped.\n",
      "Removed 44 FWHM outliers\n",
      "WARNING: Input data contains invalid values (NaNs or infs), which were automatically clipped. [astropy.stats.sigma_clipping]\n",
      "Input data contains invalid values (NaNs or infs), which were automatically clipped.\n",
      "Removed 44 median outliers\n",
      "Useable sources found [ 25 sigma ]: 49\n",
      "Removes 0 sources within minimum seperation [ 32 pixel ]\n",
      "\n",
      "FWHM: 6.404 +/- 0.033 [ pixels ]\n",
      "\n",
      "Seeing: 2.123 [ arcsec ]\n",
      "Aperture size: 10.9 pixels\n",
      "Aperture correction: -0.027 +/- 0.013 [ mag ]\n",
      "WARNING: FITSFixedWarning: 'datfix' made the change 'Invalid parameter values: MJD-OBS and DATE-OBS are inconsistent.\n",
      "Changed DATE-OBS from '2022-11-13        ' to '2022-11-13T00:00:00.0''. [astropy.wcs.wcs]\n",
      "FITSFixedWarning: 'datfix' made the change 'Invalid parameter values: MJD-OBS and DATE-OBS are inconsistent.\n",
      "Changed DATE-OBS from '2022-11-13        ' to '2022-11-13T00:00:00.0''.\n",
      "Catalog found for target_ra_21_dec_1\n",
      "Catalog: PAN_STARRS \n",
      "File: target_ra_21_dec_1_r_0.25\n",
      "Catalog length: 10000\n",
      "Removed 3443 sources fainter than cutoff [20 mag]\n",
      "Using Gaussian Profile for fitting\n",
      "Catalog Length: 320\n"
     ]
    },
    {
     "name": "stdout",
     "output_type": "stream",
     "text": [
      "\n",
      "+--------------------------------------------+\n",
      "|Searching for catalog for target_ra_21_dec_1|\n",
      "+--------------------------------------------+\n",
      "\n",
      "\n",
      "+---------------------------------+\n",
      "|Matching catalog sources to image|\n",
      "+---------------------------------+\n",
      "\n",
      "Removed 4 sources too close to target\n",
      "Removed 395 sources too close to boundary or off image\n",
      "Matching catalog to image: 313 / 320 :: Useful sources 142 / 320 "
     ]
    },
    {
     "name": "stderr",
     "output_type": "stream",
     "text": [
      "\n",
      "Median offset: 3.9 [ pixels ] / 1.3 [ arcsec ]\n"
     ]
    },
    {
     "name": "stdout",
     "output_type": "stream",
     "text": [
      "\r",
      "Matching catalog to image: 314 / 320 :: Useful sources 143 / 320 \r",
      "Matching catalog to image: 315 / 320 :: Useful sources 144 / 320 \r",
      "Matching catalog to image: 316 / 320 :: Useful sources 145 / 320 \r",
      "Matching catalog to image: 317 / 320 :: Useful sources 146 / 320 \r",
      "Matching catalog to image: 318 / 320 :: Useful sources 147 / 320 \r",
      "Matching catalog to image: 319 / 320 :: Useful sources 148 / 320 \r",
      "Matching catalog to image: 320 / 320 :: Useful sources 148 / 320   .. done\n",
      "\n",
      "Broken cutouts: 0\n",
      "Not in correct location: 0\n",
      "Not detected: 100\n",
      "Saturated: 73\n",
      "Error: 0\n",
      "\n",
      "\n",
      "+-------------------------------------------+\n",
      "|Building PSF model using stars in the field|\n",
      "+-------------------------------------------+\n",
      "\n"
     ]
    },
    {
     "name": "stderr",
     "output_type": "stream",
     "text": [
      "Residual table updated: 1 / 10 \n",
      "\tSNR: 481 :: FWHM fitted 6.397\n",
      "Residual table updated: 2 / 10 \n",
      "\tSNR: 455 :: FWHM fitted 6.407\n",
      "Residual table updated: 3 / 10 \n",
      "\tSNR: 458 :: FWHM fitted 6.420\n",
      "Residual table updated: 4 / 10 \n",
      "\tSNR: 452 :: FWHM fitted 6.348\n",
      "Found faint soures near PSF star at 5 sigma - skipping \n",
      "Using worst case scenario number of sources\n",
      "\n",
      "PSF built using 4 sources\n",
      "\n",
      "Unity PSF: 48.6 [counts] \n",
      "Unity Residual table: 2.1 [counts] \n",
      "Using Aperture Photometry on sequence Stars \n",
      "No PSF sources fitted\n",
      "WARNING: Input data contains invalid values (NaNs or infs), which were automatically clipped. [astropy.stats.sigma_clipping]\n",
      "Input data contains invalid values (NaNs or infs), which were automatically clipped.\n",
      "\n",
      "Mean i-band zeropoint: 25.841 +/- 0.057 \n",
      "\n"
     ]
    },
    {
     "name": "stdout",
     "output_type": "stream",
     "text": [
      "PSF model saved as: /Users/terwelj/Documents/VirtualMachine/Observing_ING/autophot/newtest/ZTF22abqxkhd_REDUCED/r1639513redCCD4/PSF_model_r1639513redCCD4_APT.fits\n",
      "\n",
      "+-------------------+\n",
      "|Measuring PSF model|\n",
      "+-------------------+\n",
      "\n",
      "\n",
      "+-----------------------+\n",
      "|Finding Zeropoint value|\n",
      "+-----------------------+\n",
      "\n",
      "Checking for suitable catalog sources\n",
      "Removed 133 sources lower than SNR of 25.0\n"
     ]
    },
    {
     "name": "stderr",
     "output_type": "stream",
     "text": [
      "/opt/anaconda3/envs/autophot/lib/python3.7/site-packages/matplotlib/backends/backend_pdf.py:1649: DeprecationWarning: NONE is deprecated and will be removed in Pillow 10 (2023-07-01). Use Resampling.NEAREST or Dither.NONE instead.\n",
      "  img = img.convert(mode='P', dither=Image.NONE,\n",
      "/opt/anaconda3/envs/autophot/lib/python3.7/site-packages/matplotlib/backends/backend_pdf.py:1650: DeprecationWarning: ADAPTIVE is deprecated and will be removed in Pillow 10 (2023-07-01). Use Palette.ADAPTIVE instead.\n",
      "  palette=Image.ADAPTIVE, colors=num_colors)\n",
      "Approx. catalog limiting magnitude: 19.839 [ mag ]\n",
      "Target photometry on original image\n"
     ]
    },
    {
     "name": "stdout",
     "output_type": "stream",
     "text": [
      "\n",
      "+-----------------------------------+\n",
      "|Doing Aperture Photometry on Target|\n",
      "+-----------------------------------+\n",
      "\n"
     ]
    },
    {
     "name": "stderr",
     "output_type": "stream",
     "text": [
      "/opt/anaconda3/envs/autophot/lib/python3.7/site-packages/matplotlib/backends/backend_pdf.py:1649: DeprecationWarning: NONE is deprecated and will be removed in Pillow 10 (2023-07-01). Use Resampling.NEAREST or Dither.NONE instead.\n",
      "  img = img.convert(mode='P', dither=Image.NONE,\n",
      "/opt/anaconda3/envs/autophot/lib/python3.7/site-packages/matplotlib/backends/backend_pdf.py:1650: DeprecationWarning: ADAPTIVE is deprecated and will be removed in Pillow 10 (2023-07-01). Use Palette.ADAPTIVE instead.\n",
      "  palette=Image.ADAPTIVE, colors=num_colors)\n",
      "Approximate Target SNR: 319.2\n",
      "SNR = 319 - skipping limiting magnitude\n",
      "Pixel Offset: 0.000\n",
      "Limiting Magnitude: skipped\n",
      "Target Detection probability: 99 %\n",
      "Target flux: 1454.183 +/- 0.000 [counts/s]\n",
      "Noise: 780.846 [counts/s]\n",
      "Target SNR: 319.217 +/- 0.003\n",
      "Instrumental Magnitude: -7.907 +/- 0.000\n",
      "Zeropoint: 25.841 +/- 0.057\n",
      "Target Magnitude: 17.908 +/- 0.059 \n",
      "\n",
      "*** Transient well detected ***\n",
      "\n",
      "Time Taken [ 8408 ]: 49s\n",
      "Sucess: r1639513redCCD4_APT.fits :: PID 8408 \n",
      "\n",
      "File: r1639515redCCD4_APT.fits - PID: 8408\n",
      "Start Time: 2023-01-03 14:48:48.163814\n",
      "Filter keyoward used: WFFBAND\n",
      "Telescope: INT\n",
      "Filter: r\n",
      "MJD: 59896.995\n",
      "Date of Observation : 2022-11-13\n",
      "Read Noise: 5.8 [e^- /pixel]\n",
      "GAIN: 2.9 [e^- /count]\n",
      "Exposure time: 200 [s] \n",
      "Detecting/removing cosmic ray sources\n"
     ]
    },
    {
     "name": "stdout",
     "output_type": "stream",
     "text": [
      "\n",
      "+-----------+\n",
      "|File: 6 / 6|\n",
      "+-----------+\n",
      "\n",
      "Starting Astroscrappy ... "
     ]
    },
    {
     "name": "stderr",
     "output_type": "stream",
     "text": [
      "Contaminated pixels with Cosmic rays removed: 33721\n",
      "Cosmic rays removed - image updated\n",
      "WARNING: FITSFixedWarning: RADECSYS= 'FK5 ' / mean place new (after the 1976 IAU) system \n",
      "the RADECSYS keyword is deprecated, use RADESYSa. [astropy.wcs.wcs]\n",
      "FITSFixedWarning: RADECSYS= 'FK5 ' / mean place new (after the 1976 IAU) system \n",
      "the RADECSYS keyword is deprecated, use RADESYSa.\n",
      "WARNING: FITSFixedWarning: PROJP1 = 1.00000000 / Projection coefficient for primary WCS \n",
      "the PROJPn keyword is deprecated, use PVi_ma. [astropy.wcs.wcs]\n",
      "FITSFixedWarning: PROJP1 = 1.00000000 / Projection coefficient for primary WCS \n",
      "the PROJPn keyword is deprecated, use PVi_ma.\n",
      "WARNING: FITSFixedWarning: PROJP3 = 0.00000000 / Projection coefficient for primary WCS \n",
      "the PROJPn keyword is deprecated, use PVi_ma. [astropy.wcs.wcs]\n",
      "FITSFixedWarning: PROJP3 = 0.00000000 / Projection coefficient for primary WCS \n",
      "the PROJPn keyword is deprecated, use PVi_ma.\n",
      "WARNING: FITSFixedWarning: 'datfix' made the change 'Invalid parameter values: MJD-OBS and DATE-OBS are inconsistent.\n",
      "Changed DATE-OBS from '2022-11-13        ' to '2022-11-13T00:00:00.0''. [astropy.wcs.wcs]\n",
      "FITSFixedWarning: 'datfix' made the change 'Invalid parameter values: MJD-OBS and DATE-OBS are inconsistent.\n",
      "Changed DATE-OBS from '2022-11-13        ' to '2022-11-13T00:00:00.0''.\n",
      "\n",
      "Performing Astrometry.net\n",
      "Removing any pre-existing WCS keys \n",
      "No WCS values found - attempting to solve field\n",
      "ASTROMETRY started...\n",
      "ASTROMETRY finished: 3s\n",
      "Updating WCS keys with new values\n",
      "WCS saved to new file\n",
      "\n",
      "Searching for FWHM\n",
      "Using Gaussian Profile for fitting\n"
     ]
    },
    {
     "name": "stdout",
     "output_type": "stream",
     "text": [
      "\n",
      "+-------------------------------+\n",
      "|Finding Full Width Half Maximum|\n",
      "+-------------------------------+\n",
      "\n"
     ]
    },
    {
     "name": "stderr",
     "output_type": "stream",
     "text": [
      "\n",
      "Number of sources before cleaning [ 25.0 sigma ]: 25 \n",
      "Updating search FWHM value\n"
     ]
    },
    {
     "name": "stdout",
     "output_type": "stream",
     "text": [
      "Updated guess for FWHM: 8.9 pixels \n"
     ]
    },
    {
     "name": "stderr",
     "output_type": "stream",
     "text": [
      "\n",
      "Number of sources before cleaning [ 25.0 sigma ]: 98 \n",
      "Removed 1 sources near boundary\n",
      "Removed 2 crowded sources\n"
     ]
    },
    {
     "name": "stdout",
     "output_type": "stream",
     "text": [
      "Fitting source for FWHM: 95/95     "
     ]
    },
    {
     "name": "stderr",
     "output_type": "stream",
     "text": [
      "Removed 14 saturated sources\n",
      "Removed 1 with high fwhm [limit: 30 [pixels]\n",
      "WARNING: Input data contains invalid values (NaNs or infs), which were automatically clipped. [astropy.stats.sigma_clipping]\n",
      "Input data contains invalid values (NaNs or infs), which were automatically clipped.\n",
      "Removed 30 FWHM outliers\n",
      "WARNING: Input data contains invalid values (NaNs or infs), which were automatically clipped. [astropy.stats.sigma_clipping]\n",
      "Input data contains invalid values (NaNs or infs), which were automatically clipped.\n",
      "Removed 23 median outliers\n",
      "Useable sources found [ 25 sigma ]: 95\n",
      "Removes 0 sources within minimum seperation [ 32 pixel ]\n",
      "\n",
      "FWHM: 6.917 +/- 1.458 [ pixels ]\n",
      "\n",
      "Seeing: 2.299 [ arcsec ]\n",
      "Aperture size: 11.8 pixels\n",
      "Aperture correction: -0.020 +/- 0.028 [ mag ]\n",
      "WARNING: FITSFixedWarning: 'datfix' made the change 'Invalid parameter values: MJD-OBS and DATE-OBS are inconsistent.\n",
      "Changed DATE-OBS from '2022-11-13        ' to '2022-11-13T00:00:00.0''. [astropy.wcs.wcs]\n",
      "FITSFixedWarning: 'datfix' made the change 'Invalid parameter values: MJD-OBS and DATE-OBS are inconsistent.\n",
      "Changed DATE-OBS from '2022-11-13        ' to '2022-11-13T00:00:00.0''.\n",
      "Catalog found for target_ra_21_dec_1\n",
      "Catalog: PAN_STARRS \n",
      "File: target_ra_21_dec_1_r_0.25\n",
      "Catalog length: 10000\n",
      "Removed 4404 sources fainter than cutoff [20 mag]\n",
      "Using Gaussian Profile for fitting\n",
      "Catalog Length: 285\n"
     ]
    },
    {
     "name": "stdout",
     "output_type": "stream",
     "text": [
      "\n",
      "+--------------------------------------------+\n",
      "|Searching for catalog for target_ra_21_dec_1|\n",
      "+--------------------------------------------+\n",
      "\n",
      "\n",
      "+---------------------------------+\n",
      "|Matching catalog sources to image|\n",
      "+---------------------------------+\n",
      "\n",
      "Removed 3 sources too close to target\n",
      "Removed 387 sources too close to boundary or off image\n",
      "Matching catalog to image: 278 / 285 :: Useful sources 136 / 285 "
     ]
    },
    {
     "name": "stderr",
     "output_type": "stream",
     "text": [
      "\n",
      "Median offset: 3.7 [ pixels ] / 1.2 [ arcsec ]\n",
      "Found faint soures near PSF star at 5 sigma - skipping \n",
      "Residual table updated: 1 / 10 \n",
      "\tSNR: 1032 :: FWHM fitted 6.353\n"
     ]
    },
    {
     "name": "stdout",
     "output_type": "stream",
     "text": [
      "\r",
      "Matching catalog to image: 279 / 285 :: Useful sources 137 / 285 \r",
      "Matching catalog to image: 280 / 285 :: Useful sources 137 / 285 \r",
      "Matching catalog to image: 281 / 285 :: Useful sources 138 / 285 \r",
      "Matching catalog to image: 282 / 285 :: Useful sources 138 / 285 \r",
      "Matching catalog to image: 283 / 285 :: Useful sources 138 / 285 \r",
      "Matching catalog to image: 284 / 285 :: Useful sources 138 / 285 \r",
      "Matching catalog to image: 285 / 285 :: Useful sources 138 / 285   .. done\n",
      "\n",
      "Broken cutouts: 0\n",
      "Not in correct location: 0\n",
      "Not detected: 125\n",
      "Saturated: 23\n",
      "Error: 0\n",
      "\n",
      "\n",
      "+-------------------------------------------+\n",
      "|Building PSF model using stars in the field|\n",
      "+-------------------------------------------+\n",
      "\n"
     ]
    },
    {
     "name": "stderr",
     "output_type": "stream",
     "text": [
      "Residual table updated: 2 / 10 \n",
      "\tSNR: 969 :: FWHM fitted 6.439\n",
      "Residual table updated: 3 / 10 \n",
      "\tSNR: 941 :: FWHM fitted 6.474\n",
      "Residual table updated: 4 / 10 \n",
      "\tSNR: 914 :: FWHM fitted 6.356\n",
      "Residual table updated: 5 / 10 \n",
      "\tSNR: 913 :: FWHM fitted 6.393\n",
      "Residual table updated: 6 / 10 \n",
      "\tSNR: 853 :: FWHM fitted 6.407\n",
      "Residual table updated: 7 / 10 \n",
      "\tSNR: 801 :: FWHM fitted 6.463\n",
      "Residual table updated: 8 / 10 \n",
      "\tSNR: 723 :: FWHM fitted 6.449\n",
      "Residual table updated: 9 / 10 \n",
      "\tSNR: 711 :: FWHM fitted 6.374\n",
      "Residual table updated: 10 / 10 \n",
      "\tSNR: 703 :: FWHM fitted 6.474\n",
      "\n",
      "PSF built using 10 sources\n",
      "\n",
      "Unity PSF: 48.8 [counts] \n",
      "Unity Residual table: 2.3 [counts] \n",
      "Using Aperture Photometry on sequence Stars \n",
      "No PSF sources fitted\n",
      "WARNING: Input data contains invalid values (NaNs or infs), which were automatically clipped. [astropy.stats.sigma_clipping]\n",
      "Input data contains invalid values (NaNs or infs), which were automatically clipped.\n",
      "\n",
      "Mean r-band zeropoint: 26.159 +/- 0.031 \n",
      "\n"
     ]
    },
    {
     "name": "stdout",
     "output_type": "stream",
     "text": [
      "PSF model saved as: /Users/terwelj/Documents/VirtualMachine/Observing_ING/autophot/newtest/ZTF22abqxkhd_REDUCED/r1639515redCCD4/PSF_model_r1639515redCCD4_APT.fits\n",
      "\n",
      "+-------------------+\n",
      "|Measuring PSF model|\n",
      "+-------------------+\n",
      "\n",
      "\n",
      "+-----------------------+\n",
      "|Finding Zeropoint value|\n",
      "+-----------------------+\n",
      "\n",
      "Checking for suitable catalog sources\n",
      "Removed 125 sources lower than SNR of 25.0\n"
     ]
    },
    {
     "name": "stderr",
     "output_type": "stream",
     "text": [
      "/opt/anaconda3/envs/autophot/lib/python3.7/site-packages/matplotlib/backends/backend_pdf.py:1649: DeprecationWarning: NONE is deprecated and will be removed in Pillow 10 (2023-07-01). Use Resampling.NEAREST or Dither.NONE instead.\n",
      "  img = img.convert(mode='P', dither=Image.NONE,\n",
      "/opt/anaconda3/envs/autophot/lib/python3.7/site-packages/matplotlib/backends/backend_pdf.py:1650: DeprecationWarning: ADAPTIVE is deprecated and will be removed in Pillow 10 (2023-07-01). Use Palette.ADAPTIVE instead.\n",
      "  palette=Image.ADAPTIVE, colors=num_colors)\n",
      "Target photometry on original image\n"
     ]
    },
    {
     "name": "stdout",
     "output_type": "stream",
     "text": [
      "\n",
      "+-----------------------------------+\n",
      "|Doing Aperture Photometry on Target|\n",
      "+-----------------------------------+\n",
      "\n"
     ]
    },
    {
     "name": "stderr",
     "output_type": "stream",
     "text": [
      "/opt/anaconda3/envs/autophot/lib/python3.7/site-packages/matplotlib/backends/backend_pdf.py:1649: DeprecationWarning: NONE is deprecated and will be removed in Pillow 10 (2023-07-01). Use Resampling.NEAREST or Dither.NONE instead.\n",
      "  img = img.convert(mode='P', dither=Image.NONE,\n",
      "/opt/anaconda3/envs/autophot/lib/python3.7/site-packages/matplotlib/backends/backend_pdf.py:1650: DeprecationWarning: ADAPTIVE is deprecated and will be removed in Pillow 10 (2023-07-01). Use Palette.ADAPTIVE instead.\n",
      "  palette=Image.ADAPTIVE, colors=num_colors)\n",
      "Approximate Target SNR: 195.4\n",
      "SNR = 195 - skipping limiting magnitude\n",
      "Pixel Offset: 0.000\n",
      "Limiting Magnitude: skipped\n",
      "Target Detection probability: 99 %\n",
      "Target flux: 2043.987 +/- 0.000 [counts/s]\n",
      "Noise: 1141.662 [counts/s]\n",
      "Target SNR: 195.378 +/- 0.006\n",
      "Instrumental Magnitude: -8.276 +/- 0.000\n",
      "Zeropoint: 26.159 +/- 0.031\n",
      "Target Magnitude: 17.863 +/- 0.043 \n",
      "\n",
      "*** Detected with FWHM discrepancy: 0.507 pixels ***\n",
      "\n",
      "Time Taken [ 8408 ]: 30s\n",
      "Sucess: r1639515redCCD4_APT.fits :: PID 8408 \n",
      "\n",
      "\n",
      "User instrument database: /Users/terwelj/Documents/VirtualMachine/Observing_ING/autophot/newtest/telescope.yml\n",
      "\n",
      "Number of files: 3\n",
      "\n",
      "1 telescope(s) detected - checking header keywords\n",
      "\n"
     ]
    },
    {
     "name": "stdout",
     "output_type": "stream",
     "text": [
      "\n",
      "---\n",
      "\n",
      "Files that failed : []\n",
      "\n",
      "DONE\n",
      "\n",
      "Done - Time Taken: 236.5\n",
      "Photometry successfully extracted from all images\n",
      "\n",
      "\n",
      "Running AutoPHOT on at2022acsu, ra = 32.42648, dec = 11.8966\n",
      "\n",
      "\n",
      "Default input loaded in from: \n",
      "/opt/anaconda3/envs/autophot/lib/python3.7/site-packages/autophot/databases/default_input.yml\n",
      "\n",
      "        _       _       ___ _  _    _____\n",
      "       /_\\ _  _| |_ ___| _ \\ || |__|_   _|\n",
      "      / _ \\ || |  _/ _ \\  _/ __ / _ \\| |\n",
      "     /_/ \\_\\_,_|\\__\\___/_| |_||_\\___/|_|\n",
      "    \n",
      "     ---------------------------------------\n",
      "        Automated Photometry of Transients\n",
      "        S. J. Brennan et al. 2021 \n",
      "        Please provide feedback/bugs to:\n",
      "        Email: sean.brennan2@ucdconnect.ie\n",
      "    ---------------------------------------\n",
      "Directory of fits file: /Users/terwelj/Documents/VirtualMachine/Observing_ING/autophot/newtest/at2022acsu\n",
      "Found Telescopes:\n",
      "\n",
      " - INT\n",
      "\n",
      "-> Telescope check complete\n",
      "\n",
      "Checking Filter keywords and database\n"
     ]
    },
    {
     "name": "stderr",
     "output_type": "stream",
     "text": [
      "File: r1645975redCCD4_APT.fits - PID: 8408\n",
      "Start Time: 2023-01-03 14:49:19.226259\n",
      "Filter keyoward used: WFFBAND\n"
     ]
    },
    {
     "name": "stdout",
     "output_type": "stream",
     "text": [
      "\n",
      "-> Filter check complete\n",
      "\n",
      "Checking Filter information for each image\n",
      "\n",
      "Files removed - Wrong Image Type: 0\n",
      "\n",
      "Files removed - No/Wrong filter(s): 0\n",
      "Filters not included: []\n",
      "\n",
      "\n",
      "Files removed: 0\n",
      "\n",
      "+-----------+\n",
      "|File: 1 / 3|\n",
      "+-----------+\n",
      "\n"
     ]
    },
    {
     "name": "stderr",
     "output_type": "stream",
     "text": [
      "Telescope: INT\n",
      "Filter: i\n",
      "MJD: 59926.974\n",
      "Date of Observation : 2022-12-13\n",
      "Read Noise: 5.8 [e^- /pixel]\n",
      "GAIN: 2.9 [e^- /count]\n",
      "Exposure time: 20 [s] \n",
      "Detecting/removing cosmic ray sources\n"
     ]
    },
    {
     "name": "stdout",
     "output_type": "stream",
     "text": [
      "Starting Astroscrappy ... "
     ]
    },
    {
     "name": "stderr",
     "output_type": "stream",
     "text": [
      "Contaminated pixels with Cosmic rays removed: 28528\n",
      "Cosmic rays removed - image updated\n",
      "WARNING: FITSFixedWarning: RADECSYS= 'FK5 ' / mean place new (after the 1976 IAU) system \n",
      "the RADECSYS keyword is deprecated, use RADESYSa. [astropy.wcs.wcs]\n",
      "FITSFixedWarning: RADECSYS= 'FK5 ' / mean place new (after the 1976 IAU) system \n",
      "the RADECSYS keyword is deprecated, use RADESYSa.\n",
      "WARNING: FITSFixedWarning: PROJP1 = 1.00000000 / Projection coefficient for primary WCS \n",
      "the PROJPn keyword is deprecated, use PVi_ma. [astropy.wcs.wcs]\n",
      "FITSFixedWarning: PROJP1 = 1.00000000 / Projection coefficient for primary WCS \n",
      "the PROJPn keyword is deprecated, use PVi_ma.\n",
      "WARNING: FITSFixedWarning: PROJP3 = 0.00000000 / Projection coefficient for primary WCS \n",
      "the PROJPn keyword is deprecated, use PVi_ma. [astropy.wcs.wcs]\n",
      "FITSFixedWarning: PROJP3 = 0.00000000 / Projection coefficient for primary WCS \n",
      "the PROJPn keyword is deprecated, use PVi_ma.\n",
      "WARNING: FITSFixedWarning: 'datfix' made the change 'Invalid parameter values: MJD-OBS and DATE-OBS are inconsistent.\n",
      "Changed DATE-OBS from '2022-12-13        ' to '2022-12-13T00:00:00.0''. [astropy.wcs.wcs]\n",
      "FITSFixedWarning: 'datfix' made the change 'Invalid parameter values: MJD-OBS and DATE-OBS are inconsistent.\n",
      "Changed DATE-OBS from '2022-12-13        ' to '2022-12-13T00:00:00.0''.\n",
      "\n",
      "Performing Astrometry.net\n",
      "Removing any pre-existing WCS keys \n",
      "No WCS values found - attempting to solve field\n",
      "ASTROMETRY started...\n",
      "ASTROMETRY finished: 4s\n",
      "Updating WCS keys with new values\n",
      "WCS saved to new file\n",
      "\n",
      "Searching for FWHM\n",
      "Using Gaussian Profile for fitting\n"
     ]
    },
    {
     "name": "stdout",
     "output_type": "stream",
     "text": [
      "\n",
      "+-------------------------------+\n",
      "|Finding Full Width Half Maximum|\n",
      "+-------------------------------+\n",
      "\n"
     ]
    },
    {
     "name": "stderr",
     "output_type": "stream",
     "text": [
      "\n",
      "Number of sources before cleaning [ 25.0 sigma ]: 25 \n",
      "Updating search FWHM value\n"
     ]
    },
    {
     "name": "stdout",
     "output_type": "stream",
     "text": [
      "Updated guess for FWHM: 4.7 pixels \n"
     ]
    },
    {
     "name": "stderr",
     "output_type": "stream",
     "text": [
      "\n",
      "Number of sources before cleaning [ 25.0 sigma ]: 284 \n",
      "Removed 208 sources near boundary\n",
      "Removed 6 crowded sources\n"
     ]
    },
    {
     "name": "stdout",
     "output_type": "stream",
     "text": [
      "Fitting source for FWHM: 70/70 "
     ]
    },
    {
     "name": "stderr",
     "output_type": "stream",
     "text": [
      "Removed 3 saturated sources\n",
      "WARNING: Input data contains invalid values (NaNs or infs), which were automatically clipped. [astropy.stats.sigma_clipping]\n",
      "Input data contains invalid values (NaNs or infs), which were automatically clipped.\n",
      "Removed 7 FWHM outliers\n",
      "WARNING: Input data contains invalid values (NaNs or infs), which were automatically clipped. [astropy.stats.sigma_clipping]\n",
      "Input data contains invalid values (NaNs or infs), which were automatically clipped.\n",
      "Removed 12 median outliers\n",
      "Useable sources found [ 25 sigma ]: 70\n",
      "Removes 0 sources within minimum seperation [ 23 pixel ]\n",
      "\n",
      "FWHM: 4.639 +/- 0.134 [ pixels ]\n",
      "\n",
      "Seeing: 1.538 [ arcsec ]\n",
      "Aperture size: 7.9 pixels\n",
      "Aperture correction: -0.052 +/- 0.011 [ mag ]\n",
      "WARNING: FITSFixedWarning: 'datfix' made the change 'Invalid parameter values: MJD-OBS and DATE-OBS are inconsistent.\n",
      "Changed DATE-OBS from '2022-12-13        ' to '2022-12-13T00:00:00.0''. [astropy.wcs.wcs]\n",
      "FITSFixedWarning: 'datfix' made the change 'Invalid parameter values: MJD-OBS and DATE-OBS are inconsistent.\n",
      "Changed DATE-OBS from '2022-12-13        ' to '2022-12-13T00:00:00.0''.\n",
      "Searching for new catalog [sdss] for target_ra_32_dec_12 \n"
     ]
    },
    {
     "name": "stdout",
     "output_type": "stream",
     "text": [
      "\n",
      "+---------------------------------------------+\n",
      "|Searching for catalog for target_ra_32_dec_12|\n",
      "+---------------------------------------------+\n",
      "\n"
     ]
    },
    {
     "name": "stderr",
     "output_type": "stream",
     "text": [
      "Catalog length: 18\n",
      "Removed 8 sources fainter than cutoff [20 mag]\n",
      "Using Gaussian Profile for fitting\n",
      "Catalog Length: 0\n",
      "Could NOT find any catalog sources in field\n",
      "Traceback (most recent call last):\n",
      "  File \"/opt/anaconda3/envs/autophot/lib/python3.7/site-packages/autophot/packages/main.py\", line 1139, in main\n",
      "    raise Exception('Could NOT find any catalog sources in field')\n",
      "Exception: Could NOT find any catalog sources in field\n",
      "Failure: r1645975redCCD4_APT.fits - PID: 8408\n",
      "File: r1645976redCCD4_APT.fits - PID: 8408\n",
      "Start Time: 2023-01-03 14:49:39.963379\n"
     ]
    },
    {
     "name": "stdout",
     "output_type": "stream",
     "text": [
      "\n",
      "+---------------------------------+\n",
      "|Matching catalog sources to image|\n",
      "+---------------------------------+\n",
      "\n",
      "Removed 3 sources too close to boundary or off image\n",
      "  .. done\n",
      "\n",
      "Broken cutouts: 0\n",
      "Not in correct location: 0\n",
      "Not detected: 0\n",
      "Saturated: 0\n",
      "Error: 0\n",
      "\n",
      "\n",
      "+-----------+\n",
      "|File: 2 / 3|\n",
      "+-----------+\n",
      "\n"
     ]
    },
    {
     "name": "stderr",
     "output_type": "stream",
     "text": [
      "Filter keyoward used: WFFBAND\n",
      "Telescope: INT\n",
      "Filter: r\n",
      "MJD: 59926.976\n",
      "Date of Observation : 2022-12-13\n",
      "Read Noise: 5.8 [e^- /pixel]\n",
      "GAIN: 2.9 [e^- /count]\n",
      "Exposure time: 20 [s] \n",
      "Detecting/removing cosmic ray sources\n"
     ]
    },
    {
     "name": "stdout",
     "output_type": "stream",
     "text": [
      "Starting Astroscrappy ... "
     ]
    },
    {
     "name": "stderr",
     "output_type": "stream",
     "text": [
      "Contaminated pixels with Cosmic rays removed: 28186\n",
      "Cosmic rays removed - image updated\n",
      "WARNING: FITSFixedWarning: RADECSYS= 'FK5 ' / mean place new (after the 1976 IAU) system \n",
      "the RADECSYS keyword is deprecated, use RADESYSa. [astropy.wcs.wcs]\n",
      "FITSFixedWarning: RADECSYS= 'FK5 ' / mean place new (after the 1976 IAU) system \n",
      "the RADECSYS keyword is deprecated, use RADESYSa.\n",
      "WARNING: FITSFixedWarning: PROJP1 = 1.00000000 / Projection coefficient for primary WCS \n",
      "the PROJPn keyword is deprecated, use PVi_ma. [astropy.wcs.wcs]\n",
      "FITSFixedWarning: PROJP1 = 1.00000000 / Projection coefficient for primary WCS \n",
      "the PROJPn keyword is deprecated, use PVi_ma.\n",
      "WARNING: FITSFixedWarning: PROJP3 = 0.00000000 / Projection coefficient for primary WCS \n",
      "the PROJPn keyword is deprecated, use PVi_ma. [astropy.wcs.wcs]\n",
      "FITSFixedWarning: PROJP3 = 0.00000000 / Projection coefficient for primary WCS \n",
      "the PROJPn keyword is deprecated, use PVi_ma.\n",
      "WARNING: FITSFixedWarning: 'datfix' made the change 'Invalid parameter values: MJD-OBS and DATE-OBS are inconsistent.\n",
      "Changed DATE-OBS from '2022-12-13        ' to '2022-12-13T00:00:00.0''. [astropy.wcs.wcs]\n",
      "FITSFixedWarning: 'datfix' made the change 'Invalid parameter values: MJD-OBS and DATE-OBS are inconsistent.\n",
      "Changed DATE-OBS from '2022-12-13        ' to '2022-12-13T00:00:00.0''.\n",
      "\n",
      "Performing Astrometry.net\n",
      "Removing any pre-existing WCS keys \n",
      "No WCS values found - attempting to solve field\n",
      "ASTROMETRY started...\n",
      "ASTROMETRY finished: 3s\n",
      "Updating WCS keys with new values\n",
      "WCS saved to new file\n",
      "\n",
      "Searching for FWHM\n",
      "Using Gaussian Profile for fitting\n"
     ]
    },
    {
     "name": "stdout",
     "output_type": "stream",
     "text": [
      "\n",
      "+-------------------------------+\n",
      "|Finding Full Width Half Maximum|\n",
      "+-------------------------------+\n",
      "\n"
     ]
    },
    {
     "name": "stderr",
     "output_type": "stream",
     "text": [
      "\n",
      "Number of sources before cleaning [ 25.0 sigma ]: 25 \n",
      "Updating search FWHM value\n"
     ]
    },
    {
     "name": "stdout",
     "output_type": "stream",
     "text": [
      "operands could not be broadcast together with shapes (2500,) (2050,) \n",
      "Updated guess for FWHM: 4.3 pixels \n"
     ]
    },
    {
     "name": "stderr",
     "output_type": "stream",
     "text": [
      "\n",
      "Number of sources before cleaning [ 25.0 sigma ]: 171 \n",
      "Removed 97 sources near boundary\n",
      "Removed 4 crowded sources\n"
     ]
    },
    {
     "name": "stdout",
     "output_type": "stream",
     "text": [
      "Fitting source for FWHM: 70/70  "
     ]
    },
    {
     "name": "stderr",
     "output_type": "stream",
     "text": [
      "Removed 4 saturated sources\n",
      "WARNING: Input data contains invalid values (NaNs or infs), which were automatically clipped. [astropy.stats.sigma_clipping]\n",
      "Input data contains invalid values (NaNs or infs), which were automatically clipped.\n",
      "Removed 6 FWHM outliers\n",
      "WARNING: Input data contains invalid values (NaNs or infs), which were automatically clipped. [astropy.stats.sigma_clipping]\n",
      "Input data contains invalid values (NaNs or infs), which were automatically clipped.\n",
      "Removed 22 median outliers\n",
      "Useable sources found [ 25 sigma ]: 70\n",
      "Removes 0 sources within minimum seperation [ 21 pixel ]\n",
      "\n",
      "FWHM: 4.355 +/- 0.136 [ pixels ]\n",
      "\n",
      "Seeing: 1.444 [ arcsec ]\n",
      "Aperture size: 7.4 pixels\n",
      "Aperture correction: -0.046 +/- 0.013 [ mag ]\n",
      "WARNING: FITSFixedWarning: 'datfix' made the change 'Invalid parameter values: MJD-OBS and DATE-OBS are inconsistent.\n",
      "Changed DATE-OBS from '2022-12-13        ' to '2022-12-13T00:00:00.0''. [astropy.wcs.wcs]\n",
      "FITSFixedWarning: 'datfix' made the change 'Invalid parameter values: MJD-OBS and DATE-OBS are inconsistent.\n",
      "Changed DATE-OBS from '2022-12-13        ' to '2022-12-13T00:00:00.0''.\n",
      "Catalog found for target_ra_32_dec_12\n",
      "Catalog: SDSS \n",
      "File: target_ra_32_dec_12_r_0.25\n",
      "Catalog length: 18\n",
      "Removed 8 sources fainter than cutoff [20 mag]\n",
      "Using Gaussian Profile for fitting\n",
      "Catalog Length: 0\n",
      "Could NOT find any catalog sources in field\n",
      "Traceback (most recent call last):\n",
      "  File \"/opt/anaconda3/envs/autophot/lib/python3.7/site-packages/autophot/packages/main.py\", line 1139, in main\n",
      "    raise Exception('Could NOT find any catalog sources in field')\n",
      "Exception: Could NOT find any catalog sources in field\n",
      "Failure: r1645976redCCD4_APT.fits - PID: 8408\n"
     ]
    },
    {
     "name": "stdout",
     "output_type": "stream",
     "text": [
      "\n",
      "+---------------------------------------------+\n",
      "|Searching for catalog for target_ra_32_dec_12|\n",
      "+---------------------------------------------+\n",
      "\n",
      "\n",
      "+---------------------------------+\n",
      "|Matching catalog sources to image|\n",
      "+---------------------------------+\n",
      "\n",
      "Removed 3 sources too close to boundary or off image\n",
      "  .. done\n",
      "\n",
      "Broken cutouts: 0\n",
      "Not in correct location: 0\n",
      "Not detected: 0\n",
      "Saturated: 0\n",
      "Error: 0\n",
      "\n",
      "\n",
      "+-----------+\n",
      "|File: 3 / 3|\n",
      "+-----------+\n",
      "\n"
     ]
    },
    {
     "name": "stderr",
     "output_type": "stream",
     "text": [
      "File: r1645977redCCD4_APT.fits - PID: 8408\n",
      "Start Time: 2023-01-03 14:49:59.839909\n",
      "Filter keyoward used: WFFBAND\n",
      "Telescope: INT\n",
      "Filter: g\n",
      "MJD: 59926.977\n",
      "Date of Observation : 2022-12-13\n",
      "Read Noise: 5.8 [e^- /pixel]\n",
      "GAIN: 2.9 [e^- /count]\n",
      "Exposure time: 20 [s] \n",
      "Detecting/removing cosmic ray sources\n"
     ]
    },
    {
     "name": "stdout",
     "output_type": "stream",
     "text": [
      "Starting Astroscrappy ... "
     ]
    },
    {
     "name": "stderr",
     "output_type": "stream",
     "text": [
      "Contaminated pixels with Cosmic rays removed: 28898\n",
      "Cosmic rays removed - image updated\n",
      "WARNING: FITSFixedWarning: RADECSYS= 'FK5 ' / mean place new (after the 1976 IAU) system \n",
      "the RADECSYS keyword is deprecated, use RADESYSa. [astropy.wcs.wcs]\n",
      "FITSFixedWarning: RADECSYS= 'FK5 ' / mean place new (after the 1976 IAU) system \n",
      "the RADECSYS keyword is deprecated, use RADESYSa.\n",
      "WARNING: FITSFixedWarning: PROJP1 = 1.00000000 / Projection coefficient for primary WCS \n",
      "the PROJPn keyword is deprecated, use PVi_ma. [astropy.wcs.wcs]\n",
      "FITSFixedWarning: PROJP1 = 1.00000000 / Projection coefficient for primary WCS \n",
      "the PROJPn keyword is deprecated, use PVi_ma.\n",
      "WARNING: FITSFixedWarning: PROJP3 = 0.00000000 / Projection coefficient for primary WCS \n",
      "the PROJPn keyword is deprecated, use PVi_ma. [astropy.wcs.wcs]\n",
      "FITSFixedWarning: PROJP3 = 0.00000000 / Projection coefficient for primary WCS \n",
      "the PROJPn keyword is deprecated, use PVi_ma.\n",
      "WARNING: FITSFixedWarning: 'datfix' made the change 'Invalid parameter values: MJD-OBS and DATE-OBS are inconsistent.\n",
      "Changed DATE-OBS from '2022-12-13        ' to '2022-12-13T00:00:00.0''. [astropy.wcs.wcs]\n",
      "FITSFixedWarning: 'datfix' made the change 'Invalid parameter values: MJD-OBS and DATE-OBS are inconsistent.\n",
      "Changed DATE-OBS from '2022-12-13        ' to '2022-12-13T00:00:00.0''.\n",
      "\n",
      "Performing Astrometry.net\n",
      "Removing any pre-existing WCS keys \n",
      "No WCS values found - attempting to solve field\n",
      "ASTROMETRY started...\n",
      "ASTROMETRY finished: 4s\n",
      "Updating WCS keys with new values\n",
      "WCS saved to new file\n",
      "\n",
      "Searching for FWHM\n",
      "Using Gaussian Profile for fitting\n"
     ]
    },
    {
     "name": "stdout",
     "output_type": "stream",
     "text": [
      "\n",
      "+-------------------------------+\n",
      "|Finding Full Width Half Maximum|\n",
      "+-------------------------------+\n",
      "\n"
     ]
    },
    {
     "name": "stderr",
     "output_type": "stream",
     "text": [
      "\n",
      "Number of sources before cleaning [ 25.0 sigma ]: 25 \n",
      "Updating search FWHM value\n"
     ]
    },
    {
     "name": "stdout",
     "output_type": "stream",
     "text": [
      "Updated guess for FWHM: 4.6 pixels \n"
     ]
    },
    {
     "name": "stderr",
     "output_type": "stream",
     "text": [
      "\n",
      "Number of sources before cleaning [ 25.0 sigma ]: 328 \n",
      "Too many sources - increasing threshold\n",
      "\n",
      "Number of sources before cleaning [ 50.0 sigma ]: 308 \n",
      "Too many sources - increasing threshold\n",
      "\n",
      "Number of sources before cleaning [ 100.0 sigma ]: 287 \n",
      "Removed 259 sources near boundary\n",
      "Removed 2 crowded sources\n"
     ]
    },
    {
     "name": "stdout",
     "output_type": "stream",
     "text": [
      "Fitting source for FWHM: 26/26 "
     ]
    },
    {
     "name": "stderr",
     "output_type": "stream",
     "text": [
      "Removed 2 saturated sources\n",
      "WARNING: Input data contains invalid values (NaNs or infs), which were automatically clipped. [astropy.stats.sigma_clipping]\n",
      "Input data contains invalid values (NaNs or infs), which were automatically clipped.\n",
      "Removed 2 FWHM outliers\n",
      "WARNING: Input data contains invalid values (NaNs or infs), which were automatically clipped. [astropy.stats.sigma_clipping]\n",
      "Input data contains invalid values (NaNs or infs), which were automatically clipped.\n",
      "Removed 3 median outliers\n",
      "Useable sources found [ 100 sigma ]: 26\n",
      "Removes 0 sources within minimum seperation [ 23 pixel ]\n",
      "\n",
      "FWHM: 4.642 +/- 0.113 [ pixels ]\n",
      "\n",
      "Seeing: 1.539 [ arcsec ]\n",
      "Aperture size: 7.9 pixels\n",
      "Aperture correction: -0.031 +/- 0.005 [ mag ]\n"
     ]
    },
    {
     "name": "stdout",
     "output_type": "stream",
     "text": [
      "\n",
      "+---------------------------------------------+\n",
      "|Searching for catalog for target_ra_32_dec_12|\n",
      "+---------------------------------------------+\n",
      "\n"
     ]
    },
    {
     "name": "stderr",
     "output_type": "stream",
     "text": [
      "WARNING: FITSFixedWarning: 'datfix' made the change 'Invalid parameter values: MJD-OBS and DATE-OBS are inconsistent.\n",
      "Changed DATE-OBS from '2022-12-13        ' to '2022-12-13T00:00:00.0''. [astropy.wcs.wcs]\n",
      "FITSFixedWarning: 'datfix' made the change 'Invalid parameter values: MJD-OBS and DATE-OBS are inconsistent.\n",
      "Changed DATE-OBS from '2022-12-13        ' to '2022-12-13T00:00:00.0''.\n",
      "Catalog found for target_ra_32_dec_12\n",
      "Catalog: SDSS \n",
      "File: target_ra_32_dec_12_r_0.25\n",
      "Catalog length: 18\n",
      "Removed 9 sources fainter than cutoff [20 mag]\n"
     ]
    },
    {
     "name": "stdout",
     "output_type": "stream",
     "text": [
      "\n",
      "+---------------------------------+\n",
      "|Matching catalog sources to image|\n",
      "+---------------------------------+\n",
      "\n",
      "Removed 2 sources too close to boundary or off image\n"
     ]
    },
    {
     "name": "stderr",
     "output_type": "stream",
     "text": [
      "Using Gaussian Profile for fitting\n",
      "Catalog Length: 0\n",
      "Could NOT find any catalog sources in field\n",
      "Traceback (most recent call last):\n",
      "  File \"/opt/anaconda3/envs/autophot/lib/python3.7/site-packages/autophot/packages/main.py\", line 1139, in main\n",
      "    raise Exception('Could NOT find any catalog sources in field')\n",
      "Exception: Could NOT find any catalog sources in field\n",
      "Failure: r1645977redCCD4_APT.fits - PID: 8408\n",
      "\n",
      "User instrument database: /Users/terwelj/Documents/VirtualMachine/Observing_ING/autophot/newtest/telescope.yml\n",
      "\n",
      "Number of files: 3\n",
      "\n",
      "1 telescope(s) detected - checking header keywords\n",
      "\n"
     ]
    },
    {
     "name": "stdout",
     "output_type": "stream",
     "text": [
      "  .. done\n",
      "\n",
      "Broken cutouts: 0\n",
      "Not in correct location: 0\n",
      "Not detected: 0\n",
      "Saturated: 0\n",
      "Error: 0\n",
      "\n",
      "\n",
      "---\n",
      "\n",
      "Files that failed : ['/Users/terwelj/Documents/VirtualMachine/Observing_ING/autophot/newtest/at2022acsu_REDUCED/r1645975redCCD4/r1645975redCCD4_APT.fits', '/Users/terwelj/Documents/VirtualMachine/Observing_ING/autophot/newtest/at2022acsu_REDUCED/r1645976redCCD4/r1645976redCCD4_APT.fits', '/Users/terwelj/Documents/VirtualMachine/Observing_ING/autophot/newtest/at2022acsu_REDUCED/r1645977redCCD4/r1645977redCCD4_APT.fits']\n",
      "\n",
      "DONE\n",
      "\n",
      "Done - Time Taken: 61.5\n",
      "\n",
      "        _       _       ___ _  _    _____\n",
      "       /_\\ _  _| |_ ___| _ \\ || |__|_   _|\n",
      "      / _ \\ || |  _/ _ \\  _/ __ / _ \\| |\n",
      "     /_/ \\_\\_,_|\\__\\___/_| |_||_\\___/|_|\n",
      "    \n",
      "     ---------------------------------------\n",
      "        Automated Photometry of Transients\n",
      "        S. J. Brennan et al. 2021 \n",
      "        Please provide feedback/bugs to:\n",
      "        Email: sean.brennan2@ucdconnect.ie\n",
      "    ---------------------------------------\n",
      "Directory of fits file: /Users/terwelj/Documents/VirtualMachine/Observing_ING/autophot/newtest/at2022acsu\n",
      "Found Telescopes:\n",
      "\n",
      " - INT\n",
      "\n",
      "-> Telescope check complete\n",
      "\n",
      "Checking Filter keywords and database\n"
     ]
    },
    {
     "name": "stderr",
     "output_type": "stream",
     "text": [
      "File: r1645975redCCD4_APT.fits - PID: 8408\n",
      "Start Time: 2023-01-03 14:50:20.688341\n"
     ]
    },
    {
     "name": "stdout",
     "output_type": "stream",
     "text": [
      "\n",
      "-> Filter check complete\n",
      "\n",
      "Checking Filter information for each image\n",
      "\n",
      "Files removed - Wrong Image Type: 0\n",
      "\n",
      "Files removed - No/Wrong filter(s): 0\n",
      "Filters not included: []\n",
      "\n",
      "\n",
      "Files removed: 0\n",
      "\n",
      "+-----------+\n",
      "|File: 1 / 3|\n",
      "+-----------+\n",
      "\n"
     ]
    },
    {
     "name": "stderr",
     "output_type": "stream",
     "text": [
      "Filter keyoward used: WFFBAND\n",
      "Telescope: INT\n",
      "Filter: i\n",
      "MJD: 59926.974\n",
      "Date of Observation : 2022-12-13\n",
      "Read Noise: 5.8 [e^- /pixel]\n",
      "GAIN: 2.9 [e^- /count]\n",
      "Exposure time: 20 [s] \n",
      "Detecting/removing cosmic ray sources\n"
     ]
    },
    {
     "name": "stdout",
     "output_type": "stream",
     "text": [
      "Starting Astroscrappy ... "
     ]
    },
    {
     "name": "stderr",
     "output_type": "stream",
     "text": [
      "Contaminated pixels with Cosmic rays removed: 28528\n",
      "Cosmic rays removed - image updated\n",
      "WARNING: FITSFixedWarning: RADECSYS= 'FK5 ' / mean place new (after the 1976 IAU) system \n",
      "the RADECSYS keyword is deprecated, use RADESYSa. [astropy.wcs.wcs]\n",
      "FITSFixedWarning: RADECSYS= 'FK5 ' / mean place new (after the 1976 IAU) system \n",
      "the RADECSYS keyword is deprecated, use RADESYSa.\n",
      "WARNING: FITSFixedWarning: PROJP1 = 1.00000000 / Projection coefficient for primary WCS \n",
      "the PROJPn keyword is deprecated, use PVi_ma. [astropy.wcs.wcs]\n",
      "FITSFixedWarning: PROJP1 = 1.00000000 / Projection coefficient for primary WCS \n",
      "the PROJPn keyword is deprecated, use PVi_ma.\n",
      "WARNING: FITSFixedWarning: PROJP3 = 0.00000000 / Projection coefficient for primary WCS \n",
      "the PROJPn keyword is deprecated, use PVi_ma. [astropy.wcs.wcs]\n",
      "FITSFixedWarning: PROJP3 = 0.00000000 / Projection coefficient for primary WCS \n",
      "the PROJPn keyword is deprecated, use PVi_ma.\n",
      "WARNING: FITSFixedWarning: 'datfix' made the change 'Invalid parameter values: MJD-OBS and DATE-OBS are inconsistent.\n",
      "Changed DATE-OBS from '2022-12-13        ' to '2022-12-13T00:00:00.0''. [astropy.wcs.wcs]\n",
      "FITSFixedWarning: 'datfix' made the change 'Invalid parameter values: MJD-OBS and DATE-OBS are inconsistent.\n",
      "Changed DATE-OBS from '2022-12-13        ' to '2022-12-13T00:00:00.0''.\n",
      "\n",
      "Performing Astrometry.net\n",
      "Removing any pre-existing WCS keys \n",
      "No WCS values found - attempting to solve field\n",
      "ASTROMETRY started...\n",
      "ASTROMETRY finished: 3s\n",
      "Updating WCS keys with new values\n",
      "WCS saved to new file\n",
      "\n",
      "Searching for FWHM\n",
      "Using Gaussian Profile for fitting\n"
     ]
    },
    {
     "name": "stdout",
     "output_type": "stream",
     "text": [
      "\n",
      "+-------------------------------+\n",
      "|Finding Full Width Half Maximum|\n",
      "+-------------------------------+\n",
      "\n"
     ]
    },
    {
     "name": "stderr",
     "output_type": "stream",
     "text": [
      "\n",
      "Number of sources before cleaning [ 25.0 sigma ]: 25 \n",
      "Updating search FWHM value\n"
     ]
    },
    {
     "name": "stdout",
     "output_type": "stream",
     "text": [
      "Updated guess for FWHM: 4.8 pixels \n"
     ]
    },
    {
     "name": "stderr",
     "output_type": "stream",
     "text": [
      "\n",
      "Number of sources before cleaning [ 25.0 sigma ]: 77 \n",
      "Removed 2 sources near boundary\n",
      "Removed 4 crowded sources\n"
     ]
    },
    {
     "name": "stdout",
     "output_type": "stream",
     "text": [
      "Fitting source for FWHM: 71/71 "
     ]
    },
    {
     "name": "stderr",
     "output_type": "stream",
     "text": [
      "Removed 3 saturated sources\n",
      "WARNING: Input data contains invalid values (NaNs or infs), which were automatically clipped. [astropy.stats.sigma_clipping]\n",
      "Input data contains invalid values (NaNs or infs), which were automatically clipped.\n",
      "Removed 5 FWHM outliers\n",
      "WARNING: Input data contains invalid values (NaNs or infs), which were automatically clipped. [astropy.stats.sigma_clipping]\n",
      "Input data contains invalid values (NaNs or infs), which were automatically clipped.\n",
      "Removed 12 median outliers\n",
      "Useable sources found [ 25 sigma ]: 71\n",
      "Removes 0 sources within minimum seperation [ 23 pixel ]\n",
      "\n",
      "FWHM: 4.640 +/- 0.133 [ pixels ]\n",
      "\n",
      "Seeing: 1.539 [ arcsec ]\n",
      "Aperture size: 7.9 pixels\n",
      "Aperture correction: -0.052 +/- 0.015 [ mag ]\n",
      "WARNING: FITSFixedWarning: 'datfix' made the change 'Invalid parameter values: MJD-OBS and DATE-OBS are inconsistent.\n",
      "Changed DATE-OBS from '2022-12-13        ' to '2022-12-13T00:00:00.0''. [astropy.wcs.wcs]\n",
      "FITSFixedWarning: 'datfix' made the change 'Invalid parameter values: MJD-OBS and DATE-OBS are inconsistent.\n",
      "Changed DATE-OBS from '2022-12-13        ' to '2022-12-13T00:00:00.0''.\n",
      "Searching for new catalog [pan_starrs] for target_ra_32_dec_12 \n",
      "Downloading sequence stars from pan_starrs\n"
     ]
    },
    {
     "name": "stdout",
     "output_type": "stream",
     "text": [
      "\n",
      "+---------------------------------------------+\n",
      "|Searching for catalog for target_ra_32_dec_12|\n",
      "+---------------------------------------------+\n",
      "\n"
     ]
    },
    {
     "name": "stderr",
     "output_type": "stream",
     "text": [
      "Catalog length: 9924\n",
      "Removed 7369 sources fainter than cutoff [20 mag]\n",
      "Using Gaussian Profile for fitting\n",
      "Catalog Length: 296\n"
     ]
    },
    {
     "name": "stdout",
     "output_type": "stream",
     "text": [
      "\n",
      "+---------------------------------+\n",
      "|Matching catalog sources to image|\n",
      "+---------------------------------+\n",
      "\n",
      "Removed 2 sources too close to target\n",
      "Removed 506 sources too close to boundary or off image\n",
      "Matching catalog to image: 273 / 296 :: Useful sources 171 / 296 "
     ]
    },
    {
     "name": "stderr",
     "output_type": "stream",
     "text": [
      "\n",
      "Median offset: 2.7 [ pixels ] / 0.9 [ arcsec ]\n",
      "Residual table updated: 1 / 10 \n",
      "\tSNR: 748 :: FWHM fitted 4.656\n"
     ]
    },
    {
     "name": "stdout",
     "output_type": "stream",
     "text": [
      "\r",
      "Matching catalog to image: 274 / 296 :: Useful sources 172 / 296 \r",
      "Matching catalog to image: 275 / 296 :: Useful sources 172 / 296 \r",
      "Matching catalog to image: 276 / 296 :: Useful sources 173 / 296 \r",
      "Matching catalog to image: 277 / 296 :: Useful sources 173 / 296 \r",
      "Matching catalog to image: 278 / 296 :: Useful sources 174 / 296 \r",
      "Matching catalog to image: 279 / 296 :: Useful sources 174 / 296 \r",
      "Matching catalog to image: 280 / 296 :: Useful sources 174 / 296 \r",
      "Matching catalog to image: 281 / 296 :: Useful sources 174 / 296 \r",
      "Matching catalog to image: 282 / 296 :: Useful sources 174 / 296 \r",
      "Matching catalog to image: 283 / 296 :: Useful sources 174 / 296 \r",
      "Matching catalog to image: 284 / 296 :: Useful sources 174 / 296 \r",
      "Matching catalog to image: 285 / 296 :: Useful sources 174 / 296 \r",
      "Matching catalog to image: 286 / 296 :: Useful sources 174 / 296 \r",
      "Matching catalog to image: 287 / 296 :: Useful sources 175 / 296 \r",
      "Matching catalog to image: 288 / 296 :: Useful sources 175 / 296 \r",
      "Matching catalog to image: 289 / 296 :: Useful sources 176 / 296 \r",
      "Matching catalog to image: 290 / 296 :: Useful sources 176 / 296 \r",
      "Matching catalog to image: 291 / 296 :: Useful sources 176 / 296 \r",
      "Matching catalog to image: 292 / 296 :: Useful sources 176 / 296 \r",
      "Matching catalog to image: 293 / 296 :: Useful sources 176 / 296 \r",
      "Matching catalog to image: 294 / 296 :: Useful sources 176 / 296 \r",
      "Matching catalog to image: 295 / 296 :: Useful sources 176 / 296 \r",
      "Matching catalog to image: 296 / 296 :: Useful sources 176 / 296   .. done\n",
      "\n",
      "Broken cutouts: 0\n",
      "Not in correct location: 0\n",
      "Not detected: 106\n",
      "Saturated: 15\n",
      "Error: 0\n",
      "\n",
      "\n",
      "+-------------------------------------------+\n",
      "|Building PSF model using stars in the field|\n",
      "+-------------------------------------------+\n",
      "\n"
     ]
    },
    {
     "name": "stderr",
     "output_type": "stream",
     "text": [
      "Residual table updated: 2 / 10 \n",
      "\tSNR: 739 :: FWHM fitted 4.630\n",
      "Residual table updated: 3 / 10 \n",
      "\tSNR: 596 :: FWHM fitted 4.613\n",
      "Residual table updated: 4 / 10 \n",
      "\tSNR: 572 :: FWHM fitted 4.798\n",
      "Residual table updated: 5 / 10 \n",
      "\tSNR: 567 :: FWHM fitted 4.704\n",
      "Residual table updated: 6 / 10 \n",
      "\tSNR: 540 :: FWHM fitted 4.730\n",
      "Residual table updated: 7 / 10 \n",
      "\tSNR: 505 :: FWHM fitted 4.633\n",
      "Residual table updated: 8 / 10 \n",
      "\tSNR: 472 :: FWHM fitted 4.557\n",
      "Residual table updated: 9 / 10 \n",
      "\tSNR: 470 :: FWHM fitted 4.607\n",
      "Residual table updated: 10 / 10 \n",
      "\tSNR: 426 :: FWHM fitted 4.623\n",
      "\n",
      "PSF built using 10 sources\n",
      "\n",
      "Unity PSF: 27.1 [counts] \n",
      "Unity Residual table: 2.8 [counts] \n",
      "Using Aperture Photometry on sequence Stars \n",
      "No PSF sources fitted\n",
      "WARNING: Input data contains invalid values (NaNs or infs), which were automatically clipped. [astropy.stats.sigma_clipping]\n",
      "Input data contains invalid values (NaNs or infs), which were automatically clipped.\n",
      "\n",
      "Mean i-band zeropoint: 25.672 +/- 0.054 \n",
      "\n"
     ]
    },
    {
     "name": "stdout",
     "output_type": "stream",
     "text": [
      "PSF model saved as: /Users/terwelj/Documents/VirtualMachine/Observing_ING/autophot/newtest/at2022acsu_REDUCED/r1645975redCCD4/PSF_model_r1645975redCCD4_APT.fits\n",
      "\n",
      "+-------------------+\n",
      "|Measuring PSF model|\n",
      "+-------------------+\n",
      "\n",
      "\n",
      "+-----------------------+\n",
      "|Finding Zeropoint value|\n",
      "+-----------------------+\n",
      "\n",
      "Checking for suitable catalog sources\n",
      "Removed 148 sources lower than SNR of 25.0\n"
     ]
    },
    {
     "name": "stderr",
     "output_type": "stream",
     "text": [
      "/opt/anaconda3/envs/autophot/lib/python3.7/site-packages/matplotlib/backends/backend_pdf.py:1649: DeprecationWarning: NONE is deprecated and will be removed in Pillow 10 (2023-07-01). Use Resampling.NEAREST or Dither.NONE instead.\n",
      "  img = img.convert(mode='P', dither=Image.NONE,\n",
      "/opt/anaconda3/envs/autophot/lib/python3.7/site-packages/matplotlib/backends/backend_pdf.py:1650: DeprecationWarning: ADAPTIVE is deprecated and will be removed in Pillow 10 (2023-07-01). Use Palette.ADAPTIVE instead.\n",
      "  palette=Image.ADAPTIVE, colors=num_colors)\n",
      "Approx. catalog limiting magnitude: 19.279 [ mag ]\n",
      "Target photometry on original image\n"
     ]
    },
    {
     "name": "stdout",
     "output_type": "stream",
     "text": [
      "\n",
      "+-----------------------------------+\n",
      "|Doing Aperture Photometry on Target|\n",
      "+-----------------------------------+\n",
      "\n"
     ]
    },
    {
     "name": "stderr",
     "output_type": "stream",
     "text": [
      "/opt/anaconda3/envs/autophot/lib/python3.7/site-packages/matplotlib/backends/backend_pdf.py:1649: DeprecationWarning: NONE is deprecated and will be removed in Pillow 10 (2023-07-01). Use Resampling.NEAREST or Dither.NONE instead.\n",
      "  img = img.convert(mode='P', dither=Image.NONE,\n",
      "/opt/anaconda3/envs/autophot/lib/python3.7/site-packages/matplotlib/backends/backend_pdf.py:1650: DeprecationWarning: ADAPTIVE is deprecated and will be removed in Pillow 10 (2023-07-01). Use Palette.ADAPTIVE instead.\n",
      "  palette=Image.ADAPTIVE, colors=num_colors)\n",
      "Approximate Target SNR: 21.4\n",
      "SNR = 21 - skipping limiting magnitude\n",
      "Pixel Offset: 0.000\n",
      "Limiting Magnitude: skipped\n",
      "Target Detection probability: 99 %\n",
      "Target flux: 384.288 +/- 0.000 [counts/s]\n",
      "Noise: 346.612 [counts/s]\n",
      "Target SNR: 21.412 +/- 0.050\n",
      "Instrumental Magnitude: -6.462 +/- 0.000\n",
      "Zeropoint: 25.672 +/- 0.054\n",
      "Target Magnitude: 19.158 +/- 0.074 \n",
      "\n",
      "*** Transient well detected ***\n",
      "\n",
      "Time Taken [ 8408 ]: 55s\n",
      "Sucess: r1645975redCCD4_APT.fits :: PID 8408 \n",
      "\n",
      "File: r1645976redCCD4_APT.fits - PID: 8408\n",
      "Start Time: 2023-01-03 14:51:16.187193\n",
      "Filter keyoward used: WFFBAND\n",
      "Telescope: INT\n",
      "Filter: r\n",
      "MJD: 59926.976\n",
      "Date of Observation : 2022-12-13\n",
      "Read Noise: 5.8 [e^- /pixel]\n",
      "GAIN: 2.9 [e^- /count]\n",
      "Exposure time: 20 [s] \n",
      "Detecting/removing cosmic ray sources\n"
     ]
    },
    {
     "name": "stdout",
     "output_type": "stream",
     "text": [
      "\n",
      "+-----------+\n",
      "|File: 2 / 3|\n",
      "+-----------+\n",
      "\n",
      "Starting Astroscrappy ... "
     ]
    },
    {
     "name": "stderr",
     "output_type": "stream",
     "text": [
      "Contaminated pixels with Cosmic rays removed: 28186\n",
      "Cosmic rays removed - image updated\n",
      "WARNING: FITSFixedWarning: RADECSYS= 'FK5 ' / mean place new (after the 1976 IAU) system \n",
      "the RADECSYS keyword is deprecated, use RADESYSa. [astropy.wcs.wcs]\n",
      "FITSFixedWarning: RADECSYS= 'FK5 ' / mean place new (after the 1976 IAU) system \n",
      "the RADECSYS keyword is deprecated, use RADESYSa.\n",
      "WARNING: FITSFixedWarning: PROJP1 = 1.00000000 / Projection coefficient for primary WCS \n",
      "the PROJPn keyword is deprecated, use PVi_ma. [astropy.wcs.wcs]\n",
      "FITSFixedWarning: PROJP1 = 1.00000000 / Projection coefficient for primary WCS \n",
      "the PROJPn keyword is deprecated, use PVi_ma.\n",
      "WARNING: FITSFixedWarning: PROJP3 = 0.00000000 / Projection coefficient for primary WCS \n",
      "the PROJPn keyword is deprecated, use PVi_ma. [astropy.wcs.wcs]\n",
      "FITSFixedWarning: PROJP3 = 0.00000000 / Projection coefficient for primary WCS \n",
      "the PROJPn keyword is deprecated, use PVi_ma.\n",
      "WARNING: FITSFixedWarning: 'datfix' made the change 'Invalid parameter values: MJD-OBS and DATE-OBS are inconsistent.\n",
      "Changed DATE-OBS from '2022-12-13        ' to '2022-12-13T00:00:00.0''. [astropy.wcs.wcs]\n",
      "FITSFixedWarning: 'datfix' made the change 'Invalid parameter values: MJD-OBS and DATE-OBS are inconsistent.\n",
      "Changed DATE-OBS from '2022-12-13        ' to '2022-12-13T00:00:00.0''.\n",
      "\n",
      "Performing Astrometry.net\n",
      "Removing any pre-existing WCS keys \n",
      "No WCS values found - attempting to solve field\n",
      "ASTROMETRY started...\n",
      "ASTROMETRY finished: 3s\n",
      "Updating WCS keys with new values\n",
      "WCS saved to new file\n",
      "\n",
      "Searching for FWHM\n",
      "Using Gaussian Profile for fitting\n"
     ]
    },
    {
     "name": "stdout",
     "output_type": "stream",
     "text": [
      "\n",
      "+-------------------------------+\n",
      "|Finding Full Width Half Maximum|\n",
      "+-------------------------------+\n",
      "\n"
     ]
    },
    {
     "name": "stderr",
     "output_type": "stream",
     "text": [
      "\n",
      "Number of sources before cleaning [ 25.0 sigma ]: 25 \n",
      "Updating search FWHM value\n"
     ]
    },
    {
     "name": "stdout",
     "output_type": "stream",
     "text": [
      "Updated guess for FWHM: 4.6 pixels \n"
     ]
    },
    {
     "name": "stderr",
     "output_type": "stream",
     "text": [
      "\n",
      "Number of sources before cleaning [ 25.0 sigma ]: 305 \n",
      "Too many sources - increasing threshold\n",
      "\n",
      "Number of sources before cleaning [ 50.0 sigma ]: 288 \n",
      "Removed 225 sources near boundary\n",
      "Removed 6 crowded sources\n"
     ]
    },
    {
     "name": "stdout",
     "output_type": "stream",
     "text": [
      "Fitting source for FWHM: 57/57      "
     ]
    },
    {
     "name": "stderr",
     "output_type": "stream",
     "text": [
      "Removed 4 saturated sources\n",
      "WARNING: Input data contains invalid values (NaNs or infs), which were automatically clipped. [astropy.stats.sigma_clipping]\n",
      "Input data contains invalid values (NaNs or infs), which were automatically clipped.\n",
      "Removed 6 FWHM outliers\n",
      "WARNING: Input data contains invalid values (NaNs or infs), which were automatically clipped. [astropy.stats.sigma_clipping]\n",
      "Input data contains invalid values (NaNs or infs), which were automatically clipped.\n",
      "Removed 19 median outliers\n",
      "Useable sources found [ 50 sigma ]: 57\n",
      "Removes 0 sources within minimum seperation [ 21 pixel ]\n",
      "\n",
      "FWHM: 4.361 +/- 0.142 [ pixels ]\n",
      "\n",
      "Seeing: 1.446 [ arcsec ]\n",
      "Aperture size: 7.4 pixels\n",
      "Aperture correction: -0.046 +/- 0.008 [ mag ]\n",
      "WARNING: FITSFixedWarning: 'datfix' made the change 'Invalid parameter values: MJD-OBS and DATE-OBS are inconsistent.\n",
      "Changed DATE-OBS from '2022-12-13        ' to '2022-12-13T00:00:00.0''. [astropy.wcs.wcs]\n",
      "FITSFixedWarning: 'datfix' made the change 'Invalid parameter values: MJD-OBS and DATE-OBS are inconsistent.\n",
      "Changed DATE-OBS from '2022-12-13        ' to '2022-12-13T00:00:00.0''.\n",
      "Catalog found for target_ra_32_dec_12\n",
      "Catalog: PAN_STARRS \n",
      "File: target_ra_32_dec_12_r_0.25\n",
      "Catalog length: 9924\n",
      "Removed 2110 sources fainter than cutoff [20 mag]\n",
      "Using Gaussian Profile for fitting\n",
      "Catalog Length: 202\n"
     ]
    },
    {
     "name": "stdout",
     "output_type": "stream",
     "text": [
      "\n",
      "+---------------------------------------------+\n",
      "|Searching for catalog for target_ra_32_dec_12|\n",
      "+---------------------------------------------+\n",
      "\n",
      "\n",
      "+---------------------------------+\n",
      "|Matching catalog sources to image|\n",
      "+---------------------------------+\n",
      "\n",
      "Removed 2 sources too close to target\n",
      "Removed 316 sources too close to boundary or off image\n",
      "Matching catalog to image: 192 / 202 :: Useful sources 129 / 202 "
     ]
    },
    {
     "name": "stderr",
     "output_type": "stream",
     "text": [
      "\n",
      "Median offset: 2.7 [ pixels ] / 0.9 [ arcsec ]\n",
      "Residual table updated: 1 / 10 \n",
      "\tSNR: 517 :: FWHM fitted 4.413\n",
      "Residual table updated: 2 / 10 \n",
      "\tSNR: 484 :: FWHM fitted 4.306\n"
     ]
    },
    {
     "name": "stdout",
     "output_type": "stream",
     "text": [
      "\r",
      "Matching catalog to image: 193 / 202 :: Useful sources 130 / 202 \r",
      "Matching catalog to image: 194 / 202 :: Useful sources 131 / 202 \r",
      "Matching catalog to image: 195 / 202 :: Useful sources 131 / 202 \r",
      "Matching catalog to image: 196 / 202 :: Useful sources 131 / 202 \r",
      "Matching catalog to image: 197 / 202 :: Useful sources 131 / 202 \r",
      "Matching catalog to image: 198 / 202 :: Useful sources 131 / 202 \r",
      "Matching catalog to image: 199 / 202 :: Useful sources 131 / 202 \r",
      "Matching catalog to image: 200 / 202 :: Useful sources 131 / 202 \r",
      "Matching catalog to image: 201 / 202 :: Useful sources 131 / 202 \r",
      "Matching catalog to image: 202 / 202 :: Useful sources 131 / 202   .. done\n",
      "\n",
      "Broken cutouts: 0\n",
      "Not in correct location: 0\n",
      "Not detected: 59\n",
      "Saturated: 13\n",
      "Error: 0\n",
      "\n",
      "\n",
      "+-------------------------------------------+\n",
      "|Building PSF model using stars in the field|\n",
      "+-------------------------------------------+\n",
      "\n"
     ]
    },
    {
     "name": "stderr",
     "output_type": "stream",
     "text": [
      "Residual table updated: 3 / 10 \n",
      "\tSNR: 448 :: FWHM fitted 4.422\n",
      "Residual table updated: 4 / 10 \n",
      "\tSNR: 442 :: FWHM fitted 4.341\n",
      "Residual table updated: 5 / 10 \n",
      "\tSNR: 428 :: FWHM fitted 4.248\n",
      "Residual table updated: 6 / 10 \n",
      "\tSNR: 367 :: FWHM fitted 4.340\n",
      "Residual table updated: 7 / 10 \n",
      "\tSNR: 320 :: FWHM fitted 4.432\n",
      "Residual table updated: 8 / 10 \n",
      "\tSNR: 285 :: FWHM fitted 4.240\n",
      "Residual table updated: 9 / 10 \n",
      "\tSNR: 272 :: FWHM fitted 4.489\n",
      "Residual table updated: 10 / 10 \n",
      "\tSNR: 243 :: FWHM fitted 4.315\n",
      "\n",
      "PSF built using 10 sources\n",
      "\n",
      "Unity PSF: 23.5 [counts] \n",
      "Unity Residual table: 1.9 [counts] \n",
      "Using Aperture Photometry on sequence Stars \n",
      "No PSF sources fitted\n",
      "WARNING: Input data contains invalid values (NaNs or infs), which were automatically clipped. [astropy.stats.sigma_clipping]\n",
      "Input data contains invalid values (NaNs or infs), which were automatically clipped.\n",
      "\n",
      "Mean r-band zeropoint: 26.009 +/- 0.037 \n",
      "\n"
     ]
    },
    {
     "name": "stdout",
     "output_type": "stream",
     "text": [
      "PSF model saved as: /Users/terwelj/Documents/VirtualMachine/Observing_ING/autophot/newtest/at2022acsu_REDUCED/r1645976redCCD4/PSF_model_r1645976redCCD4_APT.fits\n",
      "\n",
      "+-------------------+\n",
      "|Measuring PSF model|\n",
      "+-------------------+\n",
      "\n",
      "\n",
      "+-----------------------+\n",
      "|Finding Zeropoint value|\n",
      "+-----------------------+\n",
      "\n",
      "Checking for suitable catalog sources\n",
      "Removed 108 sources lower than SNR of 25.0\n"
     ]
    },
    {
     "name": "stderr",
     "output_type": "stream",
     "text": [
      "/opt/anaconda3/envs/autophot/lib/python3.7/site-packages/matplotlib/backends/backend_pdf.py:1649: DeprecationWarning: NONE is deprecated and will be removed in Pillow 10 (2023-07-01). Use Resampling.NEAREST or Dither.NONE instead.\n",
      "  img = img.convert(mode='P', dither=Image.NONE,\n",
      "/opt/anaconda3/envs/autophot/lib/python3.7/site-packages/matplotlib/backends/backend_pdf.py:1650: DeprecationWarning: ADAPTIVE is deprecated and will be removed in Pillow 10 (2023-07-01). Use Palette.ADAPTIVE instead.\n",
      "  palette=Image.ADAPTIVE, colors=num_colors)\n",
      "Approx. catalog limiting magnitude: 19.522 [ mag ]\n",
      "Target photometry on original image\n"
     ]
    },
    {
     "name": "stdout",
     "output_type": "stream",
     "text": [
      "\n",
      "+-----------------------------------+\n",
      "|Doing Aperture Photometry on Target|\n",
      "+-----------------------------------+\n",
      "\n"
     ]
    },
    {
     "name": "stderr",
     "output_type": "stream",
     "text": [
      "/opt/anaconda3/envs/autophot/lib/python3.7/site-packages/matplotlib/backends/backend_pdf.py:1649: DeprecationWarning: NONE is deprecated and will be removed in Pillow 10 (2023-07-01). Use Resampling.NEAREST or Dither.NONE instead.\n",
      "  img = img.convert(mode='P', dither=Image.NONE,\n",
      "/opt/anaconda3/envs/autophot/lib/python3.7/site-packages/matplotlib/backends/backend_pdf.py:1650: DeprecationWarning: ADAPTIVE is deprecated and will be removed in Pillow 10 (2023-07-01). Use Palette.ADAPTIVE instead.\n",
      "  palette=Image.ADAPTIVE, colors=num_colors)\n",
      "Approximate Target SNR: 24.7\n",
      "SNR = 25 - skipping limiting magnitude\n",
      "Pixel Offset: 0.000\n",
      "Limiting Magnitude: skipped\n",
      "Target Detection probability: 100 %\n",
      "Target flux: 402.527 +/- 0.000 [counts/s]\n",
      "Noise: 290.491 [counts/s]\n",
      "Target SNR: 24.660 +/- 0.043\n",
      "Instrumental Magnitude: -6.512 +/- 0.000\n",
      "Zeropoint: 26.009 +/- 0.037\n",
      "Target Magnitude: 19.451 +/- 0.057 \n",
      "\n",
      "*** Transient well detected ***\n",
      "\n",
      "Time Taken [ 8408 ]: 26s\n",
      "Sucess: r1645976redCCD4_APT.fits :: PID 8408 \n",
      "\n",
      "File: r1645977redCCD4_APT.fits - PID: 8408\n",
      "Start Time: 2023-01-03 14:51:42.737335\n",
      "Filter keyoward used: WFFBAND\n",
      "Telescope: INT\n",
      "Filter: g\n",
      "MJD: 59926.977\n",
      "Date of Observation : 2022-12-13\n",
      "Read Noise: 5.8 [e^- /pixel]\n",
      "GAIN: 2.9 [e^- /count]\n",
      "Exposure time: 20 [s] \n",
      "Detecting/removing cosmic ray sources\n"
     ]
    },
    {
     "name": "stdout",
     "output_type": "stream",
     "text": [
      "\n",
      "+-----------+\n",
      "|File: 3 / 3|\n",
      "+-----------+\n",
      "\n",
      "Starting Astroscrappy ... "
     ]
    },
    {
     "name": "stderr",
     "output_type": "stream",
     "text": [
      "Contaminated pixels with Cosmic rays removed: 28898\n",
      "Cosmic rays removed - image updated\n",
      "WARNING: FITSFixedWarning: RADECSYS= 'FK5 ' / mean place new (after the 1976 IAU) system \n",
      "the RADECSYS keyword is deprecated, use RADESYSa. [astropy.wcs.wcs]\n",
      "FITSFixedWarning: RADECSYS= 'FK5 ' / mean place new (after the 1976 IAU) system \n",
      "the RADECSYS keyword is deprecated, use RADESYSa.\n",
      "WARNING: FITSFixedWarning: PROJP1 = 1.00000000 / Projection coefficient for primary WCS \n",
      "the PROJPn keyword is deprecated, use PVi_ma. [astropy.wcs.wcs]\n",
      "FITSFixedWarning: PROJP1 = 1.00000000 / Projection coefficient for primary WCS \n",
      "the PROJPn keyword is deprecated, use PVi_ma.\n",
      "WARNING: FITSFixedWarning: PROJP3 = 0.00000000 / Projection coefficient for primary WCS \n",
      "the PROJPn keyword is deprecated, use PVi_ma. [astropy.wcs.wcs]\n",
      "FITSFixedWarning: PROJP3 = 0.00000000 / Projection coefficient for primary WCS \n",
      "the PROJPn keyword is deprecated, use PVi_ma.\n",
      "WARNING: FITSFixedWarning: 'datfix' made the change 'Invalid parameter values: MJD-OBS and DATE-OBS are inconsistent.\n",
      "Changed DATE-OBS from '2022-12-13        ' to '2022-12-13T00:00:00.0''. [astropy.wcs.wcs]\n",
      "FITSFixedWarning: 'datfix' made the change 'Invalid parameter values: MJD-OBS and DATE-OBS are inconsistent.\n",
      "Changed DATE-OBS from '2022-12-13        ' to '2022-12-13T00:00:00.0''.\n",
      "\n",
      "Performing Astrometry.net\n",
      "Removing any pre-existing WCS keys \n",
      "No WCS values found - attempting to solve field\n",
      "ASTROMETRY started...\n",
      "ASTROMETRY finished: 3s\n",
      "Updating WCS keys with new values\n",
      "WCS saved to new file\n",
      "\n",
      "Searching for FWHM\n",
      "Using Gaussian Profile for fitting\n"
     ]
    },
    {
     "name": "stdout",
     "output_type": "stream",
     "text": [
      "\n",
      "+-------------------------------+\n",
      "|Finding Full Width Half Maximum|\n",
      "+-------------------------------+\n",
      "\n"
     ]
    },
    {
     "name": "stderr",
     "output_type": "stream",
     "text": [
      "\n",
      "Number of sources before cleaning [ 25.0 sigma ]: 25 \n",
      "Updating search FWHM value\n"
     ]
    },
    {
     "name": "stdout",
     "output_type": "stream",
     "text": [
      "Updated guess for FWHM: 4.7 pixels \n"
     ]
    },
    {
     "name": "stderr",
     "output_type": "stream",
     "text": [
      "\n",
      "Number of sources before cleaning [ 25.0 sigma ]: 62 \n",
      "Removed 2 sources near boundary\n",
      "Removed 2 crowded sources\n"
     ]
    },
    {
     "name": "stdout",
     "output_type": "stream",
     "text": [
      "Fitting source for FWHM: 58/58      "
     ]
    },
    {
     "name": "stderr",
     "output_type": "stream",
     "text": [
      "Removed 3 saturated sources\n",
      "WARNING: Input data contains invalid values (NaNs or infs), which were automatically clipped. [astropy.stats.sigma_clipping]\n",
      "Input data contains invalid values (NaNs or infs), which were automatically clipped.\n",
      "Removed 5 FWHM outliers\n",
      "WARNING: Input data contains invalid values (NaNs or infs), which were automatically clipped. [astropy.stats.sigma_clipping]\n",
      "Input data contains invalid values (NaNs or infs), which were automatically clipped.\n",
      "Removed 17 median outliers\n",
      "Useable sources found [ 25 sigma ]: 58\n",
      "Removes 0 sources within minimum seperation [ 23 pixel ]\n",
      "\n",
      "FWHM: 4.634 +/- 0.181 [ pixels ]\n",
      "\n",
      "Seeing: 1.536 [ arcsec ]\n",
      "Aperture size: 7.9 pixels\n",
      "Aperture correction: -0.033 +/- 0.012 [ mag ]\n"
     ]
    },
    {
     "name": "stdout",
     "output_type": "stream",
     "text": [
      "\n",
      "+---------------------------------------------+\n",
      "|Searching for catalog for target_ra_32_dec_12|\n",
      "+---------------------------------------------+\n",
      "\n"
     ]
    },
    {
     "name": "stderr",
     "output_type": "stream",
     "text": [
      "WARNING: FITSFixedWarning: 'datfix' made the change 'Invalid parameter values: MJD-OBS and DATE-OBS are inconsistent.\n",
      "Changed DATE-OBS from '2022-12-13        ' to '2022-12-13T00:00:00.0''. [astropy.wcs.wcs]\n",
      "FITSFixedWarning: 'datfix' made the change 'Invalid parameter values: MJD-OBS and DATE-OBS are inconsistent.\n",
      "Changed DATE-OBS from '2022-12-13        ' to '2022-12-13T00:00:00.0''.\n",
      "Catalog found for target_ra_32_dec_12\n",
      "Catalog: PAN_STARRS \n",
      "File: target_ra_32_dec_12_r_0.25\n",
      "Catalog length: 9924\n",
      "Removed 1804 sources fainter than cutoff [20 mag]\n",
      "Using Gaussian Profile for fitting\n",
      "Catalog Length: 144\n"
     ]
    },
    {
     "name": "stdout",
     "output_type": "stream",
     "text": [
      "\n",
      "+---------------------------------+\n",
      "|Matching catalog sources to image|\n",
      "+---------------------------------+\n",
      "\n",
      "Removed 2 sources too close to target\n",
      "Removed 303 sources too close to boundary or off image\n",
      "Matching catalog to image: 144 / 144 :: Useful sources 87 / 144   .. done\n",
      "\n",
      "Broken cutouts: 0\n",
      "Not in correct location: 0\n",
      "Not detected: 47\n",
      "Saturated: 10\n",
      "Error: 0\n",
      "\n"
     ]
    },
    {
     "name": "stderr",
     "output_type": "stream",
     "text": [
      "\n",
      "Median offset: 3.4 [ pixels ] / 1.1 [ arcsec ]\n",
      "Residual table updated: 1 / 10 \n",
      "\tSNR: 531 :: FWHM fitted 4.742\n"
     ]
    },
    {
     "name": "stdout",
     "output_type": "stream",
     "text": [
      "\n",
      "+-------------------------------------------+\n",
      "|Building PSF model using stars in the field|\n",
      "+-------------------------------------------+\n",
      "\n"
     ]
    },
    {
     "name": "stderr",
     "output_type": "stream",
     "text": [
      "Residual table updated: 2 / 10 \n",
      "\tSNR: 445 :: FWHM fitted 4.694\n",
      "Residual table updated: 3 / 10 \n",
      "\tSNR: 381 :: FWHM fitted 4.573\n",
      "Residual table updated: 4 / 10 \n",
      "\tSNR: 363 :: FWHM fitted 4.733\n",
      "Residual table updated: 5 / 10 \n",
      "\tSNR: 352 :: FWHM fitted 4.713\n",
      "Residual table updated: 6 / 10 \n",
      "\tSNR: 341 :: FWHM fitted 4.576\n",
      "Residual table updated: 7 / 10 \n",
      "\tSNR: 324 :: FWHM fitted 4.686\n",
      "Residual table updated: 8 / 10 \n",
      "\tSNR: 309 :: FWHM fitted 4.658\n",
      "Residual table updated: 9 / 10 \n",
      "\tSNR: 286 :: FWHM fitted 4.738\n",
      "Residual table updated: 10 / 10 \n",
      "\tSNR: 281 :: FWHM fitted 4.543\n",
      "\n",
      "PSF built using 10 sources\n",
      "\n",
      "Unity PSF: 26.1 [counts] \n",
      "Unity Residual table: 1.5 [counts] \n",
      "Using Aperture Photometry on sequence Stars \n",
      "No PSF sources fitted\n",
      "WARNING: Input data contains invalid values (NaNs or infs), which were automatically clipped. [astropy.stats.sigma_clipping]\n",
      "Input data contains invalid values (NaNs or infs), which were automatically clipped.\n",
      "\n",
      "Mean g-band zeropoint: 26.197 +/- 0.037 \n",
      "\n"
     ]
    },
    {
     "name": "stdout",
     "output_type": "stream",
     "text": [
      "PSF model saved as: /Users/terwelj/Documents/VirtualMachine/Observing_ING/autophot/newtest/at2022acsu_REDUCED/r1645977redCCD4/PSF_model_r1645977redCCD4_APT.fits\n",
      "\n",
      "+-------------------+\n",
      "|Measuring PSF model|\n",
      "+-------------------+\n",
      "\n",
      "\n",
      "+-----------------------+\n",
      "|Finding Zeropoint value|\n",
      "+-----------------------+\n",
      "\n",
      "Checking for suitable catalog sources\n",
      "Removed 82 sources lower than SNR of 25.0\n"
     ]
    },
    {
     "name": "stderr",
     "output_type": "stream",
     "text": [
      "/opt/anaconda3/envs/autophot/lib/python3.7/site-packages/matplotlib/backends/backend_pdf.py:1649: DeprecationWarning: NONE is deprecated and will be removed in Pillow 10 (2023-07-01). Use Resampling.NEAREST or Dither.NONE instead.\n",
      "  img = img.convert(mode='P', dither=Image.NONE,\n",
      "/opt/anaconda3/envs/autophot/lib/python3.7/site-packages/matplotlib/backends/backend_pdf.py:1650: DeprecationWarning: ADAPTIVE is deprecated and will be removed in Pillow 10 (2023-07-01). Use Palette.ADAPTIVE instead.\n",
      "  palette=Image.ADAPTIVE, colors=num_colors)\n",
      "Approx. catalog limiting magnitude: 19.748 [ mag ]\n",
      "Target photometry on original image\n"
     ]
    },
    {
     "name": "stdout",
     "output_type": "stream",
     "text": [
      "\n",
      "+-----------------------------------+\n",
      "|Doing Aperture Photometry on Target|\n",
      "+-----------------------------------+\n",
      "\n"
     ]
    },
    {
     "name": "stderr",
     "output_type": "stream",
     "text": [
      "/opt/anaconda3/envs/autophot/lib/python3.7/site-packages/matplotlib/backends/backend_pdf.py:1649: DeprecationWarning: NONE is deprecated and will be removed in Pillow 10 (2023-07-01). Use Resampling.NEAREST or Dither.NONE instead.\n",
      "  img = img.convert(mode='P', dither=Image.NONE,\n",
      "/opt/anaconda3/envs/autophot/lib/python3.7/site-packages/matplotlib/backends/backend_pdf.py:1650: DeprecationWarning: ADAPTIVE is deprecated and will be removed in Pillow 10 (2023-07-01). Use Palette.ADAPTIVE instead.\n",
      "  palette=Image.ADAPTIVE, colors=num_colors)\n",
      "Approximate Target SNR: 33.8\n",
      "SNR = 34 - skipping limiting magnitude\n",
      "Pixel Offset: 0.000\n",
      "Limiting Magnitude: skipped\n",
      "Target Detection probability: 100 %\n",
      "Target flux: 540.059 +/- 0.000 [counts/s]\n",
      "Noise: 319.014 [counts/s]\n",
      "Target SNR: 33.786 +/- 0.032\n",
      "Instrumental Magnitude: -6.831 +/- 0.000\n",
      "Zeropoint: 26.197 +/- 0.037\n",
      "Target Magnitude: 19.334 +/- 0.050 \n",
      "\n",
      "*** Transient well detected ***\n",
      "\n",
      "Time Taken [ 8408 ]: 24s\n",
      "Sucess: r1645977redCCD4_APT.fits :: PID 8408 \n",
      "\n",
      "\n",
      "User instrument database: /Users/terwelj/Documents/VirtualMachine/Observing_ING/autophot/newtest/telescope.yml\n",
      "\n",
      "Number of files: 3\n",
      "\n",
      "1 telescope(s) detected - checking header keywords\n",
      "\n"
     ]
    },
    {
     "name": "stdout",
     "output_type": "stream",
     "text": [
      "\n",
      "---\n",
      "\n",
      "Files that failed : []\n",
      "\n",
      "DONE\n",
      "\n",
      "Done - Time Taken: 106.7\n",
      "Photometry successfully extracted from all images\n",
      "\n",
      "\n",
      "Running AutoPHOT on at2022acpz, ra = 57.69449, dec = -12.11208\n",
      "\n",
      "\n",
      "Default input loaded in from: \n",
      "/opt/anaconda3/envs/autophot/lib/python3.7/site-packages/autophot/databases/default_input.yml\n",
      "\n",
      "        _       _       ___ _  _    _____\n",
      "       /_\\ _  _| |_ ___| _ \\ || |__|_   _|\n",
      "      / _ \\ || |  _/ _ \\  _/ __ / _ \\| |\n",
      "     /_/ \\_\\_,_|\\__\\___/_| |_||_\\___/|_|\n",
      "    \n",
      "     ---------------------------------------\n",
      "        Automated Photometry of Transients\n",
      "        S. J. Brennan et al. 2021 \n",
      "        Please provide feedback/bugs to:\n",
      "        Email: sean.brennan2@ucdconnect.ie\n",
      "    ---------------------------------------\n",
      "Directory of fits file: /Users/terwelj/Documents/VirtualMachine/Observing_ING/autophot/newtest/at2022acpz\n",
      "Found Telescopes:\n",
      "\n",
      " - INT\n",
      "\n",
      "-> Telescope check complete\n",
      "\n",
      "Checking Filter keywords and database\n"
     ]
    },
    {
     "name": "stderr",
     "output_type": "stream",
     "text": [
      "File: r1645973redCCD4_APT.fits - PID: 8408\n",
      "Start Time: 2023-01-03 14:52:07.509996\n",
      "Filter keyoward used: WFFBAND\n",
      "Telescope: INT\n",
      "Filter: g\n",
      "MJD: 59926.971\n",
      "Date of Observation : 2022-12-13\n",
      "Read Noise: 5.8 [e^- /pixel]\n",
      "GAIN: 2.9 [e^- /count]\n",
      "Exposure time: 20 [s] \n"
     ]
    },
    {
     "name": "stdout",
     "output_type": "stream",
     "text": [
      "\n",
      "-> Filter check complete\n",
      "\n",
      "Checking Filter information for each image\n",
      "\n",
      "Files removed - Wrong Image Type: 0\n",
      "\n",
      "Files removed - No/Wrong filter(s): 0\n",
      "Filters not included: []\n",
      "\n",
      "\n",
      "Files removed: 0\n",
      "\n",
      "+-----------+\n",
      "|File: 1 / 3|\n",
      "+-----------+\n",
      "\n"
     ]
    },
    {
     "name": "stderr",
     "output_type": "stream",
     "text": [
      "Detecting/removing cosmic ray sources\n"
     ]
    },
    {
     "name": "stdout",
     "output_type": "stream",
     "text": [
      "Starting Astroscrappy ... "
     ]
    },
    {
     "name": "stderr",
     "output_type": "stream",
     "text": [
      "Contaminated pixels with Cosmic rays removed: 32775\n",
      "Cosmic rays removed - image updated\n",
      "WARNING: FITSFixedWarning: RADECSYS= 'FK5 ' / mean place new (after the 1976 IAU) system \n",
      "the RADECSYS keyword is deprecated, use RADESYSa. [astropy.wcs.wcs]\n",
      "FITSFixedWarning: RADECSYS= 'FK5 ' / mean place new (after the 1976 IAU) system \n",
      "the RADECSYS keyword is deprecated, use RADESYSa.\n",
      "WARNING: FITSFixedWarning: PROJP1 = 1.00000000 / Projection coefficient for primary WCS \n",
      "the PROJPn keyword is deprecated, use PVi_ma. [astropy.wcs.wcs]\n",
      "FITSFixedWarning: PROJP1 = 1.00000000 / Projection coefficient for primary WCS \n",
      "the PROJPn keyword is deprecated, use PVi_ma.\n",
      "WARNING: FITSFixedWarning: PROJP3 = 0.00000000 / Projection coefficient for primary WCS \n",
      "the PROJPn keyword is deprecated, use PVi_ma. [astropy.wcs.wcs]\n",
      "FITSFixedWarning: PROJP3 = 0.00000000 / Projection coefficient for primary WCS \n",
      "the PROJPn keyword is deprecated, use PVi_ma.\n",
      "WARNING: FITSFixedWarning: 'datfix' made the change 'Invalid parameter values: MJD-OBS and DATE-OBS are inconsistent.\n",
      "Changed DATE-OBS from '2022-12-13        ' to '2022-12-13T00:00:00.0''. [astropy.wcs.wcs]\n",
      "FITSFixedWarning: 'datfix' made the change 'Invalid parameter values: MJD-OBS and DATE-OBS are inconsistent.\n",
      "Changed DATE-OBS from '2022-12-13        ' to '2022-12-13T00:00:00.0''.\n",
      "\n",
      "Performing Astrometry.net\n",
      "Removing any pre-existing WCS keys \n",
      "No WCS values found - attempting to solve field\n",
      "ASTROMETRY started...\n",
      "ASTROMETRY finished: 3s\n",
      "Updating WCS keys with new values\n",
      "WCS saved to new file\n",
      "\n",
      "Searching for FWHM\n",
      "Using Gaussian Profile for fitting\n"
     ]
    },
    {
     "name": "stdout",
     "output_type": "stream",
     "text": [
      "\n",
      "+-------------------------------+\n",
      "|Finding Full Width Half Maximum|\n",
      "+-------------------------------+\n",
      "\n"
     ]
    },
    {
     "name": "stderr",
     "output_type": "stream",
     "text": [
      "\n",
      "Number of sources before cleaning [ 25.0 sigma ]: 25 \n",
      "Updating search FWHM value\n"
     ]
    },
    {
     "name": "stdout",
     "output_type": "stream",
     "text": [
      "Updated guess for FWHM: 5.9 pixels \n"
     ]
    },
    {
     "name": "stderr",
     "output_type": "stream",
     "text": [
      "\n",
      "Number of sources before cleaning [ 25.0 sigma ]: 77 \n",
      "Removed 1 sources near boundary\n",
      "Removed 7 crowded sources\n"
     ]
    },
    {
     "name": "stdout",
     "output_type": "stream",
     "text": [
      "Fitting source for FWHM: 69/69    "
     ]
    },
    {
     "name": "stderr",
     "output_type": "stream",
     "text": [
      "Removed 3 saturated sources\n",
      "WARNING: Input data contains invalid values (NaNs or infs), which were automatically clipped. [astropy.stats.sigma_clipping]\n",
      "Input data contains invalid values (NaNs or infs), which were automatically clipped.\n",
      "Removed 7 FWHM outliers\n",
      "WARNING: Input data contains invalid values (NaNs or infs), which were automatically clipped. [astropy.stats.sigma_clipping]\n",
      "Input data contains invalid values (NaNs or infs), which were automatically clipped.\n",
      "Removed 15 median outliers\n",
      "Useable sources found [ 25 sigma ]: 69\n",
      "Removes 2 sources within minimum seperation [ 28 pixel ]\n",
      "\n",
      "FWHM: 5.620 +/- 0.152 [ pixels ]\n",
      "\n",
      "Seeing: 1.866 [ arcsec ]\n",
      "Aperture size: 9.6 pixels\n",
      "Aperture correction: -0.026 +/- 0.012 [ mag ]\n",
      "WARNING: FITSFixedWarning: 'datfix' made the change 'Invalid parameter values: MJD-OBS and DATE-OBS are inconsistent.\n",
      "Changed DATE-OBS from '2022-12-13        ' to '2022-12-13T00:00:00.0''. [astropy.wcs.wcs]\n",
      "FITSFixedWarning: 'datfix' made the change 'Invalid parameter values: MJD-OBS and DATE-OBS are inconsistent.\n",
      "Changed DATE-OBS from '2022-12-13        ' to '2022-12-13T00:00:00.0''.\n",
      "Searching for new catalog [sdss] for target_ra_58_dec_-12 \n"
     ]
    },
    {
     "name": "stdout",
     "output_type": "stream",
     "text": [
      "\n",
      "+----------------------------------------------+\n",
      "|Searching for catalog for target_ra_58_dec_-12|\n",
      "+----------------------------------------------+\n",
      "\n"
     ]
    },
    {
     "name": "stderr",
     "output_type": "stream",
     "text": [
      "Catalog: sdss : does not cover field\n"
     ]
    },
    {
     "ename": "SystemExit",
     "evalue": "",
     "output_type": "error",
     "traceback": [
      "An exception has occurred, use %tb to see the full traceback.\n",
      "\u001b[0;31mSystemExit\u001b[0m\n"
     ]
    },
    {
     "name": "stderr",
     "output_type": "stream",
     "text": [
      "/opt/anaconda3/envs/autophot/lib/python3.7/site-packages/IPython/core/interactiveshell.py:3465: UserWarning: To exit: use 'exit', 'quit', or Ctrl-D.\n",
      "  warn(\"To exit: use 'exit', 'quit', or Ctrl-D.\", stacklevel=1)\n"
     ]
    }
   ],
   "source": [
    "#Get the location from a csv file in the working directory (Has to be made manually)\n",
    "#The image ra & dec cannot be used as they are of the pointing, not the target\n",
    "#(This may be upper/lower case sensitive, if so, fix it)\n",
    "#obj_locs = pd.read_csv(down_dir/'autophot', index_col=0)\n",
    "#for test\n",
    "obj_locs = pd.read_csv(down_dir.parent/'autophot/newtest/locs.csv', index_col=0)\n",
    "#Can't seem to use Path for wdir or fits_dir--> open issue?\n",
    "#couldn't find wcs for some reason? Fix next time, run 1 by 1 together with the old test that did work\n",
    "for obj in dirlist:\n",
    "    ra = obj_locs['ra'][obj.name]\n",
    "    dec = obj_locs['dec'][obj.name]\n",
    "    print(f'\\n\\nRunning AutoPHOT on {obj.name}, ra = {ra}, dec = {dec}\\n\\n')\n",
    "    #run AutoPHOT\n",
    "    get_photom('/Users/terwelj/Documents/VirtualMachine/Observing_ING/autophot/newtest/'+obj.name,\n",
    "               '/Users/terwelj/Documents/VirtualMachine/Observing_ING/autophot/newtest',\n",
    "               ra, dec)"
   ]
  },
  {
   "cell_type": "code",
   "execution_count": 54,
   "metadata": {
    "scrolled": true
   },
   "outputs": [
    {
     "name": "stderr",
     "output_type": "stream",
     "text": [
      "\n",
      "User instrument database: /Users/terwelj/Documents/VirtualMachine/Observing_ING/autophot/newtest/telescope.yml\n",
      "\n",
      "Number of files: 3\n",
      "\n",
      "1 telescope(s) detected - checking header keywords\n",
      "\n"
     ]
    },
    {
     "name": "stdout",
     "output_type": "stream",
     "text": [
      "Default input loaded in from: \n",
      "/opt/anaconda3/envs/autophot/lib/python3.7/site-packages/autophot/databases/default_input.yml\n",
      "\n",
      "        _       _       ___ _  _    _____\n",
      "       /_\\ _  _| |_ ___| _ \\ || |__|_   _|\n",
      "      / _ \\ || |  _/ _ \\  _/ __ / _ \\| |\n",
      "     /_/ \\_\\_,_|\\__\\___/_| |_||_\\___/|_|\n",
      "    \n",
      "     ---------------------------------------\n",
      "        Automated Photometry of Transients\n",
      "        S. J. Brennan et al. 2021 \n",
      "        Please provide feedback/bugs to:\n",
      "        Email: sean.brennan2@ucdconnect.ie\n",
      "    ---------------------------------------\n",
      "Directory of fits file: /Users/terwelj/Documents/VirtualMachine/Observing_ING/autophot/newtest/at2022acpz\n",
      "Found Telescopes:\n",
      "\n",
      " - INT\n",
      "\n",
      "-> Telescope check complete\n",
      "\n",
      "Checking Filter keywords and database\n",
      "\n",
      "-> Filter check complete\n",
      "\n",
      "Checking Filter information for each image\n"
     ]
    },
    {
     "name": "stderr",
     "output_type": "stream",
     "text": [
      "File: r1645973redCCD4_APT.fits - PID: 8408\n",
      "Start Time: 2023-01-03 15:20:55.647701\n",
      "Filter keyoward used: WFFBAND\n",
      "Telescope: INT\n",
      "Filter: g\n",
      "MJD: 59926.971\n",
      "Date of Observation : 2022-12-13\n",
      "Read Noise: 5.8 [e^- /pixel]\n",
      "GAIN: 2.9 [e^- /count]\n",
      "Exposure time: 20 [s] \n",
      "Detecting/removing cosmic ray sources\n"
     ]
    },
    {
     "name": "stdout",
     "output_type": "stream",
     "text": [
      "\n",
      "Files removed - Wrong Image Type: 0\n",
      "\n",
      "Files removed - No/Wrong filter(s): 0\n",
      "Filters not included: []\n",
      "\n",
      "\n",
      "Files removed: 0\n",
      "\n",
      "+-----------+\n",
      "|File: 1 / 3|\n",
      "+-----------+\n",
      "\n",
      "Starting Astroscrappy ... "
     ]
    },
    {
     "name": "stderr",
     "output_type": "stream",
     "text": [
      "Contaminated pixels with Cosmic rays removed: 32775\n",
      "Cosmic rays removed - image updated\n",
      "WARNING: FITSFixedWarning: RADECSYS= 'FK5 ' / mean place new (after the 1976 IAU) system \n",
      "the RADECSYS keyword is deprecated, use RADESYSa. [astropy.wcs.wcs]\n",
      "FITSFixedWarning: RADECSYS= 'FK5 ' / mean place new (after the 1976 IAU) system \n",
      "the RADECSYS keyword is deprecated, use RADESYSa.\n",
      "WARNING: FITSFixedWarning: PROJP1 = 1.00000000 / Projection coefficient for primary WCS \n",
      "the PROJPn keyword is deprecated, use PVi_ma. [astropy.wcs.wcs]\n",
      "FITSFixedWarning: PROJP1 = 1.00000000 / Projection coefficient for primary WCS \n",
      "the PROJPn keyword is deprecated, use PVi_ma.\n",
      "WARNING: FITSFixedWarning: PROJP3 = 0.00000000 / Projection coefficient for primary WCS \n",
      "the PROJPn keyword is deprecated, use PVi_ma. [astropy.wcs.wcs]\n",
      "FITSFixedWarning: PROJP3 = 0.00000000 / Projection coefficient for primary WCS \n",
      "the PROJPn keyword is deprecated, use PVi_ma.\n",
      "WARNING: FITSFixedWarning: 'datfix' made the change 'Invalid parameter values: MJD-OBS and DATE-OBS are inconsistent.\n",
      "Changed DATE-OBS from '2022-12-13        ' to '2022-12-13T00:00:00.0''. [astropy.wcs.wcs]\n",
      "FITSFixedWarning: 'datfix' made the change 'Invalid parameter values: MJD-OBS and DATE-OBS are inconsistent.\n",
      "Changed DATE-OBS from '2022-12-13        ' to '2022-12-13T00:00:00.0''.\n",
      "\n",
      "Performing Astrometry.net\n",
      "Removing any pre-existing WCS keys \n",
      "No WCS values found - attempting to solve field\n",
      "ASTROMETRY started...\n",
      "ASTROMETRY finished: 5s\n",
      "Updating WCS keys with new values\n",
      "WCS saved to new file\n",
      "\n",
      "Searching for FWHM\n",
      "Using Gaussian Profile for fitting\n"
     ]
    },
    {
     "name": "stdout",
     "output_type": "stream",
     "text": [
      "\n",
      "+-------------------------------+\n",
      "|Finding Full Width Half Maximum|\n",
      "+-------------------------------+\n",
      "\n"
     ]
    },
    {
     "name": "stderr",
     "output_type": "stream",
     "text": [
      "\n",
      "Number of sources before cleaning [ 25.0 sigma ]: 25 \n",
      "Updating search FWHM value\n"
     ]
    },
    {
     "name": "stdout",
     "output_type": "stream",
     "text": [
      "Updated guess for FWHM: 5.8 pixels \n"
     ]
    },
    {
     "name": "stderr",
     "output_type": "stream",
     "text": [
      "\n",
      "Number of sources before cleaning [ 25.0 sigma ]: 77 \n",
      "Removed 1 sources near boundary\n",
      "Removed 7 crowded sources\n"
     ]
    },
    {
     "name": "stdout",
     "output_type": "stream",
     "text": [
      "Fitting source for FWHM: 69/69  "
     ]
    },
    {
     "name": "stderr",
     "output_type": "stream",
     "text": [
      "Removed 3 saturated sources\n",
      "WARNING: Input data contains invalid values (NaNs or infs), which were automatically clipped. [astropy.stats.sigma_clipping]\n",
      "Input data contains invalid values (NaNs or infs), which were automatically clipped.\n",
      "Removed 7 FWHM outliers\n",
      "WARNING: Input data contains invalid values (NaNs or infs), which were automatically clipped. [astropy.stats.sigma_clipping]\n",
      "Input data contains invalid values (NaNs or infs), which were automatically clipped.\n",
      "Removed 15 median outliers\n",
      "Useable sources found [ 25 sigma ]: 69\n",
      "Removes 2 sources within minimum seperation [ 28 pixel ]\n",
      "\n",
      "FWHM: 5.620 +/- 0.152 [ pixels ]\n",
      "\n",
      "Seeing: 1.866 [ arcsec ]\n",
      "Aperture size: 9.6 pixels\n",
      "Aperture correction: -0.026 +/- 0.012 [ mag ]\n",
      "WARNING: FITSFixedWarning: 'datfix' made the change 'Invalid parameter values: MJD-OBS and DATE-OBS are inconsistent.\n",
      "Changed DATE-OBS from '2022-12-13        ' to '2022-12-13T00:00:00.0''. [astropy.wcs.wcs]\n",
      "FITSFixedWarning: 'datfix' made the change 'Invalid parameter values: MJD-OBS and DATE-OBS are inconsistent.\n",
      "Changed DATE-OBS from '2022-12-13        ' to '2022-12-13T00:00:00.0''.\n",
      "Searching for new catalog [sdss] for target_ra_58_dec_-12 \n"
     ]
    },
    {
     "name": "stdout",
     "output_type": "stream",
     "text": [
      "\n",
      "+----------------------------------------------+\n",
      "|Searching for catalog for target_ra_58_dec_-12|\n",
      "+----------------------------------------------+\n",
      "\n"
     ]
    },
    {
     "name": "stderr",
     "output_type": "stream",
     "text": [
      "Catalog: sdss : does not cover field\n",
      "\n",
      "User instrument database: /Users/terwelj/Documents/VirtualMachine/Observing_ING/autophot/newtest/telescope.yml\n",
      "\n",
      "Number of files: 3\n",
      "\n",
      "1 telescope(s) detected - checking header keywords\n",
      "\n"
     ]
    },
    {
     "name": "stdout",
     "output_type": "stream",
     "text": [
      "An unexpected error occured using catalogue sdss, going to the next one\n",
      "\n",
      "        _       _       ___ _  _    _____\n",
      "       /_\\ _  _| |_ ___| _ \\ || |__|_   _|\n",
      "      / _ \\ || |  _/ _ \\  _/ __ / _ \\| |\n",
      "     /_/ \\_\\_,_|\\__\\___/_| |_||_\\___/|_|\n",
      "    \n",
      "     ---------------------------------------\n",
      "        Automated Photometry of Transients\n",
      "        S. J. Brennan et al. 2021 \n",
      "        Please provide feedback/bugs to:\n",
      "        Email: sean.brennan2@ucdconnect.ie\n",
      "    ---------------------------------------\n",
      "Directory of fits file: /Users/terwelj/Documents/VirtualMachine/Observing_ING/autophot/newtest/at2022acpz\n",
      "Found Telescopes:\n",
      "\n",
      " - INT\n",
      "\n",
      "-> Telescope check complete\n",
      "\n",
      "Checking Filter keywords and database\n",
      "\n",
      "-> Filter check complete\n",
      "\n",
      "Checking Filter information for each image\n",
      "\n",
      "Files removed - Wrong Image Type: 0\n",
      "\n",
      "Files removed - No/Wrong filter(s): 0\n",
      "Filters not included: []\n",
      "\n",
      "\n",
      "Files removed: 0\n",
      "\n",
      "+-----------+\n",
      "|File: 1 / 3|\n",
      "+-----------+\n",
      "\n"
     ]
    },
    {
     "name": "stderr",
     "output_type": "stream",
     "text": [
      "File: r1645973redCCD4_APT.fits - PID: 8408\n",
      "Start Time: 2023-01-03 15:21:17.247981\n",
      "Filter keyoward used: WFFBAND\n",
      "Telescope: INT\n",
      "Filter: g\n",
      "MJD: 59926.971\n",
      "Date of Observation : 2022-12-13\n",
      "Read Noise: 5.8 [e^- /pixel]\n",
      "GAIN: 2.9 [e^- /count]\n",
      "Exposure time: 20 [s] \n",
      "Detecting/removing cosmic ray sources\n"
     ]
    },
    {
     "name": "stdout",
     "output_type": "stream",
     "text": [
      "Starting Astroscrappy ... "
     ]
    },
    {
     "name": "stderr",
     "output_type": "stream",
     "text": [
      "Contaminated pixels with Cosmic rays removed: 32775\n",
      "Cosmic rays removed - image updated\n",
      "WARNING: FITSFixedWarning: RADECSYS= 'FK5 ' / mean place new (after the 1976 IAU) system \n",
      "the RADECSYS keyword is deprecated, use RADESYSa. [astropy.wcs.wcs]\n",
      "FITSFixedWarning: RADECSYS= 'FK5 ' / mean place new (after the 1976 IAU) system \n",
      "the RADECSYS keyword is deprecated, use RADESYSa.\n",
      "WARNING: FITSFixedWarning: PROJP1 = 1.00000000 / Projection coefficient for primary WCS \n",
      "the PROJPn keyword is deprecated, use PVi_ma. [astropy.wcs.wcs]\n",
      "FITSFixedWarning: PROJP1 = 1.00000000 / Projection coefficient for primary WCS \n",
      "the PROJPn keyword is deprecated, use PVi_ma.\n",
      "WARNING: FITSFixedWarning: PROJP3 = 0.00000000 / Projection coefficient for primary WCS \n",
      "the PROJPn keyword is deprecated, use PVi_ma. [astropy.wcs.wcs]\n",
      "FITSFixedWarning: PROJP3 = 0.00000000 / Projection coefficient for primary WCS \n",
      "the PROJPn keyword is deprecated, use PVi_ma.\n",
      "WARNING: FITSFixedWarning: 'datfix' made the change 'Invalid parameter values: MJD-OBS and DATE-OBS are inconsistent.\n",
      "Changed DATE-OBS from '2022-12-13        ' to '2022-12-13T00:00:00.0''. [astropy.wcs.wcs]\n",
      "FITSFixedWarning: 'datfix' made the change 'Invalid parameter values: MJD-OBS and DATE-OBS are inconsistent.\n",
      "Changed DATE-OBS from '2022-12-13        ' to '2022-12-13T00:00:00.0''.\n",
      "\n",
      "Performing Astrometry.net\n",
      "Removing any pre-existing WCS keys \n",
      "No WCS values found - attempting to solve field\n",
      "ASTROMETRY started...\n",
      "ASTROMETRY finished: 3s\n",
      "Updating WCS keys with new values\n",
      "WCS saved to new file\n",
      "\n",
      "Searching for FWHM\n",
      "Using Gaussian Profile for fitting\n"
     ]
    },
    {
     "name": "stdout",
     "output_type": "stream",
     "text": [
      "\n",
      "+-------------------------------+\n",
      "|Finding Full Width Half Maximum|\n",
      "+-------------------------------+\n",
      "\n"
     ]
    },
    {
     "name": "stderr",
     "output_type": "stream",
     "text": [
      "\n",
      "Number of sources before cleaning [ 25.0 sigma ]: 25 \n",
      "Updating search FWHM value\n"
     ]
    },
    {
     "name": "stdout",
     "output_type": "stream",
     "text": [
      "Updated guess for FWHM: 6.1 pixels \n"
     ]
    },
    {
     "name": "stderr",
     "output_type": "stream",
     "text": [
      "\n",
      "Number of sources before cleaning [ 25.0 sigma ]: 77 \n",
      "Removed 1 sources near boundary\n",
      "Removed 7 crowded sources\n"
     ]
    },
    {
     "name": "stdout",
     "output_type": "stream",
     "text": [
      "Fitting source for FWHM: 69/69  "
     ]
    },
    {
     "name": "stderr",
     "output_type": "stream",
     "text": [
      "Removed 3 saturated sources\n",
      "WARNING: Input data contains invalid values (NaNs or infs), which were automatically clipped. [astropy.stats.sigma_clipping]\n",
      "Input data contains invalid values (NaNs or infs), which were automatically clipped.\n",
      "Removed 7 FWHM outliers\n",
      "WARNING: Input data contains invalid values (NaNs or infs), which were automatically clipped. [astropy.stats.sigma_clipping]\n",
      "Input data contains invalid values (NaNs or infs), which were automatically clipped.\n",
      "Removed 15 median outliers\n",
      "Useable sources found [ 25 sigma ]: 69\n",
      "Removes 2 sources within minimum seperation [ 28 pixel ]\n",
      "\n",
      "FWHM: 5.620 +/- 0.152 [ pixels ]\n",
      "\n",
      "Seeing: 1.866 [ arcsec ]\n",
      "Aperture size: 9.6 pixels\n",
      "Aperture correction: -0.026 +/- 0.012 [ mag ]\n"
     ]
    },
    {
     "name": "stdout",
     "output_type": "stream",
     "text": [
      "\n",
      "+----------------------------------------------+\n",
      "|Searching for catalog for target_ra_58_dec_-12|\n",
      "+----------------------------------------------+\n",
      "\n"
     ]
    },
    {
     "name": "stderr",
     "output_type": "stream",
     "text": [
      "WARNING: FITSFixedWarning: 'datfix' made the change 'Invalid parameter values: MJD-OBS and DATE-OBS are inconsistent.\n",
      "Changed DATE-OBS from '2022-12-13        ' to '2022-12-13T00:00:00.0''. [astropy.wcs.wcs]\n",
      "FITSFixedWarning: 'datfix' made the change 'Invalid parameter values: MJD-OBS and DATE-OBS are inconsistent.\n",
      "Changed DATE-OBS from '2022-12-13        ' to '2022-12-13T00:00:00.0''.\n",
      "Searching for new catalog [pan_starrs] for target_ra_58_dec_-12 \n",
      "Downloading sequence stars from pan_starrs\n",
      "Catalog length: 7255\n",
      "Removed 2176 sources fainter than cutoff [20 mag]\n",
      "Using Gaussian Profile for fitting\n",
      "Catalog Length: 155\n"
     ]
    },
    {
     "name": "stdout",
     "output_type": "stream",
     "text": [
      "\n",
      "+---------------------------------+\n",
      "|Matching catalog sources to image|\n",
      "+---------------------------------+\n",
      "\n",
      "Removed 1 sources too close to target\n",
      "Removed 279 sources too close to boundary or off image\n",
      "Matching catalog to image: 153 / 155 :: Useful sources 107 / 155 "
     ]
    },
    {
     "name": "stderr",
     "output_type": "stream",
     "text": [
      "\n",
      "Median offset: 2.5 [ pixels ] / 0.8 [ arcsec ]\n",
      "Residual table updated: 1 / 10 \n",
      "\tSNR: 564 :: FWHM fitted 5.550\n",
      "Residual table updated: 2 / 10 \n",
      "\tSNR: 555 :: FWHM fitted 5.458\n",
      "Residual table updated: 3 / 10 \n",
      "\tSNR: 516 :: FWHM fitted 5.520\n"
     ]
    },
    {
     "name": "stdout",
     "output_type": "stream",
     "text": [
      "\r",
      "Matching catalog to image: 154 / 155 :: Useful sources 108 / 155 \r",
      "Matching catalog to image: 155 / 155 :: Useful sources 109 / 155   .. done\n",
      "\n",
      "Broken cutouts: 0\n",
      "Not in correct location: 0\n",
      "Not detected: 33\n",
      "Saturated: 14\n",
      "Error: 0\n",
      "\n",
      "\n",
      "+-------------------------------------------+\n",
      "|Building PSF model using stars in the field|\n",
      "+-------------------------------------------+\n",
      "\n"
     ]
    },
    {
     "name": "stderr",
     "output_type": "stream",
     "text": [
      "Residual table updated: 4 / 10 \n",
      "\tSNR: 485 :: FWHM fitted 5.475\n",
      "Residual table updated: 5 / 10 \n",
      "\tSNR: 441 :: FWHM fitted 5.567\n",
      "Residual table updated: 6 / 10 \n",
      "\tSNR: 426 :: FWHM fitted 5.477\n",
      "Residual table updated: 7 / 10 \n",
      "\tSNR: 358 :: FWHM fitted 5.470\n",
      "Residual table updated: 8 / 10 \n",
      "\tSNR: 353 :: FWHM fitted 5.586\n",
      "Residual table updated: 9 / 10 \n",
      "\tSNR: 346 :: FWHM fitted 5.596\n",
      "Residual table updated: 10 / 10 \n",
      "\tSNR: 338 :: FWHM fitted 5.682\n",
      "\n",
      "PSF built using 10 sources\n",
      "\n",
      "Unity PSF: 37.4 [counts] \n",
      "Unity Residual table: 1.9 [counts] \n",
      "Using Aperture Photometry on sequence Stars \n",
      "No PSF sources fitted\n",
      "WARNING: Input data contains invalid values (NaNs or infs), which were automatically clipped. [astropy.stats.sigma_clipping]\n",
      "Input data contains invalid values (NaNs or infs), which were automatically clipped.\n",
      "\n",
      "Mean g-band zeropoint: 26.160 +/- 0.024 \n",
      "\n"
     ]
    },
    {
     "name": "stdout",
     "output_type": "stream",
     "text": [
      "PSF model saved as: /Users/terwelj/Documents/VirtualMachine/Observing_ING/autophot/newtest/at2022acpz_REDUCED/r1645973redCCD4/PSF_model_r1645973redCCD4_APT.fits\n",
      "\n",
      "+-------------------+\n",
      "|Measuring PSF model|\n",
      "+-------------------+\n",
      "\n",
      "\n",
      "+-----------------------+\n",
      "|Finding Zeropoint value|\n",
      "+-----------------------+\n",
      "\n",
      "Checking for suitable catalog sources\n",
      "Removed 97 sources lower than SNR of 25.0\n"
     ]
    },
    {
     "name": "stderr",
     "output_type": "stream",
     "text": [
      "/opt/anaconda3/envs/autophot/lib/python3.7/site-packages/matplotlib/backends/backend_pdf.py:1649: DeprecationWarning: NONE is deprecated and will be removed in Pillow 10 (2023-07-01). Use Resampling.NEAREST or Dither.NONE instead.\n",
      "  img = img.convert(mode='P', dither=Image.NONE,\n",
      "/opt/anaconda3/envs/autophot/lib/python3.7/site-packages/matplotlib/backends/backend_pdf.py:1650: DeprecationWarning: ADAPTIVE is deprecated and will be removed in Pillow 10 (2023-07-01). Use Palette.ADAPTIVE instead.\n",
      "  palette=Image.ADAPTIVE, colors=num_colors)\n",
      "Approx. catalog limiting magnitude: 19.816 [ mag ]\n",
      "Target photometry on original image\n"
     ]
    },
    {
     "name": "stdout",
     "output_type": "stream",
     "text": [
      "\n",
      "+-----------------------------------+\n",
      "|Doing Aperture Photometry on Target|\n",
      "+-----------------------------------+\n",
      "\n"
     ]
    },
    {
     "name": "stderr",
     "output_type": "stream",
     "text": [
      "/opt/anaconda3/envs/autophot/lib/python3.7/site-packages/matplotlib/backends/backend_pdf.py:1649: DeprecationWarning: NONE is deprecated and will be removed in Pillow 10 (2023-07-01). Use Resampling.NEAREST or Dither.NONE instead.\n",
      "  img = img.convert(mode='P', dither=Image.NONE,\n",
      "/opt/anaconda3/envs/autophot/lib/python3.7/site-packages/matplotlib/backends/backend_pdf.py:1650: DeprecationWarning: ADAPTIVE is deprecated and will be removed in Pillow 10 (2023-07-01). Use Palette.ADAPTIVE instead.\n",
      "  palette=Image.ADAPTIVE, colors=num_colors)\n",
      "Approximate Target SNR: 34.5\n",
      "SNR = 34 - skipping limiting magnitude\n",
      "Pixel Offset: 0.000\n",
      "Limiting Magnitude: skipped\n",
      "Target Detection probability: 100 %\n",
      "Target flux: 613.708 +/- 0.000 [counts/s]\n",
      "Noise: 407.441 [counts/s]\n",
      "Target SNR: 34.499 +/- 0.031\n",
      "Instrumental Magnitude: -6.970 +/- 0.000\n",
      "Zeropoint: 26.160 +/- 0.024\n",
      "Target Magnitude: 19.164 +/- 0.041 \n",
      "\n",
      "*** Transient well detected ***\n",
      "\n",
      "Time Taken [ 8408 ]: 48s\n",
      "Sucess: r1645973redCCD4_APT.fits :: PID 8408 \n",
      "\n",
      "File: r1645974redCCD4_APT.fits - PID: 8408\n",
      "Start Time: 2023-01-03 15:22:05.246152\n",
      "Filter keyoward used: WFFBAND\n",
      "Telescope: INT\n",
      "Filter: i\n",
      "MJD: 59926.973\n",
      "Date of Observation : 2022-12-13\n",
      "Read Noise: 5.8 [e^- /pixel]\n",
      "GAIN: 2.9 [e^- /count]\n",
      "Exposure time: 20 [s] \n",
      "Detecting/removing cosmic ray sources\n"
     ]
    },
    {
     "name": "stdout",
     "output_type": "stream",
     "text": [
      "\n",
      "+-----------+\n",
      "|File: 2 / 3|\n",
      "+-----------+\n",
      "\n",
      "Starting Astroscrappy ... "
     ]
    },
    {
     "name": "stderr",
     "output_type": "stream",
     "text": [
      "Contaminated pixels with Cosmic rays removed: 27963\n",
      "Cosmic rays removed - image updated\n",
      "WARNING: FITSFixedWarning: RADECSYS= 'FK5 ' / mean place new (after the 1976 IAU) system \n",
      "the RADECSYS keyword is deprecated, use RADESYSa. [astropy.wcs.wcs]\n",
      "FITSFixedWarning: RADECSYS= 'FK5 ' / mean place new (after the 1976 IAU) system \n",
      "the RADECSYS keyword is deprecated, use RADESYSa.\n",
      "WARNING: FITSFixedWarning: PROJP1 = 1.00000000 / Projection coefficient for primary WCS \n",
      "the PROJPn keyword is deprecated, use PVi_ma. [astropy.wcs.wcs]\n",
      "FITSFixedWarning: PROJP1 = 1.00000000 / Projection coefficient for primary WCS \n",
      "the PROJPn keyword is deprecated, use PVi_ma.\n",
      "WARNING: FITSFixedWarning: PROJP3 = 0.00000000 / Projection coefficient for primary WCS \n",
      "the PROJPn keyword is deprecated, use PVi_ma. [astropy.wcs.wcs]\n",
      "FITSFixedWarning: PROJP3 = 0.00000000 / Projection coefficient for primary WCS \n",
      "the PROJPn keyword is deprecated, use PVi_ma.\n",
      "WARNING: FITSFixedWarning: 'datfix' made the change 'Invalid parameter values: MJD-OBS and DATE-OBS are inconsistent.\n",
      "Changed DATE-OBS from '2022-12-13        ' to '2022-12-13T00:00:00.0''. [astropy.wcs.wcs]\n",
      "FITSFixedWarning: 'datfix' made the change 'Invalid parameter values: MJD-OBS and DATE-OBS are inconsistent.\n",
      "Changed DATE-OBS from '2022-12-13        ' to '2022-12-13T00:00:00.0''.\n",
      "\n",
      "Performing Astrometry.net\n",
      "Removing any pre-existing WCS keys \n",
      "No WCS values found - attempting to solve field\n",
      "ASTROMETRY started...\n",
      "ASTROMETRY finished: 3s\n",
      "Updating WCS keys with new values\n",
      "WCS saved to new file\n",
      "\n",
      "Searching for FWHM\n",
      "Using Gaussian Profile for fitting\n"
     ]
    },
    {
     "name": "stdout",
     "output_type": "stream",
     "text": [
      "\n",
      "+-------------------------------+\n",
      "|Finding Full Width Half Maximum|\n",
      "+-------------------------------+\n",
      "\n"
     ]
    },
    {
     "name": "stderr",
     "output_type": "stream",
     "text": [
      "\n",
      "Number of sources before cleaning [ 25.0 sigma ]: 25 \n",
      "Updating search FWHM value\n"
     ]
    },
    {
     "name": "stdout",
     "output_type": "stream",
     "text": [
      "Updated guess for FWHM: 6.1 pixels \n"
     ]
    },
    {
     "name": "stderr",
     "output_type": "stream",
     "text": [
      "\n",
      "Number of sources before cleaning [ 25.0 sigma ]: 94 \n",
      "Removed 4 sources near boundary\n",
      "Removed 6 crowded sources\n"
     ]
    },
    {
     "name": "stdout",
     "output_type": "stream",
     "text": [
      "Fitting source for FWHM: 84/84   "
     ]
    },
    {
     "name": "stderr",
     "output_type": "stream",
     "text": [
      "Removed 3 saturated sources\n",
      "WARNING: Input data contains invalid values (NaNs or infs), which were automatically clipped. [astropy.stats.sigma_clipping]\n",
      "Input data contains invalid values (NaNs or infs), which were automatically clipped.\n",
      "Removed 15 FWHM outliers\n",
      "WARNING: Input data contains invalid values (NaNs or infs), which were automatically clipped. [astropy.stats.sigma_clipping]\n",
      "Input data contains invalid values (NaNs or infs), which were automatically clipped.\n",
      "Removed 10 median outliers\n",
      "Useable sources found [ 25 sigma ]: 84\n",
      "Removes 4 sources within minimum seperation [ 26 pixel ]\n",
      "\n",
      "FWHM: 5.418 +/- 0.162 [ pixels ]\n",
      "\n",
      "Seeing: 1.795 [ arcsec ]\n",
      "Aperture size: 9.2 pixels\n",
      "Aperture correction: -0.047 +/- 0.020 [ mag ]\n",
      "WARNING: FITSFixedWarning: 'datfix' made the change 'Invalid parameter values: MJD-OBS and DATE-OBS are inconsistent.\n",
      "Changed DATE-OBS from '2022-12-13        ' to '2022-12-13T00:00:00.0''. [astropy.wcs.wcs]\n",
      "FITSFixedWarning: 'datfix' made the change 'Invalid parameter values: MJD-OBS and DATE-OBS are inconsistent.\n",
      "Changed DATE-OBS from '2022-12-13        ' to '2022-12-13T00:00:00.0''.\n",
      "Catalog found for target_ra_58_dec_-12\n",
      "Catalog: PAN_STARRS \n",
      "File: target_ra_58_dec_-12_r_0.25\n",
      "Catalog length: 7255\n",
      "Removed 4261 sources fainter than cutoff [20 mag]\n",
      "Using Gaussian Profile for fitting\n",
      "Catalog Length: 318\n"
     ]
    },
    {
     "name": "stdout",
     "output_type": "stream",
     "text": [
      "\n",
      "+----------------------------------------------+\n",
      "|Searching for catalog for target_ra_58_dec_-12|\n",
      "+----------------------------------------------+\n",
      "\n",
      "\n",
      "+---------------------------------+\n",
      "|Matching catalog sources to image|\n",
      "+---------------------------------+\n",
      "\n",
      "Removed 1 sources too close to target\n",
      "Removed 616 sources too close to boundary or off image\n",
      "Matching catalog to image: 318 / 318 :: Useful sources 198 / 318   .. done\n",
      "\n",
      "Broken cutouts: 0\n",
      "Not in correct location: 0\n",
      "Not detected: 99\n",
      "Saturated: 22\n",
      "Error: 0\n",
      "\n"
     ]
    },
    {
     "name": "stderr",
     "output_type": "stream",
     "text": [
      "\n",
      "Median offset: 3.2 [ pixels ] / 1.0 [ arcsec ]\n",
      "Residual table updated: 1 / 10 \n",
      "\tSNR: 745 :: FWHM fitted 5.381\n",
      "Residual table updated: 2 / 10 \n",
      "\tSNR: 592 :: FWHM fitted 5.422\n",
      "Residual table updated: 3 / 10 \n",
      "\tSNR: 587 :: FWHM fitted 5.351\n"
     ]
    },
    {
     "name": "stdout",
     "output_type": "stream",
     "text": [
      "\n",
      "+-------------------------------------------+\n",
      "|Building PSF model using stars in the field|\n",
      "+-------------------------------------------+\n",
      "\n"
     ]
    },
    {
     "name": "stderr",
     "output_type": "stream",
     "text": [
      "Residual table updated: 4 / 10 \n",
      "\tSNR: 531 :: FWHM fitted 5.425\n",
      "Residual table updated: 5 / 10 \n",
      "\tSNR: 521 :: FWHM fitted 5.428\n",
      "Residual table updated: 6 / 10 \n",
      "\tSNR: 517 :: FWHM fitted 5.498\n",
      "Residual table updated: 7 / 10 \n",
      "\tSNR: 511 :: FWHM fitted 5.371\n",
      "Residual table updated: 8 / 10 \n",
      "\tSNR: 507 :: FWHM fitted 5.330\n",
      "Residual table updated: 9 / 10 \n",
      "\tSNR: 481 :: FWHM fitted 5.367\n",
      "Residual table updated: 10 / 10 \n",
      "\tSNR: 472 :: FWHM fitted 5.359\n",
      "\n",
      "PSF built using 10 sources\n",
      "\n",
      "Unity PSF: 36.3 [counts] \n",
      "Unity Residual table: 3.3 [counts] \n",
      "Using Aperture Photometry on sequence Stars \n",
      "No PSF sources fitted\n",
      "WARNING: Input data contains invalid values (NaNs or infs), which were automatically clipped. [astropy.stats.sigma_clipping]\n",
      "Input data contains invalid values (NaNs or infs), which were automatically clipped.\n",
      "\n",
      "Mean i-band zeropoint: 25.648 +/- 0.039 \n",
      "\n"
     ]
    },
    {
     "name": "stdout",
     "output_type": "stream",
     "text": [
      "PSF model saved as: /Users/terwelj/Documents/VirtualMachine/Observing_ING/autophot/newtest/at2022acpz_REDUCED/r1645974redCCD4/PSF_model_r1645974redCCD4_APT.fits\n",
      "\n",
      "+-------------------+\n",
      "|Measuring PSF model|\n",
      "+-------------------+\n",
      "\n",
      "\n",
      "+-----------------------+\n",
      "|Finding Zeropoint value|\n",
      "+-----------------------+\n",
      "\n",
      "Checking for suitable catalog sources\n",
      "Removed 149 sources lower than SNR of 25.0\n"
     ]
    },
    {
     "name": "stderr",
     "output_type": "stream",
     "text": [
      "/opt/anaconda3/envs/autophot/lib/python3.7/site-packages/matplotlib/backends/backend_pdf.py:1649: DeprecationWarning: NONE is deprecated and will be removed in Pillow 10 (2023-07-01). Use Resampling.NEAREST or Dither.NONE instead.\n",
      "  img = img.convert(mode='P', dither=Image.NONE,\n",
      "/opt/anaconda3/envs/autophot/lib/python3.7/site-packages/matplotlib/backends/backend_pdf.py:1650: DeprecationWarning: ADAPTIVE is deprecated and will be removed in Pillow 10 (2023-07-01). Use Palette.ADAPTIVE instead.\n",
      "  palette=Image.ADAPTIVE, colors=num_colors)\n",
      "Approx. catalog limiting magnitude: 19.014 [ mag ]\n",
      "Target photometry on original image\n"
     ]
    },
    {
     "name": "stdout",
     "output_type": "stream",
     "text": [
      "\n",
      "+-----------------------------------+\n",
      "|Doing Aperture Photometry on Target|\n",
      "+-----------------------------------+\n",
      "\n"
     ]
    },
    {
     "name": "stderr",
     "output_type": "stream",
     "text": [
      "/opt/anaconda3/envs/autophot/lib/python3.7/site-packages/matplotlib/backends/backend_pdf.py:1649: DeprecationWarning: NONE is deprecated and will be removed in Pillow 10 (2023-07-01). Use Resampling.NEAREST or Dither.NONE instead.\n",
      "  img = img.convert(mode='P', dither=Image.NONE,\n",
      "/opt/anaconda3/envs/autophot/lib/python3.7/site-packages/matplotlib/backends/backend_pdf.py:1650: DeprecationWarning: ADAPTIVE is deprecated and will be removed in Pillow 10 (2023-07-01). Use Palette.ADAPTIVE instead.\n",
      "  palette=Image.ADAPTIVE, colors=num_colors)\n",
      "Approximate Target SNR: 14.0\n",
      "SNR = 14 - skipping limiting magnitude\n",
      "Pixel Offset: 0.000\n",
      "Limiting Magnitude: skipped\n",
      "Target Detection probability: 99 %\n",
      "Target flux: 299.836 +/- 0.000 [counts/s]\n",
      "Noise: 421.982 [counts/s]\n",
      "Target SNR: 13.982 +/- 0.075\n",
      "Instrumental Magnitude: -6.192 +/- 0.000\n",
      "Zeropoint: 25.648 +/- 0.039\n",
      "Target Magnitude: 19.409 +/- 0.087 \n",
      "\n",
      "*** Transient well detected ***\n",
      "\n",
      "Time Taken [ 8408 ]: 37s\n",
      "Sucess: r1645974redCCD4_APT.fits :: PID 8408 \n",
      "\n",
      "File: r1645972redCCD4_APT.fits - PID: 8408\n",
      "Start Time: 2023-01-03 15:22:42.788463\n",
      "Filter keyoward used: WFFBAND\n",
      "Telescope: INT\n",
      "Filter: r\n",
      "MJD: 59926.970\n",
      "Date of Observation : 2022-12-13\n",
      "Read Noise: 5.8 [e^- /pixel]\n",
      "GAIN: 2.9 [e^- /count]\n",
      "Exposure time: 20 [s] \n",
      "Detecting/removing cosmic ray sources\n"
     ]
    },
    {
     "name": "stdout",
     "output_type": "stream",
     "text": [
      "\n",
      "+-----------+\n",
      "|File: 3 / 3|\n",
      "+-----------+\n",
      "\n",
      "Starting Astroscrappy ... "
     ]
    },
    {
     "name": "stderr",
     "output_type": "stream",
     "text": [
      "Contaminated pixels with Cosmic rays removed: 27545\n",
      "Cosmic rays removed - image updated\n",
      "WARNING: FITSFixedWarning: RADECSYS= 'FK5 ' / mean place new (after the 1976 IAU) system \n",
      "the RADECSYS keyword is deprecated, use RADESYSa. [astropy.wcs.wcs]\n",
      "FITSFixedWarning: RADECSYS= 'FK5 ' / mean place new (after the 1976 IAU) system \n",
      "the RADECSYS keyword is deprecated, use RADESYSa.\n",
      "WARNING: FITSFixedWarning: PROJP1 = 1.00000000 / Projection coefficient for primary WCS \n",
      "the PROJPn keyword is deprecated, use PVi_ma. [astropy.wcs.wcs]\n",
      "FITSFixedWarning: PROJP1 = 1.00000000 / Projection coefficient for primary WCS \n",
      "the PROJPn keyword is deprecated, use PVi_ma.\n",
      "WARNING: FITSFixedWarning: PROJP3 = 0.00000000 / Projection coefficient for primary WCS \n",
      "the PROJPn keyword is deprecated, use PVi_ma. [astropy.wcs.wcs]\n",
      "FITSFixedWarning: PROJP3 = 0.00000000 / Projection coefficient for primary WCS \n",
      "the PROJPn keyword is deprecated, use PVi_ma.\n",
      "WARNING: FITSFixedWarning: 'datfix' made the change 'Invalid parameter values: MJD-OBS and DATE-OBS are inconsistent.\n",
      "Changed DATE-OBS from '2022-12-13        ' to '2022-12-13T00:00:00.0''. [astropy.wcs.wcs]\n",
      "FITSFixedWarning: 'datfix' made the change 'Invalid parameter values: MJD-OBS and DATE-OBS are inconsistent.\n",
      "Changed DATE-OBS from '2022-12-13        ' to '2022-12-13T00:00:00.0''.\n",
      "\n",
      "Performing Astrometry.net\n",
      "Removing any pre-existing WCS keys \n",
      "No WCS values found - attempting to solve field\n",
      "ASTROMETRY started...\n",
      "ASTROMETRY finished: 3s\n",
      "Updating WCS keys with new values\n",
      "WCS saved to new file\n",
      "\n",
      "Searching for FWHM\n",
      "Using Gaussian Profile for fitting\n"
     ]
    },
    {
     "name": "stdout",
     "output_type": "stream",
     "text": [
      "\n",
      "+-------------------------------+\n",
      "|Finding Full Width Half Maximum|\n",
      "+-------------------------------+\n",
      "\n"
     ]
    },
    {
     "name": "stderr",
     "output_type": "stream",
     "text": [
      "\n",
      "Number of sources before cleaning [ 25.0 sigma ]: 25 \n",
      "Updating search FWHM value\n"
     ]
    },
    {
     "name": "stdout",
     "output_type": "stream",
     "text": [
      "Updated guess for FWHM: 5.8 pixels \n"
     ]
    },
    {
     "name": "stderr",
     "output_type": "stream",
     "text": [
      "\n",
      "Number of sources before cleaning [ 25.0 sigma ]: 84 \n",
      "Removed 3 sources near boundary\n",
      "Removed 7 crowded sources\n"
     ]
    },
    {
     "name": "stdout",
     "output_type": "stream",
     "text": [
      "Fitting source for FWHM: 74/74 "
     ]
    },
    {
     "name": "stderr",
     "output_type": "stream",
     "text": [
      "Removed 3 saturated sources\n",
      "WARNING: Input data contains invalid values (NaNs or infs), which were automatically clipped. [astropy.stats.sigma_clipping]\n",
      "Input data contains invalid values (NaNs or infs), which were automatically clipped.\n",
      "Removed 7 FWHM outliers\n",
      "WARNING: Input data contains invalid values (NaNs or infs), which were automatically clipped. [astropy.stats.sigma_clipping]\n",
      "Input data contains invalid values (NaNs or infs), which were automatically clipped.\n",
      "Removed 16 median outliers\n",
      "Useable sources found [ 25 sigma ]: 74\n",
      "Removes 2 sources within minimum seperation [ 28 pixel ]\n",
      "\n",
      "FWHM: 5.761 +/- 0.468 [ pixels ]\n",
      "\n",
      "Seeing: 1.913 [ arcsec ]\n",
      "Aperture size: 9.8 pixels\n",
      "Aperture correction: -0.053 +/- 0.008 [ mag ]\n",
      "WARNING: FITSFixedWarning: 'datfix' made the change 'Invalid parameter values: MJD-OBS and DATE-OBS are inconsistent.\n",
      "Changed DATE-OBS from '2022-12-13        ' to '2022-12-13T00:00:00.0''. [astropy.wcs.wcs]\n",
      "FITSFixedWarning: 'datfix' made the change 'Invalid parameter values: MJD-OBS and DATE-OBS are inconsistent.\n",
      "Changed DATE-OBS from '2022-12-13        ' to '2022-12-13T00:00:00.0''.\n",
      "Catalog found for target_ra_58_dec_-12\n",
      "Catalog: PAN_STARRS \n",
      "File: target_ra_58_dec_-12_r_0.25\n",
      "Catalog length: 7255\n",
      "Removed 3252 sources fainter than cutoff [20 mag]\n",
      "Using Gaussian Profile for fitting\n",
      "Catalog Length: 234\n"
     ]
    },
    {
     "name": "stdout",
     "output_type": "stream",
     "text": [
      "\n",
      "+----------------------------------------------+\n",
      "|Searching for catalog for target_ra_58_dec_-12|\n",
      "+----------------------------------------------+\n",
      "\n",
      "\n",
      "+---------------------------------+\n",
      "|Matching catalog sources to image|\n",
      "+---------------------------------+\n",
      "\n",
      "Removed 1 sources too close to target\n",
      "Removed 432 sources too close to boundary or off image\n",
      "Matching catalog to image: 230 / 234 :: Useful sources 159 / 234 "
     ]
    },
    {
     "name": "stderr",
     "output_type": "stream",
     "text": [
      "\n",
      "Median offset: 2.6 [ pixels ] / 0.9 [ arcsec ]\n",
      "Residual table updated: 1 / 10 \n",
      "\tSNR: 568 :: FWHM fitted 5.623\n",
      "Residual table updated: 2 / 10 \n",
      "\tSNR: 550 :: FWHM fitted 5.709\n",
      "Residual table updated: 3 / 10 \n",
      "\tSNR: 548 :: FWHM fitted 5.751\n"
     ]
    },
    {
     "name": "stdout",
     "output_type": "stream",
     "text": [
      "\r",
      "Matching catalog to image: 231 / 234 :: Useful sources 160 / 234 \r",
      "Matching catalog to image: 232 / 234 :: Useful sources 160 / 234 \r",
      "Matching catalog to image: 233 / 234 :: Useful sources 160 / 234 \r",
      "Matching catalog to image: 234 / 234 :: Useful sources 160 / 234   .. done\n",
      "\n",
      "Broken cutouts: 0\n",
      "Not in correct location: 0\n",
      "Not detected: 58\n",
      "Saturated: 17\n",
      "Error: 0\n",
      "\n",
      "\n",
      "+-------------------------------------------+\n",
      "|Building PSF model using stars in the field|\n",
      "+-------------------------------------------+\n",
      "\n"
     ]
    },
    {
     "name": "stderr",
     "output_type": "stream",
     "text": [
      "Residual table updated: 4 / 10 \n",
      "\tSNR: 502 :: FWHM fitted 5.756\n",
      "Residual table updated: 5 / 10 \n",
      "\tSNR: 494 :: FWHM fitted 5.844\n",
      "Residual table updated: 6 / 10 \n",
      "\tSNR: 485 :: FWHM fitted 5.711\n",
      "Residual table updated: 7 / 10 \n",
      "\tSNR: 484 :: FWHM fitted 5.801\n",
      "Residual table updated: 8 / 10 \n",
      "\tSNR: 455 :: FWHM fitted 5.742\n",
      "Residual table updated: 9 / 10 \n",
      "\tSNR: 447 :: FWHM fitted 6.121\n",
      "Residual table updated: 10 / 10 \n",
      "\tSNR: 429 :: FWHM fitted 6.050\n",
      "\n",
      "PSF built using 10 sources\n",
      "\n",
      "Unity PSF: 42.3 [counts] \n",
      "Unity Residual table: 4.2 [counts] \n",
      "Using Aperture Photometry on sequence Stars \n",
      "No PSF sources fitted\n",
      "WARNING: Input data contains invalid values (NaNs or infs), which were automatically clipped. [astropy.stats.sigma_clipping]\n",
      "Input data contains invalid values (NaNs or infs), which were automatically clipped.\n",
      "\n",
      "Mean r-band zeropoint: 25.975 +/- 0.031 \n",
      "\n"
     ]
    },
    {
     "name": "stdout",
     "output_type": "stream",
     "text": [
      "PSF model saved as: /Users/terwelj/Documents/VirtualMachine/Observing_ING/autophot/newtest/at2022acpz_REDUCED/r1645972redCCD4/PSF_model_r1645972redCCD4_APT.fits\n",
      "\n",
      "+-------------------+\n",
      "|Measuring PSF model|\n",
      "+-------------------+\n",
      "\n",
      "\n",
      "+-----------------------+\n",
      "|Finding Zeropoint value|\n",
      "+-----------------------+\n",
      "\n",
      "Checking for suitable catalog sources\n",
      "Removed 122 sources lower than SNR of 25.0\n"
     ]
    },
    {
     "name": "stderr",
     "output_type": "stream",
     "text": [
      "/opt/anaconda3/envs/autophot/lib/python3.7/site-packages/matplotlib/backends/backend_pdf.py:1649: DeprecationWarning: NONE is deprecated and will be removed in Pillow 10 (2023-07-01). Use Resampling.NEAREST or Dither.NONE instead.\n",
      "  img = img.convert(mode='P', dither=Image.NONE,\n",
      "/opt/anaconda3/envs/autophot/lib/python3.7/site-packages/matplotlib/backends/backend_pdf.py:1650: DeprecationWarning: ADAPTIVE is deprecated and will be removed in Pillow 10 (2023-07-01). Use Palette.ADAPTIVE instead.\n",
      "  palette=Image.ADAPTIVE, colors=num_colors)\n",
      "Approx. catalog limiting magnitude: 19.361 [ mag ]\n",
      "Target photometry on original image\n",
      "/opt/anaconda3/envs/autophot/lib/python3.7/site-packages/matplotlib/backends/backend_pdf.py:1649: DeprecationWarning: NONE is deprecated and will be removed in Pillow 10 (2023-07-01). Use Resampling.NEAREST or Dither.NONE instead.\n",
      "  img = img.convert(mode='P', dither=Image.NONE,\n",
      "/opt/anaconda3/envs/autophot/lib/python3.7/site-packages/matplotlib/backends/backend_pdf.py:1650: DeprecationWarning: ADAPTIVE is deprecated and will be removed in Pillow 10 (2023-07-01). Use Palette.ADAPTIVE instead.\n",
      "  palette=Image.ADAPTIVE, colors=num_colors)\n",
      "Approximate Target SNR: 23.7\n",
      "SNR = 24 - skipping limiting magnitude\n",
      "Pixel Offset: 0.000\n",
      "Limiting Magnitude: skipped\n",
      "Target Detection probability: 99 %\n",
      "Target flux: 505.645 +/- 0.000 [counts/s]\n",
      "Noise: 487.940 [counts/s]\n"
     ]
    },
    {
     "name": "stdout",
     "output_type": "stream",
     "text": [
      "\n",
      "+-----------------------------------+\n",
      "|Doing Aperture Photometry on Target|\n",
      "+-----------------------------------+\n",
      "\n"
     ]
    },
    {
     "name": "stderr",
     "output_type": "stream",
     "text": [
      "Target SNR: 23.694 +/- 0.045\n",
      "Instrumental Magnitude: -6.760 +/- 0.000\n",
      "Zeropoint: 25.975 +/- 0.031\n",
      "Target Magnitude: 19.162 +/- 0.055 \n",
      "\n",
      "*** Transient well detected ***\n",
      "\n",
      "Time Taken [ 8408 ]: 35s\n",
      "Sucess: r1645972redCCD4_APT.fits :: PID 8408 \n",
      "\n"
     ]
    },
    {
     "name": "stdout",
     "output_type": "stream",
     "text": [
      "\n",
      "---\n",
      "\n",
      "Files that failed : []\n",
      "\n",
      "DONE\n",
      "\n",
      "Done - Time Taken: 121.0\n",
      "Photometry successfully extracted from all images\n"
     ]
    }
   ],
   "source": [
    "#Last one failed due to an exception because sdss does not cover the field (why doesn't it complain for the others?)\n",
    "#Redoing after fixing the function to handle this case\n",
    "ra = obj_locs['ra'][dirlist[-1].name]\n",
    "dec = obj_locs['dec'][dirlist[-1].name]\n",
    "get_photom('/Users/terwelj/Documents/VirtualMachine/Observing_ING/autophot/newtest/'+obj.name,\n",
    "           '/Users/terwelj/Documents/VirtualMachine/Observing_ING/autophot/newtest', ra, dec)"
   ]
  },
  {
   "cell_type": "code",
   "execution_count": 59,
   "metadata": {},
   "outputs": [],
   "source": [
    "#Finally, as a loop was needed to do all objects, the results are scattered as well\n",
    "#All that is needed now is to gather them in one place\n",
    "#Note: catalog used is not saved, but if multiple are used, they show up as separate rows\n",
    "res_dfs = []\n",
    "\n",
    "for obj in dirlist:\n",
    "    try:\n",
    "        df = pd.read_csv(obj.parent/(obj.name+'_REDUCED/REDUCED.csv'))\n",
    "    except:\n",
    "        print(f'No REDUCED.csv found for {obj.name}')\n",
    "    df['object'] = obj.name\n",
    "    res_dfs.append(df)\n",
    "\n",
    "#After gathering everything together, save them as a new csv\n",
    "res = pd.concat(res_dfs, ignore_index=True)\n",
    "res.to_csv(down_dir/'autophot/All_photometry.csv')"
   ]
  },
  {
   "cell_type": "code",
   "execution_count": 114,
   "metadata": {},
   "outputs": [
    {
     "name": "stdout",
     "output_type": "stream",
     "text": [
      "at2022acuo\n",
      "\n",
      "\n",
      "mjd,mag,magerr,limiting_mag,magsys,instrument_id,filter\n",
      "59926.9552471,19.549,0.074,21.276,ab,1084,r\n",
      "59926.9563929,20.471,0.088,22.012,ab,1084,g\n",
      "59926.9539624,20.167,0.170,20.985,ab,1084,i\n",
      "59926.9552471,19.576,0.080,21.215,ab,1084,r\n",
      "59926.9563929,20.379,0.089,21.897,ab,1084,g\n",
      "\n",
      "\n",
      "\n",
      "\n",
      "\n",
      "at2022acsd\n",
      "\n",
      "\n",
      "mjd,mag,magerr,limiting_mag,magsys,instrument_id,filter\n",
      "59926.9600272,19.298,0.104,20.651,ab,1084,i\n",
      "59926.9577934,19.054,0.059,21.021,ab,1084,g\n",
      "59926.9588582,18.836,0.044,21.131,ab,1084,r\n",
      "\n",
      "\n",
      "\n",
      "\n",
      "\n",
      "at2022acru\n",
      "\n",
      "\n",
      "mjd,mag,magerr,limiting_mag,magsys,instrument_id,filter\n",
      "59926.9659531,17.905,0.029,20.634,ab,1084,g\n",
      "59926.967423,18.451,0.064,20.338,ab,1084,i\n",
      "59926.968592,18.031,0.037,20.516,ab,1084,r\n",
      "\n",
      "\n",
      "\n",
      "\n",
      "\n",
      "ZTF22absygcs\n",
      "\n",
      "\n",
      "mjd,mag,magerr,limiting_mag,magsys,instrument_id,filter\n",
      "59896.9411961,16.990,0.045,19.264,ab,1084,r\n",
      "59896.9296689,17.293,0.042,19.632,ab,1084,g\n",
      "59896.9342054,16.635,0.051,18.755,ab,1084,i\n",
      "\n",
      "\n",
      "\n",
      "\n",
      "\n",
      "ZTF22aadgsdi\n",
      "\n",
      "\n",
      "mjd,mag,magerr,limiting_mag,magsys,instrument_id,filter\n",
      "59896.8466012,18.321,0.022,21.337,ab,1084,g\n",
      "59896.8574345,18.080,0.025,20.964,ab,1084,r\n",
      "59896.8610115,17.943,0.032,20.583,ab,1084,i\n",
      "\n",
      "\n",
      "\n",
      "\n",
      "\n",
      "at2022acsf\n",
      "\n",
      "\n",
      "mjd,mag,magerr,limiting_mag,magsys,instrument_id,filter\n",
      "59926.9621684,18.460,0.063,20.362,ab,1084,i\n",
      "59926.9643443,18.145,0.038,20.591,ab,1084,g\n",
      "59926.9633258,18.285,0.044,20.576,ab,1084,r\n",
      "\n",
      "\n",
      "\n",
      "\n",
      "\n",
      "ZTF22ablxcrh\n",
      "\n",
      "\n",
      "mjd,mag,magerr,limiting_mag,magsys,instrument_id,filter\n",
      "59896.8760804,18.513,0.023,21.484,ab,1084,g\n",
      "59896.8829692,18.191,0.026,21.050,ab,1084,r\n",
      "\n",
      "\n",
      "\n",
      "\n",
      "\n",
      "at2022acsz\n",
      "\n",
      "\n",
      "mjd,mag,magerr,limiting_mag,magsys,instrument_id,filter\n",
      "59926.9493559,18.638,0.035,21.183,ab,1084,r\n",
      "59926.9511846,19.388,0.352,19.419,ab,1084,g\n",
      "59926.952585,18.438,0.041,20.807,ab,1084,i\n",
      "\n",
      "\n",
      "\n",
      "\n",
      "\n",
      "ZTF22abqxkhd\n",
      "\n",
      "\n",
      "mjd,mag,magerr,limiting_mag,magsys,instrument_id,filter\n",
      "59898.0482962,18.020,0.147,19.001,ab,1084,i\n",
      "59898.040166,18.595,0.099,20.000,ab,1084,g\n",
      "59898.0581637,18.084,0.013,21.715,ab,1084,r\n",
      "59896.9772922,17.885,0.126,19.029,ab,1084,i\n",
      "59898.0482962,18.125,0.059,20.098,ab,1084,i\n",
      "59898.040166,18.503,0.035,21.048,ab,1084,g\n",
      "59896.9685225,18.529,0.029,21.270,ab,1084,g\n",
      "59898.0581637,18.156,0.031,20.830,ab,1084,r\n",
      "59896.9772922,17.908,0.059,19.883,ab,1084,i\n",
      "59896.9953396,17.863,0.043,20.183,ab,1084,r\n",
      "\n",
      "\n",
      "\n",
      "\n",
      "\n",
      "at2022acsu\n",
      "\n",
      "\n",
      "mjd,mag,magerr,limiting_mag,magsys,instrument_id,filter\n",
      "59926.9741823,19.158,0.074,20.874,ab,1084,i\n",
      "59926.9758142,19.451,0.057,21.451,ab,1084,r\n",
      "59926.9769137,19.334,0.050,21.482,ab,1084,g\n",
      "\n",
      "\n",
      "\n",
      "\n",
      "\n",
      "at2022acpz\n",
      "\n",
      "\n",
      "mjd,mag,magerr,limiting_mag,magsys,instrument_id,filter\n",
      "59926.971335,19.164,0.041,21.534,ab,1084,g\n",
      "59926.9725388,19.409,0.087,20.956,ab,1084,i\n",
      "59926.9700619,19.162,0.055,21.208,ab,1084,r\n",
      "\n",
      "\n",
      "\n",
      "\n",
      "\n"
     ]
    }
   ],
   "source": [
    "#Transform the format into something easily uploadable to Fritz\n",
    "\n",
    "def mag2flux(mag, err):\n",
    "    flux = 10**(-0.4*mag)\n",
    "    dflux = 0.4*np.log(10)*flux*err\n",
    "    return flux, dflux\n",
    "\n",
    "def flux2mag(flux, err):\n",
    "    mag = -2.5*np.log10(flux)\n",
    "    dmag = 2.5*err/(np.log(10)*flux)\n",
    "    return mag, dmag\n",
    "\n",
    "def calc_lim(mag, dmag, sigma):\n",
    "    flux, dflux = mag2flux(mag, dmag)\n",
    "    lim, dlim = flux2mag(sigma*dflux, dflux)\n",
    "    return lim\n",
    "\n",
    "for name in res.object.unique():\n",
    "    temp = res[res.object==name].reset_index()\n",
    "    print(f'{name}\\n\\n')\n",
    "    print('mjd,mag,magerr,limiting_mag,magsys,instrument_id,filter')\n",
    "    for i in range(len(temp)):\n",
    "        if type(temp.g[i]) == str:\n",
    "            val = float(temp.g[i][1:-1])\n",
    "            val_err = temp.g_err[i]\n",
    "            lim = calc_lim(val, val_err, 3)\n",
    "            band = 'sdssg'\n",
    "        elif type(temp.r[i]) == str:\n",
    "            val = float(temp.r[i][1:-1])\n",
    "            val_err = temp.r_err[i]\n",
    "            lim = calc_lim(val, val_err, 3)\n",
    "            band = 'sdssr'\n",
    "        elif type(temp.i[i]) == str:\n",
    "            val = float(temp.i[i][1:-1])\n",
    "            val_err = temp.i_err[i]\n",
    "            lim = calc_lim(val, val_err, 3)\n",
    "            band = 'sdssi'\n",
    "        else:\n",
    "            print('band not recognised')\n",
    "        if lim < val:\n",
    "            print('WARNING: value below lim')\n",
    "        print(f'{temp.mjd[i]},{val:.3f},{val_err:.3f},{lim:.3f},ab,1084,{band}')\n",
    "        #elif type(temp.r[i]) == str:\n",
    "        #    print(f'{temp.mjd[i]},{float(temp.r[i][1:-1]):.3f},{temp.r_err[i]:.3f},-,ab,1084,r,-')\n",
    "        #elif type(temp.i[i]) == str:\n",
    "        #    print(f'{temp.mjd[i]},{float(temp.i[i][1:-1]):.3f},{temp.i_err[i]:.3f},-,ab,1084,i,-')\n",
    "    print('\\n\\n\\n\\n')"
   ]
  }
 ],
 "metadata": {
  "kernelspec": {
   "display_name": "Python 3 (ipykernel)",
   "language": "python",
   "name": "python3"
  },
  "language_info": {
   "codemirror_mode": {
    "name": "ipython",
    "version": 3
   },
   "file_extension": ".py",
   "mimetype": "text/x-python",
   "name": "python",
   "nbconvert_exporter": "python",
   "pygments_lexer": "ipython3",
   "version": "3.7.15"
  }
 },
 "nbformat": 4,
 "nbformat_minor": 4
}
