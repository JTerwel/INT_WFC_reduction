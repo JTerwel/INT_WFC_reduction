{
 "cells": [
  {
   "cell_type": "code",
   "execution_count": 1,
   "id": "8c84a687",
   "metadata": {},
   "outputs": [],
   "source": [
    "import autophot\n",
    "from autophot.prep_input import load"
   ]
  },
  {
   "cell_type": "code",
   "execution_count": 2,
   "id": "5dd612d5",
   "metadata": {},
   "outputs": [
    {
     "name": "stdout",
     "output_type": "stream",
     "text": [
      "Default input loaded in from: \n",
      "/opt/anaconda3/envs/autophot/lib/python3.7/site-packages/autophot/databases/default_input.yml\n"
     ]
    }
   ],
   "source": [
    "# Load in command dictionary\n",
    "autophot_input = load()"
   ]
  },
  {
   "cell_type": "code",
   "execution_count": 3,
   "id": "83647f7b",
   "metadata": {},
   "outputs": [
    {
     "name": "stdout",
     "output_type": "stream",
     "text": [
      "Setting work directory (wdir) to: /Users/terwelj/Documents/VirtualMachine/Observing_ING/autophot\n"
     ]
    }
   ],
   "source": [
    "# Location of the folder of fits images\n",
    "dirpath = '/Users/terwelj/Documents/VirtualMachine/Observing_ING/autophot'\n",
    "autophot_input['fits_dir'] = dirpath + '/test'\n",
    "\n",
    "print('Setting work directory (wdir) to: %s' % dirpath)\n",
    "# set working directory\n",
    "autophot_input['wdir'] = dirpath"
   ]
  },
  {
   "cell_type": "code",
   "execution_count": 4,
   "id": "87e32b98",
   "metadata": {},
   "outputs": [],
   "source": [
    "# Target coordinates in degrees\n",
    "autophot_input['target_ra'] = 356.94909\n",
    "autophot_input['target_dec'] = 8.26584"
   ]
  },
  {
   "cell_type": "markdown",
   "id": "66cadef8",
   "metadata": {},
   "source": [
    "FIND WCS"
   ]
  },
  {
   "cell_type": "code",
   "execution_count": 5,
   "id": "242f399a",
   "metadata": {},
   "outputs": [],
   "source": [
    "# Update location of solve-field\n",
    "autophot_input['wcs']['solve_field_exe_loc'] = '/usr/local/bin/solve-field'\n",
    "\n",
    "# remove any wcs that pre-existing on the images - this is recommended\n",
    "autophot_input['wcs']['remove_wcs'] = True"
   ]
  },
  {
   "cell_type": "code",
   "execution_count": 6,
   "id": "16ddbdf5",
   "metadata": {},
   "outputs": [],
   "source": [
    "# Select what catalog to use\n",
    "autophot_input['catalog']['use_catalog'] = 'sdss'\n",
    "#autophot_input['catalog']['use_catalog'] = 'apass'\n",
    "#autophot_input['catalog']['use_catalog'] = 'pan_starrs'\n",
    "#autophot_input['catalog']['use_catalog'] = 'skymapper'\n",
    "#autophot_input['catalog']['use_catalog'] = '2mass'\n",
    "\n",
    "# For custom catalog, another field has to be filled\n",
    "#autophot_input['catalog']['use_catalog'] = 'custom'\n",
    "#autophot_input['catalog']['catalog_custom_fpath'] = ''"
   ]
  },
  {
   "cell_type": "code",
   "execution_count": 18,
   "id": "97caa962",
   "metadata": {
    "scrolled": true
   },
   "outputs": [
    {
     "name": "stderr",
     "output_type": "stream",
     "text": [
      "\n",
      "User instrument database: /Users/terwelj/Documents/VirtualMachine/Observing_ING/autophot/telescope.yml\n",
      "\n",
      "Number of files: 3\n",
      "\n",
      "1 telescope(s) detected - checking header keywords\n",
      "\n"
     ]
    },
    {
     "name": "stdout",
     "output_type": "stream",
     "text": [
      "\n",
      "        _       _       ___ _  _    _____\n",
      "       /_\\ _  _| |_ ___| _ \\ || |__|_   _|\n",
      "      / _ \\ || |  _/ _ \\  _/ __ / _ \\| |\n",
      "     /_/ \\_\\_,_|\\__\\___/_| |_||_\\___/|_|\n",
      "    \n",
      "     ---------------------------------------\n",
      "        Automated Photometry of Transients\n",
      "        S. J. Brennan et al. 2021 \n",
      "        Please provide feedback/bugs to:\n",
      "        Email: sean.brennan2@ucdconnect.ie\n",
      "    ---------------------------------------\n",
      "Directory of fits file: /Users/terwelj/Documents/VirtualMachine/Observing_ING/autophot/test\n",
      "Found Telescopes:\n",
      "\n",
      " - INT\n",
      "\n",
      "-> Telescope check complete\n",
      "\n",
      "Checking Filter keywords and database\n",
      "\n",
      "-> Filter check complete\n",
      "\n",
      "Checking Filter information for each image\n",
      "\n",
      "Files removed - Wrong Image Type: 0\n",
      "\n",
      "Files removed - No/Wrong filter(s): 0\n",
      "Filters not included: []\n",
      "\n",
      "\n",
      "Files removed: 0\n",
      "\n",
      "+-----------+\n",
      "|File: 1 / 3|\n",
      "+-----------+\n",
      "\n"
     ]
    },
    {
     "name": "stderr",
     "output_type": "stream",
     "text": [
      "File: r1645957redCCD4_APT.fits - PID: 9729\n",
      "Start Time: 2022-12-16 10:49:25.199834\n",
      "Filter keyoward used: WFFBAND\n",
      "Telescope: INT\n",
      "Filter: r\n",
      "MJD: 59926.949\n",
      "Date of Observation : 2022-12-13\n",
      "Read Noise: 5.8 [e^- /pixel]\n",
      "GAIN: 2.9 [e^- /count]\n",
      "Exposure time: 20 [s] \n",
      "Detecting/removing cosmic ray sources\n"
     ]
    },
    {
     "name": "stdout",
     "output_type": "stream",
     "text": [
      "Starting Astroscrappy ... "
     ]
    },
    {
     "name": "stderr",
     "output_type": "stream",
     "text": [
      "Contaminated pixels with Cosmic rays removed: 28051\n",
      "Cosmic rays removed - image updated\n",
      "WARNING: FITSFixedWarning: RADECSYS= 'FK5 ' / mean place new (after the 1976 IAU) system \n",
      "the RADECSYS keyword is deprecated, use RADESYSa. [astropy.wcs.wcs]\n",
      "FITSFixedWarning: RADECSYS= 'FK5 ' / mean place new (after the 1976 IAU) system \n",
      "the RADECSYS keyword is deprecated, use RADESYSa.\n",
      "WARNING: FITSFixedWarning: PROJP1 = 1.00000000 / Projection coefficient for primary WCS \n",
      "the PROJPn keyword is deprecated, use PVi_ma. [astropy.wcs.wcs]\n",
      "FITSFixedWarning: PROJP1 = 1.00000000 / Projection coefficient for primary WCS \n",
      "the PROJPn keyword is deprecated, use PVi_ma.\n",
      "WARNING: FITSFixedWarning: PROJP3 = 0.00000000 / Projection coefficient for primary WCS \n",
      "the PROJPn keyword is deprecated, use PVi_ma. [astropy.wcs.wcs]\n",
      "FITSFixedWarning: PROJP3 = 0.00000000 / Projection coefficient for primary WCS \n",
      "the PROJPn keyword is deprecated, use PVi_ma.\n",
      "WARNING: FITSFixedWarning: 'datfix' made the change 'Invalid parameter values: MJD-OBS and DATE-OBS are inconsistent.\n",
      "Changed DATE-OBS from '2022-12-13        ' to '2022-12-13T00:00:00.0''. [astropy.wcs.wcs]\n",
      "FITSFixedWarning: 'datfix' made the change 'Invalid parameter values: MJD-OBS and DATE-OBS are inconsistent.\n",
      "Changed DATE-OBS from '2022-12-13        ' to '2022-12-13T00:00:00.0''.\n",
      "\n",
      "Performing Astrometry.net\n",
      "Removing any pre-existing WCS keys \n",
      "No WCS values found - attempting to solve field\n",
      "ASTROMETRY started...\n",
      "ASTROMETRY finished: 3s\n",
      "Updating WCS keys with new values\n",
      "WCS saved to new file\n",
      "\n",
      "Searching for FWHM\n",
      "Using Gaussian Profile for fitting\n"
     ]
    },
    {
     "name": "stdout",
     "output_type": "stream",
     "text": [
      "\n",
      "+-------------------------------+\n",
      "|Finding Full Width Half Maximum|\n",
      "+-------------------------------+\n",
      "\n"
     ]
    },
    {
     "name": "stderr",
     "output_type": "stream",
     "text": [
      "\n",
      "Number of sources before cleaning [ 25.0 sigma ]: 25 \n",
      "Updating search FWHM value\n"
     ]
    },
    {
     "name": "stdout",
     "output_type": "stream",
     "text": [
      "zero-size array to reduction operation fmax which has no identity\n",
      "Updated guess for FWHM: 7.0 pixels \n"
     ]
    },
    {
     "name": "stderr",
     "output_type": "stream",
     "text": [
      "\n",
      "Number of sources before cleaning [ 25.0 sigma ]: 70 \n",
      "Removed 5 sources near boundary\n",
      "Removed 4 crowded sources\n"
     ]
    },
    {
     "name": "stdout",
     "output_type": "stream",
     "text": [
      "Fitting source for FWHM: 61/61 "
     ]
    },
    {
     "name": "stderr",
     "output_type": "stream",
     "text": [
      "Removed 3 saturated sources\n",
      "WARNING: Input data contains invalid values (NaNs or infs), which were automatically clipped. [astropy.stats.sigma_clipping]\n",
      "Input data contains invalid values (NaNs or infs), which were automatically clipped.\n",
      "Removed 3 FWHM outliers\n",
      "WARNING: Input data contains invalid values (NaNs or infs), which were automatically clipped. [astropy.stats.sigma_clipping]\n",
      "Input data contains invalid values (NaNs or infs), which were automatically clipped.\n",
      "Removed 12 median outliers\n",
      "Useable sources found [ 25 sigma ]: 61\n",
      "Removes 0 sources within minimum seperation [ 27 pixel ]\n",
      "\n",
      "FWHM: 5.520 +/- 0.272 [ pixels ]\n",
      "\n",
      "Seeing: 1.829 [ arcsec ]\n",
      "Aperture size: 9.4 pixels\n",
      "Aperture correction: -0.037 +/- 0.012 [ mag ]\n"
     ]
    },
    {
     "name": "stdout",
     "output_type": "stream",
     "text": [
      "\n",
      "+---------------------------------------------+\n",
      "|Searching for catalog for target_ra_357_dec_8|\n",
      "+---------------------------------------------+\n",
      "\n"
     ]
    },
    {
     "name": "stderr",
     "output_type": "stream",
     "text": [
      "WARNING: FITSFixedWarning: 'datfix' made the change 'Invalid parameter values: MJD-OBS and DATE-OBS are inconsistent.\n",
      "Changed DATE-OBS from '2022-12-13        ' to '2022-12-13T00:00:00.0''. [astropy.wcs.wcs]\n",
      "FITSFixedWarning: 'datfix' made the change 'Invalid parameter values: MJD-OBS and DATE-OBS are inconsistent.\n",
      "Changed DATE-OBS from '2022-12-13        ' to '2022-12-13T00:00:00.0''.\n",
      "Catalog found for target_ra_357_dec_8\n",
      "Catalog: SDSS \n",
      "File: target_ra_357_dec_8_r_0.25\n",
      "Catalog length: 330\n",
      "Removed 209 sources fainter than cutoff [20 mag]\n",
      "Using Gaussian Profile for fitting\n",
      "Catalog Length: 8\n"
     ]
    },
    {
     "name": "stdout",
     "output_type": "stream",
     "text": [
      "\n",
      "+---------------------------------+\n",
      "|Matching catalog sources to image|\n",
      "+---------------------------------+\n",
      "\n",
      "Removed 1 sources too close to target\n",
      "Removed 26 sources too close to boundary or off image\n",
      "\r",
      "Matching catalog to image: 1 / 8 :: Useful sources 1 / 8 "
     ]
    },
    {
     "name": "stderr",
     "output_type": "stream",
     "text": [
      "\n",
      "Median offset: 8.7 [ pixels ] / 2.9 [ arcsec ]\n",
      "Residual table updated: 1 / 10 \n",
      "\tSNR: 962 :: FWHM fitted 5.855\n",
      "Residual table updated: 2 / 10 \n",
      "\tSNR: 806 :: FWHM fitted 5.672\n"
     ]
    },
    {
     "name": "stdout",
     "output_type": "stream",
     "text": [
      "\r",
      "Matching catalog to image: 2 / 8 :: Useful sources 2 / 8 \r",
      "Matching catalog to image: 3 / 8 :: Useful sources 3 / 8 \r",
      "Matching catalog to image: 4 / 8 :: Useful sources 3 / 8 \r",
      "Matching catalog to image: 5 / 8 :: Useful sources 4 / 8 \r",
      "Matching catalog to image: 6 / 8 :: Useful sources 4 / 8 \r",
      "Matching catalog to image: 7 / 8 :: Useful sources 5 / 8 \r",
      "Matching catalog to image: 8 / 8 :: Useful sources 6 / 8   .. done\n",
      "\n",
      "Broken cutouts: 0\n",
      "Not in correct location: 0\n",
      "Not detected: 3\n",
      "Saturated: 0\n",
      "Error: 0\n",
      "\n",
      "\n",
      "+-------------------------------------------+\n",
      "|Building PSF model using stars in the field|\n",
      "+-------------------------------------------+\n",
      "\n"
     ]
    },
    {
     "name": "stderr",
     "output_type": "stream",
     "text": [
      "Residual table updated: 3 / 10 \n",
      "\tSNR: 664 :: FWHM fitted 5.570\n",
      "Residual table updated: 4 / 10 \n",
      "\tSNR: 565 :: FWHM fitted 5.680\n",
      "Residual table updated: 5 / 10 \n",
      "\tSNR: 523 :: FWHM fitted 5.166\n",
      "Residual table updated: 6 / 10 \n",
      "\tSNR: 473 :: FWHM fitted 5.517\n",
      "Residual table updated: 7 / 10 \n",
      "\tSNR: 416 :: FWHM fitted 5.101\n",
      "Residual table updated: 8 / 10 \n",
      "\tSNR: 400 :: FWHM fitted 5.639\n",
      "Residual table updated: 9 / 10 \n",
      "\tSNR: 395 :: FWHM fitted 5.711\n",
      "Residual table updated: 10 / 10 \n",
      "\tSNR: 395 :: FWHM fitted 5.364\n",
      "\n",
      "PSF built using 10 sources\n",
      "\n",
      "Unity PSF: 36.8 [counts] \n",
      "Unity Residual table: 2.4 [counts] \n",
      "Using PSF Photometry on Sequence Stars\n",
      "Approx PSF mag -11.767 mag\n"
     ]
    },
    {
     "name": "stdout",
     "output_type": "stream",
     "text": [
      "PSF model saved as: /Users/terwelj/Documents/VirtualMachine/Observing_ING/autophot/test_REDUCED/r1645957redCCD4/PSF_model_r1645957redCCD4_APT.fits\n",
      "\n",
      "+-------------------+\n",
      "|Measuring PSF model|\n",
      "+-------------------+\n",
      "\n",
      "\n",
      "+-----------------------------------+\n",
      "|Fitting PSF to sources in the image|\n",
      "+-----------------------------------+\n",
      "\n",
      "\r",
      "Fitting PSF to source: 1 / 5 \r",
      "Fitting PSF to source: 2 / 5 \r",
      "Fitting PSF to source: 3 / 5 "
     ]
    },
    {
     "name": "stderr",
     "output_type": "stream",
     "text": [
      "WARNING: Input data contains invalid values (NaNs or infs), which were automatically clipped. [astropy.stats.sigma_clipping]\n",
      "Input data contains invalid values (NaNs or infs), which were automatically clipped.\n",
      "\n",
      "Mean r-band zeropoint: 25.884 +/- 0.012 \n",
      "\n"
     ]
    },
    {
     "name": "stdout",
     "output_type": "stream",
     "text": [
      "\r",
      "Fitting PSF to source: 4 / 5 \r",
      "Fitting PSF to source: 5 / 5 \n",
      "+-----------------------+\n",
      "|Finding Zeropoint value|\n",
      "+-----------------------+\n",
      "\n",
      "Checking for suitable catalog sources\n",
      "Removed 3 sources lower than SNR of 25.0\n"
     ]
    },
    {
     "name": "stderr",
     "output_type": "stream",
     "text": [
      "/opt/anaconda3/envs/autophot/lib/python3.7/site-packages/matplotlib/backends/backend_pdf.py:1649: DeprecationWarning: NONE is deprecated and will be removed in Pillow 10 (2023-07-01). Use Resampling.NEAREST or Dither.NONE instead.\n",
      "  img = img.convert(mode='P', dither=Image.NONE,\n",
      "/opt/anaconda3/envs/autophot/lib/python3.7/site-packages/matplotlib/backends/backend_pdf.py:1650: DeprecationWarning: ADAPTIVE is deprecated and will be removed in Pillow 10 (2023-07-01). Use Palette.ADAPTIVE instead.\n",
      "  palette=Image.ADAPTIVE, colors=num_colors)\n",
      "Target photometry on original image\n"
     ]
    },
    {
     "name": "stdout",
     "output_type": "stream",
     "text": [
      "\n",
      "+-----------------------------------------------+\n",
      "|Performing PSF photometry on at target location|\n",
      "+-----------------------------------------------+\n",
      "\n"
     ]
    },
    {
     "name": "stderr",
     "output_type": "stream",
     "text": [
      "/opt/anaconda3/envs/autophot/lib/python3.7/site-packages/matplotlib/backends/backend_pdf.py:1649: DeprecationWarning: NONE is deprecated and will be removed in Pillow 10 (2023-07-01). Use Resampling.NEAREST or Dither.NONE instead.\n",
      "  img = img.convert(mode='P', dither=Image.NONE,\n",
      "/opt/anaconda3/envs/autophot/lib/python3.7/site-packages/matplotlib/backends/backend_pdf.py:1650: DeprecationWarning: ADAPTIVE is deprecated and will be removed in Pillow 10 (2023-07-01). Use Palette.ADAPTIVE instead.\n",
      "  palette=Image.ADAPTIVE, colors=num_colors)\n",
      "Approximate Target SNR: 31.7\n",
      "SNR = 32 - skipping limiting magnitude\n",
      "Pixel Offset: 1.658\n",
      "Limiting Magnitude: skipped\n",
      "Target Detection probability: 99 %\n",
      "Target flux: 612.332 +/- 17.454 [counts/s]\n",
      "Noise: 443.291 [counts/s]\n",
      "Target SNR: 31.666 +/- 0.034\n",
      "Instrumental Magnitude: -6.967 +/- 0.061\n",
      "Zeropoint: 25.884 +/- 0.012\n",
      "Target Magnitude: 18.916 +/- 0.096 \n",
      "\n",
      "*** Transient well detected ***\n",
      "\n",
      "Time Taken [ 9729 ]: 26s\n",
      "Sucess: r1645957redCCD4_APT.fits :: PID 9729 \n",
      "\n"
     ]
    },
    {
     "name": "stdout",
     "output_type": "stream",
     "text": [
      "Error from multlocation [10] recovery: 0.053 [mag]\n",
      "\n",
      "+-----------+\n",
      "|File: 2 / 3|\n",
      "+-----------+\n",
      "\n"
     ]
    },
    {
     "name": "stderr",
     "output_type": "stream",
     "text": [
      "File: r1645958redCCD4_APT.fits - PID: 9729\n",
      "Start Time: 2022-12-16 10:49:51.034416\n",
      "Filter keyoward used: WFFBAND\n",
      "Telescope: INT\n",
      "Filter: g\n",
      "MJD: 59926.951\n",
      "Date of Observation : 2022-12-13\n",
      "Read Noise: 5.8 [e^- /pixel]\n",
      "GAIN: 2.9 [e^- /count]\n",
      "Exposure time: 20 [s] \n",
      "Detecting/removing cosmic ray sources\n"
     ]
    },
    {
     "name": "stdout",
     "output_type": "stream",
     "text": [
      "Starting Astroscrappy ... "
     ]
    },
    {
     "name": "stderr",
     "output_type": "stream",
     "text": [
      "Contaminated pixels with Cosmic rays removed: 31841\n",
      "Cosmic rays removed - image updated\n",
      "WARNING: FITSFixedWarning: RADECSYS= 'FK5 ' / mean place new (after the 1976 IAU) system \n",
      "the RADECSYS keyword is deprecated, use RADESYSa. [astropy.wcs.wcs]\n",
      "FITSFixedWarning: RADECSYS= 'FK5 ' / mean place new (after the 1976 IAU) system \n",
      "the RADECSYS keyword is deprecated, use RADESYSa.\n",
      "WARNING: FITSFixedWarning: PROJP1 = 1.00000000 / Projection coefficient for primary WCS \n",
      "the PROJPn keyword is deprecated, use PVi_ma. [astropy.wcs.wcs]\n",
      "FITSFixedWarning: PROJP1 = 1.00000000 / Projection coefficient for primary WCS \n",
      "the PROJPn keyword is deprecated, use PVi_ma.\n",
      "WARNING: FITSFixedWarning: PROJP3 = 0.00000000 / Projection coefficient for primary WCS \n",
      "the PROJPn keyword is deprecated, use PVi_ma. [astropy.wcs.wcs]\n",
      "FITSFixedWarning: PROJP3 = 0.00000000 / Projection coefficient for primary WCS \n",
      "the PROJPn keyword is deprecated, use PVi_ma.\n",
      "WARNING: FITSFixedWarning: 'datfix' made the change 'Invalid parameter values: MJD-OBS and DATE-OBS are inconsistent.\n",
      "Changed DATE-OBS from '2022-12-13        ' to '2022-12-13T00:00:00.0''. [astropy.wcs.wcs]\n",
      "FITSFixedWarning: 'datfix' made the change 'Invalid parameter values: MJD-OBS and DATE-OBS are inconsistent.\n",
      "Changed DATE-OBS from '2022-12-13        ' to '2022-12-13T00:00:00.0''.\n",
      "\n",
      "Performing Astrometry.net\n",
      "Removing any pre-existing WCS keys \n",
      "No WCS values found - attempting to solve field\n",
      "ASTROMETRY started...\n",
      "ASTROMETRY finished: 3s\n",
      "Updating WCS keys with new values\n",
      "WCS saved to new file\n",
      "\n",
      "Searching for FWHM\n",
      "Using Gaussian Profile for fitting\n"
     ]
    },
    {
     "name": "stdout",
     "output_type": "stream",
     "text": [
      "\n",
      "+-------------------------------+\n",
      "|Finding Full Width Half Maximum|\n",
      "+-------------------------------+\n",
      "\n"
     ]
    },
    {
     "name": "stderr",
     "output_type": "stream",
     "text": [
      "\n",
      "Number of sources before cleaning [ 25.0 sigma ]: 25 \n",
      "Updating search FWHM value\n"
     ]
    },
    {
     "name": "stdout",
     "output_type": "stream",
     "text": [
      "Updated guess for FWHM: 7.7 pixels \n"
     ]
    },
    {
     "name": "stderr",
     "output_type": "stream",
     "text": [
      "\n",
      "Number of sources before cleaning [ 25.0 sigma ]: 66 \n",
      "Removed 5 sources near boundary\n",
      "Removed 4 crowded sources\n"
     ]
    },
    {
     "name": "stdout",
     "output_type": "stream",
     "text": [
      "Fitting source for FWHM: 57/57 "
     ]
    },
    {
     "name": "stderr",
     "output_type": "stream",
     "text": [
      "Removed 4 saturated sources\n",
      "WARNING: Input data contains invalid values (NaNs or infs), which were automatically clipped. [astropy.stats.sigma_clipping]\n",
      "Input data contains invalid values (NaNs or infs), which were automatically clipped.\n",
      "Removed 6 FWHM outliers\n",
      "WARNING: Input data contains invalid values (NaNs or infs), which were automatically clipped. [astropy.stats.sigma_clipping]\n",
      "Input data contains invalid values (NaNs or infs), which were automatically clipped.\n",
      "Removed 24 median outliers\n",
      "Useable sources found [ 25 sigma ]: 57\n",
      "Removes 0 sources within minimum seperation [ 29 pixel ]\n",
      "\n",
      "Large error on FWHM - returning plots for user diagnostic\n",
      "/opt/anaconda3/envs/autophot/lib/python3.7/site-packages/matplotlib/axes/_base.py:2283: UserWarning: Warning: converting a masked element to nan.\n",
      "  xys = np.asarray(xys)\n",
      "/opt/anaconda3/envs/autophot/lib/python3.7/site-packages/matplotlib/axes/_base.py:2283: UserWarning: Warning: converting a masked element to nan.\n",
      "  xys = np.asarray(xys)\n",
      "/opt/anaconda3/envs/autophot/lib/python3.7/site-packages/matplotlib/backends/backend_pdf.py:1649: DeprecationWarning: NONE is deprecated and will be removed in Pillow 10 (2023-07-01). Use Resampling.NEAREST or Dither.NONE instead.\n",
      "  img = img.convert(mode='P', dither=Image.NONE,\n",
      "/opt/anaconda3/envs/autophot/lib/python3.7/site-packages/matplotlib/backends/backend_pdf.py:1650: DeprecationWarning: ADAPTIVE is deprecated and will be removed in Pillow 10 (2023-07-01). Use Palette.ADAPTIVE instead.\n",
      "  palette=Image.ADAPTIVE, colors=num_colors)\n",
      "\n",
      "FWHM: 6.261 +/- 2.976 [ pixels ]\n",
      "\n",
      "Seeing: 2.074 [ arcsec ]\n",
      "Aperture size: 10.6 pixels\n",
      "Aperture correction: -0.022 +/- 0.018 [ mag ]\n",
      "WARNING: FITSFixedWarning: 'datfix' made the change 'Invalid parameter values: MJD-OBS and DATE-OBS are inconsistent.\n",
      "Changed DATE-OBS from '2022-12-13        ' to '2022-12-13T00:00:00.0''. [astropy.wcs.wcs]\n",
      "FITSFixedWarning: 'datfix' made the change 'Invalid parameter values: MJD-OBS and DATE-OBS are inconsistent.\n",
      "Changed DATE-OBS from '2022-12-13        ' to '2022-12-13T00:00:00.0''.\n",
      "Catalog found for target_ra_357_dec_8\n",
      "Catalog: SDSS \n",
      "File: target_ra_357_dec_8_r_0.25\n",
      "Catalog length: 330\n",
      "Removed 219 sources fainter than cutoff [20 mag]\n",
      "Using Gaussian Profile for fitting\n",
      "Catalog Length: 3\n"
     ]
    },
    {
     "name": "stdout",
     "output_type": "stream",
     "text": [
      "\n",
      "+---------------------------------------------+\n",
      "|Searching for catalog for target_ra_357_dec_8|\n",
      "+---------------------------------------------+\n",
      "\n",
      "\n",
      "+---------------------------------+\n",
      "|Matching catalog sources to image|\n",
      "+---------------------------------+\n",
      "\n",
      "Removed 1 sources too close to target\n",
      "Removed 14 sources too close to boundary or off image\n",
      "\r",
      "Matching catalog to image: 1 / 3 :: Useful sources 1 / 3 "
     ]
    },
    {
     "name": "stderr",
     "output_type": "stream",
     "text": [
      "\n",
      "Median offset: 11.8 [ pixels ] / 3.9 [ arcsec ]\n",
      "Residual table updated: 1 / 10 \n",
      "\tSNR: 528 :: FWHM fitted 5.945\n",
      "Residual table updated: 2 / 10 \n",
      "\tSNR: 437 :: FWHM fitted 5.809\n",
      "Residual table updated: 3 / 10 \n",
      "\tSNR: 402 :: FWHM fitted 5.381\n"
     ]
    },
    {
     "name": "stdout",
     "output_type": "stream",
     "text": [
      "\r",
      "Matching catalog to image: 2 / 3 :: Useful sources 2 / 3 \r",
      "Matching catalog to image: 3 / 3 :: Useful sources 3 / 3   .. done\n",
      "\n",
      "Broken cutouts: 0\n",
      "Not in correct location: 0\n",
      "Not detected: 1\n",
      "Saturated: 0\n",
      "Error: 0\n",
      "\n",
      "\n",
      "+-------------------------------------------+\n",
      "|Building PSF model using stars in the field|\n",
      "+-------------------------------------------+\n",
      "\n"
     ]
    },
    {
     "name": "stderr",
     "output_type": "stream",
     "text": [
      "Residual table updated: 4 / 10 \n",
      "\tSNR: 356 :: FWHM fitted 6.157\n",
      "Residual table updated: 5 / 10 \n",
      "\tSNR: 348 :: FWHM fitted 5.728\n",
      "Residual table updated: 6 / 10 \n",
      "\tSNR: 309 :: FWHM fitted 5.513\n",
      "Residual table updated: 7 / 10 \n",
      "\tSNR: 286 :: FWHM fitted 5.380\n",
      "Residual table updated: 8 / 10 \n",
      "\tSNR: 271 :: FWHM fitted 6.046\n",
      "Residual table updated: 9 / 10 \n",
      "\tSNR: 264 :: FWHM fitted 6.023\n",
      "Residual table updated: 10 / 10 \n",
      "\tSNR: 250 :: FWHM fitted 6.104\n",
      "\n",
      "PSF built using 10 sources\n",
      "\n",
      "Unity PSF: 40.6 [counts] \n",
      "Unity Residual table: 1.5 [counts] \n",
      "Using PSF Photometry on Sequence Stars\n",
      "Approx PSF mag -10.603 mag\n"
     ]
    },
    {
     "name": "stdout",
     "output_type": "stream",
     "text": [
      "PSF model saved as: /Users/terwelj/Documents/VirtualMachine/Observing_ING/autophot/test_REDUCED/r1645958redCCD4/PSF_model_r1645958redCCD4_APT.fits\n",
      "\n",
      "+-------------------+\n",
      "|Measuring PSF model|\n",
      "+-------------------+\n",
      "\n",
      "\n",
      "+-----------------------------------+\n",
      "|Fitting PSF to sources in the image|\n",
      "+-----------------------------------+\n",
      "\n",
      "\r",
      "Fitting PSF to source: 1 / 2 \r",
      "Fitting PSF to source: 2 / 2 "
     ]
    },
    {
     "name": "stderr",
     "output_type": "stream",
     "text": [
      "\n",
      "Mean g-band zeropoint: 26.429 +/- 0.342 \n",
      "\n"
     ]
    },
    {
     "name": "stdout",
     "output_type": "stream",
     "text": [
      "\n",
      "+-----------------------+\n",
      "|Finding Zeropoint value|\n",
      "+-----------------------+\n",
      "\n",
      "Checking for suitable catalog sources\n",
      "Removed 2 sources lower than SNR of 25.0\n"
     ]
    },
    {
     "name": "stderr",
     "output_type": "stream",
     "text": [
      "/opt/anaconda3/envs/autophot/lib/python3.7/site-packages/matplotlib/backends/backend_pdf.py:1649: DeprecationWarning: NONE is deprecated and will be removed in Pillow 10 (2023-07-01). Use Resampling.NEAREST or Dither.NONE instead.\n",
      "  img = img.convert(mode='P', dither=Image.NONE,\n",
      "/opt/anaconda3/envs/autophot/lib/python3.7/site-packages/matplotlib/backends/backend_pdf.py:1650: DeprecationWarning: ADAPTIVE is deprecated and will be removed in Pillow 10 (2023-07-01). Use Palette.ADAPTIVE instead.\n",
      "  palette=Image.ADAPTIVE, colors=num_colors)\n",
      "Approx. catalog limiting magnitude: 15.564 [ mag ]\n",
      "Target photometry on original image\n"
     ]
    },
    {
     "name": "stdout",
     "output_type": "stream",
     "text": [
      "\n",
      "+-----------------------------------------------+\n",
      "|Performing PSF photometry on at target location|\n",
      "+-----------------------------------------------+\n",
      "\n"
     ]
    },
    {
     "name": "stderr",
     "output_type": "stream",
     "text": [
      "/opt/anaconda3/envs/autophot/lib/python3.7/site-packages/matplotlib/backends/backend_pdf.py:1649: DeprecationWarning: NONE is deprecated and will be removed in Pillow 10 (2023-07-01). Use Resampling.NEAREST or Dither.NONE instead.\n",
      "  img = img.convert(mode='P', dither=Image.NONE,\n",
      "/opt/anaconda3/envs/autophot/lib/python3.7/site-packages/matplotlib/backends/backend_pdf.py:1650: DeprecationWarning: ADAPTIVE is deprecated and will be removed in Pillow 10 (2023-07-01). Use Palette.ADAPTIVE instead.\n",
      "  palette=Image.ADAPTIVE, colors=num_colors)\n",
      "Approximate Target SNR: 33.5\n",
      "SNR = 34 - skipping limiting magnitude\n",
      "Pixel Offset: 1.476\n",
      "Limiting Magnitude: skipped\n",
      "Target Detection probability: 100 %\n",
      "Target flux: 517.739 +/- 14.519 [counts/s]\n",
      "Noise: 398.000 [counts/s]\n",
      "Target SNR: 33.503 +/- 0.032\n",
      "Instrumental Magnitude: -6.785 +/- 0.047\n",
      "Zeropoint: 26.429 +/- 0.342\n",
      "Target Magnitude: 19.643 +/- 0.351 \n",
      "\n",
      "*** Transient well detected ***\n",
      "\n",
      "Time Taken [ 9729 ]: 25s\n",
      "Sucess: r1645958redCCD4_APT.fits :: PID 9729 \n",
      "\n"
     ]
    },
    {
     "name": "stdout",
     "output_type": "stream",
     "text": [
      "Error from multlocation [10] recovery: 0.036 [mag]\n",
      "\n",
      "+-----------+\n",
      "|File: 3 / 3|\n",
      "+-----------+\n",
      "\n"
     ]
    },
    {
     "name": "stderr",
     "output_type": "stream",
     "text": [
      "File: r1645959redCCD4_APT.fits - PID: 9729\n",
      "Start Time: 2022-12-16 10:50:16.612327\n",
      "Filter keyoward used: WFFBAND\n",
      "Telescope: INT\n",
      "Filter: i\n",
      "MJD: 59926.953\n",
      "Date of Observation : 2022-12-13\n",
      "Read Noise: 5.8 [e^- /pixel]\n",
      "GAIN: 2.9 [e^- /count]\n",
      "Exposure time: 20 [s] \n",
      "Detecting/removing cosmic ray sources\n"
     ]
    },
    {
     "name": "stdout",
     "output_type": "stream",
     "text": [
      "Starting Astroscrappy ... "
     ]
    },
    {
     "name": "stderr",
     "output_type": "stream",
     "text": [
      "Contaminated pixels with Cosmic rays removed: 27050\n",
      "Cosmic rays removed - image updated\n",
      "WARNING: FITSFixedWarning: RADECSYS= 'FK5 ' / mean place new (after the 1976 IAU) system \n",
      "the RADECSYS keyword is deprecated, use RADESYSa. [astropy.wcs.wcs]\n",
      "FITSFixedWarning: RADECSYS= 'FK5 ' / mean place new (after the 1976 IAU) system \n",
      "the RADECSYS keyword is deprecated, use RADESYSa.\n",
      "WARNING: FITSFixedWarning: PROJP1 = 1.00000000 / Projection coefficient for primary WCS \n",
      "the PROJPn keyword is deprecated, use PVi_ma. [astropy.wcs.wcs]\n",
      "FITSFixedWarning: PROJP1 = 1.00000000 / Projection coefficient for primary WCS \n",
      "the PROJPn keyword is deprecated, use PVi_ma.\n",
      "WARNING: FITSFixedWarning: PROJP3 = 0.00000000 / Projection coefficient for primary WCS \n",
      "the PROJPn keyword is deprecated, use PVi_ma. [astropy.wcs.wcs]\n",
      "FITSFixedWarning: PROJP3 = 0.00000000 / Projection coefficient for primary WCS \n",
      "the PROJPn keyword is deprecated, use PVi_ma.\n",
      "WARNING: FITSFixedWarning: 'datfix' made the change 'Invalid parameter values: MJD-OBS and DATE-OBS are inconsistent.\n",
      "Changed DATE-OBS from '2022-12-13        ' to '2022-12-13T00:00:00.0''. [astropy.wcs.wcs]\n",
      "FITSFixedWarning: 'datfix' made the change 'Invalid parameter values: MJD-OBS and DATE-OBS are inconsistent.\n",
      "Changed DATE-OBS from '2022-12-13        ' to '2022-12-13T00:00:00.0''.\n",
      "\n",
      "Performing Astrometry.net\n",
      "Removing any pre-existing WCS keys \n",
      "No WCS values found - attempting to solve field\n",
      "ASTROMETRY started...\n",
      "ASTROMETRY finished: 3s\n",
      "Updating WCS keys with new values\n",
      "WCS saved to new file\n",
      "\n",
      "Searching for FWHM\n",
      "Using Gaussian Profile for fitting\n"
     ]
    },
    {
     "name": "stdout",
     "output_type": "stream",
     "text": [
      "\n",
      "+-------------------------------+\n",
      "|Finding Full Width Half Maximum|\n",
      "+-------------------------------+\n",
      "\n"
     ]
    },
    {
     "name": "stderr",
     "output_type": "stream",
     "text": [
      "\n",
      "Number of sources before cleaning [ 25.0 sigma ]: 25 \n",
      "Updating search FWHM value\n"
     ]
    },
    {
     "name": "stdout",
     "output_type": "stream",
     "text": [
      "zero-size array to reduction operation fmax which has no identity\n",
      "Updated guess for FWHM: 4.8 pixels \n"
     ]
    },
    {
     "name": "stderr",
     "output_type": "stream",
     "text": [
      "\n",
      "Number of sources before cleaning [ 25.0 sigma ]: 70 \n",
      "Removed 6 sources near boundary\n",
      "Removed 6 crowded sources\n"
     ]
    },
    {
     "name": "stdout",
     "output_type": "stream",
     "text": [
      "Fitting source for FWHM: 58/58 "
     ]
    },
    {
     "name": "stderr",
     "output_type": "stream",
     "text": [
      "Removed 2 saturated sources\n",
      "WARNING: Input data contains invalid values (NaNs or infs), which were automatically clipped. [astropy.stats.sigma_clipping]\n",
      "Input data contains invalid values (NaNs or infs), which were automatically clipped.\n",
      "Removed 2 FWHM outliers\n",
      "WARNING: Input data contains invalid values (NaNs or infs), which were automatically clipped. [astropy.stats.sigma_clipping]\n",
      "Input data contains invalid values (NaNs or infs), which were automatically clipped.\n",
      "Removed 13 median outliers\n",
      "Useable sources found [ 25 sigma ]: 58\n",
      "Removes 0 sources within minimum seperation [ 24 pixel ]\n",
      "\n",
      "FWHM: 4.812 +/- 0.251 [ pixels ]\n",
      "\n",
      "Seeing: 1.594 [ arcsec ]\n",
      "Aperture size: 8.2 pixels\n",
      "Aperture correction: -0.029 +/- 0.014 [ mag ]\n"
     ]
    },
    {
     "name": "stdout",
     "output_type": "stream",
     "text": [
      "\n",
      "+---------------------------------------------+\n",
      "|Searching for catalog for target_ra_357_dec_8|\n",
      "+---------------------------------------------+\n",
      "\n"
     ]
    },
    {
     "name": "stderr",
     "output_type": "stream",
     "text": [
      "WARNING: FITSFixedWarning: 'datfix' made the change 'Invalid parameter values: MJD-OBS and DATE-OBS are inconsistent.\n",
      "Changed DATE-OBS from '2022-12-13        ' to '2022-12-13T00:00:00.0''. [astropy.wcs.wcs]\n",
      "FITSFixedWarning: 'datfix' made the change 'Invalid parameter values: MJD-OBS and DATE-OBS are inconsistent.\n",
      "Changed DATE-OBS from '2022-12-13        ' to '2022-12-13T00:00:00.0''.\n",
      "Catalog found for target_ra_357_dec_8\n",
      "Catalog: SDSS \n",
      "File: target_ra_357_dec_8_r_0.25\n",
      "Catalog length: 330\n",
      "Removed 186 sources fainter than cutoff [20 mag]\n",
      "Using Gaussian Profile for fitting\n",
      "Catalog Length: 15\n"
     ]
    },
    {
     "name": "stdout",
     "output_type": "stream",
     "text": [
      "\n",
      "+---------------------------------+\n",
      "|Matching catalog sources to image|\n",
      "+---------------------------------+\n",
      "\n",
      "Removed 1 sources too close to target\n",
      "Removed 38 sources too close to boundary or off image\n",
      "Matching catalog to image: 10 / 15 :: Useful sources 6 / 15 "
     ]
    },
    {
     "name": "stderr",
     "output_type": "stream",
     "text": [
      "\n",
      "Median offset: 9.4 [ pixels ] / 3.1 [ arcsec ]\n",
      "Residual table updated: 1 / 10 \n",
      "\tSNR: 664 :: FWHM fitted 4.949\n",
      "Residual table updated: 2 / 10 \n",
      "\tSNR: 536 :: FWHM fitted 4.896\n"
     ]
    },
    {
     "name": "stdout",
     "output_type": "stream",
     "text": [
      "\r",
      "Matching catalog to image: 11 / 15 :: Useful sources 7 / 15 \r",
      "Matching catalog to image: 12 / 15 :: Useful sources 8 / 15 \r",
      "Matching catalog to image: 13 / 15 :: Useful sources 8 / 15 \r",
      "Matching catalog to image: 14 / 15 :: Useful sources 8 / 15 \r",
      "Matching catalog to image: 15 / 15 :: Useful sources 9 / 15   .. done\n",
      "\n",
      "Broken cutouts: 0\n",
      "Not in correct location: 0\n",
      "Not detected: 7\n",
      "Saturated: 0\n",
      "Error: 0\n",
      "\n",
      "\n",
      "+-------------------------------------------+\n",
      "|Building PSF model using stars in the field|\n",
      "+-------------------------------------------+\n",
      "\n"
     ]
    },
    {
     "name": "stderr",
     "output_type": "stream",
     "text": [
      "Residual table updated: 3 / 10 \n",
      "\tSNR: 520 :: FWHM fitted 4.487\n",
      "Residual table updated: 4 / 10 \n",
      "\tSNR: 433 :: FWHM fitted 4.419\n",
      "Residual table updated: 5 / 10 \n",
      "\tSNR: 434 :: FWHM fitted 4.839\n",
      "Residual table updated: 6 / 10 \n",
      "\tSNR: 416 :: FWHM fitted 4.957\n",
      "Residual table updated: 7 / 10 \n",
      "\tSNR: 385 :: FWHM fitted 4.995\n",
      "Residual table updated: 8 / 10 \n",
      "\tSNR: 377 :: FWHM fitted 5.059\n",
      "Residual table updated: 9 / 10 \n",
      "\tSNR: 373 :: FWHM fitted 4.848\n",
      "Residual table updated: 10 / 10 \n",
      "\tSNR: 371 :: FWHM fitted 4.690\n",
      "\n",
      "PSF built using 10 sources\n",
      "\n",
      "Unity PSF: 27.3 [counts] \n",
      "Unity Residual table: 1.2 [counts] \n",
      "Using PSF Photometry on Sequence Stars\n",
      "Approx PSF mag -11.121 mag\n"
     ]
    },
    {
     "name": "stdout",
     "output_type": "stream",
     "text": [
      "PSF model saved as: /Users/terwelj/Documents/VirtualMachine/Observing_ING/autophot/test_REDUCED/r1645959redCCD4/PSF_model_r1645959redCCD4_APT.fits\n",
      "\n",
      "+-------------------+\n",
      "|Measuring PSF model|\n",
      "+-------------------+\n",
      "\n",
      "\n",
      "+-----------------------------------+\n",
      "|Fitting PSF to sources in the image|\n",
      "+-----------------------------------+\n",
      "\n",
      "Fitting PSF to source: 8 / 8 "
     ]
    },
    {
     "name": "stderr",
     "output_type": "stream",
     "text": [
      "WARNING: Input data contains invalid values (NaNs or infs), which were automatically clipped. [astropy.stats.sigma_clipping]\n",
      "Input data contains invalid values (NaNs or infs), which were automatically clipped.\n",
      "\n",
      "Mean i-band zeropoint: 25.590 +/- 0.039 \n",
      "\n"
     ]
    },
    {
     "name": "stdout",
     "output_type": "stream",
     "text": [
      "\n",
      "+-----------------------+\n",
      "|Finding Zeropoint value|\n",
      "+-----------------------+\n",
      "\n",
      "Checking for suitable catalog sources\n",
      "Removed 3 sources lower than SNR of 25.0\n"
     ]
    },
    {
     "name": "stderr",
     "output_type": "stream",
     "text": [
      "/opt/anaconda3/envs/autophot/lib/python3.7/site-packages/matplotlib/backends/backend_pdf.py:1649: DeprecationWarning: NONE is deprecated and will be removed in Pillow 10 (2023-07-01). Use Resampling.NEAREST or Dither.NONE instead.\n",
      "  img = img.convert(mode='P', dither=Image.NONE,\n",
      "/opt/anaconda3/envs/autophot/lib/python3.7/site-packages/matplotlib/backends/backend_pdf.py:1650: DeprecationWarning: ADAPTIVE is deprecated and will be removed in Pillow 10 (2023-07-01). Use Palette.ADAPTIVE instead.\n",
      "  palette=Image.ADAPTIVE, colors=num_colors)\n",
      "Target photometry on original image\n"
     ]
    },
    {
     "name": "stdout",
     "output_type": "stream",
     "text": [
      "\n",
      "+-----------------------------------------------+\n",
      "|Performing PSF photometry on at target location|\n",
      "+-----------------------------------------------+\n",
      "\n"
     ]
    },
    {
     "name": "stderr",
     "output_type": "stream",
     "text": [
      "/opt/anaconda3/envs/autophot/lib/python3.7/site-packages/matplotlib/backends/backend_pdf.py:1649: DeprecationWarning: NONE is deprecated and will be removed in Pillow 10 (2023-07-01). Use Resampling.NEAREST or Dither.NONE instead.\n",
      "  img = img.convert(mode='P', dither=Image.NONE,\n",
      "/opt/anaconda3/envs/autophot/lib/python3.7/site-packages/matplotlib/backends/backend_pdf.py:1650: DeprecationWarning: ADAPTIVE is deprecated and will be removed in Pillow 10 (2023-07-01). Use Palette.ADAPTIVE instead.\n",
      "  palette=Image.ADAPTIVE, colors=num_colors)\n",
      "Approximate Target SNR: 26.3\n",
      "SNR = 26 - skipping limiting magnitude\n",
      "Pixel Offset: 1.929\n",
      "Limiting Magnitude: skipped\n",
      "Target Detection probability: 99 %\n",
      "Target flux: 515.570 +/- 18.561 [counts/s]\n",
      "Noise: 384.492 [counts/s]\n",
      "Target SNR: 26.265 +/- 0.041\n",
      "Instrumental Magnitude: -6.781 +/- 0.047\n",
      "Zeropoint: 25.590 +/- 0.039\n",
      "Target Magnitude: 18.809 +/- 0.096 \n",
      "\n",
      "*** Transient well detected ***\n",
      "\n",
      "Time Taken [ 9729 ]: 23s\n",
      "Sucess: r1645959redCCD4_APT.fits :: PID 9729 \n",
      "\n"
     ]
    },
    {
     "name": "stdout",
     "output_type": "stream",
     "text": [
      "Error from multlocation [10] recovery: 0.028 [mag]\n",
      "\n",
      "---\n",
      "\n",
      "Files that failed : []\n",
      "\n",
      "DONE\n",
      "\n",
      "Done - Time Taken: 74.4\n"
     ]
    }
   ],
   "source": [
    "# Import automated photometry script and pass input dictionary\n",
    "from autophot.autophot_main import run_automatic_autophot\n",
    "\n",
    "run_automatic_autophot(autophot_input)"
   ]
  },
  {
   "cell_type": "code",
   "execution_count": 19,
   "id": "41ad60ef",
   "metadata": {},
   "outputs": [
    {
     "data": {
      "text/html": [
       "<div>\n",
       "<style scoped>\n",
       "    .dataframe tbody tr th:only-of-type {\n",
       "        vertical-align: middle;\n",
       "    }\n",
       "\n",
       "    .dataframe tbody tr th {\n",
       "        vertical-align: top;\n",
       "    }\n",
       "\n",
       "    .dataframe thead th {\n",
       "        text-align: right;\n",
       "    }\n",
       "</style>\n",
       "<table border=\"1\" class=\"dataframe\">\n",
       "  <thead>\n",
       "    <tr style=\"text-align: right;\">\n",
       "      <th></th>\n",
       "      <th>fname</th>\n",
       "      <th>telescope</th>\n",
       "      <th>TELESCOP</th>\n",
       "      <th>INSTRUME</th>\n",
       "      <th>instrument</th>\n",
       "      <th>mjd</th>\n",
       "      <th>lmag_prob</th>\n",
       "      <th>lmag_inject</th>\n",
       "      <th>method</th>\n",
       "      <th>subtraction</th>\n",
       "      <th>...</th>\n",
       "      <th>zp_g</th>\n",
       "      <th>zp_g_err</th>\n",
       "      <th>g</th>\n",
       "      <th>g_err</th>\n",
       "      <th>i_inst</th>\n",
       "      <th>i_inst_err</th>\n",
       "      <th>zp_i</th>\n",
       "      <th>zp_i_err</th>\n",
       "      <th>i</th>\n",
       "      <th>i_err</th>\n",
       "    </tr>\n",
       "  </thead>\n",
       "  <tbody>\n",
       "    <tr>\n",
       "      <th>0</th>\n",
       "      <td>/Users/terwelj/Documents/VirtualMachine/Observ...</td>\n",
       "      <td>INT+WFC</td>\n",
       "      <td>INT</td>\n",
       "      <td>INSTRUME</td>\n",
       "      <td>WFC</td>\n",
       "      <td>59926.949356</td>\n",
       "      <td>NaN</td>\n",
       "      <td>NaN</td>\n",
       "      <td>psf</td>\n",
       "      <td>False</td>\n",
       "      <td>...</td>\n",
       "      <td>NaN</td>\n",
       "      <td>NaN</td>\n",
       "      <td>NaN</td>\n",
       "      <td>NaN</td>\n",
       "      <td>NaN</td>\n",
       "      <td>NaN</td>\n",
       "      <td>NaN</td>\n",
       "      <td>NaN</td>\n",
       "      <td>NaN</td>\n",
       "      <td>NaN</td>\n",
       "    </tr>\n",
       "    <tr>\n",
       "      <th>1</th>\n",
       "      <td>/Users/terwelj/Documents/VirtualMachine/Observ...</td>\n",
       "      <td>INT+WFC</td>\n",
       "      <td>INT</td>\n",
       "      <td>INSTRUME</td>\n",
       "      <td>WFC</td>\n",
       "      <td>59926.951185</td>\n",
       "      <td>NaN</td>\n",
       "      <td>NaN</td>\n",
       "      <td>psf</td>\n",
       "      <td>False</td>\n",
       "      <td>...</td>\n",
       "      <td>26.427640</td>\n",
       "      <td>0.341543</td>\n",
       "      <td>[19.64758017]</td>\n",
       "      <td>0.350533</td>\n",
       "      <td>NaN</td>\n",
       "      <td>NaN</td>\n",
       "      <td>NaN</td>\n",
       "      <td>NaN</td>\n",
       "      <td>NaN</td>\n",
       "      <td>NaN</td>\n",
       "    </tr>\n",
       "    <tr>\n",
       "      <th>2</th>\n",
       "      <td>/Users/terwelj/Documents/VirtualMachine/Observ...</td>\n",
       "      <td>INT+WFC</td>\n",
       "      <td>INT</td>\n",
       "      <td>INSTRUME</td>\n",
       "      <td>WFC</td>\n",
       "      <td>59926.952585</td>\n",
       "      <td>NaN</td>\n",
       "      <td>NaN</td>\n",
       "      <td>psf</td>\n",
       "      <td>False</td>\n",
       "      <td>...</td>\n",
       "      <td>NaN</td>\n",
       "      <td>NaN</td>\n",
       "      <td>NaN</td>\n",
       "      <td>NaN</td>\n",
       "      <td>[-6.78160429]</td>\n",
       "      <td>0.084765</td>\n",
       "      <td>25.590769</td>\n",
       "      <td>0.039421</td>\n",
       "      <td>[18.80916461]</td>\n",
       "      <td>0.093484</td>\n",
       "    </tr>\n",
       "    <tr>\n",
       "      <th>3</th>\n",
       "      <td>/Users/terwelj/Documents/VirtualMachine/Observ...</td>\n",
       "      <td>INT+WFC</td>\n",
       "      <td>INT</td>\n",
       "      <td>INSTRUME</td>\n",
       "      <td>WFC</td>\n",
       "      <td>59926.949356</td>\n",
       "      <td>NaN</td>\n",
       "      <td>NaN</td>\n",
       "      <td>psf</td>\n",
       "      <td>False</td>\n",
       "      <td>...</td>\n",
       "      <td>NaN</td>\n",
       "      <td>NaN</td>\n",
       "      <td>NaN</td>\n",
       "      <td>NaN</td>\n",
       "      <td>NaN</td>\n",
       "      <td>NaN</td>\n",
       "      <td>NaN</td>\n",
       "      <td>NaN</td>\n",
       "      <td>NaN</td>\n",
       "      <td>NaN</td>\n",
       "    </tr>\n",
       "    <tr>\n",
       "      <th>4</th>\n",
       "      <td>/Users/terwelj/Documents/VirtualMachine/Observ...</td>\n",
       "      <td>INT+WFC</td>\n",
       "      <td>INT</td>\n",
       "      <td>INSTRUME</td>\n",
       "      <td>WFC</td>\n",
       "      <td>59926.951185</td>\n",
       "      <td>NaN</td>\n",
       "      <td>NaN</td>\n",
       "      <td>psf</td>\n",
       "      <td>False</td>\n",
       "      <td>...</td>\n",
       "      <td>26.428504</td>\n",
       "      <td>0.342072</td>\n",
       "      <td>[19.64322743]</td>\n",
       "      <td>0.351103</td>\n",
       "      <td>NaN</td>\n",
       "      <td>NaN</td>\n",
       "      <td>NaN</td>\n",
       "      <td>NaN</td>\n",
       "      <td>NaN</td>\n",
       "      <td>NaN</td>\n",
       "    </tr>\n",
       "    <tr>\n",
       "      <th>5</th>\n",
       "      <td>/Users/terwelj/Documents/VirtualMachine/Observ...</td>\n",
       "      <td>INT+WFC</td>\n",
       "      <td>INT</td>\n",
       "      <td>INSTRUME</td>\n",
       "      <td>WFC</td>\n",
       "      <td>59926.952585</td>\n",
       "      <td>NaN</td>\n",
       "      <td>NaN</td>\n",
       "      <td>psf</td>\n",
       "      <td>False</td>\n",
       "      <td>...</td>\n",
       "      <td>NaN</td>\n",
       "      <td>NaN</td>\n",
       "      <td>NaN</td>\n",
       "      <td>NaN</td>\n",
       "      <td>[-6.78071914]</td>\n",
       "      <td>0.087862</td>\n",
       "      <td>25.590198</td>\n",
       "      <td>0.039426</td>\n",
       "      <td>[18.80947878]</td>\n",
       "      <td>0.096302</td>\n",
       "    </tr>\n",
       "  </tbody>\n",
       "</table>\n",
       "<p>6 rows × 40 columns</p>\n",
       "</div>"
      ],
      "text/plain": [
       "                                               fname telescope TELESCOP  \\\n",
       "0  /Users/terwelj/Documents/VirtualMachine/Observ...   INT+WFC      INT   \n",
       "1  /Users/terwelj/Documents/VirtualMachine/Observ...   INT+WFC      INT   \n",
       "2  /Users/terwelj/Documents/VirtualMachine/Observ...   INT+WFC      INT   \n",
       "3  /Users/terwelj/Documents/VirtualMachine/Observ...   INT+WFC      INT   \n",
       "4  /Users/terwelj/Documents/VirtualMachine/Observ...   INT+WFC      INT   \n",
       "5  /Users/terwelj/Documents/VirtualMachine/Observ...   INT+WFC      INT   \n",
       "\n",
       "   INSTRUME instrument           mjd  lmag_prob  lmag_inject method  \\\n",
       "0  INSTRUME        WFC  59926.949356        NaN          NaN    psf   \n",
       "1  INSTRUME        WFC  59926.951185        NaN          NaN    psf   \n",
       "2  INSTRUME        WFC  59926.952585        NaN          NaN    psf   \n",
       "3  INSTRUME        WFC  59926.949356        NaN          NaN    psf   \n",
       "4  INSTRUME        WFC  59926.951185        NaN          NaN    psf   \n",
       "5  INSTRUME        WFC  59926.952585        NaN          NaN    psf   \n",
       "\n",
       "   subtraction  ...       zp_g  zp_g_err              g     g_err  \\\n",
       "0        False  ...        NaN       NaN            NaN       NaN   \n",
       "1        False  ...  26.427640  0.341543  [19.64758017]  0.350533   \n",
       "2        False  ...        NaN       NaN            NaN       NaN   \n",
       "3        False  ...        NaN       NaN            NaN       NaN   \n",
       "4        False  ...  26.428504  0.342072  [19.64322743]  0.351103   \n",
       "5        False  ...        NaN       NaN            NaN       NaN   \n",
       "\n",
       "          i_inst  i_inst_err       zp_i  zp_i_err              i     i_err  \n",
       "0            NaN         NaN        NaN       NaN            NaN       NaN  \n",
       "1            NaN         NaN        NaN       NaN            NaN       NaN  \n",
       "2  [-6.78160429]    0.084765  25.590769  0.039421  [18.80916461]  0.093484  \n",
       "3            NaN         NaN        NaN       NaN            NaN       NaN  \n",
       "4            NaN         NaN        NaN       NaN            NaN       NaN  \n",
       "5  [-6.78071914]    0.087862  25.590198  0.039426  [18.80947878]  0.096302  \n",
       "\n",
       "[6 rows x 40 columns]"
      ]
     },
     "execution_count": 19,
     "metadata": {},
     "output_type": "execute_result"
    }
   ],
   "source": [
    "#Show the results\n",
    "import pandas as pd\n",
    "result = pd.read_csv(dirpath+'/test_REDUCED/REDUCED.csv')\n",
    "result"
   ]
  },
  {
   "cell_type": "code",
   "execution_count": 11,
   "id": "2b681fea",
   "metadata": {},
   "outputs": [
    {
     "data": {
      "text/plain": [
       "Index(['fname', 'telescope', 'TELESCOP', 'INSTRUME', 'instrument', 'mjd',\n",
       "       'lmag_prob', 'lmag_inject', 'method', 'subtraction', 'xpix', 'ypix',\n",
       "       'r_inst', 'r_inst_err', 'zp_r', 'zp_r_err', 'r', 'r_err', 'SNR', 'time',\n",
       "       'fwhm', 'fwhm_err', 'target_fwhm', 'beta', 'pixel_offset',\n",
       "       'aperature_correction', 'aperature_correction_err', 'time_taken',\n",
       "       'g_inst', 'g_inst_err', 'zp_g', 'zp_g_err', 'g', 'g_err', 'i_inst',\n",
       "       'i_inst_err', 'zp_i', 'zp_i_err', 'i', 'i_err'],\n",
       "      dtype='object')"
      ]
     },
     "execution_count": 11,
     "metadata": {},
     "output_type": "execute_result"
    }
   ],
   "source": [
    "result.columns"
   ]
  },
  {
   "cell_type": "code",
   "execution_count": 20,
   "id": "4e2e818f",
   "metadata": {},
   "outputs": [
    {
     "data": {
      "text/plain": [
       "0              NaN\n",
       "1    [19.64758017]\n",
       "2              NaN\n",
       "3              NaN\n",
       "4    [19.64322743]\n",
       "5              NaN\n",
       "Name: g, dtype: object"
      ]
     },
     "execution_count": 20,
     "metadata": {},
     "output_type": "execute_result"
    }
   ],
   "source": [
    "result.g"
   ]
  },
  {
   "cell_type": "code",
   "execution_count": 21,
   "id": "dbda022c",
   "metadata": {},
   "outputs": [
    {
     "data": {
      "text/plain": [
       "0         NaN\n",
       "1    0.350533\n",
       "2         NaN\n",
       "3         NaN\n",
       "4    0.351103\n",
       "5         NaN\n",
       "Name: g_err, dtype: float64"
      ]
     },
     "execution_count": 21,
     "metadata": {},
     "output_type": "execute_result"
    }
   ],
   "source": [
    "result.g_err"
   ]
  },
  {
   "cell_type": "code",
   "execution_count": 22,
   "id": "5c5d37b2",
   "metadata": {},
   "outputs": [
    {
     "data": {
      "text/plain": [
       "0    [18.91601729]\n",
       "1              NaN\n",
       "2              NaN\n",
       "3    [18.91637423]\n",
       "4              NaN\n",
       "5              NaN\n",
       "Name: r, dtype: object"
      ]
     },
     "execution_count": 22,
     "metadata": {},
     "output_type": "execute_result"
    }
   ],
   "source": [
    "result.r"
   ]
  },
  {
   "cell_type": "code",
   "execution_count": 23,
   "id": "b4eebd86",
   "metadata": {},
   "outputs": [
    {
     "data": {
      "text/plain": [
       "0    0.084123\n",
       "1         NaN\n",
       "2         NaN\n",
       "3    0.095545\n",
       "4         NaN\n",
       "5         NaN\n",
       "Name: r_err, dtype: float64"
      ]
     },
     "execution_count": 23,
     "metadata": {},
     "output_type": "execute_result"
    }
   ],
   "source": [
    "result.r_err"
   ]
  },
  {
   "cell_type": "code",
   "execution_count": 24,
   "id": "126f4431",
   "metadata": {},
   "outputs": [
    {
     "data": {
      "text/plain": [
       "0              NaN\n",
       "1              NaN\n",
       "2    [18.80916461]\n",
       "3              NaN\n",
       "4              NaN\n",
       "5    [18.80947878]\n",
       "Name: i, dtype: object"
      ]
     },
     "execution_count": 24,
     "metadata": {},
     "output_type": "execute_result"
    }
   ],
   "source": [
    "result.i"
   ]
  },
  {
   "cell_type": "code",
   "execution_count": 25,
   "id": "9d900326",
   "metadata": {},
   "outputs": [
    {
     "data": {
      "text/plain": [
       "0         NaN\n",
       "1         NaN\n",
       "2    0.093484\n",
       "3         NaN\n",
       "4         NaN\n",
       "5    0.096302\n",
       "Name: i_err, dtype: float64"
      ]
     },
     "execution_count": 25,
     "metadata": {},
     "output_type": "execute_result"
    }
   ],
   "source": [
    "result.i_err"
   ]
  },
  {
   "cell_type": "code",
   "execution_count": 26,
   "id": "d9b2918f",
   "metadata": {},
   "outputs": [
    {
     "data": {
      "text/plain": [
       "0    31.350997\n",
       "1    33.409868\n",
       "2    26.226401\n",
       "3    31.665959\n",
       "4    33.502522\n",
       "5    26.264825\n",
       "Name: SNR, dtype: float64"
      ]
     },
     "execution_count": 26,
     "metadata": {},
     "output_type": "execute_result"
    }
   ],
   "source": [
    "result.SNR"
   ]
  },
  {
   "cell_type": "code",
   "execution_count": 27,
   "id": "d510d950",
   "metadata": {},
   "outputs": [
    {
     "name": "stderr",
     "output_type": "stream",
     "text": [
      "\n",
      "User instrument database: /Users/terwelj/Documents/VirtualMachine/Observing_ING/autophot/telescope.yml\n",
      "\n",
      "Number of files: 3\n",
      "\n",
      "1 telescope(s) detected - checking header keywords\n",
      "\n"
     ]
    },
    {
     "name": "stdout",
     "output_type": "stream",
     "text": [
      "\n",
      "        _       _       ___ _  _    _____\n",
      "       /_\\ _  _| |_ ___| _ \\ || |__|_   _|\n",
      "      / _ \\ || |  _/ _ \\  _/ __ / _ \\| |\n",
      "     /_/ \\_\\_,_|\\__\\___/_| |_||_\\___/|_|\n",
      "    \n",
      "     ---------------------------------------\n",
      "        Automated Photometry of Transients\n",
      "        S. J. Brennan et al. 2021 \n",
      "        Please provide feedback/bugs to:\n",
      "        Email: sean.brennan2@ucdconnect.ie\n",
      "    ---------------------------------------\n",
      "Directory of fits file: /Users/terwelj/Documents/VirtualMachine/Observing_ING/autophot/test/at2022acuo\n",
      "Found Telescopes:\n",
      "\n",
      " - INT\n",
      "\n",
      "-> Telescope check complete\n",
      "\n",
      "Checking Filter keywords and database\n",
      "\n",
      "-> Filter check complete\n",
      "\n",
      "Checking Filter information for each image\n"
     ]
    },
    {
     "name": "stderr",
     "output_type": "stream",
     "text": [
      "File: r1645960redCCD4_APT.fits - PID: 9729\n",
      "Start Time: 2022-12-16 11:33:55.656137\n",
      "Filter keyoward used: WFFBAND\n",
      "Telescope: INT\n",
      "Filter: i\n",
      "MJD: 59926.954\n",
      "Date of Observation : 2022-12-13\n",
      "Read Noise: 5.8 [e^- /pixel]\n",
      "GAIN: 2.9 [e^- /count]\n",
      "Exposure time: 20 [s] \n",
      "Detecting/removing cosmic ray sources\n"
     ]
    },
    {
     "name": "stdout",
     "output_type": "stream",
     "text": [
      "\n",
      "Files removed - Wrong Image Type: 0\n",
      "\n",
      "Files removed - No/Wrong filter(s): 0\n",
      "Filters not included: []\n",
      "\n",
      "\n",
      "Files removed: 0\n",
      "\n",
      "+-----------+\n",
      "|File: 1 / 3|\n",
      "+-----------+\n",
      "\n",
      "Starting Astroscrappy ... "
     ]
    },
    {
     "name": "stderr",
     "output_type": "stream",
     "text": [
      "Contaminated pixels with Cosmic rays removed: 27859\n",
      "Cosmic rays removed - image updated\n",
      "WARNING: FITSFixedWarning: RADECSYS= 'FK5 ' / mean place new (after the 1976 IAU) system \n",
      "the RADECSYS keyword is deprecated, use RADESYSa. [astropy.wcs.wcs]\n",
      "FITSFixedWarning: RADECSYS= 'FK5 ' / mean place new (after the 1976 IAU) system \n",
      "the RADECSYS keyword is deprecated, use RADESYSa.\n",
      "WARNING: FITSFixedWarning: PROJP1 = 1.00000000 / Projection coefficient for primary WCS \n",
      "the PROJPn keyword is deprecated, use PVi_ma. [astropy.wcs.wcs]\n",
      "FITSFixedWarning: PROJP1 = 1.00000000 / Projection coefficient for primary WCS \n",
      "the PROJPn keyword is deprecated, use PVi_ma.\n",
      "WARNING: FITSFixedWarning: PROJP3 = 0.00000000 / Projection coefficient for primary WCS \n",
      "the PROJPn keyword is deprecated, use PVi_ma. [astropy.wcs.wcs]\n",
      "FITSFixedWarning: PROJP3 = 0.00000000 / Projection coefficient for primary WCS \n",
      "the PROJPn keyword is deprecated, use PVi_ma.\n",
      "WARNING: FITSFixedWarning: 'datfix' made the change 'Invalid parameter values: MJD-OBS and DATE-OBS are inconsistent.\n",
      "Changed DATE-OBS from '2022-12-13        ' to '2022-12-13T00:00:00.0''. [astropy.wcs.wcs]\n",
      "FITSFixedWarning: 'datfix' made the change 'Invalid parameter values: MJD-OBS and DATE-OBS are inconsistent.\n",
      "Changed DATE-OBS from '2022-12-13        ' to '2022-12-13T00:00:00.0''.\n",
      "\n",
      "Performing Astrometry.net\n",
      "Removing any pre-existing WCS keys \n",
      "No WCS values found - attempting to solve field\n",
      "ASTROMETRY started...\n",
      "ASTROMETRY finished: 5s\n",
      "Updating WCS keys with new values\n",
      "WCS saved to new file\n",
      "\n",
      "Searching for FWHM\n",
      "Using Gaussian Profile for fitting\n"
     ]
    },
    {
     "name": "stdout",
     "output_type": "stream",
     "text": [
      "\n",
      "+-------------------------------+\n",
      "|Finding Full Width Half Maximum|\n",
      "+-------------------------------+\n",
      "\n"
     ]
    },
    {
     "name": "stderr",
     "output_type": "stream",
     "text": [
      "\n",
      "Number of sources before cleaning [ 25.0 sigma ]: 25 \n",
      "Updating search FWHM value\n"
     ]
    },
    {
     "name": "stdout",
     "output_type": "stream",
     "text": [
      "Updated guess for FWHM: 5.8 pixels \n"
     ]
    },
    {
     "name": "stderr",
     "output_type": "stream",
     "text": [
      "\n",
      "Number of sources before cleaning [ 25.0 sigma ]: 118 \n",
      "Removed 5 sources near boundary\n",
      "Removed 5 crowded sources\n"
     ]
    },
    {
     "name": "stdout",
     "output_type": "stream",
     "text": [
      "Fitting source for FWHM: 108/108    "
     ]
    },
    {
     "name": "stderr",
     "output_type": "stream",
     "text": [
      "Removed 2 saturated sources\n",
      "WARNING: Input data contains invalid values (NaNs or infs), which were automatically clipped. [astropy.stats.sigma_clipping]\n",
      "Input data contains invalid values (NaNs or infs), which were automatically clipped.\n",
      "Removed 5 FWHM outliers\n",
      "WARNING: Input data contains invalid values (NaNs or infs), which were automatically clipped. [astropy.stats.sigma_clipping]\n",
      "Input data contains invalid values (NaNs or infs), which were automatically clipped.\n",
      "Removed 16 median outliers\n",
      "Useable sources found [ 25 sigma ]: 108\n",
      "Removes 2 sources within minimum seperation [ 28 pixel ]\n",
      "\n",
      "FWHM: 5.819 +/- 0.422 [ pixels ]\n",
      "\n",
      "Seeing: 1.929 [ arcsec ]\n",
      "Aperture size: 9.9 pixels\n",
      "Aperture correction: -0.054 +/- 0.021 [ mag ]\n",
      "WARNING: FITSFixedWarning: 'datfix' made the change 'Invalid parameter values: MJD-OBS and DATE-OBS are inconsistent.\n",
      "Changed DATE-OBS from '2022-12-13        ' to '2022-12-13T00:00:00.0''. [astropy.wcs.wcs]\n",
      "FITSFixedWarning: 'datfix' made the change 'Invalid parameter values: MJD-OBS and DATE-OBS are inconsistent.\n",
      "Changed DATE-OBS from '2022-12-13        ' to '2022-12-13T00:00:00.0''.\n",
      "Searching for new catalog [sdss] for target_ra_351_dec_21 \n"
     ]
    },
    {
     "name": "stdout",
     "output_type": "stream",
     "text": [
      "\n",
      "+----------------------------------------------+\n",
      "|Searching for catalog for target_ra_351_dec_21|\n",
      "+----------------------------------------------+\n",
      "\n"
     ]
    },
    {
     "name": "stderr",
     "output_type": "stream",
     "text": [
      "Catalog length: 33\n",
      "Removed 23 sources fainter than cutoff [20 mag]\n",
      "Using Gaussian Profile for fitting\n",
      "Catalog Length: 4\n",
      "\n",
      "Median offset: 2.2 [ pixels ] / 0.7 [ arcsec ]\n",
      "Residual table updated: 1 / 10 \n",
      "\tSNR: 798 :: FWHM fitted 5.737\n",
      "Residual table updated: 2 / 10 \n",
      "\tSNR: 771 :: FWHM fitted 5.854\n"
     ]
    },
    {
     "name": "stdout",
     "output_type": "stream",
     "text": [
      "\n",
      "+---------------------------------+\n",
      "|Matching catalog sources to image|\n",
      "+---------------------------------+\n",
      "\n",
      "Removed 6 sources too close to boundary or off image\n",
      "\r",
      "Matching catalog to image: 1 / 4 :: Useful sources 1 / 4 \r",
      "Matching catalog to image: 2 / 4 :: Useful sources 2 / 4 \r",
      "Matching catalog to image: 3 / 4 :: Useful sources 3 / 4 \r",
      "Matching catalog to image: 4 / 4 :: Useful sources 4 / 4   .. done\n",
      "\n",
      "Broken cutouts: 0\n",
      "Not in correct location: 0\n",
      "Not detected: 1\n",
      "Saturated: 0\n",
      "Error: 0\n",
      "\n",
      "\n",
      "+-------------------------------------------+\n",
      "|Building PSF model using stars in the field|\n",
      "+-------------------------------------------+\n",
      "\n"
     ]
    },
    {
     "name": "stderr",
     "output_type": "stream",
     "text": [
      "Residual table updated: 3 / 10 \n",
      "\tSNR: 758 :: FWHM fitted 5.706\n",
      "Residual table updated: 4 / 10 \n",
      "\tSNR: 707 :: FWHM fitted 6.024\n",
      "Residual table updated: 5 / 10 \n",
      "\tSNR: 697 :: FWHM fitted 5.711\n",
      "Residual table updated: 6 / 10 \n",
      "\tSNR: 695 :: FWHM fitted 5.844\n",
      "Residual table updated: 7 / 10 \n",
      "\tSNR: 696 :: FWHM fitted 6.073\n",
      "Residual table updated: 8 / 10 \n",
      "\tSNR: 695 :: FWHM fitted 5.988\n",
      "Residual table updated: 9 / 10 \n",
      "\tSNR: 692 :: FWHM fitted 5.728\n",
      "Residual table updated: 10 / 10 \n",
      "\tSNR: 627 :: FWHM fitted 5.801\n",
      "\n",
      "PSF built using 10 sources\n",
      "\n",
      "Unity PSF: 42.1 [counts] \n",
      "Unity Residual table: 4.5 [counts] \n",
      "Using PSF Photometry on Sequence Stars\n",
      "Approx PSF mag -11.536 mag\n"
     ]
    },
    {
     "name": "stdout",
     "output_type": "stream",
     "text": [
      "PSF model saved as: /Users/terwelj/Documents/VirtualMachine/Observing_ING/autophot/test/at2022acuo_REDUCED/r1645960redCCD4/PSF_model_r1645960redCCD4_APT.fits\n",
      "\n",
      "+-------------------+\n",
      "|Measuring PSF model|\n",
      "+-------------------+\n",
      "\n",
      "\n",
      "+-----------------------------------+\n",
      "|Fitting PSF to sources in the image|\n",
      "+-----------------------------------+\n",
      "\n",
      "\r",
      "Fitting PSF to source: 1 / 3 \r",
      "Fitting PSF to source: 2 / 3 \r",
      "Fitting PSF to source: 3 / 3 "
     ]
    },
    {
     "name": "stderr",
     "output_type": "stream",
     "text": [
      "NaN values detected in your input data or the output of your objective/model function - fitting algorithms cannot handle this! Please read https://lmfit.github.io/lmfit-py/faq.html#i-get-errors-from-nan-in-my-fit-what-can-i-do for more information.\n",
      "Traceback (most recent call last):\n",
      "  File \"/opt/anaconda3/envs/autophot/lib/python3.7/site-packages/autophot/packages/zeropoint.py\", line 228, in get_zeropoint\n",
      "    x=zp_inst_mag_clip)\n",
      "  File \"/opt/anaconda3/envs/autophot/lib/python3.7/site-packages/lmfit/model.py\", line 1050, in fit\n",
      "    output.fit(data=data, weights=weights)\n",
      "  File \"/opt/anaconda3/envs/autophot/lib/python3.7/site-packages/lmfit/model.py\", line 1405, in fit\n",
      "    _ret = self.minimize(method=self.method)\n",
      "  File \"/opt/anaconda3/envs/autophot/lib/python3.7/site-packages/lmfit/minimizer.py\", line 2352, in minimize\n",
      "    return function(**kwargs)\n",
      "  File \"/opt/anaconda3/envs/autophot/lib/python3.7/site-packages/lmfit/minimizer.py\", line 1689, in leastsq\n",
      "    lsout = scipy_leastsq(self.__residual, variables, **lskws)\n",
      "  File \"/opt/anaconda3/envs/autophot/lib/python3.7/site-packages/scipy/optimize/minpack.py\", line 410, in leastsq\n",
      "    shape, dtype = _check_func('leastsq', 'func', func, x0, args, n)\n",
      "  File \"/opt/anaconda3/envs/autophot/lib/python3.7/site-packages/scipy/optimize/minpack.py\", line 24, in _check_func\n",
      "    res = atleast_1d(thefunc(*((x0[:numinputs],) + args)))\n",
      "  File \"/opt/anaconda3/envs/autophot/lib/python3.7/site-packages/lmfit/minimizer.py\", line 602, in __residual\n",
      "    nan_policy=self.nan_policy)\n",
      "  File \"/opt/anaconda3/envs/autophot/lib/python3.7/site-packages/lmfit/minimizer.py\", line 2436, in _nan_policy\n",
      "    raise ValueError(msg)\n",
      "ValueError: NaN values detected in your input data or the output of your objective/model function - fitting algorithms cannot handle this! Please read https://lmfit.github.io/lmfit-py/faq.html#i-get-errors-from-nan-in-my-fit-what-can-i-do for more information.\n",
      "Zeropoint not Found\n"
     ]
    },
    {
     "name": "stdout",
     "output_type": "stream",
     "text": [
      "\n",
      "+-----------------------+\n",
      "|Finding Zeropoint value|\n",
      "+-----------------------+\n",
      "\n",
      "Checking for suitable catalog sources\n",
      "Removed 1 sources lower than SNR of 25.0\n"
     ]
    },
    {
     "name": "stderr",
     "output_type": "stream",
     "text": [
      "/opt/anaconda3/envs/autophot/lib/python3.7/site-packages/matplotlib/backends/backend_pdf.py:1649: DeprecationWarning: NONE is deprecated and will be removed in Pillow 10 (2023-07-01). Use Resampling.NEAREST or Dither.NONE instead.\n",
      "  img = img.convert(mode='P', dither=Image.NONE,\n",
      "/opt/anaconda3/envs/autophot/lib/python3.7/site-packages/matplotlib/backends/backend_pdf.py:1650: DeprecationWarning: ADAPTIVE is deprecated and will be removed in Pillow 10 (2023-07-01). Use Palette.ADAPTIVE instead.\n",
      "  palette=Image.ADAPTIVE, colors=num_colors)\n",
      "'i'\n",
      "Traceback (most recent call last):\n",
      "  File \"/opt/anaconda3/envs/autophot/lib/python3.7/site-packages/pandas/core/indexes/base.py\", line 3361, in get_loc\n",
      "    return self._engine.get_loc(casted_key)\n",
      "  File \"pandas/_libs/index.pyx\", line 76, in pandas._libs.index.IndexEngine.get_loc\n",
      "  File \"pandas/_libs/index.pyx\", line 108, in pandas._libs.index.IndexEngine.get_loc\n",
      "  File \"pandas/_libs/hashtable_class_helper.pxi\", line 5198, in pandas._libs.hashtable.PyObjectHashTable.get_item\n",
      "  File \"pandas/_libs/hashtable_class_helper.pxi\", line 5206, in pandas._libs.hashtable.PyObjectHashTable.get_item\n",
      "KeyError: 'i'\n",
      "\n",
      "The above exception was the direct cause of the following exception:\n",
      "\n",
      "Traceback (most recent call last):\n",
      "  File \"/opt/anaconda3/envs/autophot/lib/python3.7/site-packages/autophot/packages/main.py\", line 1696, in main\n",
      "    y =  c_mag_lim[str(use_filter)].values - c_mag_lim[str('cat_'+use_filter)].values\n",
      "  File \"/opt/anaconda3/envs/autophot/lib/python3.7/site-packages/pandas/core/frame.py\", line 3458, in __getitem__\n",
      "    indexer = self.columns.get_loc(key)\n",
      "  File \"/opt/anaconda3/envs/autophot/lib/python3.7/site-packages/pandas/core/indexes/base.py\", line 3363, in get_loc\n",
      "    raise KeyError(key) from err\n",
      "KeyError: 'i'\n",
      "Failure: r1645960redCCD4_APT.fits - PID: 9729\n",
      "File: r1645961redCCD4_APT.fits - PID: 9729\n",
      "Start Time: 2022-12-16 11:34:26.156701\n",
      "Filter keyoward used: WFFBAND\n",
      "Telescope: INT\n",
      "Filter: r\n",
      "MJD: 59926.955\n",
      "Date of Observation : 2022-12-13\n",
      "Read Noise: 5.8 [e^- /pixel]\n",
      "GAIN: 2.9 [e^- /count]\n",
      "Exposure time: 20 [s] \n",
      "Detecting/removing cosmic ray sources\n"
     ]
    },
    {
     "name": "stdout",
     "output_type": "stream",
     "text": [
      "\n",
      "+-----------+\n",
      "|File: 2 / 3|\n",
      "+-----------+\n",
      "\n",
      "Starting Astroscrappy ... "
     ]
    },
    {
     "name": "stderr",
     "output_type": "stream",
     "text": [
      "Contaminated pixels with Cosmic rays removed: 27852\n",
      "Cosmic rays removed - image updated\n",
      "WARNING: FITSFixedWarning: RADECSYS= 'FK5 ' / mean place new (after the 1976 IAU) system \n",
      "the RADECSYS keyword is deprecated, use RADESYSa. [astropy.wcs.wcs]\n",
      "FITSFixedWarning: RADECSYS= 'FK5 ' / mean place new (after the 1976 IAU) system \n",
      "the RADECSYS keyword is deprecated, use RADESYSa.\n",
      "WARNING: FITSFixedWarning: PROJP1 = 1.00000000 / Projection coefficient for primary WCS \n",
      "the PROJPn keyword is deprecated, use PVi_ma. [astropy.wcs.wcs]\n",
      "FITSFixedWarning: PROJP1 = 1.00000000 / Projection coefficient for primary WCS \n",
      "the PROJPn keyword is deprecated, use PVi_ma.\n",
      "WARNING: FITSFixedWarning: PROJP3 = 0.00000000 / Projection coefficient for primary WCS \n",
      "the PROJPn keyword is deprecated, use PVi_ma. [astropy.wcs.wcs]\n",
      "FITSFixedWarning: PROJP3 = 0.00000000 / Projection coefficient for primary WCS \n",
      "the PROJPn keyword is deprecated, use PVi_ma.\n",
      "WARNING: FITSFixedWarning: 'datfix' made the change 'Invalid parameter values: MJD-OBS and DATE-OBS are inconsistent.\n",
      "Changed DATE-OBS from '2022-12-13        ' to '2022-12-13T00:00:00.0''. [astropy.wcs.wcs]\n",
      "FITSFixedWarning: 'datfix' made the change 'Invalid parameter values: MJD-OBS and DATE-OBS are inconsistent.\n",
      "Changed DATE-OBS from '2022-12-13        ' to '2022-12-13T00:00:00.0''.\n",
      "\n",
      "Performing Astrometry.net\n",
      "Removing any pre-existing WCS keys \n",
      "No WCS values found - attempting to solve field\n",
      "ASTROMETRY started...\n",
      "ASTROMETRY finished: 3s\n",
      "Updating WCS keys with new values\n",
      "WCS saved to new file\n",
      "\n",
      "Searching for FWHM\n",
      "Using Gaussian Profile for fitting\n"
     ]
    },
    {
     "name": "stdout",
     "output_type": "stream",
     "text": [
      "\n",
      "+-------------------------------+\n",
      "|Finding Full Width Half Maximum|\n",
      "+-------------------------------+\n",
      "\n"
     ]
    },
    {
     "name": "stderr",
     "output_type": "stream",
     "text": [
      "\n",
      "Number of sources before cleaning [ 25.0 sigma ]: 25 \n",
      "Updating search FWHM value\n"
     ]
    },
    {
     "name": "stdout",
     "output_type": "stream",
     "text": [
      "Updated guess for FWHM: 7.1 pixels \n"
     ]
    },
    {
     "name": "stderr",
     "output_type": "stream",
     "text": [
      "\n",
      "Number of sources before cleaning [ 25.0 sigma ]: 120 \n",
      "Removed 4 sources near boundary\n",
      "Removed 4 crowded sources\n"
     ]
    },
    {
     "name": "stdout",
     "output_type": "stream",
     "text": [
      "Fitting source for FWHM: 112/112   "
     ]
    },
    {
     "name": "stderr",
     "output_type": "stream",
     "text": [
      "Removed 2 saturated sources\n",
      "WARNING: Input data contains invalid values (NaNs or infs), which were automatically clipped. [astropy.stats.sigma_clipping]\n",
      "Input data contains invalid values (NaNs or infs), which were automatically clipped.\n",
      "Removed 4 FWHM outliers\n",
      "WARNING: Input data contains invalid values (NaNs or infs), which were automatically clipped. [astropy.stats.sigma_clipping]\n",
      "Input data contains invalid values (NaNs or infs), which were automatically clipped.\n",
      "Removed 24 median outliers\n",
      "Useable sources found [ 25 sigma ]: 112\n",
      "Removes 2 sources within minimum seperation [ 32 pixel ]\n",
      "\n",
      "FWHM: 6.560 +/- 0.436 [ pixels ]\n",
      "\n",
      "Seeing: 2.175 [ arcsec ]\n",
      "Aperture size: 11.2 pixels\n",
      "Aperture correction: -0.037 +/- 0.014 [ mag ]\n",
      "WARNING: FITSFixedWarning: 'datfix' made the change 'Invalid parameter values: MJD-OBS and DATE-OBS are inconsistent.\n",
      "Changed DATE-OBS from '2022-12-13        ' to '2022-12-13T00:00:00.0''. [astropy.wcs.wcs]\n",
      "FITSFixedWarning: 'datfix' made the change 'Invalid parameter values: MJD-OBS and DATE-OBS are inconsistent.\n",
      "Changed DATE-OBS from '2022-12-13        ' to '2022-12-13T00:00:00.0''.\n",
      "Catalog found for target_ra_351_dec_21\n",
      "Catalog: SDSS \n",
      "File: target_ra_351_dec_21_r_0.25\n",
      "Catalog length: 33\n",
      "Removed 28 sources fainter than cutoff [20 mag]\n",
      "Using Gaussian Profile for fitting\n",
      "Catalog Length: 2\n",
      "\n",
      "Median offset: 1.7 [ pixels ] / 0.6 [ arcsec ]\n",
      "Residual table updated: 1 / 10 \n",
      "\tSNR: 806 :: FWHM fitted 7.150\n",
      "Residual table updated: 2 / 10 \n",
      "\tSNR: 735 :: FWHM fitted 6.673\n"
     ]
    },
    {
     "name": "stdout",
     "output_type": "stream",
     "text": [
      "\n",
      "+----------------------------------------------+\n",
      "|Searching for catalog for target_ra_351_dec_21|\n",
      "+----------------------------------------------+\n",
      "\n",
      "\n",
      "+---------------------------------+\n",
      "|Matching catalog sources to image|\n",
      "+---------------------------------+\n",
      "\n",
      "Removed 3 sources too close to boundary or off image\n",
      "\r",
      "Matching catalog to image: 1 / 2 :: Useful sources 1 / 2 \r",
      "Matching catalog to image: 2 / 2 :: Useful sources 2 / 2   .. done\n",
      "\n",
      "Broken cutouts: 0\n",
      "Not in correct location: 0\n",
      "Not detected: 0\n",
      "Saturated: 0\n",
      "Error: 0\n",
      "\n",
      "\n",
      "+-------------------------------------------+\n",
      "|Building PSF model using stars in the field|\n",
      "+-------------------------------------------+\n",
      "\n"
     ]
    },
    {
     "name": "stderr",
     "output_type": "stream",
     "text": [
      "Residual table updated: 3 / 10 \n",
      "\tSNR: 651 :: FWHM fitted 6.445\n",
      "Residual table updated: 4 / 10 \n",
      "\tSNR: 623 :: FWHM fitted 6.259\n",
      "Residual table updated: 5 / 10 \n",
      "\tSNR: 593 :: FWHM fitted 7.008\n",
      "Residual table updated: 6 / 10 \n",
      "\tSNR: 546 :: FWHM fitted 6.356\n",
      "Residual table updated: 7 / 10 \n",
      "\tSNR: 517 :: FWHM fitted 6.376\n",
      "Residual table updated: 8 / 10 \n",
      "\tSNR: 471 :: FWHM fitted 6.355\n",
      "Residual table updated: 9 / 10 \n",
      "\tSNR: 467 :: FWHM fitted 6.218\n",
      "Residual table updated: 10 / 10 \n",
      "\tSNR: 458 :: FWHM fitted 6.444\n",
      "\n",
      "PSF built using 10 sources\n",
      "\n",
      "Unity PSF: 51.1 [counts] \n",
      "Unity Residual table: 3.3 [counts] \n",
      "Using PSF Photometry on Sequence Stars\n",
      "Approx PSF mag -11.444 mag\n"
     ]
    },
    {
     "name": "stdout",
     "output_type": "stream",
     "text": [
      "PSF model saved as: /Users/terwelj/Documents/VirtualMachine/Observing_ING/autophot/test/at2022acuo_REDUCED/r1645961redCCD4/PSF_model_r1645961redCCD4_APT.fits\n",
      "\n",
      "+-------------------+\n",
      "|Measuring PSF model|\n",
      "+-------------------+\n",
      "\n",
      "\n",
      "+-----------------------------------+\n",
      "|Fitting PSF to sources in the image|\n",
      "+-----------------------------------+\n",
      "\n",
      "\r",
      "Fitting PSF to source: 1 / 2 \r",
      "Fitting PSF to source: 2 / 2 "
     ]
    },
    {
     "name": "stderr",
     "output_type": "stream",
     "text": [
      "\n",
      "Mean r-band zeropoint: 25.902 +/- 0.013 \n",
      "\n"
     ]
    },
    {
     "name": "stdout",
     "output_type": "stream",
     "text": [
      "\n",
      "+-----------------------+\n",
      "|Finding Zeropoint value|\n",
      "+-----------------------+\n",
      "\n",
      "Checking for suitable catalog sources\n",
      "Removed 2 sources lower than SNR of 25.0\n"
     ]
    },
    {
     "name": "stderr",
     "output_type": "stream",
     "text": [
      "/opt/anaconda3/envs/autophot/lib/python3.7/site-packages/matplotlib/backends/backend_pdf.py:1649: DeprecationWarning: NONE is deprecated and will be removed in Pillow 10 (2023-07-01). Use Resampling.NEAREST or Dither.NONE instead.\n",
      "  img = img.convert(mode='P', dither=Image.NONE,\n",
      "/opt/anaconda3/envs/autophot/lib/python3.7/site-packages/matplotlib/backends/backend_pdf.py:1650: DeprecationWarning: ADAPTIVE is deprecated and will be removed in Pillow 10 (2023-07-01). Use Palette.ADAPTIVE instead.\n",
      "  palette=Image.ADAPTIVE, colors=num_colors)\n",
      "Target photometry on original image\n"
     ]
    },
    {
     "name": "stdout",
     "output_type": "stream",
     "text": [
      "\n",
      "+-----------------------------------------------+\n",
      "|Performing PSF photometry on at target location|\n",
      "+-----------------------------------------------+\n",
      "\n"
     ]
    },
    {
     "name": "stderr",
     "output_type": "stream",
     "text": [
      "/opt/anaconda3/envs/autophot/lib/python3.7/site-packages/matplotlib/backends/backend_pdf.py:1649: DeprecationWarning: NONE is deprecated and will be removed in Pillow 10 (2023-07-01). Use Resampling.NEAREST or Dither.NONE instead.\n",
      "  img = img.convert(mode='P', dither=Image.NONE,\n",
      "/opt/anaconda3/envs/autophot/lib/python3.7/site-packages/matplotlib/backends/backend_pdf.py:1650: DeprecationWarning: ADAPTIVE is deprecated and will be removed in Pillow 10 (2023-07-01). Use Palette.ADAPTIVE instead.\n",
      "  palette=Image.ADAPTIVE, colors=num_colors)\n",
      "Approximate Target SNR: 11.4\n",
      "SNR = 11 - skipping limiting magnitude\n",
      "Pixel Offset: 1.755\n",
      "Limiting Magnitude: skipped\n",
      "Target Detection probability: 35 %\n",
      "Target flux: 252.683 +/- 16.638 [counts/s]\n",
      "Noise: 732.809 [counts/s]\n",
      "Target SNR: 11.373 +/- 0.092\n",
      "Instrumental Magnitude: -6.006 +/- 0.090\n",
      "Zeropoint: 25.902 +/- 0.013\n",
      "Target Magnitude: 19.896 +/- 0.182 \n",
      "\n",
      "*** Transient well detected ***\n",
      "\n",
      "Time Taken [ 9729 ]: 24s\n",
      "Sucess: r1645961redCCD4_APT.fits :: PID 9729 \n",
      "\n"
     ]
    },
    {
     "name": "stdout",
     "output_type": "stream",
     "text": [
      "Error from multlocation [10] recovery: 0.058 [mag]\n",
      "\n",
      "+-----------+\n",
      "|File: 3 / 3|\n",
      "+-----------+\n",
      "\n"
     ]
    },
    {
     "name": "stderr",
     "output_type": "stream",
     "text": [
      "File: r1645962redCCD4_APT.fits - PID: 9729\n",
      "Start Time: 2022-12-16 11:34:50.227096\n",
      "Filter keyoward used: WFFBAND\n",
      "Telescope: INT\n",
      "Filter: g\n",
      "MJD: 59926.956\n",
      "Date of Observation : 2022-12-13\n",
      "Read Noise: 5.8 [e^- /pixel]\n",
      "GAIN: 2.9 [e^- /count]\n",
      "Exposure time: 20 [s] \n",
      "Detecting/removing cosmic ray sources\n"
     ]
    },
    {
     "name": "stdout",
     "output_type": "stream",
     "text": [
      "Starting Astroscrappy ... "
     ]
    },
    {
     "name": "stderr",
     "output_type": "stream",
     "text": [
      "Contaminated pixels with Cosmic rays removed: 29755\n",
      "Cosmic rays removed - image updated\n",
      "WARNING: FITSFixedWarning: RADECSYS= 'FK5 ' / mean place new (after the 1976 IAU) system \n",
      "the RADECSYS keyword is deprecated, use RADESYSa. [astropy.wcs.wcs]\n",
      "FITSFixedWarning: RADECSYS= 'FK5 ' / mean place new (after the 1976 IAU) system \n",
      "the RADECSYS keyword is deprecated, use RADESYSa.\n",
      "WARNING: FITSFixedWarning: PROJP1 = 1.00000000 / Projection coefficient for primary WCS \n",
      "the PROJPn keyword is deprecated, use PVi_ma. [astropy.wcs.wcs]\n",
      "FITSFixedWarning: PROJP1 = 1.00000000 / Projection coefficient for primary WCS \n",
      "the PROJPn keyword is deprecated, use PVi_ma.\n",
      "WARNING: FITSFixedWarning: PROJP3 = 0.00000000 / Projection coefficient for primary WCS \n",
      "the PROJPn keyword is deprecated, use PVi_ma. [astropy.wcs.wcs]\n",
      "FITSFixedWarning: PROJP3 = 0.00000000 / Projection coefficient for primary WCS \n",
      "the PROJPn keyword is deprecated, use PVi_ma.\n",
      "WARNING: FITSFixedWarning: 'datfix' made the change 'Invalid parameter values: MJD-OBS and DATE-OBS are inconsistent.\n",
      "Changed DATE-OBS from '2022-12-13        ' to '2022-12-13T00:00:00.0''. [astropy.wcs.wcs]\n",
      "FITSFixedWarning: 'datfix' made the change 'Invalid parameter values: MJD-OBS and DATE-OBS are inconsistent.\n",
      "Changed DATE-OBS from '2022-12-13        ' to '2022-12-13T00:00:00.0''.\n",
      "\n",
      "Performing Astrometry.net\n",
      "Removing any pre-existing WCS keys \n",
      "No WCS values found - attempting to solve field\n",
      "ASTROMETRY started...\n",
      "ASTROMETRY finished: 3s\n",
      "Updating WCS keys with new values\n",
      "WCS saved to new file\n",
      "\n",
      "Searching for FWHM\n",
      "Using Gaussian Profile for fitting\n"
     ]
    },
    {
     "name": "stdout",
     "output_type": "stream",
     "text": [
      "\n",
      "+-------------------------------+\n",
      "|Finding Full Width Half Maximum|\n",
      "+-------------------------------+\n",
      "\n"
     ]
    },
    {
     "name": "stderr",
     "output_type": "stream",
     "text": [
      "\n",
      "Number of sources before cleaning [ 25.0 sigma ]: 25 \n",
      "Updating search FWHM value\n"
     ]
    },
    {
     "name": "stdout",
     "output_type": "stream",
     "text": [
      "Updated guess for FWHM: 6.1 pixels \n"
     ]
    },
    {
     "name": "stderr",
     "output_type": "stream",
     "text": [
      "\n",
      "Number of sources before cleaning [ 25.0 sigma ]: 120 \n",
      "Removed 5 sources near boundary\n",
      "Removed 5 crowded sources\n"
     ]
    },
    {
     "name": "stdout",
     "output_type": "stream",
     "text": [
      "Fitting source for FWHM: 110/110    "
     ]
    },
    {
     "name": "stderr",
     "output_type": "stream",
     "text": [
      "Removed 1 saturated sources\n",
      "WARNING: Input data contains invalid values (NaNs or infs), which were automatically clipped. [astropy.stats.sigma_clipping]\n",
      "Input data contains invalid values (NaNs or infs), which were automatically clipped.\n",
      "Removed 2 FWHM outliers\n",
      "WARNING: Input data contains invalid values (NaNs or infs), which were automatically clipped. [astropy.stats.sigma_clipping]\n",
      "Input data contains invalid values (NaNs or infs), which were automatically clipped.\n",
      "Removed 20 median outliers\n",
      "Useable sources found [ 25 sigma ]: 110\n",
      "Removes 2 sources within minimum seperation [ 27 pixel ]\n",
      "\n",
      "FWHM: 5.620 +/- 0.437 [ pixels ]\n",
      "\n",
      "Seeing: 1.862 [ arcsec ]\n",
      "Aperture size: 9.6 pixels\n",
      "Aperture correction: -0.032 +/- 0.011 [ mag ]\n",
      "WARNING: FITSFixedWarning: 'datfix' made the change 'Invalid parameter values: MJD-OBS and DATE-OBS are inconsistent.\n",
      "Changed DATE-OBS from '2022-12-13        ' to '2022-12-13T00:00:00.0''. [astropy.wcs.wcs]\n",
      "FITSFixedWarning: 'datfix' made the change 'Invalid parameter values: MJD-OBS and DATE-OBS are inconsistent.\n",
      "Changed DATE-OBS from '2022-12-13        ' to '2022-12-13T00:00:00.0''.\n",
      "Catalog found for target_ra_351_dec_21\n",
      "Catalog: SDSS \n",
      "File: target_ra_351_dec_21_r_0.25\n",
      "Catalog length: 33\n",
      "Removed 28 sources fainter than cutoff [20 mag]\n",
      "Using Gaussian Profile for fitting\n",
      "Catalog Length: 2\n",
      "\n",
      "Median offset: 3.7 [ pixels ] / 1.2 [ arcsec ]\n",
      "Residual table updated: 1 / 10 \n",
      "\tSNR: 748 :: FWHM fitted 6.141\n",
      "Residual table updated: 2 / 10 \n",
      "\tSNR: 615 :: FWHM fitted 6.000\n"
     ]
    },
    {
     "name": "stdout",
     "output_type": "stream",
     "text": [
      "\n",
      "+----------------------------------------------+\n",
      "|Searching for catalog for target_ra_351_dec_21|\n",
      "+----------------------------------------------+\n",
      "\n",
      "\n",
      "+---------------------------------+\n",
      "|Matching catalog sources to image|\n",
      "+---------------------------------+\n",
      "\n",
      "Removed 3 sources too close to boundary or off image\n",
      "\r",
      "Matching catalog to image: 1 / 2 :: Useful sources 1 / 2 \r",
      "Matching catalog to image: 2 / 2 :: Useful sources 2 / 2   .. done\n",
      "\n",
      "Broken cutouts: 0\n",
      "Not in correct location: 0\n",
      "Not detected: 0\n",
      "Saturated: 0\n",
      "Error: 0\n",
      "\n",
      "\n",
      "+-------------------------------------------+\n",
      "|Building PSF model using stars in the field|\n",
      "+-------------------------------------------+\n",
      "\n"
     ]
    },
    {
     "name": "stderr",
     "output_type": "stream",
     "text": [
      "Residual table updated: 3 / 10 \n",
      "\tSNR: 594 :: FWHM fitted 5.623\n",
      "Residual table updated: 4 / 10 \n",
      "\tSNR: 544 :: FWHM fitted 5.598\n",
      "Residual table updated: 5 / 10 \n",
      "\tSNR: 511 :: FWHM fitted 5.754\n",
      "Residual table updated: 6 / 10 \n",
      "\tSNR: 487 :: FWHM fitted 5.451\n",
      "Residual table updated: 7 / 10 \n",
      "\tSNR: 478 :: FWHM fitted 6.103\n",
      "Residual table updated: 8 / 10 \n",
      "\tSNR: 461 :: FWHM fitted 5.804\n",
      "Residual table updated: 9 / 10 \n",
      "\tSNR: 452 :: FWHM fitted 5.626\n",
      "Residual table updated: 10 / 10 \n",
      "\tSNR: 424 :: FWHM fitted 5.491\n",
      "\n",
      "PSF built using 10 sources\n",
      "\n",
      "Unity PSF: 38.0 [counts] \n",
      "Unity Residual table: 2.9 [counts] \n",
      "Using PSF Photometry on Sequence Stars\n",
      "Approx PSF mag -11.201 mag\n"
     ]
    },
    {
     "name": "stdout",
     "output_type": "stream",
     "text": [
      "PSF model saved as: /Users/terwelj/Documents/VirtualMachine/Observing_ING/autophot/test/at2022acuo_REDUCED/r1645962redCCD4/PSF_model_r1645962redCCD4_APT.fits\n",
      "\n",
      "+-------------------+\n",
      "|Measuring PSF model|\n",
      "+-------------------+\n",
      "\n",
      "\n",
      "+-----------------------------------+\n",
      "|Fitting PSF to sources in the image|\n",
      "+-----------------------------------+\n",
      "\n",
      "\r",
      "Fitting PSF to source: 1 / 2 \r",
      "Fitting PSF to source: 2 / 2 "
     ]
    },
    {
     "name": "stderr",
     "output_type": "stream",
     "text": [
      "\n",
      "Mean g-band zeropoint: 26.120 +/- 0.004 \n",
      "\n"
     ]
    },
    {
     "name": "stdout",
     "output_type": "stream",
     "text": [
      "\n",
      "+-----------------------+\n",
      "|Finding Zeropoint value|\n",
      "+-----------------------+\n",
      "\n",
      "Checking for suitable catalog sources\n",
      "Removed 2 sources lower than SNR of 25.0\n"
     ]
    },
    {
     "name": "stderr",
     "output_type": "stream",
     "text": [
      "/opt/anaconda3/envs/autophot/lib/python3.7/site-packages/matplotlib/backends/backend_pdf.py:1649: DeprecationWarning: NONE is deprecated and will be removed in Pillow 10 (2023-07-01). Use Resampling.NEAREST or Dither.NONE instead.\n",
      "  img = img.convert(mode='P', dither=Image.NONE,\n",
      "/opt/anaconda3/envs/autophot/lib/python3.7/site-packages/matplotlib/backends/backend_pdf.py:1650: DeprecationWarning: ADAPTIVE is deprecated and will be removed in Pillow 10 (2023-07-01). Use Palette.ADAPTIVE instead.\n",
      "  palette=Image.ADAPTIVE, colors=num_colors)\n",
      "Target photometry on original image\n"
     ]
    },
    {
     "name": "stdout",
     "output_type": "stream",
     "text": [
      "\n",
      "+-----------------------------------------------+\n",
      "|Performing PSF photometry on at target location|\n",
      "+-----------------------------------------------+\n",
      "\n"
     ]
    },
    {
     "name": "stderr",
     "output_type": "stream",
     "text": [
      "/opt/anaconda3/envs/autophot/lib/python3.7/site-packages/matplotlib/backends/backend_pdf.py:1649: DeprecationWarning: NONE is deprecated and will be removed in Pillow 10 (2023-07-01). Use Resampling.NEAREST or Dither.NONE instead.\n",
      "  img = img.convert(mode='P', dither=Image.NONE,\n",
      "/opt/anaconda3/envs/autophot/lib/python3.7/site-packages/matplotlib/backends/backend_pdf.py:1650: DeprecationWarning: ADAPTIVE is deprecated and will be removed in Pillow 10 (2023-07-01). Use Palette.ADAPTIVE instead.\n",
      "  palette=Image.ADAPTIVE, colors=num_colors)\n",
      "Approximate Target SNR: 14.6\n",
      "SNR = 15 - skipping limiting magnitude\n",
      "Pixel Offset: 0.588\n",
      "Limiting Magnitude: skipped\n",
      "Target Detection probability: 83 %\n",
      "Target flux: 214.494 +/- 12.171 [counts/s]\n",
      "Noise: 405.965 [counts/s]\n",
      "Target SNR: 14.619 +/- 0.072\n",
      "Instrumental Magnitude: -5.829 +/- 0.090\n",
      "Zeropoint: 26.120 +/- 0.004\n",
      "Target Magnitude: 20.292 +/- 0.162 \n",
      "\n",
      "*** Transient well detected ***\n",
      "\n",
      "Time Taken [ 9729 ]: 24s\n",
      "Sucess: r1645962redCCD4_APT.fits :: PID 9729 \n",
      "\n"
     ]
    },
    {
     "name": "stdout",
     "output_type": "stream",
     "text": [
      "Error from multlocation [10] recovery: 0.067 [mag]\n",
      "\n",
      "---\n",
      "\n",
      "Files that failed : ['/Users/terwelj/Documents/VirtualMachine/Observing_ING/autophot/test/at2022acuo_REDUCED/r1645960redCCD4/r1645960redCCD4_APT.fits']\n",
      "\n",
      "DONE\n",
      "\n",
      "Done - Time Taken: 78.9\n"
     ]
    }
   ],
   "source": [
    "#Run for a different object: Make subdirectories for each object\n",
    "autophot_input['fits_dir'] = dirpath + '/test/at2022acuo'\n",
    "\n",
    "autophot_input['target_ra'] = 350.73048\n",
    "autophot_input['target_dec'] = 21.03755\n",
    "\n",
    "run_automatic_autophot(autophot_input)"
   ]
  },
  {
   "cell_type": "code",
   "execution_count": 28,
   "id": "ff18550f",
   "metadata": {},
   "outputs": [
    {
     "name": "stderr",
     "output_type": "stream",
     "text": [
      "\n",
      "User instrument database: /Users/terwelj/Documents/VirtualMachine/Observing_ING/autophot/telescope.yml\n",
      "\n",
      "Number of files: 3\n",
      "\n",
      "1 telescope(s) detected - checking header keywords\n",
      "\n"
     ]
    },
    {
     "name": "stdout",
     "output_type": "stream",
     "text": [
      "\n",
      "        _       _       ___ _  _    _____\n",
      "       /_\\ _  _| |_ ___| _ \\ || |__|_   _|\n",
      "      / _ \\ || |  _/ _ \\  _/ __ / _ \\| |\n",
      "     /_/ \\_\\_,_|\\__\\___/_| |_||_\\___/|_|\n",
      "    \n",
      "     ---------------------------------------\n",
      "        Automated Photometry of Transients\n",
      "        S. J. Brennan et al. 2021 \n",
      "        Please provide feedback/bugs to:\n",
      "        Email: sean.brennan2@ucdconnect.ie\n",
      "    ---------------------------------------\n",
      "Directory of fits file: /Users/terwelj/Documents/VirtualMachine/Observing_ING/autophot/test/at2022acsd\n",
      "Found Telescopes:\n",
      "\n",
      " - INT\n",
      "\n",
      "-> Telescope check complete\n",
      "\n",
      "Checking Filter keywords and database\n",
      "\n",
      "-> Filter check complete\n",
      "\n",
      "Checking Filter information for each image\n",
      "\n",
      "Files removed - Wrong Image Type: 0\n",
      "\n",
      "Files removed - No/Wrong filter(s): 0\n",
      "Filters not included: []\n",
      "\n",
      "\n",
      "Files removed: 0\n",
      "\n",
      "+-----------+\n",
      "|File: 1 / 3|\n",
      "+-----------+\n",
      "\n"
     ]
    },
    {
     "name": "stderr",
     "output_type": "stream",
     "text": [
      "File: r1645965redCCD4_APT.fits - PID: 9729\n",
      "Start Time: 2022-12-16 11:35:14.491358\n",
      "Filter keyoward used: WFFBAND\n",
      "Telescope: INT\n",
      "Filter: i\n",
      "MJD: 59926.960\n",
      "Date of Observation : 2022-12-13\n",
      "Read Noise: 5.8 [e^- /pixel]\n",
      "GAIN: 2.9 [e^- /count]\n",
      "Exposure time: 20 [s] \n",
      "Detecting/removing cosmic ray sources\n"
     ]
    },
    {
     "name": "stdout",
     "output_type": "stream",
     "text": [
      "Starting Astroscrappy ... "
     ]
    },
    {
     "name": "stderr",
     "output_type": "stream",
     "text": [
      "Contaminated pixels with Cosmic rays removed: 27368\n",
      "Cosmic rays removed - image updated\n",
      "WARNING: FITSFixedWarning: RADECSYS= 'FK5 ' / mean place new (after the 1976 IAU) system \n",
      "the RADECSYS keyword is deprecated, use RADESYSa. [astropy.wcs.wcs]\n",
      "FITSFixedWarning: RADECSYS= 'FK5 ' / mean place new (after the 1976 IAU) system \n",
      "the RADECSYS keyword is deprecated, use RADESYSa.\n",
      "WARNING: FITSFixedWarning: PROJP1 = 1.00000000 / Projection coefficient for primary WCS \n",
      "the PROJPn keyword is deprecated, use PVi_ma. [astropy.wcs.wcs]\n",
      "FITSFixedWarning: PROJP1 = 1.00000000 / Projection coefficient for primary WCS \n",
      "the PROJPn keyword is deprecated, use PVi_ma.\n",
      "WARNING: FITSFixedWarning: PROJP3 = 0.00000000 / Projection coefficient for primary WCS \n",
      "the PROJPn keyword is deprecated, use PVi_ma. [astropy.wcs.wcs]\n",
      "FITSFixedWarning: PROJP3 = 0.00000000 / Projection coefficient for primary WCS \n",
      "the PROJPn keyword is deprecated, use PVi_ma.\n",
      "WARNING: FITSFixedWarning: 'datfix' made the change 'Invalid parameter values: MJD-OBS and DATE-OBS are inconsistent.\n",
      "Changed DATE-OBS from '2022-12-13        ' to '2022-12-13T00:00:00.0''. [astropy.wcs.wcs]\n",
      "FITSFixedWarning: 'datfix' made the change 'Invalid parameter values: MJD-OBS and DATE-OBS are inconsistent.\n",
      "Changed DATE-OBS from '2022-12-13        ' to '2022-12-13T00:00:00.0''.\n",
      "\n",
      "Performing Astrometry.net\n",
      "Removing any pre-existing WCS keys \n",
      "No WCS values found - attempting to solve field\n",
      "ASTROMETRY started...\n",
      "ASTROMETRY finished: 3s\n",
      "Updating WCS keys with new values\n",
      "WCS saved to new file\n",
      "\n",
      "Searching for FWHM\n",
      "Using Gaussian Profile for fitting\n"
     ]
    },
    {
     "name": "stdout",
     "output_type": "stream",
     "text": [
      "\n",
      "+-------------------------------+\n",
      "|Finding Full Width Half Maximum|\n",
      "+-------------------------------+\n",
      "\n"
     ]
    },
    {
     "name": "stderr",
     "output_type": "stream",
     "text": [
      "\n",
      "Number of sources before cleaning [ 25.0 sigma ]: 25 \n",
      "Updating search FWHM value\n"
     ]
    },
    {
     "name": "stdout",
     "output_type": "stream",
     "text": [
      "zero-size array to reduction operation fmax which has no identity\n",
      "Updated guess for FWHM: 5.0 pixels \n"
     ]
    },
    {
     "name": "stderr",
     "output_type": "stream",
     "text": [
      "\n",
      "Number of sources before cleaning [ 25.0 sigma ]: 107 \n",
      "Removed 6 sources near boundary\n",
      "Removed 4 crowded sources\n"
     ]
    },
    {
     "name": "stdout",
     "output_type": "stream",
     "text": [
      "Fitting source for FWHM: 97/97  "
     ]
    },
    {
     "name": "stderr",
     "output_type": "stream",
     "text": [
      "Removed 7 saturated sources\n",
      "WARNING: Input data contains invalid values (NaNs or infs), which were automatically clipped. [astropy.stats.sigma_clipping]\n",
      "Input data contains invalid values (NaNs or infs), which were automatically clipped.\n",
      "Removed 9 FWHM outliers\n",
      "WARNING: Input data contains invalid values (NaNs or infs), which were automatically clipped. [astropy.stats.sigma_clipping]\n",
      "Input data contains invalid values (NaNs or infs), which were automatically clipped.\n",
      "Removed 22 median outliers\n",
      "Useable sources found [ 25 sigma ]: 97\n",
      "Removes 0 sources within minimum seperation [ 24 pixel ]\n",
      "\n",
      "FWHM: 4.889 +/- 0.330 [ pixels ]\n",
      "\n",
      "Seeing: 1.623 [ arcsec ]\n",
      "Aperture size: 8.3 pixels\n",
      "Aperture correction: -0.046 +/- 0.023 [ mag ]\n",
      "WARNING: FITSFixedWarning: 'datfix' made the change 'Invalid parameter values: MJD-OBS and DATE-OBS are inconsistent.\n",
      "Changed DATE-OBS from '2022-12-13        ' to '2022-12-13T00:00:00.0''. [astropy.wcs.wcs]\n",
      "FITSFixedWarning: 'datfix' made the change 'Invalid parameter values: MJD-OBS and DATE-OBS are inconsistent.\n",
      "Changed DATE-OBS from '2022-12-13        ' to '2022-12-13T00:00:00.0''.\n",
      "Searching for new catalog [sdss] for target_ra_358_dec_15 \n"
     ]
    },
    {
     "name": "stdout",
     "output_type": "stream",
     "text": [
      "\n",
      "+----------------------------------------------+\n",
      "|Searching for catalog for target_ra_358_dec_15|\n",
      "+----------------------------------------------+\n",
      "\n"
     ]
    },
    {
     "name": "stderr",
     "output_type": "stream",
     "text": [
      "Catalog length: 283\n",
      "Removed 149 sources fainter than cutoff [20 mag]\n",
      "Using Gaussian Profile for fitting\n",
      "Catalog Length: 34\n"
     ]
    },
    {
     "name": "stdout",
     "output_type": "stream",
     "text": [
      "\n",
      "+---------------------------------+\n",
      "|Matching catalog sources to image|\n",
      "+---------------------------------+\n",
      "\n",
      "Removed 23 sources too close to boundary or off image\n",
      "\r",
      "Matching catalog to image: 1 / 34 :: Useful sources 1 / 34 \r",
      "Matching catalog to image: 2 / 34 :: Useful sources 2 / 34 \r",
      "Matching catalog to image: 3 / 34 :: Useful sources 2 / 34 \r",
      "Matching catalog to image: 4 / 34 :: Useful sources 3 / 34 \r",
      "Matching catalog to image: 5 / 34 :: Useful sources 3 / 34 \r",
      "Matching catalog to image: 6 / 34 :: Useful sources 3 / 34 \r",
      "Matching catalog to image: 7 / 34 :: Useful sources 4 / 34 \r",
      "Matching catalog to image: 8 / 34 :: Useful sources 5 / 34 \r",
      "Matching catalog to image: 9 / 34 :: Useful sources 6 / 34 \r",
      "Matching catalog to image: 10 / 34 :: Useful sources 7 / 34 \r",
      "Matching catalog to image: 11 / 34 :: Useful sources 8 / 34 \r",
      "Matching catalog to image: 12 / 34 :: Useful sources 8 / 34 \r",
      "Matching catalog to image: 13 / 34 :: Useful sources 9 / 34 \r",
      "Matching catalog to image: 14 / 34 :: Useful sources 10 / 34 \r",
      "Matching catalog to image: 15 / 34 :: Useful sources 10 / 34 \r",
      "Matching catalog to image: 16 / 34 :: Useful sources 11 / 34 \r",
      "Matching catalog to image: 17 / 34 :: Useful sources 11 / 34 "
     ]
    },
    {
     "name": "stderr",
     "output_type": "stream",
     "text": [
      "\n",
      "Median offset: 2.1 [ pixels ] / 0.7 [ arcsec ]\n",
      "Residual table updated: 1 / 10 \n",
      "\tSNR: 643 :: FWHM fitted 5.051\n"
     ]
    },
    {
     "name": "stdout",
     "output_type": "stream",
     "text": [
      "\r",
      "Matching catalog to image: 18 / 34 :: Useful sources 12 / 34 \r",
      "Matching catalog to image: 19 / 34 :: Useful sources 13 / 34 \r",
      "Matching catalog to image: 20 / 34 :: Useful sources 14 / 34 \r",
      "Matching catalog to image: 21 / 34 :: Useful sources 14 / 34 \r",
      "Matching catalog to image: 22 / 34 :: Useful sources 15 / 34 \r",
      "Matching catalog to image: 23 / 34 :: Useful sources 15 / 34 \r",
      "Matching catalog to image: 24 / 34 :: Useful sources 16 / 34 \r",
      "Matching catalog to image: 25 / 34 :: Useful sources 16 / 34 \r",
      "Matching catalog to image: 26 / 34 :: Useful sources 16 / 34 \r",
      "Matching catalog to image: 27 / 34 :: Useful sources 16 / 34 \r",
      "Matching catalog to image: 28 / 34 :: Useful sources 16 / 34 \r",
      "Matching catalog to image: 29 / 34 :: Useful sources 16 / 34 \r",
      "Matching catalog to image: 30 / 34 :: Useful sources 16 / 34 \r",
      "Matching catalog to image: 31 / 34 :: Useful sources 17 / 34 \r",
      "Matching catalog to image: 32 / 34 :: Useful sources 17 / 34 \r",
      "Matching catalog to image: 33 / 34 :: Useful sources 17 / 34 \r",
      "Matching catalog to image: 34 / 34 :: Useful sources 18 / 34   .. done\n",
      "\n",
      "Broken cutouts: 0\n",
      "Not in correct location: 0\n",
      "Not detected: 14\n",
      "Saturated: 3\n",
      "Error: 0\n",
      "\n",
      "\n",
      "+-------------------------------------------+\n",
      "|Building PSF model using stars in the field|\n",
      "+-------------------------------------------+\n",
      "\n"
     ]
    },
    {
     "name": "stderr",
     "output_type": "stream",
     "text": [
      "Residual table updated: 2 / 10 \n",
      "\tSNR: 579 :: FWHM fitted 5.089\n",
      "Residual table updated: 3 / 10 \n",
      "\tSNR: 513 :: FWHM fitted 4.602\n",
      "Residual table updated: 4 / 10 \n",
      "\tSNR: 496 :: FWHM fitted 5.107\n",
      "Residual table updated: 5 / 10 \n",
      "\tSNR: 482 :: FWHM fitted 5.213\n",
      "Residual table updated: 6 / 10 \n",
      "\tSNR: 468 :: FWHM fitted 5.123\n",
      "Residual table updated: 7 / 10 \n",
      "\tSNR: 436 :: FWHM fitted 4.686\n",
      "Residual table updated: 8 / 10 \n",
      "\tSNR: 415 :: FWHM fitted 4.648\n",
      "Residual table updated: 9 / 10 \n",
      "\tSNR: 401 :: FWHM fitted 4.732\n",
      "Residual table updated: 10 / 10 \n",
      "\tSNR: 396 :: FWHM fitted 4.603\n",
      "\n",
      "PSF built using 10 sources\n",
      "\n",
      "Unity PSF: 29.0 [counts] \n",
      "Unity Residual table: 2.4 [counts] \n",
      "Using PSF Photometry on Sequence Stars\n",
      "Approx PSF mag -11.067 mag\n"
     ]
    },
    {
     "name": "stdout",
     "output_type": "stream",
     "text": [
      "PSF model saved as: /Users/terwelj/Documents/VirtualMachine/Observing_ING/autophot/test/at2022acsd_REDUCED/r1645965redCCD4/PSF_model_r1645965redCCD4_APT.fits\n",
      "\n",
      "+-------------------+\n",
      "|Measuring PSF model|\n",
      "+-------------------+\n",
      "\n",
      "\n",
      "+-----------------------------------+\n",
      "|Fitting PSF to sources in the image|\n",
      "+-----------------------------------+\n",
      "\n",
      "Fitting PSF to source: 16 / 17 "
     ]
    },
    {
     "name": "stderr",
     "output_type": "stream",
     "text": [
      "WARNING: Input data contains invalid values (NaNs or infs), which were automatically clipped. [astropy.stats.sigma_clipping]\n",
      "Input data contains invalid values (NaNs or infs), which were automatically clipped.\n",
      "\n",
      "Mean i-band zeropoint: 25.542 +/- 0.011 \n",
      "\n"
     ]
    },
    {
     "name": "stdout",
     "output_type": "stream",
     "text": [
      "\r",
      "Fitting PSF to source: 17 / 17 \n",
      "+-----------------------+\n",
      "|Finding Zeropoint value|\n",
      "+-----------------------+\n",
      "\n",
      "Checking for suitable catalog sources\n",
      "Removed 13 sources lower than SNR of 25.0\n"
     ]
    },
    {
     "name": "stderr",
     "output_type": "stream",
     "text": [
      "/opt/anaconda3/envs/autophot/lib/python3.7/site-packages/matplotlib/backends/backend_pdf.py:1649: DeprecationWarning: NONE is deprecated and will be removed in Pillow 10 (2023-07-01). Use Resampling.NEAREST or Dither.NONE instead.\n",
      "  img = img.convert(mode='P', dither=Image.NONE,\n",
      "/opt/anaconda3/envs/autophot/lib/python3.7/site-packages/matplotlib/backends/backend_pdf.py:1650: DeprecationWarning: ADAPTIVE is deprecated and will be removed in Pillow 10 (2023-07-01). Use Palette.ADAPTIVE instead.\n",
      "  palette=Image.ADAPTIVE, colors=num_colors)\n",
      "Target photometry on original image\n"
     ]
    },
    {
     "name": "stdout",
     "output_type": "stream",
     "text": [
      "\n",
      "+-----------------------------------------------+\n",
      "|Performing PSF photometry on at target location|\n",
      "+-----------------------------------------------+\n",
      "\n"
     ]
    },
    {
     "name": "stderr",
     "output_type": "stream",
     "text": [
      "/opt/anaconda3/envs/autophot/lib/python3.7/site-packages/matplotlib/backends/backend_pdf.py:1649: DeprecationWarning: NONE is deprecated and will be removed in Pillow 10 (2023-07-01). Use Resampling.NEAREST or Dither.NONE instead.\n",
      "  img = img.convert(mode='P', dither=Image.NONE,\n",
      "/opt/anaconda3/envs/autophot/lib/python3.7/site-packages/matplotlib/backends/backend_pdf.py:1650: DeprecationWarning: ADAPTIVE is deprecated and will be removed in Pillow 10 (2023-07-01). Use Palette.ADAPTIVE instead.\n",
      "  palette=Image.ADAPTIVE, colors=num_colors)\n",
      "Approximate Target SNR: 15.2\n",
      "SNR = 15 - skipping limiting magnitude\n",
      "Pixel Offset: 1.851\n",
      "Limiting Magnitude: skipped\n",
      "Target Detection probability: 98 %\n",
      "Target flux: 305.128 +/- 16.721 [counts/s]\n",
      "Noise: 437.979 [counts/s]\n",
      "Target SNR: 15.190 +/- 0.069\n",
      "Instrumental Magnitude: -6.211 +/- 0.085\n",
      "Zeropoint: 25.542 +/- 0.011\n",
      "Target Magnitude: 19.331 +/- 0.154 \n",
      "\n",
      "*** Transient well detected ***\n",
      "\n",
      "Time Taken [ 9729 ]: 35s\n",
      "Sucess: r1645965redCCD4_APT.fits :: PID 9729 \n",
      "\n"
     ]
    },
    {
     "name": "stdout",
     "output_type": "stream",
     "text": [
      "Error from multlocation [10] recovery: 0.062 [mag]\n",
      "\n",
      "+-----------+\n",
      "|File: 2 / 3|\n",
      "+-----------+\n",
      "\n"
     ]
    },
    {
     "name": "stderr",
     "output_type": "stream",
     "text": [
      "File: r1645963redCCD4_APT.fits - PID: 9729\n",
      "Start Time: 2022-12-16 11:35:49.912132\n",
      "Filter keyoward used: WFFBAND\n",
      "Telescope: INT\n",
      "Filter: g\n",
      "MJD: 59926.958\n",
      "Date of Observation : 2022-12-13\n",
      "Read Noise: 5.8 [e^- /pixel]\n",
      "GAIN: 2.9 [e^- /count]\n",
      "Exposure time: 20 [s] \n",
      "Detecting/removing cosmic ray sources\n"
     ]
    },
    {
     "name": "stdout",
     "output_type": "stream",
     "text": [
      "Starting Astroscrappy ... "
     ]
    },
    {
     "name": "stderr",
     "output_type": "stream",
     "text": [
      "Contaminated pixels with Cosmic rays removed: 30201\n",
      "Cosmic rays removed - image updated\n",
      "WARNING: FITSFixedWarning: RADECSYS= 'FK5 ' / mean place new (after the 1976 IAU) system \n",
      "the RADECSYS keyword is deprecated, use RADESYSa. [astropy.wcs.wcs]\n",
      "FITSFixedWarning: RADECSYS= 'FK5 ' / mean place new (after the 1976 IAU) system \n",
      "the RADECSYS keyword is deprecated, use RADESYSa.\n",
      "WARNING: FITSFixedWarning: PROJP1 = 1.00000000 / Projection coefficient for primary WCS \n",
      "the PROJPn keyword is deprecated, use PVi_ma. [astropy.wcs.wcs]\n",
      "FITSFixedWarning: PROJP1 = 1.00000000 / Projection coefficient for primary WCS \n",
      "the PROJPn keyword is deprecated, use PVi_ma.\n",
      "WARNING: FITSFixedWarning: PROJP3 = 0.00000000 / Projection coefficient for primary WCS \n",
      "the PROJPn keyword is deprecated, use PVi_ma. [astropy.wcs.wcs]\n",
      "FITSFixedWarning: PROJP3 = 0.00000000 / Projection coefficient for primary WCS \n",
      "the PROJPn keyword is deprecated, use PVi_ma.\n",
      "WARNING: FITSFixedWarning: 'datfix' made the change 'Invalid parameter values: MJD-OBS and DATE-OBS are inconsistent.\n",
      "Changed DATE-OBS from '2022-12-13        ' to '2022-12-13T00:00:00.0''. [astropy.wcs.wcs]\n",
      "FITSFixedWarning: 'datfix' made the change 'Invalid parameter values: MJD-OBS and DATE-OBS are inconsistent.\n",
      "Changed DATE-OBS from '2022-12-13        ' to '2022-12-13T00:00:00.0''.\n",
      "\n",
      "Performing Astrometry.net\n",
      "Removing any pre-existing WCS keys \n",
      "No WCS values found - attempting to solve field\n",
      "ASTROMETRY started...\n",
      "ASTROMETRY finished: 3s\n",
      "Updating WCS keys with new values\n",
      "WCS saved to new file\n",
      "\n",
      "Searching for FWHM\n",
      "Using Gaussian Profile for fitting\n"
     ]
    },
    {
     "name": "stdout",
     "output_type": "stream",
     "text": [
      "\n",
      "+-------------------------------+\n",
      "|Finding Full Width Half Maximum|\n",
      "+-------------------------------+\n",
      "\n"
     ]
    },
    {
     "name": "stderr",
     "output_type": "stream",
     "text": [
      "\n",
      "Number of sources before cleaning [ 25.0 sigma ]: 25 \n",
      "Updating search FWHM value\n"
     ]
    },
    {
     "name": "stdout",
     "output_type": "stream",
     "text": [
      "operands could not be broadcast together with shapes (2500,) (2250,) \n",
      "zero-size array to reduction operation fmax which has no identity\n",
      "Updated guess for FWHM: 7.4 pixels \n"
     ]
    },
    {
     "name": "stderr",
     "output_type": "stream",
     "text": [
      "\n",
      "Number of sources before cleaning [ 25.0 sigma ]: 96 \n",
      "Removed 5 sources near boundary\n",
      "Removed 2 crowded sources\n"
     ]
    },
    {
     "name": "stdout",
     "output_type": "stream",
     "text": [
      "Fitting source for FWHM: 89/89  "
     ]
    },
    {
     "name": "stderr",
     "output_type": "stream",
     "text": [
      "Removed 3 saturated sources\n",
      "WARNING: Input data contains invalid values (NaNs or infs), which were automatically clipped. [astropy.stats.sigma_clipping]\n",
      "Input data contains invalid values (NaNs or infs), which were automatically clipped.\n",
      "Removed 7 FWHM outliers\n",
      "WARNING: Input data contains invalid values (NaNs or infs), which were automatically clipped. [astropy.stats.sigma_clipping]\n",
      "Input data contains invalid values (NaNs or infs), which were automatically clipped.\n",
      "Removed 21 median outliers\n",
      "Useable sources found [ 25 sigma ]: 89\n",
      "Removes 2 sources within minimum seperation [ 30 pixel ]\n",
      "\n",
      "FWHM: 6.007 +/- 0.389 [ pixels ]\n",
      "\n",
      "Seeing: 1.994 [ arcsec ]\n",
      "Aperture size: 10.2 pixels\n",
      "Aperture correction: -0.043 +/- 0.022 [ mag ]\n",
      "WARNING: FITSFixedWarning: 'datfix' made the change 'Invalid parameter values: MJD-OBS and DATE-OBS are inconsistent.\n",
      "Changed DATE-OBS from '2022-12-13        ' to '2022-12-13T00:00:00.0''. [astropy.wcs.wcs]\n",
      "FITSFixedWarning: 'datfix' made the change 'Invalid parameter values: MJD-OBS and DATE-OBS are inconsistent.\n",
      "Changed DATE-OBS from '2022-12-13        ' to '2022-12-13T00:00:00.0''.\n",
      "Catalog found for target_ra_358_dec_15\n",
      "Catalog: SDSS \n",
      "File: target_ra_358_dec_15_r_0.25\n",
      "Catalog length: 283\n",
      "Removed 171 sources fainter than cutoff [20 mag]\n",
      "Using Gaussian Profile for fitting\n",
      "Catalog Length: 15\n"
     ]
    },
    {
     "name": "stdout",
     "output_type": "stream",
     "text": [
      "\n",
      "+----------------------------------------------+\n",
      "|Searching for catalog for target_ra_358_dec_15|\n",
      "+----------------------------------------------+\n",
      "\n",
      "\n",
      "+---------------------------------+\n",
      "|Matching catalog sources to image|\n",
      "+---------------------------------+\n",
      "\n",
      "Removed 13 sources too close to boundary or off image\n",
      "\r",
      "Matching catalog to image: 1 / 15 :: Useful sources 1 / 15 \r",
      "Matching catalog to image: 2 / 15 :: Useful sources 2 / 15 \r",
      "Matching catalog to image: 3 / 15 :: Useful sources 2 / 15 \r",
      "Matching catalog to image: 4 / 15 :: Useful sources 3 / 15 \r",
      "Matching catalog to image: 5 / 15 :: Useful sources 4 / 15 \r",
      "Matching catalog to image: 6 / 15 :: Useful sources 5 / 15 \r",
      "Matching catalog to image: 7 / 15 :: Useful sources 6 / 15 \r",
      "Matching catalog to image: 8 / 15 :: Useful sources 7 / 15 \r",
      "Matching catalog to image: 9 / 15 :: Useful sources 8 / 15 \r",
      "Matching catalog to image: 10 / 15 :: Useful sources 8 / 15 \r",
      "Matching catalog to image: 11 / 15 :: Useful sources 9 / 15 \r",
      "Matching catalog to image: 12 / 15 :: Useful sources 10 / 15 "
     ]
    },
    {
     "name": "stderr",
     "output_type": "stream",
     "text": [
      "\n",
      "Median offset: 3.5 [ pixels ] / 1.2 [ arcsec ]\n",
      "Residual table updated: 1 / 10 \n",
      "\tSNR: 697 :: FWHM fitted 6.438\n",
      "Residual table updated: 2 / 10 \n",
      "\tSNR: 506 :: FWHM fitted 6.298\n",
      "Residual table updated: 3 / 10 \n"
     ]
    },
    {
     "name": "stdout",
     "output_type": "stream",
     "text": [
      "\r",
      "Matching catalog to image: 13 / 15 :: Useful sources 11 / 15 \r",
      "Matching catalog to image: 14 / 15 :: Useful sources 11 / 15 \r",
      "Matching catalog to image: 15 / 15 :: Useful sources 12 / 15   .. done\n",
      "\n",
      "Broken cutouts: 0\n",
      "Not in correct location: 0\n",
      "Not detected: 2\n",
      "Saturated: 2\n",
      "Error: 0\n",
      "\n",
      "\n",
      "+-------------------------------------------+\n",
      "|Building PSF model using stars in the field|\n",
      "+-------------------------------------------+\n",
      "\n"
     ]
    },
    {
     "name": "stderr",
     "output_type": "stream",
     "text": [
      "\tSNR: 498 :: FWHM fitted 5.660\n",
      "Residual table updated: 4 / 10 \n",
      "\tSNR: 492 :: FWHM fitted 6.285\n",
      "Residual table updated: 5 / 10 \n",
      "\tSNR: 430 :: FWHM fitted 5.737\n",
      "Residual table updated: 6 / 10 \n",
      "\tSNR: 422 :: FWHM fitted 6.801\n",
      "Found faint soures near PSF star at 5 sigma - skipping \n",
      "Residual table updated: 7 / 10 \n",
      "\tSNR: 412 :: FWHM fitted 5.701\n",
      "Residual table updated: 8 / 10 \n",
      "\tSNR: 407 :: FWHM fitted 6.343\n",
      "Residual table updated: 9 / 10 \n",
      "\tSNR: 392 :: FWHM fitted 5.694\n",
      "Residual table updated: 10 / 10 \n",
      "\tSNR: 366 :: FWHM fitted 6.426\n",
      "\n",
      "PSF built using 10 sources\n",
      "\n",
      "Unity PSF: 45.3 [counts] \n",
      "Unity Residual table: 4.4 [counts] \n",
      "Using PSF Photometry on Sequence Stars\n",
      "Approx PSF mag -11.124 mag\n"
     ]
    },
    {
     "name": "stdout",
     "output_type": "stream",
     "text": [
      "PSF model saved as: /Users/terwelj/Documents/VirtualMachine/Observing_ING/autophot/test/at2022acsd_REDUCED/r1645963redCCD4/PSF_model_r1645963redCCD4_APT.fits\n",
      "\n",
      "+-------------------+\n",
      "|Measuring PSF model|\n",
      "+-------------------+\n",
      "\n",
      "\n",
      "+-----------------------------------+\n",
      "|Fitting PSF to sources in the image|\n",
      "+-----------------------------------+\n",
      "\n",
      "Fitting PSF to source: 9 / 11 "
     ]
    },
    {
     "name": "stderr",
     "output_type": "stream",
     "text": [
      "WARNING: Input data contains invalid values (NaNs or infs), which were automatically clipped. [astropy.stats.sigma_clipping]\n",
      "Input data contains invalid values (NaNs or infs), which were automatically clipped.\n",
      "\n",
      "Mean g-band zeropoint: 26.114 +/- 0.011 \n",
      "\n"
     ]
    },
    {
     "name": "stdout",
     "output_type": "stream",
     "text": [
      "\r",
      "Fitting PSF to source: 10 / 11 \r",
      "Fitting PSF to source: 11 / 11 \n",
      "+-----------------------+\n",
      "|Finding Zeropoint value|\n",
      "+-----------------------+\n",
      "\n",
      "Checking for suitable catalog sources\n",
      "Removed 10 sources lower than SNR of 25.0\n"
     ]
    },
    {
     "name": "stderr",
     "output_type": "stream",
     "text": [
      "/opt/anaconda3/envs/autophot/lib/python3.7/site-packages/matplotlib/backends/backend_pdf.py:1649: DeprecationWarning: NONE is deprecated and will be removed in Pillow 10 (2023-07-01). Use Resampling.NEAREST or Dither.NONE instead.\n",
      "  img = img.convert(mode='P', dither=Image.NONE,\n",
      "/opt/anaconda3/envs/autophot/lib/python3.7/site-packages/matplotlib/backends/backend_pdf.py:1650: DeprecationWarning: ADAPTIVE is deprecated and will be removed in Pillow 10 (2023-07-01). Use Palette.ADAPTIVE instead.\n",
      "  palette=Image.ADAPTIVE, colors=num_colors)\n",
      "Target photometry on original image\n"
     ]
    },
    {
     "name": "stdout",
     "output_type": "stream",
     "text": [
      "\n",
      "+-----------------------------------------------+\n",
      "|Performing PSF photometry on at target location|\n",
      "+-----------------------------------------------+\n",
      "\n"
     ]
    },
    {
     "name": "stderr",
     "output_type": "stream",
     "text": [
      "/opt/anaconda3/envs/autophot/lib/python3.7/site-packages/matplotlib/backends/backend_pdf.py:1649: DeprecationWarning: NONE is deprecated and will be removed in Pillow 10 (2023-07-01). Use Resampling.NEAREST or Dither.NONE instead.\n",
      "  img = img.convert(mode='P', dither=Image.NONE,\n",
      "/opt/anaconda3/envs/autophot/lib/python3.7/site-packages/matplotlib/backends/backend_pdf.py:1650: DeprecationWarning: ADAPTIVE is deprecated and will be removed in Pillow 10 (2023-07-01). Use Palette.ADAPTIVE instead.\n",
      "  palette=Image.ADAPTIVE, colors=num_colors)\n",
      "Approximate Target SNR: 41.0\n",
      "SNR = 41 - skipping limiting magnitude\n",
      "Pixel Offset: 1.280\n",
      "Limiting Magnitude: skipped\n",
      "Target Detection probability: 100 %\n",
      "Target flux: 675.646 +/- 14.061 [counts/s]\n",
      "Noise: 419.980 [counts/s]\n",
      "Target SNR: 41.031 +/- 0.026\n",
      "Instrumental Magnitude: -7.074 +/- 0.032\n",
      "Zeropoint: 26.114 +/- 0.011\n",
      "Target Magnitude: 19.040 +/- 0.059 \n",
      "\n",
      "*** Transient well detected ***\n",
      "\n",
      "Time Taken [ 9729 ]: 26s\n",
      "Sucess: r1645963redCCD4_APT.fits :: PID 9729 \n",
      "\n"
     ]
    },
    {
     "name": "stdout",
     "output_type": "stream",
     "text": [
      "Error from multlocation [10] recovery: 0.023 [mag]\n",
      "\n",
      "+-----------+\n",
      "|File: 3 / 3|\n",
      "+-----------+\n",
      "\n"
     ]
    },
    {
     "name": "stderr",
     "output_type": "stream",
     "text": [
      "File: r1645964redCCD4_APT.fits - PID: 9729\n",
      "Start Time: 2022-12-16 11:36:15.744967\n",
      "Filter keyoward used: WFFBAND\n",
      "Telescope: INT\n",
      "Filter: r\n",
      "MJD: 59926.959\n",
      "Date of Observation : 2022-12-13\n",
      "Read Noise: 5.8 [e^- /pixel]\n",
      "GAIN: 2.9 [e^- /count]\n",
      "Exposure time: 20 [s] \n",
      "Detecting/removing cosmic ray sources\n"
     ]
    },
    {
     "name": "stdout",
     "output_type": "stream",
     "text": [
      "Starting Astroscrappy ... "
     ]
    },
    {
     "name": "stderr",
     "output_type": "stream",
     "text": [
      "Contaminated pixels with Cosmic rays removed: 28152\n",
      "Cosmic rays removed - image updated\n",
      "WARNING: FITSFixedWarning: RADECSYS= 'FK5 ' / mean place new (after the 1976 IAU) system \n",
      "the RADECSYS keyword is deprecated, use RADESYSa. [astropy.wcs.wcs]\n",
      "FITSFixedWarning: RADECSYS= 'FK5 ' / mean place new (after the 1976 IAU) system \n",
      "the RADECSYS keyword is deprecated, use RADESYSa.\n",
      "WARNING: FITSFixedWarning: PROJP1 = 1.00000000 / Projection coefficient for primary WCS \n",
      "the PROJPn keyword is deprecated, use PVi_ma. [astropy.wcs.wcs]\n",
      "FITSFixedWarning: PROJP1 = 1.00000000 / Projection coefficient for primary WCS \n",
      "the PROJPn keyword is deprecated, use PVi_ma.\n",
      "WARNING: FITSFixedWarning: PROJP3 = 0.00000000 / Projection coefficient for primary WCS \n",
      "the PROJPn keyword is deprecated, use PVi_ma. [astropy.wcs.wcs]\n",
      "FITSFixedWarning: PROJP3 = 0.00000000 / Projection coefficient for primary WCS \n",
      "the PROJPn keyword is deprecated, use PVi_ma.\n",
      "WARNING: FITSFixedWarning: 'datfix' made the change 'Invalid parameter values: MJD-OBS and DATE-OBS are inconsistent.\n",
      "Changed DATE-OBS from '2022-12-13        ' to '2022-12-13T00:00:00.0''. [astropy.wcs.wcs]\n",
      "FITSFixedWarning: 'datfix' made the change 'Invalid parameter values: MJD-OBS and DATE-OBS are inconsistent.\n",
      "Changed DATE-OBS from '2022-12-13        ' to '2022-12-13T00:00:00.0''.\n",
      "\n",
      "Performing Astrometry.net\n",
      "Removing any pre-existing WCS keys \n",
      "No WCS values found - attempting to solve field\n",
      "ASTROMETRY started...\n",
      "ASTROMETRY finished: 3s\n",
      "Updating WCS keys with new values\n",
      "WCS saved to new file\n",
      "\n",
      "Searching for FWHM\n",
      "Using Gaussian Profile for fitting\n"
     ]
    },
    {
     "name": "stdout",
     "output_type": "stream",
     "text": [
      "\n",
      "+-------------------------------+\n",
      "|Finding Full Width Half Maximum|\n",
      "+-------------------------------+\n",
      "\n"
     ]
    },
    {
     "name": "stderr",
     "output_type": "stream",
     "text": [
      "\n",
      "Number of sources before cleaning [ 25.0 sigma ]: 25 \n",
      "Updating search FWHM value\n"
     ]
    },
    {
     "name": "stdout",
     "output_type": "stream",
     "text": [
      "zero-size array to reduction operation fmax which has no identity\n",
      "zero-size array to reduction operation fmax which has no identity\n",
      "Updated guess for FWHM: 7.2 pixels \n"
     ]
    },
    {
     "name": "stderr",
     "output_type": "stream",
     "text": [
      "\n",
      "Number of sources before cleaning [ 25.0 sigma ]: 108 \n",
      "Removed 7 sources near boundary\n",
      "Removed 2 crowded sources\n"
     ]
    },
    {
     "name": "stdout",
     "output_type": "stream",
     "text": [
      "Fitting source for FWHM: 99/99 "
     ]
    },
    {
     "name": "stderr",
     "output_type": "stream",
     "text": [
      "Removed 4 saturated sources\n",
      "WARNING: Input data contains invalid values (NaNs or infs), which were automatically clipped. [astropy.stats.sigma_clipping]\n",
      "Input data contains invalid values (NaNs or infs), which were automatically clipped.\n",
      "Removed 9 FWHM outliers\n",
      "WARNING: Input data contains invalid values (NaNs or infs), which were automatically clipped. [astropy.stats.sigma_clipping]\n",
      "Input data contains invalid values (NaNs or infs), which were automatically clipped.\n",
      "Removed 24 median outliers\n",
      "Useable sources found [ 25 sigma ]: 99\n",
      "Removes 4 sources within minimum seperation [ 29 pixel ]\n",
      "\n",
      "FWHM: 5.978 +/- 0.343 [ pixels ]\n",
      "\n",
      "Seeing: 1.984 [ arcsec ]\n",
      "Aperture size: 10.2 pixels\n",
      "Aperture correction: -0.036 +/- 0.017 [ mag ]\n",
      "WARNING: FITSFixedWarning: 'datfix' made the change 'Invalid parameter values: MJD-OBS and DATE-OBS are inconsistent.\n",
      "Changed DATE-OBS from '2022-12-13        ' to '2022-12-13T00:00:00.0''. [astropy.wcs.wcs]\n",
      "FITSFixedWarning: 'datfix' made the change 'Invalid parameter values: MJD-OBS and DATE-OBS are inconsistent.\n",
      "Changed DATE-OBS from '2022-12-13        ' to '2022-12-13T00:00:00.0''.\n",
      "Catalog found for target_ra_358_dec_15\n",
      "Catalog: SDSS \n",
      "File: target_ra_358_dec_15_r_0.25\n",
      "Catalog length: 283\n",
      "Removed 174 sources fainter than cutoff [20 mag]\n",
      "Using Gaussian Profile for fitting\n",
      "Catalog Length: 21\n"
     ]
    },
    {
     "name": "stdout",
     "output_type": "stream",
     "text": [
      "\n",
      "+----------------------------------------------+\n",
      "|Searching for catalog for target_ra_358_dec_15|\n",
      "+----------------------------------------------+\n",
      "\n",
      "\n",
      "+---------------------------------+\n",
      "|Matching catalog sources to image|\n",
      "+---------------------------------+\n",
      "\n",
      "Removed 14 sources too close to boundary or off image\n",
      "\r",
      "Matching catalog to image: 1 / 21 :: Useful sources 1 / 21 \r",
      "Matching catalog to image: 2 / 21 :: Useful sources 2 / 21 \r",
      "Matching catalog to image: 3 / 21 :: Useful sources 3 / 21 \r",
      "Matching catalog to image: 4 / 21 :: Useful sources 3 / 21 \r",
      "Matching catalog to image: 5 / 21 :: Useful sources 3 / 21 \r",
      "Matching catalog to image: 6 / 21 :: Useful sources 4 / 21 \r",
      "Matching catalog to image: 7 / 21 :: Useful sources 5 / 21 \r",
      "Matching catalog to image: 8 / 21 :: Useful sources 6 / 21 \r",
      "Matching catalog to image: 9 / 21 :: Useful sources 7 / 21 \r",
      "Matching catalog to image: 10 / 21 :: Useful sources 8 / 21 \r",
      "Matching catalog to image: 11 / 21 :: Useful sources 8 / 21 \r",
      "Matching catalog to image: 12 / 21 :: Useful sources 9 / 21 "
     ]
    },
    {
     "name": "stderr",
     "output_type": "stream",
     "text": [
      "\n",
      "Median offset: 2.6 [ pixels ] / 0.9 [ arcsec ]\n",
      "Residual table updated: 1 / 10 \n",
      "\tSNR: 569 :: FWHM fitted 5.703\n",
      "Residual table updated: 2 / 10 \n",
      "\tSNR: 565 :: FWHM fitted 6.217\n"
     ]
    },
    {
     "name": "stdout",
     "output_type": "stream",
     "text": [
      "\r",
      "Matching catalog to image: 13 / 21 :: Useful sources 10 / 21 \r",
      "Matching catalog to image: 14 / 21 :: Useful sources 10 / 21 \r",
      "Matching catalog to image: 15 / 21 :: Useful sources 11 / 21 \r",
      "Matching catalog to image: 16 / 21 :: Useful sources 11 / 21 \r",
      "Matching catalog to image: 17 / 21 :: Useful sources 11 / 21 \r",
      "Matching catalog to image: 18 / 21 :: Useful sources 12 / 21 \r",
      "Matching catalog to image: 19 / 21 :: Useful sources 13 / 21 \r",
      "Matching catalog to image: 20 / 21 :: Useful sources 13 / 21 \r",
      "Matching catalog to image: 21 / 21 :: Useful sources 13 / 21   .. done\n",
      "\n",
      "Broken cutouts: 0\n",
      "Not in correct location: 0\n",
      "Not detected: 7\n",
      "Saturated: 2\n",
      "Error: 0\n",
      "\n",
      "\n",
      "+-------------------------------------------+\n",
      "|Building PSF model using stars in the field|\n",
      "+-------------------------------------------+\n",
      "\n"
     ]
    },
    {
     "name": "stderr",
     "output_type": "stream",
     "text": [
      "Residual table updated: 3 / 10 \n",
      "\tSNR: 557 :: FWHM fitted 6.130\n",
      "Residual table updated: 4 / 10 \n",
      "\tSNR: 556 :: FWHM fitted 6.043\n",
      "Residual table updated: 5 / 10 \n",
      "\tSNR: 534 :: FWHM fitted 6.204\n",
      "Residual table updated: 6 / 10 \n",
      "\tSNR: 504 :: FWHM fitted 6.292\n",
      "Residual table updated: 7 / 10 \n",
      "\tSNR: 471 :: FWHM fitted 5.709\n",
      "Residual table updated: 8 / 10 \n",
      "\tSNR: 454 :: FWHM fitted 5.693\n",
      "Residual table updated: 9 / 10 \n",
      "\tSNR: 437 :: FWHM fitted 5.763\n",
      "Residual table updated: 10 / 10 \n",
      "\tSNR: 437 :: FWHM fitted 6.274\n",
      "\n",
      "PSF built using 10 sources\n",
      "\n",
      "Unity PSF: 43.0 [counts] \n",
      "Unity Residual table: 2.7 [counts] \n",
      "Using PSF Photometry on Sequence Stars\n",
      "Approx PSF mag -10.917 mag\n"
     ]
    },
    {
     "name": "stdout",
     "output_type": "stream",
     "text": [
      "PSF model saved as: /Users/terwelj/Documents/VirtualMachine/Observing_ING/autophot/test/at2022acsd_REDUCED/r1645964redCCD4/PSF_model_r1645964redCCD4_APT.fits\n",
      "\n",
      "+-------------------+\n",
      "|Measuring PSF model|\n",
      "+-------------------+\n",
      "\n",
      "\n",
      "+-----------------------------------+\n",
      "|Fitting PSF to sources in the image|\n",
      "+-----------------------------------+\n",
      "\n",
      "Fitting PSF to source: 12 / 12 "
     ]
    },
    {
     "name": "stderr",
     "output_type": "stream",
     "text": [
      "WARNING: Input data contains invalid values (NaNs or infs), which were automatically clipped. [astropy.stats.sigma_clipping]\n",
      "Input data contains invalid values (NaNs or infs), which were automatically clipped.\n",
      "\n",
      "Mean r-band zeropoint: 25.908 +/- 0.021 \n",
      "\n"
     ]
    },
    {
     "name": "stdout",
     "output_type": "stream",
     "text": [
      "\n",
      "+-----------------------+\n",
      "|Finding Zeropoint value|\n",
      "+-----------------------+\n",
      "\n",
      "Checking for suitable catalog sources\n",
      "Removed 10 sources lower than SNR of 25.0\n"
     ]
    },
    {
     "name": "stderr",
     "output_type": "stream",
     "text": [
      "/opt/anaconda3/envs/autophot/lib/python3.7/site-packages/matplotlib/backends/backend_pdf.py:1649: DeprecationWarning: NONE is deprecated and will be removed in Pillow 10 (2023-07-01). Use Resampling.NEAREST or Dither.NONE instead.\n",
      "  img = img.convert(mode='P', dither=Image.NONE,\n",
      "/opt/anaconda3/envs/autophot/lib/python3.7/site-packages/matplotlib/backends/backend_pdf.py:1650: DeprecationWarning: ADAPTIVE is deprecated and will be removed in Pillow 10 (2023-07-01). Use Palette.ADAPTIVE instead.\n",
      "  palette=Image.ADAPTIVE, colors=num_colors)\n",
      "Target photometry on original image\n"
     ]
    },
    {
     "name": "stdout",
     "output_type": "stream",
     "text": [
      "\n",
      "+-----------------------------------------------+\n",
      "|Performing PSF photometry on at target location|\n",
      "+-----------------------------------------------+\n",
      "\n"
     ]
    },
    {
     "name": "stderr",
     "output_type": "stream",
     "text": [
      "/opt/anaconda3/envs/autophot/lib/python3.7/site-packages/matplotlib/backends/backend_pdf.py:1649: DeprecationWarning: NONE is deprecated and will be removed in Pillow 10 (2023-07-01). Use Resampling.NEAREST or Dither.NONE instead.\n",
      "  img = img.convert(mode='P', dither=Image.NONE,\n",
      "/opt/anaconda3/envs/autophot/lib/python3.7/site-packages/matplotlib/backends/backend_pdf.py:1650: DeprecationWarning: ADAPTIVE is deprecated and will be removed in Pillow 10 (2023-07-01). Use Palette.ADAPTIVE instead.\n",
      "  palette=Image.ADAPTIVE, colors=num_colors)\n",
      "Approximate Target SNR: 28.9\n",
      "SNR = 29 - skipping limiting magnitude\n",
      "Pixel Offset: 1.305\n",
      "Limiting Magnitude: skipped\n",
      "Target Detection probability: 99 %\n",
      "Target flux: 605.995 +/- 18.169 [counts/s]\n",
      "Noise: 543.466 [counts/s]\n",
      "Target SNR: 28.876 +/- 0.037\n",
      "Instrumental Magnitude: -6.956 +/- 0.047\n",
      "Zeropoint: 25.908 +/- 0.021\n",
      "Target Magnitude: 18.952 +/- 0.087 \n",
      "\n",
      "*** Transient well detected ***\n",
      "\n",
      "Time Taken [ 9729 ]: 26s\n",
      "Sucess: r1645964redCCD4_APT.fits :: PID 9729 \n",
      "\n"
     ]
    },
    {
     "name": "stdout",
     "output_type": "stream",
     "text": [
      "Error from multlocation [10] recovery: 0.034 [mag]\n",
      "\n",
      "---\n",
      "\n",
      "Files that failed : []\n",
      "\n",
      "DONE\n",
      "\n",
      "Done - Time Taken: 88.0\n"
     ]
    }
   ],
   "source": [
    "#Run for a different object: Make subdirectories for each object\n",
    "autophot_input['fits_dir'] = dirpath + '/test/at2022acsd'\n",
    "\n",
    "autophot_input['target_ra'] = 357.63550\n",
    "autophot_input['target_dec'] = 14.93204\n",
    "\n",
    "run_automatic_autophot(autophot_input)"
   ]
  },
  {
   "cell_type": "code",
   "execution_count": 29,
   "id": "5c9a4de7",
   "metadata": {},
   "outputs": [
    {
     "name": "stderr",
     "output_type": "stream",
     "text": [
      "\n",
      "User instrument database: /Users/terwelj/Documents/VirtualMachine/Observing_ING/autophot/telescope.yml\n",
      "\n",
      "Number of files: 3\n",
      "\n",
      "1 telescope(s) detected - checking header keywords\n",
      "\n"
     ]
    },
    {
     "name": "stdout",
     "output_type": "stream",
     "text": [
      "\n",
      "        _       _       ___ _  _    _____\n",
      "       /_\\ _  _| |_ ___| _ \\ || |__|_   _|\n",
      "      / _ \\ || |  _/ _ \\  _/ __ / _ \\| |\n",
      "     /_/ \\_\\_,_|\\__\\___/_| |_||_\\___/|_|\n",
      "    \n",
      "     ---------------------------------------\n",
      "        Automated Photometry of Transients\n",
      "        S. J. Brennan et al. 2021 \n",
      "        Please provide feedback/bugs to:\n",
      "        Email: sean.brennan2@ucdconnect.ie\n",
      "    ---------------------------------------\n",
      "Directory of fits file: /Users/terwelj/Documents/VirtualMachine/Observing_ING/autophot/test/at2022acsf\n",
      "Found Telescopes:\n",
      "\n",
      " - INT\n",
      "\n",
      "-> Telescope check complete\n",
      "\n",
      "Checking Filter keywords and database\n",
      "\n",
      "-> Filter check complete\n",
      "\n",
      "Checking Filter information for each image\n",
      "\n",
      "Files removed - Wrong Image Type: 0\n",
      "\n",
      "Files removed - No/Wrong filter(s): 0\n",
      "Filters not included: []\n",
      "\n",
      "\n",
      "Files removed: 0\n",
      "\n",
      "+-----------+\n",
      "|File: 1 / 3|\n",
      "+-----------+\n",
      "\n"
     ]
    },
    {
     "name": "stderr",
     "output_type": "stream",
     "text": [
      "File: r1645966redCCD4_APT.fits - PID: 9729\n",
      "Start Time: 2022-12-16 11:36:42.527160\n",
      "Filter keyoward used: WFFBAND\n",
      "Telescope: INT\n",
      "Filter: i\n",
      "MJD: 59926.962\n",
      "Date of Observation : 2022-12-13\n",
      "Read Noise: 5.8 [e^- /pixel]\n",
      "GAIN: 2.9 [e^- /count]\n",
      "Exposure time: 20 [s] \n",
      "Detecting/removing cosmic ray sources\n"
     ]
    },
    {
     "name": "stdout",
     "output_type": "stream",
     "text": [
      "Starting Astroscrappy ... "
     ]
    },
    {
     "name": "stderr",
     "output_type": "stream",
     "text": [
      "Contaminated pixels with Cosmic rays removed: 27703\n",
      "Cosmic rays removed - image updated\n",
      "WARNING: FITSFixedWarning: RADECSYS= 'FK5 ' / mean place new (after the 1976 IAU) system \n",
      "the RADECSYS keyword is deprecated, use RADESYSa. [astropy.wcs.wcs]\n",
      "FITSFixedWarning: RADECSYS= 'FK5 ' / mean place new (after the 1976 IAU) system \n",
      "the RADECSYS keyword is deprecated, use RADESYSa.\n",
      "WARNING: FITSFixedWarning: PROJP1 = 1.00000000 / Projection coefficient for primary WCS \n",
      "the PROJPn keyword is deprecated, use PVi_ma. [astropy.wcs.wcs]\n",
      "FITSFixedWarning: PROJP1 = 1.00000000 / Projection coefficient for primary WCS \n",
      "the PROJPn keyword is deprecated, use PVi_ma.\n",
      "WARNING: FITSFixedWarning: PROJP3 = 0.00000000 / Projection coefficient for primary WCS \n",
      "the PROJPn keyword is deprecated, use PVi_ma. [astropy.wcs.wcs]\n",
      "FITSFixedWarning: PROJP3 = 0.00000000 / Projection coefficient for primary WCS \n",
      "the PROJPn keyword is deprecated, use PVi_ma.\n",
      "WARNING: FITSFixedWarning: 'datfix' made the change 'Invalid parameter values: MJD-OBS and DATE-OBS are inconsistent.\n",
      "Changed DATE-OBS from '2022-12-13        ' to '2022-12-13T00:00:00.0''. [astropy.wcs.wcs]\n",
      "FITSFixedWarning: 'datfix' made the change 'Invalid parameter values: MJD-OBS and DATE-OBS are inconsistent.\n",
      "Changed DATE-OBS from '2022-12-13        ' to '2022-12-13T00:00:00.0''.\n",
      "\n",
      "Performing Astrometry.net\n",
      "Removing any pre-existing WCS keys \n",
      "No WCS values found - attempting to solve field\n",
      "ASTROMETRY started...\n",
      "ASTROMETRY finished: 3s\n",
      "Updating WCS keys with new values\n",
      "WCS saved to new file\n",
      "\n",
      "Searching for FWHM\n",
      "Using Gaussian Profile for fitting\n"
     ]
    },
    {
     "name": "stdout",
     "output_type": "stream",
     "text": [
      "\n",
      "+-------------------------------+\n",
      "|Finding Full Width Half Maximum|\n",
      "+-------------------------------+\n",
      "\n"
     ]
    },
    {
     "name": "stderr",
     "output_type": "stream",
     "text": [
      "\n",
      "Number of sources before cleaning [ 25.0 sigma ]: 25 \n",
      "Updating search FWHM value\n"
     ]
    },
    {
     "name": "stdout",
     "output_type": "stream",
     "text": [
      "Updated guess for FWHM: 5.1 pixels \n"
     ]
    },
    {
     "name": "stderr",
     "output_type": "stream",
     "text": [
      "\n",
      "Number of sources before cleaning [ 25.0 sigma ]: 76 \n",
      "Removed 3 sources near boundary\n",
      "Removed 2 crowded sources\n"
     ]
    },
    {
     "name": "stdout",
     "output_type": "stream",
     "text": [
      "Fitting source for FWHM: 71/71  "
     ]
    },
    {
     "name": "stderr",
     "output_type": "stream",
     "text": [
      "Removed 7 saturated sources\n",
      "WARNING: Input data contains invalid values (NaNs or infs), which were automatically clipped. [astropy.stats.sigma_clipping]\n",
      "Input data contains invalid values (NaNs or infs), which were automatically clipped.\n",
      "Removed 7 FWHM outliers\n",
      "WARNING: Input data contains invalid values (NaNs or infs), which were automatically clipped. [astropy.stats.sigma_clipping]\n",
      "Input data contains invalid values (NaNs or infs), which were automatically clipped.\n",
      "Removed 11 median outliers\n",
      "Useable sources found [ 25 sigma ]: 71\n",
      "Removes 2 sources within minimum seperation [ 22 pixel ]\n",
      "\n",
      "FWHM: 4.485 +/- 0.123 [ pixels ]\n",
      "\n",
      "Seeing: 1.486 [ arcsec ]\n",
      "Aperture size: 7.6 pixels\n",
      "Aperture correction: -0.032 +/- 0.016 [ mag ]\n",
      "WARNING: FITSFixedWarning: 'datfix' made the change 'Invalid parameter values: MJD-OBS and DATE-OBS are inconsistent.\n",
      "Changed DATE-OBS from '2022-12-13        ' to '2022-12-13T00:00:00.0''. [astropy.wcs.wcs]\n",
      "FITSFixedWarning: 'datfix' made the change 'Invalid parameter values: MJD-OBS and DATE-OBS are inconsistent.\n",
      "Changed DATE-OBS from '2022-12-13        ' to '2022-12-13T00:00:00.0''.\n",
      "Searching for new catalog [sdss] for target_ra_49_dec_-17 \n"
     ]
    },
    {
     "name": "stdout",
     "output_type": "stream",
     "text": [
      "\n",
      "+----------------------------------------------+\n",
      "|Searching for catalog for target_ra_49_dec_-17|\n",
      "+----------------------------------------------+\n",
      "\n"
     ]
    },
    {
     "name": "stderr",
     "output_type": "stream",
     "text": [
      "Catalog retireval failed!\n",
      "ERROR: list index out of range\n",
      " Returning None\n",
      "'NoneType' object is not subscriptable\n",
      "Traceback (most recent call last):\n",
      "  File \"/opt/anaconda3/envs/autophot/lib/python3.7/site-packages/autophot/packages/main.py\", line 1136, in main\n",
      "    plot_catalog_nondetections =  autophot_input['catalog']['plot_catalog_nondetections'])\n",
      "  File \"/opt/anaconda3/envs/autophot/lib/python3.7/site-packages/autophot/packages/call_catalog.py\", line 479, in match\n",
      "    chosen_catalog = chosen_catalog[~np.isnan(chosen_catalog[catalog_keywords[image_filter]])]\n",
      "TypeError: 'NoneType' object is not subscriptable\n",
      "Failure: r1645966redCCD4_APT.fits - PID: 9729\n",
      "File: r1645968redCCD4_APT.fits - PID: 9729\n",
      "Start Time: 2022-12-16 11:37:03.886453\n"
     ]
    },
    {
     "name": "stdout",
     "output_type": "stream",
     "text": [
      "\n",
      "+---------------------------------+\n",
      "|Matching catalog sources to image|\n",
      "+---------------------------------+\n",
      "\n",
      "\n",
      "+-----------+\n",
      "|File: 2 / 3|\n",
      "+-----------+\n",
      "\n"
     ]
    },
    {
     "name": "stderr",
     "output_type": "stream",
     "text": [
      "Filter keyoward used: WFFBAND\n",
      "Telescope: INT\n",
      "Filter: g\n",
      "MJD: 59926.964\n",
      "Date of Observation : 2022-12-13\n",
      "Read Noise: 5.8 [e^- /pixel]\n",
      "GAIN: 2.9 [e^- /count]\n",
      "Exposure time: 20 [s] \n",
      "Detecting/removing cosmic ray sources\n"
     ]
    },
    {
     "name": "stdout",
     "output_type": "stream",
     "text": [
      "Starting Astroscrappy ... "
     ]
    },
    {
     "name": "stderr",
     "output_type": "stream",
     "text": [
      "Contaminated pixels with Cosmic rays removed: 30081\n",
      "Cosmic rays removed - image updated\n",
      "WARNING: FITSFixedWarning: RADECSYS= 'FK5 ' / mean place new (after the 1976 IAU) system \n",
      "the RADECSYS keyword is deprecated, use RADESYSa. [astropy.wcs.wcs]\n",
      "FITSFixedWarning: RADECSYS= 'FK5 ' / mean place new (after the 1976 IAU) system \n",
      "the RADECSYS keyword is deprecated, use RADESYSa.\n",
      "WARNING: FITSFixedWarning: PROJP1 = 1.00000000 / Projection coefficient for primary WCS \n",
      "the PROJPn keyword is deprecated, use PVi_ma. [astropy.wcs.wcs]\n",
      "FITSFixedWarning: PROJP1 = 1.00000000 / Projection coefficient for primary WCS \n",
      "the PROJPn keyword is deprecated, use PVi_ma.\n",
      "WARNING: FITSFixedWarning: PROJP3 = 0.00000000 / Projection coefficient for primary WCS \n",
      "the PROJPn keyword is deprecated, use PVi_ma. [astropy.wcs.wcs]\n",
      "FITSFixedWarning: PROJP3 = 0.00000000 / Projection coefficient for primary WCS \n",
      "the PROJPn keyword is deprecated, use PVi_ma.\n",
      "WARNING: FITSFixedWarning: 'datfix' made the change 'Invalid parameter values: MJD-OBS and DATE-OBS are inconsistent.\n",
      "Changed DATE-OBS from '2022-12-13        ' to '2022-12-13T00:00:00.0''. [astropy.wcs.wcs]\n",
      "FITSFixedWarning: 'datfix' made the change 'Invalid parameter values: MJD-OBS and DATE-OBS are inconsistent.\n",
      "Changed DATE-OBS from '2022-12-13        ' to '2022-12-13T00:00:00.0''.\n",
      "\n",
      "Performing Astrometry.net\n",
      "Removing any pre-existing WCS keys \n",
      "No WCS values found - attempting to solve field\n",
      "ASTROMETRY started...\n",
      "ASTROMETRY finished: 3s\n",
      "Updating WCS keys with new values\n",
      "WCS saved to new file\n",
      "\n",
      "Searching for FWHM\n",
      "Using Gaussian Profile for fitting\n"
     ]
    },
    {
     "name": "stdout",
     "output_type": "stream",
     "text": [
      "\n",
      "+-------------------------------+\n",
      "|Finding Full Width Half Maximum|\n",
      "+-------------------------------+\n",
      "\n"
     ]
    },
    {
     "name": "stderr",
     "output_type": "stream",
     "text": [
      "\n",
      "Number of sources before cleaning [ 25.0 sigma ]: 25 \n",
      "Updating search FWHM value\n"
     ]
    },
    {
     "name": "stdout",
     "output_type": "stream",
     "text": [
      "Updated guess for FWHM: 6.3 pixels \n"
     ]
    },
    {
     "name": "stderr",
     "output_type": "stream",
     "text": [
      "\n",
      "Number of sources before cleaning [ 25.0 sigma ]: 47 \n",
      "Removed 4 crowded sources\n"
     ]
    },
    {
     "name": "stdout",
     "output_type": "stream",
     "text": [
      "Fitting source for FWHM: 43/43   "
     ]
    },
    {
     "name": "stderr",
     "output_type": "stream",
     "text": [
      "Removed 3 saturated sources\n",
      "WARNING: Input data contains invalid values (NaNs or infs), which were automatically clipped. [astropy.stats.sigma_clipping]\n",
      "Input data contains invalid values (NaNs or infs), which were automatically clipped.\n",
      "Removed 3 FWHM outliers\n",
      "WARNING: Input data contains invalid values (NaNs or infs), which were automatically clipped. [astropy.stats.sigma_clipping]\n",
      "Input data contains invalid values (NaNs or infs), which were automatically clipped.\n",
      "Removed 12 median outliers\n",
      "Useable sources found [ 25 sigma ]: 43\n",
      "Removes 2 sources within minimum seperation [ 31 pixel ]\n",
      "\n",
      "FWHM: 6.346 +/- 0.119 [ pixels ]\n",
      "\n",
      "Seeing: 2.103 [ arcsec ]\n",
      "Aperture size: 10.8 pixels\n",
      "Aperture correction: -0.045 +/- 0.010 [ mag ]\n",
      "WARNING: FITSFixedWarning: 'datfix' made the change 'Invalid parameter values: MJD-OBS and DATE-OBS are inconsistent.\n",
      "Changed DATE-OBS from '2022-12-13        ' to '2022-12-13T00:00:00.0''. [astropy.wcs.wcs]\n",
      "FITSFixedWarning: 'datfix' made the change 'Invalid parameter values: MJD-OBS and DATE-OBS are inconsistent.\n",
      "Changed DATE-OBS from '2022-12-13        ' to '2022-12-13T00:00:00.0''.\n",
      "Searching for new catalog [sdss] for target_ra_49_dec_-17 \n",
      "Catalog retireval failed!\n",
      "ERROR: list index out of range\n",
      " Returning None\n",
      "'NoneType' object is not subscriptable\n",
      "Traceback (most recent call last):\n",
      "  File \"/opt/anaconda3/envs/autophot/lib/python3.7/site-packages/autophot/packages/main.py\", line 1136, in main\n",
      "    plot_catalog_nondetections =  autophot_input['catalog']['plot_catalog_nondetections'])\n",
      "  File \"/opt/anaconda3/envs/autophot/lib/python3.7/site-packages/autophot/packages/call_catalog.py\", line 479, in match\n",
      "    chosen_catalog = chosen_catalog[~np.isnan(chosen_catalog[catalog_keywords[image_filter]])]\n",
      "TypeError: 'NoneType' object is not subscriptable\n",
      "Failure: r1645968redCCD4_APT.fits - PID: 9729\n"
     ]
    },
    {
     "name": "stdout",
     "output_type": "stream",
     "text": [
      "\n",
      "+----------------------------------------------+\n",
      "|Searching for catalog for target_ra_49_dec_-17|\n",
      "+----------------------------------------------+\n",
      "\n",
      "\n",
      "+---------------------------------+\n",
      "|Matching catalog sources to image|\n",
      "+---------------------------------+\n",
      "\n",
      "\n",
      "+-----------+\n",
      "|File: 3 / 3|\n",
      "+-----------+\n",
      "\n"
     ]
    },
    {
     "name": "stderr",
     "output_type": "stream",
     "text": [
      "File: r1645967redCCD4_APT.fits - PID: 9729\n",
      "Start Time: 2022-12-16 11:37:24.413918\n",
      "Filter keyoward used: WFFBAND\n",
      "Telescope: INT\n",
      "Filter: r\n",
      "MJD: 59926.963\n",
      "Date of Observation : 2022-12-13\n",
      "Read Noise: 5.8 [e^- /pixel]\n",
      "GAIN: 2.9 [e^- /count]\n",
      "Exposure time: 20 [s] \n",
      "Detecting/removing cosmic ray sources\n"
     ]
    },
    {
     "name": "stdout",
     "output_type": "stream",
     "text": [
      "Starting Astroscrappy ... "
     ]
    },
    {
     "name": "stderr",
     "output_type": "stream",
     "text": [
      "Contaminated pixels with Cosmic rays removed: 27433\n",
      "Cosmic rays removed - image updated\n",
      "WARNING: FITSFixedWarning: RADECSYS= 'FK5 ' / mean place new (after the 1976 IAU) system \n",
      "the RADECSYS keyword is deprecated, use RADESYSa. [astropy.wcs.wcs]\n",
      "FITSFixedWarning: RADECSYS= 'FK5 ' / mean place new (after the 1976 IAU) system \n",
      "the RADECSYS keyword is deprecated, use RADESYSa.\n",
      "WARNING: FITSFixedWarning: PROJP1 = 1.00000000 / Projection coefficient for primary WCS \n",
      "the PROJPn keyword is deprecated, use PVi_ma. [astropy.wcs.wcs]\n",
      "FITSFixedWarning: PROJP1 = 1.00000000 / Projection coefficient for primary WCS \n",
      "the PROJPn keyword is deprecated, use PVi_ma.\n",
      "WARNING: FITSFixedWarning: PROJP3 = 0.00000000 / Projection coefficient for primary WCS \n",
      "the PROJPn keyword is deprecated, use PVi_ma. [astropy.wcs.wcs]\n",
      "FITSFixedWarning: PROJP3 = 0.00000000 / Projection coefficient for primary WCS \n",
      "the PROJPn keyword is deprecated, use PVi_ma.\n",
      "WARNING: FITSFixedWarning: 'datfix' made the change 'Invalid parameter values: MJD-OBS and DATE-OBS are inconsistent.\n",
      "Changed DATE-OBS from '2022-12-13        ' to '2022-12-13T00:00:00.0''. [astropy.wcs.wcs]\n",
      "FITSFixedWarning: 'datfix' made the change 'Invalid parameter values: MJD-OBS and DATE-OBS are inconsistent.\n",
      "Changed DATE-OBS from '2022-12-13        ' to '2022-12-13T00:00:00.0''.\n",
      "\n",
      "Performing Astrometry.net\n",
      "Removing any pre-existing WCS keys \n",
      "No WCS values found - attempting to solve field\n",
      "ASTROMETRY started...\n",
      "ASTROMETRY finished: 3s\n",
      "Updating WCS keys with new values\n",
      "WCS saved to new file\n",
      "\n",
      "Searching for FWHM\n",
      "Using Gaussian Profile for fitting\n"
     ]
    },
    {
     "name": "stdout",
     "output_type": "stream",
     "text": [
      "\n",
      "+-------------------------------+\n",
      "|Finding Full Width Half Maximum|\n",
      "+-------------------------------+\n",
      "\n"
     ]
    },
    {
     "name": "stderr",
     "output_type": "stream",
     "text": [
      "\n",
      "Number of sources before cleaning [ 25.0 sigma ]: 25 \n",
      "Updating search FWHM value\n"
     ]
    },
    {
     "name": "stdout",
     "output_type": "stream",
     "text": [
      "Updated guess for FWHM: 5.9 pixels \n"
     ]
    },
    {
     "name": "stderr",
     "output_type": "stream",
     "text": [
      "\n",
      "Number of sources before cleaning [ 25.0 sigma ]: 71 \n",
      "Removed 1 sources near boundary\n",
      "Removed 3 crowded sources\n"
     ]
    },
    {
     "name": "stdout",
     "output_type": "stream",
     "text": [
      "Fitting source for FWHM: 67/67  "
     ]
    },
    {
     "name": "stderr",
     "output_type": "stream",
     "text": [
      "Removed 6 saturated sources\n",
      "WARNING: Input data contains invalid values (NaNs or infs), which were automatically clipped. [astropy.stats.sigma_clipping]\n",
      "Input data contains invalid values (NaNs or infs), which were automatically clipped.\n",
      "Removed 8 FWHM outliers\n",
      "WARNING: Input data contains invalid values (NaNs or infs), which were automatically clipped. [astropy.stats.sigma_clipping]\n",
      "Input data contains invalid values (NaNs or infs), which were automatically clipped.\n",
      "Removed 15 median outliers\n",
      "Useable sources found [ 25 sigma ]: 67\n",
      "Removes 2 sources within minimum seperation [ 23 pixel ]\n",
      "\n",
      "FWHM: 4.717 +/- 0.506 [ pixels ]\n",
      "\n",
      "Seeing: 1.563 [ arcsec ]\n",
      "Aperture size: 8.0 pixels\n",
      "Aperture correction: -0.030 +/- 0.016 [ mag ]\n",
      "WARNING: FITSFixedWarning: 'datfix' made the change 'Invalid parameter values: MJD-OBS and DATE-OBS are inconsistent.\n",
      "Changed DATE-OBS from '2022-12-13        ' to '2022-12-13T00:00:00.0''. [astropy.wcs.wcs]\n",
      "FITSFixedWarning: 'datfix' made the change 'Invalid parameter values: MJD-OBS and DATE-OBS are inconsistent.\n",
      "Changed DATE-OBS from '2022-12-13        ' to '2022-12-13T00:00:00.0''.\n",
      "Searching for new catalog [sdss] for target_ra_49_dec_-17 \n",
      "Catalog retireval failed!\n",
      "ERROR: list index out of range\n",
      " Returning None\n",
      "'NoneType' object is not subscriptable\n",
      "Traceback (most recent call last):\n",
      "  File \"/opt/anaconda3/envs/autophot/lib/python3.7/site-packages/autophot/packages/main.py\", line 1136, in main\n",
      "    plot_catalog_nondetections =  autophot_input['catalog']['plot_catalog_nondetections'])\n",
      "  File \"/opt/anaconda3/envs/autophot/lib/python3.7/site-packages/autophot/packages/call_catalog.py\", line 479, in match\n",
      "    chosen_catalog = chosen_catalog[~np.isnan(chosen_catalog[catalog_keywords[image_filter]])]\n",
      "TypeError: 'NoneType' object is not subscriptable\n",
      "Failure: r1645967redCCD4_APT.fits - PID: 9729\n"
     ]
    },
    {
     "name": "stdout",
     "output_type": "stream",
     "text": [
      "\n",
      "+----------------------------------------------+\n",
      "|Searching for catalog for target_ra_49_dec_-17|\n",
      "+----------------------------------------------+\n",
      "\n",
      "\n",
      "+---------------------------------+\n",
      "|Matching catalog sources to image|\n",
      "+---------------------------------+\n",
      "\n",
      "\n",
      "---\n",
      "\n",
      "Files that failed : ['/Users/terwelj/Documents/VirtualMachine/Observing_ING/autophot/test/at2022acsf_REDUCED/r1645966redCCD4/r1645966redCCD4_APT.fits', '/Users/terwelj/Documents/VirtualMachine/Observing_ING/autophot/test/at2022acsf_REDUCED/r1645968redCCD4/r1645968redCCD4_APT.fits', '/Users/terwelj/Documents/VirtualMachine/Observing_ING/autophot/test/at2022acsf_REDUCED/r1645967redCCD4/r1645967redCCD4_APT.fits']\n",
      "\n",
      "DONE\n",
      "\n",
      "Done - Time Taken: 62.3\n"
     ]
    }
   ],
   "source": [
    "#Run for a different object: Make subdirectories for each object\n",
    "autophot_input['fits_dir'] = dirpath + '/test/at2022acsf'\n",
    "\n",
    "autophot_input['target_ra'] = 48.68741\n",
    "autophot_input['target_dec'] = -16.63493\n",
    "\n",
    "run_automatic_autophot(autophot_input)"
   ]
  },
  {
   "cell_type": "code",
   "execution_count": 30,
   "id": "3418cc52",
   "metadata": {},
   "outputs": [
    {
     "name": "stderr",
     "output_type": "stream",
     "text": [
      "\n",
      "User instrument database: /Users/terwelj/Documents/VirtualMachine/Observing_ING/autophot/telescope.yml\n",
      "\n",
      "Number of files: 3\n",
      "\n",
      "1 telescope(s) detected - checking header keywords\n",
      "\n"
     ]
    },
    {
     "name": "stdout",
     "output_type": "stream",
     "text": [
      "\n",
      "        _       _       ___ _  _    _____\n",
      "       /_\\ _  _| |_ ___| _ \\ || |__|_   _|\n",
      "      / _ \\ || |  _/ _ \\  _/ __ / _ \\| |\n",
      "     /_/ \\_\\_,_|\\__\\___/_| |_||_\\___/|_|\n",
      "    \n",
      "     ---------------------------------------\n",
      "        Automated Photometry of Transients\n",
      "        S. J. Brennan et al. 2021 \n",
      "        Please provide feedback/bugs to:\n",
      "        Email: sean.brennan2@ucdconnect.ie\n",
      "    ---------------------------------------\n",
      "Directory of fits file: /Users/terwelj/Documents/VirtualMachine/Observing_ING/autophot/test/at2022acru\n",
      "Found Telescopes:\n",
      "\n",
      " - INT\n",
      "\n",
      "-> Telescope check complete\n",
      "\n",
      "Checking Filter keywords and database\n",
      "\n",
      "-> Filter check complete\n",
      "\n",
      "Checking Filter information for each image\n"
     ]
    },
    {
     "name": "stderr",
     "output_type": "stream",
     "text": [
      "File: r1645969redCCD4_APT.fits - PID: 9729\n",
      "Start Time: 2022-12-16 11:37:44.898296\n",
      "Filter keyoward used: WFFBAND\n",
      "Telescope: INT\n",
      "Filter: g\n",
      "MJD: 59926.966\n",
      "Date of Observation : 2022-12-13\n",
      "Read Noise: 5.8 [e^- /pixel]\n",
      "GAIN: 2.9 [e^- /count]\n",
      "Exposure time: 20 [s] \n",
      "Detecting/removing cosmic ray sources\n"
     ]
    },
    {
     "name": "stdout",
     "output_type": "stream",
     "text": [
      "\n",
      "Files removed - Wrong Image Type: 0\n",
      "\n",
      "Files removed - No/Wrong filter(s): 0\n",
      "Filters not included: []\n",
      "\n",
      "\n",
      "Files removed: 0\n",
      "\n",
      "+-----------+\n",
      "|File: 1 / 3|\n",
      "+-----------+\n",
      "\n",
      "Starting Astroscrappy ... "
     ]
    },
    {
     "name": "stderr",
     "output_type": "stream",
     "text": [
      "Contaminated pixels with Cosmic rays removed: 30432\n",
      "Cosmic rays removed - image updated\n",
      "WARNING: FITSFixedWarning: RADECSYS= 'FK5 ' / mean place new (after the 1976 IAU) system \n",
      "the RADECSYS keyword is deprecated, use RADESYSa. [astropy.wcs.wcs]\n",
      "FITSFixedWarning: RADECSYS= 'FK5 ' / mean place new (after the 1976 IAU) system \n",
      "the RADECSYS keyword is deprecated, use RADESYSa.\n",
      "WARNING: FITSFixedWarning: PROJP1 = 1.00000000 / Projection coefficient for primary WCS \n",
      "the PROJPn keyword is deprecated, use PVi_ma. [astropy.wcs.wcs]\n",
      "FITSFixedWarning: PROJP1 = 1.00000000 / Projection coefficient for primary WCS \n",
      "the PROJPn keyword is deprecated, use PVi_ma.\n",
      "WARNING: FITSFixedWarning: PROJP3 = 0.00000000 / Projection coefficient for primary WCS \n",
      "the PROJPn keyword is deprecated, use PVi_ma. [astropy.wcs.wcs]\n",
      "FITSFixedWarning: PROJP3 = 0.00000000 / Projection coefficient for primary WCS \n",
      "the PROJPn keyword is deprecated, use PVi_ma.\n",
      "WARNING: FITSFixedWarning: 'datfix' made the change 'Invalid parameter values: MJD-OBS and DATE-OBS are inconsistent.\n",
      "Changed DATE-OBS from '2022-12-13        ' to '2022-12-13T00:00:00.0''. [astropy.wcs.wcs]\n",
      "FITSFixedWarning: 'datfix' made the change 'Invalid parameter values: MJD-OBS and DATE-OBS are inconsistent.\n",
      "Changed DATE-OBS from '2022-12-13        ' to '2022-12-13T00:00:00.0''.\n",
      "\n",
      "Performing Astrometry.net\n",
      "Removing any pre-existing WCS keys \n",
      "No WCS values found - attempting to solve field\n",
      "ASTROMETRY started...\n",
      "ASTROMETRY finished: 3s\n",
      "Updating WCS keys with new values\n",
      "WCS saved to new file\n",
      "\n",
      "Searching for FWHM\n",
      "Using Gaussian Profile for fitting\n"
     ]
    },
    {
     "name": "stdout",
     "output_type": "stream",
     "text": [
      "\n",
      "+-------------------------------+\n",
      "|Finding Full Width Half Maximum|\n",
      "+-------------------------------+\n",
      "\n"
     ]
    },
    {
     "name": "stderr",
     "output_type": "stream",
     "text": [
      "\n",
      "Number of sources before cleaning [ 25.0 sigma ]: 25 \n",
      "Updating search FWHM value\n"
     ]
    },
    {
     "name": "stdout",
     "output_type": "stream",
     "text": [
      "Updated guess for FWHM: 5.7 pixels \n"
     ]
    },
    {
     "name": "stderr",
     "output_type": "stream",
     "text": [
      "\n",
      "Number of sources before cleaning [ 25.0 sigma ]: 68 \n",
      "Removed 1 sources near boundary\n",
      "Removed 4 crowded sources\n"
     ]
    },
    {
     "name": "stdout",
     "output_type": "stream",
     "text": [
      "Fitting source for FWHM: 63/63  "
     ]
    },
    {
     "name": "stderr",
     "output_type": "stream",
     "text": [
      "Removed 9 saturated sources\n",
      "WARNING: Input data contains invalid values (NaNs or infs), which were automatically clipped. [astropy.stats.sigma_clipping]\n",
      "Input data contains invalid values (NaNs or infs), which were automatically clipped.\n",
      "Removed 14 FWHM outliers\n",
      "WARNING: Input data contains invalid values (NaNs or infs), which were automatically clipped. [astropy.stats.sigma_clipping]\n",
      "Input data contains invalid values (NaNs or infs), which were automatically clipped.\n",
      "Removed 31 median outliers\n",
      "Useable sources found [ 25 sigma ]: 63\n",
      "Removes 0 sources within minimum seperation [ 28 pixel ]\n",
      "\n",
      "FWHM: 5.723 +/- 0.243 [ pixels ]\n",
      "\n",
      "Seeing: 1.895 [ arcsec ]\n",
      "Aperture size: 9.7 pixels\n",
      "Aperture correction: -0.067 +/- 0.008 [ mag ]\n",
      "WARNING: FITSFixedWarning: 'datfix' made the change 'Invalid parameter values: MJD-OBS and DATE-OBS are inconsistent.\n",
      "Changed DATE-OBS from '2022-12-13        ' to '2022-12-13T00:00:00.0''. [astropy.wcs.wcs]\n",
      "FITSFixedWarning: 'datfix' made the change 'Invalid parameter values: MJD-OBS and DATE-OBS are inconsistent.\n",
      "Changed DATE-OBS from '2022-12-13        ' to '2022-12-13T00:00:00.0''.\n",
      "Searching for new catalog [sdss] for target_ra_58_dec_-11 \n"
     ]
    },
    {
     "name": "stdout",
     "output_type": "stream",
     "text": [
      "\n",
      "+----------------------------------------------+\n",
      "|Searching for catalog for target_ra_58_dec_-11|\n",
      "+----------------------------------------------+\n",
      "\n"
     ]
    },
    {
     "name": "stderr",
     "output_type": "stream",
     "text": [
      "Catalog retireval failed!\n",
      "ERROR: list index out of range\n",
      " Returning None\n",
      "'NoneType' object is not subscriptable\n",
      "Traceback (most recent call last):\n",
      "  File \"/opt/anaconda3/envs/autophot/lib/python3.7/site-packages/autophot/packages/main.py\", line 1136, in main\n",
      "    plot_catalog_nondetections =  autophot_input['catalog']['plot_catalog_nondetections'])\n",
      "  File \"/opt/anaconda3/envs/autophot/lib/python3.7/site-packages/autophot/packages/call_catalog.py\", line 479, in match\n",
      "    chosen_catalog = chosen_catalog[~np.isnan(chosen_catalog[catalog_keywords[image_filter]])]\n",
      "TypeError: 'NoneType' object is not subscriptable\n",
      "Failure: r1645969redCCD4_APT.fits - PID: 9729\n",
      "File: r1645970redCCD4_APT.fits - PID: 9729\n",
      "Start Time: 2022-12-16 11:38:05.801005\n"
     ]
    },
    {
     "name": "stdout",
     "output_type": "stream",
     "text": [
      "\n",
      "+---------------------------------+\n",
      "|Matching catalog sources to image|\n",
      "+---------------------------------+\n",
      "\n",
      "\n",
      "+-----------+\n",
      "|File: 2 / 3|\n",
      "+-----------+\n",
      "\n"
     ]
    },
    {
     "name": "stderr",
     "output_type": "stream",
     "text": [
      "Filter keyoward used: WFFBAND\n",
      "Telescope: INT\n",
      "Filter: i\n",
      "MJD: 59926.967\n",
      "Date of Observation : 2022-12-13\n",
      "Read Noise: 5.8 [e^- /pixel]\n",
      "GAIN: 2.9 [e^- /count]\n",
      "Exposure time: 20 [s] \n",
      "Detecting/removing cosmic ray sources\n"
     ]
    },
    {
     "name": "stdout",
     "output_type": "stream",
     "text": [
      "Starting Astroscrappy ... "
     ]
    },
    {
     "name": "stderr",
     "output_type": "stream",
     "text": [
      "Contaminated pixels with Cosmic rays removed: 28020\n",
      "Cosmic rays removed - image updated\n",
      "WARNING: FITSFixedWarning: RADECSYS= 'FK5 ' / mean place new (after the 1976 IAU) system \n",
      "the RADECSYS keyword is deprecated, use RADESYSa. [astropy.wcs.wcs]\n",
      "FITSFixedWarning: RADECSYS= 'FK5 ' / mean place new (after the 1976 IAU) system \n",
      "the RADECSYS keyword is deprecated, use RADESYSa.\n",
      "WARNING: FITSFixedWarning: PROJP1 = 1.00000000 / Projection coefficient for primary WCS \n",
      "the PROJPn keyword is deprecated, use PVi_ma. [astropy.wcs.wcs]\n",
      "FITSFixedWarning: PROJP1 = 1.00000000 / Projection coefficient for primary WCS \n",
      "the PROJPn keyword is deprecated, use PVi_ma.\n",
      "WARNING: FITSFixedWarning: PROJP3 = 0.00000000 / Projection coefficient for primary WCS \n",
      "the PROJPn keyword is deprecated, use PVi_ma. [astropy.wcs.wcs]\n",
      "FITSFixedWarning: PROJP3 = 0.00000000 / Projection coefficient for primary WCS \n",
      "the PROJPn keyword is deprecated, use PVi_ma.\n",
      "WARNING: FITSFixedWarning: 'datfix' made the change 'Invalid parameter values: MJD-OBS and DATE-OBS are inconsistent.\n",
      "Changed DATE-OBS from '2022-12-13        ' to '2022-12-13T00:00:00.0''. [astropy.wcs.wcs]\n",
      "FITSFixedWarning: 'datfix' made the change 'Invalid parameter values: MJD-OBS and DATE-OBS are inconsistent.\n",
      "Changed DATE-OBS from '2022-12-13        ' to '2022-12-13T00:00:00.0''.\n",
      "\n",
      "Performing Astrometry.net\n",
      "Removing any pre-existing WCS keys \n",
      "No WCS values found - attempting to solve field\n",
      "ASTROMETRY started...\n",
      "ASTROMETRY finished: 3s\n",
      "Updating WCS keys with new values\n",
      "WCS saved to new file\n",
      "\n",
      "Searching for FWHM\n",
      "Using Gaussian Profile for fitting\n"
     ]
    },
    {
     "name": "stdout",
     "output_type": "stream",
     "text": [
      "\n",
      "+-------------------------------+\n",
      "|Finding Full Width Half Maximum|\n",
      "+-------------------------------+\n",
      "\n"
     ]
    },
    {
     "name": "stderr",
     "output_type": "stream",
     "text": [
      "\n",
      "Number of sources before cleaning [ 25.0 sigma ]: 25 \n",
      "Updating search FWHM value\n"
     ]
    },
    {
     "name": "stdout",
     "output_type": "stream",
     "text": [
      "Updated guess for FWHM: 5.9 pixels \n"
     ]
    },
    {
     "name": "stderr",
     "output_type": "stream",
     "text": [
      "\n",
      "Number of sources before cleaning [ 25.0 sigma ]: 78 \n",
      "Removed 4 crowded sources\n"
     ]
    },
    {
     "name": "stdout",
     "output_type": "stream",
     "text": [
      "Fitting source for FWHM: 74/74 "
     ]
    },
    {
     "name": "stderr",
     "output_type": "stream",
     "text": [
      "Removed 10 saturated sources\n",
      "WARNING: Input data contains invalid values (NaNs or infs), which were automatically clipped. [astropy.stats.sigma_clipping]\n",
      "Input data contains invalid values (NaNs or infs), which were automatically clipped.\n",
      "Removed 15 FWHM outliers\n",
      "WARNING: Input data contains invalid values (NaNs or infs), which were automatically clipped. [astropy.stats.sigma_clipping]\n",
      "Input data contains invalid values (NaNs or infs), which were automatically clipped.\n",
      "Removed 14 median outliers\n",
      "Useable sources found [ 25 sigma ]: 74\n",
      "Removes 2 sources within minimum seperation [ 29 pixel ]\n",
      "\n",
      "FWHM: 5.885 +/- 0.151 [ pixels ]\n",
      "\n",
      "Seeing: 1.954 [ arcsec ]\n",
      "Aperture size: 10.0 pixels\n",
      "Aperture correction: -0.035 +/- 0.020 [ mag ]\n",
      "WARNING: FITSFixedWarning: 'datfix' made the change 'Invalid parameter values: MJD-OBS and DATE-OBS are inconsistent.\n",
      "Changed DATE-OBS from '2022-12-13        ' to '2022-12-13T00:00:00.0''. [astropy.wcs.wcs]\n",
      "FITSFixedWarning: 'datfix' made the change 'Invalid parameter values: MJD-OBS and DATE-OBS are inconsistent.\n",
      "Changed DATE-OBS from '2022-12-13        ' to '2022-12-13T00:00:00.0''.\n",
      "Searching for new catalog [sdss] for target_ra_58_dec_-11 \n",
      "Catalog retireval failed!\n",
      "ERROR: list index out of range\n",
      " Returning None\n",
      "'NoneType' object is not subscriptable\n",
      "Traceback (most recent call last):\n",
      "  File \"/opt/anaconda3/envs/autophot/lib/python3.7/site-packages/autophot/packages/main.py\", line 1136, in main\n",
      "    plot_catalog_nondetections =  autophot_input['catalog']['plot_catalog_nondetections'])\n",
      "  File \"/opt/anaconda3/envs/autophot/lib/python3.7/site-packages/autophot/packages/call_catalog.py\", line 479, in match\n",
      "    chosen_catalog = chosen_catalog[~np.isnan(chosen_catalog[catalog_keywords[image_filter]])]\n",
      "TypeError: 'NoneType' object is not subscriptable\n",
      "Failure: r1645970redCCD4_APT.fits - PID: 9729\n",
      "File: r1645971redCCD4_APT.fits - PID: 9729\n",
      "Start Time: 2022-12-16 11:38:25.858221\n"
     ]
    },
    {
     "name": "stdout",
     "output_type": "stream",
     "text": [
      "\n",
      "+----------------------------------------------+\n",
      "|Searching for catalog for target_ra_58_dec_-11|\n",
      "+----------------------------------------------+\n",
      "\n",
      "\n",
      "+---------------------------------+\n",
      "|Matching catalog sources to image|\n",
      "+---------------------------------+\n",
      "\n",
      "\n",
      "+-----------+\n",
      "|File: 3 / 3|\n",
      "+-----------+\n",
      "\n"
     ]
    },
    {
     "name": "stderr",
     "output_type": "stream",
     "text": [
      "Filter keyoward used: WFFBAND\n",
      "Telescope: INT\n",
      "Filter: r\n",
      "MJD: 59926.969\n",
      "Date of Observation : 2022-12-13\n",
      "Read Noise: 5.8 [e^- /pixel]\n",
      "GAIN: 2.9 [e^- /count]\n",
      "Exposure time: 20 [s] \n",
      "Detecting/removing cosmic ray sources\n"
     ]
    },
    {
     "name": "stdout",
     "output_type": "stream",
     "text": [
      "Starting Astroscrappy ... "
     ]
    },
    {
     "name": "stderr",
     "output_type": "stream",
     "text": [
      "Contaminated pixels with Cosmic rays removed: 27644\n",
      "Cosmic rays removed - image updated\n",
      "WARNING: FITSFixedWarning: RADECSYS= 'FK5 ' / mean place new (after the 1976 IAU) system \n",
      "the RADECSYS keyword is deprecated, use RADESYSa. [astropy.wcs.wcs]\n",
      "FITSFixedWarning: RADECSYS= 'FK5 ' / mean place new (after the 1976 IAU) system \n",
      "the RADECSYS keyword is deprecated, use RADESYSa.\n",
      "WARNING: FITSFixedWarning: PROJP1 = 1.00000000 / Projection coefficient for primary WCS \n",
      "the PROJPn keyword is deprecated, use PVi_ma. [astropy.wcs.wcs]\n",
      "FITSFixedWarning: PROJP1 = 1.00000000 / Projection coefficient for primary WCS \n",
      "the PROJPn keyword is deprecated, use PVi_ma.\n",
      "WARNING: FITSFixedWarning: PROJP3 = 0.00000000 / Projection coefficient for primary WCS \n",
      "the PROJPn keyword is deprecated, use PVi_ma. [astropy.wcs.wcs]\n",
      "FITSFixedWarning: PROJP3 = 0.00000000 / Projection coefficient for primary WCS \n",
      "the PROJPn keyword is deprecated, use PVi_ma.\n",
      "WARNING: FITSFixedWarning: 'datfix' made the change 'Invalid parameter values: MJD-OBS and DATE-OBS are inconsistent.\n",
      "Changed DATE-OBS from '2022-12-13        ' to '2022-12-13T00:00:00.0''. [astropy.wcs.wcs]\n",
      "FITSFixedWarning: 'datfix' made the change 'Invalid parameter values: MJD-OBS and DATE-OBS are inconsistent.\n",
      "Changed DATE-OBS from '2022-12-13        ' to '2022-12-13T00:00:00.0''.\n",
      "\n",
      "Performing Astrometry.net\n",
      "Removing any pre-existing WCS keys \n",
      "No WCS values found - attempting to solve field\n",
      "ASTROMETRY started...\n",
      "ASTROMETRY finished: 3s\n",
      "Updating WCS keys with new values\n",
      "WCS saved to new file\n",
      "\n",
      "Searching for FWHM\n",
      "Using Gaussian Profile for fitting\n"
     ]
    },
    {
     "name": "stdout",
     "output_type": "stream",
     "text": [
      "\n",
      "+-------------------------------+\n",
      "|Finding Full Width Half Maximum|\n",
      "+-------------------------------+\n",
      "\n"
     ]
    },
    {
     "name": "stderr",
     "output_type": "stream",
     "text": [
      "\n",
      "Number of sources before cleaning [ 25.0 sigma ]: 25 \n",
      "Updating search FWHM value\n"
     ]
    },
    {
     "name": "stdout",
     "output_type": "stream",
     "text": [
      "Updated guess for FWHM: 5.1 pixels \n"
     ]
    },
    {
     "name": "stderr",
     "output_type": "stream",
     "text": [
      "\n",
      "Number of sources before cleaning [ 25.0 sigma ]: 90 \n",
      "Removed 4 crowded sources\n"
     ]
    },
    {
     "name": "stdout",
     "output_type": "stream",
     "text": [
      "Fitting source for FWHM: 86/86  "
     ]
    },
    {
     "name": "stderr",
     "output_type": "stream",
     "text": [
      "Removed 13 saturated sources\n",
      "WARNING: Input data contains invalid values (NaNs or infs), which were automatically clipped. [astropy.stats.sigma_clipping]\n",
      "Input data contains invalid values (NaNs or infs), which were automatically clipped.\n",
      "Removed 17 FWHM outliers\n",
      "WARNING: Input data contains invalid values (NaNs or infs), which were automatically clipped. [astropy.stats.sigma_clipping]\n",
      "Input data contains invalid values (NaNs or infs), which were automatically clipped.\n",
      "Removed 34 median outliers\n",
      "Useable sources found [ 25 sigma ]: 86\n",
      "Removes 4 sources within minimum seperation [ 24 pixel ]\n",
      "\n",
      "FWHM: 5.009 +/- 0.215 [ pixels ]\n",
      "\n",
      "Seeing: 1.660 [ arcsec ]\n",
      "Aperture size: 8.5 pixels\n",
      "Aperture correction: -0.029 +/- 0.012 [ mag ]\n",
      "WARNING: FITSFixedWarning: 'datfix' made the change 'Invalid parameter values: MJD-OBS and DATE-OBS are inconsistent.\n",
      "Changed DATE-OBS from '2022-12-13        ' to '2022-12-13T00:00:00.0''. [astropy.wcs.wcs]\n",
      "FITSFixedWarning: 'datfix' made the change 'Invalid parameter values: MJD-OBS and DATE-OBS are inconsistent.\n",
      "Changed DATE-OBS from '2022-12-13        ' to '2022-12-13T00:00:00.0''.\n",
      "Searching for new catalog [sdss] for target_ra_58_dec_-11 \n",
      "Catalog retireval failed!\n",
      "ERROR: list index out of range\n",
      " Returning None\n",
      "'NoneType' object is not subscriptable\n",
      "Traceback (most recent call last):\n",
      "  File \"/opt/anaconda3/envs/autophot/lib/python3.7/site-packages/autophot/packages/main.py\", line 1136, in main\n",
      "    plot_catalog_nondetections =  autophot_input['catalog']['plot_catalog_nondetections'])\n",
      "  File \"/opt/anaconda3/envs/autophot/lib/python3.7/site-packages/autophot/packages/call_catalog.py\", line 479, in match\n",
      "    chosen_catalog = chosen_catalog[~np.isnan(chosen_catalog[catalog_keywords[image_filter]])]\n",
      "TypeError: 'NoneType' object is not subscriptable\n",
      "Failure: r1645971redCCD4_APT.fits - PID: 9729\n"
     ]
    },
    {
     "name": "stdout",
     "output_type": "stream",
     "text": [
      "\n",
      "+----------------------------------------------+\n",
      "|Searching for catalog for target_ra_58_dec_-11|\n",
      "+----------------------------------------------+\n",
      "\n",
      "\n",
      "+---------------------------------+\n",
      "|Matching catalog sources to image|\n",
      "+---------------------------------+\n",
      "\n",
      "\n",
      "---\n",
      "\n",
      "Files that failed : ['/Users/terwelj/Documents/VirtualMachine/Observing_ING/autophot/test/at2022acru_REDUCED/r1645969redCCD4/r1645969redCCD4_APT.fits', '/Users/terwelj/Documents/VirtualMachine/Observing_ING/autophot/test/at2022acru_REDUCED/r1645970redCCD4/r1645970redCCD4_APT.fits', '/Users/terwelj/Documents/VirtualMachine/Observing_ING/autophot/test/at2022acru_REDUCED/r1645971redCCD4/r1645971redCCD4_APT.fits']\n",
      "\n",
      "DONE\n",
      "\n",
      "Done - Time Taken: 60.0\n"
     ]
    }
   ],
   "source": [
    "#Run for a different object: Make subdirectories for each object\n",
    "autophot_input['fits_dir'] = dirpath + '/test/at2022acru'\n",
    "\n",
    "autophot_input['target_ra'] = 58.36677\n",
    "autophot_input['target_dec'] = -10.79587\n",
    "\n",
    "run_automatic_autophot(autophot_input)"
   ]
  },
  {
   "cell_type": "code",
   "execution_count": 33,
   "id": "edb18b44",
   "metadata": {},
   "outputs": [
    {
     "name": "stderr",
     "output_type": "stream",
     "text": [
      "\n",
      "User instrument database: /Users/terwelj/Documents/VirtualMachine/Observing_ING/autophot/telescope.yml\n",
      "\n",
      "Number of files: 3\n",
      "\n",
      "1 telescope(s) detected - checking header keywords\n",
      "\n"
     ]
    },
    {
     "name": "stdout",
     "output_type": "stream",
     "text": [
      "\n",
      "        _       _       ___ _  _    _____\n",
      "       /_\\ _  _| |_ ___| _ \\ || |__|_   _|\n",
      "      / _ \\ || |  _/ _ \\  _/ __ / _ \\| |\n",
      "     /_/ \\_\\_,_|\\__\\___/_| |_||_\\___/|_|\n",
      "    \n",
      "     ---------------------------------------\n",
      "        Automated Photometry of Transients\n",
      "        S. J. Brennan et al. 2021 \n",
      "        Please provide feedback/bugs to:\n",
      "        Email: sean.brennan2@ucdconnect.ie\n",
      "    ---------------------------------------\n",
      "Directory of fits file: /Users/terwelj/Documents/VirtualMachine/Observing_ING/autophot/test/at2022acpz\n",
      "Found Telescopes:\n",
      "\n",
      " - INT\n",
      "\n",
      "-> Telescope check complete\n",
      "\n",
      "Checking Filter keywords and database\n",
      "\n",
      "-> Filter check complete\n",
      "\n",
      "Checking Filter information for each image\n"
     ]
    },
    {
     "name": "stderr",
     "output_type": "stream",
     "text": [
      "File: r1645973redCCD4_APT.fits - PID: 9729\n",
      "Start Time: 2022-12-16 11:40:36.585771\n"
     ]
    },
    {
     "name": "stdout",
     "output_type": "stream",
     "text": [
      "\n",
      "Files removed - Wrong Image Type: 0\n",
      "\n",
      "Files removed - No/Wrong filter(s): 0\n",
      "Filters not included: []\n",
      "\n",
      "\n",
      "Files removed: 0\n",
      "\n",
      "+-----------+\n",
      "|File: 1 / 3|\n",
      "+-----------+\n",
      "\n"
     ]
    },
    {
     "name": "stderr",
     "output_type": "stream",
     "text": [
      "Filter keyoward used: WFFBAND\n",
      "Telescope: INT\n",
      "Filter: g\n",
      "MJD: 59926.971\n",
      "Date of Observation : 2022-12-13\n",
      "Read Noise: 5.8 [e^- /pixel]\n",
      "GAIN: 2.9 [e^- /count]\n",
      "Exposure time: 20 [s] \n",
      "Detecting/removing cosmic ray sources\n"
     ]
    },
    {
     "name": "stdout",
     "output_type": "stream",
     "text": [
      "Starting Astroscrappy ... "
     ]
    },
    {
     "name": "stderr",
     "output_type": "stream",
     "text": [
      "Contaminated pixels with Cosmic rays removed: 32775\n",
      "Cosmic rays removed - image updated\n",
      "WARNING: FITSFixedWarning: RADECSYS= 'FK5 ' / mean place new (after the 1976 IAU) system \n",
      "the RADECSYS keyword is deprecated, use RADESYSa. [astropy.wcs.wcs]\n",
      "FITSFixedWarning: RADECSYS= 'FK5 ' / mean place new (after the 1976 IAU) system \n",
      "the RADECSYS keyword is deprecated, use RADESYSa.\n",
      "WARNING: FITSFixedWarning: PROJP1 = 1.00000000 / Projection coefficient for primary WCS \n",
      "the PROJPn keyword is deprecated, use PVi_ma. [astropy.wcs.wcs]\n",
      "FITSFixedWarning: PROJP1 = 1.00000000 / Projection coefficient for primary WCS \n",
      "the PROJPn keyword is deprecated, use PVi_ma.\n",
      "WARNING: FITSFixedWarning: PROJP3 = 0.00000000 / Projection coefficient for primary WCS \n",
      "the PROJPn keyword is deprecated, use PVi_ma. [astropy.wcs.wcs]\n",
      "FITSFixedWarning: PROJP3 = 0.00000000 / Projection coefficient for primary WCS \n",
      "the PROJPn keyword is deprecated, use PVi_ma.\n",
      "WARNING: FITSFixedWarning: 'datfix' made the change 'Invalid parameter values: MJD-OBS and DATE-OBS are inconsistent.\n",
      "Changed DATE-OBS from '2022-12-13        ' to '2022-12-13T00:00:00.0''. [astropy.wcs.wcs]\n",
      "FITSFixedWarning: 'datfix' made the change 'Invalid parameter values: MJD-OBS and DATE-OBS are inconsistent.\n",
      "Changed DATE-OBS from '2022-12-13        ' to '2022-12-13T00:00:00.0''.\n",
      "\n",
      "Performing Astrometry.net\n",
      "Removing any pre-existing WCS keys \n",
      "No WCS values found - attempting to solve field\n",
      "ASTROMETRY started...\n",
      "ASTROMETRY finished: 3s\n",
      "Updating WCS keys with new values\n",
      "WCS saved to new file\n",
      "\n",
      "Searching for FWHM\n",
      "Using Gaussian Profile for fitting\n"
     ]
    },
    {
     "name": "stdout",
     "output_type": "stream",
     "text": [
      "\n",
      "+-------------------------------+\n",
      "|Finding Full Width Half Maximum|\n",
      "+-------------------------------+\n",
      "\n"
     ]
    },
    {
     "name": "stderr",
     "output_type": "stream",
     "text": [
      "\n",
      "Number of sources before cleaning [ 25.0 sigma ]: 25 \n",
      "Updating search FWHM value\n"
     ]
    },
    {
     "name": "stdout",
     "output_type": "stream",
     "text": [
      "Updated guess for FWHM: 6.1 pixels \n"
     ]
    },
    {
     "name": "stderr",
     "output_type": "stream",
     "text": [
      "\n",
      "Number of sources before cleaning [ 25.0 sigma ]: 77 \n",
      "Removed 1 sources near boundary\n",
      "Removed 7 crowded sources\n"
     ]
    },
    {
     "name": "stdout",
     "output_type": "stream",
     "text": [
      "Fitting source for FWHM: 69/69   "
     ]
    },
    {
     "name": "stderr",
     "output_type": "stream",
     "text": [
      "Removed 3 saturated sources\n",
      "WARNING: Input data contains invalid values (NaNs or infs), which were automatically clipped. [astropy.stats.sigma_clipping]\n",
      "Input data contains invalid values (NaNs or infs), which were automatically clipped.\n",
      "Removed 7 FWHM outliers\n",
      "WARNING: Input data contains invalid values (NaNs or infs), which were automatically clipped. [astropy.stats.sigma_clipping]\n",
      "Input data contains invalid values (NaNs or infs), which were automatically clipped.\n",
      "Removed 15 median outliers\n",
      "Useable sources found [ 25 sigma ]: 69\n",
      "Removes 2 sources within minimum seperation [ 28 pixel ]\n",
      "\n",
      "FWHM: 5.620 +/- 0.152 [ pixels ]\n",
      "\n",
      "Seeing: 1.866 [ arcsec ]\n",
      "Aperture size: 9.6 pixels\n",
      "Aperture correction: -0.026 +/- 0.012 [ mag ]\n",
      "WARNING: FITSFixedWarning: 'datfix' made the change 'Invalid parameter values: MJD-OBS and DATE-OBS are inconsistent.\n",
      "Changed DATE-OBS from '2022-12-13        ' to '2022-12-13T00:00:00.0''. [astropy.wcs.wcs]\n",
      "FITSFixedWarning: 'datfix' made the change 'Invalid parameter values: MJD-OBS and DATE-OBS are inconsistent.\n",
      "Changed DATE-OBS from '2022-12-13        ' to '2022-12-13T00:00:00.0''.\n",
      "Searching for new catalog [pan_starrs] for target_ra_58_dec_-12 \n",
      "Downloading sequence stars from pan_starrs\n"
     ]
    },
    {
     "name": "stdout",
     "output_type": "stream",
     "text": [
      "\n",
      "+----------------------------------------------+\n",
      "|Searching for catalog for target_ra_58_dec_-12|\n",
      "+----------------------------------------------+\n",
      "\n"
     ]
    },
    {
     "name": "stderr",
     "output_type": "stream",
     "text": [
      "Catalog length: 7256\n",
      "Removed 2176 sources fainter than cutoff [20 mag]\n",
      "Using Gaussian Profile for fitting\n",
      "Catalog Length: 155\n"
     ]
    },
    {
     "name": "stdout",
     "output_type": "stream",
     "text": [
      "\n",
      "+---------------------------------+\n",
      "|Matching catalog sources to image|\n",
      "+---------------------------------+\n",
      "\n",
      "Removed 1 sources too close to target\n",
      "Removed 279 sources too close to boundary or off image\n",
      "Matching catalog to image: 153 / 155 :: Useful sources 107 / 155 "
     ]
    },
    {
     "name": "stderr",
     "output_type": "stream",
     "text": [
      "\n",
      "Median offset: 2.5 [ pixels ] / 0.8 [ arcsec ]\n",
      "Residual table updated: 1 / 10 \n",
      "\tSNR: 564 :: FWHM fitted 5.550\n",
      "Residual table updated: 2 / 10 \n",
      "\tSNR: 555 :: FWHM fitted 5.458\n"
     ]
    },
    {
     "name": "stdout",
     "output_type": "stream",
     "text": [
      "\r",
      "Matching catalog to image: 154 / 155 :: Useful sources 108 / 155 \r",
      "Matching catalog to image: 155 / 155 :: Useful sources 109 / 155   .. done\n",
      "\n",
      "Broken cutouts: 0\n",
      "Not in correct location: 0\n",
      "Not detected: 33\n",
      "Saturated: 14\n",
      "Error: 0\n",
      "\n",
      "\n",
      "+-------------------------------------------+\n",
      "|Building PSF model using stars in the field|\n",
      "+-------------------------------------------+\n",
      "\n"
     ]
    },
    {
     "name": "stderr",
     "output_type": "stream",
     "text": [
      "Residual table updated: 3 / 10 \n",
      "\tSNR: 516 :: FWHM fitted 5.520\n",
      "Residual table updated: 4 / 10 \n",
      "\tSNR: 485 :: FWHM fitted 5.475\n",
      "Residual table updated: 5 / 10 \n",
      "\tSNR: 441 :: FWHM fitted 5.567\n",
      "Residual table updated: 6 / 10 \n",
      "\tSNR: 426 :: FWHM fitted 5.477\n",
      "Residual table updated: 7 / 10 \n",
      "\tSNR: 358 :: FWHM fitted 5.470\n",
      "Residual table updated: 8 / 10 \n",
      "\tSNR: 353 :: FWHM fitted 5.586\n",
      "Residual table updated: 9 / 10 \n",
      "\tSNR: 346 :: FWHM fitted 5.596\n",
      "Residual table updated: 10 / 10 \n",
      "\tSNR: 338 :: FWHM fitted 5.682\n",
      "\n",
      "PSF built using 10 sources\n",
      "\n",
      "Unity PSF: 37.4 [counts] \n",
      "Unity Residual table: 1.9 [counts] \n",
      "Using PSF Photometry on Sequence Stars\n",
      "Approx PSF mag -10.781 mag\n"
     ]
    },
    {
     "name": "stdout",
     "output_type": "stream",
     "text": [
      "PSF model saved as: /Users/terwelj/Documents/VirtualMachine/Observing_ING/autophot/test/at2022acpz_REDUCED/r1645973redCCD4/PSF_model_r1645973redCCD4_APT.fits\n",
      "\n",
      "+-------------------+\n",
      "|Measuring PSF model|\n",
      "+-------------------+\n",
      "\n",
      "\n",
      "+-----------------------------------+\n",
      "|Fitting PSF to sources in the image|\n",
      "+-----------------------------------+\n",
      "\n",
      "Fitting PSF to source: 108 / 108 "
     ]
    },
    {
     "name": "stderr",
     "output_type": "stream",
     "text": [
      "Shape of passed values is (107, 12), indices imply (108, 12)\n",
      "Traceback (most recent call last):\n",
      "  File \"/opt/anaconda3/envs/autophot/lib/python3.7/site-packages/pandas/core/internals/managers.py\", line 1774, in create_block_manager_from_arrays\n",
      "    mgr = BlockManager(blocks, axes)\n",
      "  File \"/opt/anaconda3/envs/autophot/lib/python3.7/site-packages/pandas/core/internals/managers.py\", line 914, in __init__\n",
      "    self._verify_integrity()\n",
      "  File \"/opt/anaconda3/envs/autophot/lib/python3.7/site-packages/pandas/core/internals/managers.py\", line 921, in _verify_integrity\n",
      "    raise construction_error(tot_items, block.shape[1:], self.axes)\n",
      "ValueError: Shape of passed values is (107, 12), indices imply (108, 12)\n",
      "\n",
      "During handling of the above exception, another exception occurred:\n",
      "\n",
      "Traceback (most recent call last):\n",
      "  File \"/opt/anaconda3/envs/autophot/lib/python3.7/site-packages/autophot/packages/main.py\", line 1341, in main\n",
      "    plot_PSF_residuals = autophot_input['psf']['plot_PSF_residuals'])\n",
      "  File \"/opt/anaconda3/envs/autophot/lib/python3.7/site-packages/autophot/packages/psf.py\", line 1467, in fit\n",
      "    index = sources.index)\n",
      "  File \"/opt/anaconda3/envs/autophot/lib/python3.7/site-packages/pandas/core/frame.py\", line 708, in __init__\n",
      "    typ=manager,\n",
      "  File \"/opt/anaconda3/envs/autophot/lib/python3.7/site-packages/pandas/core/internals/construction.py\", line 136, in arrays_to_mgr\n",
      "    arrays, arr_names, axes, consolidate=consolidate\n",
      "  File \"/opt/anaconda3/envs/autophot/lib/python3.7/site-packages/pandas/core/internals/managers.py\", line 1776, in create_block_manager_from_arrays\n",
      "    raise construction_error(len(arrays), arrays[0].shape, axes, e)\n",
      "ValueError: Shape of passed values is (107, 12), indices imply (108, 12)\n",
      "Using Aperture Photometry on sequence Stars \n",
      "No PSF sources fitted\n",
      "WARNING: Input data contains invalid values (NaNs or infs), which were automatically clipped. [astropy.stats.sigma_clipping]\n",
      "Input data contains invalid values (NaNs or infs), which were automatically clipped.\n",
      "\n",
      "Mean g-band zeropoint: 26.160 +/- 0.024 \n",
      "\n"
     ]
    },
    {
     "name": "stdout",
     "output_type": "stream",
     "text": [
      "\n",
      "+-----------------------+\n",
      "|Finding Zeropoint value|\n",
      "+-----------------------+\n",
      "\n",
      "Checking for suitable catalog sources\n",
      "Removed 97 sources lower than SNR of 25.0\n"
     ]
    },
    {
     "name": "stderr",
     "output_type": "stream",
     "text": [
      "/opt/anaconda3/envs/autophot/lib/python3.7/site-packages/matplotlib/backends/backend_pdf.py:1649: DeprecationWarning: NONE is deprecated and will be removed in Pillow 10 (2023-07-01). Use Resampling.NEAREST or Dither.NONE instead.\n",
      "  img = img.convert(mode='P', dither=Image.NONE,\n",
      "/opt/anaconda3/envs/autophot/lib/python3.7/site-packages/matplotlib/backends/backend_pdf.py:1650: DeprecationWarning: ADAPTIVE is deprecated and will be removed in Pillow 10 (2023-07-01). Use Palette.ADAPTIVE instead.\n",
      "  palette=Image.ADAPTIVE, colors=num_colors)\n",
      "Approx. catalog limiting magnitude: 19.816 [ mag ]\n",
      "Target photometry on original image\n",
      "/opt/anaconda3/envs/autophot/lib/python3.7/site-packages/matplotlib/backends/backend_pdf.py:1649: DeprecationWarning: NONE is deprecated and will be removed in Pillow 10 (2023-07-01). Use Resampling.NEAREST or Dither.NONE instead.\n",
      "  img = img.convert(mode='P', dither=Image.NONE,\n",
      "/opt/anaconda3/envs/autophot/lib/python3.7/site-packages/matplotlib/backends/backend_pdf.py:1650: DeprecationWarning: ADAPTIVE is deprecated and will be removed in Pillow 10 (2023-07-01). Use Palette.ADAPTIVE instead.\n",
      "  palette=Image.ADAPTIVE, colors=num_colors)\n",
      "Approximate Target SNR: 34.5\n",
      "SNR = 34 - skipping limiting magnitude\n",
      "Pixel Offset: 0.000\n"
     ]
    },
    {
     "name": "stdout",
     "output_type": "stream",
     "text": [
      "\n",
      "+-----------------------------------+\n",
      "|Doing Aperture Photometry on Target|\n",
      "+-----------------------------------+\n",
      "\n"
     ]
    },
    {
     "name": "stderr",
     "output_type": "stream",
     "text": [
      "Limiting Magnitude: skipped\n",
      "Target Detection probability: 100 %\n",
      "Target flux: 613.708 +/- 0.000 [counts/s]\n",
      "Noise: 407.441 [counts/s]\n",
      "Target SNR: 34.499 +/- 0.031\n",
      "Instrumental Magnitude: -6.970 +/- 0.000\n",
      "Zeropoint: 26.160 +/- 0.024\n",
      "Target Magnitude: 19.164 +/- 0.041 \n",
      "\n",
      "*** Transient well detected ***\n",
      "\n",
      "Time Taken [ 9729 ]: 61s\n",
      "Sucess: r1645973redCCD4_APT.fits :: PID 9729 \n",
      "\n",
      "File: r1645974redCCD4_APT.fits - PID: 9729\n",
      "Start Time: 2022-12-16 11:41:37.451645\n",
      "Filter keyoward used: WFFBAND\n",
      "Telescope: INT\n",
      "Filter: i\n",
      "MJD: 59926.973\n",
      "Date of Observation : 2022-12-13\n",
      "Read Noise: 5.8 [e^- /pixel]\n",
      "GAIN: 2.9 [e^- /count]\n",
      "Exposure time: 20 [s] \n",
      "Detecting/removing cosmic ray sources\n"
     ]
    },
    {
     "name": "stdout",
     "output_type": "stream",
     "text": [
      "\n",
      "+-----------+\n",
      "|File: 2 / 3|\n",
      "+-----------+\n",
      "\n",
      "Starting Astroscrappy ... "
     ]
    },
    {
     "name": "stderr",
     "output_type": "stream",
     "text": [
      "Contaminated pixels with Cosmic rays removed: 27963\n",
      "Cosmic rays removed - image updated\n",
      "WARNING: FITSFixedWarning: RADECSYS= 'FK5 ' / mean place new (after the 1976 IAU) system \n",
      "the RADECSYS keyword is deprecated, use RADESYSa. [astropy.wcs.wcs]\n",
      "FITSFixedWarning: RADECSYS= 'FK5 ' / mean place new (after the 1976 IAU) system \n",
      "the RADECSYS keyword is deprecated, use RADESYSa.\n",
      "WARNING: FITSFixedWarning: PROJP1 = 1.00000000 / Projection coefficient for primary WCS \n",
      "the PROJPn keyword is deprecated, use PVi_ma. [astropy.wcs.wcs]\n",
      "FITSFixedWarning: PROJP1 = 1.00000000 / Projection coefficient for primary WCS \n",
      "the PROJPn keyword is deprecated, use PVi_ma.\n",
      "WARNING: FITSFixedWarning: PROJP3 = 0.00000000 / Projection coefficient for primary WCS \n",
      "the PROJPn keyword is deprecated, use PVi_ma. [astropy.wcs.wcs]\n",
      "FITSFixedWarning: PROJP3 = 0.00000000 / Projection coefficient for primary WCS \n",
      "the PROJPn keyword is deprecated, use PVi_ma.\n",
      "WARNING: FITSFixedWarning: 'datfix' made the change 'Invalid parameter values: MJD-OBS and DATE-OBS are inconsistent.\n",
      "Changed DATE-OBS from '2022-12-13        ' to '2022-12-13T00:00:00.0''. [astropy.wcs.wcs]\n",
      "FITSFixedWarning: 'datfix' made the change 'Invalid parameter values: MJD-OBS and DATE-OBS are inconsistent.\n",
      "Changed DATE-OBS from '2022-12-13        ' to '2022-12-13T00:00:00.0''.\n",
      "\n",
      "Performing Astrometry.net\n",
      "Removing any pre-existing WCS keys \n",
      "No WCS values found - attempting to solve field\n",
      "ASTROMETRY started...\n",
      "ASTROMETRY finished: 3s\n",
      "Updating WCS keys with new values\n",
      "WCS saved to new file\n",
      "\n",
      "Searching for FWHM\n",
      "Using Gaussian Profile for fitting\n"
     ]
    },
    {
     "name": "stdout",
     "output_type": "stream",
     "text": [
      "\n",
      "+-------------------------------+\n",
      "|Finding Full Width Half Maximum|\n",
      "+-------------------------------+\n",
      "\n"
     ]
    },
    {
     "name": "stderr",
     "output_type": "stream",
     "text": [
      "\n",
      "Number of sources before cleaning [ 25.0 sigma ]: 25 \n",
      "Updating search FWHM value\n"
     ]
    },
    {
     "name": "stdout",
     "output_type": "stream",
     "text": [
      "Updated guess for FWHM: 5.6 pixels \n"
     ]
    },
    {
     "name": "stderr",
     "output_type": "stream",
     "text": [
      "\n",
      "Number of sources before cleaning [ 25.0 sigma ]: 89 \n",
      "Removed 3 sources near boundary\n",
      "Removed 6 crowded sources\n"
     ]
    },
    {
     "name": "stdout",
     "output_type": "stream",
     "text": [
      "Fitting source for FWHM: 80/80 "
     ]
    },
    {
     "name": "stderr",
     "output_type": "stream",
     "text": [
      "Removed 3 saturated sources\n",
      "WARNING: Input data contains invalid values (NaNs or infs), which were automatically clipped. [astropy.stats.sigma_clipping]\n",
      "Input data contains invalid values (NaNs or infs), which were automatically clipped.\n",
      "Removed 15 FWHM outliers\n",
      "WARNING: Input data contains invalid values (NaNs or infs), which were automatically clipped. [astropy.stats.sigma_clipping]\n",
      "Input data contains invalid values (NaNs or infs), which were automatically clipped.\n",
      "Removed 8 median outliers\n",
      "Useable sources found [ 25 sigma ]: 80\n",
      "Removes 4 sources within minimum seperation [ 26 pixel ]\n",
      "\n",
      "FWHM: 5.417 +/- 0.166 [ pixels ]\n",
      "\n",
      "Seeing: 1.794 [ arcsec ]\n",
      "Aperture size: 9.2 pixels\n",
      "Aperture correction: -0.047 +/- 0.017 [ mag ]\n",
      "WARNING: FITSFixedWarning: 'datfix' made the change 'Invalid parameter values: MJD-OBS and DATE-OBS are inconsistent.\n",
      "Changed DATE-OBS from '2022-12-13        ' to '2022-12-13T00:00:00.0''. [astropy.wcs.wcs]\n",
      "FITSFixedWarning: 'datfix' made the change 'Invalid parameter values: MJD-OBS and DATE-OBS are inconsistent.\n",
      "Changed DATE-OBS from '2022-12-13        ' to '2022-12-13T00:00:00.0''.\n",
      "Catalog found for target_ra_58_dec_-12\n",
      "Catalog: PAN_STARRS \n",
      "File: target_ra_58_dec_-12_r_0.25\n",
      "Catalog length: 7256\n",
      "Removed 4261 sources fainter than cutoff [20 mag]\n",
      "Using Gaussian Profile for fitting\n",
      "Catalog Length: 318\n"
     ]
    },
    {
     "name": "stdout",
     "output_type": "stream",
     "text": [
      "\n",
      "+----------------------------------------------+\n",
      "|Searching for catalog for target_ra_58_dec_-12|\n",
      "+----------------------------------------------+\n",
      "\n",
      "\n",
      "+---------------------------------+\n",
      "|Matching catalog sources to image|\n",
      "+---------------------------------+\n",
      "\n",
      "Removed 1 sources too close to target\n",
      "Removed 616 sources too close to boundary or off image\n",
      "Matching catalog to image: 316 / 318 :: Useful sources 198 / 318 "
     ]
    },
    {
     "name": "stderr",
     "output_type": "stream",
     "text": [
      "\n",
      "Median offset: 3.2 [ pixels ] / 1.0 [ arcsec ]\n",
      "Residual table updated: 1 / 10 \n",
      "\tSNR: 868 :: FWHM fitted 5.377\n",
      "Residual table updated: 2 / 10 \n",
      "\tSNR: 745 :: FWHM fitted 5.381\n",
      "Residual table updated: 3 / 10 \n",
      "\tSNR: 592 :: FWHM fitted 5.422\n"
     ]
    },
    {
     "name": "stdout",
     "output_type": "stream",
     "text": [
      "\r",
      "Matching catalog to image: 317 / 318 :: Useful sources 198 / 318 \r",
      "Matching catalog to image: 318 / 318 :: Useful sources 198 / 318   .. done\n",
      "\n",
      "Broken cutouts: 0\n",
      "Not in correct location: 0\n",
      "Not detected: 99\n",
      "Saturated: 22\n",
      "Error: 0\n",
      "\n",
      "\n",
      "+-------------------------------------------+\n",
      "|Building PSF model using stars in the field|\n",
      "+-------------------------------------------+\n",
      "\n"
     ]
    },
    {
     "name": "stderr",
     "output_type": "stream",
     "text": [
      "Residual table updated: 4 / 10 \n",
      "\tSNR: 587 :: FWHM fitted 5.351\n",
      "Residual table updated: 5 / 10 \n",
      "\tSNR: 531 :: FWHM fitted 5.425\n",
      "Residual table updated: 6 / 10 \n",
      "\tSNR: 521 :: FWHM fitted 5.428\n",
      "Residual table updated: 7 / 10 \n",
      "\tSNR: 517 :: FWHM fitted 5.498\n",
      "Residual table updated: 8 / 10 \n",
      "\tSNR: 511 :: FWHM fitted 5.371\n",
      "Residual table updated: 9 / 10 \n",
      "\tSNR: 507 :: FWHM fitted 5.330\n",
      "Residual table updated: 10 / 10 \n",
      "\tSNR: 481 :: FWHM fitted 5.367\n",
      "\n",
      "PSF built using 10 sources\n",
      "\n",
      "Unity PSF: 36.2 [counts] \n",
      "Unity Residual table: 3.3 [counts] \n",
      "Using PSF Photometry on Sequence Stars\n",
      "Approx PSF mag -11.661 mag\n"
     ]
    },
    {
     "name": "stdout",
     "output_type": "stream",
     "text": [
      "PSF model saved as: /Users/terwelj/Documents/VirtualMachine/Observing_ING/autophot/test/at2022acpz_REDUCED/r1645974redCCD4/PSF_model_r1645974redCCD4_APT.fits\n",
      "\n",
      "+-------------------+\n",
      "|Measuring PSF model|\n",
      "+-------------------+\n",
      "\n",
      "\n",
      "+-----------------------------------+\n",
      "|Fitting PSF to sources in the image|\n",
      "+-----------------------------------+\n",
      "\n",
      "Fitting PSF to source: 196 / 197 "
     ]
    },
    {
     "name": "stderr",
     "output_type": "stream",
     "text": [
      "WARNING: Input data contains invalid values (NaNs or infs), which were automatically clipped. [astropy.stats.sigma_clipping]\n",
      "Input data contains invalid values (NaNs or infs), which were automatically clipped.\n",
      "\n",
      "Mean i-band zeropoint: 25.619 +/- 0.048 \n",
      "\n"
     ]
    },
    {
     "name": "stdout",
     "output_type": "stream",
     "text": [
      "\r",
      "Fitting PSF to source: 197 / 197 \n",
      "+-----------------------+\n",
      "|Finding Zeropoint value|\n",
      "+-----------------------+\n",
      "\n",
      "Checking for suitable catalog sources\n",
      "Removed 142 sources lower than SNR of 25.0\n"
     ]
    },
    {
     "name": "stderr",
     "output_type": "stream",
     "text": [
      "/opt/anaconda3/envs/autophot/lib/python3.7/site-packages/matplotlib/backends/backend_pdf.py:1649: DeprecationWarning: NONE is deprecated and will be removed in Pillow 10 (2023-07-01). Use Resampling.NEAREST or Dither.NONE instead.\n",
      "  img = img.convert(mode='P', dither=Image.NONE,\n",
      "/opt/anaconda3/envs/autophot/lib/python3.7/site-packages/matplotlib/backends/backend_pdf.py:1650: DeprecationWarning: ADAPTIVE is deprecated and will be removed in Pillow 10 (2023-07-01). Use Palette.ADAPTIVE instead.\n",
      "  palette=Image.ADAPTIVE, colors=num_colors)\n",
      "Approx. catalog limiting magnitude: 19.276 [ mag ]\n",
      "Target photometry on original image\n"
     ]
    },
    {
     "name": "stdout",
     "output_type": "stream",
     "text": [
      "\n",
      "+-----------------------------------------------+\n",
      "|Performing PSF photometry on at target location|\n",
      "+-----------------------------------------------+\n",
      "\n"
     ]
    },
    {
     "name": "stderr",
     "output_type": "stream",
     "text": [
      "/opt/anaconda3/envs/autophot/lib/python3.7/site-packages/matplotlib/backends/backend_pdf.py:1649: DeprecationWarning: NONE is deprecated and will be removed in Pillow 10 (2023-07-01). Use Resampling.NEAREST or Dither.NONE instead.\n",
      "  img = img.convert(mode='P', dither=Image.NONE,\n",
      "/opt/anaconda3/envs/autophot/lib/python3.7/site-packages/matplotlib/backends/backend_pdf.py:1650: DeprecationWarning: ADAPTIVE is deprecated and will be removed in Pillow 10 (2023-07-01). Use Palette.ADAPTIVE instead.\n",
      "  palette=Image.ADAPTIVE, colors=num_colors)\n",
      "Approximate Target SNR: 11.5\n",
      "SNR = 11 - skipping limiting magnitude\n",
      "Pixel Offset: 0.788\n",
      "Limiting Magnitude: skipped\n",
      "Target Detection probability: 79 %\n",
      "Target flux: 245.809 +/- 15.751 [counts/s]\n",
      "Noise: 471.414 [counts/s]\n",
      "Target SNR: 11.474 +/- 0.091\n",
      "Instrumental Magnitude: -5.976 +/- 0.071\n",
      "Zeropoint: 25.619 +/- 0.048\n",
      "Target Magnitude: 19.642 +/- 0.169 \n",
      "\n",
      "*** Transient well detected ***\n",
      "\n",
      "Time Taken [ 9729 ]: 53s\n",
      "Sucess: r1645974redCCD4_APT.fits :: PID 9729 \n",
      "\n"
     ]
    },
    {
     "name": "stdout",
     "output_type": "stream",
     "text": [
      "Error from multlocation [10] recovery: 0.024 [mag]\n"
     ]
    },
    {
     "name": "stderr",
     "output_type": "stream",
     "text": [
      "File: r1645972redCCD4_APT.fits - PID: 9729\n",
      "Start Time: 2022-12-16 11:42:30.607407\n",
      "Filter keyoward used: WFFBAND\n",
      "Telescope: INT\n",
      "Filter: r\n",
      "MJD: 59926.970\n",
      "Date of Observation : 2022-12-13\n",
      "Read Noise: 5.8 [e^- /pixel]\n",
      "GAIN: 2.9 [e^- /count]\n",
      "Exposure time: 20 [s] \n",
      "Detecting/removing cosmic ray sources\n"
     ]
    },
    {
     "name": "stdout",
     "output_type": "stream",
     "text": [
      "\n",
      "+-----------+\n",
      "|File: 3 / 3|\n",
      "+-----------+\n",
      "\n",
      "Starting Astroscrappy ... "
     ]
    },
    {
     "name": "stderr",
     "output_type": "stream",
     "text": [
      "Contaminated pixels with Cosmic rays removed: 27545\n",
      "Cosmic rays removed - image updated\n",
      "WARNING: FITSFixedWarning: RADECSYS= 'FK5 ' / mean place new (after the 1976 IAU) system \n",
      "the RADECSYS keyword is deprecated, use RADESYSa. [astropy.wcs.wcs]\n",
      "FITSFixedWarning: RADECSYS= 'FK5 ' / mean place new (after the 1976 IAU) system \n",
      "the RADECSYS keyword is deprecated, use RADESYSa.\n",
      "WARNING: FITSFixedWarning: PROJP1 = 1.00000000 / Projection coefficient for primary WCS \n",
      "the PROJPn keyword is deprecated, use PVi_ma. [astropy.wcs.wcs]\n",
      "FITSFixedWarning: PROJP1 = 1.00000000 / Projection coefficient for primary WCS \n",
      "the PROJPn keyword is deprecated, use PVi_ma.\n",
      "WARNING: FITSFixedWarning: PROJP3 = 0.00000000 / Projection coefficient for primary WCS \n",
      "the PROJPn keyword is deprecated, use PVi_ma. [astropy.wcs.wcs]\n",
      "FITSFixedWarning: PROJP3 = 0.00000000 / Projection coefficient for primary WCS \n",
      "the PROJPn keyword is deprecated, use PVi_ma.\n",
      "WARNING: FITSFixedWarning: 'datfix' made the change 'Invalid parameter values: MJD-OBS and DATE-OBS are inconsistent.\n",
      "Changed DATE-OBS from '2022-12-13        ' to '2022-12-13T00:00:00.0''. [astropy.wcs.wcs]\n",
      "FITSFixedWarning: 'datfix' made the change 'Invalid parameter values: MJD-OBS and DATE-OBS are inconsistent.\n",
      "Changed DATE-OBS from '2022-12-13        ' to '2022-12-13T00:00:00.0''.\n",
      "\n",
      "Performing Astrometry.net\n",
      "Removing any pre-existing WCS keys \n",
      "No WCS values found - attempting to solve field\n",
      "ASTROMETRY started...\n",
      "ASTROMETRY finished: 3s\n",
      "Updating WCS keys with new values\n",
      "WCS saved to new file\n",
      "\n",
      "Searching for FWHM\n",
      "Using Gaussian Profile for fitting\n"
     ]
    },
    {
     "name": "stdout",
     "output_type": "stream",
     "text": [
      "\n",
      "+-------------------------------+\n",
      "|Finding Full Width Half Maximum|\n",
      "+-------------------------------+\n",
      "\n"
     ]
    },
    {
     "name": "stderr",
     "output_type": "stream",
     "text": [
      "\n",
      "Number of sources before cleaning [ 25.0 sigma ]: 25 \n",
      "Updating search FWHM value\n"
     ]
    },
    {
     "name": "stdout",
     "output_type": "stream",
     "text": [
      "Updated guess for FWHM: 6.7 pixels \n"
     ]
    },
    {
     "name": "stderr",
     "output_type": "stream",
     "text": [
      "\n",
      "Number of sources before cleaning [ 25.0 sigma ]: 87 \n",
      "Removed 3 sources near boundary\n",
      "Removed 2 crowded sources\n"
     ]
    },
    {
     "name": "stdout",
     "output_type": "stream",
     "text": [
      "Fitting source for FWHM: 82/82  "
     ]
    },
    {
     "name": "stderr",
     "output_type": "stream",
     "text": [
      "Removed 5 saturated sources\n",
      "WARNING: Input data contains invalid values (NaNs or infs), which were automatically clipped. [astropy.stats.sigma_clipping]\n",
      "Input data contains invalid values (NaNs or infs), which were automatically clipped.\n",
      "Removed 9 FWHM outliers\n",
      "WARNING: Input data contains invalid values (NaNs or infs), which were automatically clipped. [astropy.stats.sigma_clipping]\n",
      "Input data contains invalid values (NaNs or infs), which were automatically clipped.\n",
      "Removed 20 median outliers\n",
      "Useable sources found [ 25 sigma ]: 82\n",
      "Removes 4 sources within minimum seperation [ 28 pixel ]\n",
      "\n",
      "FWHM: 5.821 +/- 0.199 [ pixels ]\n",
      "\n",
      "Seeing: 1.933 [ arcsec ]\n",
      "Aperture size: 9.9 pixels\n",
      "Aperture correction: -0.054 +/- 0.013 [ mag ]\n",
      "WARNING: FITSFixedWarning: 'datfix' made the change 'Invalid parameter values: MJD-OBS and DATE-OBS are inconsistent.\n",
      "Changed DATE-OBS from '2022-12-13        ' to '2022-12-13T00:00:00.0''. [astropy.wcs.wcs]\n",
      "FITSFixedWarning: 'datfix' made the change 'Invalid parameter values: MJD-OBS and DATE-OBS are inconsistent.\n",
      "Changed DATE-OBS from '2022-12-13        ' to '2022-12-13T00:00:00.0''.\n",
      "Catalog found for target_ra_58_dec_-12\n",
      "Catalog: PAN_STARRS \n",
      "File: target_ra_58_dec_-12_r_0.25\n",
      "Catalog length: 7256\n",
      "Removed 3253 sources fainter than cutoff [20 mag]\n",
      "Using Gaussian Profile for fitting\n",
      "Catalog Length: 234\n"
     ]
    },
    {
     "name": "stdout",
     "output_type": "stream",
     "text": [
      "\n",
      "+----------------------------------------------+\n",
      "|Searching for catalog for target_ra_58_dec_-12|\n",
      "+----------------------------------------------+\n",
      "\n",
      "\n",
      "+---------------------------------+\n",
      "|Matching catalog sources to image|\n",
      "+---------------------------------+\n",
      "\n",
      "Removed 1 sources too close to target\n",
      "Removed 432 sources too close to boundary or off image\n",
      "Matching catalog to image: 230 / 234 :: Useful sources 159 / 234 "
     ]
    },
    {
     "name": "stderr",
     "output_type": "stream",
     "text": [
      "\n",
      "Median offset: 2.6 [ pixels ] / 0.9 [ arcsec ]\n",
      "Residual table updated: 1 / 10 \n",
      "\tSNR: 550 :: FWHM fitted 5.709\n",
      "Residual table updated: 2 / 10 \n",
      "\tSNR: 501 :: FWHM fitted 5.756\n",
      "Residual table updated: 3 / 10 \n",
      "\tSNR: 493 :: FWHM fitted 5.844\n"
     ]
    },
    {
     "name": "stdout",
     "output_type": "stream",
     "text": [
      "\r",
      "Matching catalog to image: 231 / 234 :: Useful sources 160 / 234 \r",
      "Matching catalog to image: 232 / 234 :: Useful sources 160 / 234 \r",
      "Matching catalog to image: 233 / 234 :: Useful sources 160 / 234 \r",
      "Matching catalog to image: 234 / 234 :: Useful sources 160 / 234   .. done\n",
      "\n",
      "Broken cutouts: 0\n",
      "Not in correct location: 0\n",
      "Not detected: 58\n",
      "Saturated: 17\n",
      "Error: 0\n",
      "\n",
      "\n",
      "+-------------------------------------------+\n",
      "|Building PSF model using stars in the field|\n",
      "+-------------------------------------------+\n",
      "\n"
     ]
    },
    {
     "name": "stderr",
     "output_type": "stream",
     "text": [
      "Residual table updated: 4 / 10 \n",
      "\tSNR: 485 :: FWHM fitted 5.711\n",
      "Residual table updated: 5 / 10 \n",
      "\tSNR: 483 :: FWHM fitted 5.801\n",
      "Residual table updated: 6 / 10 \n",
      "\tSNR: 454 :: FWHM fitted 5.742\n",
      "Residual table updated: 7 / 10 \n",
      "\tSNR: 446 :: FWHM fitted 6.121\n",
      "Residual table updated: 8 / 10 \n",
      "\tSNR: 429 :: FWHM fitted 6.050\n",
      "Residual table updated: 9 / 10 \n",
      "\tSNR: 391 :: FWHM fitted 5.872\n",
      "Residual table updated: 10 / 10 \n",
      "\tSNR: 388 :: FWHM fitted 5.689\n",
      "\n",
      "PSF built using 10 sources\n",
      "\n",
      "Unity PSF: 42.5 [counts] \n",
      "Unity Residual table: 4.4 [counts] \n",
      "Using PSF Photometry on Sequence Stars\n",
      "Approx PSF mag -10.855 mag\n"
     ]
    },
    {
     "name": "stdout",
     "output_type": "stream",
     "text": [
      "PSF model saved as: /Users/terwelj/Documents/VirtualMachine/Observing_ING/autophot/test/at2022acpz_REDUCED/r1645972redCCD4/PSF_model_r1645972redCCD4_APT.fits\n",
      "\n",
      "+-------------------+\n",
      "|Measuring PSF model|\n",
      "+-------------------+\n",
      "\n",
      "\n",
      "+-----------------------------------+\n",
      "|Fitting PSF to sources in the image|\n",
      "+-----------------------------------+\n",
      "\n",
      "Fitting PSF to source: 104 / 159 "
     ]
    },
    {
     "name": "stderr",
     "output_type": "stream",
     "text": [
      "'float' object has no attribute 'shape'\n",
      "Traceback (most recent call last):\n",
      "  File \"/opt/anaconda3/envs/autophot/lib/python3.7/site-packages/autophot/packages/psf.py\", line 965, in fit\n",
      "    source = source_bkg_free[int(0.5*source_bkg_free.shape[1] - fitting_radius):int(0.5*source_bkg_free.shape[1] + fitting_radius) ,\n",
      "AttributeError: 'float' object has no attribute 'shape'\n"
     ]
    },
    {
     "name": "stdout",
     "output_type": "stream",
     "text": [
      "Fitting PSF to source: 105 / 159 Could not fit background: 'NoneType' object has no attribute 'astype'\n",
      "Fitting PSF to source: 159 / 159 "
     ]
    },
    {
     "name": "stderr",
     "output_type": "stream",
     "text": [
      "Shape of passed values is (158, 12), indices imply (159, 12)\n",
      "Traceback (most recent call last):\n",
      "  File \"/opt/anaconda3/envs/autophot/lib/python3.7/site-packages/pandas/core/internals/managers.py\", line 1774, in create_block_manager_from_arrays\n",
      "    mgr = BlockManager(blocks, axes)\n",
      "  File \"/opt/anaconda3/envs/autophot/lib/python3.7/site-packages/pandas/core/internals/managers.py\", line 914, in __init__\n",
      "    self._verify_integrity()\n",
      "  File \"/opt/anaconda3/envs/autophot/lib/python3.7/site-packages/pandas/core/internals/managers.py\", line 921, in _verify_integrity\n",
      "    raise construction_error(tot_items, block.shape[1:], self.axes)\n",
      "ValueError: Shape of passed values is (158, 12), indices imply (159, 12)\n",
      "\n",
      "During handling of the above exception, another exception occurred:\n",
      "\n",
      "Traceback (most recent call last):\n",
      "  File \"/opt/anaconda3/envs/autophot/lib/python3.7/site-packages/autophot/packages/main.py\", line 1341, in main\n",
      "    plot_PSF_residuals = autophot_input['psf']['plot_PSF_residuals'])\n",
      "  File \"/opt/anaconda3/envs/autophot/lib/python3.7/site-packages/autophot/packages/psf.py\", line 1467, in fit\n",
      "    index = sources.index)\n",
      "  File \"/opt/anaconda3/envs/autophot/lib/python3.7/site-packages/pandas/core/frame.py\", line 708, in __init__\n",
      "    typ=manager,\n",
      "  File \"/opt/anaconda3/envs/autophot/lib/python3.7/site-packages/pandas/core/internals/construction.py\", line 136, in arrays_to_mgr\n",
      "    arrays, arr_names, axes, consolidate=consolidate\n",
      "  File \"/opt/anaconda3/envs/autophot/lib/python3.7/site-packages/pandas/core/internals/managers.py\", line 1776, in create_block_manager_from_arrays\n",
      "    raise construction_error(len(arrays), arrays[0].shape, axes, e)\n",
      "ValueError: Shape of passed values is (158, 12), indices imply (159, 12)\n",
      "Using Aperture Photometry on sequence Stars \n",
      "No PSF sources fitted\n",
      "WARNING: Input data contains invalid values (NaNs or infs), which were automatically clipped. [astropy.stats.sigma_clipping]\n",
      "Input data contains invalid values (NaNs or infs), which were automatically clipped.\n",
      "\n",
      "Mean r-band zeropoint: 25.979 +/- 0.031 \n",
      "\n"
     ]
    },
    {
     "name": "stdout",
     "output_type": "stream",
     "text": [
      "\n",
      "+-----------------------+\n",
      "|Finding Zeropoint value|\n",
      "+-----------------------+\n",
      "\n",
      "Checking for suitable catalog sources\n",
      "Removed 122 sources lower than SNR of 25.0\n"
     ]
    },
    {
     "name": "stderr",
     "output_type": "stream",
     "text": [
      "/opt/anaconda3/envs/autophot/lib/python3.7/site-packages/matplotlib/backends/backend_pdf.py:1649: DeprecationWarning: NONE is deprecated and will be removed in Pillow 10 (2023-07-01). Use Resampling.NEAREST or Dither.NONE instead.\n",
      "  img = img.convert(mode='P', dither=Image.NONE,\n",
      "/opt/anaconda3/envs/autophot/lib/python3.7/site-packages/matplotlib/backends/backend_pdf.py:1650: DeprecationWarning: ADAPTIVE is deprecated and will be removed in Pillow 10 (2023-07-01). Use Palette.ADAPTIVE instead.\n",
      "  palette=Image.ADAPTIVE, colors=num_colors)\n",
      "Approx. catalog limiting magnitude: 19.361 [ mag ]\n",
      "Target photometry on original image\n"
     ]
    },
    {
     "name": "stdout",
     "output_type": "stream",
     "text": [
      "\n",
      "+-----------------------------------+\n",
      "|Doing Aperture Photometry on Target|\n",
      "+-----------------------------------+\n",
      "\n"
     ]
    },
    {
     "name": "stderr",
     "output_type": "stream",
     "text": [
      "/opt/anaconda3/envs/autophot/lib/python3.7/site-packages/matplotlib/backends/backend_pdf.py:1649: DeprecationWarning: NONE is deprecated and will be removed in Pillow 10 (2023-07-01). Use Resampling.NEAREST or Dither.NONE instead.\n",
      "  img = img.convert(mode='P', dither=Image.NONE,\n",
      "/opt/anaconda3/envs/autophot/lib/python3.7/site-packages/matplotlib/backends/backend_pdf.py:1650: DeprecationWarning: ADAPTIVE is deprecated and will be removed in Pillow 10 (2023-07-01). Use Palette.ADAPTIVE instead.\n",
      "  palette=Image.ADAPTIVE, colors=num_colors)\n",
      "Approximate Target SNR: 23.3\n",
      "SNR = 23 - skipping limiting magnitude\n",
      "Pixel Offset: 0.000\n",
      "Limiting Magnitude: skipped\n",
      "Target Detection probability: 99 %\n",
      "Target flux: 501.946 +/- 0.000 [counts/s]\n",
      "Noise: 494.840 [counts/s]\n",
      "Target SNR: 23.292 +/- 0.046\n",
      "Instrumental Magnitude: -6.752 +/- 0.000\n",
      "Zeropoint: 25.979 +/- 0.031\n",
      "Target Magnitude: 19.173 +/- 0.057 \n",
      "\n",
      "*** Transient well detected ***\n",
      "\n",
      "Time Taken [ 9729 ]: 50s\n",
      "Sucess: r1645972redCCD4_APT.fits :: PID 9729 \n",
      "\n"
     ]
    },
    {
     "name": "stdout",
     "output_type": "stream",
     "text": [
      "\n",
      "---\n",
      "\n",
      "Files that failed : []\n",
      "\n",
      "DONE\n",
      "\n",
      "Done - Time Taken: 164.6\n"
     ]
    }
   ],
   "source": [
    "#Run for a different object: Make subdirectories for each object\n",
    "autophot_input['fits_dir'] = dirpath + '/test/at2022acpz'\n",
    "\n",
    "autophot_input['target_ra'] = 57.69454\n",
    "autophot_input['target_dec'] = -12.11212\n",
    "\n",
    "autophot_input['catalog']['use_catalog'] = 'pan_starrs'\n",
    "\n",
    "run_automatic_autophot(autophot_input)"
   ]
  },
  {
   "cell_type": "code",
   "execution_count": 32,
   "id": "e28590aa",
   "metadata": {},
   "outputs": [
    {
     "name": "stderr",
     "output_type": "stream",
     "text": [
      "\n",
      "User instrument database: /Users/terwelj/Documents/VirtualMachine/Observing_ING/autophot/telescope.yml\n",
      "\n",
      "Number of files: 3\n",
      "\n",
      "1 telescope(s) detected - checking header keywords\n",
      "\n"
     ]
    },
    {
     "name": "stdout",
     "output_type": "stream",
     "text": [
      "\n",
      "        _       _       ___ _  _    _____\n",
      "       /_\\ _  _| |_ ___| _ \\ || |__|_   _|\n",
      "      / _ \\ || |  _/ _ \\  _/ __ / _ \\| |\n",
      "     /_/ \\_\\_,_|\\__\\___/_| |_||_\\___/|_|\n",
      "    \n",
      "     ---------------------------------------\n",
      "        Automated Photometry of Transients\n",
      "        S. J. Brennan et al. 2021 \n",
      "        Please provide feedback/bugs to:\n",
      "        Email: sean.brennan2@ucdconnect.ie\n",
      "    ---------------------------------------\n",
      "Directory of fits file: /Users/terwelj/Documents/VirtualMachine/Observing_ING/autophot/test/at2022acsu\n",
      "Found Telescopes:\n",
      "\n",
      " - INT\n",
      "\n",
      "-> Telescope check complete\n",
      "\n",
      "Checking Filter keywords and database\n",
      "\n",
      "-> Filter check complete\n",
      "\n",
      "Checking Filter information for each image\n"
     ]
    },
    {
     "name": "stderr",
     "output_type": "stream",
     "text": [
      "File: r1645975redCCD4_APT.fits - PID: 9729\n",
      "Start Time: 2022-12-16 11:39:32.254311\n",
      "Filter keyoward used: WFFBAND\n",
      "Telescope: INT\n",
      "Filter: i\n",
      "MJD: 59926.974\n",
      "Date of Observation : 2022-12-13\n",
      "Read Noise: 5.8 [e^- /pixel]\n",
      "GAIN: 2.9 [e^- /count]\n",
      "Exposure time: 20 [s] \n",
      "Detecting/removing cosmic ray sources\n"
     ]
    },
    {
     "name": "stdout",
     "output_type": "stream",
     "text": [
      "\n",
      "Files removed - Wrong Image Type: 0\n",
      "\n",
      "Files removed - No/Wrong filter(s): 0\n",
      "Filters not included: []\n",
      "\n",
      "\n",
      "Files removed: 0\n",
      "\n",
      "+-----------+\n",
      "|File: 1 / 3|\n",
      "+-----------+\n",
      "\n",
      "Starting Astroscrappy ... "
     ]
    },
    {
     "name": "stderr",
     "output_type": "stream",
     "text": [
      "Contaminated pixels with Cosmic rays removed: 28528\n",
      "Cosmic rays removed - image updated\n",
      "WARNING: FITSFixedWarning: RADECSYS= 'FK5 ' / mean place new (after the 1976 IAU) system \n",
      "the RADECSYS keyword is deprecated, use RADESYSa. [astropy.wcs.wcs]\n",
      "FITSFixedWarning: RADECSYS= 'FK5 ' / mean place new (after the 1976 IAU) system \n",
      "the RADECSYS keyword is deprecated, use RADESYSa.\n",
      "WARNING: FITSFixedWarning: PROJP1 = 1.00000000 / Projection coefficient for primary WCS \n",
      "the PROJPn keyword is deprecated, use PVi_ma. [astropy.wcs.wcs]\n",
      "FITSFixedWarning: PROJP1 = 1.00000000 / Projection coefficient for primary WCS \n",
      "the PROJPn keyword is deprecated, use PVi_ma.\n",
      "WARNING: FITSFixedWarning: PROJP3 = 0.00000000 / Projection coefficient for primary WCS \n",
      "the PROJPn keyword is deprecated, use PVi_ma. [astropy.wcs.wcs]\n",
      "FITSFixedWarning: PROJP3 = 0.00000000 / Projection coefficient for primary WCS \n",
      "the PROJPn keyword is deprecated, use PVi_ma.\n",
      "WARNING: FITSFixedWarning: 'datfix' made the change 'Invalid parameter values: MJD-OBS and DATE-OBS are inconsistent.\n",
      "Changed DATE-OBS from '2022-12-13        ' to '2022-12-13T00:00:00.0''. [astropy.wcs.wcs]\n",
      "FITSFixedWarning: 'datfix' made the change 'Invalid parameter values: MJD-OBS and DATE-OBS are inconsistent.\n",
      "Changed DATE-OBS from '2022-12-13        ' to '2022-12-13T00:00:00.0''.\n",
      "\n",
      "Performing Astrometry.net\n",
      "Removing any pre-existing WCS keys \n",
      "No WCS values found - attempting to solve field\n",
      "ASTROMETRY started...\n",
      "ASTROMETRY finished: 3s\n",
      "Updating WCS keys with new values\n",
      "WCS saved to new file\n",
      "\n",
      "Searching for FWHM\n",
      "Using Gaussian Profile for fitting\n"
     ]
    },
    {
     "name": "stdout",
     "output_type": "stream",
     "text": [
      "\n",
      "+-------------------------------+\n",
      "|Finding Full Width Half Maximum|\n",
      "+-------------------------------+\n",
      "\n"
     ]
    },
    {
     "name": "stderr",
     "output_type": "stream",
     "text": [
      "\n",
      "Number of sources before cleaning [ 25.0 sigma ]: 25 \n",
      "Updating search FWHM value\n"
     ]
    },
    {
     "name": "stdout",
     "output_type": "stream",
     "text": [
      "operands could not be broadcast together with shapes (2500,) (2050,) \n",
      "Updated guess for FWHM: 4.7 pixels \n"
     ]
    },
    {
     "name": "stderr",
     "output_type": "stream",
     "text": [
      "\n",
      "Number of sources before cleaning [ 25.0 sigma ]: 77 \n",
      "Removed 2 sources near boundary\n",
      "Removed 4 crowded sources\n"
     ]
    },
    {
     "name": "stdout",
     "output_type": "stream",
     "text": [
      "Fitting source for FWHM: 71/71 "
     ]
    },
    {
     "name": "stderr",
     "output_type": "stream",
     "text": [
      "Removed 3 saturated sources\n",
      "WARNING: Input data contains invalid values (NaNs or infs), which were automatically clipped. [astropy.stats.sigma_clipping]\n",
      "Input data contains invalid values (NaNs or infs), which were automatically clipped.\n",
      "Removed 5 FWHM outliers\n",
      "WARNING: Input data contains invalid values (NaNs or infs), which were automatically clipped. [astropy.stats.sigma_clipping]\n",
      "Input data contains invalid values (NaNs or infs), which were automatically clipped.\n",
      "Removed 12 median outliers\n",
      "Useable sources found [ 25 sigma ]: 71\n",
      "Removes 0 sources within minimum seperation [ 23 pixel ]\n",
      "\n",
      "FWHM: 4.640 +/- 0.133 [ pixels ]\n",
      "\n",
      "Seeing: 1.539 [ arcsec ]\n",
      "Aperture size: 7.9 pixels\n",
      "Aperture correction: -0.052 +/- 0.015 [ mag ]\n",
      "WARNING: FITSFixedWarning: 'datfix' made the change 'Invalid parameter values: MJD-OBS and DATE-OBS are inconsistent.\n",
      "Changed DATE-OBS from '2022-12-13        ' to '2022-12-13T00:00:00.0''. [astropy.wcs.wcs]\n",
      "FITSFixedWarning: 'datfix' made the change 'Invalid parameter values: MJD-OBS and DATE-OBS are inconsistent.\n",
      "Changed DATE-OBS from '2022-12-13        ' to '2022-12-13T00:00:00.0''.\n",
      "Searching for new catalog [sdss] for target_ra_32_dec_12 \n"
     ]
    },
    {
     "name": "stdout",
     "output_type": "stream",
     "text": [
      "\n",
      "+---------------------------------------------+\n",
      "|Searching for catalog for target_ra_32_dec_12|\n",
      "+---------------------------------------------+\n",
      "\n"
     ]
    },
    {
     "name": "stderr",
     "output_type": "stream",
     "text": [
      "Catalog length: 18\n",
      "Removed 8 sources fainter than cutoff [20 mag]\n",
      "Using Gaussian Profile for fitting\n",
      "Catalog Length: 0\n",
      "Could NOT find any catalog sources in field\n",
      "Traceback (most recent call last):\n",
      "  File \"/opt/anaconda3/envs/autophot/lib/python3.7/site-packages/autophot/packages/main.py\", line 1139, in main\n",
      "    raise Exception('Could NOT find any catalog sources in field')\n",
      "Exception: Could NOT find any catalog sources in field\n",
      "Failure: r1645975redCCD4_APT.fits - PID: 9729\n",
      "File: r1645976redCCD4_APT.fits - PID: 9729\n",
      "Start Time: 2022-12-16 11:39:56.554341\n"
     ]
    },
    {
     "name": "stdout",
     "output_type": "stream",
     "text": [
      "\n",
      "+---------------------------------+\n",
      "|Matching catalog sources to image|\n",
      "+---------------------------------+\n",
      "\n",
      "Removed 3 sources too close to boundary or off image\n",
      "  .. done\n",
      "\n",
      "Broken cutouts: 0\n",
      "Not in correct location: 0\n",
      "Not detected: 0\n",
      "Saturated: 0\n",
      "Error: 0\n",
      "\n",
      "\n",
      "+-----------+\n",
      "|File: 2 / 3|\n",
      "+-----------+\n",
      "\n"
     ]
    },
    {
     "name": "stderr",
     "output_type": "stream",
     "text": [
      "Filter keyoward used: WFFBAND\n",
      "Telescope: INT\n",
      "Filter: r\n",
      "MJD: 59926.976\n",
      "Date of Observation : 2022-12-13\n",
      "Read Noise: 5.8 [e^- /pixel]\n",
      "GAIN: 2.9 [e^- /count]\n",
      "Exposure time: 20 [s] \n",
      "Detecting/removing cosmic ray sources\n"
     ]
    },
    {
     "name": "stdout",
     "output_type": "stream",
     "text": [
      "Starting Astroscrappy ... "
     ]
    },
    {
     "name": "stderr",
     "output_type": "stream",
     "text": [
      "Contaminated pixels with Cosmic rays removed: 28186\n",
      "Cosmic rays removed - image updated\n",
      "WARNING: FITSFixedWarning: RADECSYS= 'FK5 ' / mean place new (after the 1976 IAU) system \n",
      "the RADECSYS keyword is deprecated, use RADESYSa. [astropy.wcs.wcs]\n",
      "FITSFixedWarning: RADECSYS= 'FK5 ' / mean place new (after the 1976 IAU) system \n",
      "the RADECSYS keyword is deprecated, use RADESYSa.\n",
      "WARNING: FITSFixedWarning: PROJP1 = 1.00000000 / Projection coefficient for primary WCS \n",
      "the PROJPn keyword is deprecated, use PVi_ma. [astropy.wcs.wcs]\n",
      "FITSFixedWarning: PROJP1 = 1.00000000 / Projection coefficient for primary WCS \n",
      "the PROJPn keyword is deprecated, use PVi_ma.\n",
      "WARNING: FITSFixedWarning: PROJP3 = 0.00000000 / Projection coefficient for primary WCS \n",
      "the PROJPn keyword is deprecated, use PVi_ma. [astropy.wcs.wcs]\n",
      "FITSFixedWarning: PROJP3 = 0.00000000 / Projection coefficient for primary WCS \n",
      "the PROJPn keyword is deprecated, use PVi_ma.\n",
      "WARNING: FITSFixedWarning: 'datfix' made the change 'Invalid parameter values: MJD-OBS and DATE-OBS are inconsistent.\n",
      "Changed DATE-OBS from '2022-12-13        ' to '2022-12-13T00:00:00.0''. [astropy.wcs.wcs]\n",
      "FITSFixedWarning: 'datfix' made the change 'Invalid parameter values: MJD-OBS and DATE-OBS are inconsistent.\n",
      "Changed DATE-OBS from '2022-12-13        ' to '2022-12-13T00:00:00.0''.\n",
      "\n",
      "Performing Astrometry.net\n",
      "Removing any pre-existing WCS keys \n",
      "No WCS values found - attempting to solve field\n",
      "ASTROMETRY started...\n",
      "ASTROMETRY finished: 3s\n",
      "Updating WCS keys with new values\n",
      "WCS saved to new file\n",
      "\n",
      "Searching for FWHM\n",
      "Using Gaussian Profile for fitting\n"
     ]
    },
    {
     "name": "stdout",
     "output_type": "stream",
     "text": [
      "\n",
      "+-------------------------------+\n",
      "|Finding Full Width Half Maximum|\n",
      "+-------------------------------+\n",
      "\n"
     ]
    },
    {
     "name": "stderr",
     "output_type": "stream",
     "text": [
      "\n",
      "Number of sources before cleaning [ 25.0 sigma ]: 25 \n",
      "Updating search FWHM value\n"
     ]
    },
    {
     "name": "stdout",
     "output_type": "stream",
     "text": [
      "operands could not be broadcast together with shapes (2500,) (2050,) \n",
      "Updated guess for FWHM: 4.8 pixels \n"
     ]
    },
    {
     "name": "stderr",
     "output_type": "stream",
     "text": [
      "\n",
      "Number of sources before cleaning [ 25.0 sigma ]: 80 \n",
      "Removed 2 sources near boundary\n",
      "Removed 0 crowded sources\n"
     ]
    },
    {
     "name": "stdout",
     "output_type": "stream",
     "text": [
      "Fitting source for FWHM: 78/78  "
     ]
    },
    {
     "name": "stderr",
     "output_type": "stream",
     "text": [
      "Removed 6 saturated sources\n",
      "WARNING: Input data contains invalid values (NaNs or infs), which were automatically clipped. [astropy.stats.sigma_clipping]\n",
      "Input data contains invalid values (NaNs or infs), which were automatically clipped.\n",
      "Removed 9 FWHM outliers\n",
      "WARNING: Input data contains invalid values (NaNs or infs), which were automatically clipped. [astropy.stats.sigma_clipping]\n",
      "Input data contains invalid values (NaNs or infs), which were automatically clipped.\n",
      "Removed 25 median outliers\n",
      "Useable sources found [ 25 sigma ]: 78\n",
      "Removes 0 sources within minimum seperation [ 21 pixel ]\n",
      "\n",
      "FWHM: 4.388 +/- 0.289 [ pixels ]\n",
      "\n",
      "Seeing: 1.455 [ arcsec ]\n",
      "Aperture size: 7.5 pixels\n",
      "Aperture correction: -0.045 +/- 0.014 [ mag ]\n",
      "WARNING: FITSFixedWarning: 'datfix' made the change 'Invalid parameter values: MJD-OBS and DATE-OBS are inconsistent.\n",
      "Changed DATE-OBS from '2022-12-13        ' to '2022-12-13T00:00:00.0''. [astropy.wcs.wcs]\n",
      "FITSFixedWarning: 'datfix' made the change 'Invalid parameter values: MJD-OBS and DATE-OBS are inconsistent.\n",
      "Changed DATE-OBS from '2022-12-13        ' to '2022-12-13T00:00:00.0''.\n",
      "Catalog found for target_ra_32_dec_12\n",
      "Catalog: SDSS \n",
      "File: target_ra_32_dec_12_r_0.25\n",
      "Catalog length: 18\n",
      "Removed 8 sources fainter than cutoff [20 mag]\n",
      "Using Gaussian Profile for fitting\n",
      "Catalog Length: 0\n",
      "Could NOT find any catalog sources in field\n",
      "Traceback (most recent call last):\n",
      "  File \"/opt/anaconda3/envs/autophot/lib/python3.7/site-packages/autophot/packages/main.py\", line 1139, in main\n",
      "    raise Exception('Could NOT find any catalog sources in field')\n",
      "Exception: Could NOT find any catalog sources in field\n",
      "Failure: r1645976redCCD4_APT.fits - PID: 9729\n",
      "File: r1645977redCCD4_APT.fits - PID: 9729\n",
      "Start Time: 2022-12-16 11:40:16.282692\n"
     ]
    },
    {
     "name": "stdout",
     "output_type": "stream",
     "text": [
      "\n",
      "+---------------------------------------------+\n",
      "|Searching for catalog for target_ra_32_dec_12|\n",
      "+---------------------------------------------+\n",
      "\n",
      "\n",
      "+---------------------------------+\n",
      "|Matching catalog sources to image|\n",
      "+---------------------------------+\n",
      "\n",
      "Removed 3 sources too close to boundary or off image\n",
      "  .. done\n",
      "\n",
      "Broken cutouts: 0\n",
      "Not in correct location: 0\n",
      "Not detected: 0\n",
      "Saturated: 0\n",
      "Error: 0\n",
      "\n",
      "\n",
      "+-----------+\n",
      "|File: 3 / 3|\n",
      "+-----------+\n",
      "\n"
     ]
    },
    {
     "name": "stderr",
     "output_type": "stream",
     "text": [
      "Filter keyoward used: WFFBAND\n",
      "Telescope: INT\n",
      "Filter: g\n",
      "MJD: 59926.977\n",
      "Date of Observation : 2022-12-13\n",
      "Read Noise: 5.8 [e^- /pixel]\n",
      "GAIN: 2.9 [e^- /count]\n",
      "Exposure time: 20 [s] \n",
      "Detecting/removing cosmic ray sources\n"
     ]
    },
    {
     "name": "stdout",
     "output_type": "stream",
     "text": [
      "Starting Astroscrappy ... "
     ]
    },
    {
     "name": "stderr",
     "output_type": "stream",
     "text": [
      "Contaminated pixels with Cosmic rays removed: 28898\n",
      "Cosmic rays removed - image updated\n",
      "WARNING: FITSFixedWarning: RADECSYS= 'FK5 ' / mean place new (after the 1976 IAU) system \n",
      "the RADECSYS keyword is deprecated, use RADESYSa. [astropy.wcs.wcs]\n",
      "FITSFixedWarning: RADECSYS= 'FK5 ' / mean place new (after the 1976 IAU) system \n",
      "the RADECSYS keyword is deprecated, use RADESYSa.\n",
      "WARNING: FITSFixedWarning: PROJP1 = 1.00000000 / Projection coefficient for primary WCS \n",
      "the PROJPn keyword is deprecated, use PVi_ma. [astropy.wcs.wcs]\n",
      "FITSFixedWarning: PROJP1 = 1.00000000 / Projection coefficient for primary WCS \n",
      "the PROJPn keyword is deprecated, use PVi_ma.\n",
      "WARNING: FITSFixedWarning: PROJP3 = 0.00000000 / Projection coefficient for primary WCS \n",
      "the PROJPn keyword is deprecated, use PVi_ma. [astropy.wcs.wcs]\n",
      "FITSFixedWarning: PROJP3 = 0.00000000 / Projection coefficient for primary WCS \n",
      "the PROJPn keyword is deprecated, use PVi_ma.\n",
      "WARNING: FITSFixedWarning: 'datfix' made the change 'Invalid parameter values: MJD-OBS and DATE-OBS are inconsistent.\n",
      "Changed DATE-OBS from '2022-12-13        ' to '2022-12-13T00:00:00.0''. [astropy.wcs.wcs]\n",
      "FITSFixedWarning: 'datfix' made the change 'Invalid parameter values: MJD-OBS and DATE-OBS are inconsistent.\n",
      "Changed DATE-OBS from '2022-12-13        ' to '2022-12-13T00:00:00.0''.\n",
      "\n",
      "Performing Astrometry.net\n",
      "Removing any pre-existing WCS keys \n",
      "No WCS values found - attempting to solve field\n",
      "ASTROMETRY started...\n",
      "ASTROMETRY finished: 3s\n",
      "Updating WCS keys with new values\n",
      "WCS saved to new file\n",
      "\n",
      "Searching for FWHM\n",
      "Using Gaussian Profile for fitting\n"
     ]
    },
    {
     "name": "stdout",
     "output_type": "stream",
     "text": [
      "\n",
      "+-------------------------------+\n",
      "|Finding Full Width Half Maximum|\n",
      "+-------------------------------+\n",
      "\n"
     ]
    },
    {
     "name": "stderr",
     "output_type": "stream",
     "text": [
      "\n",
      "Number of sources before cleaning [ 25.0 sigma ]: 25 \n",
      "Updating search FWHM value\n"
     ]
    },
    {
     "name": "stdout",
     "output_type": "stream",
     "text": [
      "Updated guess for FWHM: 4.8 pixels \n"
     ]
    },
    {
     "name": "stderr",
     "output_type": "stream",
     "text": [
      "\n",
      "Number of sources before cleaning [ 25.0 sigma ]: 62 \n",
      "Removed 2 sources near boundary\n",
      "Removed 2 crowded sources\n"
     ]
    },
    {
     "name": "stdout",
     "output_type": "stream",
     "text": [
      "Fitting source for FWHM: 58/58  "
     ]
    },
    {
     "name": "stderr",
     "output_type": "stream",
     "text": [
      "Removed 3 saturated sources\n",
      "WARNING: Input data contains invalid values (NaNs or infs), which were automatically clipped. [astropy.stats.sigma_clipping]\n",
      "Input data contains invalid values (NaNs or infs), which were automatically clipped.\n",
      "Removed 5 FWHM outliers\n",
      "WARNING: Input data contains invalid values (NaNs or infs), which were automatically clipped. [astropy.stats.sigma_clipping]\n",
      "Input data contains invalid values (NaNs or infs), which were automatically clipped.\n",
      "Removed 17 median outliers\n",
      "Useable sources found [ 25 sigma ]: 58\n",
      "Removes 0 sources within minimum seperation [ 23 pixel ]\n",
      "\n",
      "FWHM: 4.634 +/- 0.181 [ pixels ]\n",
      "\n",
      "Seeing: 1.536 [ arcsec ]\n",
      "Aperture size: 7.9 pixels\n",
      "Aperture correction: -0.033 +/- 0.012 [ mag ]\n"
     ]
    },
    {
     "name": "stdout",
     "output_type": "stream",
     "text": [
      "\n",
      "+---------------------------------------------+\n",
      "|Searching for catalog for target_ra_32_dec_12|\n",
      "+---------------------------------------------+\n",
      "\n"
     ]
    },
    {
     "name": "stderr",
     "output_type": "stream",
     "text": [
      "WARNING: FITSFixedWarning: 'datfix' made the change 'Invalid parameter values: MJD-OBS and DATE-OBS are inconsistent.\n",
      "Changed DATE-OBS from '2022-12-13        ' to '2022-12-13T00:00:00.0''. [astropy.wcs.wcs]\n",
      "FITSFixedWarning: 'datfix' made the change 'Invalid parameter values: MJD-OBS and DATE-OBS are inconsistent.\n",
      "Changed DATE-OBS from '2022-12-13        ' to '2022-12-13T00:00:00.0''.\n",
      "Catalog found for target_ra_32_dec_12\n",
      "Catalog: SDSS \n",
      "File: target_ra_32_dec_12_r_0.25\n",
      "Catalog length: 18\n",
      "Removed 9 sources fainter than cutoff [20 mag]\n",
      "Using Gaussian Profile for fitting\n",
      "Catalog Length: 0\n",
      "Could NOT find any catalog sources in field\n",
      "Traceback (most recent call last):\n",
      "  File \"/opt/anaconda3/envs/autophot/lib/python3.7/site-packages/autophot/packages/main.py\", line 1139, in main\n",
      "    raise Exception('Could NOT find any catalog sources in field')\n",
      "Exception: Could NOT find any catalog sources in field\n",
      "Failure: r1645977redCCD4_APT.fits - PID: 9729\n"
     ]
    },
    {
     "name": "stdout",
     "output_type": "stream",
     "text": [
      "\n",
      "+---------------------------------+\n",
      "|Matching catalog sources to image|\n",
      "+---------------------------------+\n",
      "\n",
      "Removed 2 sources too close to boundary or off image\n",
      "  .. done\n",
      "\n",
      "Broken cutouts: 0\n",
      "Not in correct location: 0\n",
      "Not detected: 0\n",
      "Saturated: 0\n",
      "Error: 0\n",
      "\n",
      "\n",
      "---\n",
      "\n",
      "Files that failed : ['/Users/terwelj/Documents/VirtualMachine/Observing_ING/autophot/test/at2022acsu_REDUCED/r1645975redCCD4/r1645975redCCD4_APT.fits', '/Users/terwelj/Documents/VirtualMachine/Observing_ING/autophot/test/at2022acsu_REDUCED/r1645976redCCD4/r1645976redCCD4_APT.fits', '/Users/terwelj/Documents/VirtualMachine/Observing_ING/autophot/test/at2022acsu_REDUCED/r1645977redCCD4/r1645977redCCD4_APT.fits']\n",
      "\n",
      "DONE\n",
      "\n",
      "Done - Time Taken: 64.3\n"
     ]
    }
   ],
   "source": [
    "#Run for a different object: Make subdirectories for each object\n",
    "autophot_input['fits_dir'] = dirpath + '/test/at2022acsu'\n",
    "\n",
    "autophot_input['target_ra'] = 32.42648\n",
    "autophot_input['target_dec'] = 11.89660\n",
    "\n",
    "autophot_input['catalog']['use_catalog'] = 'sdss'\n",
    "\n",
    "run_automatic_autophot(autophot_input)"
   ]
  },
  {
   "cell_type": "code",
   "execution_count": 38,
   "id": "d58e1c5e",
   "metadata": {},
   "outputs": [
    {
     "name": "stdout",
     "output_type": "stream",
     "text": [
      "/Users/terwelj/Documents/VirtualMachine/Observing_ING/autophot/test/at2022acsd_REDUCED/r1645965redCCD4/r1645965redCCD4_APT.fits 59926.9600272 15.190409319521212 nan nan nan nan [19.33111445] 0.1542257050587603\n",
      " \n",
      "/Users/terwelj/Documents/VirtualMachine/Observing_ING/autophot/test/at2022acsd_REDUCED/r1645963redCCD4/r1645963redCCD4_APT.fits 59926.9577934 41.031400663993416 [19.04007152] 0.0592047621536603 nan nan nan nan\n",
      " \n",
      "/Users/terwelj/Documents/VirtualMachine/Observing_ING/autophot/test/at2022acsd_REDUCED/r1645964redCCD4/r1645964redCCD4_APT.fits 59926.9588582 28.875605043976115 nan nan [18.95212619] 0.0865882373662189 nan nan\n",
      " \n",
      "/Users/terwelj/Documents/VirtualMachine/Observing_ING/autophot/test/at2022acpz_REDUCED/r1645973redCCD4/r1645973redCCD4_APT.fits 59926.971335 34.498860017964724 [19.16390964] 0.0407905484078612 nan nan nan nan\n",
      " \n",
      "/Users/terwelj/Documents/VirtualMachine/Observing_ING/autophot/test/at2022acpz_REDUCED/r1645974redCCD4/r1645974redCCD4_APT.fits 59926.9725388 11.474452445769884 nan nan nan nan [19.64218997] 0.1692440689286253\n",
      " \n",
      "/Users/terwelj/Documents/VirtualMachine/Observing_ING/autophot/test/at2022acpz_REDUCED/r1645972redCCD4/r1645972redCCD4_APT.fits 59926.9700619 23.292189018138355 nan nan [19.17322181] 0.0568207807926981 nan nan\n",
      " \n"
     ]
    }
   ],
   "source": [
    "#Show all results\n",
    "for j in ['uo', 'sd', 'sf', 'ru', 'pz', 'su']:\n",
    "    try:\n",
    "        result = pd.read_csv(dirpath+f'/test/at2022ac{j}_REDUCED/REDUCED.csv')\n",
    "        for i in range(len(result)):\n",
    "            print(result.fname[i], result.mjd[i], result.SNR[i], result.g[i], result.g_err[i],\n",
    "                  result.r[i], result.r_err[i], result.i[i], result.i_err[i])\n",
    "            print(' ')\n",
    "    except:\n",
    "        continue"
   ]
  },
  {
   "cell_type": "code",
   "execution_count": 40,
   "id": "136df1d8",
   "metadata": {},
   "outputs": [
    {
     "name": "stderr",
     "output_type": "stream",
     "text": [
      "\n",
      "User instrument database: /Users/terwelj/Documents/VirtualMachine/Observing_ING/autophot/telescope.yml\n",
      "\n",
      "Number of files: 3\n",
      "\n",
      "1 telescope(s) detected - checking header keywords\n",
      "\n"
     ]
    },
    {
     "name": "stdout",
     "output_type": "stream",
     "text": [
      "\n",
      "        _       _       ___ _  _    _____\n",
      "       /_\\ _  _| |_ ___| _ \\ || |__|_   _|\n",
      "      / _ \\ || |  _/ _ \\  _/ __ / _ \\| |\n",
      "     /_/ \\_\\_,_|\\__\\___/_| |_||_\\___/|_|\n",
      "    \n",
      "     ---------------------------------------\n",
      "        Automated Photometry of Transients\n",
      "        S. J. Brennan et al. 2021 \n",
      "        Please provide feedback/bugs to:\n",
      "        Email: sean.brennan2@ucdconnect.ie\n",
      "    ---------------------------------------\n",
      "Directory of fits file: /Users/terwelj/Documents/VirtualMachine/Observing_ING/autophot/test/at2022acuo\n",
      "Found Telescopes:\n",
      "\n",
      " - INT\n",
      "\n",
      "-> Telescope check complete\n",
      "\n",
      "Checking Filter keywords and database\n",
      "\n",
      "-> Filter check complete\n",
      "\n",
      "Checking Filter information for each image\n"
     ]
    },
    {
     "name": "stderr",
     "output_type": "stream",
     "text": [
      "File: r1645960redCCD4_APT.fits - PID: 9729\n",
      "Start Time: 2022-12-16 11:54:23.498983\n",
      "Filter keyoward used: WFFBAND\n",
      "Telescope: INT\n",
      "Filter: i\n",
      "MJD: 59926.954\n",
      "Date of Observation : 2022-12-13\n",
      "Read Noise: 5.8 [e^- /pixel]\n",
      "GAIN: 2.9 [e^- /count]\n",
      "Exposure time: 20 [s] \n",
      "Detecting/removing cosmic ray sources\n"
     ]
    },
    {
     "name": "stdout",
     "output_type": "stream",
     "text": [
      "\n",
      "Files removed - Wrong Image Type: 0\n",
      "\n",
      "Files removed - No/Wrong filter(s): 0\n",
      "Filters not included: []\n",
      "\n",
      "\n",
      "Files removed: 0\n",
      "\n",
      "+-----------+\n",
      "|File: 1 / 3|\n",
      "+-----------+\n",
      "\n",
      "Starting Astroscrappy ... "
     ]
    },
    {
     "name": "stderr",
     "output_type": "stream",
     "text": [
      "Contaminated pixels with Cosmic rays removed: 27859\n",
      "Cosmic rays removed - image updated\n",
      "WARNING: FITSFixedWarning: RADECSYS= 'FK5 ' / mean place new (after the 1976 IAU) system \n",
      "the RADECSYS keyword is deprecated, use RADESYSa. [astropy.wcs.wcs]\n",
      "FITSFixedWarning: RADECSYS= 'FK5 ' / mean place new (after the 1976 IAU) system \n",
      "the RADECSYS keyword is deprecated, use RADESYSa.\n",
      "WARNING: FITSFixedWarning: PROJP1 = 1.00000000 / Projection coefficient for primary WCS \n",
      "the PROJPn keyword is deprecated, use PVi_ma. [astropy.wcs.wcs]\n",
      "FITSFixedWarning: PROJP1 = 1.00000000 / Projection coefficient for primary WCS \n",
      "the PROJPn keyword is deprecated, use PVi_ma.\n",
      "WARNING: FITSFixedWarning: PROJP3 = 0.00000000 / Projection coefficient for primary WCS \n",
      "the PROJPn keyword is deprecated, use PVi_ma. [astropy.wcs.wcs]\n",
      "FITSFixedWarning: PROJP3 = 0.00000000 / Projection coefficient for primary WCS \n",
      "the PROJPn keyword is deprecated, use PVi_ma.\n",
      "WARNING: FITSFixedWarning: 'datfix' made the change 'Invalid parameter values: MJD-OBS and DATE-OBS are inconsistent.\n",
      "Changed DATE-OBS from '2022-12-13        ' to '2022-12-13T00:00:00.0''. [astropy.wcs.wcs]\n",
      "FITSFixedWarning: 'datfix' made the change 'Invalid parameter values: MJD-OBS and DATE-OBS are inconsistent.\n",
      "Changed DATE-OBS from '2022-12-13        ' to '2022-12-13T00:00:00.0''.\n",
      "\n",
      "Performing Astrometry.net\n",
      "Removing any pre-existing WCS keys \n",
      "No WCS values found - attempting to solve field\n",
      "ASTROMETRY started...\n",
      "ASTROMETRY finished: 3s\n",
      "Updating WCS keys with new values\n",
      "WCS saved to new file\n",
      "\n",
      "Searching for FWHM\n",
      "Using Gaussian Profile for fitting\n"
     ]
    },
    {
     "name": "stdout",
     "output_type": "stream",
     "text": [
      "\n",
      "+-------------------------------+\n",
      "|Finding Full Width Half Maximum|\n",
      "+-------------------------------+\n",
      "\n"
     ]
    },
    {
     "name": "stderr",
     "output_type": "stream",
     "text": [
      "\n",
      "Number of sources before cleaning [ 25.0 sigma ]: 25 \n",
      "Updating search FWHM value\n"
     ]
    },
    {
     "name": "stdout",
     "output_type": "stream",
     "text": [
      "Updated guess for FWHM: 6.4 pixels \n"
     ]
    },
    {
     "name": "stderr",
     "output_type": "stream",
     "text": [
      "\n",
      "Number of sources before cleaning [ 25.0 sigma ]: 120 \n",
      "Removed 5 sources near boundary\n",
      "Removed 4 crowded sources\n"
     ]
    },
    {
     "name": "stdout",
     "output_type": "stream",
     "text": [
      "Fitting source for FWHM: 111/111 "
     ]
    },
    {
     "name": "stderr",
     "output_type": "stream",
     "text": [
      "Removed 2 saturated sources\n",
      "WARNING: Input data contains invalid values (NaNs or infs), which were automatically clipped. [astropy.stats.sigma_clipping]\n",
      "Input data contains invalid values (NaNs or infs), which were automatically clipped.\n",
      "Removed 5 FWHM outliers\n",
      "WARNING: Input data contains invalid values (NaNs or infs), which were automatically clipped. [astropy.stats.sigma_clipping]\n",
      "Input data contains invalid values (NaNs or infs), which were automatically clipped.\n",
      "Removed 16 median outliers\n",
      "Useable sources found [ 25 sigma ]: 111\n",
      "Removes 2 sources within minimum seperation [ 28 pixel ]\n",
      "\n",
      "FWHM: 5.823 +/- 0.417 [ pixels ]\n",
      "\n",
      "Seeing: 1.931 [ arcsec ]\n",
      "Aperture size: 9.9 pixels\n",
      "Aperture correction: -0.054 +/- 0.021 [ mag ]\n",
      "WARNING: FITSFixedWarning: 'datfix' made the change 'Invalid parameter values: MJD-OBS and DATE-OBS are inconsistent.\n",
      "Changed DATE-OBS from '2022-12-13        ' to '2022-12-13T00:00:00.0''. [astropy.wcs.wcs]\n",
      "FITSFixedWarning: 'datfix' made the change 'Invalid parameter values: MJD-OBS and DATE-OBS are inconsistent.\n",
      "Changed DATE-OBS from '2022-12-13        ' to '2022-12-13T00:00:00.0''.\n",
      "Searching for new catalog [pan_starrs] for target_ra_351_dec_21 \n",
      "Downloading sequence stars from pan_starrs\n"
     ]
    },
    {
     "name": "stdout",
     "output_type": "stream",
     "text": [
      "\n",
      "+----------------------------------------------+\n",
      "|Searching for catalog for target_ra_351_dec_21|\n",
      "+----------------------------------------------+\n",
      "\n"
     ]
    },
    {
     "name": "stderr",
     "output_type": "stream",
     "text": [
      "Catalog length: 7636\n",
      "Removed 3968 sources fainter than cutoff [20 mag]\n",
      "Using Gaussian Profile for fitting\n",
      "Catalog Length: 433\n"
     ]
    },
    {
     "name": "stdout",
     "output_type": "stream",
     "text": [
      "\n",
      "+---------------------------------+\n",
      "|Matching catalog sources to image|\n",
      "+---------------------------------+\n",
      "\n",
      "Removed 2 sources too close to target\n",
      "Removed 792 sources too close to boundary or off image\n",
      "Matching catalog to image: 405 / 433 :: Useful sources 300 / 433 "
     ]
    },
    {
     "name": "stderr",
     "output_type": "stream",
     "text": [
      "\n",
      "Median offset: 2.5 [ pixels ] / 0.8 [ arcsec ]\n",
      "Residual table updated: 1 / 10 \n",
      "\tSNR: 798 :: FWHM fitted 5.737\n",
      "Residual table updated: 2 / 10 \n",
      "\tSNR: 771 :: FWHM fitted 5.854\n",
      "Residual table updated: 3 / 10 \n",
      "\tSNR: 758 :: FWHM fitted 5.706\n"
     ]
    },
    {
     "name": "stdout",
     "output_type": "stream",
     "text": [
      "  .. done\n",
      "\n",
      "Broken cutouts: 0\n",
      "Not in correct location: 0\n",
      "Not detected: 97\n",
      "Saturated: 8\n",
      "Error: 0\n",
      "\n",
      "\n",
      "+-------------------------------------------+\n",
      "|Building PSF model using stars in the field|\n",
      "+-------------------------------------------+\n",
      "\n"
     ]
    },
    {
     "name": "stderr",
     "output_type": "stream",
     "text": [
      "Residual table updated: 4 / 10 \n",
      "\tSNR: 707 :: FWHM fitted 6.024\n",
      "Residual table updated: 5 / 10 \n",
      "\tSNR: 697 :: FWHM fitted 5.711\n",
      "Residual table updated: 6 / 10 \n",
      "\tSNR: 695 :: FWHM fitted 5.844\n",
      "Residual table updated: 7 / 10 \n",
      "\tSNR: 696 :: FWHM fitted 6.073\n",
      "Residual table updated: 8 / 10 \n",
      "\tSNR: 695 :: FWHM fitted 5.988\n",
      "Residual table updated: 9 / 10 \n",
      "\tSNR: 692 :: FWHM fitted 5.728\n",
      "Residual table updated: 10 / 10 \n",
      "\tSNR: 627 :: FWHM fitted 5.801\n",
      "\n",
      "PSF built using 10 sources\n",
      "\n",
      "Unity PSF: 42.2 [counts] \n",
      "Unity Residual table: 4.5 [counts] \n",
      "Using Aperture Photometry on sequence Stars \n",
      "No PSF sources fitted\n",
      "WARNING: Input data contains invalid values (NaNs or infs), which were automatically clipped. [astropy.stats.sigma_clipping]\n",
      "Input data contains invalid values (NaNs or infs), which were automatically clipped.\n",
      "\n",
      "Mean i-band zeropoint: 25.611 +/- 0.046 \n",
      "\n"
     ]
    },
    {
     "name": "stdout",
     "output_type": "stream",
     "text": [
      "PSF model saved as: /Users/terwelj/Documents/VirtualMachine/Observing_ING/autophot/test/at2022acuo_REDUCED/r1645960redCCD4/PSF_model_r1645960redCCD4_APT.fits\n",
      "\n",
      "+-------------------+\n",
      "|Measuring PSF model|\n",
      "+-------------------+\n",
      "\n",
      "\n",
      "+-----------------------+\n",
      "|Finding Zeropoint value|\n",
      "+-----------------------+\n",
      "\n",
      "Checking for suitable catalog sources\n",
      "Removed 221 sources lower than SNR of 25.0\n"
     ]
    },
    {
     "name": "stderr",
     "output_type": "stream",
     "text": [
      "/opt/anaconda3/envs/autophot/lib/python3.7/site-packages/matplotlib/backends/backend_pdf.py:1649: DeprecationWarning: NONE is deprecated and will be removed in Pillow 10 (2023-07-01). Use Resampling.NEAREST or Dither.NONE instead.\n",
      "  img = img.convert(mode='P', dither=Image.NONE,\n",
      "/opt/anaconda3/envs/autophot/lib/python3.7/site-packages/matplotlib/backends/backend_pdf.py:1650: DeprecationWarning: ADAPTIVE is deprecated and will be removed in Pillow 10 (2023-07-01). Use Palette.ADAPTIVE instead.\n",
      "  palette=Image.ADAPTIVE, colors=num_colors)\n",
      "Approx. catalog limiting magnitude: 18.816 [ mag ]\n",
      "Target photometry on original image\n",
      "/opt/anaconda3/envs/autophot/lib/python3.7/site-packages/matplotlib/backends/backend_pdf.py:1649: DeprecationWarning: NONE is deprecated and will be removed in Pillow 10 (2023-07-01). Use Resampling.NEAREST or Dither.NONE instead.\n",
      "  img = img.convert(mode='P', dither=Image.NONE,\n",
      "/opt/anaconda3/envs/autophot/lib/python3.7/site-packages/matplotlib/backends/backend_pdf.py:1650: DeprecationWarning: ADAPTIVE is deprecated and will be removed in Pillow 10 (2023-07-01). Use Palette.ADAPTIVE instead.\n",
      "  palette=Image.ADAPTIVE, colors=num_colors)\n",
      "Approximate Target SNR: 6.4\n",
      "SNR = 6 - skipping limiting magnitude\n",
      "Pixel Offset: 0.000\n",
      "Limiting Magnitude: skipped\n",
      "Target Detection probability: 44 %\n",
      "Target flux: 147.315 +/- 0.000 [counts/s]\n",
      "Noise: 612.573 [counts/s]\n",
      "Target SNR: 6.393 +/- 0.158\n",
      "Instrumental Magnitude: -5.421 +/- 0.000\n"
     ]
    },
    {
     "name": "stdout",
     "output_type": "stream",
     "text": [
      "\n",
      "+-----------------------------------+\n",
      "|Doing Aperture Photometry on Target|\n",
      "+-----------------------------------+\n",
      "\n"
     ]
    },
    {
     "name": "stderr",
     "output_type": "stream",
     "text": [
      "Zeropoint: 25.611 +/- 0.046\n",
      "Target Magnitude: 20.137 +/- 0.166 \n",
      "\n",
      "*** Transient well detected ***\n",
      "\n",
      "Time Taken [ 9729 ]: 57s\n",
      "Sucess: r1645960redCCD4_APT.fits :: PID 9729 \n",
      "\n",
      "File: r1645961redCCD4_APT.fits - PID: 9729\n",
      "Start Time: 2022-12-16 11:55:20.897502\n",
      "Filter keyoward used: WFFBAND\n",
      "Telescope: INT\n",
      "Filter: r\n",
      "MJD: 59926.955\n",
      "Date of Observation : 2022-12-13\n",
      "Read Noise: 5.8 [e^- /pixel]\n",
      "GAIN: 2.9 [e^- /count]\n",
      "Exposure time: 20 [s] \n",
      "Detecting/removing cosmic ray sources\n"
     ]
    },
    {
     "name": "stdout",
     "output_type": "stream",
     "text": [
      "\n",
      "+-----------+\n",
      "|File: 2 / 3|\n",
      "+-----------+\n",
      "\n",
      "Starting Astroscrappy ... "
     ]
    },
    {
     "name": "stderr",
     "output_type": "stream",
     "text": [
      "Contaminated pixels with Cosmic rays removed: 27852\n",
      "Cosmic rays removed - image updated\n",
      "WARNING: FITSFixedWarning: RADECSYS= 'FK5 ' / mean place new (after the 1976 IAU) system \n",
      "the RADECSYS keyword is deprecated, use RADESYSa. [astropy.wcs.wcs]\n",
      "FITSFixedWarning: RADECSYS= 'FK5 ' / mean place new (after the 1976 IAU) system \n",
      "the RADECSYS keyword is deprecated, use RADESYSa.\n",
      "WARNING: FITSFixedWarning: PROJP1 = 1.00000000 / Projection coefficient for primary WCS \n",
      "the PROJPn keyword is deprecated, use PVi_ma. [astropy.wcs.wcs]\n",
      "FITSFixedWarning: PROJP1 = 1.00000000 / Projection coefficient for primary WCS \n",
      "the PROJPn keyword is deprecated, use PVi_ma.\n",
      "WARNING: FITSFixedWarning: PROJP3 = 0.00000000 / Projection coefficient for primary WCS \n",
      "the PROJPn keyword is deprecated, use PVi_ma. [astropy.wcs.wcs]\n",
      "FITSFixedWarning: PROJP3 = 0.00000000 / Projection coefficient for primary WCS \n",
      "the PROJPn keyword is deprecated, use PVi_ma.\n",
      "WARNING: FITSFixedWarning: 'datfix' made the change 'Invalid parameter values: MJD-OBS and DATE-OBS are inconsistent.\n",
      "Changed DATE-OBS from '2022-12-13        ' to '2022-12-13T00:00:00.0''. [astropy.wcs.wcs]\n",
      "FITSFixedWarning: 'datfix' made the change 'Invalid parameter values: MJD-OBS and DATE-OBS are inconsistent.\n",
      "Changed DATE-OBS from '2022-12-13        ' to '2022-12-13T00:00:00.0''.\n",
      "\n",
      "Performing Astrometry.net\n",
      "Removing any pre-existing WCS keys \n",
      "No WCS values found - attempting to solve field\n",
      "ASTROMETRY started...\n",
      "ASTROMETRY finished: 3s\n",
      "Updating WCS keys with new values\n",
      "WCS saved to new file\n",
      "\n",
      "Searching for FWHM\n",
      "Using Gaussian Profile for fitting\n"
     ]
    },
    {
     "name": "stdout",
     "output_type": "stream",
     "text": [
      "\n",
      "+-------------------------------+\n",
      "|Finding Full Width Half Maximum|\n",
      "+-------------------------------+\n",
      "\n"
     ]
    },
    {
     "name": "stderr",
     "output_type": "stream",
     "text": [
      "\n",
      "Number of sources before cleaning [ 25.0 sigma ]: 25 \n",
      "Updating search FWHM value\n"
     ]
    },
    {
     "name": "stdout",
     "output_type": "stream",
     "text": [
      "Updated guess for FWHM: 6.5 pixels \n"
     ]
    },
    {
     "name": "stderr",
     "output_type": "stream",
     "text": [
      "\n",
      "Number of sources before cleaning [ 25.0 sigma ]: 110 \n",
      "Removed 3 sources near boundary\n",
      "Removed 5 crowded sources\n"
     ]
    },
    {
     "name": "stdout",
     "output_type": "stream",
     "text": [
      "Fitting source for FWHM: 102/102 "
     ]
    },
    {
     "name": "stderr",
     "output_type": "stream",
     "text": [
      "Removed 2 saturated sources\n",
      "WARNING: Input data contains invalid values (NaNs or infs), which were automatically clipped. [astropy.stats.sigma_clipping]\n",
      "Input data contains invalid values (NaNs or infs), which were automatically clipped.\n",
      "Removed 5 FWHM outliers\n",
      "WARNING: Input data contains invalid values (NaNs or infs), which were automatically clipped. [astropy.stats.sigma_clipping]\n",
      "Input data contains invalid values (NaNs or infs), which were automatically clipped.\n",
      "Removed 20 median outliers\n",
      "Useable sources found [ 25 sigma ]: 102\n",
      "Removes 2 sources within minimum seperation [ 32 pixel ]\n",
      "\n",
      "FWHM: 6.555 +/- 0.445 [ pixels ]\n",
      "\n",
      "Seeing: 2.173 [ arcsec ]\n",
      "Aperture size: 11.1 pixels\n",
      "Aperture correction: -0.037 +/- 0.012 [ mag ]\n",
      "WARNING: FITSFixedWarning: 'datfix' made the change 'Invalid parameter values: MJD-OBS and DATE-OBS are inconsistent.\n",
      "Changed DATE-OBS from '2022-12-13        ' to '2022-12-13T00:00:00.0''. [astropy.wcs.wcs]\n",
      "FITSFixedWarning: 'datfix' made the change 'Invalid parameter values: MJD-OBS and DATE-OBS are inconsistent.\n",
      "Changed DATE-OBS from '2022-12-13        ' to '2022-12-13T00:00:00.0''.\n",
      "Catalog found for target_ra_351_dec_21\n",
      "Catalog: PAN_STARRS \n",
      "File: target_ra_351_dec_21_r_0.25\n",
      "Catalog length: 7636\n",
      "Removed 3081 sources fainter than cutoff [20 mag]\n",
      "Using Gaussian Profile for fitting\n",
      "Catalog Length: 319\n"
     ]
    },
    {
     "name": "stdout",
     "output_type": "stream",
     "text": [
      "\n",
      "+----------------------------------------------+\n",
      "|Searching for catalog for target_ra_351_dec_21|\n",
      "+----------------------------------------------+\n",
      "\n",
      "\n",
      "+---------------------------------+\n",
      "|Matching catalog sources to image|\n",
      "+---------------------------------+\n",
      "\n",
      "Removed 2 sources too close to target\n",
      "Removed 566 sources too close to boundary or off image\n",
      "Matching catalog to image: 319 / 319 :: Useful sources 249 / 319 "
     ]
    },
    {
     "name": "stderr",
     "output_type": "stream",
     "text": [
      "\n",
      "Median offset: 2.7 [ pixels ] / 0.9 [ arcsec ]\n",
      "Residual table updated: 1 / 10 \n",
      "\tSNR: 806 :: FWHM fitted 7.150\n",
      "Residual table updated: 2 / 10 \n",
      "\tSNR: 735 :: FWHM fitted 6.673\n",
      "Residual table updated: 3 / 10 \n",
      "\tSNR: 729 :: FWHM fitted 6.845\n"
     ]
    },
    {
     "name": "stdout",
     "output_type": "stream",
     "text": [
      "  .. done\n",
      "\n",
      "Broken cutouts: 3\n",
      "Not in correct location: 0\n",
      "Not detected: 61\n",
      "Saturated: 6\n",
      "Error: 0\n",
      "\n",
      "\n",
      "+-------------------------------------------+\n",
      "|Building PSF model using stars in the field|\n",
      "+-------------------------------------------+\n",
      "\n"
     ]
    },
    {
     "name": "stderr",
     "output_type": "stream",
     "text": [
      "Residual table updated: 4 / 10 \n",
      "\tSNR: 657 :: FWHM fitted 6.576\n",
      "Residual table updated: 5 / 10 \n",
      "\tSNR: 651 :: FWHM fitted 6.445\n",
      "Residual table updated: 6 / 10 \n",
      "\tSNR: 623 :: FWHM fitted 6.259\n",
      "Found faint soures near PSF star at 5 sigma - skipping \n",
      "Residual table updated: 7 / 10 \n",
      "\tSNR: 593 :: FWHM fitted 7.008\n",
      "Residual table updated: 8 / 10 \n",
      "\tSNR: 546 :: FWHM fitted 6.356\n",
      "Residual table updated: 9 / 10 \n",
      "\tSNR: 537 :: FWHM fitted 6.671\n",
      "Residual table updated: 10 / 10 \n",
      "\tSNR: 517 :: FWHM fitted 6.376\n",
      "\n",
      "PSF built using 10 sources\n",
      "\n",
      "Unity PSF: 51.6 [counts] \n",
      "Unity Residual table: 4.3 [counts] \n",
      "Using Aperture Photometry on sequence Stars \n",
      "No PSF sources fitted\n",
      "WARNING: Input data contains invalid values (NaNs or infs), which were automatically clipped. [astropy.stats.sigma_clipping]\n",
      "Input data contains invalid values (NaNs or infs), which were automatically clipped.\n",
      "\n",
      "Mean r-band zeropoint: 25.936 +/- 0.037 \n",
      "\n"
     ]
    },
    {
     "name": "stdout",
     "output_type": "stream",
     "text": [
      "PSF model saved as: /Users/terwelj/Documents/VirtualMachine/Observing_ING/autophot/test/at2022acuo_REDUCED/r1645961redCCD4/PSF_model_r1645961redCCD4_APT.fits\n",
      "\n",
      "+-------------------+\n",
      "|Measuring PSF model|\n",
      "+-------------------+\n",
      "\n",
      "\n",
      "+-----------------------+\n",
      "|Finding Zeropoint value|\n",
      "+-----------------------+\n",
      "\n",
      "Checking for suitable catalog sources\n",
      "Removed 191 sources lower than SNR of 25.0\n"
     ]
    },
    {
     "name": "stderr",
     "output_type": "stream",
     "text": [
      "/opt/anaconda3/envs/autophot/lib/python3.7/site-packages/matplotlib/backends/backend_pdf.py:1649: DeprecationWarning: NONE is deprecated and will be removed in Pillow 10 (2023-07-01). Use Resampling.NEAREST or Dither.NONE instead.\n",
      "  img = img.convert(mode='P', dither=Image.NONE,\n",
      "/opt/anaconda3/envs/autophot/lib/python3.7/site-packages/matplotlib/backends/backend_pdf.py:1650: DeprecationWarning: ADAPTIVE is deprecated and will be removed in Pillow 10 (2023-07-01). Use Palette.ADAPTIVE instead.\n",
      "  palette=Image.ADAPTIVE, colors=num_colors)\n",
      "Approx. catalog limiting magnitude: 19.313 [ mag ]\n",
      "Target photometry on original image\n"
     ]
    },
    {
     "name": "stdout",
     "output_type": "stream",
     "text": [
      "\n",
      "+-----------------------------------+\n",
      "|Doing Aperture Photometry on Target|\n",
      "+-----------------------------------+\n",
      "\n"
     ]
    },
    {
     "name": "stderr",
     "output_type": "stream",
     "text": [
      "/opt/anaconda3/envs/autophot/lib/python3.7/site-packages/matplotlib/backends/backend_pdf.py:1649: DeprecationWarning: NONE is deprecated and will be removed in Pillow 10 (2023-07-01). Use Resampling.NEAREST or Dither.NONE instead.\n",
      "  img = img.convert(mode='P', dither=Image.NONE,\n",
      "/opt/anaconda3/envs/autophot/lib/python3.7/site-packages/matplotlib/backends/backend_pdf.py:1650: DeprecationWarning: ADAPTIVE is deprecated and will be removed in Pillow 10 (2023-07-01). Use Palette.ADAPTIVE instead.\n",
      "  palette=Image.ADAPTIVE, colors=num_colors)\n",
      "Approximate Target SNR: 15.3\n",
      "SNR = 15 - skipping limiting magnitude\n",
      "Pixel Offset: 0.000\n",
      "Limiting Magnitude: skipped\n",
      "Target Detection probability: 91 %\n",
      "Target flux: 340.392 +/- 0.000 [counts/s]\n",
      "Noise: 688.643 [counts/s]\n",
      "Target SNR: 15.269 +/- 0.069\n",
      "Instrumental Magnitude: -6.330 +/- 0.000\n",
      "Zeropoint: 25.936 +/- 0.037\n",
      "Target Magnitude: 19.570 +/- 0.079 \n",
      "\n",
      "*** Transient well detected ***\n",
      "\n",
      "Time Taken [ 9729 ]: 32s\n",
      "Sucess: r1645961redCCD4_APT.fits :: PID 9729 \n",
      "\n",
      "File: r1645962redCCD4_APT.fits - PID: 9729\n",
      "Start Time: 2022-12-16 11:55:53.265048\n",
      "Filter keyoward used: WFFBAND\n",
      "Telescope: INT\n",
      "Filter: g\n",
      "MJD: 59926.956\n",
      "Date of Observation : 2022-12-13\n",
      "Read Noise: 5.8 [e^- /pixel]\n",
      "GAIN: 2.9 [e^- /count]\n",
      "Exposure time: 20 [s] \n",
      "Detecting/removing cosmic ray sources\n"
     ]
    },
    {
     "name": "stdout",
     "output_type": "stream",
     "text": [
      "\n",
      "+-----------+\n",
      "|File: 3 / 3|\n",
      "+-----------+\n",
      "\n",
      "Starting Astroscrappy ... "
     ]
    },
    {
     "name": "stderr",
     "output_type": "stream",
     "text": [
      "Contaminated pixels with Cosmic rays removed: 29755\n",
      "Cosmic rays removed - image updated\n",
      "WARNING: FITSFixedWarning: RADECSYS= 'FK5 ' / mean place new (after the 1976 IAU) system \n",
      "the RADECSYS keyword is deprecated, use RADESYSa. [astropy.wcs.wcs]\n",
      "FITSFixedWarning: RADECSYS= 'FK5 ' / mean place new (after the 1976 IAU) system \n",
      "the RADECSYS keyword is deprecated, use RADESYSa.\n",
      "WARNING: FITSFixedWarning: PROJP1 = 1.00000000 / Projection coefficient for primary WCS \n",
      "the PROJPn keyword is deprecated, use PVi_ma. [astropy.wcs.wcs]\n",
      "FITSFixedWarning: PROJP1 = 1.00000000 / Projection coefficient for primary WCS \n",
      "the PROJPn keyword is deprecated, use PVi_ma.\n",
      "WARNING: FITSFixedWarning: PROJP3 = 0.00000000 / Projection coefficient for primary WCS \n",
      "the PROJPn keyword is deprecated, use PVi_ma. [astropy.wcs.wcs]\n",
      "FITSFixedWarning: PROJP3 = 0.00000000 / Projection coefficient for primary WCS \n",
      "the PROJPn keyword is deprecated, use PVi_ma.\n",
      "WARNING: FITSFixedWarning: 'datfix' made the change 'Invalid parameter values: MJD-OBS and DATE-OBS are inconsistent.\n",
      "Changed DATE-OBS from '2022-12-13        ' to '2022-12-13T00:00:00.0''. [astropy.wcs.wcs]\n",
      "FITSFixedWarning: 'datfix' made the change 'Invalid parameter values: MJD-OBS and DATE-OBS are inconsistent.\n",
      "Changed DATE-OBS from '2022-12-13        ' to '2022-12-13T00:00:00.0''.\n",
      "\n",
      "Performing Astrometry.net\n",
      "Removing any pre-existing WCS keys \n",
      "No WCS values found - attempting to solve field\n",
      "ASTROMETRY started...\n",
      "ASTROMETRY finished: 2s\n",
      "Updating WCS keys with new values\n",
      "WCS saved to new file\n",
      "\n",
      "Searching for FWHM\n",
      "Using Gaussian Profile for fitting\n"
     ]
    },
    {
     "name": "stdout",
     "output_type": "stream",
     "text": [
      "\n",
      "+-------------------------------+\n",
      "|Finding Full Width Half Maximum|\n",
      "+-------------------------------+\n",
      "\n"
     ]
    },
    {
     "name": "stderr",
     "output_type": "stream",
     "text": [
      "\n",
      "Number of sources before cleaning [ 25.0 sigma ]: 25 \n",
      "Updating search FWHM value\n"
     ]
    },
    {
     "name": "stdout",
     "output_type": "stream",
     "text": [
      "Updated guess for FWHM: 6.4 pixels \n"
     ]
    },
    {
     "name": "stderr",
     "output_type": "stream",
     "text": [
      "\n",
      "Number of sources before cleaning [ 25.0 sigma ]: 118 \n",
      "Removed 4 sources near boundary\n",
      "Removed 4 crowded sources\n"
     ]
    },
    {
     "name": "stdout",
     "output_type": "stream",
     "text": [
      "Fitting source for FWHM: 110/110 "
     ]
    },
    {
     "name": "stderr",
     "output_type": "stream",
     "text": [
      "Removed 1 saturated sources\n",
      "WARNING: Input data contains invalid values (NaNs or infs), which were automatically clipped. [astropy.stats.sigma_clipping]\n",
      "Input data contains invalid values (NaNs or infs), which were automatically clipped.\n",
      "Removed 2 FWHM outliers\n",
      "WARNING: Input data contains invalid values (NaNs or infs), which were automatically clipped. [astropy.stats.sigma_clipping]\n",
      "Input data contains invalid values (NaNs or infs), which were automatically clipped.\n",
      "Removed 20 median outliers\n",
      "Useable sources found [ 25 sigma ]: 110\n",
      "Removes 2 sources within minimum seperation [ 27 pixel ]\n",
      "\n",
      "FWHM: 5.620 +/- 0.437 [ pixels ]\n",
      "\n",
      "Seeing: 1.862 [ arcsec ]\n",
      "Aperture size: 9.6 pixels\n",
      "Aperture correction: -0.032 +/- 0.012 [ mag ]\n",
      "WARNING: FITSFixedWarning: 'datfix' made the change 'Invalid parameter values: MJD-OBS and DATE-OBS are inconsistent.\n",
      "Changed DATE-OBS from '2022-12-13        ' to '2022-12-13T00:00:00.0''. [astropy.wcs.wcs]\n",
      "FITSFixedWarning: 'datfix' made the change 'Invalid parameter values: MJD-OBS and DATE-OBS are inconsistent.\n",
      "Changed DATE-OBS from '2022-12-13        ' to '2022-12-13T00:00:00.0''.\n",
      "Catalog found for target_ra_351_dec_21\n",
      "Catalog: PAN_STARRS \n",
      "File: target_ra_351_dec_21_r_0.25\n",
      "Catalog length: 7636\n",
      "Removed 2270 sources fainter than cutoff [20 mag]\n",
      "Using Gaussian Profile for fitting\n",
      "Catalog Length: 208\n"
     ]
    },
    {
     "name": "stdout",
     "output_type": "stream",
     "text": [
      "\n",
      "+----------------------------------------------+\n",
      "|Searching for catalog for target_ra_351_dec_21|\n",
      "+----------------------------------------------+\n",
      "\n",
      "\n",
      "+---------------------------------+\n",
      "|Matching catalog sources to image|\n",
      "+---------------------------------+\n",
      "\n",
      "Removed 2 sources too close to target\n",
      "Removed 413 sources too close to boundary or off image\n",
      "Matching catalog to image: 197 / 208 :: Useful sources 173 / 208 "
     ]
    },
    {
     "name": "stderr",
     "output_type": "stream",
     "text": [
      "\n",
      "Median offset: 3.1 [ pixels ] / 1.0 [ arcsec ]\n"
     ]
    },
    {
     "name": "stdout",
     "output_type": "stream",
     "text": [
      "\r",
      "Matching catalog to image: 198 / 208 :: Useful sources 174 / 208 \r",
      "Matching catalog to image: 199 / 208 :: Useful sources 174 / 208 \r",
      "Matching catalog to image: 200 / 208 :: Useful sources 174 / 208 \r",
      "Matching catalog to image: 201 / 208 :: Useful sources 175 / 208 \r",
      "Matching catalog to image: 202 / 208 :: Useful sources 175 / 208 \r",
      "Matching catalog to image: 203 / 208 :: Useful sources 175 / 208 \r",
      "Matching catalog to image: 204 / 208 :: Useful sources 176 / 208 \r",
      "Matching catalog to image: 205 / 208 :: Useful sources 177 / 208 \r",
      "Matching catalog to image: 206 / 208 :: Useful sources 178 / 208 \r",
      "Matching catalog to image: 207 / 208 :: Useful sources 179 / 208 \r",
      "Matching catalog to image: 208 / 208 :: Useful sources 179 / 208   .. done\n",
      "\n",
      "Broken cutouts: 0\n",
      "Not in correct location: 0\n",
      "Not detected: 27\n",
      "Saturated: 2\n",
      "Error: 0\n",
      "\n",
      "\n",
      "+-------------------------------------------+\n",
      "|Building PSF model using stars in the field|\n",
      "+-------------------------------------------+\n",
      "\n"
     ]
    },
    {
     "name": "stderr",
     "output_type": "stream",
     "text": [
      "Residual table updated: 1 / 10 \n",
      "\tSNR: 748 :: FWHM fitted 6.141\n",
      "Residual table updated: 2 / 10 \n",
      "\tSNR: 615 :: FWHM fitted 6.000\n",
      "Residual table updated: 3 / 10 \n",
      "\tSNR: 594 :: FWHM fitted 5.623\n",
      "Residual table updated: 4 / 10 \n",
      "\tSNR: 544 :: FWHM fitted 5.598\n",
      "Residual table updated: 5 / 10 \n",
      "\tSNR: 510 :: FWHM fitted 5.754\n",
      "Residual table updated: 6 / 10 \n",
      "\tSNR: 487 :: FWHM fitted 5.451\n",
      "Residual table updated: 7 / 10 \n",
      "\tSNR: 478 :: FWHM fitted 6.103\n",
      "Residual table updated: 8 / 10 \n",
      "\tSNR: 460 :: FWHM fitted 5.804\n",
      "Residual table updated: 9 / 10 \n",
      "\tSNR: 452 :: FWHM fitted 5.626\n",
      "Residual table updated: 10 / 10 \n",
      "\tSNR: 424 :: FWHM fitted 5.491\n",
      "\n",
      "PSF built using 10 sources\n",
      "\n",
      "Unity PSF: 38.0 [counts] \n",
      "Unity Residual table: 2.9 [counts] \n",
      "Using Aperture Photometry on sequence Stars \n",
      "No PSF sources fitted\n",
      "WARNING: Input data contains invalid values (NaNs or infs), which were automatically clipped. [astropy.stats.sigma_clipping]\n",
      "Input data contains invalid values (NaNs or infs), which were automatically clipped.\n",
      "\n",
      "Mean g-band zeropoint: 26.059 +/- 0.029 \n",
      "\n"
     ]
    },
    {
     "name": "stdout",
     "output_type": "stream",
     "text": [
      "PSF model saved as: /Users/terwelj/Documents/VirtualMachine/Observing_ING/autophot/test/at2022acuo_REDUCED/r1645962redCCD4/PSF_model_r1645962redCCD4_APT.fits\n",
      "\n",
      "+-------------------+\n",
      "|Measuring PSF model|\n",
      "+-------------------+\n",
      "\n",
      "\n",
      "+-----------------------+\n",
      "|Finding Zeropoint value|\n",
      "+-----------------------+\n",
      "\n",
      "Checking for suitable catalog sources\n",
      "Removed 167 sources lower than SNR of 25.0\n"
     ]
    },
    {
     "name": "stderr",
     "output_type": "stream",
     "text": [
      "/opt/anaconda3/envs/autophot/lib/python3.7/site-packages/matplotlib/backends/backend_pdf.py:1649: DeprecationWarning: NONE is deprecated and will be removed in Pillow 10 (2023-07-01). Use Resampling.NEAREST or Dither.NONE instead.\n",
      "  img = img.convert(mode='P', dither=Image.NONE,\n",
      "/opt/anaconda3/envs/autophot/lib/python3.7/site-packages/matplotlib/backends/backend_pdf.py:1650: DeprecationWarning: ADAPTIVE is deprecated and will be removed in Pillow 10 (2023-07-01). Use Palette.ADAPTIVE instead.\n",
      "  palette=Image.ADAPTIVE, colors=num_colors)\n",
      "Approx. catalog limiting magnitude: 19.812 [ mag ]\n",
      "Target photometry on original image\n"
     ]
    },
    {
     "name": "stdout",
     "output_type": "stream",
     "text": [
      "\n",
      "+-----------------------------------+\n",
      "|Doing Aperture Photometry on Target|\n",
      "+-----------------------------------+\n",
      "\n"
     ]
    },
    {
     "name": "stderr",
     "output_type": "stream",
     "text": [
      "/opt/anaconda3/envs/autophot/lib/python3.7/site-packages/matplotlib/backends/backend_pdf.py:1649: DeprecationWarning: NONE is deprecated and will be removed in Pillow 10 (2023-07-01). Use Resampling.NEAREST or Dither.NONE instead.\n",
      "  img = img.convert(mode='P', dither=Image.NONE,\n",
      "/opt/anaconda3/envs/autophot/lib/python3.7/site-packages/matplotlib/backends/backend_pdf.py:1650: DeprecationWarning: ADAPTIVE is deprecated and will be removed in Pillow 10 (2023-07-01). Use Palette.ADAPTIVE instead.\n",
      "  palette=Image.ADAPTIVE, colors=num_colors)\n",
      "Approximate Target SNR: 12.3\n",
      "SNR = 12 - skipping limiting magnitude\n",
      "Pixel Offset: 0.000\n",
      "Limiting Magnitude: skipped\n",
      "Target Detection probability: 97 %\n",
      "Target flux: 179.702 +/- 0.000 [counts/s]\n",
      "Noise: 393.149 [counts/s]\n",
      "Target SNR: 12.317 +/- 0.085\n",
      "Instrumental Magnitude: -5.636 +/- 0.000\n",
      "Zeropoint: 26.059 +/- 0.029\n",
      "Target Magnitude: 20.390 +/- 0.090 \n",
      "\n",
      "*** Transient well detected ***\n",
      "\n",
      "Time Taken [ 9729 ]: 31s\n",
      "Sucess: r1645962redCCD4_APT.fits :: PID 9729 \n",
      "\n",
      "\n",
      "User instrument database: /Users/terwelj/Documents/VirtualMachine/Observing_ING/autophot/telescope.yml\n",
      "\n",
      "Number of files: 3\n",
      "\n",
      "1 telescope(s) detected - checking header keywords\n",
      "\n"
     ]
    },
    {
     "name": "stdout",
     "output_type": "stream",
     "text": [
      "\n",
      "---\n",
      "\n",
      "Files that failed : []\n",
      "\n",
      "DONE\n",
      "\n",
      "Done - Time Taken: 121.3\n",
      "\n",
      "        _       _       ___ _  _    _____\n",
      "       /_\\ _  _| |_ ___| _ \\ || |__|_   _|\n",
      "      / _ \\ || |  _/ _ \\  _/ __ / _ \\| |\n",
      "     /_/ \\_\\_,_|\\__\\___/_| |_||_\\___/|_|\n",
      "    \n",
      "     ---------------------------------------\n",
      "        Automated Photometry of Transients\n",
      "        S. J. Brennan et al. 2021 \n",
      "        Please provide feedback/bugs to:\n",
      "        Email: sean.brennan2@ucdconnect.ie\n",
      "    ---------------------------------------\n",
      "Directory of fits file: /Users/terwelj/Documents/VirtualMachine/Observing_ING/autophot/test/at2022acsd\n",
      "Found Telescopes:\n",
      "\n",
      " - INT\n",
      "\n",
      "-> Telescope check complete\n",
      "\n",
      "Checking Filter keywords and database\n",
      "\n",
      "-> Filter check complete\n",
      "\n",
      "Checking Filter information for each image\n"
     ]
    },
    {
     "name": "stderr",
     "output_type": "stream",
     "text": [
      "File: r1645965redCCD4_APT.fits - PID: 9729\n",
      "Start Time: 2022-12-16 11:56:24.797246\n",
      "Filter keyoward used: WFFBAND\n",
      "Telescope: INT\n",
      "Filter: i\n",
      "MJD: 59926.960\n",
      "Date of Observation : 2022-12-13\n",
      "Read Noise: 5.8 [e^- /pixel]\n",
      "GAIN: 2.9 [e^- /count]\n",
      "Exposure time: 20 [s] \n",
      "Detecting/removing cosmic ray sources\n"
     ]
    },
    {
     "name": "stdout",
     "output_type": "stream",
     "text": [
      "\n",
      "Files removed - Wrong Image Type: 0\n",
      "\n",
      "Files removed - No/Wrong filter(s): 0\n",
      "Filters not included: []\n",
      "\n",
      "\n",
      "Files removed: 0\n",
      "\n",
      "+-----------+\n",
      "|File: 1 / 3|\n",
      "+-----------+\n",
      "\n",
      "Starting Astroscrappy ... "
     ]
    },
    {
     "name": "stderr",
     "output_type": "stream",
     "text": [
      "Contaminated pixels with Cosmic rays removed: 27368\n",
      "Cosmic rays removed - image updated\n",
      "WARNING: FITSFixedWarning: RADECSYS= 'FK5 ' / mean place new (after the 1976 IAU) system \n",
      "the RADECSYS keyword is deprecated, use RADESYSa. [astropy.wcs.wcs]\n",
      "FITSFixedWarning: RADECSYS= 'FK5 ' / mean place new (after the 1976 IAU) system \n",
      "the RADECSYS keyword is deprecated, use RADESYSa.\n",
      "WARNING: FITSFixedWarning: PROJP1 = 1.00000000 / Projection coefficient for primary WCS \n",
      "the PROJPn keyword is deprecated, use PVi_ma. [astropy.wcs.wcs]\n",
      "FITSFixedWarning: PROJP1 = 1.00000000 / Projection coefficient for primary WCS \n",
      "the PROJPn keyword is deprecated, use PVi_ma.\n",
      "WARNING: FITSFixedWarning: PROJP3 = 0.00000000 / Projection coefficient for primary WCS \n",
      "the PROJPn keyword is deprecated, use PVi_ma. [astropy.wcs.wcs]\n",
      "FITSFixedWarning: PROJP3 = 0.00000000 / Projection coefficient for primary WCS \n",
      "the PROJPn keyword is deprecated, use PVi_ma.\n",
      "WARNING: FITSFixedWarning: 'datfix' made the change 'Invalid parameter values: MJD-OBS and DATE-OBS are inconsistent.\n",
      "Changed DATE-OBS from '2022-12-13        ' to '2022-12-13T00:00:00.0''. [astropy.wcs.wcs]\n",
      "FITSFixedWarning: 'datfix' made the change 'Invalid parameter values: MJD-OBS and DATE-OBS are inconsistent.\n",
      "Changed DATE-OBS from '2022-12-13        ' to '2022-12-13T00:00:00.0''.\n",
      "\n",
      "Performing Astrometry.net\n",
      "Removing any pre-existing WCS keys \n",
      "No WCS values found - attempting to solve field\n",
      "ASTROMETRY started...\n",
      "ASTROMETRY finished: 3s\n",
      "Updating WCS keys with new values\n",
      "WCS saved to new file\n",
      "\n",
      "Searching for FWHM\n",
      "Using Gaussian Profile for fitting\n"
     ]
    },
    {
     "name": "stdout",
     "output_type": "stream",
     "text": [
      "\n",
      "+-------------------------------+\n",
      "|Finding Full Width Half Maximum|\n",
      "+-------------------------------+\n",
      "\n"
     ]
    },
    {
     "name": "stderr",
     "output_type": "stream",
     "text": [
      "\n",
      "Number of sources before cleaning [ 25.0 sigma ]: 25 \n",
      "Updating search FWHM value\n"
     ]
    },
    {
     "name": "stdout",
     "output_type": "stream",
     "text": [
      "operands could not be broadcast together with shapes (2500,) (2450,) \n",
      "zero-size array to reduction operation fmax which has no identity\n",
      "Updated guess for FWHM: 5.9 pixels \n"
     ]
    },
    {
     "name": "stderr",
     "output_type": "stream",
     "text": [
      "\n",
      "Number of sources before cleaning [ 25.0 sigma ]: 113 \n",
      "Removed 6 sources near boundary\n",
      "Removed 4 crowded sources\n"
     ]
    },
    {
     "name": "stdout",
     "output_type": "stream",
     "text": [
      "Fitting source for FWHM: 103/103 "
     ]
    },
    {
     "name": "stderr",
     "output_type": "stream",
     "text": [
      "Removed 8 saturated sources\n",
      "WARNING: Input data contains invalid values (NaNs or infs), which were automatically clipped. [astropy.stats.sigma_clipping]\n",
      "Input data contains invalid values (NaNs or infs), which were automatically clipped.\n",
      "Removed 10 FWHM outliers\n",
      "WARNING: Input data contains invalid values (NaNs or infs), which were automatically clipped. [astropy.stats.sigma_clipping]\n",
      "Input data contains invalid values (NaNs or infs), which were automatically clipped.\n",
      "Removed 22 median outliers\n",
      "Useable sources found [ 25 sigma ]: 103\n",
      "Removes 0 sources within minimum seperation [ 24 pixel ]\n",
      "\n",
      "FWHM: 4.870 +/- 0.322 [ pixels ]\n",
      "\n",
      "Seeing: 1.616 [ arcsec ]\n",
      "Aperture size: 8.3 pixels\n",
      "Aperture correction: -0.046 +/- 0.024 [ mag ]\n",
      "WARNING: FITSFixedWarning: 'datfix' made the change 'Invalid parameter values: MJD-OBS and DATE-OBS are inconsistent.\n",
      "Changed DATE-OBS from '2022-12-13        ' to '2022-12-13T00:00:00.0''. [astropy.wcs.wcs]\n",
      "FITSFixedWarning: 'datfix' made the change 'Invalid parameter values: MJD-OBS and DATE-OBS are inconsistent.\n",
      "Changed DATE-OBS from '2022-12-13        ' to '2022-12-13T00:00:00.0''.\n",
      "Searching for new catalog [pan_starrs] for target_ra_358_dec_15 \n",
      "Downloading sequence stars from pan_starrs\n"
     ]
    },
    {
     "name": "stdout",
     "output_type": "stream",
     "text": [
      "\n",
      "+----------------------------------------------+\n",
      "|Searching for catalog for target_ra_358_dec_15|\n",
      "+----------------------------------------------+\n",
      "\n"
     ]
    },
    {
     "name": "stderr",
     "output_type": "stream",
     "text": [
      "Catalog length: 7398\n",
      "Removed 4086 sources fainter than cutoff [20 mag]\n",
      "Using Gaussian Profile for fitting\n",
      "Catalog Length: 395\n"
     ]
    },
    {
     "name": "stdout",
     "output_type": "stream",
     "text": [
      "\n",
      "+---------------------------------+\n",
      "|Matching catalog sources to image|\n",
      "+---------------------------------+\n",
      "\n",
      "Removed 2 sources too close to target\n",
      "Removed 673 sources too close to boundary or off image\n",
      "Matching catalog to image: 382 / 395 :: Useful sources 232 / 395 "
     ]
    },
    {
     "name": "stderr",
     "output_type": "stream",
     "text": [
      "\n",
      "Median offset: 1.4 [ pixels ] / 0.5 [ arcsec ]\n",
      "Residual table updated: 1 / 10 \n",
      "\tSNR: 643 :: FWHM fitted 5.051\n",
      "Residual table updated: 2 / 10 \n",
      "\tSNR: 580 :: FWHM fitted 5.089\n"
     ]
    },
    {
     "name": "stdout",
     "output_type": "stream",
     "text": [
      "\r",
      "Matching catalog to image: 383 / 395 :: Useful sources 232 / 395 \r",
      "Matching catalog to image: 384 / 395 :: Useful sources 232 / 395 \r",
      "Matching catalog to image: 385 / 395 :: Useful sources 232 / 395 \r",
      "Matching catalog to image: 386 / 395 :: Useful sources 232 / 395 \r",
      "Matching catalog to image: 387 / 395 :: Useful sources 232 / 395 \r",
      "Matching catalog to image: 388 / 395 :: Useful sources 232 / 395 \r",
      "Matching catalog to image: 389 / 395 :: Useful sources 232 / 395 \r",
      "Matching catalog to image: 390 / 395 :: Useful sources 233 / 395 \r",
      "Matching catalog to image: 391 / 395 :: Useful sources 233 / 395 \r",
      "Matching catalog to image: 392 / 395 :: Useful sources 233 / 395 \r",
      "Matching catalog to image: 393 / 395 :: Useful sources 233 / 395 \r",
      "Matching catalog to image: 394 / 395 :: Useful sources 233 / 395 \r",
      "Matching catalog to image: 395 / 395 :: Useful sources 233 / 395   .. done\n",
      "\n",
      "Broken cutouts: 0\n",
      "Not in correct location: 0\n",
      "Not detected: 136\n",
      "Saturated: 27\n",
      "Error: 0\n",
      "\n",
      "\n",
      "+-------------------------------------------+\n",
      "|Building PSF model using stars in the field|\n",
      "+-------------------------------------------+\n",
      "\n"
     ]
    },
    {
     "name": "stderr",
     "output_type": "stream",
     "text": [
      "Residual table updated: 3 / 10 \n",
      "\tSNR: 513 :: FWHM fitted 4.602\n",
      "Residual table updated: 4 / 10 \n",
      "\tSNR: 496 :: FWHM fitted 5.107\n",
      "Residual table updated: 5 / 10 \n",
      "\tSNR: 483 :: FWHM fitted 5.213\n",
      "Residual table updated: 6 / 10 \n",
      "\tSNR: 468 :: FWHM fitted 5.123\n",
      "Residual table updated: 7 / 10 \n",
      "\tSNR: 436 :: FWHM fitted 4.686\n",
      "Residual table updated: 8 / 10 \n",
      "\tSNR: 415 :: FWHM fitted 4.648\n",
      "Residual table updated: 9 / 10 \n",
      "\tSNR: 401 :: FWHM fitted 4.732\n",
      "Residual table updated: 10 / 10 \n",
      "\tSNR: 396 :: FWHM fitted 4.603\n",
      "\n",
      "PSF built using 10 sources\n",
      "\n",
      "Unity PSF: 28.9 [counts] \n",
      "Unity Residual table: 2.4 [counts] \n",
      "Using Aperture Photometry on sequence Stars \n",
      "No PSF sources fitted\n",
      "WARNING: Input data contains invalid values (NaNs or infs), which were automatically clipped. [astropy.stats.sigma_clipping]\n",
      "Input data contains invalid values (NaNs or infs), which were automatically clipped.\n",
      "\n",
      "Mean i-band zeropoint: 25.605 +/- 0.041 \n",
      "\n"
     ]
    },
    {
     "name": "stdout",
     "output_type": "stream",
     "text": [
      "PSF model saved as: /Users/terwelj/Documents/VirtualMachine/Observing_ING/autophot/test/at2022acsd_REDUCED/r1645965redCCD4/PSF_model_r1645965redCCD4_APT.fits\n",
      "\n",
      "+-------------------+\n",
      "|Measuring PSF model|\n",
      "+-------------------+\n",
      "\n",
      "\n",
      "+-----------------------+\n",
      "|Finding Zeropoint value|\n",
      "+-----------------------+\n",
      "\n",
      "Checking for suitable catalog sources\n",
      "Removed 173 sources lower than SNR of 25.0\n"
     ]
    },
    {
     "name": "stderr",
     "output_type": "stream",
     "text": [
      "/opt/anaconda3/envs/autophot/lib/python3.7/site-packages/matplotlib/backends/backend_pdf.py:1649: DeprecationWarning: NONE is deprecated and will be removed in Pillow 10 (2023-07-01). Use Resampling.NEAREST or Dither.NONE instead.\n",
      "  img = img.convert(mode='P', dither=Image.NONE,\n",
      "/opt/anaconda3/envs/autophot/lib/python3.7/site-packages/matplotlib/backends/backend_pdf.py:1650: DeprecationWarning: ADAPTIVE is deprecated and will be removed in Pillow 10 (2023-07-01). Use Palette.ADAPTIVE instead.\n",
      "  palette=Image.ADAPTIVE, colors=num_colors)\n",
      "Approx. catalog limiting magnitude: 19.002 [ mag ]\n",
      "Target photometry on original image\n"
     ]
    },
    {
     "name": "stdout",
     "output_type": "stream",
     "text": [
      "\n",
      "+-----------------------------------+\n",
      "|Doing Aperture Photometry on Target|\n",
      "+-----------------------------------+\n",
      "\n"
     ]
    },
    {
     "name": "stderr",
     "output_type": "stream",
     "text": [
      "/opt/anaconda3/envs/autophot/lib/python3.7/site-packages/matplotlib/backends/backend_pdf.py:1649: DeprecationWarning: NONE is deprecated and will be removed in Pillow 10 (2023-07-01). Use Resampling.NEAREST or Dither.NONE instead.\n",
      "  img = img.convert(mode='P', dither=Image.NONE,\n",
      "/opt/anaconda3/envs/autophot/lib/python3.7/site-packages/matplotlib/backends/backend_pdf.py:1650: DeprecationWarning: ADAPTIVE is deprecated and will be removed in Pillow 10 (2023-07-01). Use Palette.ADAPTIVE instead.\n",
      "  palette=Image.ADAPTIVE, colors=num_colors)\n",
      "Approximate Target SNR: 16.3\n",
      "SNR = 16 - skipping limiting magnitude\n",
      "Pixel Offset: 0.000\n",
      "Limiting Magnitude: skipped\n",
      "Target Detection probability: 99 %\n",
      "Target flux: 327.158 +/- 0.000 [counts/s]\n",
      "Noise: 454.203 [counts/s]\n",
      "Target SNR: 16.300 +/- 0.065\n",
      "Instrumental Magnitude: -6.287 +/- 0.000\n",
      "Zeropoint: 25.605 +/- 0.041\n",
      "Target Magnitude: 19.272 +/- 0.080 \n",
      "\n",
      "*** Transient well detected ***\n",
      "\n",
      "Time Taken [ 9729 ]: 55s\n",
      "Sucess: r1645965redCCD4_APT.fits :: PID 9729 \n",
      "\n",
      "File: r1645963redCCD4_APT.fits - PID: 9729\n",
      "Start Time: 2022-12-16 11:57:20.468822\n",
      "Filter keyoward used: WFFBAND\n",
      "Telescope: INT\n",
      "Filter: g\n",
      "MJD: 59926.958\n",
      "Date of Observation : 2022-12-13\n",
      "Read Noise: 5.8 [e^- /pixel]\n",
      "GAIN: 2.9 [e^- /count]\n",
      "Exposure time: 20 [s] \n",
      "Detecting/removing cosmic ray sources\n"
     ]
    },
    {
     "name": "stdout",
     "output_type": "stream",
     "text": [
      "\n",
      "+-----------+\n",
      "|File: 2 / 3|\n",
      "+-----------+\n",
      "\n",
      "Starting Astroscrappy ... "
     ]
    },
    {
     "name": "stderr",
     "output_type": "stream",
     "text": [
      "Contaminated pixels with Cosmic rays removed: 30201\n",
      "Cosmic rays removed - image updated\n",
      "WARNING: FITSFixedWarning: RADECSYS= 'FK5 ' / mean place new (after the 1976 IAU) system \n",
      "the RADECSYS keyword is deprecated, use RADESYSa. [astropy.wcs.wcs]\n",
      "FITSFixedWarning: RADECSYS= 'FK5 ' / mean place new (after the 1976 IAU) system \n",
      "the RADECSYS keyword is deprecated, use RADESYSa.\n",
      "WARNING: FITSFixedWarning: PROJP1 = 1.00000000 / Projection coefficient for primary WCS \n",
      "the PROJPn keyword is deprecated, use PVi_ma. [astropy.wcs.wcs]\n",
      "FITSFixedWarning: PROJP1 = 1.00000000 / Projection coefficient for primary WCS \n",
      "the PROJPn keyword is deprecated, use PVi_ma.\n",
      "WARNING: FITSFixedWarning: PROJP3 = 0.00000000 / Projection coefficient for primary WCS \n",
      "the PROJPn keyword is deprecated, use PVi_ma. [astropy.wcs.wcs]\n",
      "FITSFixedWarning: PROJP3 = 0.00000000 / Projection coefficient for primary WCS \n",
      "the PROJPn keyword is deprecated, use PVi_ma.\n",
      "WARNING: FITSFixedWarning: 'datfix' made the change 'Invalid parameter values: MJD-OBS and DATE-OBS are inconsistent.\n",
      "Changed DATE-OBS from '2022-12-13        ' to '2022-12-13T00:00:00.0''. [astropy.wcs.wcs]\n",
      "FITSFixedWarning: 'datfix' made the change 'Invalid parameter values: MJD-OBS and DATE-OBS are inconsistent.\n",
      "Changed DATE-OBS from '2022-12-13        ' to '2022-12-13T00:00:00.0''.\n",
      "\n",
      "Performing Astrometry.net\n",
      "Removing any pre-existing WCS keys \n",
      "No WCS values found - attempting to solve field\n",
      "ASTROMETRY started...\n",
      "ASTROMETRY finished: 3s\n",
      "Updating WCS keys with new values\n",
      "WCS saved to new file\n",
      "\n",
      "Searching for FWHM\n",
      "Using Gaussian Profile for fitting\n"
     ]
    },
    {
     "name": "stdout",
     "output_type": "stream",
     "text": [
      "\n",
      "+-------------------------------+\n",
      "|Finding Full Width Half Maximum|\n",
      "+-------------------------------+\n",
      "\n"
     ]
    },
    {
     "name": "stderr",
     "output_type": "stream",
     "text": [
      "\n",
      "Number of sources before cleaning [ 25.0 sigma ]: 25 \n",
      "Updating search FWHM value\n"
     ]
    },
    {
     "name": "stdout",
     "output_type": "stream",
     "text": [
      "zero-size array to reduction operation fmax which has no identity\n",
      "operands could not be broadcast together with shapes (2500,) (2250,) \n",
      "operands could not be broadcast together with shapes (2500,) (2350,) \n",
      "Updated guess for FWHM: 7.3 pixels \n"
     ]
    },
    {
     "name": "stderr",
     "output_type": "stream",
     "text": [
      "\n",
      "Number of sources before cleaning [ 25.0 sigma ]: 96 \n",
      "Removed 5 sources near boundary\n",
      "Removed 2 crowded sources\n"
     ]
    },
    {
     "name": "stdout",
     "output_type": "stream",
     "text": [
      "Fitting source for FWHM: 89/89 "
     ]
    },
    {
     "name": "stderr",
     "output_type": "stream",
     "text": [
      "Removed 3 saturated sources\n",
      "WARNING: Input data contains invalid values (NaNs or infs), which were automatically clipped. [astropy.stats.sigma_clipping]\n",
      "Input data contains invalid values (NaNs or infs), which were automatically clipped.\n",
      "Removed 7 FWHM outliers\n",
      "WARNING: Input data contains invalid values (NaNs or infs), which were automatically clipped. [astropy.stats.sigma_clipping]\n",
      "Input data contains invalid values (NaNs or infs), which were automatically clipped.\n",
      "Removed 21 median outliers\n",
      "Useable sources found [ 25 sigma ]: 89\n",
      "Removes 2 sources within minimum seperation [ 30 pixel ]\n",
      "\n",
      "FWHM: 6.007 +/- 0.389 [ pixels ]\n",
      "\n",
      "Seeing: 1.994 [ arcsec ]\n",
      "Aperture size: 10.2 pixels\n",
      "Aperture correction: -0.043 +/- 0.022 [ mag ]\n",
      "WARNING: FITSFixedWarning: 'datfix' made the change 'Invalid parameter values: MJD-OBS and DATE-OBS are inconsistent.\n",
      "Changed DATE-OBS from '2022-12-13        ' to '2022-12-13T00:00:00.0''. [astropy.wcs.wcs]\n",
      "FITSFixedWarning: 'datfix' made the change 'Invalid parameter values: MJD-OBS and DATE-OBS are inconsistent.\n",
      "Changed DATE-OBS from '2022-12-13        ' to '2022-12-13T00:00:00.0''.\n",
      "Catalog found for target_ra_358_dec_15\n",
      "Catalog: PAN_STARRS \n",
      "File: target_ra_358_dec_15_r_0.25\n",
      "Catalog length: 7398\n",
      "Removed 2733 sources fainter than cutoff [20 mag]\n",
      "Using Gaussian Profile for fitting\n",
      "Catalog Length: 186\n"
     ]
    },
    {
     "name": "stdout",
     "output_type": "stream",
     "text": [
      "\n",
      "+----------------------------------------------+\n",
      "|Searching for catalog for target_ra_358_dec_15|\n",
      "+----------------------------------------------+\n",
      "\n",
      "\n",
      "+---------------------------------+\n",
      "|Matching catalog sources to image|\n",
      "+---------------------------------+\n",
      "\n",
      "Removed 2 sources too close to target\n",
      "Removed 505 sources too close to boundary or off image\n",
      "Matching catalog to image: 178 / 186 :: Useful sources 131 / 186 "
     ]
    },
    {
     "name": "stderr",
     "output_type": "stream",
     "text": [
      "\n",
      "Median offset: 1.5 [ pixels ] / 0.5 [ arcsec ]\n"
     ]
    },
    {
     "name": "stdout",
     "output_type": "stream",
     "text": [
      "\r",
      "Matching catalog to image: 179 / 186 :: Useful sources 132 / 186 \r",
      "Matching catalog to image: 180 / 186 :: Useful sources 133 / 186 \r",
      "Matching catalog to image: 181 / 186 :: Useful sources 134 / 186 \r",
      "Matching catalog to image: 182 / 186 :: Useful sources 135 / 186 \r",
      "Matching catalog to image: 183 / 186 :: Useful sources 136 / 186 \r",
      "Matching catalog to image: 184 / 186 :: Useful sources 137 / 186 \r",
      "Matching catalog to image: 185 / 186 :: Useful sources 138 / 186 \r",
      "Matching catalog to image: 186 / 186 :: Useful sources 138 / 186   .. done\n",
      "\n",
      "Broken cutouts: 0\n",
      "Not in correct location: 0\n",
      "Not detected: 35\n",
      "Saturated: 13\n",
      "Error: 0\n",
      "\n",
      "\n",
      "+-------------------------------------------+\n",
      "|Building PSF model using stars in the field|\n",
      "+-------------------------------------------+\n",
      "\n"
     ]
    },
    {
     "name": "stderr",
     "output_type": "stream",
     "text": [
      "Residual table updated: 1 / 10 \n",
      "\tSNR: 697 :: FWHM fitted 6.438\n",
      "Residual table updated: 2 / 10 \n",
      "\tSNR: 506 :: FWHM fitted 6.298\n",
      "Residual table updated: 3 / 10 \n",
      "\tSNR: 498 :: FWHM fitted 5.660\n",
      "Residual table updated: 4 / 10 \n",
      "\tSNR: 492 :: FWHM fitted 6.285\n",
      "Residual table updated: 5 / 10 \n",
      "\tSNR: 430 :: FWHM fitted 5.737\n",
      "Residual table updated: 6 / 10 \n",
      "\tSNR: 422 :: FWHM fitted 6.801\n",
      "Found faint soures near PSF star at 5 sigma - skipping \n",
      "Residual table updated: 7 / 10 \n",
      "\tSNR: 412 :: FWHM fitted 5.701\n",
      "Residual table updated: 8 / 10 \n",
      "\tSNR: 407 :: FWHM fitted 6.343\n",
      "Residual table updated: 9 / 10 \n",
      "\tSNR: 392 :: FWHM fitted 5.694\n",
      "Residual table updated: 10 / 10 \n",
      "\tSNR: 366 :: FWHM fitted 6.426\n",
      "\n",
      "PSF built using 10 sources\n",
      "\n",
      "Unity PSF: 45.3 [counts] \n",
      "Unity Residual table: 4.4 [counts] \n",
      "Using Aperture Photometry on sequence Stars \n",
      "No PSF sources fitted\n",
      "WARNING: Input data contains invalid values (NaNs or infs), which were automatically clipped. [astropy.stats.sigma_clipping]\n",
      "Input data contains invalid values (NaNs or infs), which were automatically clipped.\n",
      "\n",
      "Mean g-band zeropoint: 26.076 +/- 0.026 \n",
      "\n"
     ]
    },
    {
     "name": "stdout",
     "output_type": "stream",
     "text": [
      "PSF model saved as: /Users/terwelj/Documents/VirtualMachine/Observing_ING/autophot/test/at2022acsd_REDUCED/r1645963redCCD4/PSF_model_r1645963redCCD4_APT.fits\n",
      "\n",
      "+-------------------+\n",
      "|Measuring PSF model|\n",
      "+-------------------+\n",
      "\n",
      "\n",
      "+-----------------------+\n",
      "|Finding Zeropoint value|\n",
      "+-----------------------+\n",
      "\n",
      "Checking for suitable catalog sources\n",
      "Removed 121 sources lower than SNR of 25.0\n"
     ]
    },
    {
     "name": "stderr",
     "output_type": "stream",
     "text": [
      "/opt/anaconda3/envs/autophot/lib/python3.7/site-packages/matplotlib/backends/backend_pdf.py:1649: DeprecationWarning: NONE is deprecated and will be removed in Pillow 10 (2023-07-01). Use Resampling.NEAREST or Dither.NONE instead.\n",
      "  img = img.convert(mode='P', dither=Image.NONE,\n",
      "/opt/anaconda3/envs/autophot/lib/python3.7/site-packages/matplotlib/backends/backend_pdf.py:1650: DeprecationWarning: ADAPTIVE is deprecated and will be removed in Pillow 10 (2023-07-01). Use Palette.ADAPTIVE instead.\n",
      "  palette=Image.ADAPTIVE, colors=num_colors)\n",
      "Approx. catalog limiting magnitude: 19.77 [ mag ]\n",
      "Target photometry on original image\n"
     ]
    },
    {
     "name": "stdout",
     "output_type": "stream",
     "text": [
      "\n",
      "+-----------------------------------+\n",
      "|Doing Aperture Photometry on Target|\n",
      "+-----------------------------------+\n",
      "\n"
     ]
    },
    {
     "name": "stderr",
     "output_type": "stream",
     "text": [
      "/opt/anaconda3/envs/autophot/lib/python3.7/site-packages/matplotlib/backends/backend_pdf.py:1649: DeprecationWarning: NONE is deprecated and will be removed in Pillow 10 (2023-07-01). Use Resampling.NEAREST or Dither.NONE instead.\n",
      "  img = img.convert(mode='P', dither=Image.NONE,\n",
      "/opt/anaconda3/envs/autophot/lib/python3.7/site-packages/matplotlib/backends/backend_pdf.py:1650: DeprecationWarning: ADAPTIVE is deprecated and will be removed in Pillow 10 (2023-07-01). Use Palette.ADAPTIVE instead.\n",
      "  palette=Image.ADAPTIVE, colors=num_colors)\n",
      "Approximate Target SNR: 42.3\n",
      "SNR = 42 - skipping limiting magnitude\n",
      "Pixel Offset: 0.000\n",
      "Limiting Magnitude: skipped\n",
      "Target Detection probability: 100 %\n",
      "Target flux: 702.013 +/- 0.000 [counts/s]\n",
      "Noise: 422.278 [counts/s]\n",
      "Target SNR: 42.266 +/- 0.025\n",
      "Instrumental Magnitude: -7.116 +/- 0.000\n",
      "Zeropoint: 26.076 +/- 0.026\n",
      "Target Magnitude: 18.916 +/- 0.043 \n",
      "\n",
      "*** Transient well detected ***\n",
      "\n",
      "Time Taken [ 9729 ]: 36s\n",
      "Sucess: r1645963redCCD4_APT.fits :: PID 9729 \n",
      "\n",
      "File: r1645964redCCD4_APT.fits - PID: 9729\n",
      "Start Time: 2022-12-16 11:57:56.675642\n",
      "Filter keyoward used: WFFBAND\n",
      "Telescope: INT\n",
      "Filter: r\n",
      "MJD: 59926.959\n",
      "Date of Observation : 2022-12-13\n",
      "Read Noise: 5.8 [e^- /pixel]\n",
      "GAIN: 2.9 [e^- /count]\n",
      "Exposure time: 20 [s] \n",
      "Detecting/removing cosmic ray sources\n"
     ]
    },
    {
     "name": "stdout",
     "output_type": "stream",
     "text": [
      "\n",
      "+-----------+\n",
      "|File: 3 / 3|\n",
      "+-----------+\n",
      "\n",
      "Starting Astroscrappy ... "
     ]
    },
    {
     "name": "stderr",
     "output_type": "stream",
     "text": [
      "Contaminated pixels with Cosmic rays removed: 28152\n",
      "Cosmic rays removed - image updated\n",
      "WARNING: FITSFixedWarning: RADECSYS= 'FK5 ' / mean place new (after the 1976 IAU) system \n",
      "the RADECSYS keyword is deprecated, use RADESYSa. [astropy.wcs.wcs]\n",
      "FITSFixedWarning: RADECSYS= 'FK5 ' / mean place new (after the 1976 IAU) system \n",
      "the RADECSYS keyword is deprecated, use RADESYSa.\n",
      "WARNING: FITSFixedWarning: PROJP1 = 1.00000000 / Projection coefficient for primary WCS \n",
      "the PROJPn keyword is deprecated, use PVi_ma. [astropy.wcs.wcs]\n",
      "FITSFixedWarning: PROJP1 = 1.00000000 / Projection coefficient for primary WCS \n",
      "the PROJPn keyword is deprecated, use PVi_ma.\n",
      "WARNING: FITSFixedWarning: PROJP3 = 0.00000000 / Projection coefficient for primary WCS \n",
      "the PROJPn keyword is deprecated, use PVi_ma. [astropy.wcs.wcs]\n",
      "FITSFixedWarning: PROJP3 = 0.00000000 / Projection coefficient for primary WCS \n",
      "the PROJPn keyword is deprecated, use PVi_ma.\n",
      "WARNING: FITSFixedWarning: 'datfix' made the change 'Invalid parameter values: MJD-OBS and DATE-OBS are inconsistent.\n",
      "Changed DATE-OBS from '2022-12-13        ' to '2022-12-13T00:00:00.0''. [astropy.wcs.wcs]\n",
      "FITSFixedWarning: 'datfix' made the change 'Invalid parameter values: MJD-OBS and DATE-OBS are inconsistent.\n",
      "Changed DATE-OBS from '2022-12-13        ' to '2022-12-13T00:00:00.0''.\n",
      "\n",
      "Performing Astrometry.net\n",
      "Removing any pre-existing WCS keys \n",
      "No WCS values found - attempting to solve field\n",
      "ASTROMETRY started...\n",
      "ASTROMETRY finished: 3s\n",
      "Updating WCS keys with new values\n",
      "WCS saved to new file\n",
      "\n",
      "Searching for FWHM\n",
      "Using Gaussian Profile for fitting\n"
     ]
    },
    {
     "name": "stdout",
     "output_type": "stream",
     "text": [
      "\n",
      "+-------------------------------+\n",
      "|Finding Full Width Half Maximum|\n",
      "+-------------------------------+\n",
      "\n"
     ]
    },
    {
     "name": "stderr",
     "output_type": "stream",
     "text": [
      "\n",
      "Number of sources before cleaning [ 25.0 sigma ]: 25 \n",
      "Updating search FWHM value\n"
     ]
    },
    {
     "name": "stdout",
     "output_type": "stream",
     "text": [
      "operands could not be broadcast together with shapes (2500,) (2400,) \n",
      "Updated guess for FWHM: 6.2 pixels \n"
     ]
    },
    {
     "name": "stderr",
     "output_type": "stream",
     "text": [
      "\n",
      "Number of sources before cleaning [ 25.0 sigma ]: 99 \n",
      "Removed 9 sources near boundary\n",
      "Removed 4 crowded sources\n"
     ]
    },
    {
     "name": "stdout",
     "output_type": "stream",
     "text": [
      "Fitting source for FWHM: 86/86  "
     ]
    },
    {
     "name": "stderr",
     "output_type": "stream",
     "text": [
      "Removed 3 saturated sources\n",
      "WARNING: Input data contains invalid values (NaNs or infs), which were automatically clipped. [astropy.stats.sigma_clipping]\n",
      "Input data contains invalid values (NaNs or infs), which were automatically clipped.\n",
      "Removed 6 FWHM outliers\n",
      "WARNING: Input data contains invalid values (NaNs or infs), which were automatically clipped. [astropy.stats.sigma_clipping]\n",
      "Input data contains invalid values (NaNs or infs), which were automatically clipped.\n",
      "Removed 21 median outliers\n",
      "Useable sources found [ 25 sigma ]: 86\n",
      "Removes 0 sources within minimum seperation [ 29 pixel ]\n",
      "\n",
      "FWHM: 5.996 +/- 0.348 [ pixels ]\n",
      "\n",
      "Seeing: 1.990 [ arcsec ]\n",
      "Aperture size: 10.2 pixels\n",
      "Aperture correction: -0.036 +/- 0.015 [ mag ]\n",
      "WARNING: FITSFixedWarning: 'datfix' made the change 'Invalid parameter values: MJD-OBS and DATE-OBS are inconsistent.\n",
      "Changed DATE-OBS from '2022-12-13        ' to '2022-12-13T00:00:00.0''. [astropy.wcs.wcs]\n",
      "FITSFixedWarning: 'datfix' made the change 'Invalid parameter values: MJD-OBS and DATE-OBS are inconsistent.\n",
      "Changed DATE-OBS from '2022-12-13        ' to '2022-12-13T00:00:00.0''.\n",
      "Catalog found for target_ra_358_dec_15\n",
      "Catalog: PAN_STARRS \n",
      "File: target_ra_358_dec_15_r_0.25\n",
      "Catalog length: 7398\n",
      "Removed 3397 sources fainter than cutoff [20 mag]\n",
      "Using Gaussian Profile for fitting\n",
      "Catalog Length: 289\n"
     ]
    },
    {
     "name": "stdout",
     "output_type": "stream",
     "text": [
      "\n",
      "+----------------------------------------------+\n",
      "|Searching for catalog for target_ra_358_dec_15|\n",
      "+----------------------------------------------+\n",
      "\n",
      "\n",
      "+---------------------------------+\n",
      "|Matching catalog sources to image|\n",
      "+---------------------------------+\n",
      "\n",
      "Removed 2 sources too close to target\n",
      "Removed 500 sources too close to boundary or off image\n",
      "Matching catalog to image: 285 / 289 :: Useful sources 188 / 289 "
     ]
    },
    {
     "name": "stderr",
     "output_type": "stream",
     "text": [
      "\n",
      "Median offset: 1.6 [ pixels ] / 0.5 [ arcsec ]\n",
      "Residual table updated: 1 / 10 \n",
      "\tSNR: 569 :: FWHM fitted 5.703\n",
      "Residual table updated: 2 / 10 \n",
      "\tSNR: 565 :: FWHM fitted 6.217\n",
      "Residual table updated: 3 / 10 \n",
      "\tSNR: 556 :: FWHM fitted 6.130\n"
     ]
    },
    {
     "name": "stdout",
     "output_type": "stream",
     "text": [
      "\r",
      "Matching catalog to image: 286 / 289 :: Useful sources 189 / 289 \r",
      "Matching catalog to image: 287 / 289 :: Useful sources 189 / 289 \r",
      "Matching catalog to image: 288 / 289 :: Useful sources 189 / 289 \r",
      "Matching catalog to image: 289 / 289 :: Useful sources 189 / 289   .. done\n",
      "\n",
      "Broken cutouts: 0\n",
      "Not in correct location: 0\n",
      "Not detected: 78\n",
      "Saturated: 23\n",
      "Error: 0\n",
      "\n",
      "\n",
      "+-------------------------------------------+\n",
      "|Building PSF model using stars in the field|\n",
      "+-------------------------------------------+\n",
      "\n"
     ]
    },
    {
     "name": "stderr",
     "output_type": "stream",
     "text": [
      "Residual table updated: 4 / 10 \n",
      "\tSNR: 555 :: FWHM fitted 6.043\n",
      "Residual table updated: 5 / 10 \n",
      "\tSNR: 534 :: FWHM fitted 6.204\n",
      "Residual table updated: 6 / 10 \n",
      "\tSNR: 504 :: FWHM fitted 6.292\n",
      "Residual table updated: 7 / 10 \n",
      "\tSNR: 471 :: FWHM fitted 5.709\n",
      "Residual table updated: 8 / 10 \n",
      "\tSNR: 454 :: FWHM fitted 5.693\n",
      "Residual table updated: 9 / 10 \n",
      "\tSNR: 437 :: FWHM fitted 5.763\n",
      "Residual table updated: 10 / 10 \n",
      "\tSNR: 437 :: FWHM fitted 6.274\n",
      "\n",
      "PSF built using 10 sources\n",
      "\n",
      "Unity PSF: 43.2 [counts] \n",
      "Unity Residual table: 2.6 [counts] \n",
      "Using Aperture Photometry on sequence Stars \n",
      "No PSF sources fitted\n",
      "WARNING: Input data contains invalid values (NaNs or infs), which were automatically clipped. [astropy.stats.sigma_clipping]\n",
      "Input data contains invalid values (NaNs or infs), which were automatically clipped.\n",
      "\n",
      "Mean r-band zeropoint: 25.953 +/- 0.024 \n",
      "\n"
     ]
    },
    {
     "name": "stdout",
     "output_type": "stream",
     "text": [
      "PSF model saved as: /Users/terwelj/Documents/VirtualMachine/Observing_ING/autophot/test/at2022acsd_REDUCED/r1645964redCCD4/PSF_model_r1645964redCCD4_APT.fits\n",
      "\n",
      "+-------------------+\n",
      "|Measuring PSF model|\n",
      "+-------------------+\n",
      "\n",
      "\n",
      "+-----------------------+\n",
      "|Finding Zeropoint value|\n",
      "+-----------------------+\n",
      "\n",
      "Checking for suitable catalog sources\n",
      "Removed 148 sources lower than SNR of 25.0\n"
     ]
    },
    {
     "name": "stderr",
     "output_type": "stream",
     "text": [
      "/opt/anaconda3/envs/autophot/lib/python3.7/site-packages/matplotlib/backends/backend_pdf.py:1649: DeprecationWarning: NONE is deprecated and will be removed in Pillow 10 (2023-07-01). Use Resampling.NEAREST or Dither.NONE instead.\n",
      "  img = img.convert(mode='P', dither=Image.NONE,\n",
      "/opt/anaconda3/envs/autophot/lib/python3.7/site-packages/matplotlib/backends/backend_pdf.py:1650: DeprecationWarning: ADAPTIVE is deprecated and will be removed in Pillow 10 (2023-07-01). Use Palette.ADAPTIVE instead.\n",
      "  palette=Image.ADAPTIVE, colors=num_colors)\n",
      "Approx. catalog limiting magnitude: 19.292 [ mag ]\n",
      "Target photometry on original image\n"
     ]
    },
    {
     "name": "stdout",
     "output_type": "stream",
     "text": [
      "\n",
      "+-----------------------------------+\n",
      "|Doing Aperture Photometry on Target|\n",
      "+-----------------------------------+\n",
      "\n"
     ]
    },
    {
     "name": "stderr",
     "output_type": "stream",
     "text": [
      "/opt/anaconda3/envs/autophot/lib/python3.7/site-packages/matplotlib/backends/backend_pdf.py:1649: DeprecationWarning: NONE is deprecated and will be removed in Pillow 10 (2023-07-01). Use Resampling.NEAREST or Dither.NONE instead.\n",
      "  img = img.convert(mode='P', dither=Image.NONE,\n",
      "/opt/anaconda3/envs/autophot/lib/python3.7/site-packages/matplotlib/backends/backend_pdf.py:1650: DeprecationWarning: ADAPTIVE is deprecated and will be removed in Pillow 10 (2023-07-01). Use Palette.ADAPTIVE instead.\n",
      "  palette=Image.ADAPTIVE, colors=num_colors)\n",
      "Approximate Target SNR: 31.9\n",
      "SNR = 32 - skipping limiting magnitude\n",
      "Pixel Offset: 0.000\n",
      "Limiting Magnitude: skipped\n",
      "Target Detection probability: 99 %\n",
      "Target flux: 679.092 +/- 0.000 [counts/s]\n",
      "Noise: 567.509 [counts/s]\n",
      "Target SNR: 31.905 +/- 0.034\n",
      "Instrumental Magnitude: -7.080 +/- 0.000\n",
      "Zeropoint: 25.953 +/- 0.024\n",
      "Target Magnitude: 18.838 +/- 0.044 \n",
      "\n",
      "*** Transient well detected ***\n",
      "\n",
      "Time Taken [ 9729 ]: 37s\n",
      "Sucess: r1645964redCCD4_APT.fits :: PID 9729 \n",
      "\n",
      "\n",
      "User instrument database: /Users/terwelj/Documents/VirtualMachine/Observing_ING/autophot/telescope.yml\n",
      "\n",
      "Number of files: 3\n",
      "\n",
      "1 telescope(s) detected - checking header keywords\n",
      "\n"
     ]
    },
    {
     "name": "stdout",
     "output_type": "stream",
     "text": [
      "\n",
      "---\n",
      "\n",
      "Files that failed : []\n",
      "\n",
      "DONE\n",
      "\n",
      "Done - Time Taken: 129.1\n",
      "\n",
      "        _       _       ___ _  _    _____\n",
      "       /_\\ _  _| |_ ___| _ \\ || |__|_   _|\n",
      "      / _ \\ || |  _/ _ \\  _/ __ / _ \\| |\n",
      "     /_/ \\_\\_,_|\\__\\___/_| |_||_\\___/|_|\n",
      "    \n",
      "     ---------------------------------------\n",
      "        Automated Photometry of Transients\n",
      "        S. J. Brennan et al. 2021 \n",
      "        Please provide feedback/bugs to:\n",
      "        Email: sean.brennan2@ucdconnect.ie\n",
      "    ---------------------------------------\n",
      "Directory of fits file: /Users/terwelj/Documents/VirtualMachine/Observing_ING/autophot/test/at2022acsf\n",
      "Found Telescopes:\n",
      "\n",
      " - INT\n",
      "\n",
      "-> Telescope check complete\n",
      "\n",
      "Checking Filter keywords and database\n",
      "\n",
      "-> Filter check complete\n",
      "\n",
      "Checking Filter information for each image\n"
     ]
    },
    {
     "name": "stderr",
     "output_type": "stream",
     "text": [
      "File: r1645966redCCD4_APT.fits - PID: 9729\n",
      "Start Time: 2022-12-16 11:58:33.931345\n",
      "Filter keyoward used: WFFBAND\n",
      "Telescope: INT\n",
      "Filter: i\n",
      "MJD: 59926.962\n",
      "Date of Observation : 2022-12-13\n",
      "Read Noise: 5.8 [e^- /pixel]\n",
      "GAIN: 2.9 [e^- /count]\n",
      "Exposure time: 20 [s] \n",
      "Detecting/removing cosmic ray sources\n"
     ]
    },
    {
     "name": "stdout",
     "output_type": "stream",
     "text": [
      "\n",
      "Files removed - Wrong Image Type: 0\n",
      "\n",
      "Files removed - No/Wrong filter(s): 0\n",
      "Filters not included: []\n",
      "\n",
      "\n",
      "Files removed: 0\n",
      "\n",
      "+-----------+\n",
      "|File: 1 / 3|\n",
      "+-----------+\n",
      "\n",
      "Starting Astroscrappy ... "
     ]
    },
    {
     "name": "stderr",
     "output_type": "stream",
     "text": [
      "Contaminated pixels with Cosmic rays removed: 27703\n",
      "Cosmic rays removed - image updated\n",
      "WARNING: FITSFixedWarning: RADECSYS= 'FK5 ' / mean place new (after the 1976 IAU) system \n",
      "the RADECSYS keyword is deprecated, use RADESYSa. [astropy.wcs.wcs]\n",
      "FITSFixedWarning: RADECSYS= 'FK5 ' / mean place new (after the 1976 IAU) system \n",
      "the RADECSYS keyword is deprecated, use RADESYSa.\n",
      "WARNING: FITSFixedWarning: PROJP1 = 1.00000000 / Projection coefficient for primary WCS \n",
      "the PROJPn keyword is deprecated, use PVi_ma. [astropy.wcs.wcs]\n",
      "FITSFixedWarning: PROJP1 = 1.00000000 / Projection coefficient for primary WCS \n",
      "the PROJPn keyword is deprecated, use PVi_ma.\n",
      "WARNING: FITSFixedWarning: PROJP3 = 0.00000000 / Projection coefficient for primary WCS \n",
      "the PROJPn keyword is deprecated, use PVi_ma. [astropy.wcs.wcs]\n",
      "FITSFixedWarning: PROJP3 = 0.00000000 / Projection coefficient for primary WCS \n",
      "the PROJPn keyword is deprecated, use PVi_ma.\n",
      "WARNING: FITSFixedWarning: 'datfix' made the change 'Invalid parameter values: MJD-OBS and DATE-OBS are inconsistent.\n",
      "Changed DATE-OBS from '2022-12-13        ' to '2022-12-13T00:00:00.0''. [astropy.wcs.wcs]\n",
      "FITSFixedWarning: 'datfix' made the change 'Invalid parameter values: MJD-OBS and DATE-OBS are inconsistent.\n",
      "Changed DATE-OBS from '2022-12-13        ' to '2022-12-13T00:00:00.0''.\n",
      "\n",
      "Performing Astrometry.net\n",
      "Removing any pre-existing WCS keys \n",
      "No WCS values found - attempting to solve field\n",
      "ASTROMETRY started...\n",
      "ASTROMETRY finished: 3s\n",
      "Updating WCS keys with new values\n",
      "WCS saved to new file\n",
      "\n",
      "Searching for FWHM\n",
      "Using Gaussian Profile for fitting\n"
     ]
    },
    {
     "name": "stdout",
     "output_type": "stream",
     "text": [
      "\n",
      "+-------------------------------+\n",
      "|Finding Full Width Half Maximum|\n",
      "+-------------------------------+\n",
      "\n"
     ]
    },
    {
     "name": "stderr",
     "output_type": "stream",
     "text": [
      "\n",
      "Number of sources before cleaning [ 25.0 sigma ]: 25 \n",
      "Updating search FWHM value\n"
     ]
    },
    {
     "name": "stdout",
     "output_type": "stream",
     "text": [
      "Updated guess for FWHM: 6.3 pixels \n"
     ]
    },
    {
     "name": "stderr",
     "output_type": "stream",
     "text": [
      "\n",
      "Number of sources before cleaning [ 25.0 sigma ]: 87 \n",
      "Removed 3 sources near boundary\n",
      "Removed 6 crowded sources\n"
     ]
    },
    {
     "name": "stdout",
     "output_type": "stream",
     "text": [
      "Fitting source for FWHM: 78/78   "
     ]
    },
    {
     "name": "stderr",
     "output_type": "stream",
     "text": [
      "Removed 5 saturated sources\n",
      "WARNING: Input data contains invalid values (NaNs or infs), which were automatically clipped. [astropy.stats.sigma_clipping]\n",
      "Input data contains invalid values (NaNs or infs), which were automatically clipped.\n",
      "Removed 7 FWHM outliers\n",
      "WARNING: Input data contains invalid values (NaNs or infs), which were automatically clipped. [astropy.stats.sigma_clipping]\n",
      "Input data contains invalid values (NaNs or infs), which were automatically clipped.\n",
      "Removed 9 median outliers\n",
      "Useable sources found [ 25 sigma ]: 78\n",
      "Removes 2 sources within minimum seperation [ 22 pixel ]\n",
      "\n",
      "FWHM: 4.514 +/- 0.436 [ pixels ]\n",
      "\n",
      "Seeing: 1.496 [ arcsec ]\n",
      "Aperture size: 7.7 pixels\n",
      "Aperture correction: -0.033 +/- 0.024 [ mag ]\n",
      "WARNING: FITSFixedWarning: 'datfix' made the change 'Invalid parameter values: MJD-OBS and DATE-OBS are inconsistent.\n",
      "Changed DATE-OBS from '2022-12-13        ' to '2022-12-13T00:00:00.0''. [astropy.wcs.wcs]\n",
      "FITSFixedWarning: 'datfix' made the change 'Invalid parameter values: MJD-OBS and DATE-OBS are inconsistent.\n",
      "Changed DATE-OBS from '2022-12-13        ' to '2022-12-13T00:00:00.0''.\n",
      "Searching for new catalog [pan_starrs] for target_ra_49_dec_-17 \n",
      "Downloading sequence stars from pan_starrs\n"
     ]
    },
    {
     "name": "stdout",
     "output_type": "stream",
     "text": [
      "\n",
      "+----------------------------------------------+\n",
      "|Searching for catalog for target_ra_49_dec_-17|\n",
      "+----------------------------------------------+\n",
      "\n"
     ]
    },
    {
     "name": "stderr",
     "output_type": "stream",
     "text": [
      "Catalog length: 6057\n",
      "Removed 3455 sources fainter than cutoff [20 mag]\n",
      "Using Gaussian Profile for fitting\n",
      "Catalog Length: 284\n"
     ]
    },
    {
     "name": "stdout",
     "output_type": "stream",
     "text": [
      "\n",
      "+---------------------------------+\n",
      "|Matching catalog sources to image|\n",
      "+---------------------------------+\n",
      "\n",
      "Removed 1 sources too close to target\n",
      "Removed 453 sources too close to boundary or off image\n",
      "Matching catalog to image: 273 / 284 :: Useful sources 146 / 284 "
     ]
    },
    {
     "name": "stderr",
     "output_type": "stream",
     "text": [
      "\n",
      "Median offset: 3.8 [ pixels ] / 1.3 [ arcsec ]\n",
      "Residual table updated: 1 / 10 \n",
      "\tSNR: 988 :: FWHM fitted 4.450\n"
     ]
    },
    {
     "name": "stdout",
     "output_type": "stream",
     "text": [
      "\r",
      "Matching catalog to image: 274 / 284 :: Useful sources 147 / 284 \r",
      "Matching catalog to image: 275 / 284 :: Useful sources 147 / 284 \r",
      "Matching catalog to image: 276 / 284 :: Useful sources 147 / 284 \r",
      "Matching catalog to image: 277 / 284 :: Useful sources 147 / 284 \r",
      "Matching catalog to image: 278 / 284 :: Useful sources 148 / 284 \r",
      "Matching catalog to image: 279 / 284 :: Useful sources 148 / 284 \r",
      "Matching catalog to image: 280 / 284 :: Useful sources 149 / 284 \r",
      "Matching catalog to image: 281 / 284 :: Useful sources 149 / 284 \r",
      "Matching catalog to image: 282 / 284 :: Useful sources 149 / 284 \r",
      "Matching catalog to image: 283 / 284 :: Useful sources 149 / 284 \r",
      "Matching catalog to image: 284 / 284 :: Useful sources 149 / 284   .. done\n",
      "\n",
      "Broken cutouts: 0\n",
      "Not in correct location: 0\n",
      "Not detected: 104\n",
      "Saturated: 32\n",
      "Error: 0\n",
      "\n",
      "\n",
      "+-------------------------------------------+\n",
      "|Building PSF model using stars in the field|\n",
      "+-------------------------------------------+\n",
      "\n"
     ]
    },
    {
     "name": "stderr",
     "output_type": "stream",
     "text": [
      "Residual table updated: 2 / 10 \n",
      "\tSNR: 964 :: FWHM fitted 4.470\n",
      "Residual table updated: 3 / 10 \n",
      "\tSNR: 838 :: FWHM fitted 4.345\n",
      "Residual table updated: 4 / 10 \n",
      "\tSNR: 817 :: FWHM fitted 4.697\n",
      "Residual table updated: 5 / 10 \n",
      "\tSNR: 798 :: FWHM fitted 4.292\n",
      "Residual table updated: 6 / 10 \n",
      "\tSNR: 539 :: FWHM fitted 4.318\n",
      "Residual table updated: 7 / 10 \n",
      "\tSNR: 532 :: FWHM fitted 4.508\n",
      "Residual table updated: 8 / 10 \n",
      "\tSNR: 466 :: FWHM fitted 4.433\n",
      "Residual table updated: 9 / 10 \n",
      "\tSNR: 456 :: FWHM fitted 4.451\n",
      "Residual table updated: 10 / 10 \n",
      "\tSNR: 441 :: FWHM fitted 4.623\n",
      "\n",
      "PSF built using 10 sources\n",
      "\n",
      "Unity PSF: 24.0 [counts] \n",
      "Unity Residual table: 1.4 [counts] \n",
      "Using Aperture Photometry on sequence Stars \n",
      "No PSF sources fitted\n",
      "WARNING: Input data contains invalid values (NaNs or infs), which were automatically clipped. [astropy.stats.sigma_clipping]\n",
      "Input data contains invalid values (NaNs or infs), which were automatically clipped.\n",
      "\n",
      "Mean i-band zeropoint: 25.674 +/- 0.050 \n",
      "\n"
     ]
    },
    {
     "name": "stdout",
     "output_type": "stream",
     "text": [
      "PSF model saved as: /Users/terwelj/Documents/VirtualMachine/Observing_ING/autophot/test/at2022acsf_REDUCED/r1645966redCCD4/PSF_model_r1645966redCCD4_APT.fits\n",
      "\n",
      "+-------------------+\n",
      "|Measuring PSF model|\n",
      "+-------------------+\n",
      "\n",
      "\n",
      "+-----------------------+\n",
      "|Finding Zeropoint value|\n",
      "+-----------------------+\n",
      "\n",
      "Checking for suitable catalog sources\n",
      "Removed 114 sources lower than SNR of 25.0\n"
     ]
    },
    {
     "name": "stderr",
     "output_type": "stream",
     "text": [
      "/opt/anaconda3/envs/autophot/lib/python3.7/site-packages/matplotlib/backends/backend_pdf.py:1649: DeprecationWarning: NONE is deprecated and will be removed in Pillow 10 (2023-07-01). Use Resampling.NEAREST or Dither.NONE instead.\n",
      "  img = img.convert(mode='P', dither=Image.NONE,\n",
      "/opt/anaconda3/envs/autophot/lib/python3.7/site-packages/matplotlib/backends/backend_pdf.py:1650: DeprecationWarning: ADAPTIVE is deprecated and will be removed in Pillow 10 (2023-07-01). Use Palette.ADAPTIVE instead.\n",
      "  palette=Image.ADAPTIVE, colors=num_colors)\n",
      "Approx. catalog limiting magnitude: 19.826 [ mag ]\n",
      "Target photometry on original image\n"
     ]
    },
    {
     "name": "stdout",
     "output_type": "stream",
     "text": [
      "\n",
      "+-----------------------------------+\n",
      "|Doing Aperture Photometry on Target|\n",
      "+-----------------------------------+\n",
      "\n"
     ]
    },
    {
     "name": "stderr",
     "output_type": "stream",
     "text": [
      "/opt/anaconda3/envs/autophot/lib/python3.7/site-packages/matplotlib/backends/backend_pdf.py:1649: DeprecationWarning: NONE is deprecated and will be removed in Pillow 10 (2023-07-01). Use Resampling.NEAREST or Dither.NONE instead.\n",
      "  img = img.convert(mode='P', dither=Image.NONE,\n",
      "/opt/anaconda3/envs/autophot/lib/python3.7/site-packages/matplotlib/backends/backend_pdf.py:1650: DeprecationWarning: ADAPTIVE is deprecated and will be removed in Pillow 10 (2023-07-01). Use Palette.ADAPTIVE instead.\n",
      "  palette=Image.ADAPTIVE, colors=num_colors)\n",
      "Approximate Target SNR: 40.8\n",
      "SNR = 41 - skipping limiting magnitude\n",
      "Pixel Offset: 0.000\n",
      "Limiting Magnitude: skipped\n",
      "Target Detection probability: 100 %\n",
      "Target flux: 753.908 +/- 0.000 [counts/s]\n",
      "Noise: 415.575 [counts/s]\n",
      "Target SNR: 40.794 +/- 0.026\n",
      "Instrumental Magnitude: -7.193 +/- 0.000\n",
      "Zeropoint: 25.674 +/- 0.050\n",
      "Target Magnitude: 18.448 +/- 0.062 \n",
      "\n",
      "*** Transient well detected ***\n",
      "\n",
      "Time Taken [ 9729 ]: 55s\n",
      "Sucess: r1645966redCCD4_APT.fits :: PID 9729 \n",
      "\n",
      "File: r1645968redCCD4_APT.fits - PID: 9729\n",
      "Start Time: 2022-12-16 11:59:29.600025\n",
      "Filter keyoward used: WFFBAND\n",
      "Telescope: INT\n",
      "Filter: g\n",
      "MJD: 59926.964\n",
      "Date of Observation : 2022-12-13\n",
      "Read Noise: 5.8 [e^- /pixel]\n",
      "GAIN: 2.9 [e^- /count]\n",
      "Exposure time: 20 [s] \n",
      "Detecting/removing cosmic ray sources\n"
     ]
    },
    {
     "name": "stdout",
     "output_type": "stream",
     "text": [
      "\n",
      "+-----------+\n",
      "|File: 2 / 3|\n",
      "+-----------+\n",
      "\n",
      "Starting Astroscrappy ... "
     ]
    },
    {
     "name": "stderr",
     "output_type": "stream",
     "text": [
      "Contaminated pixels with Cosmic rays removed: 30081\n",
      "Cosmic rays removed - image updated\n",
      "WARNING: FITSFixedWarning: RADECSYS= 'FK5 ' / mean place new (after the 1976 IAU) system \n",
      "the RADECSYS keyword is deprecated, use RADESYSa. [astropy.wcs.wcs]\n",
      "FITSFixedWarning: RADECSYS= 'FK5 ' / mean place new (after the 1976 IAU) system \n",
      "the RADECSYS keyword is deprecated, use RADESYSa.\n",
      "WARNING: FITSFixedWarning: PROJP1 = 1.00000000 / Projection coefficient for primary WCS \n",
      "the PROJPn keyword is deprecated, use PVi_ma. [astropy.wcs.wcs]\n",
      "FITSFixedWarning: PROJP1 = 1.00000000 / Projection coefficient for primary WCS \n",
      "the PROJPn keyword is deprecated, use PVi_ma.\n",
      "WARNING: FITSFixedWarning: PROJP3 = 0.00000000 / Projection coefficient for primary WCS \n",
      "the PROJPn keyword is deprecated, use PVi_ma. [astropy.wcs.wcs]\n",
      "FITSFixedWarning: PROJP3 = 0.00000000 / Projection coefficient for primary WCS \n",
      "the PROJPn keyword is deprecated, use PVi_ma.\n",
      "WARNING: FITSFixedWarning: 'datfix' made the change 'Invalid parameter values: MJD-OBS and DATE-OBS are inconsistent.\n",
      "Changed DATE-OBS from '2022-12-13        ' to '2022-12-13T00:00:00.0''. [astropy.wcs.wcs]\n",
      "FITSFixedWarning: 'datfix' made the change 'Invalid parameter values: MJD-OBS and DATE-OBS are inconsistent.\n",
      "Changed DATE-OBS from '2022-12-13        ' to '2022-12-13T00:00:00.0''.\n",
      "\n",
      "Performing Astrometry.net\n",
      "Removing any pre-existing WCS keys \n",
      "No WCS values found - attempting to solve field\n",
      "ASTROMETRY started...\n",
      "ASTROMETRY finished: 3s\n",
      "Updating WCS keys with new values\n",
      "WCS saved to new file\n",
      "\n",
      "Searching for FWHM\n",
      "Using Gaussian Profile for fitting\n"
     ]
    },
    {
     "name": "stdout",
     "output_type": "stream",
     "text": [
      "\n",
      "+-------------------------------+\n",
      "|Finding Full Width Half Maximum|\n",
      "+-------------------------------+\n",
      "\n"
     ]
    },
    {
     "name": "stderr",
     "output_type": "stream",
     "text": [
      "\n",
      "Number of sources before cleaning [ 25.0 sigma ]: 25 \n",
      "Updating search FWHM value\n"
     ]
    },
    {
     "name": "stdout",
     "output_type": "stream",
     "text": [
      "Updated guess for FWHM: 8.3 pixels \n"
     ]
    },
    {
     "name": "stderr",
     "output_type": "stream",
     "text": [
      "\n",
      "Number of sources before cleaning [ 25.0 sigma ]: 56 \n",
      "Removed 5 crowded sources\n"
     ]
    },
    {
     "name": "stdout",
     "output_type": "stream",
     "text": [
      "Fitting source for FWHM: 51/51 "
     ]
    },
    {
     "name": "stderr",
     "output_type": "stream",
     "text": [
      "Removed 3 saturated sources\n",
      "WARNING: Input data contains invalid values (NaNs or infs), which were automatically clipped. [astropy.stats.sigma_clipping]\n",
      "Input data contains invalid values (NaNs or infs), which were automatically clipped.\n",
      "Removed 4 FWHM outliers\n",
      "WARNING: Input data contains invalid values (NaNs or infs), which were automatically clipped. [astropy.stats.sigma_clipping]\n",
      "Input data contains invalid values (NaNs or infs), which were automatically clipped.\n",
      "Removed 12 median outliers\n",
      "Useable sources found [ 25 sigma ]: 51\n",
      "Removes 2 sources within minimum seperation [ 31 pixel ]\n",
      "\n",
      "FWHM: 6.377 +/- 0.277 [ pixels ]\n",
      "\n",
      "Seeing: 2.113 [ arcsec ]\n",
      "Aperture size: 10.8 pixels\n",
      "Aperture correction: -0.044 +/- 0.015 [ mag ]\n",
      "WARNING: FITSFixedWarning: 'datfix' made the change 'Invalid parameter values: MJD-OBS and DATE-OBS are inconsistent.\n",
      "Changed DATE-OBS from '2022-12-13        ' to '2022-12-13T00:00:00.0''. [astropy.wcs.wcs]\n",
      "FITSFixedWarning: 'datfix' made the change 'Invalid parameter values: MJD-OBS and DATE-OBS are inconsistent.\n",
      "Changed DATE-OBS from '2022-12-13        ' to '2022-12-13T00:00:00.0''.\n",
      "Catalog found for target_ra_49_dec_-17\n",
      "Catalog: PAN_STARRS \n",
      "File: target_ra_49_dec_-17_r_0.25\n",
      "Catalog length: 6057\n",
      "Removed 1809 sources fainter than cutoff [20 mag]\n",
      "Using Gaussian Profile for fitting\n",
      "Catalog Length: 118\n"
     ]
    },
    {
     "name": "stdout",
     "output_type": "stream",
     "text": [
      "\n",
      "+----------------------------------------------+\n",
      "|Searching for catalog for target_ra_49_dec_-17|\n",
      "+----------------------------------------------+\n",
      "\n",
      "\n",
      "+---------------------------------+\n",
      "|Matching catalog sources to image|\n",
      "+---------------------------------+\n",
      "\n",
      "Removed 1 sources too close to target\n",
      "Removed 189 sources too close to boundary or off image\n",
      "Matching catalog to image: 113 / 118 :: Useful sources 77 / 118 "
     ]
    },
    {
     "name": "stderr",
     "output_type": "stream",
     "text": [
      "\n",
      "Median offset: 4.4 [ pixels ] / 1.5 [ arcsec ]\n",
      "Residual table updated: 1 / 10 \n",
      "\tSNR: 506 :: FWHM fitted 6.366\n",
      "Residual table updated: 2 / 10 \n",
      "\tSNR: 450 :: FWHM fitted 6.242\n",
      "Residual table updated: 3 / 10 \n",
      "\tSNR: 425 :: FWHM fitted 6.196\n"
     ]
    },
    {
     "name": "stdout",
     "output_type": "stream",
     "text": [
      "\r",
      "Matching catalog to image: 114 / 118 :: Useful sources 78 / 118 \r",
      "Matching catalog to image: 115 / 118 :: Useful sources 78 / 118 \r",
      "Matching catalog to image: 116 / 118 :: Useful sources 78 / 118 \r",
      "Matching catalog to image: 117 / 118 :: Useful sources 78 / 118 \r",
      "Matching catalog to image: 118 / 118 :: Useful sources 79 / 118   .. done\n",
      "\n",
      "Broken cutouts: 0\n",
      "Not in correct location: 0\n",
      "Not detected: 20\n",
      "Saturated: 20\n",
      "Error: 0\n",
      "\n",
      "\n",
      "+-------------------------------------------+\n",
      "|Building PSF model using stars in the field|\n",
      "+-------------------------------------------+\n",
      "\n"
     ]
    },
    {
     "name": "stderr",
     "output_type": "stream",
     "text": [
      "Residual table updated: 4 / 10 \n",
      "\tSNR: 397 :: FWHM fitted 6.355\n",
      "Residual table updated: 5 / 10 \n",
      "\tSNR: 390 :: FWHM fitted 6.320\n",
      "Residual table updated: 6 / 10 \n",
      "\tSNR: 326 :: FWHM fitted 6.104\n",
      "Residual table updated: 7 / 10 \n",
      "\tSNR: 305 :: FWHM fitted 6.364\n",
      "Residual table updated: 8 / 10 \n",
      "\tSNR: 295 :: FWHM fitted 6.226\n",
      "Residual table updated: 9 / 10 \n",
      "\tSNR: 285 :: FWHM fitted 6.311\n",
      "Residual table updated: 10 / 10 \n",
      "\tSNR: 280 :: FWHM fitted 6.521\n",
      "\n",
      "PSF built using 10 sources\n",
      "\n",
      "Unity PSF: 50.0 [counts] \n",
      "Unity Residual table: 4.3 [counts] \n",
      "Using Aperture Photometry on sequence Stars \n",
      "No PSF sources fitted\n",
      "WARNING: Input data contains invalid values (NaNs or infs), which were automatically clipped. [astropy.stats.sigma_clipping]\n",
      "Input data contains invalid values (NaNs or infs), which were automatically clipped.\n",
      "\n",
      "Mean g-band zeropoint: 26.116 +/- 0.034 \n",
      "\n"
     ]
    },
    {
     "name": "stdout",
     "output_type": "stream",
     "text": [
      "PSF model saved as: /Users/terwelj/Documents/VirtualMachine/Observing_ING/autophot/test/at2022acsf_REDUCED/r1645968redCCD4/PSF_model_r1645968redCCD4_APT.fits\n",
      "\n",
      "+-------------------+\n",
      "|Measuring PSF model|\n",
      "+-------------------+\n",
      "\n",
      "\n",
      "+-----------------------+\n",
      "|Finding Zeropoint value|\n",
      "+-----------------------+\n",
      "\n",
      "Checking for suitable catalog sources\n",
      "Removed 64 sources lower than SNR of 25.0\n"
     ]
    },
    {
     "name": "stderr",
     "output_type": "stream",
     "text": [
      "/opt/anaconda3/envs/autophot/lib/python3.7/site-packages/matplotlib/backends/backend_pdf.py:1649: DeprecationWarning: NONE is deprecated and will be removed in Pillow 10 (2023-07-01). Use Resampling.NEAREST or Dither.NONE instead.\n",
      "  img = img.convert(mode='P', dither=Image.NONE,\n",
      "/opt/anaconda3/envs/autophot/lib/python3.7/site-packages/matplotlib/backends/backend_pdf.py:1650: DeprecationWarning: ADAPTIVE is deprecated and will be removed in Pillow 10 (2023-07-01). Use Palette.ADAPTIVE instead.\n",
      "  palette=Image.ADAPTIVE, colors=num_colors)\n",
      "Approx. catalog limiting magnitude: 19.726 [ mag ]\n",
      "Target photometry on original image\n"
     ]
    },
    {
     "name": "stdout",
     "output_type": "stream",
     "text": [
      "\n",
      "+-----------------------------------+\n",
      "|Doing Aperture Photometry on Target|\n",
      "+-----------------------------------+\n",
      "\n"
     ]
    },
    {
     "name": "stderr",
     "output_type": "stream",
     "text": [
      "/opt/anaconda3/envs/autophot/lib/python3.7/site-packages/matplotlib/backends/backend_pdf.py:1649: DeprecationWarning: NONE is deprecated and will be removed in Pillow 10 (2023-07-01). Use Resampling.NEAREST or Dither.NONE instead.\n",
      "  img = img.convert(mode='P', dither=Image.NONE,\n",
      "/opt/anaconda3/envs/autophot/lib/python3.7/site-packages/matplotlib/backends/backend_pdf.py:1650: DeprecationWarning: ADAPTIVE is deprecated and will be removed in Pillow 10 (2023-07-01). Use Palette.ADAPTIVE instead.\n",
      "  palette=Image.ADAPTIVE, colors=num_colors)\n",
      "Approximate Target SNR: 76.3\n",
      "SNR = 76 - skipping limiting magnitude\n",
      "Pixel Offset: 0.000\n",
      "Limiting Magnitude: skipped\n",
      "Target Detection probability: 100 %\n",
      "Target flux: 1480.367 +/- 0.000 [counts/s]\n",
      "Noise: 610.998 [counts/s]\n",
      "Target SNR: 76.270 +/- 0.014\n",
      "Instrumental Magnitude: -7.926 +/- 0.000\n",
      "Zeropoint: 26.116 +/- 0.034\n",
      "Target Magnitude: 18.146 +/- 0.039 \n",
      "\n",
      "*** Transient well detected ***\n",
      "\n",
      "Time Taken [ 9729 ]: 31s\n",
      "Sucess: r1645968redCCD4_APT.fits :: PID 9729 \n",
      "\n",
      "File: r1645967redCCD4_APT.fits - PID: 9729\n",
      "Start Time: 2022-12-16 12:00:00.882586\n",
      "Filter keyoward used: WFFBAND\n",
      "Telescope: INT\n",
      "Filter: r\n",
      "MJD: 59926.963\n",
      "Date of Observation : 2022-12-13\n",
      "Read Noise: 5.8 [e^- /pixel]\n",
      "GAIN: 2.9 [e^- /count]\n",
      "Exposure time: 20 [s] \n",
      "Detecting/removing cosmic ray sources\n"
     ]
    },
    {
     "name": "stdout",
     "output_type": "stream",
     "text": [
      "\n",
      "+-----------+\n",
      "|File: 3 / 3|\n",
      "+-----------+\n",
      "\n",
      "Starting Astroscrappy ... "
     ]
    },
    {
     "name": "stderr",
     "output_type": "stream",
     "text": [
      "Contaminated pixels with Cosmic rays removed: 27433\n",
      "Cosmic rays removed - image updated\n",
      "WARNING: FITSFixedWarning: RADECSYS= 'FK5 ' / mean place new (after the 1976 IAU) system \n",
      "the RADECSYS keyword is deprecated, use RADESYSa. [astropy.wcs.wcs]\n",
      "FITSFixedWarning: RADECSYS= 'FK5 ' / mean place new (after the 1976 IAU) system \n",
      "the RADECSYS keyword is deprecated, use RADESYSa.\n",
      "WARNING: FITSFixedWarning: PROJP1 = 1.00000000 / Projection coefficient for primary WCS \n",
      "the PROJPn keyword is deprecated, use PVi_ma. [astropy.wcs.wcs]\n",
      "FITSFixedWarning: PROJP1 = 1.00000000 / Projection coefficient for primary WCS \n",
      "the PROJPn keyword is deprecated, use PVi_ma.\n",
      "WARNING: FITSFixedWarning: PROJP3 = 0.00000000 / Projection coefficient for primary WCS \n",
      "the PROJPn keyword is deprecated, use PVi_ma. [astropy.wcs.wcs]\n",
      "FITSFixedWarning: PROJP3 = 0.00000000 / Projection coefficient for primary WCS \n",
      "the PROJPn keyword is deprecated, use PVi_ma.\n",
      "WARNING: FITSFixedWarning: 'datfix' made the change 'Invalid parameter values: MJD-OBS and DATE-OBS are inconsistent.\n",
      "Changed DATE-OBS from '2022-12-13        ' to '2022-12-13T00:00:00.0''. [astropy.wcs.wcs]\n",
      "FITSFixedWarning: 'datfix' made the change 'Invalid parameter values: MJD-OBS and DATE-OBS are inconsistent.\n",
      "Changed DATE-OBS from '2022-12-13        ' to '2022-12-13T00:00:00.0''.\n",
      "\n",
      "Performing Astrometry.net\n",
      "Removing any pre-existing WCS keys \n",
      "No WCS values found - attempting to solve field\n",
      "ASTROMETRY started...\n",
      "ASTROMETRY finished: 3s\n",
      "Updating WCS keys with new values\n",
      "WCS saved to new file\n",
      "\n",
      "Searching for FWHM\n",
      "Using Gaussian Profile for fitting\n"
     ]
    },
    {
     "name": "stdout",
     "output_type": "stream",
     "text": [
      "\n",
      "+-------------------------------+\n",
      "|Finding Full Width Half Maximum|\n",
      "+-------------------------------+\n",
      "\n"
     ]
    },
    {
     "name": "stderr",
     "output_type": "stream",
     "text": [
      "\n",
      "Number of sources before cleaning [ 25.0 sigma ]: 25 \n",
      "Updating search FWHM value\n"
     ]
    },
    {
     "name": "stdout",
     "output_type": "stream",
     "text": [
      "Updated guess for FWHM: 5.3 pixels \n"
     ]
    },
    {
     "name": "stderr",
     "output_type": "stream",
     "text": [
      "\n",
      "Number of sources before cleaning [ 25.0 sigma ]: 67 \n",
      "Removed 1 sources near boundary\n",
      "Removed 4 crowded sources\n"
     ]
    },
    {
     "name": "stdout",
     "output_type": "stream",
     "text": [
      "Fitting source for FWHM: 62/62 "
     ]
    },
    {
     "name": "stderr",
     "output_type": "stream",
     "text": [
      "Removed 7 saturated sources\n",
      "WARNING: Input data contains invalid values (NaNs or infs), which were automatically clipped. [astropy.stats.sigma_clipping]\n",
      "Input data contains invalid values (NaNs or infs), which were automatically clipped.\n",
      "Removed 9 FWHM outliers\n",
      "WARNING: Input data contains invalid values (NaNs or infs), which were automatically clipped. [astropy.stats.sigma_clipping]\n",
      "Input data contains invalid values (NaNs or infs), which were automatically clipped.\n",
      "Removed 16 median outliers\n",
      "Useable sources found [ 25 sigma ]: 62\n",
      "Removes 2 sources within minimum seperation [ 23 pixel ]\n",
      "\n",
      "FWHM: 4.724 +/- 0.530 [ pixels ]\n",
      "\n",
      "Seeing: 1.565 [ arcsec ]\n",
      "Aperture size: 8.0 pixels\n",
      "Aperture correction: -0.029 +/- 0.015 [ mag ]\n",
      "WARNING: FITSFixedWarning: 'datfix' made the change 'Invalid parameter values: MJD-OBS and DATE-OBS are inconsistent.\n",
      "Changed DATE-OBS from '2022-12-13        ' to '2022-12-13T00:00:00.0''. [astropy.wcs.wcs]\n",
      "FITSFixedWarning: 'datfix' made the change 'Invalid parameter values: MJD-OBS and DATE-OBS are inconsistent.\n",
      "Changed DATE-OBS from '2022-12-13        ' to '2022-12-13T00:00:00.0''.\n"
     ]
    },
    {
     "name": "stdout",
     "output_type": "stream",
     "text": [
      "\n",
      "+----------------------------------------------+\n",
      "|Searching for catalog for target_ra_49_dec_-17|\n",
      "+----------------------------------------------+\n",
      "\n"
     ]
    },
    {
     "name": "stderr",
     "output_type": "stream",
     "text": [
      "Catalog found for target_ra_49_dec_-17\n",
      "Catalog: PAN_STARRS \n",
      "File: target_ra_49_dec_-17_r_0.25\n",
      "Catalog length: 6057\n",
      "Removed 2544 sources fainter than cutoff [20 mag]\n",
      "Using Gaussian Profile for fitting\n",
      "Catalog Length: 190\n"
     ]
    },
    {
     "name": "stdout",
     "output_type": "stream",
     "text": [
      "\n",
      "+---------------------------------+\n",
      "|Matching catalog sources to image|\n",
      "+---------------------------------+\n",
      "\n",
      "Removed 1 sources too close to target\n",
      "Removed 302 sources too close to boundary or off image\n",
      "Matching catalog to image: 184 / 190 :: Useful sources 123 / 190 "
     ]
    },
    {
     "name": "stderr",
     "output_type": "stream",
     "text": [
      "\n",
      "Median offset: 4.3 [ pixels ] / 1.4 [ arcsec ]\n",
      "Residual table updated: 1 / 10 \n",
      "\tSNR: 624 :: FWHM fitted 4.389\n",
      "Residual table updated: 2 / 10 \n",
      "\tSNR: 595 :: FWHM fitted 4.699\n"
     ]
    },
    {
     "name": "stdout",
     "output_type": "stream",
     "text": [
      "\r",
      "Matching catalog to image: 185 / 190 :: Useful sources 124 / 190 \r",
      "Matching catalog to image: 186 / 190 :: Useful sources 124 / 190 \r",
      "Matching catalog to image: 187 / 190 :: Useful sources 124 / 190 \r",
      "Matching catalog to image: 188 / 190 :: Useful sources 125 / 190 \r",
      "Matching catalog to image: 189 / 190 :: Useful sources 126 / 190 \r",
      "Matching catalog to image: 190 / 190 :: Useful sources 127 / 190   .. done\n",
      "\n",
      "Broken cutouts: 0\n",
      "Not in correct location: 0\n",
      "Not detected: 44\n",
      "Saturated: 20\n",
      "Error: 0\n",
      "\n",
      "\n",
      "+-------------------------------------------+\n",
      "|Building PSF model using stars in the field|\n",
      "+-------------------------------------------+\n",
      "\n"
     ]
    },
    {
     "name": "stderr",
     "output_type": "stream",
     "text": [
      "Residual table updated: 3 / 10 \n",
      "\tSNR: 574 :: FWHM fitted 4.447\n",
      "Residual table updated: 4 / 10 \n",
      "\tSNR: 506 :: FWHM fitted 4.627\n",
      "Residual table updated: 5 / 10 \n",
      "\tSNR: 456 :: FWHM fitted 4.559\n",
      "Residual table updated: 6 / 10 \n",
      "\tSNR: 423 :: FWHM fitted 4.545\n",
      "Residual table updated: 7 / 10 \n",
      "\tSNR: 390 :: FWHM fitted 4.657\n",
      "Residual table updated: 8 / 10 \n",
      "\tSNR: 381 :: FWHM fitted 4.518\n",
      "Residual table updated: 9 / 10 \n",
      "\tSNR: 366 :: FWHM fitted 4.776\n",
      "Residual table updated: 10 / 10 \n",
      "\tSNR: 347 :: FWHM fitted 4.605\n",
      "\n",
      "PSF built using 10 sources\n",
      "\n",
      "Unity PSF: 25.9 [counts] \n",
      "Unity Residual table: 1.4 [counts] \n",
      "Using Aperture Photometry on sequence Stars \n",
      "No PSF sources fitted\n",
      "WARNING: Input data contains invalid values (NaNs or infs), which were automatically clipped. [astropy.stats.sigma_clipping]\n",
      "Input data contains invalid values (NaNs or infs), which were automatically clipped.\n",
      "\n",
      "Mean r-band zeropoint: 25.982 +/- 0.037 \n",
      "\n"
     ]
    },
    {
     "name": "stdout",
     "output_type": "stream",
     "text": [
      "PSF model saved as: /Users/terwelj/Documents/VirtualMachine/Observing_ING/autophot/test/at2022acsf_REDUCED/r1645967redCCD4/PSF_model_r1645967redCCD4_APT.fits\n",
      "\n",
      "+-------------------+\n",
      "|Measuring PSF model|\n",
      "+-------------------+\n",
      "\n",
      "\n",
      "+-----------------------+\n",
      "|Finding Zeropoint value|\n",
      "+-----------------------+\n",
      "\n",
      "Checking for suitable catalog sources\n",
      "Removed 96 sources lower than SNR of 25.0\n"
     ]
    },
    {
     "name": "stderr",
     "output_type": "stream",
     "text": [
      "/opt/anaconda3/envs/autophot/lib/python3.7/site-packages/matplotlib/backends/backend_pdf.py:1649: DeprecationWarning: NONE is deprecated and will be removed in Pillow 10 (2023-07-01). Use Resampling.NEAREST or Dither.NONE instead.\n",
      "  img = img.convert(mode='P', dither=Image.NONE,\n",
      "/opt/anaconda3/envs/autophot/lib/python3.7/site-packages/matplotlib/backends/backend_pdf.py:1650: DeprecationWarning: ADAPTIVE is deprecated and will be removed in Pillow 10 (2023-07-01). Use Palette.ADAPTIVE instead.\n",
      "  palette=Image.ADAPTIVE, colors=num_colors)\n",
      "Approx. catalog limiting magnitude: 19.49 [ mag ]\n",
      "Target photometry on original image\n"
     ]
    },
    {
     "name": "stdout",
     "output_type": "stream",
     "text": [
      "\n",
      "+-----------------------------------+\n",
      "|Doing Aperture Photometry on Target|\n",
      "+-----------------------------------+\n",
      "\n"
     ]
    },
    {
     "name": "stderr",
     "output_type": "stream",
     "text": [
      "/opt/anaconda3/envs/autophot/lib/python3.7/site-packages/matplotlib/backends/backend_pdf.py:1649: DeprecationWarning: NONE is deprecated and will be removed in Pillow 10 (2023-07-01). Use Resampling.NEAREST or Dither.NONE instead.\n",
      "  img = img.convert(mode='P', dither=Image.NONE,\n",
      "/opt/anaconda3/envs/autophot/lib/python3.7/site-packages/matplotlib/backends/backend_pdf.py:1650: DeprecationWarning: ADAPTIVE is deprecated and will be removed in Pillow 10 (2023-07-01). Use Palette.ADAPTIVE instead.\n",
      "  palette=Image.ADAPTIVE, colors=num_colors)\n",
      "Approximate Target SNR: 63.2\n",
      "SNR = 63 - skipping limiting magnitude\n",
      "Pixel Offset: 0.000\n",
      "Limiting Magnitude: skipped\n",
      "Target Detection probability: 100 %\n",
      "Target flux: 1167.287 +/- 0.000 [counts/s]\n",
      "Noise: 466.978 [counts/s]\n",
      "Target SNR: 63.211 +/- 0.017\n",
      "Instrumental Magnitude: -7.668 +/- 0.000\n",
      "Zeropoint: 25.982 +/- 0.037\n",
      "Target Magnitude: 18.285 +/- 0.044 \n",
      "\n",
      "*** Transient well detected ***\n",
      "\n",
      "Time Taken [ 9729 ]: 36s\n",
      "Sucess: r1645967redCCD4_APT.fits :: PID 9729 \n",
      "\n",
      "\n",
      "User instrument database: /Users/terwelj/Documents/VirtualMachine/Observing_ING/autophot/telescope.yml\n",
      "\n",
      "Number of files: 3\n",
      "\n",
      "1 telescope(s) detected - checking header keywords\n",
      "\n"
     ]
    },
    {
     "name": "stdout",
     "output_type": "stream",
     "text": [
      "\n",
      "---\n",
      "\n",
      "Files that failed : []\n",
      "\n",
      "DONE\n",
      "\n",
      "Done - Time Taken: 123.3\n",
      "\n",
      "        _       _       ___ _  _    _____\n",
      "       /_\\ _  _| |_ ___| _ \\ || |__|_   _|\n",
      "      / _ \\ || |  _/ _ \\  _/ __ / _ \\| |\n",
      "     /_/ \\_\\_,_|\\__\\___/_| |_||_\\___/|_|\n",
      "    \n",
      "     ---------------------------------------\n",
      "        Automated Photometry of Transients\n",
      "        S. J. Brennan et al. 2021 \n",
      "        Please provide feedback/bugs to:\n",
      "        Email: sean.brennan2@ucdconnect.ie\n",
      "    ---------------------------------------\n",
      "Directory of fits file: /Users/terwelj/Documents/VirtualMachine/Observing_ING/autophot/test/at2022acru\n",
      "Found Telescopes:\n",
      "\n",
      " - INT\n",
      "\n",
      "-> Telescope check complete\n",
      "\n",
      "Checking Filter keywords and database\n",
      "\n",
      "-> Filter check complete\n",
      "\n",
      "Checking Filter information for each image\n"
     ]
    },
    {
     "name": "stderr",
     "output_type": "stream",
     "text": [
      "File: r1645969redCCD4_APT.fits - PID: 9729\n",
      "Start Time: 2022-12-16 12:00:37.198336\n",
      "Filter keyoward used: WFFBAND\n",
      "Telescope: INT\n",
      "Filter: g\n",
      "MJD: 59926.966\n",
      "Date of Observation : 2022-12-13\n",
      "Read Noise: 5.8 [e^- /pixel]\n",
      "GAIN: 2.9 [e^- /count]\n",
      "Exposure time: 20 [s] \n",
      "Detecting/removing cosmic ray sources\n"
     ]
    },
    {
     "name": "stdout",
     "output_type": "stream",
     "text": [
      "\n",
      "Files removed - Wrong Image Type: 0\n",
      "\n",
      "Files removed - No/Wrong filter(s): 0\n",
      "Filters not included: []\n",
      "\n",
      "\n",
      "Files removed: 0\n",
      "\n",
      "+-----------+\n",
      "|File: 1 / 3|\n",
      "+-----------+\n",
      "\n",
      "Starting Astroscrappy ... "
     ]
    },
    {
     "name": "stderr",
     "output_type": "stream",
     "text": [
      "Contaminated pixels with Cosmic rays removed: 30432\n",
      "Cosmic rays removed - image updated\n",
      "WARNING: FITSFixedWarning: RADECSYS= 'FK5 ' / mean place new (after the 1976 IAU) system \n",
      "the RADECSYS keyword is deprecated, use RADESYSa. [astropy.wcs.wcs]\n",
      "FITSFixedWarning: RADECSYS= 'FK5 ' / mean place new (after the 1976 IAU) system \n",
      "the RADECSYS keyword is deprecated, use RADESYSa.\n",
      "WARNING: FITSFixedWarning: PROJP1 = 1.00000000 / Projection coefficient for primary WCS \n",
      "the PROJPn keyword is deprecated, use PVi_ma. [astropy.wcs.wcs]\n",
      "FITSFixedWarning: PROJP1 = 1.00000000 / Projection coefficient for primary WCS \n",
      "the PROJPn keyword is deprecated, use PVi_ma.\n",
      "WARNING: FITSFixedWarning: PROJP3 = 0.00000000 / Projection coefficient for primary WCS \n",
      "the PROJPn keyword is deprecated, use PVi_ma. [astropy.wcs.wcs]\n",
      "FITSFixedWarning: PROJP3 = 0.00000000 / Projection coefficient for primary WCS \n",
      "the PROJPn keyword is deprecated, use PVi_ma.\n",
      "WARNING: FITSFixedWarning: 'datfix' made the change 'Invalid parameter values: MJD-OBS and DATE-OBS are inconsistent.\n",
      "Changed DATE-OBS from '2022-12-13        ' to '2022-12-13T00:00:00.0''. [astropy.wcs.wcs]\n",
      "FITSFixedWarning: 'datfix' made the change 'Invalid parameter values: MJD-OBS and DATE-OBS are inconsistent.\n",
      "Changed DATE-OBS from '2022-12-13        ' to '2022-12-13T00:00:00.0''.\n",
      "\n",
      "Performing Astrometry.net\n",
      "Removing any pre-existing WCS keys \n",
      "No WCS values found - attempting to solve field\n",
      "ASTROMETRY started...\n",
      "ASTROMETRY finished: 3s\n",
      "Updating WCS keys with new values\n",
      "WCS saved to new file\n",
      "\n",
      "Searching for FWHM\n",
      "Using Gaussian Profile for fitting\n"
     ]
    },
    {
     "name": "stdout",
     "output_type": "stream",
     "text": [
      "\n",
      "+-------------------------------+\n",
      "|Finding Full Width Half Maximum|\n",
      "+-------------------------------+\n",
      "\n"
     ]
    },
    {
     "name": "stderr",
     "output_type": "stream",
     "text": [
      "\n",
      "Number of sources before cleaning [ 25.0 sigma ]: 25 \n",
      "Updating search FWHM value\n"
     ]
    },
    {
     "name": "stdout",
     "output_type": "stream",
     "text": [
      "Updated guess for FWHM: 5.7 pixels \n"
     ]
    },
    {
     "name": "stderr",
     "output_type": "stream",
     "text": [
      "\n",
      "Number of sources before cleaning [ 25.0 sigma ]: 68 \n",
      "Removed 1 sources near boundary\n",
      "Removed 4 crowded sources\n"
     ]
    },
    {
     "name": "stdout",
     "output_type": "stream",
     "text": [
      "Fitting source for FWHM: 63/63 "
     ]
    },
    {
     "name": "stderr",
     "output_type": "stream",
     "text": [
      "Removed 9 saturated sources\n",
      "WARNING: Input data contains invalid values (NaNs or infs), which were automatically clipped. [astropy.stats.sigma_clipping]\n",
      "Input data contains invalid values (NaNs or infs), which were automatically clipped.\n",
      "Removed 14 FWHM outliers\n",
      "WARNING: Input data contains invalid values (NaNs or infs), which were automatically clipped. [astropy.stats.sigma_clipping]\n",
      "Input data contains invalid values (NaNs or infs), which were automatically clipped.\n",
      "Removed 31 median outliers\n",
      "Useable sources found [ 25 sigma ]: 63\n",
      "Removes 0 sources within minimum seperation [ 28 pixel ]\n",
      "\n",
      "FWHM: 5.723 +/- 0.243 [ pixels ]\n",
      "\n",
      "Seeing: 1.895 [ arcsec ]\n",
      "Aperture size: 9.7 pixels\n",
      "Aperture correction: -0.067 +/- 0.008 [ mag ]\n",
      "WARNING: FITSFixedWarning: 'datfix' made the change 'Invalid parameter values: MJD-OBS and DATE-OBS are inconsistent.\n",
      "Changed DATE-OBS from '2022-12-13        ' to '2022-12-13T00:00:00.0''. [astropy.wcs.wcs]\n",
      "FITSFixedWarning: 'datfix' made the change 'Invalid parameter values: MJD-OBS and DATE-OBS are inconsistent.\n",
      "Changed DATE-OBS from '2022-12-13        ' to '2022-12-13T00:00:00.0''.\n",
      "Searching for new catalog [pan_starrs] for target_ra_58_dec_-11 \n",
      "Downloading sequence stars from pan_starrs\n"
     ]
    },
    {
     "name": "stdout",
     "output_type": "stream",
     "text": [
      "\n",
      "+----------------------------------------------+\n",
      "|Searching for catalog for target_ra_58_dec_-11|\n",
      "+----------------------------------------------+\n",
      "\n"
     ]
    },
    {
     "name": "stderr",
     "output_type": "stream",
     "text": [
      "Catalog length: 6863\n",
      "Removed 1877 sources fainter than cutoff [20 mag]\n",
      "Using Gaussian Profile for fitting\n",
      "Catalog Length: 145\n"
     ]
    },
    {
     "name": "stdout",
     "output_type": "stream",
     "text": [
      "\n",
      "+---------------------------------+\n",
      "|Matching catalog sources to image|\n",
      "+---------------------------------+\n",
      "\n",
      "Removed 1 sources too close to target\n",
      "Removed 282 sources too close to boundary or off image\n",
      "Matching catalog to image: 144 / 145 :: Useful sources 96 / 145 "
     ]
    },
    {
     "name": "stderr",
     "output_type": "stream",
     "text": [
      "\n",
      "Median offset: 4.2 [ pixels ] / 1.4 [ arcsec ]\n",
      "Residual table updated: 1 / 10 \n",
      "\tSNR: 326 :: FWHM fitted 5.644\n",
      "Residual table updated: 2 / 10 \n",
      "\tSNR: 317 :: FWHM fitted 5.805\n"
     ]
    },
    {
     "name": "stdout",
     "output_type": "stream",
     "text": [
      "\r",
      "Matching catalog to image: 145 / 145 :: Useful sources 97 / 145   .. done\n",
      "\n",
      "Broken cutouts: 0\n",
      "Not in correct location: 0\n",
      "Not detected: 27\n",
      "Saturated: 21\n",
      "Error: 0\n",
      "\n",
      "\n",
      "+-------------------------------------------+\n",
      "|Building PSF model using stars in the field|\n",
      "+-------------------------------------------+\n",
      "\n"
     ]
    },
    {
     "name": "stderr",
     "output_type": "stream",
     "text": [
      "Residual table updated: 3 / 10 \n",
      "\tSNR: 298 :: FWHM fitted 5.732\n",
      "Residual table updated: 4 / 10 \n",
      "\tSNR: 289 :: FWHM fitted 5.585\n",
      "Residual table updated: 5 / 10 \n",
      "\tSNR: 285 :: FWHM fitted 5.909\n",
      "Residual table updated: 6 / 10 \n",
      "\tSNR: 287 :: FWHM fitted 5.904\n",
      "Residual table updated: 7 / 10 \n",
      "\tSNR: 283 :: FWHM fitted 5.845\n",
      "Residual table updated: 8 / 10 \n",
      "\tSNR: 258 :: FWHM fitted 5.898\n",
      "Residual table updated: 9 / 10 \n",
      "\tSNR: 246 :: FWHM fitted 5.811\n",
      "Residual table updated: 10 / 10 \n",
      "\tSNR: 198 :: FWHM fitted 5.925\n",
      "\n",
      "PSF built using 10 sources\n",
      "\n",
      "Unity PSF: 42.1 [counts] \n",
      "Unity Residual table: 5.0 [counts] \n",
      "Using Aperture Photometry on sequence Stars \n",
      "No PSF sources fitted\n",
      "WARNING: Input data contains invalid values (NaNs or infs), which were automatically clipped. [astropy.stats.sigma_clipping]\n",
      "Input data contains invalid values (NaNs or infs), which were automatically clipped.\n",
      "\n",
      "Mean g-band zeropoint: 26.117 +/- 0.026 \n",
      "\n"
     ]
    },
    {
     "name": "stdout",
     "output_type": "stream",
     "text": [
      "PSF model saved as: /Users/terwelj/Documents/VirtualMachine/Observing_ING/autophot/test/at2022acru_REDUCED/r1645969redCCD4/PSF_model_r1645969redCCD4_APT.fits\n",
      "\n",
      "+-------------------+\n",
      "|Measuring PSF model|\n",
      "+-------------------+\n",
      "\n",
      "\n",
      "+-----------------------+\n",
      "|Finding Zeropoint value|\n",
      "+-----------------------+\n",
      "\n",
      "Checking for suitable catalog sources\n",
      "Removed 82 sources lower than SNR of 25.0\n"
     ]
    },
    {
     "name": "stderr",
     "output_type": "stream",
     "text": [
      "/opt/anaconda3/envs/autophot/lib/python3.7/site-packages/matplotlib/backends/backend_pdf.py:1649: DeprecationWarning: NONE is deprecated and will be removed in Pillow 10 (2023-07-01). Use Resampling.NEAREST or Dither.NONE instead.\n",
      "  img = img.convert(mode='P', dither=Image.NONE,\n",
      "/opt/anaconda3/envs/autophot/lib/python3.7/site-packages/matplotlib/backends/backend_pdf.py:1650: DeprecationWarning: ADAPTIVE is deprecated and will be removed in Pillow 10 (2023-07-01). Use Palette.ADAPTIVE instead.\n",
      "  palette=Image.ADAPTIVE, colors=num_colors)\n",
      "Approx. catalog limiting magnitude: 19.681 [ mag ]\n",
      "Target photometry on original image\n"
     ]
    },
    {
     "name": "stdout",
     "output_type": "stream",
     "text": [
      "\n",
      "+-----------------------------------+\n",
      "|Doing Aperture Photometry on Target|\n",
      "+-----------------------------------+\n",
      "\n"
     ]
    },
    {
     "name": "stderr",
     "output_type": "stream",
     "text": [
      "/opt/anaconda3/envs/autophot/lib/python3.7/site-packages/matplotlib/backends/backend_pdf.py:1649: DeprecationWarning: NONE is deprecated and will be removed in Pillow 10 (2023-07-01). Use Resampling.NEAREST or Dither.NONE instead.\n",
      "  img = img.convert(mode='P', dither=Image.NONE,\n",
      "/opt/anaconda3/envs/autophot/lib/python3.7/site-packages/matplotlib/backends/backend_pdf.py:1650: DeprecationWarning: ADAPTIVE is deprecated and will be removed in Pillow 10 (2023-07-01). Use Palette.ADAPTIVE instead.\n",
      "  palette=Image.ADAPTIVE, colors=num_colors)\n",
      "Approximate Target SNR: 98.9\n",
      "SNR = 99 - skipping limiting magnitude\n",
      "Pixel Offset: 0.000\n",
      "Limiting Magnitude: skipped\n",
      "Target Detection probability: 100 %\n",
      "Target flux: 1811.747 +/- 0.000 [counts/s]\n",
      "Noise: 377.946 [counts/s]\n",
      "Target SNR: 98.892 +/- 0.011\n",
      "Instrumental Magnitude: -8.145 +/- 0.000\n",
      "Zeropoint: 26.117 +/- 0.026\n",
      "Target Magnitude: 17.905 +/- 0.029 \n",
      "\n",
      "*** Transient well detected ***\n",
      "\n",
      "Time Taken [ 9729 ]: 51s\n",
      "Sucess: r1645969redCCD4_APT.fits :: PID 9729 \n",
      "\n",
      "File: r1645970redCCD4_APT.fits - PID: 9729\n",
      "Start Time: 2022-12-16 12:01:28.977497\n",
      "Filter keyoward used: WFFBAND\n",
      "Telescope: INT\n",
      "Filter: i\n",
      "MJD: 59926.967\n",
      "Date of Observation : 2022-12-13\n",
      "Read Noise: 5.8 [e^- /pixel]\n",
      "GAIN: 2.9 [e^- /count]\n",
      "Exposure time: 20 [s] \n",
      "Detecting/removing cosmic ray sources\n"
     ]
    },
    {
     "name": "stdout",
     "output_type": "stream",
     "text": [
      "\n",
      "+-----------+\n",
      "|File: 2 / 3|\n",
      "+-----------+\n",
      "\n",
      "Starting Astroscrappy ... "
     ]
    },
    {
     "name": "stderr",
     "output_type": "stream",
     "text": [
      "Contaminated pixels with Cosmic rays removed: 28020\n",
      "Cosmic rays removed - image updated\n",
      "WARNING: FITSFixedWarning: RADECSYS= 'FK5 ' / mean place new (after the 1976 IAU) system \n",
      "the RADECSYS keyword is deprecated, use RADESYSa. [astropy.wcs.wcs]\n",
      "FITSFixedWarning: RADECSYS= 'FK5 ' / mean place new (after the 1976 IAU) system \n",
      "the RADECSYS keyword is deprecated, use RADESYSa.\n",
      "WARNING: FITSFixedWarning: PROJP1 = 1.00000000 / Projection coefficient for primary WCS \n",
      "the PROJPn keyword is deprecated, use PVi_ma. [astropy.wcs.wcs]\n",
      "FITSFixedWarning: PROJP1 = 1.00000000 / Projection coefficient for primary WCS \n",
      "the PROJPn keyword is deprecated, use PVi_ma.\n",
      "WARNING: FITSFixedWarning: PROJP3 = 0.00000000 / Projection coefficient for primary WCS \n",
      "the PROJPn keyword is deprecated, use PVi_ma. [astropy.wcs.wcs]\n",
      "FITSFixedWarning: PROJP3 = 0.00000000 / Projection coefficient for primary WCS \n",
      "the PROJPn keyword is deprecated, use PVi_ma.\n",
      "WARNING: FITSFixedWarning: 'datfix' made the change 'Invalid parameter values: MJD-OBS and DATE-OBS are inconsistent.\n",
      "Changed DATE-OBS from '2022-12-13        ' to '2022-12-13T00:00:00.0''. [astropy.wcs.wcs]\n",
      "FITSFixedWarning: 'datfix' made the change 'Invalid parameter values: MJD-OBS and DATE-OBS are inconsistent.\n",
      "Changed DATE-OBS from '2022-12-13        ' to '2022-12-13T00:00:00.0''.\n",
      "\n",
      "Performing Astrometry.net\n",
      "Removing any pre-existing WCS keys \n",
      "No WCS values found - attempting to solve field\n",
      "ASTROMETRY started...\n",
      "ASTROMETRY finished: 3s\n",
      "Updating WCS keys with new values\n",
      "WCS saved to new file\n",
      "\n",
      "Searching for FWHM\n",
      "Using Gaussian Profile for fitting\n"
     ]
    },
    {
     "name": "stdout",
     "output_type": "stream",
     "text": [
      "\n",
      "+-------------------------------+\n",
      "|Finding Full Width Half Maximum|\n",
      "+-------------------------------+\n",
      "\n"
     ]
    },
    {
     "name": "stderr",
     "output_type": "stream",
     "text": [
      "\n",
      "Number of sources before cleaning [ 25.0 sigma ]: 25 \n",
      "Updating search FWHM value\n"
     ]
    },
    {
     "name": "stdout",
     "output_type": "stream",
     "text": [
      "Updated guess for FWHM: 5.9 pixels \n"
     ]
    },
    {
     "name": "stderr",
     "output_type": "stream",
     "text": [
      "\n",
      "Number of sources before cleaning [ 25.0 sigma ]: 78 \n",
      "Removed 4 crowded sources\n"
     ]
    },
    {
     "name": "stdout",
     "output_type": "stream",
     "text": [
      "Fitting source for FWHM: 74/74 "
     ]
    },
    {
     "name": "stderr",
     "output_type": "stream",
     "text": [
      "Removed 10 saturated sources\n",
      "WARNING: Input data contains invalid values (NaNs or infs), which were automatically clipped. [astropy.stats.sigma_clipping]\n",
      "Input data contains invalid values (NaNs or infs), which were automatically clipped.\n",
      "Removed 15 FWHM outliers\n",
      "WARNING: Input data contains invalid values (NaNs or infs), which were automatically clipped. [astropy.stats.sigma_clipping]\n",
      "Input data contains invalid values (NaNs or infs), which were automatically clipped.\n",
      "Removed 14 median outliers\n",
      "Useable sources found [ 25 sigma ]: 74\n",
      "Removes 2 sources within minimum seperation [ 29 pixel ]\n",
      "\n",
      "FWHM: 5.885 +/- 0.151 [ pixels ]\n",
      "\n",
      "Seeing: 1.954 [ arcsec ]\n",
      "Aperture size: 10.0 pixels\n",
      "Aperture correction: -0.035 +/- 0.020 [ mag ]\n",
      "WARNING: FITSFixedWarning: 'datfix' made the change 'Invalid parameter values: MJD-OBS and DATE-OBS are inconsistent.\n",
      "Changed DATE-OBS from '2022-12-13        ' to '2022-12-13T00:00:00.0''. [astropy.wcs.wcs]\n",
      "FITSFixedWarning: 'datfix' made the change 'Invalid parameter values: MJD-OBS and DATE-OBS are inconsistent.\n",
      "Changed DATE-OBS from '2022-12-13        ' to '2022-12-13T00:00:00.0''.\n",
      "Catalog found for target_ra_58_dec_-11\n",
      "Catalog: PAN_STARRS \n",
      "File: target_ra_58_dec_-11_r_0.25\n",
      "Catalog length: 6863\n",
      "Removed 3964 sources fainter than cutoff [20 mag]\n",
      "Using Gaussian Profile for fitting\n",
      "Catalog Length: 319\n"
     ]
    },
    {
     "name": "stdout",
     "output_type": "stream",
     "text": [
      "\n",
      "+----------------------------------------------+\n",
      "|Searching for catalog for target_ra_58_dec_-11|\n",
      "+----------------------------------------------+\n",
      "\n",
      "\n",
      "+---------------------------------+\n",
      "|Matching catalog sources to image|\n",
      "+---------------------------------+\n",
      "\n",
      "Removed 2 sources too close to target\n",
      "Removed 636 sources too close to boundary or off image\n",
      "Matching catalog to image: 276 / 319 :: Useful sources 174 / 319 "
     ]
    },
    {
     "name": "stderr",
     "output_type": "stream",
     "text": [
      "\n",
      "Median offset: 3.4 [ pixels ] / 1.1 [ arcsec ]\n"
     ]
    },
    {
     "name": "stdout",
     "output_type": "stream",
     "text": [
      "\r",
      "Matching catalog to image: 277 / 319 :: Useful sources 175 / 319 \r",
      "Matching catalog to image: 278 / 319 :: Useful sources 175 / 319 \r",
      "Matching catalog to image: 279 / 319 :: Useful sources 175 / 319 \r",
      "Matching catalog to image: 280 / 319 :: Useful sources 175 / 319 \r",
      "Matching catalog to image: 281 / 319 :: Useful sources 176 / 319 \r",
      "Matching catalog to image: 282 / 319 :: Useful sources 176 / 319 \r",
      "Matching catalog to image: 283 / 319 :: Useful sources 176 / 319 \r",
      "Matching catalog to image: 284 / 319 :: Useful sources 176 / 319 \r",
      "Matching catalog to image: 285 / 319 :: Useful sources 176 / 319 \r",
      "Matching catalog to image: 286 / 319 :: Useful sources 176 / 319 \r",
      "Matching catalog to image: 287 / 319 :: Useful sources 176 / 319 \r",
      "Matching catalog to image: 288 / 319 :: Useful sources 176 / 319 \r",
      "Matching catalog to image: 289 / 319 :: Useful sources 176 / 319 \r",
      "Matching catalog to image: 290 / 319 :: Useful sources 177 / 319 \r",
      "Matching catalog to image: 291 / 319 :: Useful sources 177 / 319 \r",
      "Matching catalog to image: 292 / 319 :: Useful sources 177 / 319 \r",
      "Matching catalog to image: 293 / 319 :: Useful sources 177 / 319 \r",
      "Matching catalog to image: 294 / 319 :: Useful sources 177 / 319 \r",
      "Matching catalog to image: 295 / 319 :: Useful sources 177 / 319 \r",
      "Matching catalog to image: 296 / 319 :: Useful sources 178 / 319 \r",
      "Matching catalog to image: 297 / 319 :: Useful sources 178 / 319 \r",
      "Matching catalog to image: 298 / 319 :: Useful sources 178 / 319 \r",
      "Matching catalog to image: 299 / 319 :: Useful sources 178 / 319 \r",
      "Matching catalog to image: 300 / 319 :: Useful sources 178 / 319 \r",
      "Matching catalog to image: 301 / 319 :: Useful sources 178 / 319 \r",
      "Matching catalog to image: 302 / 319 :: Useful sources 178 / 319 \r",
      "Matching catalog to image: 303 / 319 :: Useful sources 178 / 319 \r",
      "Matching catalog to image: 304 / 319 :: Useful sources 178 / 319 \r",
      "Matching catalog to image: 305 / 319 :: Useful sources 178 / 319 \r",
      "Matching catalog to image: 306 / 319 :: Useful sources 178 / 319 \r",
      "Matching catalog to image: 307 / 319 :: Useful sources 178 / 319 \r",
      "Matching catalog to image: 308 / 319 :: Useful sources 178 / 319 \r",
      "Matching catalog to image: 309 / 319 :: Useful sources 179 / 319 \r",
      "Matching catalog to image: 310 / 319 :: Useful sources 179 / 319 \r",
      "Matching catalog to image: 311 / 319 :: Useful sources 179 / 319 \r",
      "Matching catalog to image: 312 / 319 :: Useful sources 179 / 319 \r",
      "Matching catalog to image: 313 / 319 :: Useful sources 179 / 319 \r",
      "Matching catalog to image: 314 / 319 :: Useful sources 179 / 319 \r",
      "Matching catalog to image: 315 / 319 :: Useful sources 180 / 319 \r",
      "Matching catalog to image: 316 / 319 :: Useful sources 180 / 319 \r",
      "Matching catalog to image: 317 / 319 :: Useful sources 180 / 319 \r",
      "Matching catalog to image: 318 / 319 :: Useful sources 180 / 319 \r",
      "Matching catalog to image: 319 / 319 :: Useful sources 180 / 319   .. done\n",
      "\n",
      "Broken cutouts: 0\n",
      "Not in correct location: 0\n",
      "Not detected: 114\n",
      "Saturated: 26\n",
      "Error: 0\n",
      "\n",
      "\n",
      "+-------------------------------------------+\n",
      "|Building PSF model using stars in the field|\n",
      "+-------------------------------------------+\n",
      "\n"
     ]
    },
    {
     "name": "stderr",
     "output_type": "stream",
     "text": [
      "Residual table updated: 1 / 10 \n",
      "\tSNR: 1059 :: FWHM fitted 5.838\n",
      "Residual table updated: 2 / 10 \n",
      "\tSNR: 935 :: FWHM fitted 5.711\n",
      "Residual table updated: 3 / 10 \n",
      "\tSNR: 901 :: FWHM fitted 5.865\n",
      "Residual table updated: 4 / 10 \n",
      "\tSNR: 890 :: FWHM fitted 5.865\n",
      "Residual table updated: 5 / 10 \n",
      "\tSNR: 841 :: FWHM fitted 5.824\n",
      "Residual table updated: 6 / 10 \n",
      "\tSNR: 785 :: FWHM fitted 5.862\n",
      "Residual table updated: 7 / 10 \n",
      "\tSNR: 773 :: FWHM fitted 5.819\n",
      "Residual table updated: 8 / 10 \n",
      "\tSNR: 642 :: FWHM fitted 5.848\n",
      "Residual table updated: 9 / 10 \n",
      "\tSNR: 630 :: FWHM fitted 5.870\n",
      "Residual table updated: 10 / 10 \n",
      "\tSNR: 536 :: FWHM fitted 5.941\n",
      "\n",
      "PSF built using 10 sources\n",
      "\n",
      "Unity PSF: 41.5 [counts] \n",
      "Unity Residual table: 2.5 [counts] \n",
      "Using Aperture Photometry on sequence Stars \n",
      "No PSF sources fitted\n",
      "WARNING: Input data contains invalid values (NaNs or infs), which were automatically clipped. [astropy.stats.sigma_clipping]\n",
      "Input data contains invalid values (NaNs or infs), which were automatically clipped.\n",
      "\n",
      "Mean i-band zeropoint: 25.674 +/- 0.051 \n",
      "\n"
     ]
    },
    {
     "name": "stdout",
     "output_type": "stream",
     "text": [
      "PSF model saved as: /Users/terwelj/Documents/VirtualMachine/Observing_ING/autophot/test/at2022acru_REDUCED/r1645970redCCD4/PSF_model_r1645970redCCD4_APT.fits\n",
      "\n",
      "+-------------------+\n",
      "|Measuring PSF model|\n",
      "+-------------------+\n",
      "\n",
      "\n",
      "+-----------------------+\n",
      "|Finding Zeropoint value|\n",
      "+-----------------------+\n",
      "\n",
      "Checking for suitable catalog sources\n",
      "Removed 121 sources lower than SNR of 25.0\n"
     ]
    },
    {
     "name": "stderr",
     "output_type": "stream",
     "text": [
      "/opt/anaconda3/envs/autophot/lib/python3.7/site-packages/matplotlib/backends/backend_pdf.py:1649: DeprecationWarning: NONE is deprecated and will be removed in Pillow 10 (2023-07-01). Use Resampling.NEAREST or Dither.NONE instead.\n",
      "  img = img.convert(mode='P', dither=Image.NONE,\n",
      "/opt/anaconda3/envs/autophot/lib/python3.7/site-packages/matplotlib/backends/backend_pdf.py:1650: DeprecationWarning: ADAPTIVE is deprecated and will be removed in Pillow 10 (2023-07-01). Use Palette.ADAPTIVE instead.\n",
      "  palette=Image.ADAPTIVE, colors=num_colors)\n",
      "Approx. catalog limiting magnitude: 18.693 [ mag ]\n",
      "Target photometry on original image\n",
      "/opt/anaconda3/envs/autophot/lib/python3.7/site-packages/matplotlib/backends/backend_pdf.py:1649: DeprecationWarning: NONE is deprecated and will be removed in Pillow 10 (2023-07-01). Use Resampling.NEAREST or Dither.NONE instead.\n",
      "  img = img.convert(mode='P', dither=Image.NONE,\n",
      "/opt/anaconda3/envs/autophot/lib/python3.7/site-packages/matplotlib/backends/backend_pdf.py:1650: DeprecationWarning: ADAPTIVE is deprecated and will be removed in Pillow 10 (2023-07-01). Use Palette.ADAPTIVE instead.\n",
      "  palette=Image.ADAPTIVE, colors=num_colors)\n",
      "Approximate Target SNR: 32.6\n",
      "SNR = 33 - skipping limiting magnitude\n",
      "Pixel Offset: 0.000\n",
      "Limiting Magnitude: skipped\n",
      "Target Detection probability: 100 %\n",
      "Target flux: 749.910 +/- 0.000 [counts/s]\n",
      "Noise: 542.539 [counts/s]\n"
     ]
    },
    {
     "name": "stdout",
     "output_type": "stream",
     "text": [
      "\n",
      "+-----------------------------------+\n",
      "|Doing Aperture Photometry on Target|\n",
      "+-----------------------------------+\n",
      "\n"
     ]
    },
    {
     "name": "stderr",
     "output_type": "stream",
     "text": [
      "Target SNR: 32.564 +/- 0.033\n",
      "Instrumental Magnitude: -7.188 +/- 0.000\n",
      "Zeropoint: 25.674 +/- 0.051\n",
      "Target Magnitude: 18.451 +/- 0.064 \n",
      "\n",
      "*** Transient well detected ***\n",
      "\n",
      "Time Taken [ 9729 ]: 33s\n",
      "Sucess: r1645970redCCD4_APT.fits :: PID 9729 \n",
      "\n",
      "File: r1645971redCCD4_APT.fits - PID: 9729\n",
      "Start Time: 2022-12-16 12:02:02.675989\n",
      "Filter keyoward used: WFFBAND\n",
      "Telescope: INT\n",
      "Filter: r\n",
      "MJD: 59926.969\n",
      "Date of Observation : 2022-12-13\n",
      "Read Noise: 5.8 [e^- /pixel]\n",
      "GAIN: 2.9 [e^- /count]\n",
      "Exposure time: 20 [s] \n",
      "Detecting/removing cosmic ray sources\n"
     ]
    },
    {
     "name": "stdout",
     "output_type": "stream",
     "text": [
      "\n",
      "+-----------+\n",
      "|File: 3 / 3|\n",
      "+-----------+\n",
      "\n",
      "Starting Astroscrappy ... "
     ]
    },
    {
     "name": "stderr",
     "output_type": "stream",
     "text": [
      "Contaminated pixels with Cosmic rays removed: 27644\n",
      "Cosmic rays removed - image updated\n",
      "WARNING: FITSFixedWarning: RADECSYS= 'FK5 ' / mean place new (after the 1976 IAU) system \n",
      "the RADECSYS keyword is deprecated, use RADESYSa. [astropy.wcs.wcs]\n",
      "FITSFixedWarning: RADECSYS= 'FK5 ' / mean place new (after the 1976 IAU) system \n",
      "the RADECSYS keyword is deprecated, use RADESYSa.\n",
      "WARNING: FITSFixedWarning: PROJP1 = 1.00000000 / Projection coefficient for primary WCS \n",
      "the PROJPn keyword is deprecated, use PVi_ma. [astropy.wcs.wcs]\n",
      "FITSFixedWarning: PROJP1 = 1.00000000 / Projection coefficient for primary WCS \n",
      "the PROJPn keyword is deprecated, use PVi_ma.\n",
      "WARNING: FITSFixedWarning: PROJP3 = 0.00000000 / Projection coefficient for primary WCS \n",
      "the PROJPn keyword is deprecated, use PVi_ma. [astropy.wcs.wcs]\n",
      "FITSFixedWarning: PROJP3 = 0.00000000 / Projection coefficient for primary WCS \n",
      "the PROJPn keyword is deprecated, use PVi_ma.\n",
      "WARNING: FITSFixedWarning: 'datfix' made the change 'Invalid parameter values: MJD-OBS and DATE-OBS are inconsistent.\n",
      "Changed DATE-OBS from '2022-12-13        ' to '2022-12-13T00:00:00.0''. [astropy.wcs.wcs]\n",
      "FITSFixedWarning: 'datfix' made the change 'Invalid parameter values: MJD-OBS and DATE-OBS are inconsistent.\n",
      "Changed DATE-OBS from '2022-12-13        ' to '2022-12-13T00:00:00.0''.\n",
      "\n",
      "Performing Astrometry.net\n",
      "Removing any pre-existing WCS keys \n",
      "No WCS values found - attempting to solve field\n",
      "ASTROMETRY started...\n",
      "ASTROMETRY finished: 3s\n",
      "Updating WCS keys with new values\n",
      "WCS saved to new file\n",
      "\n",
      "Searching for FWHM\n",
      "Using Gaussian Profile for fitting\n"
     ]
    },
    {
     "name": "stdout",
     "output_type": "stream",
     "text": [
      "\n",
      "+-------------------------------+\n",
      "|Finding Full Width Half Maximum|\n",
      "+-------------------------------+\n",
      "\n"
     ]
    },
    {
     "name": "stderr",
     "output_type": "stream",
     "text": [
      "\n",
      "Number of sources before cleaning [ 25.0 sigma ]: 25 \n",
      "Updating search FWHM value\n"
     ]
    },
    {
     "name": "stdout",
     "output_type": "stream",
     "text": [
      "Updated guess for FWHM: 5.1 pixels \n"
     ]
    },
    {
     "name": "stderr",
     "output_type": "stream",
     "text": [
      "\n",
      "Number of sources before cleaning [ 25.0 sigma ]: 90 \n",
      "Removed 4 crowded sources\n"
     ]
    },
    {
     "name": "stdout",
     "output_type": "stream",
     "text": [
      "Fitting source for FWHM: 86/86     "
     ]
    },
    {
     "name": "stderr",
     "output_type": "stream",
     "text": [
      "Removed 13 saturated sources\n",
      "WARNING: Input data contains invalid values (NaNs or infs), which were automatically clipped. [astropy.stats.sigma_clipping]\n",
      "Input data contains invalid values (NaNs or infs), which were automatically clipped.\n",
      "Removed 17 FWHM outliers\n",
      "WARNING: Input data contains invalid values (NaNs or infs), which were automatically clipped. [astropy.stats.sigma_clipping]\n",
      "Input data contains invalid values (NaNs or infs), which were automatically clipped.\n",
      "Removed 34 median outliers\n",
      "Useable sources found [ 25 sigma ]: 86\n",
      "Removes 4 sources within minimum seperation [ 24 pixel ]\n",
      "\n",
      "FWHM: 5.009 +/- 0.215 [ pixels ]\n",
      "\n",
      "Seeing: 1.660 [ arcsec ]\n",
      "Aperture size: 8.5 pixels\n",
      "Aperture correction: -0.029 +/- 0.012 [ mag ]\n",
      "WARNING: FITSFixedWarning: 'datfix' made the change 'Invalid parameter values: MJD-OBS and DATE-OBS are inconsistent.\n",
      "Changed DATE-OBS from '2022-12-13        ' to '2022-12-13T00:00:00.0''. [astropy.wcs.wcs]\n",
      "FITSFixedWarning: 'datfix' made the change 'Invalid parameter values: MJD-OBS and DATE-OBS are inconsistent.\n",
      "Changed DATE-OBS from '2022-12-13        ' to '2022-12-13T00:00:00.0''.\n",
      "Catalog found for target_ra_58_dec_-11\n",
      "Catalog: PAN_STARRS \n",
      "File: target_ra_58_dec_-11_r_0.25\n",
      "Catalog length: 6863\n",
      "Removed 2923 sources fainter than cutoff [20 mag]\n",
      "Using Gaussian Profile for fitting\n",
      "Catalog Length: 222\n"
     ]
    },
    {
     "name": "stdout",
     "output_type": "stream",
     "text": [
      "\n",
      "+----------------------------------------------+\n",
      "|Searching for catalog for target_ra_58_dec_-11|\n",
      "+----------------------------------------------+\n",
      "\n",
      "\n",
      "+---------------------------------+\n",
      "|Matching catalog sources to image|\n",
      "+---------------------------------+\n",
      "\n",
      "Removed 1 sources too close to target\n",
      "Removed 449 sources too close to boundary or off image\n",
      "Matching catalog to image: 204 / 222 :: Useful sources 138 / 222 "
     ]
    },
    {
     "name": "stderr",
     "output_type": "stream",
     "text": [
      "\n",
      "Median offset: 3.6 [ pixels ] / 1.2 [ arcsec ]\n",
      "Residual table updated: 1 / 10 \n",
      "\tSNR: 418 :: FWHM fitted 4.971\n"
     ]
    },
    {
     "name": "stdout",
     "output_type": "stream",
     "text": [
      "\r",
      "Matching catalog to image: 205 / 222 :: Useful sources 139 / 222 \r",
      "Matching catalog to image: 206 / 222 :: Useful sources 140 / 222 \r",
      "Matching catalog to image: 207 / 222 :: Useful sources 140 / 222 \r",
      "Matching catalog to image: 208 / 222 :: Useful sources 140 / 222 \r",
      "Matching catalog to image: 209 / 222 :: Useful sources 140 / 222 \r",
      "Matching catalog to image: 210 / 222 :: Useful sources 140 / 222 \r",
      "Matching catalog to image: 211 / 222 :: Useful sources 140 / 222 \r",
      "Matching catalog to image: 212 / 222 :: Useful sources 140 / 222 \r",
      "Matching catalog to image: 213 / 222 :: Useful sources 141 / 222 \r",
      "Matching catalog to image: 214 / 222 :: Useful sources 142 / 222 \r",
      "Matching catalog to image: 215 / 222 :: Useful sources 143 / 222 \r",
      "Matching catalog to image: 216 / 222 :: Useful sources 143 / 222 \r",
      "Matching catalog to image: 217 / 222 :: Useful sources 144 / 222 \r",
      "Matching catalog to image: 218 / 222 :: Useful sources 144 / 222 \r",
      "Matching catalog to image: 219 / 222 :: Useful sources 144 / 222 \r",
      "Matching catalog to image: 220 / 222 :: Useful sources 144 / 222 \r",
      "Matching catalog to image: 221 / 222 :: Useful sources 144 / 222 \r",
      "Matching catalog to image: 222 / 222 :: Useful sources 144 / 222   .. done\n",
      "\n",
      "Broken cutouts: 0\n",
      "Not in correct location: 0\n",
      "Not detected: 53\n",
      "Saturated: 26\n",
      "Error: 0\n",
      "\n",
      "\n",
      "+-------------------------------------------+\n",
      "|Building PSF model using stars in the field|\n",
      "+-------------------------------------------+\n",
      "\n"
     ]
    },
    {
     "name": "stderr",
     "output_type": "stream",
     "text": [
      "Residual table updated: 2 / 10 \n",
      "\tSNR: 372 :: FWHM fitted 4.982\n",
      "Residual table updated: 3 / 10 \n",
      "\tSNR: 366 :: FWHM fitted 4.969\n",
      "Residual table updated: 4 / 10 \n",
      "\tSNR: 348 :: FWHM fitted 5.124\n",
      "Residual table updated: 5 / 10 \n",
      "\tSNR: 338 :: FWHM fitted 5.188\n",
      "Residual table updated: 6 / 10 \n",
      "\tSNR: 334 :: FWHM fitted 5.144\n",
      "Residual table updated: 7 / 10 \n",
      "\tSNR: 326 :: FWHM fitted 5.126\n",
      "Residual table updated: 8 / 10 \n",
      "\tSNR: 316 :: FWHM fitted 4.842\n",
      "Residual table updated: 9 / 10 \n",
      "\tSNR: 264 :: FWHM fitted 5.066\n",
      "Residual table updated: 10 / 10 \n",
      "\tSNR: 251 :: FWHM fitted 5.078\n",
      "\n",
      "PSF built using 10 sources\n",
      "\n",
      "Unity PSF: 30.2 [counts] \n",
      "Unity Residual table: 2.2 [counts] \n",
      "Using Aperture Photometry on sequence Stars \n",
      "No PSF sources fitted\n",
      "WARNING: Input data contains invalid values (NaNs or infs), which were automatically clipped. [astropy.stats.sigma_clipping]\n",
      "Input data contains invalid values (NaNs or infs), which were automatically clipped.\n",
      "\n",
      "Mean r-band zeropoint: 25.996 +/- 0.032 \n",
      "\n"
     ]
    },
    {
     "name": "stdout",
     "output_type": "stream",
     "text": [
      "PSF model saved as: /Users/terwelj/Documents/VirtualMachine/Observing_ING/autophot/test/at2022acru_REDUCED/r1645971redCCD4/PSF_model_r1645971redCCD4_APT.fits\n",
      "\n",
      "+-------------------+\n",
      "|Measuring PSF model|\n",
      "+-------------------+\n",
      "\n",
      "\n",
      "+-----------------------+\n",
      "|Finding Zeropoint value|\n",
      "+-----------------------+\n",
      "\n",
      "Checking for suitable catalog sources\n",
      "Removed 118 sources lower than SNR of 25.0\n"
     ]
    },
    {
     "name": "stderr",
     "output_type": "stream",
     "text": [
      "/opt/anaconda3/envs/autophot/lib/python3.7/site-packages/matplotlib/backends/backend_pdf.py:1649: DeprecationWarning: NONE is deprecated and will be removed in Pillow 10 (2023-07-01). Use Resampling.NEAREST or Dither.NONE instead.\n",
      "  img = img.convert(mode='P', dither=Image.NONE,\n",
      "/opt/anaconda3/envs/autophot/lib/python3.7/site-packages/matplotlib/backends/backend_pdf.py:1650: DeprecationWarning: ADAPTIVE is deprecated and will be removed in Pillow 10 (2023-07-01). Use Palette.ADAPTIVE instead.\n",
      "  palette=Image.ADAPTIVE, colors=num_colors)\n",
      "Approx. catalog limiting magnitude: 19.474 [ mag ]\n",
      "Target photometry on original image\n"
     ]
    },
    {
     "name": "stdout",
     "output_type": "stream",
     "text": [
      "\n",
      "+-----------------------------------+\n",
      "|Doing Aperture Photometry on Target|\n",
      "+-----------------------------------+\n",
      "\n"
     ]
    },
    {
     "name": "stderr",
     "output_type": "stream",
     "text": [
      "/opt/anaconda3/envs/autophot/lib/python3.7/site-packages/matplotlib/backends/backend_pdf.py:1649: DeprecationWarning: NONE is deprecated and will be removed in Pillow 10 (2023-07-01). Use Resampling.NEAREST or Dither.NONE instead.\n",
      "  img = img.convert(mode='P', dither=Image.NONE,\n",
      "/opt/anaconda3/envs/autophot/lib/python3.7/site-packages/matplotlib/backends/backend_pdf.py:1650: DeprecationWarning: ADAPTIVE is deprecated and will be removed in Pillow 10 (2023-07-01). Use Palette.ADAPTIVE instead.\n",
      "  palette=Image.ADAPTIVE, colors=num_colors)\n",
      "Approximate Target SNR: 76.3\n",
      "SNR = 76 - skipping limiting magnitude\n",
      "Pixel Offset: 0.000\n",
      "Limiting Magnitude: skipped\n",
      "Target Detection probability: 100 %\n",
      "Target flux: 1494.085 +/- 0.000 [counts/s]\n",
      "Noise: 361.419 [counts/s]\n",
      "Target SNR: 76.331 +/- 0.014\n",
      "Instrumental Magnitude: -7.936 +/- 0.000\n",
      "Zeropoint: 25.996 +/- 0.032\n",
      "Target Magnitude: 18.031 +/- 0.037 \n",
      "\n",
      "*** Transient well detected ***\n",
      "\n",
      "Time Taken [ 9729 ]: 44s\n",
      "Sucess: r1645971redCCD4_APT.fits :: PID 9729 \n",
      "\n",
      "\n",
      "User instrument database: /Users/terwelj/Documents/VirtualMachine/Observing_ING/autophot/telescope.yml\n",
      "\n",
      "Number of files: 3\n",
      "\n",
      "1 telescope(s) detected - checking header keywords\n",
      "\n"
     ]
    },
    {
     "name": "stdout",
     "output_type": "stream",
     "text": [
      "\n",
      "---\n",
      "\n",
      "Files that failed : []\n",
      "\n",
      "DONE\n",
      "\n",
      "Done - Time Taken: 129.8\n",
      "\n",
      "        _       _       ___ _  _    _____\n",
      "       /_\\ _  _| |_ ___| _ \\ || |__|_   _|\n",
      "      / _ \\ || |  _/ _ \\  _/ __ / _ \\| |\n",
      "     /_/ \\_\\_,_|\\__\\___/_| |_||_\\___/|_|\n",
      "    \n",
      "     ---------------------------------------\n",
      "        Automated Photometry of Transients\n",
      "        S. J. Brennan et al. 2021 \n",
      "        Please provide feedback/bugs to:\n",
      "        Email: sean.brennan2@ucdconnect.ie\n",
      "    ---------------------------------------\n",
      "Directory of fits file: /Users/terwelj/Documents/VirtualMachine/Observing_ING/autophot/test/at2022acpz\n",
      "Found Telescopes:\n",
      "\n",
      " - INT\n",
      "\n",
      "-> Telescope check complete\n",
      "\n",
      "Checking Filter keywords and database\n",
      "\n",
      "-> Filter check complete\n",
      "\n",
      "Checking Filter information for each image\n"
     ]
    },
    {
     "name": "stderr",
     "output_type": "stream",
     "text": [
      "File: r1645973redCCD4_APT.fits - PID: 9729\n",
      "Start Time: 2022-12-16 12:02:47.009115\n",
      "Filter keyoward used: WFFBAND\n",
      "Telescope: INT\n",
      "Filter: g\n",
      "MJD: 59926.971\n",
      "Date of Observation : 2022-12-13\n",
      "Read Noise: 5.8 [e^- /pixel]\n",
      "GAIN: 2.9 [e^- /count]\n",
      "Exposure time: 20 [s] \n",
      "Detecting/removing cosmic ray sources\n"
     ]
    },
    {
     "name": "stdout",
     "output_type": "stream",
     "text": [
      "\n",
      "Files removed - Wrong Image Type: 0\n",
      "\n",
      "Files removed - No/Wrong filter(s): 0\n",
      "Filters not included: []\n",
      "\n",
      "\n",
      "Files removed: 0\n",
      "\n",
      "+-----------+\n",
      "|File: 1 / 3|\n",
      "+-----------+\n",
      "\n",
      "Starting Astroscrappy ... "
     ]
    },
    {
     "name": "stderr",
     "output_type": "stream",
     "text": [
      "Contaminated pixels with Cosmic rays removed: 32775\n",
      "Cosmic rays removed - image updated\n",
      "WARNING: FITSFixedWarning: RADECSYS= 'FK5 ' / mean place new (after the 1976 IAU) system \n",
      "the RADECSYS keyword is deprecated, use RADESYSa. [astropy.wcs.wcs]\n",
      "FITSFixedWarning: RADECSYS= 'FK5 ' / mean place new (after the 1976 IAU) system \n",
      "the RADECSYS keyword is deprecated, use RADESYSa.\n",
      "WARNING: FITSFixedWarning: PROJP1 = 1.00000000 / Projection coefficient for primary WCS \n",
      "the PROJPn keyword is deprecated, use PVi_ma. [astropy.wcs.wcs]\n",
      "FITSFixedWarning: PROJP1 = 1.00000000 / Projection coefficient for primary WCS \n",
      "the PROJPn keyword is deprecated, use PVi_ma.\n",
      "WARNING: FITSFixedWarning: PROJP3 = 0.00000000 / Projection coefficient for primary WCS \n",
      "the PROJPn keyword is deprecated, use PVi_ma. [astropy.wcs.wcs]\n",
      "FITSFixedWarning: PROJP3 = 0.00000000 / Projection coefficient for primary WCS \n",
      "the PROJPn keyword is deprecated, use PVi_ma.\n",
      "WARNING: FITSFixedWarning: 'datfix' made the change 'Invalid parameter values: MJD-OBS and DATE-OBS are inconsistent.\n",
      "Changed DATE-OBS from '2022-12-13        ' to '2022-12-13T00:00:00.0''. [astropy.wcs.wcs]\n",
      "FITSFixedWarning: 'datfix' made the change 'Invalid parameter values: MJD-OBS and DATE-OBS are inconsistent.\n",
      "Changed DATE-OBS from '2022-12-13        ' to '2022-12-13T00:00:00.0''.\n",
      "\n",
      "Performing Astrometry.net\n",
      "Removing any pre-existing WCS keys \n",
      "No WCS values found - attempting to solve field\n",
      "ASTROMETRY started...\n",
      "ASTROMETRY finished: 3s\n",
      "Updating WCS keys with new values\n",
      "WCS saved to new file\n",
      "\n",
      "Searching for FWHM\n",
      "Using Gaussian Profile for fitting\n"
     ]
    },
    {
     "name": "stdout",
     "output_type": "stream",
     "text": [
      "\n",
      "+-------------------------------+\n",
      "|Finding Full Width Half Maximum|\n",
      "+-------------------------------+\n",
      "\n"
     ]
    },
    {
     "name": "stderr",
     "output_type": "stream",
     "text": [
      "\n",
      "Number of sources before cleaning [ 25.0 sigma ]: 25 \n",
      "Updating search FWHM value\n"
     ]
    },
    {
     "name": "stdout",
     "output_type": "stream",
     "text": [
      "Updated guess for FWHM: 6.1 pixels \n"
     ]
    },
    {
     "name": "stderr",
     "output_type": "stream",
     "text": [
      "\n",
      "Number of sources before cleaning [ 25.0 sigma ]: 77 \n",
      "Removed 1 sources near boundary\n",
      "Removed 7 crowded sources\n"
     ]
    },
    {
     "name": "stdout",
     "output_type": "stream",
     "text": [
      "Fitting source for FWHM: 69/69   "
     ]
    },
    {
     "name": "stderr",
     "output_type": "stream",
     "text": [
      "Removed 3 saturated sources\n",
      "WARNING: Input data contains invalid values (NaNs or infs), which were automatically clipped. [astropy.stats.sigma_clipping]\n",
      "Input data contains invalid values (NaNs or infs), which were automatically clipped.\n",
      "Removed 7 FWHM outliers\n",
      "WARNING: Input data contains invalid values (NaNs or infs), which were automatically clipped. [astropy.stats.sigma_clipping]\n",
      "Input data contains invalid values (NaNs or infs), which were automatically clipped.\n",
      "Removed 15 median outliers\n",
      "Useable sources found [ 25 sigma ]: 69\n",
      "Removes 2 sources within minimum seperation [ 28 pixel ]\n",
      "\n",
      "FWHM: 5.620 +/- 0.152 [ pixels ]\n",
      "\n",
      "Seeing: 1.866 [ arcsec ]\n",
      "Aperture size: 9.6 pixels\n",
      "Aperture correction: -0.026 +/- 0.012 [ mag ]\n"
     ]
    },
    {
     "name": "stdout",
     "output_type": "stream",
     "text": [
      "\n",
      "+----------------------------------------------+\n",
      "|Searching for catalog for target_ra_58_dec_-12|\n",
      "+----------------------------------------------+\n",
      "\n"
     ]
    },
    {
     "name": "stderr",
     "output_type": "stream",
     "text": [
      "WARNING: FITSFixedWarning: 'datfix' made the change 'Invalid parameter values: MJD-OBS and DATE-OBS are inconsistent.\n",
      "Changed DATE-OBS from '2022-12-13        ' to '2022-12-13T00:00:00.0''. [astropy.wcs.wcs]\n",
      "FITSFixedWarning: 'datfix' made the change 'Invalid parameter values: MJD-OBS and DATE-OBS are inconsistent.\n",
      "Changed DATE-OBS from '2022-12-13        ' to '2022-12-13T00:00:00.0''.\n",
      "Catalog found for target_ra_58_dec_-12\n",
      "Catalog: PAN_STARRS \n",
      "File: target_ra_58_dec_-12_r_0.25\n",
      "Catalog length: 7256\n",
      "Removed 2176 sources fainter than cutoff [20 mag]\n",
      "Using Gaussian Profile for fitting\n",
      "Catalog Length: 155\n"
     ]
    },
    {
     "name": "stdout",
     "output_type": "stream",
     "text": [
      "\n",
      "+---------------------------------+\n",
      "|Matching catalog sources to image|\n",
      "+---------------------------------+\n",
      "\n",
      "Removed 1 sources too close to target\n",
      "Removed 279 sources too close to boundary or off image\n",
      "Matching catalog to image: 153 / 155 :: Useful sources 107 / 155 "
     ]
    },
    {
     "name": "stderr",
     "output_type": "stream",
     "text": [
      "\n",
      "Median offset: 2.5 [ pixels ] / 0.8 [ arcsec ]\n",
      "Residual table updated: 1 / 10 \n",
      "\tSNR: 564 :: FWHM fitted 5.550\n",
      "Residual table updated: 2 / 10 \n",
      "\tSNR: 555 :: FWHM fitted 5.458\n"
     ]
    },
    {
     "name": "stdout",
     "output_type": "stream",
     "text": [
      "\r",
      "Matching catalog to image: 154 / 155 :: Useful sources 108 / 155 \r",
      "Matching catalog to image: 155 / 155 :: Useful sources 109 / 155   .. done\n",
      "\n",
      "Broken cutouts: 0\n",
      "Not in correct location: 0\n",
      "Not detected: 33\n",
      "Saturated: 14\n",
      "Error: 0\n",
      "\n",
      "\n",
      "+-------------------------------------------+\n",
      "|Building PSF model using stars in the field|\n",
      "+-------------------------------------------+\n",
      "\n"
     ]
    },
    {
     "name": "stderr",
     "output_type": "stream",
     "text": [
      "Residual table updated: 3 / 10 \n",
      "\tSNR: 516 :: FWHM fitted 5.520\n",
      "Residual table updated: 4 / 10 \n",
      "\tSNR: 485 :: FWHM fitted 5.475\n",
      "Residual table updated: 5 / 10 \n",
      "\tSNR: 441 :: FWHM fitted 5.567\n",
      "Residual table updated: 6 / 10 \n",
      "\tSNR: 426 :: FWHM fitted 5.477\n",
      "Residual table updated: 7 / 10 \n",
      "\tSNR: 358 :: FWHM fitted 5.470\n",
      "Residual table updated: 8 / 10 \n",
      "\tSNR: 353 :: FWHM fitted 5.586\n",
      "Residual table updated: 9 / 10 \n",
      "\tSNR: 346 :: FWHM fitted 5.596\n",
      "Residual table updated: 10 / 10 \n",
      "\tSNR: 338 :: FWHM fitted 5.682\n",
      "\n",
      "PSF built using 10 sources\n",
      "\n",
      "Unity PSF: 37.4 [counts] \n",
      "Unity Residual table: 1.9 [counts] \n",
      "Using Aperture Photometry on sequence Stars \n",
      "No PSF sources fitted\n",
      "WARNING: Input data contains invalid values (NaNs or infs), which were automatically clipped. [astropy.stats.sigma_clipping]\n",
      "Input data contains invalid values (NaNs or infs), which were automatically clipped.\n",
      "\n",
      "Mean g-band zeropoint: 26.160 +/- 0.024 \n",
      "\n"
     ]
    },
    {
     "name": "stdout",
     "output_type": "stream",
     "text": [
      "PSF model saved as: /Users/terwelj/Documents/VirtualMachine/Observing_ING/autophot/test/at2022acpz_REDUCED/r1645973redCCD4/PSF_model_r1645973redCCD4_APT.fits\n",
      "\n",
      "+-------------------+\n",
      "|Measuring PSF model|\n",
      "+-------------------+\n",
      "\n",
      "\n",
      "+-----------------------+\n",
      "|Finding Zeropoint value|\n",
      "+-----------------------+\n",
      "\n",
      "Checking for suitable catalog sources\n",
      "Removed 97 sources lower than SNR of 25.0\n"
     ]
    },
    {
     "name": "stderr",
     "output_type": "stream",
     "text": [
      "/opt/anaconda3/envs/autophot/lib/python3.7/site-packages/matplotlib/backends/backend_pdf.py:1649: DeprecationWarning: NONE is deprecated and will be removed in Pillow 10 (2023-07-01). Use Resampling.NEAREST or Dither.NONE instead.\n",
      "  img = img.convert(mode='P', dither=Image.NONE,\n",
      "/opt/anaconda3/envs/autophot/lib/python3.7/site-packages/matplotlib/backends/backend_pdf.py:1650: DeprecationWarning: ADAPTIVE is deprecated and will be removed in Pillow 10 (2023-07-01). Use Palette.ADAPTIVE instead.\n",
      "  palette=Image.ADAPTIVE, colors=num_colors)\n",
      "Approx. catalog limiting magnitude: 19.816 [ mag ]\n",
      "Target photometry on original image\n"
     ]
    },
    {
     "name": "stdout",
     "output_type": "stream",
     "text": [
      "\n",
      "+-----------------------------------+\n",
      "|Doing Aperture Photometry on Target|\n",
      "+-----------------------------------+\n",
      "\n"
     ]
    },
    {
     "name": "stderr",
     "output_type": "stream",
     "text": [
      "/opt/anaconda3/envs/autophot/lib/python3.7/site-packages/matplotlib/backends/backend_pdf.py:1649: DeprecationWarning: NONE is deprecated and will be removed in Pillow 10 (2023-07-01). Use Resampling.NEAREST or Dither.NONE instead.\n",
      "  img = img.convert(mode='P', dither=Image.NONE,\n",
      "/opt/anaconda3/envs/autophot/lib/python3.7/site-packages/matplotlib/backends/backend_pdf.py:1650: DeprecationWarning: ADAPTIVE is deprecated and will be removed in Pillow 10 (2023-07-01). Use Palette.ADAPTIVE instead.\n",
      "  palette=Image.ADAPTIVE, colors=num_colors)\n",
      "Approximate Target SNR: 34.5\n",
      "SNR = 34 - skipping limiting magnitude\n",
      "Pixel Offset: 0.000\n",
      "Limiting Magnitude: skipped\n",
      "Target Detection probability: 100 %\n",
      "Target flux: 613.708 +/- 0.000 [counts/s]\n",
      "Noise: 407.441 [counts/s]\n",
      "Target SNR: 34.499 +/- 0.031\n",
      "Instrumental Magnitude: -6.970 +/- 0.000\n",
      "Zeropoint: 26.160 +/- 0.024\n",
      "Target Magnitude: 19.164 +/- 0.041 \n",
      "\n",
      "*** Transient well detected ***\n",
      "\n",
      "Time Taken [ 9729 ]: 30s\n",
      "Sucess: r1645973redCCD4_APT.fits :: PID 9729 \n",
      "\n",
      "File: r1645974redCCD4_APT.fits - PID: 9729\n",
      "Start Time: 2022-12-16 12:03:17.718205\n",
      "Filter keyoward used: WFFBAND\n",
      "Telescope: INT\n",
      "Filter: i\n",
      "MJD: 59926.973\n",
      "Date of Observation : 2022-12-13\n",
      "Read Noise: 5.8 [e^- /pixel]\n",
      "GAIN: 2.9 [e^- /count]\n",
      "Exposure time: 20 [s] \n",
      "Detecting/removing cosmic ray sources\n"
     ]
    },
    {
     "name": "stdout",
     "output_type": "stream",
     "text": [
      "\n",
      "+-----------+\n",
      "|File: 2 / 3|\n",
      "+-----------+\n",
      "\n",
      "Starting Astroscrappy ... "
     ]
    },
    {
     "name": "stderr",
     "output_type": "stream",
     "text": [
      "Contaminated pixels with Cosmic rays removed: 27963\n",
      "Cosmic rays removed - image updated\n",
      "WARNING: FITSFixedWarning: RADECSYS= 'FK5 ' / mean place new (after the 1976 IAU) system \n",
      "the RADECSYS keyword is deprecated, use RADESYSa. [astropy.wcs.wcs]\n",
      "FITSFixedWarning: RADECSYS= 'FK5 ' / mean place new (after the 1976 IAU) system \n",
      "the RADECSYS keyword is deprecated, use RADESYSa.\n",
      "WARNING: FITSFixedWarning: PROJP1 = 1.00000000 / Projection coefficient for primary WCS \n",
      "the PROJPn keyword is deprecated, use PVi_ma. [astropy.wcs.wcs]\n",
      "FITSFixedWarning: PROJP1 = 1.00000000 / Projection coefficient for primary WCS \n",
      "the PROJPn keyword is deprecated, use PVi_ma.\n",
      "WARNING: FITSFixedWarning: PROJP3 = 0.00000000 / Projection coefficient for primary WCS \n",
      "the PROJPn keyword is deprecated, use PVi_ma. [astropy.wcs.wcs]\n",
      "FITSFixedWarning: PROJP3 = 0.00000000 / Projection coefficient for primary WCS \n",
      "the PROJPn keyword is deprecated, use PVi_ma.\n",
      "WARNING: FITSFixedWarning: 'datfix' made the change 'Invalid parameter values: MJD-OBS and DATE-OBS are inconsistent.\n",
      "Changed DATE-OBS from '2022-12-13        ' to '2022-12-13T00:00:00.0''. [astropy.wcs.wcs]\n",
      "FITSFixedWarning: 'datfix' made the change 'Invalid parameter values: MJD-OBS and DATE-OBS are inconsistent.\n",
      "Changed DATE-OBS from '2022-12-13        ' to '2022-12-13T00:00:00.0''.\n",
      "\n",
      "Performing Astrometry.net\n",
      "Removing any pre-existing WCS keys \n",
      "No WCS values found - attempting to solve field\n",
      "ASTROMETRY started...\n",
      "ASTROMETRY finished: 3s\n",
      "Updating WCS keys with new values\n",
      "WCS saved to new file\n",
      "\n",
      "Searching for FWHM\n",
      "Using Gaussian Profile for fitting\n"
     ]
    },
    {
     "name": "stdout",
     "output_type": "stream",
     "text": [
      "\n",
      "+-------------------------------+\n",
      "|Finding Full Width Half Maximum|\n",
      "+-------------------------------+\n",
      "\n"
     ]
    },
    {
     "name": "stderr",
     "output_type": "stream",
     "text": [
      "\n",
      "Number of sources before cleaning [ 25.0 sigma ]: 25 \n",
      "Updating search FWHM value\n"
     ]
    },
    {
     "name": "stdout",
     "output_type": "stream",
     "text": [
      "Updated guess for FWHM: 5.6 pixels \n"
     ]
    },
    {
     "name": "stderr",
     "output_type": "stream",
     "text": [
      "\n",
      "Number of sources before cleaning [ 25.0 sigma ]: 89 \n",
      "Removed 3 sources near boundary\n",
      "Removed 6 crowded sources\n"
     ]
    },
    {
     "name": "stdout",
     "output_type": "stream",
     "text": [
      "Fitting source for FWHM: 80/80 "
     ]
    },
    {
     "name": "stderr",
     "output_type": "stream",
     "text": [
      "Removed 3 saturated sources\n",
      "WARNING: Input data contains invalid values (NaNs or infs), which were automatically clipped. [astropy.stats.sigma_clipping]\n",
      "Input data contains invalid values (NaNs or infs), which were automatically clipped.\n",
      "Removed 15 FWHM outliers\n",
      "WARNING: Input data contains invalid values (NaNs or infs), which were automatically clipped. [astropy.stats.sigma_clipping]\n",
      "Input data contains invalid values (NaNs or infs), which were automatically clipped.\n",
      "Removed 8 median outliers\n",
      "Useable sources found [ 25 sigma ]: 80\n",
      "Removes 4 sources within minimum seperation [ 26 pixel ]\n",
      "\n",
      "FWHM: 5.417 +/- 0.166 [ pixels ]\n",
      "\n",
      "Seeing: 1.794 [ arcsec ]\n",
      "Aperture size: 9.2 pixels\n",
      "Aperture correction: -0.047 +/- 0.017 [ mag ]\n",
      "WARNING: FITSFixedWarning: 'datfix' made the change 'Invalid parameter values: MJD-OBS and DATE-OBS are inconsistent.\n",
      "Changed DATE-OBS from '2022-12-13        ' to '2022-12-13T00:00:00.0''. [astropy.wcs.wcs]\n",
      "FITSFixedWarning: 'datfix' made the change 'Invalid parameter values: MJD-OBS and DATE-OBS are inconsistent.\n",
      "Changed DATE-OBS from '2022-12-13        ' to '2022-12-13T00:00:00.0''.\n",
      "Catalog found for target_ra_58_dec_-12\n",
      "Catalog: PAN_STARRS \n",
      "File: target_ra_58_dec_-12_r_0.25\n",
      "Catalog length: 7256\n",
      "Removed 4261 sources fainter than cutoff [20 mag]\n",
      "Using Gaussian Profile for fitting\n",
      "Catalog Length: 318\n"
     ]
    },
    {
     "name": "stdout",
     "output_type": "stream",
     "text": [
      "\n",
      "+----------------------------------------------+\n",
      "|Searching for catalog for target_ra_58_dec_-12|\n",
      "+----------------------------------------------+\n",
      "\n",
      "\n",
      "+---------------------------------+\n",
      "|Matching catalog sources to image|\n",
      "+---------------------------------+\n",
      "\n",
      "Removed 1 sources too close to target\n",
      "Removed 616 sources too close to boundary or off image\n",
      "Matching catalog to image: 311 / 318 :: Useful sources 196 / 318 "
     ]
    },
    {
     "name": "stderr",
     "output_type": "stream",
     "text": [
      "\n",
      "Median offset: 3.2 [ pixels ] / 1.0 [ arcsec ]\n",
      "Residual table updated: 1 / 10 \n",
      "\tSNR: 868 :: FWHM fitted 5.377\n"
     ]
    },
    {
     "name": "stdout",
     "output_type": "stream",
     "text": [
      "\r",
      "Matching catalog to image: 312 / 318 :: Useful sources 197 / 318 \r",
      "Matching catalog to image: 313 / 318 :: Useful sources 198 / 318 \r",
      "Matching catalog to image: 314 / 318 :: Useful sources 198 / 318 \r",
      "Matching catalog to image: 315 / 318 :: Useful sources 198 / 318 \r",
      "Matching catalog to image: 316 / 318 :: Useful sources 198 / 318 \r",
      "Matching catalog to image: 317 / 318 :: Useful sources 198 / 318 \r",
      "Matching catalog to image: 318 / 318 :: Useful sources 198 / 318   .. done\n",
      "\n",
      "Broken cutouts: 0\n",
      "Not in correct location: 0\n",
      "Not detected: 99\n",
      "Saturated: 22\n",
      "Error: 0\n",
      "\n",
      "\n",
      "+-------------------------------------------+\n",
      "|Building PSF model using stars in the field|\n",
      "+-------------------------------------------+\n",
      "\n"
     ]
    },
    {
     "name": "stderr",
     "output_type": "stream",
     "text": [
      "Residual table updated: 2 / 10 \n",
      "\tSNR: 745 :: FWHM fitted 5.381\n",
      "Residual table updated: 3 / 10 \n",
      "\tSNR: 592 :: FWHM fitted 5.422\n",
      "Residual table updated: 4 / 10 \n",
      "\tSNR: 587 :: FWHM fitted 5.351\n",
      "Residual table updated: 5 / 10 \n",
      "\tSNR: 531 :: FWHM fitted 5.425\n",
      "Residual table updated: 6 / 10 \n",
      "\tSNR: 521 :: FWHM fitted 5.428\n",
      "Residual table updated: 7 / 10 \n",
      "\tSNR: 517 :: FWHM fitted 5.498\n",
      "Residual table updated: 8 / 10 \n",
      "\tSNR: 511 :: FWHM fitted 5.371\n",
      "Residual table updated: 9 / 10 \n",
      "\tSNR: 507 :: FWHM fitted 5.330\n",
      "Residual table updated: 10 / 10 \n",
      "\tSNR: 481 :: FWHM fitted 5.367\n",
      "\n",
      "PSF built using 10 sources\n",
      "\n",
      "Unity PSF: 36.2 [counts] \n",
      "Unity Residual table: 3.3 [counts] \n",
      "Using Aperture Photometry on sequence Stars \n",
      "No PSF sources fitted\n",
      "WARNING: Input data contains invalid values (NaNs or infs), which were automatically clipped. [astropy.stats.sigma_clipping]\n",
      "Input data contains invalid values (NaNs or infs), which were automatically clipped.\n",
      "\n",
      "Mean i-band zeropoint: 25.648 +/- 0.039 \n",
      "\n"
     ]
    },
    {
     "name": "stdout",
     "output_type": "stream",
     "text": [
      "PSF model saved as: /Users/terwelj/Documents/VirtualMachine/Observing_ING/autophot/test/at2022acpz_REDUCED/r1645974redCCD4/PSF_model_r1645974redCCD4_APT.fits\n",
      "\n",
      "+-------------------+\n",
      "|Measuring PSF model|\n",
      "+-------------------+\n",
      "\n",
      "\n",
      "+-----------------------+\n",
      "|Finding Zeropoint value|\n",
      "+-----------------------+\n",
      "\n",
      "Checking for suitable catalog sources\n",
      "Removed 149 sources lower than SNR of 25.0\n"
     ]
    },
    {
     "name": "stderr",
     "output_type": "stream",
     "text": [
      "/opt/anaconda3/envs/autophot/lib/python3.7/site-packages/matplotlib/backends/backend_pdf.py:1649: DeprecationWarning: NONE is deprecated and will be removed in Pillow 10 (2023-07-01). Use Resampling.NEAREST or Dither.NONE instead.\n",
      "  img = img.convert(mode='P', dither=Image.NONE,\n",
      "/opt/anaconda3/envs/autophot/lib/python3.7/site-packages/matplotlib/backends/backend_pdf.py:1650: DeprecationWarning: ADAPTIVE is deprecated and will be removed in Pillow 10 (2023-07-01). Use Palette.ADAPTIVE instead.\n",
      "  palette=Image.ADAPTIVE, colors=num_colors)\n",
      "Approx. catalog limiting magnitude: 19.014 [ mag ]\n",
      "Target photometry on original image\n"
     ]
    },
    {
     "name": "stdout",
     "output_type": "stream",
     "text": [
      "\n",
      "+-----------------------------------+\n",
      "|Doing Aperture Photometry on Target|\n",
      "+-----------------------------------+\n",
      "\n"
     ]
    },
    {
     "name": "stderr",
     "output_type": "stream",
     "text": [
      "/opt/anaconda3/envs/autophot/lib/python3.7/site-packages/matplotlib/backends/backend_pdf.py:1649: DeprecationWarning: NONE is deprecated and will be removed in Pillow 10 (2023-07-01). Use Resampling.NEAREST or Dither.NONE instead.\n",
      "  img = img.convert(mode='P', dither=Image.NONE,\n",
      "/opt/anaconda3/envs/autophot/lib/python3.7/site-packages/matplotlib/backends/backend_pdf.py:1650: DeprecationWarning: ADAPTIVE is deprecated and will be removed in Pillow 10 (2023-07-01). Use Palette.ADAPTIVE instead.\n",
      "  palette=Image.ADAPTIVE, colors=num_colors)\n",
      "Approximate Target SNR: 14.0\n",
      "SNR = 14 - skipping limiting magnitude\n",
      "Pixel Offset: 0.000\n",
      "Limiting Magnitude: skipped\n",
      "Target Detection probability: 99 %\n",
      "Target flux: 299.972 +/- 0.000 [counts/s]\n",
      "Noise: 422.156 [counts/s]\n",
      "Target SNR: 13.990 +/- 0.075\n",
      "Instrumental Magnitude: -6.193 +/- 0.000\n",
      "Zeropoint: 25.648 +/- 0.039\n",
      "Target Magnitude: 19.408 +/- 0.086 \n",
      "\n",
      "*** Transient well detected ***\n",
      "\n",
      "Time Taken [ 9729 ]: 38s\n",
      "Sucess: r1645974redCCD4_APT.fits :: PID 9729 \n",
      "\n",
      "File: r1645972redCCD4_APT.fits - PID: 9729\n",
      "Start Time: 2022-12-16 12:03:56.370412\n",
      "Filter keyoward used: WFFBAND\n",
      "Telescope: INT\n",
      "Filter: r\n",
      "MJD: 59926.970\n",
      "Date of Observation : 2022-12-13\n",
      "Read Noise: 5.8 [e^- /pixel]\n",
      "GAIN: 2.9 [e^- /count]\n",
      "Exposure time: 20 [s] \n",
      "Detecting/removing cosmic ray sources\n"
     ]
    },
    {
     "name": "stdout",
     "output_type": "stream",
     "text": [
      "\n",
      "+-----------+\n",
      "|File: 3 / 3|\n",
      "+-----------+\n",
      "\n",
      "Starting Astroscrappy ... "
     ]
    },
    {
     "name": "stderr",
     "output_type": "stream",
     "text": [
      "Contaminated pixels with Cosmic rays removed: 27545\n",
      "Cosmic rays removed - image updated\n",
      "WARNING: FITSFixedWarning: RADECSYS= 'FK5 ' / mean place new (after the 1976 IAU) system \n",
      "the RADECSYS keyword is deprecated, use RADESYSa. [astropy.wcs.wcs]\n",
      "FITSFixedWarning: RADECSYS= 'FK5 ' / mean place new (after the 1976 IAU) system \n",
      "the RADECSYS keyword is deprecated, use RADESYSa.\n",
      "WARNING: FITSFixedWarning: PROJP1 = 1.00000000 / Projection coefficient for primary WCS \n",
      "the PROJPn keyword is deprecated, use PVi_ma. [astropy.wcs.wcs]\n",
      "FITSFixedWarning: PROJP1 = 1.00000000 / Projection coefficient for primary WCS \n",
      "the PROJPn keyword is deprecated, use PVi_ma.\n",
      "WARNING: FITSFixedWarning: PROJP3 = 0.00000000 / Projection coefficient for primary WCS \n",
      "the PROJPn keyword is deprecated, use PVi_ma. [astropy.wcs.wcs]\n",
      "FITSFixedWarning: PROJP3 = 0.00000000 / Projection coefficient for primary WCS \n",
      "the PROJPn keyword is deprecated, use PVi_ma.\n",
      "WARNING: FITSFixedWarning: 'datfix' made the change 'Invalid parameter values: MJD-OBS and DATE-OBS are inconsistent.\n",
      "Changed DATE-OBS from '2022-12-13        ' to '2022-12-13T00:00:00.0''. [astropy.wcs.wcs]\n",
      "FITSFixedWarning: 'datfix' made the change 'Invalid parameter values: MJD-OBS and DATE-OBS are inconsistent.\n",
      "Changed DATE-OBS from '2022-12-13        ' to '2022-12-13T00:00:00.0''.\n",
      "\n",
      "Performing Astrometry.net\n",
      "Removing any pre-existing WCS keys \n",
      "No WCS values found - attempting to solve field\n",
      "ASTROMETRY started...\n",
      "ASTROMETRY finished: 3s\n",
      "Updating WCS keys with new values\n",
      "WCS saved to new file\n",
      "\n",
      "Searching for FWHM\n",
      "Using Gaussian Profile for fitting\n"
     ]
    },
    {
     "name": "stdout",
     "output_type": "stream",
     "text": [
      "\n",
      "+-------------------------------+\n",
      "|Finding Full Width Half Maximum|\n",
      "+-------------------------------+\n",
      "\n"
     ]
    },
    {
     "name": "stderr",
     "output_type": "stream",
     "text": [
      "\n",
      "Number of sources before cleaning [ 25.0 sigma ]: 25 \n",
      "Updating search FWHM value\n"
     ]
    },
    {
     "name": "stdout",
     "output_type": "stream",
     "text": [
      "Updated guess for FWHM: 6.3 pixels \n"
     ]
    },
    {
     "name": "stderr",
     "output_type": "stream",
     "text": [
      "\n",
      "Number of sources before cleaning [ 25.0 sigma ]: 86 \n",
      "Removed 3 sources near boundary\n",
      "Removed 7 crowded sources\n"
     ]
    },
    {
     "name": "stdout",
     "output_type": "stream",
     "text": [
      "Fitting source for FWHM: 76/76  "
     ]
    },
    {
     "name": "stderr",
     "output_type": "stream",
     "text": [
      "Removed 3 saturated sources\n",
      "WARNING: Input data contains invalid values (NaNs or infs), which were automatically clipped. [astropy.stats.sigma_clipping]\n",
      "Input data contains invalid values (NaNs or infs), which were automatically clipped.\n",
      "Removed 7 FWHM outliers\n",
      "WARNING: Input data contains invalid values (NaNs or infs), which were automatically clipped. [astropy.stats.sigma_clipping]\n",
      "Input data contains invalid values (NaNs or infs), which were automatically clipped.\n",
      "Removed 16 median outliers\n",
      "Useable sources found [ 25 sigma ]: 76\n",
      "Removes 4 sources within minimum seperation [ 28 pixel ]\n",
      "\n",
      "FWHM: 5.762 +/- 0.468 [ pixels ]\n",
      "\n",
      "Seeing: 1.914 [ arcsec ]\n",
      "Aperture size: 9.8 pixels\n",
      "Aperture correction: -0.053 +/- 0.009 [ mag ]\n",
      "WARNING: FITSFixedWarning: 'datfix' made the change 'Invalid parameter values: MJD-OBS and DATE-OBS are inconsistent.\n",
      "Changed DATE-OBS from '2022-12-13        ' to '2022-12-13T00:00:00.0''. [astropy.wcs.wcs]\n",
      "FITSFixedWarning: 'datfix' made the change 'Invalid parameter values: MJD-OBS and DATE-OBS are inconsistent.\n",
      "Changed DATE-OBS from '2022-12-13        ' to '2022-12-13T00:00:00.0''.\n",
      "Catalog found for target_ra_58_dec_-12\n",
      "Catalog: PAN_STARRS \n",
      "File: target_ra_58_dec_-12_r_0.25\n",
      "Catalog length: 7256\n",
      "Removed 3253 sources fainter than cutoff [20 mag]\n",
      "Using Gaussian Profile for fitting\n",
      "Catalog Length: 234\n"
     ]
    },
    {
     "name": "stdout",
     "output_type": "stream",
     "text": [
      "\n",
      "+----------------------------------------------+\n",
      "|Searching for catalog for target_ra_58_dec_-12|\n",
      "+----------------------------------------------+\n",
      "\n",
      "\n",
      "+---------------------------------+\n",
      "|Matching catalog sources to image|\n",
      "+---------------------------------+\n",
      "\n",
      "Removed 1 sources too close to target\n",
      "Removed 432 sources too close to boundary or off image\n",
      "Matching catalog to image: 230 / 234 :: Useful sources 159 / 234 "
     ]
    },
    {
     "name": "stderr",
     "output_type": "stream",
     "text": [
      "\n",
      "Median offset: 2.6 [ pixels ] / 0.9 [ arcsec ]\n",
      "Residual table updated: 1 / 10 \n",
      "\tSNR: 568 :: FWHM fitted 5.623\n",
      "Residual table updated: 2 / 10 \n",
      "\tSNR: 550 :: FWHM fitted 5.709\n"
     ]
    },
    {
     "name": "stdout",
     "output_type": "stream",
     "text": [
      "\r",
      "Matching catalog to image: 231 / 234 :: Useful sources 160 / 234 \r",
      "Matching catalog to image: 232 / 234 :: Useful sources 160 / 234 \r",
      "Matching catalog to image: 233 / 234 :: Useful sources 160 / 234 \r",
      "Matching catalog to image: 234 / 234 :: Useful sources 160 / 234   .. done\n",
      "\n",
      "Broken cutouts: 0\n",
      "Not in correct location: 0\n",
      "Not detected: 58\n",
      "Saturated: 17\n",
      "Error: 0\n",
      "\n",
      "\n",
      "+-------------------------------------------+\n",
      "|Building PSF model using stars in the field|\n",
      "+-------------------------------------------+\n",
      "\n"
     ]
    },
    {
     "name": "stderr",
     "output_type": "stream",
     "text": [
      "Residual table updated: 3 / 10 \n",
      "\tSNR: 548 :: FWHM fitted 5.751\n",
      "Residual table updated: 4 / 10 \n",
      "\tSNR: 502 :: FWHM fitted 5.756\n",
      "Residual table updated: 5 / 10 \n",
      "\tSNR: 494 :: FWHM fitted 5.844\n",
      "Residual table updated: 6 / 10 \n",
      "\tSNR: 485 :: FWHM fitted 5.711\n",
      "Residual table updated: 7 / 10 \n",
      "\tSNR: 484 :: FWHM fitted 5.801\n",
      "Residual table updated: 8 / 10 \n",
      "\tSNR: 455 :: FWHM fitted 5.742\n",
      "Residual table updated: 9 / 10 \n",
      "\tSNR: 447 :: FWHM fitted 6.121\n",
      "Residual table updated: 10 / 10 \n",
      "\tSNR: 429 :: FWHM fitted 6.050\n",
      "\n",
      "PSF built using 10 sources\n",
      "\n",
      "Unity PSF: 42.3 [counts] \n",
      "Unity Residual table: 4.2 [counts] \n",
      "Using Aperture Photometry on sequence Stars \n",
      "No PSF sources fitted\n",
      "WARNING: Input data contains invalid values (NaNs or infs), which were automatically clipped. [astropy.stats.sigma_clipping]\n",
      "Input data contains invalid values (NaNs or infs), which were automatically clipped.\n",
      "\n",
      "Mean r-band zeropoint: 25.975 +/- 0.031 \n",
      "\n"
     ]
    },
    {
     "name": "stdout",
     "output_type": "stream",
     "text": [
      "PSF model saved as: /Users/terwelj/Documents/VirtualMachine/Observing_ING/autophot/test/at2022acpz_REDUCED/r1645972redCCD4/PSF_model_r1645972redCCD4_APT.fits\n",
      "\n",
      "+-------------------+\n",
      "|Measuring PSF model|\n",
      "+-------------------+\n",
      "\n",
      "\n",
      "+-----------------------+\n",
      "|Finding Zeropoint value|\n",
      "+-----------------------+\n",
      "\n",
      "Checking for suitable catalog sources\n",
      "Removed 122 sources lower than SNR of 25.0\n"
     ]
    },
    {
     "name": "stderr",
     "output_type": "stream",
     "text": [
      "/opt/anaconda3/envs/autophot/lib/python3.7/site-packages/matplotlib/backends/backend_pdf.py:1649: DeprecationWarning: NONE is deprecated and will be removed in Pillow 10 (2023-07-01). Use Resampling.NEAREST or Dither.NONE instead.\n",
      "  img = img.convert(mode='P', dither=Image.NONE,\n",
      "/opt/anaconda3/envs/autophot/lib/python3.7/site-packages/matplotlib/backends/backend_pdf.py:1650: DeprecationWarning: ADAPTIVE is deprecated and will be removed in Pillow 10 (2023-07-01). Use Palette.ADAPTIVE instead.\n",
      "  palette=Image.ADAPTIVE, colors=num_colors)\n",
      "Approx. catalog limiting magnitude: 19.361 [ mag ]\n",
      "Target photometry on original image\n",
      "/opt/anaconda3/envs/autophot/lib/python3.7/site-packages/matplotlib/backends/backend_pdf.py:1649: DeprecationWarning: NONE is deprecated and will be removed in Pillow 10 (2023-07-01). Use Resampling.NEAREST or Dither.NONE instead.\n",
      "  img = img.convert(mode='P', dither=Image.NONE,\n",
      "/opt/anaconda3/envs/autophot/lib/python3.7/site-packages/matplotlib/backends/backend_pdf.py:1650: DeprecationWarning: ADAPTIVE is deprecated and will be removed in Pillow 10 (2023-07-01). Use Palette.ADAPTIVE instead.\n",
      "  palette=Image.ADAPTIVE, colors=num_colors)\n",
      "Approximate Target SNR: 23.7\n",
      "SNR = 24 - skipping limiting magnitude\n",
      "Pixel Offset: 0.000\n"
     ]
    },
    {
     "name": "stdout",
     "output_type": "stream",
     "text": [
      "\n",
      "+-----------------------------------+\n",
      "|Doing Aperture Photometry on Target|\n",
      "+-----------------------------------+\n",
      "\n"
     ]
    },
    {
     "name": "stderr",
     "output_type": "stream",
     "text": [
      "Limiting Magnitude: skipped\n",
      "Target Detection probability: 99 %\n",
      "Target flux: 505.639 +/- 0.000 [counts/s]\n",
      "Noise: 488.098 [counts/s]\n",
      "Target SNR: 23.690 +/- 0.045\n",
      "Instrumental Magnitude: -6.760 +/- 0.000\n",
      "Zeropoint: 25.975 +/- 0.031\n",
      "Target Magnitude: 19.163 +/- 0.055 \n",
      "\n",
      "*** Transient well detected ***\n",
      "\n",
      "Time Taken [ 9729 ]: 35s\n",
      "Sucess: r1645972redCCD4_APT.fits :: PID 9729 \n",
      "\n",
      "\n",
      "User instrument database: /Users/terwelj/Documents/VirtualMachine/Observing_ING/autophot/telescope.yml\n",
      "\n",
      "Number of files: 3\n",
      "\n",
      "1 telescope(s) detected - checking header keywords\n",
      "\n"
     ]
    },
    {
     "name": "stdout",
     "output_type": "stream",
     "text": [
      "\n",
      "---\n",
      "\n",
      "Files that failed : []\n",
      "\n",
      "DONE\n",
      "\n",
      "Done - Time Taken: 104.9\n",
      "\n",
      "        _       _       ___ _  _    _____\n",
      "       /_\\ _  _| |_ ___| _ \\ || |__|_   _|\n",
      "      / _ \\ || |  _/ _ \\  _/ __ / _ \\| |\n",
      "     /_/ \\_\\_,_|\\__\\___/_| |_||_\\___/|_|\n",
      "    \n",
      "     ---------------------------------------\n",
      "        Automated Photometry of Transients\n",
      "        S. J. Brennan et al. 2021 \n",
      "        Please provide feedback/bugs to:\n",
      "        Email: sean.brennan2@ucdconnect.ie\n",
      "    ---------------------------------------\n",
      "Directory of fits file: /Users/terwelj/Documents/VirtualMachine/Observing_ING/autophot/test/at2022acsu\n",
      "Found Telescopes:\n",
      "\n",
      " - INT\n",
      "\n",
      "-> Telescope check complete\n",
      "\n",
      "Checking Filter keywords and database\n",
      "\n",
      "-> Filter check complete\n"
     ]
    },
    {
     "name": "stderr",
     "output_type": "stream",
     "text": [
      "File: r1645975redCCD4_APT.fits - PID: 9729\n",
      "Start Time: 2022-12-16 12:04:31.881456\n",
      "Filter keyoward used: WFFBAND\n",
      "Telescope: INT\n",
      "Filter: i\n",
      "MJD: 59926.974\n",
      "Date of Observation : 2022-12-13\n",
      "Read Noise: 5.8 [e^- /pixel]\n",
      "GAIN: 2.9 [e^- /count]\n",
      "Exposure time: 20 [s] \n",
      "Detecting/removing cosmic ray sources\n"
     ]
    },
    {
     "name": "stdout",
     "output_type": "stream",
     "text": [
      "\n",
      "Checking Filter information for each image\n",
      "\n",
      "Files removed - Wrong Image Type: 0\n",
      "\n",
      "Files removed - No/Wrong filter(s): 0\n",
      "Filters not included: []\n",
      "\n",
      "\n",
      "Files removed: 0\n",
      "\n",
      "+-----------+\n",
      "|File: 1 / 3|\n",
      "+-----------+\n",
      "\n",
      "Starting Astroscrappy ... "
     ]
    },
    {
     "name": "stderr",
     "output_type": "stream",
     "text": [
      "Contaminated pixels with Cosmic rays removed: 28528\n",
      "Cosmic rays removed - image updated\n",
      "WARNING: FITSFixedWarning: RADECSYS= 'FK5 ' / mean place new (after the 1976 IAU) system \n",
      "the RADECSYS keyword is deprecated, use RADESYSa. [astropy.wcs.wcs]\n",
      "FITSFixedWarning: RADECSYS= 'FK5 ' / mean place new (after the 1976 IAU) system \n",
      "the RADECSYS keyword is deprecated, use RADESYSa.\n",
      "WARNING: FITSFixedWarning: PROJP1 = 1.00000000 / Projection coefficient for primary WCS \n",
      "the PROJPn keyword is deprecated, use PVi_ma. [astropy.wcs.wcs]\n",
      "FITSFixedWarning: PROJP1 = 1.00000000 / Projection coefficient for primary WCS \n",
      "the PROJPn keyword is deprecated, use PVi_ma.\n",
      "WARNING: FITSFixedWarning: PROJP3 = 0.00000000 / Projection coefficient for primary WCS \n",
      "the PROJPn keyword is deprecated, use PVi_ma. [astropy.wcs.wcs]\n",
      "FITSFixedWarning: PROJP3 = 0.00000000 / Projection coefficient for primary WCS \n",
      "the PROJPn keyword is deprecated, use PVi_ma.\n",
      "WARNING: FITSFixedWarning: 'datfix' made the change 'Invalid parameter values: MJD-OBS and DATE-OBS are inconsistent.\n",
      "Changed DATE-OBS from '2022-12-13        ' to '2022-12-13T00:00:00.0''. [astropy.wcs.wcs]\n",
      "FITSFixedWarning: 'datfix' made the change 'Invalid parameter values: MJD-OBS and DATE-OBS are inconsistent.\n",
      "Changed DATE-OBS from '2022-12-13        ' to '2022-12-13T00:00:00.0''.\n",
      "\n",
      "Performing Astrometry.net\n",
      "Removing any pre-existing WCS keys \n",
      "No WCS values found - attempting to solve field\n",
      "ASTROMETRY started...\n",
      "ASTROMETRY finished: 3s\n",
      "Updating WCS keys with new values\n",
      "WCS saved to new file\n",
      "\n",
      "Searching for FWHM\n",
      "Using Gaussian Profile for fitting\n"
     ]
    },
    {
     "name": "stdout",
     "output_type": "stream",
     "text": [
      "\n",
      "+-------------------------------+\n",
      "|Finding Full Width Half Maximum|\n",
      "+-------------------------------+\n",
      "\n"
     ]
    },
    {
     "name": "stderr",
     "output_type": "stream",
     "text": [
      "\n",
      "Number of sources before cleaning [ 25.0 sigma ]: 25 \n",
      "Updating search FWHM value\n"
     ]
    },
    {
     "name": "stdout",
     "output_type": "stream",
     "text": [
      "Updated guess for FWHM: 4.8 pixels \n"
     ]
    },
    {
     "name": "stderr",
     "output_type": "stream",
     "text": [
      "\n",
      "Number of sources before cleaning [ 25.0 sigma ]: 77 \n",
      "Removed 2 sources near boundary\n",
      "Removed 4 crowded sources\n"
     ]
    },
    {
     "name": "stdout",
     "output_type": "stream",
     "text": [
      "Fitting source for FWHM: 71/71   "
     ]
    },
    {
     "name": "stderr",
     "output_type": "stream",
     "text": [
      "Removed 3 saturated sources\n",
      "WARNING: Input data contains invalid values (NaNs or infs), which were automatically clipped. [astropy.stats.sigma_clipping]\n",
      "Input data contains invalid values (NaNs or infs), which were automatically clipped.\n",
      "Removed 5 FWHM outliers\n",
      "WARNING: Input data contains invalid values (NaNs or infs), which were automatically clipped. [astropy.stats.sigma_clipping]\n",
      "Input data contains invalid values (NaNs or infs), which were automatically clipped.\n",
      "Removed 12 median outliers\n",
      "Useable sources found [ 25 sigma ]: 71\n",
      "Removes 0 sources within minimum seperation [ 23 pixel ]\n",
      "\n",
      "FWHM: 4.640 +/- 0.133 [ pixels ]\n",
      "\n",
      "Seeing: 1.539 [ arcsec ]\n",
      "Aperture size: 7.9 pixels\n",
      "Aperture correction: -0.052 +/- 0.015 [ mag ]\n",
      "WARNING: FITSFixedWarning: 'datfix' made the change 'Invalid parameter values: MJD-OBS and DATE-OBS are inconsistent.\n",
      "Changed DATE-OBS from '2022-12-13        ' to '2022-12-13T00:00:00.0''. [astropy.wcs.wcs]\n",
      "FITSFixedWarning: 'datfix' made the change 'Invalid parameter values: MJD-OBS and DATE-OBS are inconsistent.\n",
      "Changed DATE-OBS from '2022-12-13        ' to '2022-12-13T00:00:00.0''.\n",
      "Catalog found for target_ra_32_dec_12\n",
      "Catalog: SDSS \n",
      "File: target_ra_32_dec_12_r_0.25\n",
      "Catalog length: 18\n",
      "Removed 8 sources fainter than cutoff [20 mag]\n",
      "Using Gaussian Profile for fitting\n",
      "Catalog Length: 0\n",
      "Could NOT find any catalog sources in field\n",
      "Traceback (most recent call last):\n",
      "  File \"/opt/anaconda3/envs/autophot/lib/python3.7/site-packages/autophot/packages/main.py\", line 1139, in main\n",
      "    raise Exception('Could NOT find any catalog sources in field')\n",
      "Exception: Could NOT find any catalog sources in field\n",
      "Failure: r1645975redCCD4_APT.fits - PID: 9729\n",
      "File: r1645976redCCD4_APT.fits - PID: 9729\n",
      "Start Time: 2022-12-16 12:04:52.166484\n"
     ]
    },
    {
     "name": "stdout",
     "output_type": "stream",
     "text": [
      "\n",
      "+---------------------------------------------+\n",
      "|Searching for catalog for target_ra_32_dec_12|\n",
      "+---------------------------------------------+\n",
      "\n",
      "\n",
      "+---------------------------------+\n",
      "|Matching catalog sources to image|\n",
      "+---------------------------------+\n",
      "\n",
      "Removed 3 sources too close to boundary or off image\n",
      "  .. done\n",
      "\n",
      "Broken cutouts: 0\n",
      "Not in correct location: 0\n",
      "Not detected: 0\n",
      "Saturated: 0\n",
      "Error: 0\n",
      "\n",
      "\n",
      "+-----------+\n",
      "|File: 2 / 3|\n",
      "+-----------+\n",
      "\n"
     ]
    },
    {
     "name": "stderr",
     "output_type": "stream",
     "text": [
      "Filter keyoward used: WFFBAND\n",
      "Telescope: INT\n",
      "Filter: r\n",
      "MJD: 59926.976\n",
      "Date of Observation : 2022-12-13\n",
      "Read Noise: 5.8 [e^- /pixel]\n",
      "GAIN: 2.9 [e^- /count]\n",
      "Exposure time: 20 [s] \n",
      "Detecting/removing cosmic ray sources\n"
     ]
    },
    {
     "name": "stdout",
     "output_type": "stream",
     "text": [
      "Starting Astroscrappy ... "
     ]
    },
    {
     "name": "stderr",
     "output_type": "stream",
     "text": [
      "Contaminated pixels with Cosmic rays removed: 28186\n",
      "Cosmic rays removed - image updated\n",
      "WARNING: FITSFixedWarning: RADECSYS= 'FK5 ' / mean place new (after the 1976 IAU) system \n",
      "the RADECSYS keyword is deprecated, use RADESYSa. [astropy.wcs.wcs]\n",
      "FITSFixedWarning: RADECSYS= 'FK5 ' / mean place new (after the 1976 IAU) system \n",
      "the RADECSYS keyword is deprecated, use RADESYSa.\n",
      "WARNING: FITSFixedWarning: PROJP1 = 1.00000000 / Projection coefficient for primary WCS \n",
      "the PROJPn keyword is deprecated, use PVi_ma. [astropy.wcs.wcs]\n",
      "FITSFixedWarning: PROJP1 = 1.00000000 / Projection coefficient for primary WCS \n",
      "the PROJPn keyword is deprecated, use PVi_ma.\n",
      "WARNING: FITSFixedWarning: PROJP3 = 0.00000000 / Projection coefficient for primary WCS \n",
      "the PROJPn keyword is deprecated, use PVi_ma. [astropy.wcs.wcs]\n",
      "FITSFixedWarning: PROJP3 = 0.00000000 / Projection coefficient for primary WCS \n",
      "the PROJPn keyword is deprecated, use PVi_ma.\n",
      "WARNING: FITSFixedWarning: 'datfix' made the change 'Invalid parameter values: MJD-OBS and DATE-OBS are inconsistent.\n",
      "Changed DATE-OBS from '2022-12-13        ' to '2022-12-13T00:00:00.0''. [astropy.wcs.wcs]\n",
      "FITSFixedWarning: 'datfix' made the change 'Invalid parameter values: MJD-OBS and DATE-OBS are inconsistent.\n",
      "Changed DATE-OBS from '2022-12-13        ' to '2022-12-13T00:00:00.0''.\n",
      "\n",
      "Performing Astrometry.net\n",
      "Removing any pre-existing WCS keys \n",
      "No WCS values found - attempting to solve field\n",
      "ASTROMETRY started...\n",
      "ASTROMETRY finished: 3s\n",
      "Updating WCS keys with new values\n",
      "WCS saved to new file\n",
      "\n",
      "Searching for FWHM\n",
      "Using Gaussian Profile for fitting\n"
     ]
    },
    {
     "name": "stdout",
     "output_type": "stream",
     "text": [
      "\n",
      "+-------------------------------+\n",
      "|Finding Full Width Half Maximum|\n",
      "+-------------------------------+\n",
      "\n"
     ]
    },
    {
     "name": "stderr",
     "output_type": "stream",
     "text": [
      "\n",
      "Number of sources before cleaning [ 25.0 sigma ]: 25 \n",
      "Updating search FWHM value\n"
     ]
    },
    {
     "name": "stdout",
     "output_type": "stream",
     "text": [
      "Updated guess for FWHM: 4.8 pixels \n"
     ]
    },
    {
     "name": "stderr",
     "output_type": "stream",
     "text": [
      "\n",
      "Number of sources before cleaning [ 25.0 sigma ]: 80 \n",
      "Removed 2 sources near boundary\n",
      "Removed 0 crowded sources\n"
     ]
    },
    {
     "name": "stdout",
     "output_type": "stream",
     "text": [
      "Fitting source for FWHM: 78/78 "
     ]
    },
    {
     "name": "stderr",
     "output_type": "stream",
     "text": [
      "Removed 6 saturated sources\n",
      "WARNING: Input data contains invalid values (NaNs or infs), which were automatically clipped. [astropy.stats.sigma_clipping]\n",
      "Input data contains invalid values (NaNs or infs), which were automatically clipped.\n",
      "Removed 9 FWHM outliers\n",
      "WARNING: Input data contains invalid values (NaNs or infs), which were automatically clipped. [astropy.stats.sigma_clipping]\n",
      "Input data contains invalid values (NaNs or infs), which were automatically clipped.\n",
      "Removed 25 median outliers\n",
      "Useable sources found [ 25 sigma ]: 78\n",
      "Removes 0 sources within minimum seperation [ 21 pixel ]\n",
      "\n",
      "FWHM: 4.388 +/- 0.289 [ pixels ]\n",
      "\n",
      "Seeing: 1.455 [ arcsec ]\n",
      "Aperture size: 7.5 pixels\n",
      "Aperture correction: -0.045 +/- 0.014 [ mag ]\n"
     ]
    },
    {
     "name": "stdout",
     "output_type": "stream",
     "text": [
      "\n",
      "+---------------------------------------------+\n",
      "|Searching for catalog for target_ra_32_dec_12|\n",
      "+---------------------------------------------+\n",
      "\n"
     ]
    },
    {
     "name": "stderr",
     "output_type": "stream",
     "text": [
      "WARNING: FITSFixedWarning: 'datfix' made the change 'Invalid parameter values: MJD-OBS and DATE-OBS are inconsistent.\n",
      "Changed DATE-OBS from '2022-12-13        ' to '2022-12-13T00:00:00.0''. [astropy.wcs.wcs]\n",
      "FITSFixedWarning: 'datfix' made the change 'Invalid parameter values: MJD-OBS and DATE-OBS are inconsistent.\n",
      "Changed DATE-OBS from '2022-12-13        ' to '2022-12-13T00:00:00.0''.\n",
      "Catalog found for target_ra_32_dec_12\n",
      "Catalog: SDSS \n",
      "File: target_ra_32_dec_12_r_0.25\n",
      "Catalog length: 18\n",
      "Removed 8 sources fainter than cutoff [20 mag]\n",
      "Using Gaussian Profile for fitting\n",
      "Catalog Length: 0\n",
      "Could NOT find any catalog sources in field\n",
      "Traceback (most recent call last):\n",
      "  File \"/opt/anaconda3/envs/autophot/lib/python3.7/site-packages/autophot/packages/main.py\", line 1139, in main\n",
      "    raise Exception('Could NOT find any catalog sources in field')\n",
      "Exception: Could NOT find any catalog sources in field\n",
      "Failure: r1645976redCCD4_APT.fits - PID: 9729\n",
      "File: r1645977redCCD4_APT.fits - PID: 9729\n",
      "Start Time: 2022-12-16 12:05:12.016006\n"
     ]
    },
    {
     "name": "stdout",
     "output_type": "stream",
     "text": [
      "\n",
      "+---------------------------------+\n",
      "|Matching catalog sources to image|\n",
      "+---------------------------------+\n",
      "\n",
      "Removed 3 sources too close to boundary or off image\n",
      "  .. done\n",
      "\n",
      "Broken cutouts: 0\n",
      "Not in correct location: 0\n",
      "Not detected: 0\n",
      "Saturated: 0\n",
      "Error: 0\n",
      "\n",
      "\n",
      "+-----------+\n",
      "|File: 3 / 3|\n",
      "+-----------+\n",
      "\n"
     ]
    },
    {
     "name": "stderr",
     "output_type": "stream",
     "text": [
      "Filter keyoward used: WFFBAND\n",
      "Telescope: INT\n",
      "Filter: g\n",
      "MJD: 59926.977\n",
      "Date of Observation : 2022-12-13\n",
      "Read Noise: 5.8 [e^- /pixel]\n",
      "GAIN: 2.9 [e^- /count]\n",
      "Exposure time: 20 [s] \n",
      "Detecting/removing cosmic ray sources\n"
     ]
    },
    {
     "name": "stdout",
     "output_type": "stream",
     "text": [
      "Starting Astroscrappy ... "
     ]
    },
    {
     "name": "stderr",
     "output_type": "stream",
     "text": [
      "Contaminated pixels with Cosmic rays removed: 28898\n",
      "Cosmic rays removed - image updated\n",
      "WARNING: FITSFixedWarning: RADECSYS= 'FK5 ' / mean place new (after the 1976 IAU) system \n",
      "the RADECSYS keyword is deprecated, use RADESYSa. [astropy.wcs.wcs]\n",
      "FITSFixedWarning: RADECSYS= 'FK5 ' / mean place new (after the 1976 IAU) system \n",
      "the RADECSYS keyword is deprecated, use RADESYSa.\n",
      "WARNING: FITSFixedWarning: PROJP1 = 1.00000000 / Projection coefficient for primary WCS \n",
      "the PROJPn keyword is deprecated, use PVi_ma. [astropy.wcs.wcs]\n",
      "FITSFixedWarning: PROJP1 = 1.00000000 / Projection coefficient for primary WCS \n",
      "the PROJPn keyword is deprecated, use PVi_ma.\n",
      "WARNING: FITSFixedWarning: PROJP3 = 0.00000000 / Projection coefficient for primary WCS \n",
      "the PROJPn keyword is deprecated, use PVi_ma. [astropy.wcs.wcs]\n",
      "FITSFixedWarning: PROJP3 = 0.00000000 / Projection coefficient for primary WCS \n",
      "the PROJPn keyword is deprecated, use PVi_ma.\n",
      "WARNING: FITSFixedWarning: 'datfix' made the change 'Invalid parameter values: MJD-OBS and DATE-OBS are inconsistent.\n",
      "Changed DATE-OBS from '2022-12-13        ' to '2022-12-13T00:00:00.0''. [astropy.wcs.wcs]\n",
      "FITSFixedWarning: 'datfix' made the change 'Invalid parameter values: MJD-OBS and DATE-OBS are inconsistent.\n",
      "Changed DATE-OBS from '2022-12-13        ' to '2022-12-13T00:00:00.0''.\n",
      "\n",
      "Performing Astrometry.net\n",
      "Removing any pre-existing WCS keys \n",
      "No WCS values found - attempting to solve field\n",
      "ASTROMETRY started...\n",
      "ASTROMETRY finished: 3s\n",
      "Updating WCS keys with new values\n",
      "WCS saved to new file\n",
      "\n",
      "Searching for FWHM\n",
      "Using Gaussian Profile for fitting\n"
     ]
    },
    {
     "name": "stdout",
     "output_type": "stream",
     "text": [
      "\n",
      "+-------------------------------+\n",
      "|Finding Full Width Half Maximum|\n",
      "+-------------------------------+\n",
      "\n"
     ]
    },
    {
     "name": "stderr",
     "output_type": "stream",
     "text": [
      "\n",
      "Number of sources before cleaning [ 25.0 sigma ]: 25 \n",
      "Updating search FWHM value\n"
     ]
    },
    {
     "name": "stdout",
     "output_type": "stream",
     "text": [
      "operands could not be broadcast together with shapes (2500,) (2050,) \n",
      "Updated guess for FWHM: 4.6 pixels \n"
     ]
    },
    {
     "name": "stderr",
     "output_type": "stream",
     "text": [
      "\n",
      "Number of sources before cleaning [ 25.0 sigma ]: 329 \n",
      "Too many sources - increasing threshold\n",
      "\n",
      "Number of sources before cleaning [ 50.0 sigma ]: 309 \n",
      "Too many sources - increasing threshold\n",
      "\n",
      "Number of sources before cleaning [ 100.0 sigma ]: 286 \n",
      "Removed 258 sources near boundary\n",
      "Removed 2 crowded sources\n"
     ]
    },
    {
     "name": "stdout",
     "output_type": "stream",
     "text": [
      "Fitting source for FWHM: 26/26 "
     ]
    },
    {
     "name": "stderr",
     "output_type": "stream",
     "text": [
      "Removed 2 saturated sources\n",
      "WARNING: Input data contains invalid values (NaNs or infs), which were automatically clipped. [astropy.stats.sigma_clipping]\n",
      "Input data contains invalid values (NaNs or infs), which were automatically clipped.\n",
      "Removed 2 FWHM outliers\n",
      "WARNING: Input data contains invalid values (NaNs or infs), which were automatically clipped. [astropy.stats.sigma_clipping]\n",
      "Input data contains invalid values (NaNs or infs), which were automatically clipped.\n",
      "Removed 3 median outliers\n",
      "Useable sources found [ 100 sigma ]: 26\n",
      "Removes 0 sources within minimum seperation [ 23 pixel ]\n",
      "\n",
      "FWHM: 4.642 +/- 0.113 [ pixels ]\n",
      "\n",
      "Seeing: 1.539 [ arcsec ]\n",
      "Aperture size: 7.9 pixels\n",
      "Aperture correction: -0.031 +/- 0.005 [ mag ]\n"
     ]
    },
    {
     "name": "stdout",
     "output_type": "stream",
     "text": [
      "\n",
      "+---------------------------------------------+\n",
      "|Searching for catalog for target_ra_32_dec_12|\n",
      "+---------------------------------------------+\n",
      "\n"
     ]
    },
    {
     "name": "stderr",
     "output_type": "stream",
     "text": [
      "WARNING: FITSFixedWarning: 'datfix' made the change 'Invalid parameter values: MJD-OBS and DATE-OBS are inconsistent.\n",
      "Changed DATE-OBS from '2022-12-13        ' to '2022-12-13T00:00:00.0''. [astropy.wcs.wcs]\n",
      "FITSFixedWarning: 'datfix' made the change 'Invalid parameter values: MJD-OBS and DATE-OBS are inconsistent.\n",
      "Changed DATE-OBS from '2022-12-13        ' to '2022-12-13T00:00:00.0''.\n",
      "Catalog found for target_ra_32_dec_12\n",
      "Catalog: SDSS \n",
      "File: target_ra_32_dec_12_r_0.25\n",
      "Catalog length: 18\n",
      "Removed 9 sources fainter than cutoff [20 mag]\n",
      "Using Gaussian Profile for fitting\n",
      "Catalog Length: 0\n"
     ]
    },
    {
     "name": "stdout",
     "output_type": "stream",
     "text": [
      "\n",
      "+---------------------------------+\n",
      "|Matching catalog sources to image|\n",
      "+---------------------------------+\n",
      "\n",
      "Removed 2 sources too close to boundary or off image\n",
      "  .. done\n",
      "\n",
      "Broken cutouts: 0\n",
      "Not in correct location: 0\n",
      "Not detected: 0\n",
      "Saturated: 0\n",
      "Error: 0\n",
      "\n"
     ]
    },
    {
     "name": "stderr",
     "output_type": "stream",
     "text": [
      "Could NOT find any catalog sources in field\n",
      "Traceback (most recent call last):\n",
      "  File \"/opt/anaconda3/envs/autophot/lib/python3.7/site-packages/autophot/packages/main.py\", line 1139, in main\n",
      "    raise Exception('Could NOT find any catalog sources in field')\n",
      "Exception: Could NOT find any catalog sources in field\n",
      "Failure: r1645977redCCD4_APT.fits - PID: 9729\n"
     ]
    },
    {
     "name": "stdout",
     "output_type": "stream",
     "text": [
      "\n",
      "---\n",
      "\n",
      "Files that failed : ['/Users/terwelj/Documents/VirtualMachine/Observing_ING/autophot/test/at2022acsu_REDUCED/r1645975redCCD4/r1645975redCCD4_APT.fits', '/Users/terwelj/Documents/VirtualMachine/Observing_ING/autophot/test/at2022acsu_REDUCED/r1645976redCCD4/r1645976redCCD4_APT.fits', '/Users/terwelj/Documents/VirtualMachine/Observing_ING/autophot/test/at2022acsu_REDUCED/r1645977redCCD4/r1645977redCCD4_APT.fits']\n",
      "\n",
      "DONE\n",
      "\n",
      "Done - Time Taken: 58.6\n"
     ]
    }
   ],
   "source": [
    "#Try again, but with apeture photometry instead of psf photometry\n",
    "autophot_input['photometry']['do_ap_phot'] = True\n",
    "\n",
    "autophot_input['fits_dir'] = dirpath + '/test/at2022acuo'\n",
    "\n",
    "autophot_input['target_ra'] = 350.73048\n",
    "autophot_input['target_dec'] = 21.03755\n",
    "\n",
    "run_automatic_autophot(autophot_input)\n",
    "\n",
    "\n",
    "autophot_input['fits_dir'] = dirpath + '/test/at2022acsd'\n",
    "\n",
    "autophot_input['target_ra'] = 357.63550\n",
    "autophot_input['target_dec'] = 14.93204\n",
    "\n",
    "run_automatic_autophot(autophot_input)\n",
    "\n",
    "\n",
    "autophot_input['fits_dir'] = dirpath + '/test/at2022acsf'\n",
    "\n",
    "autophot_input['target_ra'] = 48.68741\n",
    "autophot_input['target_dec'] = -16.63493\n",
    "\n",
    "run_automatic_autophot(autophot_input)\n",
    "\n",
    "\n",
    "autophot_input['fits_dir'] = dirpath + '/test/at2022acru'\n",
    "\n",
    "autophot_input['target_ra'] = 58.36677\n",
    "autophot_input['target_dec'] = -10.79587\n",
    "\n",
    "run_automatic_autophot(autophot_input)\n",
    "\n",
    "\n",
    "autophot_input['fits_dir'] = dirpath + '/test/at2022acpz'\n",
    "\n",
    "autophot_input['target_ra'] = 57.69454\n",
    "autophot_input['target_dec'] = -12.11212\n",
    "\n",
    "autophot_input['catalog']['use_catalog'] = 'pan_starrs'\n",
    "\n",
    "run_automatic_autophot(autophot_input)\n",
    "\n",
    "\n",
    "autophot_input['fits_dir'] = dirpath + '/test/at2022acsu'\n",
    "\n",
    "autophot_input['target_ra'] = 32.42648\n",
    "autophot_input['target_dec'] = 11.89660\n",
    "\n",
    "autophot_input['catalog']['use_catalog'] = 'sdss'\n",
    "\n",
    "run_automatic_autophot(autophot_input)"
   ]
  },
  {
   "cell_type": "code",
   "execution_count": 48,
   "id": "ea0b82f6",
   "metadata": {},
   "outputs": [
    {
     "name": "stderr",
     "output_type": "stream",
     "text": [
      "\n",
      "User instrument database: /Users/terwelj/Documents/VirtualMachine/Observing_ING/autophot/telescope.yml\n",
      "\n",
      "Number of files: 3\n",
      "\n",
      "1 telescope(s) detected - checking header keywords\n",
      "\n"
     ]
    },
    {
     "name": "stdout",
     "output_type": "stream",
     "text": [
      "\n",
      "        _       _       ___ _  _    _____\n",
      "       /_\\ _  _| |_ ___| _ \\ || |__|_   _|\n",
      "      / _ \\ || |  _/ _ \\  _/ __ / _ \\| |\n",
      "     /_/ \\_\\_,_|\\__\\___/_| |_||_\\___/|_|\n",
      "    \n",
      "     ---------------------------------------\n",
      "        Automated Photometry of Transients\n",
      "        S. J. Brennan et al. 2021 \n",
      "        Please provide feedback/bugs to:\n",
      "        Email: sean.brennan2@ucdconnect.ie\n",
      "    ---------------------------------------\n",
      "Directory of fits file: /Users/terwelj/Documents/VirtualMachine/Observing_ING/autophot/test/at2022acsu\n",
      "Found Telescopes:\n",
      "\n",
      " - INT\n",
      "\n",
      "-> Telescope check complete\n",
      "\n",
      "Checking Filter keywords and database\n",
      "\n",
      "-> Filter check complete\n",
      "\n",
      "Checking Filter information for each image\n"
     ]
    },
    {
     "name": "stderr",
     "output_type": "stream",
     "text": [
      "File: r1645975redCCD4_APT.fits - PID: 9729\n",
      "Start Time: 2022-12-16 12:15:48.265166\n",
      "Filter keyoward used: WFFBAND\n",
      "Telescope: INT\n",
      "Filter: i\n",
      "MJD: 59926.974\n",
      "Date of Observation : 2022-12-13\n",
      "Read Noise: 5.8 [e^- /pixel]\n",
      "GAIN: 2.9 [e^- /count]\n",
      "Exposure time: 20 [s] \n",
      "Detecting/removing cosmic ray sources\n"
     ]
    },
    {
     "name": "stdout",
     "output_type": "stream",
     "text": [
      "\n",
      "Files removed - Wrong Image Type: 0\n",
      "\n",
      "Files removed - No/Wrong filter(s): 0\n",
      "Filters not included: []\n",
      "\n",
      "\n",
      "Files removed: 0\n",
      "\n",
      "+-----------+\n",
      "|File: 1 / 3|\n",
      "+-----------+\n",
      "\n",
      "Starting Astroscrappy ... "
     ]
    },
    {
     "name": "stderr",
     "output_type": "stream",
     "text": [
      "Contaminated pixels with Cosmic rays removed: 28528\n",
      "Cosmic rays removed - image updated\n",
      "WARNING: FITSFixedWarning: RADECSYS= 'FK5 ' / mean place new (after the 1976 IAU) system \n",
      "the RADECSYS keyword is deprecated, use RADESYSa. [astropy.wcs.wcs]\n",
      "FITSFixedWarning: RADECSYS= 'FK5 ' / mean place new (after the 1976 IAU) system \n",
      "the RADECSYS keyword is deprecated, use RADESYSa.\n",
      "WARNING: FITSFixedWarning: PROJP1 = 1.00000000 / Projection coefficient for primary WCS \n",
      "the PROJPn keyword is deprecated, use PVi_ma. [astropy.wcs.wcs]\n",
      "FITSFixedWarning: PROJP1 = 1.00000000 / Projection coefficient for primary WCS \n",
      "the PROJPn keyword is deprecated, use PVi_ma.\n",
      "WARNING: FITSFixedWarning: PROJP3 = 0.00000000 / Projection coefficient for primary WCS \n",
      "the PROJPn keyword is deprecated, use PVi_ma. [astropy.wcs.wcs]\n",
      "FITSFixedWarning: PROJP3 = 0.00000000 / Projection coefficient for primary WCS \n",
      "the PROJPn keyword is deprecated, use PVi_ma.\n",
      "WARNING: FITSFixedWarning: 'datfix' made the change 'Invalid parameter values: MJD-OBS and DATE-OBS are inconsistent.\n",
      "Changed DATE-OBS from '2022-12-13        ' to '2022-12-13T00:00:00.0''. [astropy.wcs.wcs]\n",
      "FITSFixedWarning: 'datfix' made the change 'Invalid parameter values: MJD-OBS and DATE-OBS are inconsistent.\n",
      "Changed DATE-OBS from '2022-12-13        ' to '2022-12-13T00:00:00.0''.\n",
      "\n",
      "Performing Astrometry.net\n",
      "Removing any pre-existing WCS keys \n",
      "No WCS values found - attempting to solve field\n",
      "ASTROMETRY started...\n",
      "ASTROMETRY finished: 3s\n",
      "Updating WCS keys with new values\n",
      "WCS saved to new file\n",
      "\n",
      "Searching for FWHM\n",
      "Using Gaussian Profile for fitting\n"
     ]
    },
    {
     "name": "stdout",
     "output_type": "stream",
     "text": [
      "\n",
      "+-------------------------------+\n",
      "|Finding Full Width Half Maximum|\n",
      "+-------------------------------+\n",
      "\n"
     ]
    },
    {
     "name": "stderr",
     "output_type": "stream",
     "text": [
      "\n",
      "Number of sources before cleaning [ 25.0 sigma ]: 25 \n",
      "Updating search FWHM value\n"
     ]
    },
    {
     "name": "stdout",
     "output_type": "stream",
     "text": [
      "operands could not be broadcast together with shapes (2500,) (2050,) \n",
      "Updated guess for FWHM: 4.7 pixels \n"
     ]
    },
    {
     "name": "stderr",
     "output_type": "stream",
     "text": [
      "\n",
      "Number of sources before cleaning [ 25.0 sigma ]: 284 \n",
      "Removed 208 sources near boundary\n",
      "Removed 6 crowded sources\n"
     ]
    },
    {
     "name": "stdout",
     "output_type": "stream",
     "text": [
      "Fitting source for FWHM: 70/70  "
     ]
    },
    {
     "name": "stderr",
     "output_type": "stream",
     "text": [
      "Removed 3 saturated sources\n",
      "WARNING: Input data contains invalid values (NaNs or infs), which were automatically clipped. [astropy.stats.sigma_clipping]\n",
      "Input data contains invalid values (NaNs or infs), which were automatically clipped.\n",
      "Removed 7 FWHM outliers\n",
      "WARNING: Input data contains invalid values (NaNs or infs), which were automatically clipped. [astropy.stats.sigma_clipping]\n",
      "Input data contains invalid values (NaNs or infs), which were automatically clipped.\n",
      "Removed 12 median outliers\n",
      "Useable sources found [ 25 sigma ]: 70\n",
      "Removes 0 sources within minimum seperation [ 23 pixel ]\n",
      "\n",
      "FWHM: 4.639 +/- 0.134 [ pixels ]\n",
      "\n",
      "Seeing: 1.538 [ arcsec ]\n",
      "Aperture size: 7.9 pixels\n",
      "Aperture correction: -0.052 +/- 0.011 [ mag ]\n",
      "WARNING: FITSFixedWarning: 'datfix' made the change 'Invalid parameter values: MJD-OBS and DATE-OBS are inconsistent.\n",
      "Changed DATE-OBS from '2022-12-13        ' to '2022-12-13T00:00:00.0''. [astropy.wcs.wcs]\n",
      "FITSFixedWarning: 'datfix' made the change 'Invalid parameter values: MJD-OBS and DATE-OBS are inconsistent.\n",
      "Changed DATE-OBS from '2022-12-13        ' to '2022-12-13T00:00:00.0''.\n",
      "Searching for new catalog [pan_starrs] for target_ra_32_dec_12 \n",
      "Downloading sequence stars from pan_starrs\n"
     ]
    },
    {
     "name": "stdout",
     "output_type": "stream",
     "text": [
      "\n",
      "+---------------------------------------------+\n",
      "|Searching for catalog for target_ra_32_dec_12|\n",
      "+---------------------------------------------+\n",
      "\n"
     ]
    },
    {
     "name": "stderr",
     "output_type": "stream",
     "text": [
      "Catalog length: 9924\n",
      "Removed 7369 sources fainter than cutoff [20 mag]\n",
      "Using Gaussian Profile for fitting\n",
      "Catalog Length: 296\n"
     ]
    },
    {
     "name": "stdout",
     "output_type": "stream",
     "text": [
      "\n",
      "+---------------------------------+\n",
      "|Matching catalog sources to image|\n",
      "+---------------------------------+\n",
      "\n",
      "Removed 2 sources too close to target\n",
      "Removed 506 sources too close to boundary or off image\n",
      "Matching catalog to image: 273 / 296 :: Useful sources 171 / 296 "
     ]
    },
    {
     "name": "stderr",
     "output_type": "stream",
     "text": [
      "\n",
      "Median offset: 2.7 [ pixels ] / 0.9 [ arcsec ]\n",
      "Residual table updated: 1 / 10 \n",
      "\tSNR: 747 :: FWHM fitted 4.656\n"
     ]
    },
    {
     "name": "stdout",
     "output_type": "stream",
     "text": [
      "\r",
      "Matching catalog to image: 274 / 296 :: Useful sources 172 / 296 \r",
      "Matching catalog to image: 275 / 296 :: Useful sources 172 / 296 \r",
      "Matching catalog to image: 276 / 296 :: Useful sources 173 / 296 \r",
      "Matching catalog to image: 277 / 296 :: Useful sources 173 / 296 \r",
      "Matching catalog to image: 278 / 296 :: Useful sources 174 / 296 \r",
      "Matching catalog to image: 279 / 296 :: Useful sources 174 / 296 \r",
      "Matching catalog to image: 280 / 296 :: Useful sources 174 / 296 \r",
      "Matching catalog to image: 281 / 296 :: Useful sources 174 / 296 \r",
      "Matching catalog to image: 282 / 296 :: Useful sources 174 / 296 \r",
      "Matching catalog to image: 283 / 296 :: Useful sources 174 / 296 \r",
      "Matching catalog to image: 284 / 296 :: Useful sources 174 / 296 \r",
      "Matching catalog to image: 285 / 296 :: Useful sources 174 / 296 \r",
      "Matching catalog to image: 286 / 296 :: Useful sources 174 / 296 \r",
      "Matching catalog to image: 287 / 296 :: Useful sources 175 / 296 \r",
      "Matching catalog to image: 288 / 296 :: Useful sources 175 / 296 \r",
      "Matching catalog to image: 289 / 296 :: Useful sources 176 / 296 \r",
      "Matching catalog to image: 290 / 296 :: Useful sources 176 / 296 \r",
      "Matching catalog to image: 291 / 296 :: Useful sources 176 / 296 \r",
      "Matching catalog to image: 292 / 296 :: Useful sources 176 / 296 \r",
      "Matching catalog to image: 293 / 296 :: Useful sources 176 / 296 \r",
      "Matching catalog to image: 294 / 296 :: Useful sources 176 / 296 \r",
      "Matching catalog to image: 295 / 296 :: Useful sources 176 / 296 \r",
      "Matching catalog to image: 296 / 296 :: Useful sources 176 / 296   .. done\n",
      "\n",
      "Broken cutouts: 0\n",
      "Not in correct location: 0\n",
      "Not detected: 106\n",
      "Saturated: 15\n",
      "Error: 0\n",
      "\n",
      "\n",
      "+-------------------------------------------+\n",
      "|Building PSF model using stars in the field|\n",
      "+-------------------------------------------+\n",
      "\n"
     ]
    },
    {
     "name": "stderr",
     "output_type": "stream",
     "text": [
      "Residual table updated: 2 / 10 \n",
      "\tSNR: 739 :: FWHM fitted 4.630\n",
      "Residual table updated: 3 / 10 \n",
      "\tSNR: 596 :: FWHM fitted 4.613\n",
      "Residual table updated: 4 / 10 \n",
      "\tSNR: 572 :: FWHM fitted 4.798\n",
      "Residual table updated: 5 / 10 \n",
      "\tSNR: 567 :: FWHM fitted 4.704\n",
      "Residual table updated: 6 / 10 \n",
      "\tSNR: 540 :: FWHM fitted 4.730\n",
      "Residual table updated: 7 / 10 \n",
      "\tSNR: 505 :: FWHM fitted 4.633\n",
      "Residual table updated: 8 / 10 \n",
      "\tSNR: 472 :: FWHM fitted 4.557\n",
      "Residual table updated: 9 / 10 \n",
      "\tSNR: 470 :: FWHM fitted 4.607\n",
      "Residual table updated: 10 / 10 \n",
      "\tSNR: 426 :: FWHM fitted 4.623\n",
      "\n",
      "PSF built using 10 sources\n",
      "\n",
      "Unity PSF: 27.0 [counts] \n",
      "Unity Residual table: 2.8 [counts] \n",
      "Using Aperture Photometry on sequence Stars \n",
      "No PSF sources fitted\n",
      "WARNING: Input data contains invalid values (NaNs or infs), which were automatically clipped. [astropy.stats.sigma_clipping]\n",
      "Input data contains invalid values (NaNs or infs), which were automatically clipped.\n",
      "\n",
      "Mean i-band zeropoint: 25.672 +/- 0.054 \n",
      "\n"
     ]
    },
    {
     "name": "stdout",
     "output_type": "stream",
     "text": [
      "PSF model saved as: /Users/terwelj/Documents/VirtualMachine/Observing_ING/autophot/test/at2022acsu_REDUCED/r1645975redCCD4/PSF_model_r1645975redCCD4_APT.fits\n",
      "\n",
      "+-------------------+\n",
      "|Measuring PSF model|\n",
      "+-------------------+\n",
      "\n",
      "\n",
      "+-----------------------+\n",
      "|Finding Zeropoint value|\n",
      "+-----------------------+\n",
      "\n",
      "Checking for suitable catalog sources\n",
      "Removed 148 sources lower than SNR of 25.0\n"
     ]
    },
    {
     "name": "stderr",
     "output_type": "stream",
     "text": [
      "/opt/anaconda3/envs/autophot/lib/python3.7/site-packages/matplotlib/backends/backend_pdf.py:1649: DeprecationWarning: NONE is deprecated and will be removed in Pillow 10 (2023-07-01). Use Resampling.NEAREST or Dither.NONE instead.\n",
      "  img = img.convert(mode='P', dither=Image.NONE,\n",
      "/opt/anaconda3/envs/autophot/lib/python3.7/site-packages/matplotlib/backends/backend_pdf.py:1650: DeprecationWarning: ADAPTIVE is deprecated and will be removed in Pillow 10 (2023-07-01). Use Palette.ADAPTIVE instead.\n",
      "  palette=Image.ADAPTIVE, colors=num_colors)\n",
      "Approx. catalog limiting magnitude: 19.279 [ mag ]\n",
      "Target photometry on original image\n"
     ]
    },
    {
     "name": "stdout",
     "output_type": "stream",
     "text": [
      "\n",
      "+-----------------------------------+\n",
      "|Doing Aperture Photometry on Target|\n",
      "+-----------------------------------+\n",
      "\n"
     ]
    },
    {
     "name": "stderr",
     "output_type": "stream",
     "text": [
      "/opt/anaconda3/envs/autophot/lib/python3.7/site-packages/matplotlib/backends/backend_pdf.py:1649: DeprecationWarning: NONE is deprecated and will be removed in Pillow 10 (2023-07-01). Use Resampling.NEAREST or Dither.NONE instead.\n",
      "  img = img.convert(mode='P', dither=Image.NONE,\n",
      "/opt/anaconda3/envs/autophot/lib/python3.7/site-packages/matplotlib/backends/backend_pdf.py:1650: DeprecationWarning: ADAPTIVE is deprecated and will be removed in Pillow 10 (2023-07-01). Use Palette.ADAPTIVE instead.\n",
      "  palette=Image.ADAPTIVE, colors=num_colors)\n",
      "Approximate Target SNR: 21.4\n",
      "SNR = 21 - skipping limiting magnitude\n",
      "Pixel Offset: 0.000\n",
      "Limiting Magnitude: skipped\n",
      "Target Detection probability: 99 %\n",
      "Target flux: 384.255 +/- 0.000 [counts/s]\n",
      "Noise: 346.539 [counts/s]\n",
      "Target SNR: 21.412 +/- 0.050\n",
      "Instrumental Magnitude: -6.462 +/- 0.000\n",
      "Zeropoint: 25.672 +/- 0.054\n",
      "Target Magnitude: 19.158 +/- 0.074 \n",
      "\n",
      "*** Transient well detected ***\n",
      "\n",
      "Time Taken [ 9729 ]: 56s\n",
      "Sucess: r1645975redCCD4_APT.fits :: PID 9729 \n",
      "\n",
      "File: r1645976redCCD4_APT.fits - PID: 9729\n",
      "Start Time: 2022-12-16 12:16:44.344994\n",
      "Filter keyoward used: WFFBAND\n",
      "Telescope: INT\n",
      "Filter: r\n",
      "MJD: 59926.976\n",
      "Date of Observation : 2022-12-13\n",
      "Read Noise: 5.8 [e^- /pixel]\n",
      "GAIN: 2.9 [e^- /count]\n",
      "Exposure time: 20 [s] \n",
      "Detecting/removing cosmic ray sources\n"
     ]
    },
    {
     "name": "stdout",
     "output_type": "stream",
     "text": [
      "\n",
      "+-----------+\n",
      "|File: 2 / 3|\n",
      "+-----------+\n",
      "\n",
      "Starting Astroscrappy ... "
     ]
    },
    {
     "name": "stderr",
     "output_type": "stream",
     "text": [
      "Contaminated pixels with Cosmic rays removed: 28186\n",
      "Cosmic rays removed - image updated\n",
      "WARNING: FITSFixedWarning: RADECSYS= 'FK5 ' / mean place new (after the 1976 IAU) system \n",
      "the RADECSYS keyword is deprecated, use RADESYSa. [astropy.wcs.wcs]\n",
      "FITSFixedWarning: RADECSYS= 'FK5 ' / mean place new (after the 1976 IAU) system \n",
      "the RADECSYS keyword is deprecated, use RADESYSa.\n",
      "WARNING: FITSFixedWarning: PROJP1 = 1.00000000 / Projection coefficient for primary WCS \n",
      "the PROJPn keyword is deprecated, use PVi_ma. [astropy.wcs.wcs]\n",
      "FITSFixedWarning: PROJP1 = 1.00000000 / Projection coefficient for primary WCS \n",
      "the PROJPn keyword is deprecated, use PVi_ma.\n",
      "WARNING: FITSFixedWarning: PROJP3 = 0.00000000 / Projection coefficient for primary WCS \n",
      "the PROJPn keyword is deprecated, use PVi_ma. [astropy.wcs.wcs]\n",
      "FITSFixedWarning: PROJP3 = 0.00000000 / Projection coefficient for primary WCS \n",
      "the PROJPn keyword is deprecated, use PVi_ma.\n",
      "WARNING: FITSFixedWarning: 'datfix' made the change 'Invalid parameter values: MJD-OBS and DATE-OBS are inconsistent.\n",
      "Changed DATE-OBS from '2022-12-13        ' to '2022-12-13T00:00:00.0''. [astropy.wcs.wcs]\n",
      "FITSFixedWarning: 'datfix' made the change 'Invalid parameter values: MJD-OBS and DATE-OBS are inconsistent.\n",
      "Changed DATE-OBS from '2022-12-13        ' to '2022-12-13T00:00:00.0''.\n",
      "\n",
      "Performing Astrometry.net\n",
      "Removing any pre-existing WCS keys \n",
      "No WCS values found - attempting to solve field\n",
      "ASTROMETRY started...\n",
      "ASTROMETRY finished: 3s\n",
      "Updating WCS keys with new values\n",
      "WCS saved to new file\n",
      "\n",
      "Searching for FWHM\n",
      "Using Gaussian Profile for fitting\n"
     ]
    },
    {
     "name": "stdout",
     "output_type": "stream",
     "text": [
      "\n",
      "+-------------------------------+\n",
      "|Finding Full Width Half Maximum|\n",
      "+-------------------------------+\n",
      "\n"
     ]
    },
    {
     "name": "stderr",
     "output_type": "stream",
     "text": [
      "\n",
      "Number of sources before cleaning [ 25.0 sigma ]: 25 \n",
      "Updating search FWHM value\n"
     ]
    },
    {
     "name": "stdout",
     "output_type": "stream",
     "text": [
      "Updated guess for FWHM: 4.5 pixels \n"
     ]
    },
    {
     "name": "stderr",
     "output_type": "stream",
     "text": [
      "\n",
      "Number of sources before cleaning [ 25.0 sigma ]: 303 \n",
      "Too many sources - increasing threshold\n",
      "\n",
      "Number of sources before cleaning [ 50.0 sigma ]: 286 \n",
      "Removed 223 sources near boundary\n",
      "Removed 6 crowded sources\n"
     ]
    },
    {
     "name": "stdout",
     "output_type": "stream",
     "text": [
      "Fitting source for FWHM: 57/57 "
     ]
    },
    {
     "name": "stderr",
     "output_type": "stream",
     "text": [
      "Removed 4 saturated sources\n",
      "WARNING: Input data contains invalid values (NaNs or infs), which were automatically clipped. [astropy.stats.sigma_clipping]\n",
      "Input data contains invalid values (NaNs or infs), which were automatically clipped.\n",
      "Removed 6 FWHM outliers\n",
      "WARNING: Input data contains invalid values (NaNs or infs), which were automatically clipped. [astropy.stats.sigma_clipping]\n",
      "Input data contains invalid values (NaNs or infs), which were automatically clipped.\n",
      "Removed 19 median outliers\n",
      "Useable sources found [ 50 sigma ]: 57\n",
      "Removes 0 sources within minimum seperation [ 21 pixel ]\n",
      "\n",
      "FWHM: 4.361 +/- 0.142 [ pixels ]\n",
      "\n",
      "Seeing: 1.446 [ arcsec ]\n",
      "Aperture size: 7.4 pixels\n",
      "Aperture correction: -0.046 +/- 0.008 [ mag ]\n"
     ]
    },
    {
     "name": "stdout",
     "output_type": "stream",
     "text": [
      "\n",
      "+---------------------------------------------+\n",
      "|Searching for catalog for target_ra_32_dec_12|\n",
      "+---------------------------------------------+\n",
      "\n"
     ]
    },
    {
     "name": "stderr",
     "output_type": "stream",
     "text": [
      "WARNING: FITSFixedWarning: 'datfix' made the change 'Invalid parameter values: MJD-OBS and DATE-OBS are inconsistent.\n",
      "Changed DATE-OBS from '2022-12-13        ' to '2022-12-13T00:00:00.0''. [astropy.wcs.wcs]\n",
      "FITSFixedWarning: 'datfix' made the change 'Invalid parameter values: MJD-OBS and DATE-OBS are inconsistent.\n",
      "Changed DATE-OBS from '2022-12-13        ' to '2022-12-13T00:00:00.0''.\n",
      "Catalog found for target_ra_32_dec_12\n",
      "Catalog: PAN_STARRS \n",
      "File: target_ra_32_dec_12_r_0.25\n",
      "Catalog length: 9924\n",
      "Removed 2110 sources fainter than cutoff [20 mag]\n",
      "Using Gaussian Profile for fitting\n",
      "Catalog Length: 202\n"
     ]
    },
    {
     "name": "stdout",
     "output_type": "stream",
     "text": [
      "\n",
      "+---------------------------------+\n",
      "|Matching catalog sources to image|\n",
      "+---------------------------------+\n",
      "\n",
      "Removed 2 sources too close to target\n",
      "Removed 316 sources too close to boundary or off image\n",
      "Matching catalog to image: 192 / 202 :: Useful sources 129 / 202 "
     ]
    },
    {
     "name": "stderr",
     "output_type": "stream",
     "text": [
      "\n",
      "Median offset: 2.7 [ pixels ] / 0.9 [ arcsec ]\n",
      "Residual table updated: 1 / 10 \n",
      "\tSNR: 517 :: FWHM fitted 4.413\n",
      "Residual table updated: 2 / 10 \n",
      "\tSNR: 484 :: FWHM fitted 4.306\n"
     ]
    },
    {
     "name": "stdout",
     "output_type": "stream",
     "text": [
      "\r",
      "Matching catalog to image: 193 / 202 :: Useful sources 130 / 202 \r",
      "Matching catalog to image: 194 / 202 :: Useful sources 131 / 202 \r",
      "Matching catalog to image: 195 / 202 :: Useful sources 131 / 202 \r",
      "Matching catalog to image: 196 / 202 :: Useful sources 131 / 202 \r",
      "Matching catalog to image: 197 / 202 :: Useful sources 131 / 202 \r",
      "Matching catalog to image: 198 / 202 :: Useful sources 131 / 202 \r",
      "Matching catalog to image: 199 / 202 :: Useful sources 131 / 202 \r",
      "Matching catalog to image: 200 / 202 :: Useful sources 131 / 202 \r",
      "Matching catalog to image: 201 / 202 :: Useful sources 131 / 202 \r",
      "Matching catalog to image: 202 / 202 :: Useful sources 131 / 202   .. done\n",
      "\n",
      "Broken cutouts: 0\n",
      "Not in correct location: 0\n",
      "Not detected: 59\n",
      "Saturated: 13\n",
      "Error: 0\n",
      "\n",
      "\n",
      "+-------------------------------------------+\n",
      "|Building PSF model using stars in the field|\n",
      "+-------------------------------------------+\n",
      "\n"
     ]
    },
    {
     "name": "stderr",
     "output_type": "stream",
     "text": [
      "Residual table updated: 3 / 10 \n",
      "\tSNR: 448 :: FWHM fitted 4.422\n",
      "Residual table updated: 4 / 10 \n",
      "\tSNR: 442 :: FWHM fitted 4.341\n",
      "Residual table updated: 5 / 10 \n",
      "\tSNR: 428 :: FWHM fitted 4.248\n",
      "Residual table updated: 6 / 10 \n",
      "\tSNR: 367 :: FWHM fitted 4.340\n",
      "Residual table updated: 7 / 10 \n",
      "\tSNR: 320 :: FWHM fitted 4.432\n",
      "Residual table updated: 8 / 10 \n",
      "\tSNR: 285 :: FWHM fitted 4.240\n",
      "Residual table updated: 9 / 10 \n",
      "\tSNR: 272 :: FWHM fitted 4.489\n",
      "Residual table updated: 10 / 10 \n",
      "\tSNR: 243 :: FWHM fitted 4.315\n",
      "\n",
      "PSF built using 10 sources\n",
      "\n",
      "Unity PSF: 23.5 [counts] \n",
      "Unity Residual table: 1.9 [counts] \n",
      "Using Aperture Photometry on sequence Stars \n",
      "No PSF sources fitted\n",
      "WARNING: Input data contains invalid values (NaNs or infs), which were automatically clipped. [astropy.stats.sigma_clipping]\n",
      "Input data contains invalid values (NaNs or infs), which were automatically clipped.\n",
      "\n",
      "Mean r-band zeropoint: 26.009 +/- 0.037 \n",
      "\n"
     ]
    },
    {
     "name": "stdout",
     "output_type": "stream",
     "text": [
      "PSF model saved as: /Users/terwelj/Documents/VirtualMachine/Observing_ING/autophot/test/at2022acsu_REDUCED/r1645976redCCD4/PSF_model_r1645976redCCD4_APT.fits\n",
      "\n",
      "+-------------------+\n",
      "|Measuring PSF model|\n",
      "+-------------------+\n",
      "\n",
      "\n",
      "+-----------------------+\n",
      "|Finding Zeropoint value|\n",
      "+-----------------------+\n",
      "\n",
      "Checking for suitable catalog sources\n",
      "Removed 108 sources lower than SNR of 25.0\n"
     ]
    },
    {
     "name": "stderr",
     "output_type": "stream",
     "text": [
      "/opt/anaconda3/envs/autophot/lib/python3.7/site-packages/matplotlib/backends/backend_pdf.py:1649: DeprecationWarning: NONE is deprecated and will be removed in Pillow 10 (2023-07-01). Use Resampling.NEAREST or Dither.NONE instead.\n",
      "  img = img.convert(mode='P', dither=Image.NONE,\n",
      "/opt/anaconda3/envs/autophot/lib/python3.7/site-packages/matplotlib/backends/backend_pdf.py:1650: DeprecationWarning: ADAPTIVE is deprecated and will be removed in Pillow 10 (2023-07-01). Use Palette.ADAPTIVE instead.\n",
      "  palette=Image.ADAPTIVE, colors=num_colors)\n",
      "Approx. catalog limiting magnitude: 19.522 [ mag ]\n",
      "Target photometry on original image\n"
     ]
    },
    {
     "name": "stdout",
     "output_type": "stream",
     "text": [
      "\n",
      "+-----------------------------------+\n",
      "|Doing Aperture Photometry on Target|\n",
      "+-----------------------------------+\n",
      "\n"
     ]
    },
    {
     "name": "stderr",
     "output_type": "stream",
     "text": [
      "/opt/anaconda3/envs/autophot/lib/python3.7/site-packages/matplotlib/backends/backend_pdf.py:1649: DeprecationWarning: NONE is deprecated and will be removed in Pillow 10 (2023-07-01). Use Resampling.NEAREST or Dither.NONE instead.\n",
      "  img = img.convert(mode='P', dither=Image.NONE,\n",
      "/opt/anaconda3/envs/autophot/lib/python3.7/site-packages/matplotlib/backends/backend_pdf.py:1650: DeprecationWarning: ADAPTIVE is deprecated and will be removed in Pillow 10 (2023-07-01). Use Palette.ADAPTIVE instead.\n",
      "  palette=Image.ADAPTIVE, colors=num_colors)\n",
      "Approximate Target SNR: 24.7\n",
      "SNR = 25 - skipping limiting magnitude\n",
      "Pixel Offset: 0.000\n",
      "Limiting Magnitude: skipped\n",
      "Target Detection probability: 100 %\n",
      "Target flux: 402.527 +/- 0.000 [counts/s]\n",
      "Noise: 290.491 [counts/s]\n",
      "Target SNR: 24.660 +/- 0.043\n",
      "Instrumental Magnitude: -6.512 +/- 0.000\n",
      "Zeropoint: 26.009 +/- 0.037\n",
      "Target Magnitude: 19.451 +/- 0.057 \n",
      "\n",
      "*** Transient well detected ***\n",
      "\n",
      "Time Taken [ 9729 ]: 25s\n",
      "Sucess: r1645976redCCD4_APT.fits :: PID 9729 \n",
      "\n",
      "File: r1645977redCCD4_APT.fits - PID: 9729\n",
      "Start Time: 2022-12-16 12:17:09.739050\n",
      "Filter keyoward used: WFFBAND\n",
      "Telescope: INT\n",
      "Filter: g\n",
      "MJD: 59926.977\n",
      "Date of Observation : 2022-12-13\n",
      "Read Noise: 5.8 [e^- /pixel]\n",
      "GAIN: 2.9 [e^- /count]\n",
      "Exposure time: 20 [s] \n",
      "Detecting/removing cosmic ray sources\n"
     ]
    },
    {
     "name": "stdout",
     "output_type": "stream",
     "text": [
      "\n",
      "+-----------+\n",
      "|File: 3 / 3|\n",
      "+-----------+\n",
      "\n",
      "Starting Astroscrappy ... "
     ]
    },
    {
     "name": "stderr",
     "output_type": "stream",
     "text": [
      "Contaminated pixels with Cosmic rays removed: 28898\n",
      "Cosmic rays removed - image updated\n",
      "WARNING: FITSFixedWarning: RADECSYS= 'FK5 ' / mean place new (after the 1976 IAU) system \n",
      "the RADECSYS keyword is deprecated, use RADESYSa. [astropy.wcs.wcs]\n",
      "FITSFixedWarning: RADECSYS= 'FK5 ' / mean place new (after the 1976 IAU) system \n",
      "the RADECSYS keyword is deprecated, use RADESYSa.\n",
      "WARNING: FITSFixedWarning: PROJP1 = 1.00000000 / Projection coefficient for primary WCS \n",
      "the PROJPn keyword is deprecated, use PVi_ma. [astropy.wcs.wcs]\n",
      "FITSFixedWarning: PROJP1 = 1.00000000 / Projection coefficient for primary WCS \n",
      "the PROJPn keyword is deprecated, use PVi_ma.\n",
      "WARNING: FITSFixedWarning: PROJP3 = 0.00000000 / Projection coefficient for primary WCS \n",
      "the PROJPn keyword is deprecated, use PVi_ma. [astropy.wcs.wcs]\n",
      "FITSFixedWarning: PROJP3 = 0.00000000 / Projection coefficient for primary WCS \n",
      "the PROJPn keyword is deprecated, use PVi_ma.\n",
      "WARNING: FITSFixedWarning: 'datfix' made the change 'Invalid parameter values: MJD-OBS and DATE-OBS are inconsistent.\n",
      "Changed DATE-OBS from '2022-12-13        ' to '2022-12-13T00:00:00.0''. [astropy.wcs.wcs]\n",
      "FITSFixedWarning: 'datfix' made the change 'Invalid parameter values: MJD-OBS and DATE-OBS are inconsistent.\n",
      "Changed DATE-OBS from '2022-12-13        ' to '2022-12-13T00:00:00.0''.\n",
      "\n",
      "Performing Astrometry.net\n",
      "Removing any pre-existing WCS keys \n",
      "No WCS values found - attempting to solve field\n",
      "ASTROMETRY started...\n",
      "ASTROMETRY finished: 3s\n",
      "Updating WCS keys with new values\n",
      "WCS saved to new file\n",
      "\n",
      "Searching for FWHM\n",
      "Using Gaussian Profile for fitting\n"
     ]
    },
    {
     "name": "stdout",
     "output_type": "stream",
     "text": [
      "\n",
      "+-------------------------------+\n",
      "|Finding Full Width Half Maximum|\n",
      "+-------------------------------+\n",
      "\n"
     ]
    },
    {
     "name": "stderr",
     "output_type": "stream",
     "text": [
      "\n",
      "Number of sources before cleaning [ 25.0 sigma ]: 25 \n",
      "Updating search FWHM value\n"
     ]
    },
    {
     "name": "stdout",
     "output_type": "stream",
     "text": [
      "Updated guess for FWHM: 4.6 pixels \n"
     ]
    },
    {
     "name": "stderr",
     "output_type": "stream",
     "text": [
      "\n",
      "Number of sources before cleaning [ 25.0 sigma ]: 330 \n",
      "Too many sources - increasing threshold\n",
      "\n",
      "Number of sources before cleaning [ 50.0 sigma ]: 310 \n",
      "Too many sources - increasing threshold\n",
      "\n",
      "Number of sources before cleaning [ 100.0 sigma ]: 287 \n",
      "Removed 259 sources near boundary\n",
      "Removed 2 crowded sources\n"
     ]
    },
    {
     "name": "stdout",
     "output_type": "stream",
     "text": [
      "Fitting source for FWHM: 26/26 "
     ]
    },
    {
     "name": "stderr",
     "output_type": "stream",
     "text": [
      "Removed 2 saturated sources\n",
      "WARNING: Input data contains invalid values (NaNs or infs), which were automatically clipped. [astropy.stats.sigma_clipping]\n",
      "Input data contains invalid values (NaNs or infs), which were automatically clipped.\n",
      "Removed 2 FWHM outliers\n",
      "WARNING: Input data contains invalid values (NaNs or infs), which were automatically clipped. [astropy.stats.sigma_clipping]\n",
      "Input data contains invalid values (NaNs or infs), which were automatically clipped.\n",
      "Removed 3 median outliers\n",
      "Useable sources found [ 100 sigma ]: 26\n",
      "Removes 0 sources within minimum seperation [ 23 pixel ]\n",
      "\n",
      "FWHM: 4.642 +/- 0.113 [ pixels ]\n",
      "\n",
      "Seeing: 1.539 [ arcsec ]\n",
      "Aperture size: 7.9 pixels\n",
      "Aperture correction: -0.031 +/- 0.005 [ mag ]\n"
     ]
    },
    {
     "name": "stdout",
     "output_type": "stream",
     "text": [
      "\n",
      "+---------------------------------------------+\n",
      "|Searching for catalog for target_ra_32_dec_12|\n",
      "+---------------------------------------------+\n",
      "\n"
     ]
    },
    {
     "name": "stderr",
     "output_type": "stream",
     "text": [
      "WARNING: FITSFixedWarning: 'datfix' made the change 'Invalid parameter values: MJD-OBS and DATE-OBS are inconsistent.\n",
      "Changed DATE-OBS from '2022-12-13        ' to '2022-12-13T00:00:00.0''. [astropy.wcs.wcs]\n",
      "FITSFixedWarning: 'datfix' made the change 'Invalid parameter values: MJD-OBS and DATE-OBS are inconsistent.\n",
      "Changed DATE-OBS from '2022-12-13        ' to '2022-12-13T00:00:00.0''.\n",
      "Catalog found for target_ra_32_dec_12\n",
      "Catalog: PAN_STARRS \n",
      "File: target_ra_32_dec_12_r_0.25\n",
      "Catalog length: 9924\n",
      "Removed 1804 sources fainter than cutoff [20 mag]\n",
      "Using Gaussian Profile for fitting\n",
      "Catalog Length: 144\n"
     ]
    },
    {
     "name": "stdout",
     "output_type": "stream",
     "text": [
      "\n",
      "+---------------------------------+\n",
      "|Matching catalog sources to image|\n",
      "+---------------------------------+\n",
      "\n",
      "Removed 2 sources too close to target\n",
      "Removed 303 sources too close to boundary or off image\n",
      "Matching catalog to image: 136 / 144 :: Useful sources 83 / 144 "
     ]
    },
    {
     "name": "stderr",
     "output_type": "stream",
     "text": [
      "\n",
      "Median offset: 3.4 [ pixels ] / 1.1 [ arcsec ]\n"
     ]
    },
    {
     "name": "stdout",
     "output_type": "stream",
     "text": [
      "\r",
      "Matching catalog to image: 137 / 144 :: Useful sources 84 / 144 \r",
      "Matching catalog to image: 138 / 144 :: Useful sources 84 / 144 \r",
      "Matching catalog to image: 139 / 144 :: Useful sources 84 / 144 \r",
      "Matching catalog to image: 140 / 144 :: Useful sources 85 / 144 \r",
      "Matching catalog to image: 141 / 144 :: Useful sources 85 / 144 \r",
      "Matching catalog to image: 142 / 144 :: Useful sources 86 / 144 \r",
      "Matching catalog to image: 143 / 144 :: Useful sources 86 / 144 \r",
      "Matching catalog to image: 144 / 144 :: Useful sources 87 / 144   .. done\n",
      "\n",
      "Broken cutouts: 0\n",
      "Not in correct location: 0\n",
      "Not detected: 47\n",
      "Saturated: 10\n",
      "Error: 0\n",
      "\n",
      "\n",
      "+-------------------------------------------+\n",
      "|Building PSF model using stars in the field|\n",
      "+-------------------------------------------+\n",
      "\n"
     ]
    },
    {
     "name": "stderr",
     "output_type": "stream",
     "text": [
      "Residual table updated: 1 / 10 \n",
      "\tSNR: 996 :: FWHM fitted 4.730\n",
      "Residual table updated: 2 / 10 \n",
      "\tSNR: 800 :: FWHM fitted 4.488\n",
      "Residual table updated: 3 / 10 \n",
      "\tSNR: 774 :: FWHM fitted 4.752\n",
      "Residual table updated: 4 / 10 \n",
      "\tSNR: 768 :: FWHM fitted 4.591\n",
      "Residual table updated: 5 / 10 \n",
      "\tSNR: 719 :: FWHM fitted 4.603\n",
      "Residual table updated: 6 / 10 \n",
      "\tSNR: 709 :: FWHM fitted 4.783\n",
      "Residual table updated: 7 / 10 \n",
      "\tSNR: 704 :: FWHM fitted 4.496\n",
      "Residual table updated: 8 / 10 \n",
      "\tSNR: 662 :: FWHM fitted 4.625\n",
      "Residual table updated: 9 / 10 \n",
      "\tSNR: 651 :: FWHM fitted 4.672\n",
      "Residual table updated: 10 / 10 \n",
      "\tSNR: 543 :: FWHM fitted 4.474\n",
      "\n",
      "PSF built using 10 sources\n",
      "\n",
      "Unity PSF: 25.9 [counts] \n",
      "Unity Residual table: 1.2 [counts] \n",
      "Using Aperture Photometry on sequence Stars \n",
      "No PSF sources fitted\n",
      "WARNING: Input data contains invalid values (NaNs or infs), which were automatically clipped. [astropy.stats.sigma_clipping]\n",
      "Input data contains invalid values (NaNs or infs), which were automatically clipped.\n",
      "\n",
      "Mean g-band zeropoint: 26.196 +/- 0.036 \n",
      "\n"
     ]
    },
    {
     "name": "stdout",
     "output_type": "stream",
     "text": [
      "PSF model saved as: /Users/terwelj/Documents/VirtualMachine/Observing_ING/autophot/test/at2022acsu_REDUCED/r1645977redCCD4/PSF_model_r1645977redCCD4_APT.fits\n",
      "\n",
      "+-------------------+\n",
      "|Measuring PSF model|\n",
      "+-------------------+\n",
      "\n",
      "\n",
      "+-----------------------+\n",
      "|Finding Zeropoint value|\n",
      "+-----------------------+\n",
      "\n",
      "Checking for suitable catalog sources\n",
      "Removed 82 sources lower than SNR of 25.0\n"
     ]
    },
    {
     "name": "stderr",
     "output_type": "stream",
     "text": [
      "/opt/anaconda3/envs/autophot/lib/python3.7/site-packages/matplotlib/backends/backend_pdf.py:1649: DeprecationWarning: NONE is deprecated and will be removed in Pillow 10 (2023-07-01). Use Resampling.NEAREST or Dither.NONE instead.\n",
      "  img = img.convert(mode='P', dither=Image.NONE,\n",
      "/opt/anaconda3/envs/autophot/lib/python3.7/site-packages/matplotlib/backends/backend_pdf.py:1650: DeprecationWarning: ADAPTIVE is deprecated and will be removed in Pillow 10 (2023-07-01). Use Palette.ADAPTIVE instead.\n",
      "  palette=Image.ADAPTIVE, colors=num_colors)\n",
      "Approx. catalog limiting magnitude: 19.748 [ mag ]\n",
      "Target photometry on original image\n"
     ]
    },
    {
     "name": "stdout",
     "output_type": "stream",
     "text": [
      "\n",
      "+-----------------------------------+\n",
      "|Doing Aperture Photometry on Target|\n",
      "+-----------------------------------+\n",
      "\n"
     ]
    },
    {
     "name": "stderr",
     "output_type": "stream",
     "text": [
      "/opt/anaconda3/envs/autophot/lib/python3.7/site-packages/matplotlib/backends/backend_pdf.py:1649: DeprecationWarning: NONE is deprecated and will be removed in Pillow 10 (2023-07-01). Use Resampling.NEAREST or Dither.NONE instead.\n",
      "  img = img.convert(mode='P', dither=Image.NONE,\n",
      "/opt/anaconda3/envs/autophot/lib/python3.7/site-packages/matplotlib/backends/backend_pdf.py:1650: DeprecationWarning: ADAPTIVE is deprecated and will be removed in Pillow 10 (2023-07-01). Use Palette.ADAPTIVE instead.\n",
      "  palette=Image.ADAPTIVE, colors=num_colors)\n",
      "Approximate Target SNR: 33.7\n",
      "SNR = 34 - skipping limiting magnitude\n",
      "Pixel Offset: 0.000\n",
      "Limiting Magnitude: skipped\n",
      "Target Detection probability: 100 %\n",
      "Target flux: 539.320 +/- 0.000 [counts/s]\n",
      "Noise: 319.222 [counts/s]\n",
      "Target SNR: 33.685 +/- 0.032\n",
      "Instrumental Magnitude: -6.830 +/- 0.000\n",
      "Zeropoint: 26.196 +/- 0.036\n",
      "Target Magnitude: 19.336 +/- 0.049 \n",
      "\n",
      "*** Transient well detected ***\n",
      "\n",
      "Time Taken [ 9729 ]: 25s\n",
      "Sucess: r1645977redCCD4_APT.fits :: PID 9729 \n",
      "\n"
     ]
    },
    {
     "name": "stdout",
     "output_type": "stream",
     "text": [
      "\n",
      "---\n",
      "\n",
      "Files that failed : []\n",
      "\n",
      "DONE\n",
      "\n",
      "Done - Time Taken: 107.2\n"
     ]
    }
   ],
   "source": [
    "#Sometimes, have to try pan_starrs if sdss doesn't work\n",
    "\n",
    "autophot_input['fits_dir'] = dirpath + '/test/at2022acsu'\n",
    "\n",
    "autophot_input['target_ra'] = 32.42648\n",
    "autophot_input['target_dec'] = 11.89660\n",
    "\n",
    "autophot_input['catalog']['use_catalog'] = 'pan_starrs'\n",
    "\n",
    "run_automatic_autophot(autophot_input)"
   ]
  },
  {
   "cell_type": "code",
   "execution_count": 49,
   "id": "c0aa4d52",
   "metadata": {
    "scrolled": false
   },
   "outputs": [
    {
     "name": "stdout",
     "output_type": "stream",
     "text": [
      "AT2022acuo\n",
      "/Users/terwelj/Documents/VirtualMachine/Observing_ING/autophot/test/at2022acuo_REDUCED/r1645961redCCD4/r1645961redCCD4_APT.fits 59926.9552471 11.372783295029471 nan nan [19.89578891] 0.1820790898793105 nan nan\n",
      " \n",
      "/Users/terwelj/Documents/VirtualMachine/Observing_ING/autophot/test/at2022acuo_REDUCED/r1645962redCCD4/r1645962redCCD4_APT.fits 59926.9563929 14.6194235934831 [20.29192568] 0.1620583365815152 nan nan nan nan\n",
      " \n",
      "/Users/terwelj/Documents/VirtualMachine/Observing_ING/autophot/test/at2022acuo_REDUCED/r1645960redCCD4/r1645960redCCD4_APT.fits 59926.9539624 6.39319079448313 nan nan nan nan [20.13668396] 0.1655213604846829\n",
      " \n",
      "/Users/terwelj/Documents/VirtualMachine/Observing_ING/autophot/test/at2022acuo_REDUCED/r1645961redCCD4/r1645961redCCD4_APT.fits 59926.9552471 15.26881619210948 nan nan [19.56990435] 0.079189640100986 nan nan\n",
      " \n",
      "/Users/terwelj/Documents/VirtualMachine/Observing_ING/autophot/test/at2022acuo_REDUCED/r1645962redCCD4/r1645962redCCD4_APT.fits 59926.9563929 12.317215106045348 [20.39018562] 0.0902775050566738 nan nan nan nan\n",
      " \n",
      "----------\n",
      "AT2022acsd\n",
      "/Users/terwelj/Documents/VirtualMachine/Observing_ING/autophot/test/at2022acsd_REDUCED/r1645965redCCD4/r1645965redCCD4_APT.fits 59926.9600272 15.190409319521212 nan nan nan nan [19.33111445] 0.1542257050587603\n",
      " \n",
      "/Users/terwelj/Documents/VirtualMachine/Observing_ING/autophot/test/at2022acsd_REDUCED/r1645963redCCD4/r1645963redCCD4_APT.fits 59926.9577934 41.031400663993416 [19.04007152] 0.0592047621536603 nan nan nan nan\n",
      " \n",
      "/Users/terwelj/Documents/VirtualMachine/Observing_ING/autophot/test/at2022acsd_REDUCED/r1645964redCCD4/r1645964redCCD4_APT.fits 59926.9588582 28.875605043976115 nan nan [18.95212619] 0.0865882373662189 nan nan\n",
      " \n",
      "/Users/terwelj/Documents/VirtualMachine/Observing_ING/autophot/test/at2022acsd_REDUCED/r1645965redCCD4/r1645965redCCD4_APT.fits 59926.9600272 16.29952824037912 nan nan nan nan [19.27230353] 0.0803099962026876\n",
      " \n",
      "/Users/terwelj/Documents/VirtualMachine/Observing_ING/autophot/test/at2022acsd_REDUCED/r1645963redCCD4/r1645963redCCD4_APT.fits 59926.9577934 42.26555362029696 [18.91631826] 0.0427111323679461 nan nan nan nan\n",
      " \n",
      "/Users/terwelj/Documents/VirtualMachine/Observing_ING/autophot/test/at2022acsd_REDUCED/r1645964redCCD4/r1645964redCCD4_APT.fits 59926.9588582 31.904647449501727 nan nan [18.83793685] 0.0441642190707938 nan nan\n",
      " \n",
      "----------\n",
      "AT2022acsf\n",
      "/Users/terwelj/Documents/VirtualMachine/Observing_ING/autophot/test/at2022acsf_REDUCED/r1645966redCCD4/r1645966redCCD4_APT.fits 59926.9621684 40.794475336520286 nan nan nan nan [18.44785183] 0.0617026472723067\n",
      " \n",
      "/Users/terwelj/Documents/VirtualMachine/Observing_ING/autophot/test/at2022acsf_REDUCED/r1645968redCCD4/r1645968redCCD4_APT.fits 59926.9643443 76.27003076479845 [18.14575256] 0.0392332771958124 nan nan nan nan\n",
      " \n",
      "/Users/terwelj/Documents/VirtualMachine/Observing_ING/autophot/test/at2022acsf_REDUCED/r1645967redCCD4/r1645967redCCD4_APT.fits 59926.9633258 63.21147601934281 nan nan [18.28476268] 0.0438283666723067 nan nan\n",
      " \n",
      "----------\n",
      "AT2022acru\n",
      "/Users/terwelj/Documents/VirtualMachine/Observing_ING/autophot/test/at2022acru_REDUCED/r1645969redCCD4/r1645969redCCD4_APT.fits 59926.9659531 98.8918732775762 [17.90497483] 0.0293200902340806 nan nan nan nan\n",
      " \n",
      "/Users/terwelj/Documents/VirtualMachine/Observing_ING/autophot/test/at2022acru_REDUCED/r1645970redCCD4/r1645970redCCD4_APT.fits 59926.967423 32.5643595378846 nan nan nan nan [18.4514172] 0.0636883740678855\n",
      " \n",
      "/Users/terwelj/Documents/VirtualMachine/Observing_ING/autophot/test/at2022acru_REDUCED/r1645971redCCD4/r1645971redCCD4_APT.fits 59926.968592 76.33133991777954 nan nan [18.03104954] 0.0366839234920838 nan nan\n",
      " \n",
      "----------\n",
      "AT2022acpz\n",
      "/Users/terwelj/Documents/VirtualMachine/Observing_ING/autophot/test/at2022acpz_REDUCED/r1645973redCCD4/r1645973redCCD4_APT.fits 59926.971335 34.498860017964724 [19.16390964] 0.0407905484078612 nan nan nan nan\n",
      " \n",
      "/Users/terwelj/Documents/VirtualMachine/Observing_ING/autophot/test/at2022acpz_REDUCED/r1645974redCCD4/r1645974redCCD4_APT.fits 59926.9725388 11.474452445769884 nan nan nan nan [19.64218997] 0.1692440689286253\n",
      " \n",
      "/Users/terwelj/Documents/VirtualMachine/Observing_ING/autophot/test/at2022acpz_REDUCED/r1645972redCCD4/r1645972redCCD4_APT.fits 59926.9700619 23.292189018138355 nan nan [19.17322181] 0.0568207807926981 nan nan\n",
      " \n",
      "/Users/terwelj/Documents/VirtualMachine/Observing_ING/autophot/test/at2022acpz_REDUCED/r1645973redCCD4/r1645973redCCD4_APT.fits 59926.971335 34.498860017964724 [19.16390974] 0.0407758171155983 nan nan nan nan\n",
      " \n",
      "/Users/terwelj/Documents/VirtualMachine/Observing_ING/autophot/test/at2022acpz_REDUCED/r1645974redCCD4/r1645974redCCD4_APT.fits 59926.9725388 13.99013660317469 nan nan nan nan [19.40816883] 0.0861338469870297\n",
      " \n",
      "/Users/terwelj/Documents/VirtualMachine/Observing_ING/autophot/test/at2022acpz_REDUCED/r1645972redCCD4/r1645972redCCD4_APT.fits 59926.9700619 23.689662005768923 nan nan [19.16250571] 0.0552117824314791 nan nan\n",
      " \n",
      "----------\n",
      "AT2022acsu\n",
      "/Users/terwelj/Documents/VirtualMachine/Observing_ING/autophot/test/at2022acsu_REDUCED/r1645975redCCD4/r1645975redCCD4_APT.fits 59926.9741823 21.412287782743945 nan nan nan nan [19.15820681] 0.0739016687213917\n",
      " \n",
      "/Users/terwelj/Documents/VirtualMachine/Observing_ING/autophot/test/at2022acsu_REDUCED/r1645976redCCD4/r1645976redCCD4_APT.fits 59926.9758142 24.66009213722082 nan nan [19.45076273] 0.0573467035787702 nan nan\n",
      " \n",
      "/Users/terwelj/Documents/VirtualMachine/Observing_ING/autophot/test/at2022acsu_REDUCED/r1645977redCCD4/r1645977redCCD4_APT.fits 59926.9769137 33.685169680913496 [19.33557898] 0.0486232701709515 nan nan nan nan\n",
      " \n",
      "----------\n"
     ]
    }
   ],
   "source": [
    "#Show all results\n",
    "for j in ['uo', 'sd', 'sf', 'ru', 'pz', 'su']:\n",
    "    try:\n",
    "        result = pd.read_csv(dirpath+f'/test/at2022ac{j}_REDUCED/REDUCED.csv')\n",
    "        print (f'AT2022ac{j}')\n",
    "        for i in range(len(result)):\n",
    "            print(result.fname[i], result.mjd[i], result.SNR[i], result.g[i], result.g_err[i],\n",
    "                  result.r[i], result.r_err[i], result.i[i], result.i_err[i])\n",
    "            print(' ')\n",
    "        print('----------')\n",
    "    except:\n",
    "        print(f'AT2022ac{j} failed')"
   ]
  },
  {
   "cell_type": "code",
   "execution_count": 2,
   "id": "09d03b40",
   "metadata": {},
   "outputs": [],
   "source": [
    "#This seems to work properly now\n",
    "#Always use apeture photometry?\n",
    "#Can use cat_ra & dec for auto target locating?\n",
    "#Can use object/obstype in header to differentiate between bias, dome & sky flats, target\n",
    "#Gain & noise in im headers aren't always the same as from the QC, ask Ovidiu about this\n",
    "#(Do I need to update them?)\n",
    "#Seems like INT/WFC isn't on Fritz yet, ask how to get it there,\n",
    "#and get back on the LT INT WHT location issue\n",
    "\n",
    "#Next steps:\n",
    "#1) Figure out how to best report values\n",
    "#2) Do the same for the November observations\n",
    "#3) Make some sort of notebook, script that does this automatically on its own\n",
    "#   (May need to give in target locations) & sort the results based on actual names"
   ]
  }
 ],
 "metadata": {
  "kernelspec": {
   "display_name": "Python 3 (ipykernel)",
   "language": "python",
   "name": "python3"
  },
  "language_info": {
   "codemirror_mode": {
    "name": "ipython",
    "version": 3
   },
   "file_extension": ".py",
   "mimetype": "text/x-python",
   "name": "python",
   "nbconvert_exporter": "python",
   "pygments_lexer": "ipython3",
   "version": "3.7.15"
  }
 },
 "nbformat": 4,
 "nbformat_minor": 5
}
